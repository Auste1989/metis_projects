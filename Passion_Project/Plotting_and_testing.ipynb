{
 "cells": [
  {
   "cell_type": "markdown",
   "metadata": {},
   "source": [
    "## First try at getting some data"
   ]
  },
  {
   "cell_type": "code",
   "execution_count": 1,
   "metadata": {
    "ExecuteTime": {
     "end_time": "2018-09-14T01:08:21.483353Z",
     "start_time": "2018-09-14T01:08:21.474092Z"
    }
   },
   "outputs": [
    {
     "data": {
      "text/html": [
       "<style>.container { width:95% !important; }</style>"
      ],
      "text/plain": [
       "<IPython.core.display.HTML object>"
      ]
     },
     "metadata": {},
     "output_type": "display_data"
    }
   ],
   "source": [
    "from IPython.core.display import display, HTML\n",
    "display(HTML(\"<style>.container { width:95% !important; }</style>\"))"
   ]
  },
  {
   "cell_type": "code",
   "execution_count": null,
   "metadata": {
    "ExecuteTime": {
     "end_time": "2018-09-14T20:28:44.945293Z",
     "start_time": "2018-09-14T20:28:18.598Z"
    }
   },
   "outputs": [],
   "source": [
    "#Essentials\n",
    "import numpy as np\n",
    "import pandas as pd\n",
    "import pickle\n",
    "import re\n",
    "import datetime as dt\n",
    "import time as t\n",
    "from termcolor import colored\n",
    "\n",
    "#API imports\n",
    "from sodapy import Socrata\n",
    "\n",
    "#SQL related\n",
    "import psycopg2\n",
    "import sqlite3\n",
    "from sqlalchemy import create_engine\n",
    "import pandas.io.sql as pd_sql\n",
    "\n",
    "#Visualization\n",
    "import matplotlib.pyplot as plt\n",
    "import matplotlib\n",
    "import seaborn as sns\n",
    "from  statsmodels.graphics.tsaplots import plot_acf, plot_pacf\n",
    "\n",
    "#Time series\n",
    "# from fbprophet import Prophet\n",
    "\n",
    "#Regression imports\n",
    "from sklearn.preprocessing import StandardScaler\n",
    "from statsmodels.tsa.stattools import adfuller\n",
    "from sklearn.linear_model import LinearRegression, Ridge, Lasso\n",
    "from sklearn.ensemble import GradientBoostingRegressor, RandomForestRegressor\n",
    "import xgboost as xgb\n",
    "from sklearn.model_selection import GridSearchCV\n",
    "from sklearn import feature_selection as f_select\n",
    "from sklearn.model_selection import cross_val_score\n",
    "from sklearn.model_selection import KFold\n",
    "from sklearn import metrics\n",
    "from sklearn.metrics import mean_squared_error\n",
    "from sklearn.model_selection import learning_curve\n",
    "\n",
    "\n",
    "#Nice to have\n",
    "from sklearn.pipeline import make_pipeline\n",
    "\n",
    "#Geography magic\n",
    "import geocoder\n",
    "import googlemaps\n",
    "import geopy.distance as gd\n",
    "import geopandas as gpd\n",
    "import shapely\n",
    "from shapely.geometry import Point\n",
    "import fiona\n",
    "import pysal as ps\n",
    "from pysal.contrib.viz import mapping as maps\n",
    "# import contextily as ctx\n",
    "\n",
    "%matplotlib inline\n",
    "from matplotlib.pylab import rcParams\n",
    "rcParams['figure.figsize'] = 25, 6\n",
    "rcParams.update({'font.size': 14})"
   ]
  },
  {
   "cell_type": "markdown",
   "metadata": {},
   "source": [
    "### Load all the data into an SQL database"
   ]
  },
  {
   "cell_type": "code",
   "execution_count": 3,
   "metadata": {
    "ExecuteTime": {
     "end_time": "2018-09-14T01:08:24.287186Z",
     "start_time": "2018-09-14T01:08:24.280479Z"
    }
   },
   "outputs": [],
   "source": [
    "# Set up the database connection\n",
    "conn = psycopg2.connect(dbname=\"taxi_rides_db\", user=\"auste_m\")"
   ]
  },
  {
   "cell_type": "code",
   "execution_count": 4,
   "metadata": {
    "ExecuteTime": {
     "end_time": "2018-09-14T01:08:24.292320Z",
     "start_time": "2018-09-14T01:08:24.288772Z"
    }
   },
   "outputs": [],
   "source": [
    "# CREATE TABLE taxi_rides_clean (\n",
    "#                             trip_id TEXT, \n",
    "#                             taxi_id TEXT, \n",
    "#                             trip_start_timestamp TIMESTAMP,\n",
    "#                             trip_end_timestamp TIMESTAMP,\n",
    "#                             trip_seconds INT,\n",
    "#                             trip_miles FLOAT,\n",
    "#                             pickup_census_tract TEXT,\n",
    "#                             pickup_community_area TEXT,\n",
    "#                             dropoff_census_tract TEXT,\n",
    "#                             dropoff_community_area TEXT,\n",
    "#                             fare FLOAT,\n",
    "#                             tips FLOAT,\n",
    "#                             tolls FLOAT,\n",
    "#                             extras FLOAT,\n",
    "#                             trip_total FLOAT,\n",
    "#                             payment_type TEXT,\n",
    "#                             company TEXT,\n",
    "#                             pickup_centroid_latitude FLOAT,\n",
    "#                             pickup_centroid_longitude FLOAT,\n",
    "#                             pickup_centroid_location TEXT,\n",
    "#                             dropoff_centroid_latitude FLOAT,\n",
    "#                             dropoff_centroid_longitude FLOAT,\n",
    "#                             dropoff_centroid_location TEXT\n",
    "#                         );"
   ]
  },
  {
   "cell_type": "code",
   "execution_count": 5,
   "metadata": {
    "ExecuteTime": {
     "end_time": "2018-09-14T01:08:24.297457Z",
     "start_time": "2018-09-14T01:08:24.294707Z"
    }
   },
   "outputs": [],
   "source": [
    "# COPY taxi_rides from '/home/ubuntu/Passion_Project/Taxi_Trips.csv' DELIMITER ',' CSV HEADER;\n",
    "# COPY taxi_rides from '/home/ubuntu/Passion_Project/Taxi_Trips_2016.csv' DELIMITER ',' CSV HEADER;\n",
    "# COPY taxi_rides from '/home/ubuntu/Passion_Project/Taxi_Trips_2015.csv' DELIMITER ',' CSV HEADER;"
   ]
  },
  {
   "cell_type": "code",
   "execution_count": 6,
   "metadata": {
    "ExecuteTime": {
     "end_time": "2018-09-14T01:08:24.302323Z",
     "start_time": "2018-09-14T01:08:24.299386Z"
    }
   },
   "outputs": [],
   "source": [
    "# CREATE TABLE chicago_weather(\n",
    "#                                 station TEXT,\n",
    "#                                 name TEXT, \n",
    "#                                 latitude FLOAT,\n",
    "#                                 longitude FLOAT,\n",
    "#                                 elevation FLOAT,\n",
    "#                                 date TIMESTAMP, \n",
    "#                                 avg_daily_wind_speed FLOAT,\n",
    "#                                 peak_gust_time FLOAT,\n",
    "#                                 precipitation_mm FLOAT,\n",
    "#                                 snowfall_mm FLOAT,\n",
    "#                                 snowdepth_mm FLOAT,\n",
    "#                                 avg_temp_f INT,\n",
    "#                                 fog INT,\n",
    "#                                 heavy_fog INT,\n",
    "#                                 thunder INT,\n",
    "#                                 sleet INT,\n",
    "#                                 hail INT, \n",
    "#                                 glaze INT,\n",
    "#                                 smoke INT,\n",
    "#                                 drifting_snow INT, \n",
    "#                                 mist INT,\n",
    "#                                 drizzle INT,\n",
    "#                                 rain INT,\n",
    "#                                 freezing_rain INT,\n",
    "#                                 snow INT,\n",
    "#                                 unkwn_precipitation INT,\n",
    "#                                 ice_fog INT\n",
    "#                                  );"
   ]
  },
  {
   "cell_type": "code",
   "execution_count": 7,
   "metadata": {
    "ExecuteTime": {
     "end_time": "2018-09-14T01:08:24.306509Z",
     "start_time": "2018-09-14T01:08:24.304160Z"
    }
   },
   "outputs": [],
   "source": [
    "# COPY chicago_weather FROM '/home/ubuntu/Chicago_Historical_Weather_Dataset.csv' DELIMITER ',' CSV HEADER;"
   ]
  },
  {
   "cell_type": "code",
   "execution_count": 8,
   "metadata": {
    "ExecuteTime": {
     "end_time": "2018-09-14T01:08:24.314048Z",
     "start_time": "2018-09-14T01:08:24.308886Z"
    }
   },
   "outputs": [],
   "source": [
    "# taxi_rides_query = \"\"\"SELECT * FROM taxi_rides WHERE trip_start_timestamp BETWEEN '2016-02-01' AND '2016-02-15';\"\"\" \n",
    "# weather_query = \"\"\"SELECT * FROM chicago_weather WHERE date BETWEEN '2016-02-01' AND '2016-02-15';\"\"\"\n",
    "\n",
    "taxi_weather_query = \"\"\"SELECT TR.trip_start_timestamp,\n",
    "                                TR.trip_end_timestamp,\n",
    "                                TR.trip_seconds,\n",
    "                                TR.trip_miles,\n",
    "                                --TR.pickup_community_area,\n",
    "                                --TR.dropoff_community_area,\n",
    "                                --TR.fare,\n",
    "                                --TR.tolls,\n",
    "                                CASE WHEN TR.tolls IS NULL THEN TR.fare ELSE TR.fare + TR.tolls END as fare_with_tolls,\n",
    "                                --TR.tips,\n",
    "                                --TR.trip_total,\n",
    "                                TR.payment_type,\n",
    "                                TR.pickup_centroid_latitude,\n",
    "                                TR.pickup_centroid_longitude,\n",
    "                                TR.pickup_centroid_location,\n",
    "                                TR.dropoff_centroid_latitude,\n",
    "                                TR.dropoff_centroid_longitude,\n",
    "                                TR.dropoff_centroid_location,\n",
    "                                CW.avg_daily_wind_speed,\n",
    "                                CW.avg_temp_f,\n",
    "                                CASE WHEN CW.fog = 1 OR CW.heavy_fog = 1 OR ice_fog = 1 OR mist = 1 THEN 1 ELSE 0 END as fog,\n",
    "                                CASE WHEN CW.rain = 1 OR CW.drizzle = 1 OR CW.hail = 1 THEN 1 ELSE 0 END as rain,\n",
    "                                CASE WHEN CW.snow = 1 OR CW.freezing_rain = 1 OR drifting_snow = 1 THEN 1 ELSE 0 END as snow\n",
    "                                \n",
    "                        FROM taxi_rides_clean as TR\n",
    "                        LEFT JOIN chicago_weather as CW\n",
    "                        ON CAST(TR.trip_start_timestamp AS DATE) = CAST(date AS DATE)\n",
    "                        WHERE trip_start_timestamp BETWEEN '2016-01-01' AND '2016-02-28';\"\"\" #'2017-07-31'"
   ]
  },
  {
   "cell_type": "code",
   "execution_count": 9,
   "metadata": {
    "ExecuteTime": {
     "end_time": "2018-09-14T01:08:24.317874Z",
     "start_time": "2018-09-14T01:08:24.315779Z"
    }
   },
   "outputs": [],
   "source": [
    "#Read in Chicago city community area shapefile\n",
    "# chicago_community_areas = gpd.read_file(\"./datasets/Chicago_Community_Areas/geo_export_4c20eda0-2d92-4a1d-8513-878eb3e095a3.shp\")"
   ]
  },
  {
   "cell_type": "code",
   "execution_count": 11,
   "metadata": {
    "ExecuteTime": {
     "end_time": "2018-09-14T05:02:33.835336Z",
     "start_time": "2018-09-14T04:53:16.594703Z"
    },
    "scrolled": false
   },
   "outputs": [],
   "source": [
    "#approx. 30min to load the whole of 2016 data\n",
    "sql_load = pd.read_sql_query(taxi_weather_query, con=conn)"
   ]
  },
  {
   "cell_type": "code",
   "execution_count": 12,
   "metadata": {
    "ExecuteTime": {
     "end_time": "2018-09-14T05:02:34.178051Z",
     "start_time": "2018-09-14T05:02:34.170825Z"
    }
   },
   "outputs": [],
   "source": [
    "taxi_weather_df = sql_load\n",
    "# taxi_weather_df = sql_load[sql_load['trip_start_timestamp'] <= '2016-12-31 23:59:59']\n",
    "# test_set_jan = sql_load[(sql_load['trip_start_timestamp'] >= '2017-01-01 00:00:00') & (sql_load['trip_start_timestamp'] < '2017-01-31 23:59:59')]\n",
    "# test_set_feb = sql_load[(sql_load['trip_start_timestamp'] >= '2017-02-01 00:00:00') & (sql_load['trip_start_timestamp'] < '2017-02-28 23:59:59')]\n",
    "# test_set_mar = sql_load[(sql_load['trip_start_timestamp'] >= '2017-03-01 00:00:00') & (sql_load['trip_start_timestamp'] < '2017-03-31 23:59:59')]\n",
    "# test_set_apr = sql_load[(sql_load['trip_start_timestamp'] >= '2017-04-01 00:00:00') & (sql_load['trip_start_timestamp'] < '2017-04-30 23:59:59')]\n",
    "# test_set_may = sql_load[(sql_load['trip_start_timestamp'] >= '2017-05-01 00:00:00') & (sql_load['trip_start_timestamp'] < '2017-03-31 23:59:59')]\n",
    "# test_set_jun = sql_load[(sql_load['trip_start_timestamp'] >= '2017-06-01 00:00:00') & (sql_load['trip_start_timestamp'] < '2017-06-30 23:59:59')]\n",
    "# test_set_jul = sql_load[(sql_load['trip_start_timestamp'] >= '2017-07-01 00:00:00') & (sql_load['trip_start_timestamp'] < '2017-03-31 23:59:59')]"
   ]
  },
  {
   "cell_type": "code",
   "execution_count": 13,
   "metadata": {
    "ExecuteTime": {
     "end_time": "2018-09-14T05:02:34.235549Z",
     "start_time": "2018-09-14T05:02:34.232765Z"
    }
   },
   "outputs": [],
   "source": [
    "# taxi_weather_df = sql_load.sample(n=75000, random_state=42)"
   ]
  },
  {
   "cell_type": "code",
   "execution_count": 14,
   "metadata": {
    "ExecuteTime": {
     "end_time": "2018-09-14T05:03:02.713443Z",
     "start_time": "2018-09-14T05:02:34.294527Z"
    }
   },
   "outputs": [
    {
     "data": {
      "text/html": [
       "<div>\n",
       "<style scoped>\n",
       "    .dataframe tbody tr th:only-of-type {\n",
       "        vertical-align: middle;\n",
       "    }\n",
       "\n",
       "    .dataframe tbody tr th {\n",
       "        vertical-align: top;\n",
       "    }\n",
       "\n",
       "    .dataframe thead th {\n",
       "        text-align: right;\n",
       "    }\n",
       "</style>\n",
       "<table border=\"1\" class=\"dataframe\">\n",
       "  <thead>\n",
       "    <tr style=\"text-align: right;\">\n",
       "      <th></th>\n",
       "      <th>trip_seconds</th>\n",
       "      <th>trip_miles</th>\n",
       "      <th>fare_with_tolls</th>\n",
       "      <th>pickup_centroid_latitude</th>\n",
       "      <th>pickup_centroid_longitude</th>\n",
       "      <th>dropoff_centroid_latitude</th>\n",
       "      <th>dropoff_centroid_longitude</th>\n",
       "      <th>avg_daily_wind_speed</th>\n",
       "      <th>avg_temp_f</th>\n",
       "      <th>fog</th>\n",
       "      <th>rain</th>\n",
       "      <th>snow</th>\n",
       "    </tr>\n",
       "  </thead>\n",
       "  <tbody>\n",
       "    <tr>\n",
       "      <th>count</th>\n",
       "      <td>1.984338e+07</td>\n",
       "      <td>1.984637e+07</td>\n",
       "      <td>1.984630e+07</td>\n",
       "      <td>1.709229e+07</td>\n",
       "      <td>1.709229e+07</td>\n",
       "      <td>1.680043e+07</td>\n",
       "      <td>1.680043e+07</td>\n",
       "      <td>1.984660e+07</td>\n",
       "      <td>1.984660e+07</td>\n",
       "      <td>1.984660e+07</td>\n",
       "      <td>1.984660e+07</td>\n",
       "      <td>1.984660e+07</td>\n",
       "    </tr>\n",
       "    <tr>\n",
       "      <th>mean</th>\n",
       "      <td>7.672117e+02</td>\n",
       "      <td>3.396201e+00</td>\n",
       "      <td>1.389773e+01</td>\n",
       "      <td>4.190086e+01</td>\n",
       "      <td>-8.765908e+01</td>\n",
       "      <td>4.190089e+01</td>\n",
       "      <td>-8.765378e+01</td>\n",
       "      <td>9.746638e+00</td>\n",
       "      <td>5.261917e+01</td>\n",
       "      <td>4.426738e-01</td>\n",
       "      <td>2.585934e-03</td>\n",
       "      <td>3.020366e-03</td>\n",
       "    </tr>\n",
       "    <tr>\n",
       "      <th>std</th>\n",
       "      <td>1.060590e+03</td>\n",
       "      <td>2.262366e+01</td>\n",
       "      <td>2.542274e+01</td>\n",
       "      <td>3.776937e-02</td>\n",
       "      <td>7.354971e-02</td>\n",
       "      <td>3.786307e-02</td>\n",
       "      <td>5.911833e-02</td>\n",
       "      <td>3.765608e+00</td>\n",
       "      <td>1.985110e+01</td>\n",
       "      <td>4.967028e-01</td>\n",
       "      <td>5.078629e-02</td>\n",
       "      <td>5.487480e-02</td>\n",
       "    </tr>\n",
       "    <tr>\n",
       "      <th>min</th>\n",
       "      <td>0.000000e+00</td>\n",
       "      <td>0.000000e+00</td>\n",
       "      <td>0.000000e+00</td>\n",
       "      <td>4.166014e+01</td>\n",
       "      <td>-8.791362e+01</td>\n",
       "      <td>4.166014e+01</td>\n",
       "      <td>-8.791362e+01</td>\n",
       "      <td>3.130000e+00</td>\n",
       "      <td>-1.000000e+00</td>\n",
       "      <td>0.000000e+00</td>\n",
       "      <td>0.000000e+00</td>\n",
       "      <td>0.000000e+00</td>\n",
       "    </tr>\n",
       "    <tr>\n",
       "      <th>25%</th>\n",
       "      <td>3.000000e+02</td>\n",
       "      <td>1.000000e-01</td>\n",
       "      <td>6.250000e+00</td>\n",
       "      <td>4.188099e+01</td>\n",
       "      <td>-8.765588e+01</td>\n",
       "      <td>4.188099e+01</td>\n",
       "      <td>-8.765600e+01</td>\n",
       "      <td>6.930000e+00</td>\n",
       "      <td>3.700000e+01</td>\n",
       "      <td>0.000000e+00</td>\n",
       "      <td>0.000000e+00</td>\n",
       "      <td>0.000000e+00</td>\n",
       "    </tr>\n",
       "    <tr>\n",
       "      <th>50%</th>\n",
       "      <td>5.400000e+02</td>\n",
       "      <td>1.100000e+00</td>\n",
       "      <td>8.500000e+00</td>\n",
       "      <td>4.189251e+01</td>\n",
       "      <td>-8.763275e+01</td>\n",
       "      <td>4.189251e+01</td>\n",
       "      <td>-8.763275e+01</td>\n",
       "      <td>9.170000e+00</td>\n",
       "      <td>5.400000e+01</td>\n",
       "      <td>0.000000e+00</td>\n",
       "      <td>0.000000e+00</td>\n",
       "      <td>0.000000e+00</td>\n",
       "    </tr>\n",
       "    <tr>\n",
       "      <th>75%</th>\n",
       "      <td>9.000000e+02</td>\n",
       "      <td>2.700000e+00</td>\n",
       "      <td>1.425000e+01</td>\n",
       "      <td>4.190586e+01</td>\n",
       "      <td>-8.762615e+01</td>\n",
       "      <td>4.191462e+01</td>\n",
       "      <td>-8.762621e+01</td>\n",
       "      <td>1.208000e+01</td>\n",
       "      <td>7.100000e+01</td>\n",
       "      <td>1.000000e+00</td>\n",
       "      <td>0.000000e+00</td>\n",
       "      <td>0.000000e+00</td>\n",
       "    </tr>\n",
       "    <tr>\n",
       "      <th>max</th>\n",
       "      <td>8.639900e+04</td>\n",
       "      <td>3.353100e+03</td>\n",
       "      <td>9.999000e+03</td>\n",
       "      <td>4.202122e+01</td>\n",
       "      <td>-8.753490e+01</td>\n",
       "      <td>4.202122e+01</td>\n",
       "      <td>-8.753490e+01</td>\n",
       "      <td>2.662000e+01</td>\n",
       "      <td>8.500000e+01</td>\n",
       "      <td>1.000000e+00</td>\n",
       "      <td>1.000000e+00</td>\n",
       "      <td>1.000000e+00</td>\n",
       "    </tr>\n",
       "  </tbody>\n",
       "</table>\n",
       "</div>"
      ],
      "text/plain": [
       "       trip_seconds    trip_miles  fare_with_tolls  pickup_centroid_latitude  \\\n",
       "count  1.984338e+07  1.984637e+07     1.984630e+07              1.709229e+07   \n",
       "mean   7.672117e+02  3.396201e+00     1.389773e+01              4.190086e+01   \n",
       "std    1.060590e+03  2.262366e+01     2.542274e+01              3.776937e-02   \n",
       "min    0.000000e+00  0.000000e+00     0.000000e+00              4.166014e+01   \n",
       "25%    3.000000e+02  1.000000e-01     6.250000e+00              4.188099e+01   \n",
       "50%    5.400000e+02  1.100000e+00     8.500000e+00              4.189251e+01   \n",
       "75%    9.000000e+02  2.700000e+00     1.425000e+01              4.190586e+01   \n",
       "max    8.639900e+04  3.353100e+03     9.999000e+03              4.202122e+01   \n",
       "\n",
       "       pickup_centroid_longitude  dropoff_centroid_latitude  \\\n",
       "count               1.709229e+07               1.680043e+07   \n",
       "mean               -8.765908e+01               4.190089e+01   \n",
       "std                 7.354971e-02               3.786307e-02   \n",
       "min                -8.791362e+01               4.166014e+01   \n",
       "25%                -8.765588e+01               4.188099e+01   \n",
       "50%                -8.763275e+01               4.189251e+01   \n",
       "75%                -8.762615e+01               4.191462e+01   \n",
       "max                -8.753490e+01               4.202122e+01   \n",
       "\n",
       "       dropoff_centroid_longitude  avg_daily_wind_speed    avg_temp_f  \\\n",
       "count                1.680043e+07          1.984660e+07  1.984660e+07   \n",
       "mean                -8.765378e+01          9.746638e+00  5.261917e+01   \n",
       "std                  5.911833e-02          3.765608e+00  1.985110e+01   \n",
       "min                 -8.791362e+01          3.130000e+00 -1.000000e+00   \n",
       "25%                 -8.765600e+01          6.930000e+00  3.700000e+01   \n",
       "50%                 -8.763275e+01          9.170000e+00  5.400000e+01   \n",
       "75%                 -8.762621e+01          1.208000e+01  7.100000e+01   \n",
       "max                 -8.753490e+01          2.662000e+01  8.500000e+01   \n",
       "\n",
       "                fog          rain          snow  \n",
       "count  1.984660e+07  1.984660e+07  1.984660e+07  \n",
       "mean   4.426738e-01  2.585934e-03  3.020366e-03  \n",
       "std    4.967028e-01  5.078629e-02  5.487480e-02  \n",
       "min    0.000000e+00  0.000000e+00  0.000000e+00  \n",
       "25%    0.000000e+00  0.000000e+00  0.000000e+00  \n",
       "50%    0.000000e+00  0.000000e+00  0.000000e+00  \n",
       "75%    1.000000e+00  0.000000e+00  0.000000e+00  \n",
       "max    1.000000e+00  1.000000e+00  1.000000e+00  "
      ]
     },
     "execution_count": 14,
     "metadata": {},
     "output_type": "execute_result"
    }
   ],
   "source": [
    "taxi_weather_df.describe()"
   ]
  },
  {
   "cell_type": "markdown",
   "metadata": {},
   "source": [
    "> Original number of records for 1st-15th February 2016: **831,790**  \n",
    "> Original number of records for the whole of 2016: **19,846,602**"
   ]
  },
  {
   "cell_type": "code",
   "execution_count": null,
   "metadata": {
    "ExecuteTime": {
     "end_time": "2018-09-14T01:16:06.626536Z",
     "start_time": "2018-09-14T01:08:21.513Z"
    }
   },
   "outputs": [],
   "source": [
    "print('Total number of taxi trips (in mln):', str(round(taxi_weather_df['fare_with_tolls'].count() / 10**6)))\n",
    "print('Total $ spent on taxi trips (in mln):', str(round(taxi_weather_df['fare_with_tolls'].sum() / 10**6)))\n",
    "print('Total number of years of taxi trips:', str(round(taxi_weather_df['trip_seconds'].sum() / 60 / 60 / 24 / 365, 0)))"
   ]
  },
  {
   "cell_type": "code",
   "execution_count": null,
   "metadata": {
    "ExecuteTime": {
     "end_time": "2018-09-14T01:16:06.627553Z",
     "start_time": "2018-09-14T01:08:21.515Z"
    },
    "scrolled": true
   },
   "outputs": [],
   "source": [
    "#Let's explore the dataset\n",
    "null_records = sample_150[(taxi_weather_df['pickup_centroid_latitude'].isnull()) | (taxi_weather_df['pickup_centroid_longitude'].isnull()) | \n",
    "                (taxi_weather_df['dropoff_centroid_latitude'].isnull()) | (taxi_weather_df['dropoff_centroid_longitude'].isnull()) | \n",
    "                (taxi_weather_df['trip_seconds'].isnull()) | (taxi_weather_df['trip_miles'].isnull()) | \n",
    "                (taxi_weather_df['fare_with_tolls'].isnull())]['trip_start_timestamp'].count()\n",
    "\n",
    "print(f'There are {null_records} records with a null value in at least one of the fields mentioned above.')"
   ]
  },
  {
   "cell_type": "markdown",
   "metadata": {},
   "source": [
    "## Sweeping time!"
   ]
  },
  {
   "cell_type": "code",
   "execution_count": null,
   "metadata": {
    "ExecuteTime": {
     "end_time": "2018-09-14T01:16:06.628450Z",
     "start_time": "2018-09-14T01:08:21.521Z"
    }
   },
   "outputs": [],
   "source": [
    "taxi_weather_df.head()"
   ]
  },
  {
   "cell_type": "code",
   "execution_count": 15,
   "metadata": {
    "ExecuteTime": {
     "end_time": "2018-09-14T05:03:21.228854Z",
     "start_time": "2018-09-14T05:03:02.770078Z"
    }
   },
   "outputs": [],
   "source": [
    "#Change payment type to boolean\n",
    "taxi_weather_df['payment_type'] = pd.Categorical(taxi_weather_df['payment_type'])"
   ]
  },
  {
   "cell_type": "code",
   "execution_count": 16,
   "metadata": {
    "ExecuteTime": {
     "end_time": "2018-09-14T05:03:37.876940Z",
     "start_time": "2018-09-14T05:03:21.301490Z"
    }
   },
   "outputs": [],
   "source": [
    "#Let's drop all the records with a missing lat / long in either pickup or dropoff\n",
    "taxi_weather_clean = taxi_weather_df.dropna(subset=['pickup_centroid_latitude', 'pickup_centroid_longitude', 'dropoff_centroid_latitude'\n",
    "                                                    , 'dropoff_centroid_longitude', 'trip_seconds', 'trip_miles', 'fare_with_tolls'])"
   ]
  },
  {
   "cell_type": "code",
   "execution_count": null,
   "metadata": {
    "ExecuteTime": {
     "end_time": "2018-09-14T01:16:06.631754Z",
     "start_time": "2018-09-14T01:08:21.529Z"
    },
    "scrolled": true
   },
   "outputs": [],
   "source": [
    "taxi_weather_clean.head(2)"
   ]
  },
  {
   "cell_type": "code",
   "execution_count": null,
   "metadata": {
    "ExecuteTime": {
     "end_time": "2018-09-14T01:16:06.633471Z",
     "start_time": "2018-09-14T01:08:21.535Z"
    }
   },
   "outputs": [],
   "source": [
    "# print(taxi_weather_clean.groupby(['fog'])['fog'].count(), '\\n')\n",
    "# print(taxi_weather_clean.groupby(['rain'])['rain'].count(), '\\n')\n",
    "# print(taxi_weather_clean.groupby(['snow'])['snow'].count())"
   ]
  },
  {
   "cell_type": "code",
   "execution_count": 17,
   "metadata": {
    "ExecuteTime": {
     "end_time": "2018-09-14T05:04:07.382279Z",
     "start_time": "2018-09-14T05:03:37.970779Z"
    }
   },
   "outputs": [
    {
     "name": "stderr",
     "output_type": "stream",
     "text": [
      "/anaconda3/lib/python3.6/site-packages/pandas/core/frame.py:3140: SettingWithCopyWarning: \n",
      "A value is trying to be set on a copy of a slice from a DataFrame.\n",
      "Try using .loc[row_indexer,col_indexer] = value instead\n",
      "\n",
      "See the caveats in the documentation: http://pandas.pydata.org/pandas-docs/stable/indexing.html#indexing-view-versus-copy\n",
      "  self[k1] = value[k2]\n"
     ]
    }
   ],
   "source": [
    "taxi_weather_clean[['fog', 'rain', 'snow']] = taxi_weather_clean[['fog', 'rain', 'snow']].fillna(value=0)"
   ]
  },
  {
   "cell_type": "code",
   "execution_count": null,
   "metadata": {
    "ExecuteTime": {
     "end_time": "2018-09-14T01:16:06.647615Z",
     "start_time": "2018-09-14T01:08:21.541Z"
    }
   },
   "outputs": [],
   "source": [
    "# print(taxi_weather_clean.groupby(['fog'])['fog'].count(), '\\n')\n",
    "# print(taxi_weather_clean.groupby(['rain'])['rain'].count(), '\\n')\n",
    "# print(taxi_weather_clean.groupby(['snow'])['snow'].count())"
   ]
  },
  {
   "cell_type": "code",
   "execution_count": null,
   "metadata": {},
   "outputs": [],
   "source": []
  },
  {
   "cell_type": "code",
   "execution_count": null,
   "metadata": {
    "ExecuteTime": {
     "end_time": "2018-09-14T01:16:06.648791Z",
     "start_time": "2018-09-14T01:08:21.545Z"
    }
   },
   "outputs": [],
   "source": [
    "taxi_weather_clean.head()"
   ]
  },
  {
   "cell_type": "code",
   "execution_count": null,
   "metadata": {
    "ExecuteTime": {
     "end_time": "2018-09-14T01:16:06.650402Z",
     "start_time": "2018-09-14T01:08:21.548Z"
    }
   },
   "outputs": [],
   "source": [
    "taxi_weather_clean.count()[0]"
   ]
  },
  {
   "cell_type": "markdown",
   "metadata": {
    "ExecuteTime": {
     "end_time": "2018-09-06T22:04:14.813734Z",
     "start_time": "2018-09-06T22:04:14.809735Z"
    }
   },
   "source": [
    "> Remaining number of records after removing missing values containing records for 1st-15th February 2016: **81%** (673,474)  \n",
    "> Remaining number of records after removing missing values containing records for whole 2016: **84%** (16,656,816)"
   ]
  },
  {
   "cell_type": "code",
   "execution_count": null,
   "metadata": {
    "ExecuteTime": {
     "end_time": "2018-09-14T01:16:06.654138Z",
     "start_time": "2018-09-14T01:08:21.550Z"
    }
   },
   "outputs": [],
   "source": [
    "#Check how many records where removed by taking out zero value rows for fare, trip_seconds and trip_miles #139,699\n",
    "# taxi_weather_clean[(taxi_weather_clean['fare_with_tolls'] == 0.0) \n",
    "#                                           | (taxi_weather_clean['trip_seconds'] == 0.0) \n",
    "#                                           | (taxi_weather_clean['trip_miles'] == 0.0)].count()"
   ]
  },
  {
   "cell_type": "code",
   "execution_count": 18,
   "metadata": {
    "ExecuteTime": {
     "end_time": "2018-09-14T05:04:20.296487Z",
     "start_time": "2018-09-14T05:04:07.471317Z"
    }
   },
   "outputs": [],
   "source": [
    "#Let's get rid of the zeroes\n",
    "taxi_weather_clean = taxi_weather_clean[(taxi_weather_clean['fare_with_tolls'] != 0.0) \n",
    "                                          & (taxi_weather_clean['trip_seconds'] != 0.0) \n",
    "                                          & (taxi_weather_clean['trip_miles'] != 0.0)]"
   ]
  },
  {
   "cell_type": "code",
   "execution_count": null,
   "metadata": {
    "ExecuteTime": {
     "end_time": "2018-09-14T01:16:06.660132Z",
     "start_time": "2018-09-14T01:08:21.554Z"
    }
   },
   "outputs": [],
   "source": [
    "taxi_weather_clean.count()[0]"
   ]
  },
  {
   "cell_type": "markdown",
   "metadata": {},
   "source": [
    "> Remaining number of records after null and zero value removal for 1st-15th February 2016: **64%** (533,775)   \n",
    "> Remaining number of records after null and zero value removal for the whole 2016: **67%** (13,354,486)"
   ]
  },
  {
   "cell_type": "code",
   "execution_count": null,
   "metadata": {
    "ExecuteTime": {
     "end_time": "2018-09-14T01:16:06.662042Z",
     "start_time": "2018-09-14T01:08:21.557Z"
    },
    "scrolled": false
   },
   "outputs": [],
   "source": [
    "#Since taxi fare doesn't automatically include tolls, to get a base rate, I need to add tolls to the fare\n",
    "# taxi_weather_clean['fare_with_tolls'] = taxi_weather_clean['fare'] + taxi_weather_clean['tolls']"
   ]
  },
  {
   "cell_type": "code",
   "execution_count": null,
   "metadata": {
    "ExecuteTime": {
     "end_time": "2018-09-14T01:16:06.665366Z",
     "start_time": "2018-09-14T01:08:21.559Z"
    }
   },
   "outputs": [],
   "source": [
    "#Let's have a look if the miles per minute look reasonable\n",
    "plt.figure(dpi=100)\n",
    "plt.scatter(taxi_weather_clean['trip_miles'], taxi_weather_clean['trip_seconds'] / 3600.0)\n",
    "plt.title('Miles per hour')\n",
    "plt.xlabel('Miles')\n",
    "plt.ylabel('Hours');"
   ]
  },
  {
   "cell_type": "code",
   "execution_count": null,
   "metadata": {
    "ExecuteTime": {
     "end_time": "2018-09-14T01:16:06.670506Z",
     "start_time": "2018-09-14T01:08:21.562Z"
    }
   },
   "outputs": [],
   "source": [
    "miles_per_hour = taxi_weather_clean['trip_miles'] / (taxi_weather_clean['trip_seconds'] / 3600.0)"
   ]
  },
  {
   "cell_type": "code",
   "execution_count": null,
   "metadata": {
    "ExecuteTime": {
     "end_time": "2018-09-14T01:16:06.674074Z",
     "start_time": "2018-09-14T01:08:21.565Z"
    }
   },
   "outputs": [],
   "source": [
    "plt.figure(dpi=100)\n",
    "miles_per_hour.hist(bins=10000)\n",
    "plt.xlim(xmin=0.0, xmax=100.0)\n",
    "plt.title('Miles per hour histogram')\n",
    "plt.xlabel('Miles / hour')\n",
    "plt.ylabel('Frequency');"
   ]
  },
  {
   "cell_type": "code",
   "execution_count": null,
   "metadata": {
    "ExecuteTime": {
     "end_time": "2018-09-14T01:16:06.677030Z",
     "start_time": "2018-09-14T01:08:21.567Z"
    }
   },
   "outputs": [],
   "source": [
    "#Looking at the data and also from a logical perspective, I've decided to filter out any rides with miles / hour higher than 100\n",
    "miles_per_hour[miles_per_hour > 100.0].count()"
   ]
  },
  {
   "cell_type": "code",
   "execution_count": null,
   "metadata": {
    "ExecuteTime": {
     "end_time": "2018-09-14T01:16:06.683241Z",
     "start_time": "2018-09-14T01:08:21.569Z"
    }
   },
   "outputs": [],
   "source": [
    "#Removing clear error records from the dataset (e.g. $1,000 for 0.1 mile and 6 min ride). Settling at max 100 miles an hour\n",
    "taxi_weather_clean = taxi_weather_clean[(taxi_weather_clean['trip_miles'] / (taxi_weather_clean['trip_seconds'] / 3600.0)) <= 100.0]"
   ]
  },
  {
   "cell_type": "code",
   "execution_count": null,
   "metadata": {
    "ExecuteTime": {
     "end_time": "2018-09-14T01:16:06.685892Z",
     "start_time": "2018-09-14T01:08:21.571Z"
    }
   },
   "outputs": [],
   "source": [
    "taxi_weather_clean.count()[0]"
   ]
  },
  {
   "cell_type": "markdown",
   "metadata": {},
   "source": [
    "> Number of records excluded by removing instances with speed higher than 100: **%** ()  \n",
    "> Number of records remaining (whole 2016): **67%** (13,301,862)"
   ]
  },
  {
   "cell_type": "code",
   "execution_count": null,
   "metadata": {
    "ExecuteTime": {
     "end_time": "2018-09-14T01:16:06.689222Z",
     "start_time": "2018-09-14T01:08:21.574Z"
    }
   },
   "outputs": [],
   "source": [
    "#Let's have a look if the miles per minute look reasonable\n",
    "plt.figure(dpi=100)\n",
    "plt.scatter(taxi_weather_clean['trip_miles'], taxi_weather_clean['trip_seconds'] / 3600.0)\n",
    "plt.title('Miles per hour (after cleaning)')\n",
    "plt.xlabel('Miles')\n",
    "plt.ylabel('Hours');"
   ]
  },
  {
   "cell_type": "code",
   "execution_count": null,
   "metadata": {
    "ExecuteTime": {
     "end_time": "2018-09-14T01:16:06.690484Z",
     "start_time": "2018-09-14T01:08:21.576Z"
    }
   },
   "outputs": [],
   "source": [
    "#Let's see that's the distribution of $/mile to better identify incorrect values\n",
    "fare_per_mile = taxi_weather_clean['fare_with_tolls'] / taxi_weather_clean['trip_miles']\n",
    "fare_per_minute = taxi_weather_clean['fare_with_tolls'] / (taxi_weather_clean['trip_seconds'] / 60)\n",
    "\n",
    "#Removing obvious outliers\n",
    "outlier_indices = list((fare_per_mile[fare_per_mile > 5000]).index)\n",
    "fare_per_mile = fare_per_mile.drop(index=outlier_indices)\n",
    "fare_per_minute = fare_per_minute.drop(index=outlier_indices)\n",
    "\n",
    "plt.figure(dpi=100)\n",
    "plt.scatter(fare_per_mile, fare_per_minute)\n",
    "plt.title('Fare per mile versus fare per minute')\n",
    "plt.xlabel('Fare/Mile')\n",
    "plt.ylabel('Fare/Minute');"
   ]
  },
  {
   "cell_type": "code",
   "execution_count": 19,
   "metadata": {
    "ExecuteTime": {
     "end_time": "2018-09-14T05:04:25.638641Z",
     "start_time": "2018-09-14T05:04:20.408556Z"
    }
   },
   "outputs": [
    {
     "data": {
      "text/plain": [
       "958458"
      ]
     },
     "execution_count": 19,
     "metadata": {},
     "output_type": "execute_result"
    }
   ],
   "source": [
    "#Check how many records are being excluded due to below rules\n",
    "taxi_weather_clean[((taxi_weather_clean['fare_with_tolls'] / taxi_weather_clean['trip_miles']) > 50) |\n",
    "                                 ((taxi_weather_clean['fare_with_tolls'] / (taxi_weather_clean['trip_seconds'] / 60.0)) > 250)].count()[0]"
   ]
  },
  {
   "cell_type": "code",
   "execution_count": 20,
   "metadata": {
    "ExecuteTime": {
     "end_time": "2018-09-14T05:04:28.929221Z",
     "start_time": "2018-09-14T05:04:25.715617Z"
    }
   },
   "outputs": [],
   "source": [
    "#Based on above analysis, I'm setting a max fare/mile at $250 and max fare/minute to $50\n",
    "taxi_weather_clean = taxi_weather_clean[((taxi_weather_clean['fare_with_tolls'] / taxi_weather_clean['trip_miles']) <= 50) &\n",
    "                                 ((taxi_weather_clean['fare_with_tolls'] / (taxi_weather_clean['trip_seconds'] / 60.0)) <= 250)]"
   ]
  },
  {
   "cell_type": "code",
   "execution_count": null,
   "metadata": {
    "ExecuteTime": {
     "end_time": "2018-09-14T01:16:06.698562Z",
     "start_time": "2018-09-14T01:08:21.582Z"
    }
   },
   "outputs": [],
   "source": [
    "taxi_weather_clean.count()[0]"
   ]
  },
  {
   "cell_type": "markdown",
   "metadata": {},
   "source": [
    "> Number of records excluded by removing instances of fare/mile of more than USD 250 and fare/minute of more than USD 50: **8%** (39,999)  \n",
    "> Number of records remaining: **62%** (12,343,799)"
   ]
  },
  {
   "cell_type": "code",
   "execution_count": null,
   "metadata": {
    "ExecuteTime": {
     "end_time": "2018-09-14T01:16:06.700270Z",
     "start_time": "2018-09-14T01:08:21.585Z"
    }
   },
   "outputs": [],
   "source": [
    "#Let's see that's the distribution of $/mile to better identify incorrect values\n",
    "fare_per_mile = taxi_weather_clean['fare_with_tolls'] / taxi_weather_clean['trip_miles']\n",
    "fare_per_minute = taxi_weather_clean['fare_with_tolls'] / (taxi_weather_clean['trip_seconds'] / 60)\n",
    "\n",
    "\n",
    "#Replot to see the effect\n",
    "plt.figure(dpi=100)\n",
    "plt.scatter(fare_per_mile, fare_per_minute)\n",
    "plt.title('Fare per mile versus fare per minute (after cleaning)')\n",
    "plt.xlabel('Fare/Mile')\n",
    "plt.ylabel('Fare/Minute');"
   ]
  },
  {
   "cell_type": "code",
   "execution_count": null,
   "metadata": {
    "ExecuteTime": {
     "end_time": "2018-09-14T01:16:06.701848Z",
     "start_time": "2018-09-14T01:08:21.586Z"
    },
    "scrolled": true
   },
   "outputs": [],
   "source": [
    "# with open('clean_taxi_weather_dataset.pkl', 'wb') as clean_pickle:\n",
    "#     pickle.dump(taxi_weather_clean, clean_pickle)"
   ]
  },
  {
   "cell_type": "code",
   "execution_count": null,
   "metadata": {
    "ExecuteTime": {
     "end_time": "2018-09-14T01:16:06.704902Z",
     "start_time": "2018-09-14T01:08:21.589Z"
    }
   },
   "outputs": [],
   "source": [
    "# with open('clean_taxi_weather_dataset.pkl', 'rb') as clean_pickle:\n",
    "#     taxi_weather_clean = pickle.load(clean_pickle)"
   ]
  },
  {
   "cell_type": "markdown",
   "metadata": {},
   "source": [
    "## Analysis Time!"
   ]
  },
  {
   "cell_type": "code",
   "execution_count": null,
   "metadata": {
    "ExecuteTime": {
     "end_time": "2018-09-14T01:16:06.707045Z",
     "start_time": "2018-09-14T01:08:21.591Z"
    }
   },
   "outputs": [],
   "source": [
    "#Let's explore the tips and tolls columns\n",
    "taxi_weather_clean.groupby(['payment_type'])['trip_miles'].describe()"
   ]
  },
  {
   "cell_type": "markdown",
   "metadata": {},
   "source": [
    "> On average, trips paid with a credit card had longer distance, and therefore, longer duration and higher fare. However, I'm not going to use payment_type as a variable, since it's not relevant"
   ]
  },
  {
   "cell_type": "code",
   "execution_count": null,
   "metadata": {
    "ExecuteTime": {
     "end_time": "2018-09-14T01:16:06.710002Z",
     "start_time": "2018-09-14T01:08:21.594Z"
    },
    "scrolled": false
   },
   "outputs": [],
   "source": [
    "#Let's explore the distribution of variables of interest\n",
    "plt.figure(figsize=(25, 5))\n",
    "\n",
    "plt.subplot(1, 3, 1)\n",
    "plt.hist(taxi_weather_clean['trip_miles'], bins=1000, color='m')\n",
    "plt.title('Trip Length Histogram (in miles)')\n",
    "plt.xlim(xmin=0, xmax=30)\n",
    "plt.xlabel('Miles')\n",
    "plt.ylabel('Frequency')\n",
    "\n",
    "plt.subplot(1, 3, 2)\n",
    "plt.hist(taxi_weather_clean['trip_seconds'], bins=1000, color='c')\n",
    "plt.title('Trip Length Histogram (in seconds)')\n",
    "plt.xlim(xmin=0, xmax=10000)\n",
    "plt.xlabel('Seconds')\n",
    "plt.ylabel('Frequency')\n",
    "\n",
    "plt.subplot(1, 3, 3)\n",
    "plt.hist(taxi_weather_clean['fare_with_tolls'], bins=5000, color='r')\n",
    "plt.title('Trip Fare (in $)')\n",
    "plt.xlim(xmin=0, xmax=100)\n",
    "plt.xlabel('$')\n",
    "plt.ylabel('Frequency');"
   ]
  },
  {
   "cell_type": "markdown",
   "metadata": {
    "ExecuteTime": {
     "end_time": "2018-09-11T21:00:12.686466Z",
     "start_time": "2018-09-11T21:00:12.684221Z"
    }
   },
   "source": [
    "### What if I log these variables?"
   ]
  },
  {
   "cell_type": "code",
   "execution_count": null,
   "metadata": {
    "ExecuteTime": {
     "end_time": "2018-09-14T01:16:06.711561Z",
     "start_time": "2018-09-14T01:08:21.597Z"
    },
    "scrolled": false
   },
   "outputs": [],
   "source": [
    "#Let's explore the distribution of variables of interest\n",
    "plt.figure(figsize=(25, 5))\n",
    "\n",
    "plt.subplot(1, 3, 1)\n",
    "plt.hist(np.log(taxi_weather_clean['trip_miles']), bins=100, color='m')\n",
    "plt.title('Trip Length Log Histogram (in miles)')\n",
    "plt.xlabel('Miles')\n",
    "plt.ylabel('Frequency')\n",
    "\n",
    "plt.subplot(1, 3, 2)\n",
    "plt.hist(np.log(taxi_weather_clean['trip_seconds']), bins=100, color='c')\n",
    "plt.title('Trip Length Log Histogram (in seconds)')\n",
    "plt.xlabel('Seconds')\n",
    "\n",
    "plt.subplot(1, 3, 3)\n",
    "plt.hist(np.log(taxi_weather_clean['fare_with_tolls']), bins=200, color='r')\n",
    "plt.title('Trip Fare Log (in $)')\n",
    "plt.xlabel('$');"
   ]
  },
  {
   "cell_type": "markdown",
   "metadata": {},
   "source": [
    "> Good enough!"
   ]
  },
  {
   "cell_type": "markdown",
   "metadata": {},
   "source": [
    "## Time Series fun"
   ]
  },
  {
   "cell_type": "code",
   "execution_count": 21,
   "metadata": {
    "ExecuteTime": {
     "end_time": "2018-09-14T05:05:26.408332Z",
     "start_time": "2018-09-14T05:04:29.002779Z"
    }
   },
   "outputs": [],
   "source": [
    "taxi_weather_clean['pickup_date'] = taxi_weather_clean['trip_start_timestamp'].dt.date\n",
    "taxi_weather_clean['pickup_time'] = taxi_weather_clean['trip_start_timestamp'].dt.time\n",
    "# taxi_weather_clean['pickup_time_float'] = [t.mktime(start_time.timetuple()) for start_time in taxi_weather_clean['pickup_time']]\n",
    "taxi_weather_clean['pickup_weekday'] = taxi_weather_clean['trip_start_timestamp'].dt.weekday      #Monday is 0\n",
    "\n",
    "#This is specifically for the heatmap, not used in modelling or elsewhere\n",
    "taxi_weather_clean['pickup_time_formatted'] = [time.strftime(\"%H:%M\") for time in taxi_weather_clean['pickup_time']]    \n",
    "taxi_weather_clean['pickup_weekday_name'] = taxi_weather_clean['trip_start_timestamp'].dt.weekday_name"
   ]
  },
  {
   "cell_type": "code",
   "execution_count": null,
   "metadata": {
    "ExecuteTime": {
     "end_time": "2018-09-14T01:16:06.717070Z",
     "start_time": "2018-09-14T01:08:21.602Z"
    }
   },
   "outputs": [],
   "source": [
    "taxi_weather_clean.head()"
   ]
  },
  {
   "cell_type": "markdown",
   "metadata": {},
   "source": [
    "### What about fares by the date variables (day, weekday, time)?"
   ]
  },
  {
   "cell_type": "code",
   "execution_count": null,
   "metadata": {
    "ExecuteTime": {
     "end_time": "2018-09-14T01:16:06.720063Z",
     "start_time": "2018-09-14T01:08:21.604Z"
    }
   },
   "outputs": [],
   "source": [
    "#Creating pandas series for days, time and weekday\n",
    "avg_pickup_fare_per_mile_over_days = taxi_weather_clean.groupby(['pickup_date'])['fare_with_tolls'].sum() / taxi_weather_clean.groupby(['pickup_date'])['trip_miles'].sum()\n",
    "avg_pickup_fare_per_mile_by_time = taxi_weather_clean.groupby(['pickup_time'])['fare_with_tolls'].sum() / taxi_weather_clean.groupby(['pickup_time'])['trip_miles'].sum()\n",
    "avg_pickup_fare_per_mile_by_weekday = taxi_weather_clean.groupby(['pickup_weekday'])['fare_with_tolls'].sum() / taxi_weather_clean.groupby(['pickup_weekday'])['trip_miles'].sum()\n",
    "                                    "
   ]
  },
  {
   "cell_type": "code",
   "execution_count": null,
   "metadata": {
    "ExecuteTime": {
     "end_time": "2018-09-14T01:16:06.722030Z",
     "start_time": "2018-09-14T01:08:21.606Z"
    },
    "scrolled": false
   },
   "outputs": [],
   "source": [
    "plt.figure(figsize=(25, 20))\n",
    "plt.subplots_adjust(left=0.125, bottom=0.1, right=0.9, top=0.9,\n",
    "                wspace=0.2, hspace=0.3)\n",
    "\n",
    "avg_pickup_fare_per_mile_over_days_R52 = avg_pickup_fare_per_mile_over_days.rolling(52, center=True).mean()\n",
    "\n",
    "plt.subplot(3, 1, 1)\n",
    "avg_pickup_fare_per_mile_over_days_R52.plot()\n",
    "plt.title('Average fare per mile over days')\n",
    "plt.xlabel('Days')\n",
    "plt.ylabel('Avg. Fare')\n",
    "\n",
    "plt.subplot(3, 1, 2)\n",
    "avg_pickup_fare_per_mile_by_time.plot(color='m')\n",
    "plt.title('Average fare per mile over time')\n",
    "plt.xlabel('Time')\n",
    "plt.ylabel('Avg. Fare')\n",
    "\n",
    "plt.subplot(3, 1, 3)\n",
    "avg_pickup_fare_per_mile_by_weekday.plot(color='c',kind='bar')\n",
    "plt.title('Average fare per mile by weekday')\n",
    "plt.xlabel('Weekday (Monday = 0)')\n",
    "plt.ylabel('Avg. Fare')\n",
    "plt.ylim(3.4, 4.0);"
   ]
  },
  {
   "cell_type": "markdown",
   "metadata": {},
   "source": [
    "> * Average fare across the year has been increasing from January to June, dips in summer then spikes again in October / November and dips again in December. It is strange that the average fare would drop so much in December, since it's an average.  \n",
    "> * Weekday certainly has an impact on the fare, therefore I will be treating the weekday feature as a separate variable in the modelling  \n",
    "> * There's something strange going on in the data between 5am and 7am. Seems like there were a few long distance (high fare) trips around this time. After noticing this, I change the measure from avg. fare to avg. fare per mile.\n",
    "> * Looking at the first two charts, I certainly need to do some differencing to make my time series data more stationary.\n"
   ]
  },
  {
   "cell_type": "markdown",
   "metadata": {},
   "source": [
    "### Zooming in on 5am-7am period"
   ]
  },
  {
   "cell_type": "code",
   "execution_count": null,
   "metadata": {
    "ExecuteTime": {
     "end_time": "2018-09-14T01:16:06.724734Z",
     "start_time": "2018-09-14T01:08:21.610Z"
    }
   },
   "outputs": [],
   "source": [
    "taxi_weather_5_7am = taxi_weather_clean[(taxi_weather_clean['pickup_time'] >= dt.time(5,0,0)) &\n",
    "                                         (taxi_weather_clean['pickup_time'] <= dt.time(7,0,0))]\n",
    "\n",
    "# taxi_weather_5_7am = taxi_weather_5_7am.groupby(['pickup_time'])['fare_with_tolls'].max()"
   ]
  },
  {
   "cell_type": "code",
   "execution_count": null,
   "metadata": {
    "ExecuteTime": {
     "end_time": "2018-09-14T01:16:06.727741Z",
     "start_time": "2018-09-14T01:08:21.612Z"
    },
    "scrolled": false
   },
   "outputs": [],
   "source": [
    "plt.figure(figsize=(10, 5))\n",
    "taxi_weather_5_7am['fare_with_tolls'].hist(bins=100);"
   ]
  },
  {
   "cell_type": "code",
   "execution_count": null,
   "metadata": {
    "ExecuteTime": {
     "end_time": "2018-09-14T01:16:06.729216Z",
     "start_time": "2018-09-14T01:08:21.614Z"
    }
   },
   "outputs": [],
   "source": [
    "taxi_weather_5_7am[taxi_weather_5_7am['fare_with_tolls'] >= 1000.0]"
   ]
  },
  {
   "cell_type": "markdown",
   "metadata": {},
   "source": [
    "> These records seem legitimate, since they have high mileage and hence high fare."
   ]
  },
  {
   "cell_type": "markdown",
   "metadata": {},
   "source": [
    "### Serious Time Series stuff, examining demand over time"
   ]
  },
  {
   "cell_type": "code",
   "execution_count": null,
   "metadata": {
    "ExecuteTime": {
     "end_time": "2018-09-14T01:16:06.731028Z",
     "start_time": "2018-09-14T01:08:21.617Z"
    }
   },
   "outputs": [],
   "source": [
    "taxi_weather_clean.head(2)"
   ]
  },
  {
   "cell_type": "markdown",
   "metadata": {},
   "source": [
    "### Looking at the demand over time"
   ]
  },
  {
   "cell_type": "code",
   "execution_count": 22,
   "metadata": {
    "ExecuteTime": {
     "end_time": "2018-09-14T05:05:59.331767Z",
     "start_time": "2018-09-14T05:05:50.304903Z"
    }
   },
   "outputs": [],
   "source": [
    "demand_over_time = taxi_weather_clean.groupby(['trip_start_timestamp'])['trip_start_timestamp'].count()\n",
    "\n",
    "demand_over_days = taxi_weather_clean.groupby(['pickup_date'])['pickup_date'].count()\n",
    "demand_by_15min = taxi_weather_clean.groupby(['pickup_time'])['pickup_time'].count()\n",
    "demand_by_weekday = taxi_weather_clean.groupby(['pickup_weekday'])['pickup_weekday'].count()"
   ]
  },
  {
   "cell_type": "code",
   "execution_count": null,
   "metadata": {
    "ExecuteTime": {
     "end_time": "2018-09-14T01:16:06.735115Z",
     "start_time": "2018-09-14T01:08:21.621Z"
    }
   },
   "outputs": [],
   "source": [
    "plt.figure(figsize=(25, 30))\n",
    "plt.subplots_adjust(left=0.125, bottom=0.1, right=0.9, top=0.9,\n",
    "                wspace=0.2, hspace=0.3)\n",
    "\n",
    "plt.subplot(4, 1, 1)\n",
    "demand_over_time.plot(color='c')\n",
    "plt.title('Demand over time')\n",
    "plt.xlabel('Date & Time')\n",
    "plt.ylabel('Number of rides')\n",
    "\n",
    "plt.subplot(4, 1, 2)\n",
    "demand_over_days.plot()\n",
    "plt.title('Demand over days')\n",
    "plt.xlabel('Days')\n",
    "plt.ylabel('Number of rides')\n",
    "\n",
    "plt.subplot(4, 1, 3)\n",
    "demand_by_15min.plot(color='m')\n",
    "plt.title('Demand by 15 min intervals')\n",
    "plt.xlabel('Time')\n",
    "plt.ylabel('Number of rides')\n",
    "\n",
    "plt.subplot(4, 1, 4)\n",
    "demand_by_weekday.plot(color='c', kind='bar')\n",
    "plt.title('Demand by weekday')\n",
    "plt.xlabel('Weekday (Monday = 0)')\n",
    "plt.ylabel('Number of rides');"
   ]
  },
  {
   "cell_type": "markdown",
   "metadata": {},
   "source": [
    "> There is clearly a weekly pattern where Monday and Sunday seem to have the lowest demand (need to verify that, since it's a little surpising)  \n",
    "> There is also a clear pattern in number of rides during the day, with spikes at peak hours, especially the afternoon peak and being slow early in the morning"
   ]
  },
  {
   "cell_type": "markdown",
   "metadata": {},
   "source": [
    "### Understanding the stationarity of my timeseries data"
   ]
  },
  {
   "cell_type": "markdown",
   "metadata": {},
   "source": [
    "#### Helper Function"
   ]
  },
  {
   "cell_type": "code",
   "execution_count": null,
   "metadata": {
    "ExecuteTime": {
     "end_time": "2018-09-14T01:16:06.736962Z",
     "start_time": "2018-09-14T01:08:21.624Z"
    },
    "scrolled": true
   },
   "outputs": [],
   "source": [
    "def test_stationarity(timeseries):   \n",
    "    #Perform Dickey-Fuller test:\n",
    "    print('Results of Dickey-Fuller Test:')\n",
    "    timeseries.dropna(inplace=True)\n",
    "    dftest = adfuller(timeseries, autolag='AIC')\n",
    "    dfoutput = pd.Series(dftest[0:4], index=['Test Statistic','p-value','#Lags Used','Number of Observations Used'])\n",
    "    for key,value in dftest[4].items():\n",
    "        dfoutput['Critical Value (%s)'%key] = value\n",
    "    print(dfoutput)\n",
    "    \n",
    "test_stationarity(demand_by_15min)"
   ]
  },
  {
   "cell_type": "markdown",
   "metadata": {},
   "source": [
    "> Since p-value is higher than 0.05, I cannot reject null hypothesis that the data is not stationare  \n",
    "> The test result suggests that I need to do **differencing**"
   ]
  },
  {
   "cell_type": "code",
   "execution_count": null,
   "metadata": {
    "ExecuteTime": {
     "end_time": "2018-09-14T01:16:06.738827Z",
     "start_time": "2018-09-14T01:08:21.627Z"
    }
   },
   "outputs": [],
   "source": [
    "print('Differencing over Days:')\n",
    "print('0 diffs:', demand_over_time.std())\n",
    "print('1 diffs:', demand_over_time.diff().std())\n",
    "print('2 diffs:', demand_over_time.diff().diff().std())\n",
    "print('3 diffs:', demand_over_time.diff().diff().diff().std())"
   ]
  },
  {
   "cell_type": "markdown",
   "metadata": {},
   "source": [
    "> Differencing **once** seems to be the right call for both dates and times"
   ]
  },
  {
   "cell_type": "code",
   "execution_count": 23,
   "metadata": {
    "ExecuteTime": {
     "end_time": "2018-09-14T05:06:05.527405Z",
     "start_time": "2018-09-14T05:06:05.518226Z"
    }
   },
   "outputs": [],
   "source": [
    "#So let's do it\n",
    "demand_over_time_diffed = demand_over_time.diff()\n",
    "demand_over_time_diffed = demand_over_time_diffed[1:]"
   ]
  },
  {
   "cell_type": "code",
   "execution_count": null,
   "metadata": {
    "ExecuteTime": {
     "end_time": "2018-09-14T01:16:06.742359Z",
     "start_time": "2018-09-14T01:08:21.632Z"
    }
   },
   "outputs": [],
   "source": [
    "plt.figure(figsize=(25, 5))\n",
    "demand_over_time_diffed.plot(color='c')\n",
    "plt.title('Demand difference over time')\n",
    "plt.xlabel('Date & Time')\n",
    "plt.ylabel(\"Difference from demand 15 minutes ago\");"
   ]
  },
  {
   "cell_type": "code",
   "execution_count": null,
   "metadata": {
    "ExecuteTime": {
     "end_time": "2018-09-14T01:16:06.744396Z",
     "start_time": "2018-09-14T01:08:21.633Z"
    }
   },
   "outputs": [],
   "source": [
    "#What's the stationarity score like after differencing?\n",
    "test_stationarity(demand_over_time_diffed)"
   ]
  },
  {
   "cell_type": "markdown",
   "metadata": {},
   "source": [
    "> Much better now!"
   ]
  },
  {
   "cell_type": "markdown",
   "metadata": {},
   "source": [
    "**Now check out how many lags to look back at (remember it's based on 15min time periods)**"
   ]
  },
  {
   "cell_type": "code",
   "execution_count": null,
   "metadata": {
    "ExecuteTime": {
     "end_time": "2018-09-14T01:16:06.746010Z",
     "start_time": "2018-09-14T01:08:21.636Z"
    }
   },
   "outputs": [],
   "source": [
    "#Partial Autocorrelation plots will help to evaluate how many lags to include as features\n",
    "print(plot_pacf(demand_over_time_diffed.dropna(), lags=672, title='Partial Autocorrelation (672 lags)'))"
   ]
  },
  {
   "cell_type": "markdown",
   "metadata": {},
   "source": [
    "> According to the Partial correlation plot, taking **7 first lags, 96th and 672th lags** is the way to go (last 1h 45min, same time yesterday and same time the week ago)"
   ]
  },
  {
   "cell_type": "markdown",
   "metadata": {},
   "source": [
    "### Fancy visualization :)"
   ]
  },
  {
   "cell_type": "code",
   "execution_count": 24,
   "metadata": {
    "ExecuteTime": {
     "end_time": "2018-09-14T05:06:12.180732Z",
     "start_time": "2018-09-14T05:06:10.354765Z"
    }
   },
   "outputs": [],
   "source": [
    "time_map = taxi_weather_clean.pivot_table(index='pickup_time_formatted', columns=['pickup_weekday'], values='avg_temp_f', aggfunc='count')"
   ]
  },
  {
   "cell_type": "code",
   "execution_count": 50,
   "metadata": {
    "ExecuteTime": {
     "end_time": "2018-09-14T05:29:28.178295Z",
     "start_time": "2018-09-14T05:29:27.585106Z"
    }
   },
   "outputs": [
    {
     "data": {
      "image/png": "[encoded data removed]",
      "text/plain": [
       "<Figure size 1512x842.4 with 2 Axes>"
      ]
     },
     "metadata": {},
     "output_type": "display_data"
    }
   ],
   "source": [
    "fig_hm = plt.figure(figsize=(21, 11.7))\n",
    "fig_hm.patch.set_facecolor('#041F30')\n",
    "\n",
    "ax = sns.heatmap(time_map, annot=False, xticklabels=['Mon', 'Tue', 'Wed', 'Thu', 'Fri', 'Sat', 'Sun'], \n",
    "                 cmap='coolwarm')                # , cbar_kws={'label':'Taxi Demand'})\n",
    "plt.title('')                                     #Taxi demand by 15min time period by weekday\n",
    "ax.set(xlabel='', ylabel='');                     #Pickup Weekday     #Pickup Time\n",
    "ax.tick_params(colors='w', labelcolor='w')\n",
    "\n",
    "\n",
    "# plt.savefig('Taxi_Demand_Heatmap.png', bbox_inches='tight');"
   ]
  },
  {
   "cell_type": "code",
   "execution_count": 294,
   "metadata": {
    "ExecuteTime": {
     "end_time": "2018-09-13T16:10:58.965268Z",
     "start_time": "2018-09-13T16:10:58.947543Z"
    }
   },
   "outputs": [],
   "source": [
    "#Let's create 7 lags\n",
    "demand = pd.DataFrame(demand_over_time_diffed)\n",
    "demand.rename(columns={'trip_start_timestamp': 'demand'}, inplace=True)\n",
    "demand = demand.reset_index()\n",
    "demand = demand.set_index(['trip_start_timestamp'])\n",
    "\n",
    "#Create lags\n",
    "demand['demand_lag1'] = demand['demand'].shift(1)\n",
    "demand['demand_lag2'] = demand['demand'].shift(2)\n",
    "demand['demand_lag3'] = demand['demand'].shift(3)\n",
    "demand['demand_lag4'] = demand['demand'].shift(4)\n",
    "demand['demand_lag5'] = demand['demand'].shift(5)\n",
    "demand['demand_lag6'] = demand['demand'].shift(6)\n",
    "demand['demand_lag7'] = demand['demand'].shift(7)\n",
    "demand['demand_lag96'] = demand['demand'].shift(96)\n",
    "demand['demand_lag672'] = demand['demand'].shift(672)"
   ]
  },
  {
   "cell_type": "code",
   "execution_count": 295,
   "metadata": {
    "ExecuteTime": {
     "end_time": "2018-09-13T16:11:00.606929Z",
     "start_time": "2018-09-13T16:11:00.595927Z"
    }
   },
   "outputs": [],
   "source": [
    "demand = demand.dropna()"
   ]
  },
  {
   "cell_type": "code",
   "execution_count": 296,
   "metadata": {
    "ExecuteTime": {
     "end_time": "2018-09-13T16:11:02.189590Z",
     "start_time": "2018-09-13T16:11:02.176828Z"
    }
   },
   "outputs": [
    {
     "data": {
      "text/html": [
       "<div>\n",
       "<style scoped>\n",
       "    .dataframe tbody tr th:only-of-type {\n",
       "        vertical-align: middle;\n",
       "    }\n",
       "\n",
       "    .dataframe tbody tr th {\n",
       "        vertical-align: top;\n",
       "    }\n",
       "\n",
       "    .dataframe thead th {\n",
       "        text-align: right;\n",
       "    }\n",
       "</style>\n",
       "<table border=\"1\" class=\"dataframe\">\n",
       "  <thead>\n",
       "    <tr style=\"text-align: right;\">\n",
       "      <th></th>\n",
       "      <th>demand</th>\n",
       "      <th>demand_lag1</th>\n",
       "      <th>demand_lag2</th>\n",
       "      <th>demand_lag3</th>\n",
       "      <th>demand_lag4</th>\n",
       "      <th>demand_lag5</th>\n",
       "      <th>demand_lag6</th>\n",
       "      <th>demand_lag7</th>\n",
       "      <th>demand_lag96</th>\n",
       "      <th>demand_lag672</th>\n",
       "    </tr>\n",
       "    <tr>\n",
       "      <th>trip_start_timestamp</th>\n",
       "      <th></th>\n",
       "      <th></th>\n",
       "      <th></th>\n",
       "      <th></th>\n",
       "      <th></th>\n",
       "      <th></th>\n",
       "      <th></th>\n",
       "      <th></th>\n",
       "      <th></th>\n",
       "      <th></th>\n",
       "    </tr>\n",
       "  </thead>\n",
       "  <tbody>\n",
       "    <tr>\n",
       "      <th>2016-01-12 00:15:00</th>\n",
       "      <td>-1.0</td>\n",
       "      <td>-1.0</td>\n",
       "      <td>1.0</td>\n",
       "      <td>1.0</td>\n",
       "      <td>-1.0</td>\n",
       "      <td>0.0</td>\n",
       "      <td>1.0</td>\n",
       "      <td>-1.0</td>\n",
       "      <td>0.0</td>\n",
       "      <td>-2.0</td>\n",
       "    </tr>\n",
       "    <tr>\n",
       "      <th>2016-01-12 01:30:00</th>\n",
       "      <td>0.0</td>\n",
       "      <td>-1.0</td>\n",
       "      <td>-1.0</td>\n",
       "      <td>1.0</td>\n",
       "      <td>1.0</td>\n",
       "      <td>-1.0</td>\n",
       "      <td>0.0</td>\n",
       "      <td>1.0</td>\n",
       "      <td>0.0</td>\n",
       "      <td>-1.0</td>\n",
       "    </tr>\n",
       "    <tr>\n",
       "      <th>2016-01-12 05:15:00</th>\n",
       "      <td>0.0</td>\n",
       "      <td>0.0</td>\n",
       "      <td>-1.0</td>\n",
       "      <td>-1.0</td>\n",
       "      <td>1.0</td>\n",
       "      <td>1.0</td>\n",
       "      <td>-1.0</td>\n",
       "      <td>0.0</td>\n",
       "      <td>0.0</td>\n",
       "      <td>0.0</td>\n",
       "    </tr>\n",
       "  </tbody>\n",
       "</table>\n",
       "</div>"
      ],
      "text/plain": [
       "                      demand  demand_lag1  demand_lag2  demand_lag3  \\\n",
       "trip_start_timestamp                                                  \n",
       "2016-01-12 00:15:00     -1.0         -1.0          1.0          1.0   \n",
       "2016-01-12 01:30:00      0.0         -1.0         -1.0          1.0   \n",
       "2016-01-12 05:15:00      0.0          0.0         -1.0         -1.0   \n",
       "\n",
       "                      demand_lag4  demand_lag5  demand_lag6  demand_lag7  \\\n",
       "trip_start_timestamp                                                       \n",
       "2016-01-12 00:15:00          -1.0          0.0          1.0         -1.0   \n",
       "2016-01-12 01:30:00           1.0         -1.0          0.0          1.0   \n",
       "2016-01-12 05:15:00           1.0          1.0         -1.0          0.0   \n",
       "\n",
       "                      demand_lag96  demand_lag672  \n",
       "trip_start_timestamp                               \n",
       "2016-01-12 00:15:00            0.0           -2.0  \n",
       "2016-01-12 01:30:00            0.0           -1.0  \n",
       "2016-01-12 05:15:00            0.0            0.0  "
      ]
     },
     "execution_count": 296,
     "metadata": {},
     "output_type": "execute_result"
    }
   ],
   "source": [
    "demand.head(3)"
   ]
  },
  {
   "cell_type": "markdown",
   "metadata": {},
   "source": [
    "**Separating out a dataset for testing**"
   ]
  },
  {
   "cell_type": "code",
   "execution_count": 297,
   "metadata": {
    "ExecuteTime": {
     "end_time": "2018-09-13T16:11:03.752387Z",
     "start_time": "2018-09-13T16:11:03.736584Z"
    }
   },
   "outputs": [],
   "source": [
    "demand_jan_mar = demand[(demand.index >= pd.to_datetime('2016-01-01 00:00:00')) & \n",
    "                       (demand.index <= pd.to_datetime('2016-03-31 23:59:59'))]\n",
    "demand_jan_mar = demand_jan_mar.dropna()\n",
    "\n",
    "demand_apr = demand[(demand.index >= pd.to_datetime('2016-04-01 00:00:00')) & \n",
    "                       (demand.index <= pd.to_datetime('2016-04-30 23:59:59'))]\n",
    "demand_apr = demand_apr.dropna()\n",
    "\n",
    "demand_apr_may = demand[(demand.index >= pd.to_datetime('2016-04-01 00:00:00')) & \n",
    "                       (demand.index <= pd.to_datetime('2016-05-31 23:59:59'))]\n",
    "demand_apr_may = demand_apr_may.dropna()"
   ]
  },
  {
   "cell_type": "code",
   "execution_count": 298,
   "metadata": {
    "ExecuteTime": {
     "end_time": "2018-09-13T16:11:05.294241Z",
     "start_time": "2018-09-13T16:11:05.281297Z"
    }
   },
   "outputs": [
    {
     "data": {
      "text/html": [
       "<div>\n",
       "<style scoped>\n",
       "    .dataframe tbody tr th:only-of-type {\n",
       "        vertical-align: middle;\n",
       "    }\n",
       "\n",
       "    .dataframe tbody tr th {\n",
       "        vertical-align: top;\n",
       "    }\n",
       "\n",
       "    .dataframe thead th {\n",
       "        text-align: right;\n",
       "    }\n",
       "</style>\n",
       "<table border=\"1\" class=\"dataframe\">\n",
       "  <thead>\n",
       "    <tr style=\"text-align: right;\">\n",
       "      <th></th>\n",
       "      <th>demand</th>\n",
       "      <th>demand_lag1</th>\n",
       "      <th>demand_lag2</th>\n",
       "      <th>demand_lag3</th>\n",
       "      <th>demand_lag4</th>\n",
       "      <th>demand_lag5</th>\n",
       "      <th>demand_lag6</th>\n",
       "      <th>demand_lag7</th>\n",
       "      <th>demand_lag96</th>\n",
       "      <th>demand_lag672</th>\n",
       "    </tr>\n",
       "    <tr>\n",
       "      <th>trip_start_timestamp</th>\n",
       "      <th></th>\n",
       "      <th></th>\n",
       "      <th></th>\n",
       "      <th></th>\n",
       "      <th></th>\n",
       "      <th></th>\n",
       "      <th></th>\n",
       "      <th></th>\n",
       "      <th></th>\n",
       "      <th></th>\n",
       "    </tr>\n",
       "  </thead>\n",
       "  <tbody>\n",
       "    <tr>\n",
       "      <th>2016-04-30 22:30:00</th>\n",
       "      <td>-3.0</td>\n",
       "      <td>2.0</td>\n",
       "      <td>-1.0</td>\n",
       "      <td>1.0</td>\n",
       "      <td>-2.0</td>\n",
       "      <td>3.0</td>\n",
       "      <td>0.0</td>\n",
       "      <td>-4.0</td>\n",
       "      <td>-1.0</td>\n",
       "      <td>1.0</td>\n",
       "    </tr>\n",
       "    <tr>\n",
       "      <th>2016-04-30 22:45:00</th>\n",
       "      <td>1.0</td>\n",
       "      <td>-3.0</td>\n",
       "      <td>2.0</td>\n",
       "      <td>-1.0</td>\n",
       "      <td>1.0</td>\n",
       "      <td>-2.0</td>\n",
       "      <td>3.0</td>\n",
       "      <td>0.0</td>\n",
       "      <td>1.0</td>\n",
       "      <td>1.0</td>\n",
       "    </tr>\n",
       "    <tr>\n",
       "      <th>2016-04-30 23:00:00</th>\n",
       "      <td>0.0</td>\n",
       "      <td>1.0</td>\n",
       "      <td>-3.0</td>\n",
       "      <td>2.0</td>\n",
       "      <td>-1.0</td>\n",
       "      <td>1.0</td>\n",
       "      <td>-2.0</td>\n",
       "      <td>3.0</td>\n",
       "      <td>2.0</td>\n",
       "      <td>0.0</td>\n",
       "    </tr>\n",
       "    <tr>\n",
       "      <th>2016-04-30 23:30:00</th>\n",
       "      <td>1.0</td>\n",
       "      <td>0.0</td>\n",
       "      <td>1.0</td>\n",
       "      <td>-3.0</td>\n",
       "      <td>2.0</td>\n",
       "      <td>-1.0</td>\n",
       "      <td>1.0</td>\n",
       "      <td>-2.0</td>\n",
       "      <td>-4.0</td>\n",
       "      <td>-1.0</td>\n",
       "    </tr>\n",
       "    <tr>\n",
       "      <th>2016-04-30 23:45:00</th>\n",
       "      <td>2.0</td>\n",
       "      <td>1.0</td>\n",
       "      <td>0.0</td>\n",
       "      <td>1.0</td>\n",
       "      <td>-3.0</td>\n",
       "      <td>2.0</td>\n",
       "      <td>-1.0</td>\n",
       "      <td>1.0</td>\n",
       "      <td>2.0</td>\n",
       "      <td>1.0</td>\n",
       "    </tr>\n",
       "  </tbody>\n",
       "</table>\n",
       "</div>"
      ],
      "text/plain": [
       "                      demand  demand_lag1  demand_lag2  demand_lag3  \\\n",
       "trip_start_timestamp                                                  \n",
       "2016-04-30 22:30:00     -3.0          2.0         -1.0          1.0   \n",
       "2016-04-30 22:45:00      1.0         -3.0          2.0         -1.0   \n",
       "2016-04-30 23:00:00      0.0          1.0         -3.0          2.0   \n",
       "2016-04-30 23:30:00      1.0          0.0          1.0         -3.0   \n",
       "2016-04-30 23:45:00      2.0          1.0          0.0          1.0   \n",
       "\n",
       "                      demand_lag4  demand_lag5  demand_lag6  demand_lag7  \\\n",
       "trip_start_timestamp                                                       \n",
       "2016-04-30 22:30:00          -2.0          3.0          0.0         -4.0   \n",
       "2016-04-30 22:45:00           1.0         -2.0          3.0          0.0   \n",
       "2016-04-30 23:00:00          -1.0          1.0         -2.0          3.0   \n",
       "2016-04-30 23:30:00           2.0         -1.0          1.0         -2.0   \n",
       "2016-04-30 23:45:00          -3.0          2.0         -1.0          1.0   \n",
       "\n",
       "                      demand_lag96  demand_lag672  \n",
       "trip_start_timestamp                               \n",
       "2016-04-30 22:30:00           -1.0            1.0  \n",
       "2016-04-30 22:45:00            1.0            1.0  \n",
       "2016-04-30 23:00:00            2.0            0.0  \n",
       "2016-04-30 23:30:00           -4.0           -1.0  \n",
       "2016-04-30 23:45:00            2.0            1.0  "
      ]
     },
     "execution_count": 298,
     "metadata": {},
     "output_type": "execute_result"
    }
   ],
   "source": [
    "# print(demand_jan_mar.head(5))\n",
    "demand_apr.tail(5)"
   ]
  },
  {
   "cell_type": "code",
   "execution_count": 299,
   "metadata": {
    "ExecuteTime": {
     "end_time": "2018-09-13T16:11:06.850487Z",
     "start_time": "2018-09-13T16:11:06.842412Z"
    }
   },
   "outputs": [],
   "source": [
    "#Manual train-test split\n",
    "lagged_demand, target_demand = demand_jan_mar.iloc[:, 1:], demand_jan_mar.iloc[:, 0]\n",
    "test_lagged_demand, test_actual_demand = demand_apr.iloc[:, 1:], demand_apr.iloc[:, 0]\n",
    "\n",
    "LR_demand = LinearRegression()\n",
    "LR_demand.fit(lagged_demand, target_demand)\n",
    "\n",
    "predicted_demand = LR_demand.predict(test_lagged_demand)"
   ]
  },
  {
   "cell_type": "code",
   "execution_count": 300,
   "metadata": {
    "ExecuteTime": {
     "end_time": "2018-09-13T16:11:08.402416Z",
     "start_time": "2018-09-13T16:11:08.396596Z"
    },
    "scrolled": true
   },
   "outputs": [
    {
     "name": "stdout",
     "output_type": "stream",
     "text": [
      "R2 score: 0.42\n",
      "RMSE score: 1.33\n"
     ]
    }
   ],
   "source": [
    "R2_score = LR_demand.score(test_lagged_demand, test_actual_demand)\n",
    "MSE = mean_squared_error(test_actual_demand, predicted_demand)\n",
    "RMSE = np.sqrt(MSE)\n",
    "\n",
    "print(f'R2 score: {round(R2_score, 2)}')\n",
    "print(f'RMSE score: {round(RMSE, 2)}')"
   ]
  },
  {
   "cell_type": "code",
   "execution_count": 301,
   "metadata": {
    "ExecuteTime": {
     "end_time": "2018-09-13T16:11:09.990654Z",
     "start_time": "2018-09-13T16:11:09.983069Z"
    }
   },
   "outputs": [
    {
     "data": {
      "text/plain": [
       "count    1976.000000\n",
       "mean        0.000506\n",
       "std         1.752105\n",
       "min        -7.000000\n",
       "25%        -1.000000\n",
       "50%         0.000000\n",
       "75%         1.000000\n",
       "max         7.000000\n",
       "Name: demand, dtype: float64"
      ]
     },
     "execution_count": 301,
     "metadata": {},
     "output_type": "execute_result"
    }
   ],
   "source": [
    "test_actual_demand.describe()"
   ]
  },
  {
   "cell_type": "markdown",
   "metadata": {},
   "source": [
    "Scores with 7 lags:\n",
    "                     * R2 score: 0.26\n",
    "                     * RMSE score: 35.95\n",
    "                     \n",
    "Scores with 7 lags & 96th:\n",
    "                     * R2 score: 0.34\n",
    "                     * RMSE score: 33.81\n",
    "                     \n",
    "Scores with 7 lags & 96th & 672nd:\n",
    "                     * R2 score: 0.41\n",
    "                     * RMSE score: 32.0"
   ]
  },
  {
   "cell_type": "code",
   "execution_count": 302,
   "metadata": {
    "ExecuteTime": {
     "end_time": "2018-09-13T16:11:12.815993Z",
     "start_time": "2018-09-13T16:11:12.541557Z"
    },
    "scrolled": false
   },
   "outputs": [
    {
     "data": {
      "image/png": "[encoded data removed]",
      "text/plain": [
       "<Figure size 1800x360 with 1 Axes>"
      ]
     },
     "metadata": {},
     "output_type": "display_data"
    }
   ],
   "source": [
    "plt.figure(figsize=(25, 5))\n",
    "plt.plot(test_actual_demand.index, test_actual_demand, color='c')\n",
    "plt.plot(test_actual_demand.index, predicted_demand, color='m')\n",
    "plt.title('Predicted April 2016 Demand versus Actual')\n",
    "plt.xlabel('Time')\n",
    "plt.ylabel('Taxi Demand');"
   ]
  },
  {
   "cell_type": "markdown",
   "metadata": {},
   "source": [
    "### Trying out Facebook's Prophet, just for fun"
   ]
  },
  {
   "cell_type": "code",
   "execution_count": 158,
   "metadata": {
    "ExecuteTime": {
     "end_time": "2018-09-12T22:30:46.246132Z",
     "start_time": "2018-09-12T22:30:46.243560Z"
    }
   },
   "outputs": [],
   "source": [
    "# know_it_all = Prophet()\n",
    "# know_it_all.fit(demand_jan_mar)"
   ]
  },
  {
   "cell_type": "code",
   "execution_count": 159,
   "metadata": {
    "ExecuteTime": {
     "end_time": "2018-09-12T22:30:46.250598Z",
     "start_time": "2018-09-12T22:30:46.248229Z"
    }
   },
   "outputs": [],
   "source": [
    "# future = know_it_all.make_future_dataframe(period=96)\n",
    "# future.tail(3)"
   ]
  },
  {
   "cell_type": "code",
   "execution_count": 160,
   "metadata": {
    "ExecuteTime": {
     "end_time": "2018-09-12T22:30:46.254597Z",
     "start_time": "2018-09-12T22:30:46.252575Z"
    }
   },
   "outputs": [],
   "source": [
    "# forecast = know_it_all.predict(future)\n",
    "# forecast[['trip_start_timestamp', 'yhat', 'yhat_lower', 'yhat_higher']].tail(5)"
   ]
  },
  {
   "cell_type": "code",
   "execution_count": 161,
   "metadata": {
    "ExecuteTime": {
     "end_time": "2018-09-12T22:30:46.258766Z",
     "start_time": "2018-09-12T22:30:46.256745Z"
    }
   },
   "outputs": [],
   "source": [
    "# future_predictions = know_it_all.plot(forecast)"
   ]
  },
  {
   "cell_type": "code",
   "execution_count": null,
   "metadata": {},
   "outputs": [],
   "source": []
  },
  {
   "cell_type": "markdown",
   "metadata": {},
   "source": [
    "### Final prep for modelling"
   ]
  },
  {
   "cell_type": "code",
   "execution_count": 303,
   "metadata": {
    "ExecuteTime": {
     "end_time": "2018-09-13T16:11:19.623723Z",
     "start_time": "2018-09-13T16:11:19.619236Z"
    }
   },
   "outputs": [],
   "source": [
    "#Creating trip_start_timestamp column for merging\n",
    "demand = demand.reset_index()"
   ]
  },
  {
   "cell_type": "code",
   "execution_count": 304,
   "metadata": {
    "ExecuteTime": {
     "end_time": "2018-09-13T16:11:21.258575Z",
     "start_time": "2018-09-13T16:11:21.244412Z"
    }
   },
   "outputs": [
    {
     "data": {
      "text/html": [
       "<div>\n",
       "<style scoped>\n",
       "    .dataframe tbody tr th:only-of-type {\n",
       "        vertical-align: middle;\n",
       "    }\n",
       "\n",
       "    .dataframe tbody tr th {\n",
       "        vertical-align: top;\n",
       "    }\n",
       "\n",
       "    .dataframe thead th {\n",
       "        text-align: right;\n",
       "    }\n",
       "</style>\n",
       "<table border=\"1\" class=\"dataframe\">\n",
       "  <thead>\n",
       "    <tr style=\"text-align: right;\">\n",
       "      <th></th>\n",
       "      <th>trip_start_timestamp</th>\n",
       "      <th>demand</th>\n",
       "      <th>demand_lag1</th>\n",
       "      <th>demand_lag2</th>\n",
       "      <th>demand_lag3</th>\n",
       "      <th>demand_lag4</th>\n",
       "      <th>demand_lag5</th>\n",
       "      <th>demand_lag6</th>\n",
       "      <th>demand_lag7</th>\n",
       "      <th>demand_lag96</th>\n",
       "      <th>demand_lag672</th>\n",
       "    </tr>\n",
       "  </thead>\n",
       "  <tbody>\n",
       "    <tr>\n",
       "      <th>0</th>\n",
       "      <td>2016-01-12 00:15:00</td>\n",
       "      <td>-1.0</td>\n",
       "      <td>-1.0</td>\n",
       "      <td>1.0</td>\n",
       "      <td>1.0</td>\n",
       "      <td>-1.0</td>\n",
       "      <td>0.0</td>\n",
       "      <td>1.0</td>\n",
       "      <td>-1.0</td>\n",
       "      <td>0.0</td>\n",
       "      <td>-2.0</td>\n",
       "    </tr>\n",
       "    <tr>\n",
       "      <th>1</th>\n",
       "      <td>2016-01-12 01:30:00</td>\n",
       "      <td>0.0</td>\n",
       "      <td>-1.0</td>\n",
       "      <td>-1.0</td>\n",
       "      <td>1.0</td>\n",
       "      <td>1.0</td>\n",
       "      <td>-1.0</td>\n",
       "      <td>0.0</td>\n",
       "      <td>1.0</td>\n",
       "      <td>0.0</td>\n",
       "      <td>-1.0</td>\n",
       "    </tr>\n",
       "    <tr>\n",
       "      <th>2</th>\n",
       "      <td>2016-01-12 05:15:00</td>\n",
       "      <td>0.0</td>\n",
       "      <td>0.0</td>\n",
       "      <td>-1.0</td>\n",
       "      <td>-1.0</td>\n",
       "      <td>1.0</td>\n",
       "      <td>1.0</td>\n",
       "      <td>-1.0</td>\n",
       "      <td>0.0</td>\n",
       "      <td>0.0</td>\n",
       "      <td>0.0</td>\n",
       "    </tr>\n",
       "    <tr>\n",
       "      <th>3</th>\n",
       "      <td>2016-01-12 07:00:00</td>\n",
       "      <td>2.0</td>\n",
       "      <td>0.0</td>\n",
       "      <td>0.0</td>\n",
       "      <td>-1.0</td>\n",
       "      <td>-1.0</td>\n",
       "      <td>1.0</td>\n",
       "      <td>1.0</td>\n",
       "      <td>-1.0</td>\n",
       "      <td>0.0</td>\n",
       "      <td>0.0</td>\n",
       "    </tr>\n",
       "    <tr>\n",
       "      <th>4</th>\n",
       "      <td>2016-01-12 07:30:00</td>\n",
       "      <td>-2.0</td>\n",
       "      <td>2.0</td>\n",
       "      <td>0.0</td>\n",
       "      <td>0.0</td>\n",
       "      <td>-1.0</td>\n",
       "      <td>-1.0</td>\n",
       "      <td>1.0</td>\n",
       "      <td>1.0</td>\n",
       "      <td>0.0</td>\n",
       "      <td>1.0</td>\n",
       "    </tr>\n",
       "  </tbody>\n",
       "</table>\n",
       "</div>"
      ],
      "text/plain": [
       "  trip_start_timestamp  demand  demand_lag1  demand_lag2  demand_lag3  \\\n",
       "0  2016-01-12 00:15:00    -1.0         -1.0          1.0          1.0   \n",
       "1  2016-01-12 01:30:00     0.0         -1.0         -1.0          1.0   \n",
       "2  2016-01-12 05:15:00     0.0          0.0         -1.0         -1.0   \n",
       "3  2016-01-12 07:00:00     2.0          0.0          0.0         -1.0   \n",
       "4  2016-01-12 07:30:00    -2.0          2.0          0.0          0.0   \n",
       "\n",
       "   demand_lag4  demand_lag5  demand_lag6  demand_lag7  demand_lag96  \\\n",
       "0         -1.0          0.0          1.0         -1.0           0.0   \n",
       "1          1.0         -1.0          0.0          1.0           0.0   \n",
       "2          1.0          1.0         -1.0          0.0           0.0   \n",
       "3         -1.0          1.0          1.0         -1.0           0.0   \n",
       "4         -1.0         -1.0          1.0          1.0           0.0   \n",
       "\n",
       "   demand_lag672  \n",
       "0           -2.0  \n",
       "1           -1.0  \n",
       "2            0.0  \n",
       "3            0.0  \n",
       "4            1.0  "
      ]
     },
     "execution_count": 304,
     "metadata": {},
     "output_type": "execute_result"
    }
   ],
   "source": [
    "demand.head()"
   ]
  },
  {
   "cell_type": "markdown",
   "metadata": {},
   "source": [
    "## Merge original dataset with the demand dataframe"
   ]
  },
  {
   "cell_type": "code",
   "execution_count": 305,
   "metadata": {
    "ExecuteTime": {
     "end_time": "2018-09-13T16:11:32.558283Z",
     "start_time": "2018-09-13T16:11:32.554862Z"
    }
   },
   "outputs": [],
   "source": [
    "#Creating the final dataset\n",
    "taxi_weather_final = taxi_weather_clean"
   ]
  },
  {
   "cell_type": "code",
   "execution_count": 306,
   "metadata": {
    "ExecuteTime": {
     "end_time": "2018-09-13T16:11:34.274815Z",
     "start_time": "2018-09-13T16:11:34.111510Z"
    }
   },
   "outputs": [],
   "source": [
    "#Adding demand variable in (joining on the trip_start_timestamp)\n",
    "taxi_weather_final = taxi_weather_final.merge(demand, how='left', on='trip_start_timestamp')\n",
    "taxi_weather_final = taxi_weather_final.dropna()"
   ]
  },
  {
   "cell_type": "code",
   "execution_count": 307,
   "metadata": {
    "ExecuteTime": {
     "end_time": "2018-09-13T16:11:35.803155Z",
     "start_time": "2018-09-13T16:11:35.800469Z"
    }
   },
   "outputs": [],
   "source": [
    "# taxi_weather_final = taxi_weather_final.dropna()"
   ]
  },
  {
   "cell_type": "code",
   "execution_count": 308,
   "metadata": {
    "ExecuteTime": {
     "end_time": "2018-09-13T16:11:37.308511Z",
     "start_time": "2018-09-13T16:11:37.285741Z"
    }
   },
   "outputs": [
    {
     "data": {
      "text/html": [
       "<div>\n",
       "<style scoped>\n",
       "    .dataframe tbody tr th:only-of-type {\n",
       "        vertical-align: middle;\n",
       "    }\n",
       "\n",
       "    .dataframe tbody tr th {\n",
       "        vertical-align: top;\n",
       "    }\n",
       "\n",
       "    .dataframe thead th {\n",
       "        text-align: right;\n",
       "    }\n",
       "</style>\n",
       "<table border=\"1\" class=\"dataframe\">\n",
       "  <thead>\n",
       "    <tr style=\"text-align: right;\">\n",
       "      <th></th>\n",
       "      <th>trip_start_timestamp</th>\n",
       "      <th>trip_end_timestamp</th>\n",
       "      <th>trip_seconds</th>\n",
       "      <th>trip_miles</th>\n",
       "      <th>fare_with_tolls</th>\n",
       "      <th>payment_type</th>\n",
       "      <th>pickup_centroid_latitude</th>\n",
       "      <th>pickup_centroid_longitude</th>\n",
       "      <th>pickup_centroid_location</th>\n",
       "      <th>dropoff_centroid_latitude</th>\n",
       "      <th>...</th>\n",
       "      <th>demand</th>\n",
       "      <th>demand_lag1</th>\n",
       "      <th>demand_lag2</th>\n",
       "      <th>demand_lag3</th>\n",
       "      <th>demand_lag4</th>\n",
       "      <th>demand_lag5</th>\n",
       "      <th>demand_lag6</th>\n",
       "      <th>demand_lag7</th>\n",
       "      <th>demand_lag96</th>\n",
       "      <th>demand_lag672</th>\n",
       "    </tr>\n",
       "  </thead>\n",
       "  <tbody>\n",
       "    <tr>\n",
       "      <th>0</th>\n",
       "      <td>2016-08-22 09:45:00</td>\n",
       "      <td>2016-08-22 10:00:00</td>\n",
       "      <td>480.0</td>\n",
       "      <td>1.0</td>\n",
       "      <td>6.75</td>\n",
       "      <td>Cash</td>\n",
       "      <td>41.893216</td>\n",
       "      <td>-87.637844</td>\n",
       "      <td>POINT (-87.6378442095 41.8932163595)</td>\n",
       "      <td>41.880994</td>\n",
       "      <td>...</td>\n",
       "      <td>0.0</td>\n",
       "      <td>1.0</td>\n",
       "      <td>0.0</td>\n",
       "      <td>0.0</td>\n",
       "      <td>0.0</td>\n",
       "      <td>0.0</td>\n",
       "      <td>0.0</td>\n",
       "      <td>0.0</td>\n",
       "      <td>0.0</td>\n",
       "      <td>1.0</td>\n",
       "    </tr>\n",
       "    <tr>\n",
       "      <th>1</th>\n",
       "      <td>2016-07-18 08:15:00</td>\n",
       "      <td>2016-07-18 08:15:00</td>\n",
       "      <td>420.0</td>\n",
       "      <td>0.7</td>\n",
       "      <td>6.75</td>\n",
       "      <td>Cash</td>\n",
       "      <td>41.890922</td>\n",
       "      <td>-87.618868</td>\n",
       "      <td>POINT (-87.6188683546 41.8909220259)</td>\n",
       "      <td>41.890922</td>\n",
       "      <td>...</td>\n",
       "      <td>2.0</td>\n",
       "      <td>0.0</td>\n",
       "      <td>-1.0</td>\n",
       "      <td>1.0</td>\n",
       "      <td>0.0</td>\n",
       "      <td>0.0</td>\n",
       "      <td>0.0</td>\n",
       "      <td>-1.0</td>\n",
       "      <td>0.0</td>\n",
       "      <td>-1.0</td>\n",
       "    </tr>\n",
       "  </tbody>\n",
       "</table>\n",
       "<p>2 rows × 32 columns</p>\n",
       "</div>"
      ],
      "text/plain": [
       "  trip_start_timestamp  trip_end_timestamp  trip_seconds  trip_miles  \\\n",
       "0  2016-08-22 09:45:00 2016-08-22 10:00:00         480.0         1.0   \n",
       "1  2016-07-18 08:15:00 2016-07-18 08:15:00         420.0         0.7   \n",
       "\n",
       "   fare_with_tolls payment_type  pickup_centroid_latitude  \\\n",
       "0             6.75         Cash                 41.893216   \n",
       "1             6.75         Cash                 41.890922   \n",
       "\n",
       "   pickup_centroid_longitude              pickup_centroid_location  \\\n",
       "0                 -87.637844  POINT (-87.6378442095 41.8932163595)   \n",
       "1                 -87.618868  POINT (-87.6188683546 41.8909220259)   \n",
       "\n",
       "   dropoff_centroid_latitude      ...        demand demand_lag1  demand_lag2  \\\n",
       "0                  41.880994      ...           0.0         1.0          0.0   \n",
       "1                  41.890922      ...           2.0         0.0         -1.0   \n",
       "\n",
       "   demand_lag3  demand_lag4  demand_lag5  demand_lag6 demand_lag7  \\\n",
       "0          0.0          0.0          0.0          0.0         0.0   \n",
       "1          1.0          0.0          0.0          0.0        -1.0   \n",
       "\n",
       "  demand_lag96  demand_lag672  \n",
       "0          0.0            1.0  \n",
       "1          0.0           -1.0  \n",
       "\n",
       "[2 rows x 32 columns]"
      ]
     },
     "execution_count": 308,
     "metadata": {},
     "output_type": "execute_result"
    }
   ],
   "source": [
    "taxi_weather_final.head(2)"
   ]
  },
  {
   "cell_type": "markdown",
   "metadata": {},
   "source": [
    "#### Log distance and target variables"
   ]
  },
  {
   "cell_type": "code",
   "execution_count": 309,
   "metadata": {
    "ExecuteTime": {
     "end_time": "2018-09-13T16:11:41.279047Z",
     "start_time": "2018-09-13T16:11:40.835315Z"
    }
   },
   "outputs": [],
   "source": [
    "#Given previous analysis, miles, seconds and fare variables all have right-skewed distribution, to fix that I'm logging those three variables\n",
    "taxi_weather_final['log_trip_miles'] = np.log(taxi_weather_final['trip_miles'])\n",
    "taxi_weather_final['log_trip_seconds'] = np.log(taxi_weather_final['trip_seconds'])\n",
    "taxi_weather_final['log_fare_with_tolls'] = np.log(taxi_weather_final['fare_with_tolls'])\n",
    "\n",
    "#Convert the timestamp to a float\n",
    "taxi_weather_final['current_time'] = [time_stamp.timestamp() for time_stamp in taxi_weather_final['trip_start_timestamp']]"
   ]
  },
  {
   "cell_type": "code",
   "execution_count": 310,
   "metadata": {
    "ExecuteTime": {
     "end_time": "2018-09-13T16:11:42.766202Z",
     "start_time": "2018-09-13T16:11:42.743034Z"
    }
   },
   "outputs": [
    {
     "data": {
      "text/html": [
       "<div>\n",
       "<style scoped>\n",
       "    .dataframe tbody tr th:only-of-type {\n",
       "        vertical-align: middle;\n",
       "    }\n",
       "\n",
       "    .dataframe tbody tr th {\n",
       "        vertical-align: top;\n",
       "    }\n",
       "\n",
       "    .dataframe thead th {\n",
       "        text-align: right;\n",
       "    }\n",
       "</style>\n",
       "<table border=\"1\" class=\"dataframe\">\n",
       "  <thead>\n",
       "    <tr style=\"text-align: right;\">\n",
       "      <th></th>\n",
       "      <th>trip_start_timestamp</th>\n",
       "      <th>trip_end_timestamp</th>\n",
       "      <th>trip_seconds</th>\n",
       "      <th>trip_miles</th>\n",
       "      <th>fare_with_tolls</th>\n",
       "      <th>payment_type</th>\n",
       "      <th>pickup_centroid_latitude</th>\n",
       "      <th>pickup_centroid_longitude</th>\n",
       "      <th>pickup_centroid_location</th>\n",
       "      <th>dropoff_centroid_latitude</th>\n",
       "      <th>...</th>\n",
       "      <th>demand_lag4</th>\n",
       "      <th>demand_lag5</th>\n",
       "      <th>demand_lag6</th>\n",
       "      <th>demand_lag7</th>\n",
       "      <th>demand_lag96</th>\n",
       "      <th>demand_lag672</th>\n",
       "      <th>log_trip_miles</th>\n",
       "      <th>log_trip_seconds</th>\n",
       "      <th>log_fare_with_tolls</th>\n",
       "      <th>current_time</th>\n",
       "    </tr>\n",
       "  </thead>\n",
       "  <tbody>\n",
       "    <tr>\n",
       "      <th>0</th>\n",
       "      <td>2016-08-22 09:45:00</td>\n",
       "      <td>2016-08-22 10:00:00</td>\n",
       "      <td>480.0</td>\n",
       "      <td>1.0</td>\n",
       "      <td>6.75</td>\n",
       "      <td>Cash</td>\n",
       "      <td>41.893216</td>\n",
       "      <td>-87.637844</td>\n",
       "      <td>POINT (-87.6378442095 41.8932163595)</td>\n",
       "      <td>41.880994</td>\n",
       "      <td>...</td>\n",
       "      <td>0.0</td>\n",
       "      <td>0.0</td>\n",
       "      <td>0.0</td>\n",
       "      <td>0.0</td>\n",
       "      <td>0.0</td>\n",
       "      <td>1.0</td>\n",
       "      <td>0.000000</td>\n",
       "      <td>6.173786</td>\n",
       "      <td>1.909543</td>\n",
       "      <td>1.471859e+09</td>\n",
       "    </tr>\n",
       "    <tr>\n",
       "      <th>1</th>\n",
       "      <td>2016-07-18 08:15:00</td>\n",
       "      <td>2016-07-18 08:15:00</td>\n",
       "      <td>420.0</td>\n",
       "      <td>0.7</td>\n",
       "      <td>6.75</td>\n",
       "      <td>Cash</td>\n",
       "      <td>41.890922</td>\n",
       "      <td>-87.618868</td>\n",
       "      <td>POINT (-87.6188683546 41.8909220259)</td>\n",
       "      <td>41.890922</td>\n",
       "      <td>...</td>\n",
       "      <td>0.0</td>\n",
       "      <td>0.0</td>\n",
       "      <td>0.0</td>\n",
       "      <td>-1.0</td>\n",
       "      <td>0.0</td>\n",
       "      <td>-1.0</td>\n",
       "      <td>-0.356675</td>\n",
       "      <td>6.040255</td>\n",
       "      <td>1.909543</td>\n",
       "      <td>1.468830e+09</td>\n",
       "    </tr>\n",
       "  </tbody>\n",
       "</table>\n",
       "<p>2 rows × 36 columns</p>\n",
       "</div>"
      ],
      "text/plain": [
       "  trip_start_timestamp  trip_end_timestamp  trip_seconds  trip_miles  \\\n",
       "0  2016-08-22 09:45:00 2016-08-22 10:00:00         480.0         1.0   \n",
       "1  2016-07-18 08:15:00 2016-07-18 08:15:00         420.0         0.7   \n",
       "\n",
       "   fare_with_tolls payment_type  pickup_centroid_latitude  \\\n",
       "0             6.75         Cash                 41.893216   \n",
       "1             6.75         Cash                 41.890922   \n",
       "\n",
       "   pickup_centroid_longitude              pickup_centroid_location  \\\n",
       "0                 -87.637844  POINT (-87.6378442095 41.8932163595)   \n",
       "1                 -87.618868  POINT (-87.6188683546 41.8909220259)   \n",
       "\n",
       "   dropoff_centroid_latitude      ...       demand_lag4 demand_lag5  \\\n",
       "0                  41.880994      ...               0.0         0.0   \n",
       "1                  41.890922      ...               0.0         0.0   \n",
       "\n",
       "   demand_lag6  demand_lag7  demand_lag96  demand_lag672  log_trip_miles  \\\n",
       "0          0.0          0.0           0.0            1.0        0.000000   \n",
       "1          0.0         -1.0           0.0           -1.0       -0.356675   \n",
       "\n",
       "  log_trip_seconds log_fare_with_tolls  current_time  \n",
       "0         6.173786            1.909543  1.471859e+09  \n",
       "1         6.040255            1.909543  1.468830e+09  \n",
       "\n",
       "[2 rows x 36 columns]"
      ]
     },
     "execution_count": 310,
     "metadata": {},
     "output_type": "execute_result"
    }
   ],
   "source": [
    "taxi_weather_final.head(2)"
   ]
  },
  {
   "cell_type": "markdown",
   "metadata": {},
   "source": [
    "### Explore exogenious variables"
   ]
  },
  {
   "cell_type": "code",
   "execution_count": 311,
   "metadata": {
    "ExecuteTime": {
     "end_time": "2018-09-13T16:11:45.700088Z",
     "start_time": "2018-09-13T16:11:45.682379Z"
    }
   },
   "outputs": [],
   "source": [
    "taxi_smaller = taxi_weather_final[['trip_start_timestamp', 'trip_miles', 'pickup_centroid_latitude', 'pickup_centroid_longitude', 'dropoff_centroid_latitude', 'dropoff_centroid_longitude',\n",
    "                          'avg_temp_f', 'fog', 'rain', 'snow', 'trip_seconds', 'fare_with_tolls']]"
   ]
  },
  {
   "cell_type": "code",
   "execution_count": 312,
   "metadata": {
    "ExecuteTime": {
     "end_time": "2018-09-13T16:11:47.233796Z",
     "start_time": "2018-09-13T16:11:47.227237Z"
    }
   },
   "outputs": [],
   "source": [
    "taxi_weather_Sept = taxi_smaller[(taxi_smaller['trip_start_timestamp'] >= '2016-09-01 00:00:00') &\n",
    "                                         (taxi_smaller['trip_start_timestamp'] <= '2016-09-15 23:59:59')]\n"
   ]
  },
  {
   "cell_type": "code",
   "execution_count": 313,
   "metadata": {
    "ExecuteTime": {
     "end_time": "2018-09-13T16:11:58.340056Z",
     "start_time": "2018-09-13T16:11:48.665718Z"
    }
   },
   "outputs": [
    {
     "data": {
      "text/plain": [
       "<seaborn.axisgrid.PairGrid at 0x4227ddfd0>"
      ]
     },
     "execution_count": 313,
     "metadata": {},
     "output_type": "execute_result"
    },
    {
     "data": {
      "image/png": "[encoded data removed]",
      "text/plain": [
       "<Figure size 1980x1980 with 132 Axes>"
      ]
     },
     "metadata": {},
     "output_type": "display_data"
    }
   ],
   "source": [
    "sns.pairplot(taxi_weather_Sept)"
   ]
  },
  {
   "cell_type": "markdown",
   "metadata": {},
   "source": [
    "### Define features and target"
   ]
  },
  {
   "cell_type": "code",
   "execution_count": 314,
   "metadata": {
    "ExecuteTime": {
     "end_time": "2018-09-13T16:11:59.805253Z",
     "start_time": "2018-09-13T16:11:59.795122Z"
    }
   },
   "outputs": [],
   "source": [
    "#Define features and target variable for trip duration prediction\n",
    "features_duration = taxi_weather_final[['demand_lag1', 'demand_lag2', 'demand_lag3', 'demand_lag4', 'demand_lag5', 'demand_lag6', 'demand_lag7', 'demand_lag96', 'demand_lag672', 'pickup_weekday', \n",
    "                               'log_trip_miles', 'pickup_centroid_latitude', 'pickup_centroid_longitude', 'dropoff_centroid_latitude', 'dropoff_centroid_longitude',\n",
    "                               'avg_temp_f', 'fog', 'rain', 'snow']]  #'avg_daily_wind_speed'\n",
    "target_duration_log = taxi_weather_final['log_trip_seconds'] #taxi_weather_final[fare_with_tolls]\n"
   ]
  },
  {
   "cell_type": "code",
   "execution_count": 315,
   "metadata": {
    "ExecuteTime": {
     "end_time": "2018-09-13T16:12:01.288271Z",
     "start_time": "2018-09-13T16:12:01.277415Z"
    }
   },
   "outputs": [],
   "source": [
    "#Define features and target variable for fare prediction\n",
    "features_fare = taxi_weather_final[['demand_lag1', 'demand_lag2', 'demand_lag3', 'demand_lag4', 'demand_lag5', 'demand_lag6', 'demand_lag7', 'demand_lag96', 'demand_lag672', 'pickup_weekday', \n",
    "                               'log_trip_miles', 'pickup_centroid_latitude', 'pickup_centroid_longitude', 'dropoff_centroid_latitude', 'dropoff_centroid_longitude',\n",
    "                               'avg_temp_f', 'fog', 'rain', 'snow']]  #'avg_daily_wind_speed'\n",
    "target_fare_log = taxi_weather_final['log_fare_with_tolls'] #taxi_weather_final[fare_with_tolls]\n"
   ]
  },
  {
   "cell_type": "markdown",
   "metadata": {},
   "source": [
    "### Scale the data"
   ]
  },
  {
   "cell_type": "code",
   "execution_count": 316,
   "metadata": {
    "ExecuteTime": {
     "end_time": "2018-09-13T16:12:02.925802Z",
     "start_time": "2018-09-13T16:12:02.897469Z"
    }
   },
   "outputs": [],
   "source": [
    "#Scale the values to 0 and 1 scale\n",
    "scaler = StandardScaler()\n",
    "scaled_features_duration = scaler.fit_transform(features_duration)\n"
   ]
  },
  {
   "cell_type": "code",
   "execution_count": 317,
   "metadata": {
    "ExecuteTime": {
     "end_time": "2018-09-13T16:12:04.477139Z",
     "start_time": "2018-09-13T16:12:04.449311Z"
    }
   },
   "outputs": [],
   "source": [
    "#Scale the values to 0 and 1 scale\n",
    "scaler = StandardScaler()\n",
    "scaled_features_fare = scaler.fit_transform(features_fare)\n"
   ]
  },
  {
   "cell_type": "markdown",
   "metadata": {},
   "source": [
    "## In search for the best model"
   ]
  },
  {
   "cell_type": "markdown",
   "metadata": {},
   "source": [
    "#### Helper functions"
   ]
  },
  {
   "cell_type": "code",
   "execution_count": 175,
   "metadata": {
    "ExecuteTime": {
     "end_time": "2018-09-12T22:30:59.561789Z",
     "start_time": "2018-09-12T22:30:59.552278Z"
    }
   },
   "outputs": [],
   "source": [
    "\n",
    "def simple_Kfold(features, target, model):\n",
    "    \"\"\"Performs a KFold cross-validation.\n",
    "    Returns the average Root Mean Squared Error score.\"\"\"\n",
    "    kf = KFold(n = len(features), n_folds = 5, shuffle = True, random_state = 42)\n",
    "    rmse_scores = []\n",
    "    r2_scores = []\n",
    "    for train, test in kf:\n",
    "        X_train = features.iloc[train]\n",
    "        y_train = target.iloc[train]\n",
    "        X_test = features.iloc[test]\n",
    "        y_test = target.iloc[test]\n",
    "        \n",
    "        #fit the model\n",
    "        model.fit(X_train, y_train)\n",
    "        \n",
    "        #Get fit model to predict based on test set features\n",
    "        y_test_predict = model.predict(X_test)\n",
    "        \n",
    "        #Get the mean squared error score\n",
    "        mse = mean_squared_error(y_test_predict, np.exp(y_test))\n",
    "        \n",
    "        #Get root mean squared error, r2 and append them to the list of scores\n",
    "        rmse = np.sqrt(mse)\n",
    "        rmse_scores.append(rmse)\n",
    "        r2 = r2_score(y_test_predict, np.exp(y_test))\n",
    "        r2_scores.append(r2)\n",
    "    \n",
    "    print('The RMSE after KFold cross-validation is: ' + str(round(np.mean(rmse_scores), 3)))\n",
    "    print('The R2 after KFold cross-validation is: ' + str(round(np.mean(r2_scores), 3)))\n",
    "    return [round(np.mean(rmse_scores), 3), round(np.mean(r2_scores), 3)]\n",
    "\n",
    "def Kfold_for_logged_target(features, target, model):\n",
    "    \"\"\"Performs a KFold cross-validation.\n",
    "    Returns RMSE and R2 scores.\"\"\"\n",
    "    kf = KFold(n = len(features), n_folds = 5, shuffle = True, random_state = 42)\n",
    "    rmse_scores = []\n",
    "    r2_scores = []\n",
    "    for train, test in kf:\n",
    "        X_train = features.iloc[train]\n",
    "        y_train = target.iloc[train]\n",
    "        X_test = features.iloc[test]\n",
    "        y_test = target.iloc[test]\n",
    "        \n",
    "        #fit the model\n",
    "        model.fit(X_train, y_train)\n",
    "        \n",
    "        #Get fit model to predict based on test set features\n",
    "        y_test_predict = model.predict(X_test)        \n",
    "        #Get the mean squared error score\n",
    "        mse = mean_squared_error(np.exp(y_test_predict), np.exp(y_test))\n",
    "\n",
    "        #Get root mean squared error, r2 and append them to the list of scores\n",
    "        rmse = np.sqrt(mse)\n",
    "        rmse_scores.append(rmse)\n",
    "        r2 = r2_score(np.exp(y_test_predict), np.exp(y_test))\n",
    "        r2_scores.append(r2)\n",
    "    \n",
    "    print('The RMSE after KFold cross-validation is: ' + str(round(np.mean(rmse_scores), 3)))\n",
    "    print('The R2 after KFold cross-validation is: ' + str(round(np.mean(r2_scores), 3)))\n",
    "    return [round(np.mean(rmse_scores), 3), round(np.mean(r2_scores), 3)]\n",
    "    "
   ]
  },
  {
   "cell_type": "markdown",
   "metadata": {},
   "source": [
    "## Parameter search - ETA"
   ]
  },
  {
   "cell_type": "code",
   "execution_count": 318,
   "metadata": {
    "ExecuteTime": {
     "end_time": "2018-09-13T16:12:11.837770Z",
     "start_time": "2018-09-13T16:12:11.810694Z"
    }
   },
   "outputs": [],
   "source": [
    "LinReg_ETA = LinearRegression()\n",
    "LinReg_ETA.fit(scaled_features_duration, target_duration_log);"
   ]
  },
  {
   "cell_type": "code",
   "execution_count": 319,
   "metadata": {
    "ExecuteTime": {
     "end_time": "2018-09-13T16:12:13.502395Z",
     "start_time": "2018-09-13T16:12:13.364940Z"
    }
   },
   "outputs": [
    {
     "name": "stdout",
     "output_type": "stream",
     "text": [
      "Best RMSE score for Linear Regression cross validation is \u001b[32m44.4%\u001b[0m.\n",
      "Best r-squared score for Linear Regression cross validation is \u001b[32m66.6%\u001b[0m.\n"
     ]
    }
   ],
   "source": [
    "mse_scores = cross_val_score(LinReg_ETA, scaled_features_duration, target_duration_log, cv=5, scoring='neg_mean_squared_error')\n",
    "rmse_scores = [np.sqrt(abs(mse)) for mse in mse_scores]\n",
    "mean_rmse_score = np.mean(rmse_scores)\n",
    "r2_LR_ETA = LinReg_ETA.score(scaled_features_duration, target_duration_log)\n",
    "print('Best RMSE score for Linear Regression cross validation is', colored(str(round(mean_rmse_score * 100, 1))+ '%', 'green')+'.')\n",
    "print('Best r-squared score for Linear Regression cross validation is', colored(str(round(r2_LR * 100, 1))+ '%', 'green')+'.')"
   ]
  },
  {
   "cell_type": "markdown",
   "metadata": {},
   "source": [
    "> RMSE for Linear Regression is **44.4%** and R2 - **66.6%** (*on 150k record sample*)."
   ]
  },
  {
   "cell_type": "code",
   "execution_count": 220,
   "metadata": {
    "ExecuteTime": {
     "end_time": "2018-09-13T00:12:09.379235Z",
     "start_time": "2018-09-13T00:12:04.332592Z"
    },
    "scrolled": true
   },
   "outputs": [],
   "source": [
    "#Ridge\n",
    "# alphas = [1.0, 2.0, 5.0, 10.0, 20.0, 30.0]   #[1e-5, 1e-4, 1e-3, 1e-2, 0.1, already tested\n",
    "# max_iters = [100, 1000, 2000]    # already tested\n",
    "\n",
    "# ridge_params = dict(alpha=[1e-5, 1e-4, 1e-3, 1e-2, 0.1, 1.0, 2.0, 5.0, 10.0, 20.0, 30.0],\n",
    "#                     max_iter=[10, 20, 50, 100, 1000, 2000])\n",
    "\n",
    "# grid_Ridge = GridSearchCV(Ridge(), param_grid=ridge_params, scoring='neg_mean_squared_error')\n",
    "# grid_Ridge.fit(scaled_features_duration, target_duration_log);"
   ]
  },
  {
   "cell_type": "code",
   "execution_count": 221,
   "metadata": {
    "ExecuteTime": {
     "end_time": "2018-09-13T00:12:10.503414Z",
     "start_time": "2018-09-13T00:12:10.498617Z"
    }
   },
   "outputs": [
    {
     "name": "stdout",
     "output_type": "stream",
     "text": [
      "Best RMSE score for Ridge cross validation is \u001b[32m44.4%\u001b[0m.\n",
      "Best parameters for Ridge cross validation are:\n",
      "\t \u001b[32m{'alpha': 10.0, 'max_iter': 10}\u001b[0m\n",
      "Best estimators for Ridge cross validation are the following:\n",
      "\t \u001b[32mRidge(alpha=10.0, copy_X=True, fit_intercept=True, max_iter=10,\n",
      "   normalize=False, random_state=None, solver='auto', tol=0.001)\u001b[0m\n"
     ]
    }
   ],
   "source": [
    "# examine the best model\n",
    "# print('Best RMSE score for Ridge cross validation is', colored(str(round(np.sqrt(abs(grid_Ridge.best_score_)) * 100, 1))+'%', 'green')+ '.')\n",
    "# print('Best parameters for Ridge cross validation are:\\n\\t', colored(str(grid_Ridge.best_params_), 'green'))\n",
    "# print('Best estimators for Ridge cross validation are the following:\\n\\t', colored(str(grid_Ridge.best_estimator_), 'green'))"
   ]
  },
  {
   "cell_type": "markdown",
   "metadata": {},
   "source": [
    "**Best RMSE score for Ridge** cross validation is **44%** (*on 150k record sample*).    \n",
    "**Best parameters for Ridge** cross validation are: **{'alpha': 30.0, 'max_iter': 100}**  \n",
    "**Best estimators for Ridge** cross validation are the following: Ridge(alpha=30.0, copy_X=True, fit_intercept=True, max_iter=100,  \n",
    "                                                                           normalize=False, random_state=None, solver='auto', tol=0.001)  "
   ]
  },
  {
   "cell_type": "code",
   "execution_count": 222,
   "metadata": {
    "ExecuteTime": {
     "end_time": "2018-09-13T00:12:18.003448Z",
     "start_time": "2018-09-13T00:12:14.520916Z"
    }
   },
   "outputs": [],
   "source": [
    "# # #Lasso\n",
    "# alphas = [1e-5, 1e-4, 1e-3, 1e-2, 0.1, 1.0, 2.0, 5.0, 10.0] #Tried out\n",
    "# max_iters = [100, 1000, 2000]  #Tried out\n",
    "\n",
    "# params_lasso = dict(alpha=alphas,\n",
    "#                         max_iter=max_iters)\n",
    "\n",
    "# grid_Lasso = GridSearchCV(Lasso(), param_grid=params_lasso, scoring='neg_mean_squared_error')\n",
    "# grid_Lasso.fit(scaled_features_duration, target_duration_log);"
   ]
  },
  {
   "cell_type": "code",
   "execution_count": 223,
   "metadata": {
    "ExecuteTime": {
     "end_time": "2018-09-13T00:12:19.134926Z",
     "start_time": "2018-09-13T00:12:19.130431Z"
    }
   },
   "outputs": [
    {
     "name": "stdout",
     "output_type": "stream",
     "text": [
      "Best RMSE score for Lasso cross validation is \u001b[32m0.444\u001b[0m.\n",
      "Best parameters for Lasso cross validation are:\n",
      "\t \u001b[32m{'alpha': 1e-05, 'max_iter': 100}\u001b[0m\n",
      "Best estimators for Lasso cross validation are the following:\n",
      "\t \u001b[32mLasso(alpha=1e-05, copy_X=True, fit_intercept=True, max_iter=100,\n",
      "   normalize=False, positive=False, precompute=False, random_state=None,\n",
      "   selection='cyclic', tol=0.0001, warm_start=False)\u001b[0m\n"
     ]
    }
   ],
   "source": [
    "# examine the best model\n",
    "# print('Best RMSE score for Lasso cross validation is', colored(str(round(np.sqrt(abs(grid_Lasso.best_score_)), 3)), 'green')+ '.')\n",
    "# print('Best parameters for Lasso cross validation are:\\n\\t', colored(str(grid_Lasso.best_params_), 'green'))\n",
    "# print('Best estimators for Lasso cross validation are the following:\\n\\t', colored(str(grid_Lasso.best_estimator_), 'green'))"
   ]
  },
  {
   "cell_type": "markdown",
   "metadata": {},
   "source": [
    "**Best RMSE score for Lasso** cross validation is **44%** (*on 150k record sample*).    \n",
    "**Best parameters for Lasso** cross validation are: **{'alpha': 1e-05, 'max_iter': 100}**  \n",
    "**Best estimators for Lasso** cross validation are the following: Lasso(alpha=1e-05, copy_X=True, fit_intercept=True, max_iter=100,\n",
    "   normalize=False, positive=False, precompute=False, random_state=None, selection='cyclic', tol=0.0001, warm_start=False)"
   ]
  },
  {
   "cell_type": "code",
   "execution_count": 320,
   "metadata": {
    "ExecuteTime": {
     "end_time": "2018-09-13T16:52:21.334472Z",
     "start_time": "2018-09-13T16:12:20.793101Z"
    }
   },
   "outputs": [
    {
     "ename": "KeyboardInterrupt",
     "evalue": "",
     "output_type": "error",
     "traceback": [
      "\u001b[0;31m---------------------------------------------------------------------------\u001b[0m",
      "\u001b[0;31mKeyboardInterrupt\u001b[0m                         Traceback (most recent call last)",
      "\u001b[0;32m<ipython-input-320-7a578b36abf8>\u001b[0m in \u001b[0;36m<module>\u001b[0;34m()\u001b[0m\n\u001b[1;32m      7\u001b[0m \u001b[0;34m\u001b[0m\u001b[0m\n\u001b[1;32m      8\u001b[0m \u001b[0mgrid_RandomForest_ETA\u001b[0m \u001b[0;34m=\u001b[0m \u001b[0mGridSearchCV\u001b[0m\u001b[0;34m(\u001b[0m\u001b[0mRandomForestRegressor\u001b[0m\u001b[0;34m(\u001b[0m\u001b[0;34m)\u001b[0m\u001b[0;34m,\u001b[0m \u001b[0mparam_grid\u001b[0m\u001b[0;34m=\u001b[0m\u001b[0mparams_randomForest\u001b[0m\u001b[0;34m,\u001b[0m \u001b[0mscoring\u001b[0m\u001b[0;34m=\u001b[0m\u001b[0;34m'neg_mean_squared_error'\u001b[0m\u001b[0;34m)\u001b[0m\u001b[0;34m\u001b[0m\u001b[0m\n\u001b[0;32m----> 9\u001b[0;31m \u001b[0mgrid_RandomForest_ETA\u001b[0m\u001b[0;34m.\u001b[0m\u001b[0mfit\u001b[0m\u001b[0;34m(\u001b[0m\u001b[0mscaled_features_duration\u001b[0m\u001b[0;34m,\u001b[0m \u001b[0mtarget_duration_log\u001b[0m\u001b[0;34m)\u001b[0m\u001b[0;34m;\u001b[0m\u001b[0;34m\u001b[0m\u001b[0m\n\u001b[0m",
      "\u001b[0;32m/anaconda3/lib/python3.6/site-packages/sklearn/model_selection/_search.py\u001b[0m in \u001b[0;36mfit\u001b[0;34m(self, X, y, groups, **fit_params)\u001b[0m\n\u001b[1;32m    637\u001b[0m                                   error_score=self.error_score)\n\u001b[1;32m    638\u001b[0m           for parameters, (train, test) in product(candidate_params,\n\u001b[0;32m--> 639\u001b[0;31m                                                    cv.split(X, y, groups)))\n\u001b[0m\u001b[1;32m    640\u001b[0m \u001b[0;34m\u001b[0m\u001b[0m\n\u001b[1;32m    641\u001b[0m         \u001b[0;31m# if one choose to see train score, \"out\" will contain train score info\u001b[0m\u001b[0;34m\u001b[0m\u001b[0;34m\u001b[0m\u001b[0m\n",
      "\u001b[0;32m/anaconda3/lib/python3.6/site-packages/sklearn/externals/joblib/parallel.py\u001b[0m in \u001b[0;36m__call__\u001b[0;34m(self, iterable)\u001b[0m\n\u001b[1;32m    777\u001b[0m             \u001b[0;31m# was dispatched. In particular this covers the edge\u001b[0m\u001b[0;34m\u001b[0m\u001b[0;34m\u001b[0m\u001b[0m\n\u001b[1;32m    778\u001b[0m             \u001b[0;31m# case of Parallel used with an exhausted iterator.\u001b[0m\u001b[0;34m\u001b[0m\u001b[0;34m\u001b[0m\u001b[0m\n\u001b[0;32m--> 779\u001b[0;31m             \u001b[0;32mwhile\u001b[0m \u001b[0mself\u001b[0m\u001b[0;34m.\u001b[0m\u001b[0mdispatch_one_batch\u001b[0m\u001b[0;34m(\u001b[0m\u001b[0miterator\u001b[0m\u001b[0;34m)\u001b[0m\u001b[0;34m:\u001b[0m\u001b[0;34m\u001b[0m\u001b[0m\n\u001b[0m\u001b[1;32m    780\u001b[0m                 \u001b[0mself\u001b[0m\u001b[0;34m.\u001b[0m\u001b[0m_iterating\u001b[0m \u001b[0;34m=\u001b[0m \u001b[0;32mTrue\u001b[0m\u001b[0;34m\u001b[0m\u001b[0m\n\u001b[1;32m    781\u001b[0m             \u001b[0;32melse\u001b[0m\u001b[0;34m:\u001b[0m\u001b[0;34m\u001b[0m\u001b[0m\n",
      "\u001b[0;32m/anaconda3/lib/python3.6/site-packages/sklearn/externals/joblib/parallel.py\u001b[0m in \u001b[0;36mdispatch_one_batch\u001b[0;34m(self, iterator)\u001b[0m\n\u001b[1;32m    623\u001b[0m                 \u001b[0;32mreturn\u001b[0m \u001b[0;32mFalse\u001b[0m\u001b[0;34m\u001b[0m\u001b[0m\n\u001b[1;32m    624\u001b[0m             \u001b[0;32melse\u001b[0m\u001b[0;34m:\u001b[0m\u001b[0;34m\u001b[0m\u001b[0m\n\u001b[0;32m--> 625\u001b[0;31m                 \u001b[0mself\u001b[0m\u001b[0;34m.\u001b[0m\u001b[0m_dispatch\u001b[0m\u001b[0;34m(\u001b[0m\u001b[0mtasks\u001b[0m\u001b[0;34m)\u001b[0m\u001b[0;34m\u001b[0m\u001b[0m\n\u001b[0m\u001b[1;32m    626\u001b[0m                 \u001b[0;32mreturn\u001b[0m \u001b[0;32mTrue\u001b[0m\u001b[0;34m\u001b[0m\u001b[0m\n\u001b[1;32m    627\u001b[0m \u001b[0;34m\u001b[0m\u001b[0m\n",
      "\u001b[0;32m/anaconda3/lib/python3.6/site-packages/sklearn/externals/joblib/parallel.py\u001b[0m in \u001b[0;36m_dispatch\u001b[0;34m(self, batch)\u001b[0m\n\u001b[1;32m    586\u001b[0m         \u001b[0mdispatch_timestamp\u001b[0m \u001b[0;34m=\u001b[0m \u001b[0mtime\u001b[0m\u001b[0;34m.\u001b[0m\u001b[0mtime\u001b[0m\u001b[0;34m(\u001b[0m\u001b[0;34m)\u001b[0m\u001b[0;34m\u001b[0m\u001b[0m\n\u001b[1;32m    587\u001b[0m         \u001b[0mcb\u001b[0m \u001b[0;34m=\u001b[0m \u001b[0mBatchCompletionCallBack\u001b[0m\u001b[0;34m(\u001b[0m\u001b[0mdispatch_timestamp\u001b[0m\u001b[0;34m,\u001b[0m \u001b[0mlen\u001b[0m\u001b[0;34m(\u001b[0m\u001b[0mbatch\u001b[0m\u001b[0;34m)\u001b[0m\u001b[0;34m,\u001b[0m \u001b[0mself\u001b[0m\u001b[0;34m)\u001b[0m\u001b[0;34m\u001b[0m\u001b[0m\n\u001b[0;32m--> 588\u001b[0;31m         \u001b[0mjob\u001b[0m \u001b[0;34m=\u001b[0m \u001b[0mself\u001b[0m\u001b[0;34m.\u001b[0m\u001b[0m_backend\u001b[0m\u001b[0;34m.\u001b[0m\u001b[0mapply_async\u001b[0m\u001b[0;34m(\u001b[0m\u001b[0mbatch\u001b[0m\u001b[0;34m,\u001b[0m \u001b[0mcallback\u001b[0m\u001b[0;34m=\u001b[0m\u001b[0mcb\u001b[0m\u001b[0;34m)\u001b[0m\u001b[0;34m\u001b[0m\u001b[0m\n\u001b[0m\u001b[1;32m    589\u001b[0m         \u001b[0mself\u001b[0m\u001b[0;34m.\u001b[0m\u001b[0m_jobs\u001b[0m\u001b[0;34m.\u001b[0m\u001b[0mappend\u001b[0m\u001b[0;34m(\u001b[0m\u001b[0mjob\u001b[0m\u001b[0;34m)\u001b[0m\u001b[0;34m\u001b[0m\u001b[0m\n\u001b[1;32m    590\u001b[0m \u001b[0;34m\u001b[0m\u001b[0m\n",
      "\u001b[0;32m/anaconda3/lib/python3.6/site-packages/sklearn/externals/joblib/_parallel_backends.py\u001b[0m in \u001b[0;36mapply_async\u001b[0;34m(self, func, callback)\u001b[0m\n\u001b[1;32m    109\u001b[0m     \u001b[0;32mdef\u001b[0m \u001b[0mapply_async\u001b[0m\u001b[0;34m(\u001b[0m\u001b[0mself\u001b[0m\u001b[0;34m,\u001b[0m \u001b[0mfunc\u001b[0m\u001b[0;34m,\u001b[0m \u001b[0mcallback\u001b[0m\u001b[0;34m=\u001b[0m\u001b[0;32mNone\u001b[0m\u001b[0;34m)\u001b[0m\u001b[0;34m:\u001b[0m\u001b[0;34m\u001b[0m\u001b[0m\n\u001b[1;32m    110\u001b[0m         \u001b[0;34m\"\"\"Schedule a func to be run\"\"\"\u001b[0m\u001b[0;34m\u001b[0m\u001b[0m\n\u001b[0;32m--> 111\u001b[0;31m         \u001b[0mresult\u001b[0m \u001b[0;34m=\u001b[0m \u001b[0mImmediateResult\u001b[0m\u001b[0;34m(\u001b[0m\u001b[0mfunc\u001b[0m\u001b[0;34m)\u001b[0m\u001b[0;34m\u001b[0m\u001b[0m\n\u001b[0m\u001b[1;32m    112\u001b[0m         \u001b[0;32mif\u001b[0m \u001b[0mcallback\u001b[0m\u001b[0;34m:\u001b[0m\u001b[0;34m\u001b[0m\u001b[0m\n\u001b[1;32m    113\u001b[0m             \u001b[0mcallback\u001b[0m\u001b[0;34m(\u001b[0m\u001b[0mresult\u001b[0m\u001b[0;34m)\u001b[0m\u001b[0;34m\u001b[0m\u001b[0m\n",
      "\u001b[0;32m/anaconda3/lib/python3.6/site-packages/sklearn/externals/joblib/_parallel_backends.py\u001b[0m in \u001b[0;36m__init__\u001b[0;34m(self, batch)\u001b[0m\n\u001b[1;32m    330\u001b[0m         \u001b[0;31m# Don't delay the application, to avoid keeping the input\u001b[0m\u001b[0;34m\u001b[0m\u001b[0;34m\u001b[0m\u001b[0m\n\u001b[1;32m    331\u001b[0m         \u001b[0;31m# arguments in memory\u001b[0m\u001b[0;34m\u001b[0m\u001b[0;34m\u001b[0m\u001b[0m\n\u001b[0;32m--> 332\u001b[0;31m         \u001b[0mself\u001b[0m\u001b[0;34m.\u001b[0m\u001b[0mresults\u001b[0m \u001b[0;34m=\u001b[0m \u001b[0mbatch\u001b[0m\u001b[0;34m(\u001b[0m\u001b[0;34m)\u001b[0m\u001b[0;34m\u001b[0m\u001b[0m\n\u001b[0m\u001b[1;32m    333\u001b[0m \u001b[0;34m\u001b[0m\u001b[0m\n\u001b[1;32m    334\u001b[0m     \u001b[0;32mdef\u001b[0m \u001b[0mget\u001b[0m\u001b[0;34m(\u001b[0m\u001b[0mself\u001b[0m\u001b[0;34m)\u001b[0m\u001b[0;34m:\u001b[0m\u001b[0;34m\u001b[0m\u001b[0m\n",
      "\u001b[0;32m/anaconda3/lib/python3.6/site-packages/sklearn/externals/joblib/parallel.py\u001b[0m in \u001b[0;36m__call__\u001b[0;34m(self)\u001b[0m\n\u001b[1;32m    129\u001b[0m \u001b[0;34m\u001b[0m\u001b[0m\n\u001b[1;32m    130\u001b[0m     \u001b[0;32mdef\u001b[0m \u001b[0m__call__\u001b[0m\u001b[0;34m(\u001b[0m\u001b[0mself\u001b[0m\u001b[0;34m)\u001b[0m\u001b[0;34m:\u001b[0m\u001b[0;34m\u001b[0m\u001b[0m\n\u001b[0;32m--> 131\u001b[0;31m         \u001b[0;32mreturn\u001b[0m \u001b[0;34m[\u001b[0m\u001b[0mfunc\u001b[0m\u001b[0;34m(\u001b[0m\u001b[0;34m*\u001b[0m\u001b[0margs\u001b[0m\u001b[0;34m,\u001b[0m \u001b[0;34m**\u001b[0m\u001b[0mkwargs\u001b[0m\u001b[0;34m)\u001b[0m \u001b[0;32mfor\u001b[0m \u001b[0mfunc\u001b[0m\u001b[0;34m,\u001b[0m \u001b[0margs\u001b[0m\u001b[0;34m,\u001b[0m \u001b[0mkwargs\u001b[0m \u001b[0;32min\u001b[0m \u001b[0mself\u001b[0m\u001b[0;34m.\u001b[0m\u001b[0mitems\u001b[0m\u001b[0;34m]\u001b[0m\u001b[0;34m\u001b[0m\u001b[0m\n\u001b[0m\u001b[1;32m    132\u001b[0m \u001b[0;34m\u001b[0m\u001b[0m\n\u001b[1;32m    133\u001b[0m     \u001b[0;32mdef\u001b[0m \u001b[0m__len__\u001b[0m\u001b[0;34m(\u001b[0m\u001b[0mself\u001b[0m\u001b[0;34m)\u001b[0m\u001b[0;34m:\u001b[0m\u001b[0;34m\u001b[0m\u001b[0m\n",
      "\u001b[0;32m/anaconda3/lib/python3.6/site-packages/sklearn/externals/joblib/parallel.py\u001b[0m in \u001b[0;36m<listcomp>\u001b[0;34m(.0)\u001b[0m\n\u001b[1;32m    129\u001b[0m \u001b[0;34m\u001b[0m\u001b[0m\n\u001b[1;32m    130\u001b[0m     \u001b[0;32mdef\u001b[0m \u001b[0m__call__\u001b[0m\u001b[0;34m(\u001b[0m\u001b[0mself\u001b[0m\u001b[0;34m)\u001b[0m\u001b[0;34m:\u001b[0m\u001b[0;34m\u001b[0m\u001b[0m\n\u001b[0;32m--> 131\u001b[0;31m         \u001b[0;32mreturn\u001b[0m \u001b[0;34m[\u001b[0m\u001b[0mfunc\u001b[0m\u001b[0;34m(\u001b[0m\u001b[0;34m*\u001b[0m\u001b[0margs\u001b[0m\u001b[0;34m,\u001b[0m \u001b[0;34m**\u001b[0m\u001b[0mkwargs\u001b[0m\u001b[0;34m)\u001b[0m \u001b[0;32mfor\u001b[0m \u001b[0mfunc\u001b[0m\u001b[0;34m,\u001b[0m \u001b[0margs\u001b[0m\u001b[0;34m,\u001b[0m \u001b[0mkwargs\u001b[0m \u001b[0;32min\u001b[0m \u001b[0mself\u001b[0m\u001b[0;34m.\u001b[0m\u001b[0mitems\u001b[0m\u001b[0;34m]\u001b[0m\u001b[0;34m\u001b[0m\u001b[0m\n\u001b[0m\u001b[1;32m    132\u001b[0m \u001b[0;34m\u001b[0m\u001b[0m\n\u001b[1;32m    133\u001b[0m     \u001b[0;32mdef\u001b[0m \u001b[0m__len__\u001b[0m\u001b[0;34m(\u001b[0m\u001b[0mself\u001b[0m\u001b[0;34m)\u001b[0m\u001b[0;34m:\u001b[0m\u001b[0;34m\u001b[0m\u001b[0m\n",
      "\u001b[0;32m/anaconda3/lib/python3.6/site-packages/sklearn/model_selection/_validation.py\u001b[0m in \u001b[0;36m_fit_and_score\u001b[0;34m(estimator, X, y, scorer, train, test, verbose, parameters, fit_params, return_train_score, return_parameters, return_n_test_samples, return_times, error_score)\u001b[0m\n\u001b[1;32m    456\u001b[0m             \u001b[0mestimator\u001b[0m\u001b[0;34m.\u001b[0m\u001b[0mfit\u001b[0m\u001b[0;34m(\u001b[0m\u001b[0mX_train\u001b[0m\u001b[0;34m,\u001b[0m \u001b[0;34m**\u001b[0m\u001b[0mfit_params\u001b[0m\u001b[0;34m)\u001b[0m\u001b[0;34m\u001b[0m\u001b[0m\n\u001b[1;32m    457\u001b[0m         \u001b[0;32melse\u001b[0m\u001b[0;34m:\u001b[0m\u001b[0;34m\u001b[0m\u001b[0m\n\u001b[0;32m--> 458\u001b[0;31m             \u001b[0mestimator\u001b[0m\u001b[0;34m.\u001b[0m\u001b[0mfit\u001b[0m\u001b[0;34m(\u001b[0m\u001b[0mX_train\u001b[0m\u001b[0;34m,\u001b[0m \u001b[0my_train\u001b[0m\u001b[0;34m,\u001b[0m \u001b[0;34m**\u001b[0m\u001b[0mfit_params\u001b[0m\u001b[0;34m)\u001b[0m\u001b[0;34m\u001b[0m\u001b[0m\n\u001b[0m\u001b[1;32m    459\u001b[0m \u001b[0;34m\u001b[0m\u001b[0m\n\u001b[1;32m    460\u001b[0m     \u001b[0;32mexcept\u001b[0m \u001b[0mException\u001b[0m \u001b[0;32mas\u001b[0m \u001b[0me\u001b[0m\u001b[0;34m:\u001b[0m\u001b[0;34m\u001b[0m\u001b[0m\n",
      "\u001b[0;32m/anaconda3/lib/python3.6/site-packages/sklearn/ensemble/forest.py\u001b[0m in \u001b[0;36mfit\u001b[0;34m(self, X, y, sample_weight)\u001b[0m\n\u001b[1;32m    326\u001b[0m                     \u001b[0mt\u001b[0m\u001b[0;34m,\u001b[0m \u001b[0mself\u001b[0m\u001b[0;34m,\u001b[0m \u001b[0mX\u001b[0m\u001b[0;34m,\u001b[0m \u001b[0my\u001b[0m\u001b[0;34m,\u001b[0m \u001b[0msample_weight\u001b[0m\u001b[0;34m,\u001b[0m \u001b[0mi\u001b[0m\u001b[0;34m,\u001b[0m \u001b[0mlen\u001b[0m\u001b[0;34m(\u001b[0m\u001b[0mtrees\u001b[0m\u001b[0;34m)\u001b[0m\u001b[0;34m,\u001b[0m\u001b[0;34m\u001b[0m\u001b[0m\n\u001b[1;32m    327\u001b[0m                     verbose=self.verbose, class_weight=self.class_weight)\n\u001b[0;32m--> 328\u001b[0;31m                 for i, t in enumerate(trees))\n\u001b[0m\u001b[1;32m    329\u001b[0m \u001b[0;34m\u001b[0m\u001b[0m\n\u001b[1;32m    330\u001b[0m             \u001b[0;31m# Collect newly grown trees\u001b[0m\u001b[0;34m\u001b[0m\u001b[0;34m\u001b[0m\u001b[0m\n",
      "\u001b[0;32m/anaconda3/lib/python3.6/site-packages/sklearn/externals/joblib/parallel.py\u001b[0m in \u001b[0;36m__call__\u001b[0;34m(self, iterable)\u001b[0m\n\u001b[1;32m    777\u001b[0m             \u001b[0;31m# was dispatched. In particular this covers the edge\u001b[0m\u001b[0;34m\u001b[0m\u001b[0;34m\u001b[0m\u001b[0m\n\u001b[1;32m    778\u001b[0m             \u001b[0;31m# case of Parallel used with an exhausted iterator.\u001b[0m\u001b[0;34m\u001b[0m\u001b[0;34m\u001b[0m\u001b[0m\n\u001b[0;32m--> 779\u001b[0;31m             \u001b[0;32mwhile\u001b[0m \u001b[0mself\u001b[0m\u001b[0;34m.\u001b[0m\u001b[0mdispatch_one_batch\u001b[0m\u001b[0;34m(\u001b[0m\u001b[0miterator\u001b[0m\u001b[0;34m)\u001b[0m\u001b[0;34m:\u001b[0m\u001b[0;34m\u001b[0m\u001b[0m\n\u001b[0m\u001b[1;32m    780\u001b[0m                 \u001b[0mself\u001b[0m\u001b[0;34m.\u001b[0m\u001b[0m_iterating\u001b[0m \u001b[0;34m=\u001b[0m \u001b[0;32mTrue\u001b[0m\u001b[0;34m\u001b[0m\u001b[0m\n\u001b[1;32m    781\u001b[0m             \u001b[0;32melse\u001b[0m\u001b[0;34m:\u001b[0m\u001b[0;34m\u001b[0m\u001b[0m\n",
      "\u001b[0;32m/anaconda3/lib/python3.6/site-packages/sklearn/externals/joblib/parallel.py\u001b[0m in \u001b[0;36mdispatch_one_batch\u001b[0;34m(self, iterator)\u001b[0m\n\u001b[1;32m    623\u001b[0m                 \u001b[0;32mreturn\u001b[0m \u001b[0;32mFalse\u001b[0m\u001b[0;34m\u001b[0m\u001b[0m\n\u001b[1;32m    624\u001b[0m             \u001b[0;32melse\u001b[0m\u001b[0;34m:\u001b[0m\u001b[0;34m\u001b[0m\u001b[0m\n\u001b[0;32m--> 625\u001b[0;31m                 \u001b[0mself\u001b[0m\u001b[0;34m.\u001b[0m\u001b[0m_dispatch\u001b[0m\u001b[0;34m(\u001b[0m\u001b[0mtasks\u001b[0m\u001b[0;34m)\u001b[0m\u001b[0;34m\u001b[0m\u001b[0m\n\u001b[0m\u001b[1;32m    626\u001b[0m                 \u001b[0;32mreturn\u001b[0m \u001b[0;32mTrue\u001b[0m\u001b[0;34m\u001b[0m\u001b[0m\n\u001b[1;32m    627\u001b[0m \u001b[0;34m\u001b[0m\u001b[0m\n",
      "\u001b[0;32m/anaconda3/lib/python3.6/site-packages/sklearn/externals/joblib/parallel.py\u001b[0m in \u001b[0;36m_dispatch\u001b[0;34m(self, batch)\u001b[0m\n\u001b[1;32m    586\u001b[0m         \u001b[0mdispatch_timestamp\u001b[0m \u001b[0;34m=\u001b[0m \u001b[0mtime\u001b[0m\u001b[0;34m.\u001b[0m\u001b[0mtime\u001b[0m\u001b[0;34m(\u001b[0m\u001b[0;34m)\u001b[0m\u001b[0;34m\u001b[0m\u001b[0m\n\u001b[1;32m    587\u001b[0m         \u001b[0mcb\u001b[0m \u001b[0;34m=\u001b[0m \u001b[0mBatchCompletionCallBack\u001b[0m\u001b[0;34m(\u001b[0m\u001b[0mdispatch_timestamp\u001b[0m\u001b[0;34m,\u001b[0m \u001b[0mlen\u001b[0m\u001b[0;34m(\u001b[0m\u001b[0mbatch\u001b[0m\u001b[0;34m)\u001b[0m\u001b[0;34m,\u001b[0m \u001b[0mself\u001b[0m\u001b[0;34m)\u001b[0m\u001b[0;34m\u001b[0m\u001b[0m\n\u001b[0;32m--> 588\u001b[0;31m         \u001b[0mjob\u001b[0m \u001b[0;34m=\u001b[0m \u001b[0mself\u001b[0m\u001b[0;34m.\u001b[0m\u001b[0m_backend\u001b[0m\u001b[0;34m.\u001b[0m\u001b[0mapply_async\u001b[0m\u001b[0;34m(\u001b[0m\u001b[0mbatch\u001b[0m\u001b[0;34m,\u001b[0m \u001b[0mcallback\u001b[0m\u001b[0;34m=\u001b[0m\u001b[0mcb\u001b[0m\u001b[0;34m)\u001b[0m\u001b[0;34m\u001b[0m\u001b[0m\n\u001b[0m\u001b[1;32m    589\u001b[0m         \u001b[0mself\u001b[0m\u001b[0;34m.\u001b[0m\u001b[0m_jobs\u001b[0m\u001b[0;34m.\u001b[0m\u001b[0mappend\u001b[0m\u001b[0;34m(\u001b[0m\u001b[0mjob\u001b[0m\u001b[0;34m)\u001b[0m\u001b[0;34m\u001b[0m\u001b[0m\n\u001b[1;32m    590\u001b[0m \u001b[0;34m\u001b[0m\u001b[0m\n",
      "\u001b[0;32m/anaconda3/lib/python3.6/site-packages/sklearn/externals/joblib/_parallel_backends.py\u001b[0m in \u001b[0;36mapply_async\u001b[0;34m(self, func, callback)\u001b[0m\n\u001b[1;32m    109\u001b[0m     \u001b[0;32mdef\u001b[0m \u001b[0mapply_async\u001b[0m\u001b[0;34m(\u001b[0m\u001b[0mself\u001b[0m\u001b[0;34m,\u001b[0m \u001b[0mfunc\u001b[0m\u001b[0;34m,\u001b[0m \u001b[0mcallback\u001b[0m\u001b[0;34m=\u001b[0m\u001b[0;32mNone\u001b[0m\u001b[0;34m)\u001b[0m\u001b[0;34m:\u001b[0m\u001b[0;34m\u001b[0m\u001b[0m\n\u001b[1;32m    110\u001b[0m         \u001b[0;34m\"\"\"Schedule a func to be run\"\"\"\u001b[0m\u001b[0;34m\u001b[0m\u001b[0m\n\u001b[0;32m--> 111\u001b[0;31m         \u001b[0mresult\u001b[0m \u001b[0;34m=\u001b[0m \u001b[0mImmediateResult\u001b[0m\u001b[0;34m(\u001b[0m\u001b[0mfunc\u001b[0m\u001b[0;34m)\u001b[0m\u001b[0;34m\u001b[0m\u001b[0m\n\u001b[0m\u001b[1;32m    112\u001b[0m         \u001b[0;32mif\u001b[0m \u001b[0mcallback\u001b[0m\u001b[0;34m:\u001b[0m\u001b[0;34m\u001b[0m\u001b[0m\n\u001b[1;32m    113\u001b[0m             \u001b[0mcallback\u001b[0m\u001b[0;34m(\u001b[0m\u001b[0mresult\u001b[0m\u001b[0;34m)\u001b[0m\u001b[0;34m\u001b[0m\u001b[0m\n",
      "\u001b[0;32m/anaconda3/lib/python3.6/site-packages/sklearn/externals/joblib/_parallel_backends.py\u001b[0m in \u001b[0;36m__init__\u001b[0;34m(self, batch)\u001b[0m\n\u001b[1;32m    330\u001b[0m         \u001b[0;31m# Don't delay the application, to avoid keeping the input\u001b[0m\u001b[0;34m\u001b[0m\u001b[0;34m\u001b[0m\u001b[0m\n\u001b[1;32m    331\u001b[0m         \u001b[0;31m# arguments in memory\u001b[0m\u001b[0;34m\u001b[0m\u001b[0;34m\u001b[0m\u001b[0m\n\u001b[0;32m--> 332\u001b[0;31m         \u001b[0mself\u001b[0m\u001b[0;34m.\u001b[0m\u001b[0mresults\u001b[0m \u001b[0;34m=\u001b[0m \u001b[0mbatch\u001b[0m\u001b[0;34m(\u001b[0m\u001b[0;34m)\u001b[0m\u001b[0;34m\u001b[0m\u001b[0m\n\u001b[0m\u001b[1;32m    333\u001b[0m \u001b[0;34m\u001b[0m\u001b[0m\n\u001b[1;32m    334\u001b[0m     \u001b[0;32mdef\u001b[0m \u001b[0mget\u001b[0m\u001b[0;34m(\u001b[0m\u001b[0mself\u001b[0m\u001b[0;34m)\u001b[0m\u001b[0;34m:\u001b[0m\u001b[0;34m\u001b[0m\u001b[0m\n",
      "\u001b[0;32m/anaconda3/lib/python3.6/site-packages/sklearn/externals/joblib/parallel.py\u001b[0m in \u001b[0;36m__call__\u001b[0;34m(self)\u001b[0m\n\u001b[1;32m    129\u001b[0m \u001b[0;34m\u001b[0m\u001b[0m\n\u001b[1;32m    130\u001b[0m     \u001b[0;32mdef\u001b[0m \u001b[0m__call__\u001b[0m\u001b[0;34m(\u001b[0m\u001b[0mself\u001b[0m\u001b[0;34m)\u001b[0m\u001b[0;34m:\u001b[0m\u001b[0;34m\u001b[0m\u001b[0m\n\u001b[0;32m--> 131\u001b[0;31m         \u001b[0;32mreturn\u001b[0m \u001b[0;34m[\u001b[0m\u001b[0mfunc\u001b[0m\u001b[0;34m(\u001b[0m\u001b[0;34m*\u001b[0m\u001b[0margs\u001b[0m\u001b[0;34m,\u001b[0m \u001b[0;34m**\u001b[0m\u001b[0mkwargs\u001b[0m\u001b[0;34m)\u001b[0m \u001b[0;32mfor\u001b[0m \u001b[0mfunc\u001b[0m\u001b[0;34m,\u001b[0m \u001b[0margs\u001b[0m\u001b[0;34m,\u001b[0m \u001b[0mkwargs\u001b[0m \u001b[0;32min\u001b[0m \u001b[0mself\u001b[0m\u001b[0;34m.\u001b[0m\u001b[0mitems\u001b[0m\u001b[0;34m]\u001b[0m\u001b[0;34m\u001b[0m\u001b[0m\n\u001b[0m\u001b[1;32m    132\u001b[0m \u001b[0;34m\u001b[0m\u001b[0m\n\u001b[1;32m    133\u001b[0m     \u001b[0;32mdef\u001b[0m \u001b[0m__len__\u001b[0m\u001b[0;34m(\u001b[0m\u001b[0mself\u001b[0m\u001b[0;34m)\u001b[0m\u001b[0;34m:\u001b[0m\u001b[0;34m\u001b[0m\u001b[0m\n",
      "\u001b[0;32m/anaconda3/lib/python3.6/site-packages/sklearn/externals/joblib/parallel.py\u001b[0m in \u001b[0;36m<listcomp>\u001b[0;34m(.0)\u001b[0m\n\u001b[1;32m    129\u001b[0m \u001b[0;34m\u001b[0m\u001b[0m\n\u001b[1;32m    130\u001b[0m     \u001b[0;32mdef\u001b[0m \u001b[0m__call__\u001b[0m\u001b[0;34m(\u001b[0m\u001b[0mself\u001b[0m\u001b[0;34m)\u001b[0m\u001b[0;34m:\u001b[0m\u001b[0;34m\u001b[0m\u001b[0m\n\u001b[0;32m--> 131\u001b[0;31m         \u001b[0;32mreturn\u001b[0m \u001b[0;34m[\u001b[0m\u001b[0mfunc\u001b[0m\u001b[0;34m(\u001b[0m\u001b[0;34m*\u001b[0m\u001b[0margs\u001b[0m\u001b[0;34m,\u001b[0m \u001b[0;34m**\u001b[0m\u001b[0mkwargs\u001b[0m\u001b[0;34m)\u001b[0m \u001b[0;32mfor\u001b[0m \u001b[0mfunc\u001b[0m\u001b[0;34m,\u001b[0m \u001b[0margs\u001b[0m\u001b[0;34m,\u001b[0m \u001b[0mkwargs\u001b[0m \u001b[0;32min\u001b[0m \u001b[0mself\u001b[0m\u001b[0;34m.\u001b[0m\u001b[0mitems\u001b[0m\u001b[0;34m]\u001b[0m\u001b[0;34m\u001b[0m\u001b[0m\n\u001b[0m\u001b[1;32m    132\u001b[0m \u001b[0;34m\u001b[0m\u001b[0m\n\u001b[1;32m    133\u001b[0m     \u001b[0;32mdef\u001b[0m \u001b[0m__len__\u001b[0m\u001b[0;34m(\u001b[0m\u001b[0mself\u001b[0m\u001b[0;34m)\u001b[0m\u001b[0;34m:\u001b[0m\u001b[0;34m\u001b[0m\u001b[0m\n",
      "\u001b[0;32m/anaconda3/lib/python3.6/site-packages/sklearn/ensemble/forest.py\u001b[0m in \u001b[0;36m_parallel_build_trees\u001b[0;34m(tree, forest, X, y, sample_weight, tree_idx, n_trees, verbose, class_weight)\u001b[0m\n\u001b[1;32m    119\u001b[0m             \u001b[0mcurr_sample_weight\u001b[0m \u001b[0;34m*=\u001b[0m \u001b[0mcompute_sample_weight\u001b[0m\u001b[0;34m(\u001b[0m\u001b[0;34m'balanced'\u001b[0m\u001b[0;34m,\u001b[0m \u001b[0my\u001b[0m\u001b[0;34m,\u001b[0m \u001b[0mindices\u001b[0m\u001b[0;34m)\u001b[0m\u001b[0;34m\u001b[0m\u001b[0m\n\u001b[1;32m    120\u001b[0m \u001b[0;34m\u001b[0m\u001b[0m\n\u001b[0;32m--> 121\u001b[0;31m         \u001b[0mtree\u001b[0m\u001b[0;34m.\u001b[0m\u001b[0mfit\u001b[0m\u001b[0;34m(\u001b[0m\u001b[0mX\u001b[0m\u001b[0;34m,\u001b[0m \u001b[0my\u001b[0m\u001b[0;34m,\u001b[0m \u001b[0msample_weight\u001b[0m\u001b[0;34m=\u001b[0m\u001b[0mcurr_sample_weight\u001b[0m\u001b[0;34m,\u001b[0m \u001b[0mcheck_input\u001b[0m\u001b[0;34m=\u001b[0m\u001b[0;32mFalse\u001b[0m\u001b[0;34m)\u001b[0m\u001b[0;34m\u001b[0m\u001b[0m\n\u001b[0m\u001b[1;32m    122\u001b[0m     \u001b[0;32melse\u001b[0m\u001b[0;34m:\u001b[0m\u001b[0;34m\u001b[0m\u001b[0m\n\u001b[1;32m    123\u001b[0m         \u001b[0mtree\u001b[0m\u001b[0;34m.\u001b[0m\u001b[0mfit\u001b[0m\u001b[0;34m(\u001b[0m\u001b[0mX\u001b[0m\u001b[0;34m,\u001b[0m \u001b[0my\u001b[0m\u001b[0;34m,\u001b[0m \u001b[0msample_weight\u001b[0m\u001b[0;34m=\u001b[0m\u001b[0msample_weight\u001b[0m\u001b[0;34m,\u001b[0m \u001b[0mcheck_input\u001b[0m\u001b[0;34m=\u001b[0m\u001b[0;32mFalse\u001b[0m\u001b[0;34m)\u001b[0m\u001b[0;34m\u001b[0m\u001b[0m\n",
      "\u001b[0;32m/anaconda3/lib/python3.6/site-packages/sklearn/tree/tree.py\u001b[0m in \u001b[0;36mfit\u001b[0;34m(self, X, y, sample_weight, check_input, X_idx_sorted)\u001b[0m\n\u001b[1;32m   1122\u001b[0m             \u001b[0msample_weight\u001b[0m\u001b[0;34m=\u001b[0m\u001b[0msample_weight\u001b[0m\u001b[0;34m,\u001b[0m\u001b[0;34m\u001b[0m\u001b[0m\n\u001b[1;32m   1123\u001b[0m             \u001b[0mcheck_input\u001b[0m\u001b[0;34m=\u001b[0m\u001b[0mcheck_input\u001b[0m\u001b[0;34m,\u001b[0m\u001b[0;34m\u001b[0m\u001b[0m\n\u001b[0;32m-> 1124\u001b[0;31m             X_idx_sorted=X_idx_sorted)\n\u001b[0m\u001b[1;32m   1125\u001b[0m         \u001b[0;32mreturn\u001b[0m \u001b[0mself\u001b[0m\u001b[0;34m\u001b[0m\u001b[0m\n\u001b[1;32m   1126\u001b[0m \u001b[0;34m\u001b[0m\u001b[0m\n",
      "\u001b[0;32m/anaconda3/lib/python3.6/site-packages/sklearn/tree/tree.py\u001b[0m in \u001b[0;36mfit\u001b[0;34m(self, X, y, sample_weight, check_input, X_idx_sorted)\u001b[0m\n\u001b[1;32m    360\u001b[0m                                            min_impurity_split)\n\u001b[1;32m    361\u001b[0m \u001b[0;34m\u001b[0m\u001b[0m\n\u001b[0;32m--> 362\u001b[0;31m         \u001b[0mbuilder\u001b[0m\u001b[0;34m.\u001b[0m\u001b[0mbuild\u001b[0m\u001b[0;34m(\u001b[0m\u001b[0mself\u001b[0m\u001b[0;34m.\u001b[0m\u001b[0mtree_\u001b[0m\u001b[0;34m,\u001b[0m \u001b[0mX\u001b[0m\u001b[0;34m,\u001b[0m \u001b[0my\u001b[0m\u001b[0;34m,\u001b[0m \u001b[0msample_weight\u001b[0m\u001b[0;34m,\u001b[0m \u001b[0mX_idx_sorted\u001b[0m\u001b[0;34m)\u001b[0m\u001b[0;34m\u001b[0m\u001b[0m\n\u001b[0m\u001b[1;32m    363\u001b[0m \u001b[0;34m\u001b[0m\u001b[0m\n\u001b[1;32m    364\u001b[0m         \u001b[0;32mif\u001b[0m \u001b[0mself\u001b[0m\u001b[0;34m.\u001b[0m\u001b[0mn_outputs_\u001b[0m \u001b[0;34m==\u001b[0m \u001b[0;36m1\u001b[0m\u001b[0;34m:\u001b[0m\u001b[0;34m\u001b[0m\u001b[0m\n",
      "\u001b[0;31mKeyboardInterrupt\u001b[0m: "
     ]
    }
   ],
   "source": [
    "#RandomForest\n",
    "params_randomForest = dict(n_estimators=[150, 175, 200, 225],                               #[5, 10, 15, 20, 50, 100, 150],\n",
    "                        criterion=['mse'],\n",
    "                        max_depth=[35, 50, 55, 60, 65],                                       #[3, 5, 10, 15, 35, 50, 75],\n",
    "                        min_samples_leaf=[1, 2, 3, 5, 10],                                 #[2, 5, 10, 50, 100, 500, 1000],\n",
    "                        random_state=[42])\n",
    "\n",
    "grid_RandomForest_ETA = GridSearchCV(RandomForestRegressor(), param_grid=params_randomForest, scoring='neg_mean_squared_error')\n",
    "grid_RandomForest_ETA.fit(scaled_features_duration, target_duration_log);"
   ]
  },
  {
   "cell_type": "code",
   "execution_count": null,
   "metadata": {
    "ExecuteTime": {
     "end_time": "2018-09-13T16:52:21.341061Z",
     "start_time": "2018-09-13T16:12:21.412Z"
    }
   },
   "outputs": [],
   "source": [
    "# examine the best model\n",
    "print('Best RMSE score for RandomForest cross validation is', colored(str(round(np.sqrt(abs(grid_RandomForest_ETA.best_score_)) * 100, 1))+'%', 'green')+ '.')\n",
    "print('Best parameters for RandomForest validation are:\\n\\t', colored(str(grid_RandomForest_ETA.best_params_), 'green'))\n",
    "print('Best estimators for RandomForest validation are the following:\\n\\t', colored(str(grid_RandomForest_ETA.best_estimator_), 'green'))"
   ]
  },
  {
   "cell_type": "markdown",
   "metadata": {},
   "source": [
    "**Best RMSE score for RandomForest** cross validation is **35.6%** (*on 150k record sample*).    \n",
    "**Best parameters for RandomForest** cross validation are: **{'criterion': 'mse', 'max_depth': 35, 'min_samples_leaf': 3, 'n_estimators': 225}**  \n",
    "**Best estimators for RandomForest** cross validation are the following: RandomForestRegressor(bootstrap=True, criterion='mse', max_depth=35,\n",
    "                                                                           max_features='auto', max_leaf_nodes=None,\n",
    "                                                                           min_impurity_decrease=0.0, min_impurity_split=None,\n",
    "                                                                           min_samples_leaf=3, min_samples_split=2,\n",
    "                                                                           min_weight_fraction_leaf=0.0, n_estimators=225, n_jobs=1,\n",
    "                                                                           oob_score=False, random_state=42, verbose=0, warm_start=False)"
   ]
  },
  {
   "cell_type": "code",
   "execution_count": null,
   "metadata": {
    "ExecuteTime": {
     "start_time": "2018-09-13T16:52:29.371Z"
    }
   },
   "outputs": [
    {
     "name": "stderr",
     "output_type": "stream",
     "text": [
      "/anaconda3/lib/python3.6/site-packages/numpy/core/_methods.py:32: RuntimeWarning: overflow encountered in reduce\n",
      "  return umr_sum(a, axis, dtype, out, keepdims)\n",
      "/anaconda3/lib/python3.6/site-packages/sklearn/ensemble/gradient_boosting.py:282: RuntimeWarning: overflow encountered in square\n",
      "  np.sum(sample_weight * ((y - pred.ravel()) ** 2.0)))\n",
      "/anaconda3/lib/python3.6/site-packages/sklearn/metrics/regression.py:239: RuntimeWarning: overflow encountered in square\n",
      "  output_errors = np.average((y_true - y_pred) ** 2, axis=0,\n",
      "/anaconda3/lib/python3.6/site-packages/numpy/core/_methods.py:32: RuntimeWarning: overflow encountered in reduce\n",
      "  return umr_sum(a, axis, dtype, out, keepdims)\n",
      "/anaconda3/lib/python3.6/site-packages/sklearn/ensemble/gradient_boosting.py:282: RuntimeWarning: overflow encountered in square\n",
      "  np.sum(sample_weight * ((y - pred.ravel()) ** 2.0)))\n",
      "/anaconda3/lib/python3.6/site-packages/sklearn/metrics/regression.py:239: RuntimeWarning: overflow encountered in square\n",
      "  output_errors = np.average((y_true - y_pred) ** 2, axis=0,\n",
      "/anaconda3/lib/python3.6/site-packages/numpy/core/_methods.py:32: RuntimeWarning: overflow encountered in reduce\n",
      "  return umr_sum(a, axis, dtype, out, keepdims)\n",
      "/anaconda3/lib/python3.6/site-packages/sklearn/ensemble/gradient_boosting.py:282: RuntimeWarning: overflow encountered in square\n",
      "  np.sum(sample_weight * ((y - pred.ravel()) ** 2.0)))\n",
      "/anaconda3/lib/python3.6/site-packages/sklearn/metrics/regression.py:239: RuntimeWarning: overflow encountered in square\n",
      "  output_errors = np.average((y_true - y_pred) ** 2, axis=0,\n",
      "/anaconda3/lib/python3.6/site-packages/numpy/core/_methods.py:32: RuntimeWarning: overflow encountered in reduce\n",
      "  return umr_sum(a, axis, dtype, out, keepdims)\n",
      "/anaconda3/lib/python3.6/site-packages/sklearn/ensemble/gradient_boosting.py:282: RuntimeWarning: overflow encountered in square\n",
      "  np.sum(sample_weight * ((y - pred.ravel()) ** 2.0)))\n",
      "/anaconda3/lib/python3.6/site-packages/sklearn/metrics/regression.py:239: RuntimeWarning: overflow encountered in square\n",
      "  output_errors = np.average((y_true - y_pred) ** 2, axis=0,\n",
      "/anaconda3/lib/python3.6/site-packages/numpy/core/_methods.py:32: RuntimeWarning: overflow encountered in reduce\n",
      "  return umr_sum(a, axis, dtype, out, keepdims)\n",
      "/anaconda3/lib/python3.6/site-packages/sklearn/ensemble/gradient_boosting.py:282: RuntimeWarning: overflow encountered in square\n",
      "  np.sum(sample_weight * ((y - pred.ravel()) ** 2.0)))\n",
      "/anaconda3/lib/python3.6/site-packages/sklearn/metrics/regression.py:239: RuntimeWarning: overflow encountered in square\n",
      "  output_errors = np.average((y_true - y_pred) ** 2, axis=0,\n",
      "/anaconda3/lib/python3.6/site-packages/numpy/core/_methods.py:32: RuntimeWarning: overflow encountered in reduce\n",
      "  return umr_sum(a, axis, dtype, out, keepdims)\n",
      "/anaconda3/lib/python3.6/site-packages/sklearn/ensemble/gradient_boosting.py:282: RuntimeWarning: overflow encountered in square\n",
      "  np.sum(sample_weight * ((y - pred.ravel()) ** 2.0)))\n",
      "/anaconda3/lib/python3.6/site-packages/sklearn/metrics/regression.py:239: RuntimeWarning: overflow encountered in square\n",
      "  output_errors = np.average((y_true - y_pred) ** 2, axis=0,\n",
      "/anaconda3/lib/python3.6/site-packages/numpy/core/_methods.py:32: RuntimeWarning: overflow encountered in reduce\n",
      "  return umr_sum(a, axis, dtype, out, keepdims)\n",
      "/anaconda3/lib/python3.6/site-packages/sklearn/ensemble/gradient_boosting.py:282: RuntimeWarning: overflow encountered in square\n",
      "  np.sum(sample_weight * ((y - pred.ravel()) ** 2.0)))\n",
      "/anaconda3/lib/python3.6/site-packages/sklearn/metrics/regression.py:239: RuntimeWarning: overflow encountered in square\n",
      "  output_errors = np.average((y_true - y_pred) ** 2, axis=0,\n",
      "/anaconda3/lib/python3.6/site-packages/numpy/core/_methods.py:32: RuntimeWarning: overflow encountered in reduce\n",
      "  return umr_sum(a, axis, dtype, out, keepdims)\n",
      "/anaconda3/lib/python3.6/site-packages/sklearn/ensemble/gradient_boosting.py:282: RuntimeWarning: overflow encountered in square\n",
      "  np.sum(sample_weight * ((y - pred.ravel()) ** 2.0)))\n",
      "/anaconda3/lib/python3.6/site-packages/sklearn/metrics/regression.py:239: RuntimeWarning: overflow encountered in square\n",
      "  output_errors = np.average((y_true - y_pred) ** 2, axis=0,\n",
      "/anaconda3/lib/python3.6/site-packages/numpy/core/_methods.py:32: RuntimeWarning: overflow encountered in reduce\n",
      "  return umr_sum(a, axis, dtype, out, keepdims)\n",
      "/anaconda3/lib/python3.6/site-packages/sklearn/ensemble/gradient_boosting.py:282: RuntimeWarning: overflow encountered in square\n",
      "  np.sum(sample_weight * ((y - pred.ravel()) ** 2.0)))\n",
      "/anaconda3/lib/python3.6/site-packages/sklearn/metrics/regression.py:239: RuntimeWarning: overflow encountered in square\n",
      "  output_errors = np.average((y_true - y_pred) ** 2, axis=0,\n",
      "/anaconda3/lib/python3.6/site-packages/numpy/core/_methods.py:32: RuntimeWarning: overflow encountered in reduce\n",
      "  return umr_sum(a, axis, dtype, out, keepdims)\n",
      "/anaconda3/lib/python3.6/site-packages/sklearn/ensemble/gradient_boosting.py:282: RuntimeWarning: overflow encountered in square\n",
      "  np.sum(sample_weight * ((y - pred.ravel()) ** 2.0)))\n",
      "/anaconda3/lib/python3.6/site-packages/sklearn/metrics/regression.py:239: RuntimeWarning: overflow encountered in square\n",
      "  output_errors = np.average((y_true - y_pred) ** 2, axis=0,\n",
      "/anaconda3/lib/python3.6/site-packages/numpy/core/_methods.py:32: RuntimeWarning: overflow encountered in reduce\n",
      "  return umr_sum(a, axis, dtype, out, keepdims)\n",
      "/anaconda3/lib/python3.6/site-packages/sklearn/ensemble/gradient_boosting.py:282: RuntimeWarning: overflow encountered in square\n",
      "  np.sum(sample_weight * ((y - pred.ravel()) ** 2.0)))\n",
      "/anaconda3/lib/python3.6/site-packages/sklearn/metrics/regression.py:239: RuntimeWarning: overflow encountered in square\n",
      "  output_errors = np.average((y_true - y_pred) ** 2, axis=0,\n",
      "/anaconda3/lib/python3.6/site-packages/numpy/core/_methods.py:32: RuntimeWarning: overflow encountered in reduce\n",
      "  return umr_sum(a, axis, dtype, out, keepdims)\n",
      "/anaconda3/lib/python3.6/site-packages/sklearn/ensemble/gradient_boosting.py:282: RuntimeWarning: overflow encountered in square\n",
      "  np.sum(sample_weight * ((y - pred.ravel()) ** 2.0)))\n",
      "/anaconda3/lib/python3.6/site-packages/sklearn/metrics/regression.py:239: RuntimeWarning: overflow encountered in square\n",
      "  output_errors = np.average((y_true - y_pred) ** 2, axis=0,\n",
      "/anaconda3/lib/python3.6/site-packages/numpy/core/_methods.py:32: RuntimeWarning: overflow encountered in reduce\n",
      "  return umr_sum(a, axis, dtype, out, keepdims)\n",
      "/anaconda3/lib/python3.6/site-packages/sklearn/ensemble/gradient_boosting.py:282: RuntimeWarning: overflow encountered in square\n",
      "  np.sum(sample_weight * ((y - pred.ravel()) ** 2.0)))\n",
      "/anaconda3/lib/python3.6/site-packages/sklearn/metrics/regression.py:239: RuntimeWarning: overflow encountered in square\n",
      "  output_errors = np.average((y_true - y_pred) ** 2, axis=0,\n",
      "/anaconda3/lib/python3.6/site-packages/numpy/core/_methods.py:32: RuntimeWarning: overflow encountered in reduce\n",
      "  return umr_sum(a, axis, dtype, out, keepdims)\n",
      "/anaconda3/lib/python3.6/site-packages/sklearn/ensemble/gradient_boosting.py:282: RuntimeWarning: overflow encountered in square\n",
      "  np.sum(sample_weight * ((y - pred.ravel()) ** 2.0)))\n",
      "/anaconda3/lib/python3.6/site-packages/sklearn/metrics/regression.py:239: RuntimeWarning: overflow encountered in square\n",
      "  output_errors = np.average((y_true - y_pred) ** 2, axis=0,\n",
      "/anaconda3/lib/python3.6/site-packages/numpy/core/_methods.py:32: RuntimeWarning: overflow encountered in reduce\n",
      "  return umr_sum(a, axis, dtype, out, keepdims)\n",
      "/anaconda3/lib/python3.6/site-packages/sklearn/ensemble/gradient_boosting.py:282: RuntimeWarning: overflow encountered in square\n",
      "  np.sum(sample_weight * ((y - pred.ravel()) ** 2.0)))\n",
      "/anaconda3/lib/python3.6/site-packages/sklearn/metrics/regression.py:239: RuntimeWarning: overflow encountered in square\n",
      "  output_errors = np.average((y_true - y_pred) ** 2, axis=0,\n",
      "/anaconda3/lib/python3.6/site-packages/numpy/core/_methods.py:32: RuntimeWarning: overflow encountered in reduce\n",
      "  return umr_sum(a, axis, dtype, out, keepdims)\n",
      "/anaconda3/lib/python3.6/site-packages/sklearn/ensemble/gradient_boosting.py:282: RuntimeWarning: overflow encountered in square\n",
      "  np.sum(sample_weight * ((y - pred.ravel()) ** 2.0)))\n"
     ]
    },
    {
     "name": "stderr",
     "output_type": "stream",
     "text": [
      "/anaconda3/lib/python3.6/site-packages/sklearn/metrics/regression.py:239: RuntimeWarning: overflow encountered in square\n",
      "  output_errors = np.average((y_true - y_pred) ** 2, axis=0,\n",
      "/anaconda3/lib/python3.6/site-packages/numpy/core/_methods.py:32: RuntimeWarning: overflow encountered in reduce\n",
      "  return umr_sum(a, axis, dtype, out, keepdims)\n",
      "/anaconda3/lib/python3.6/site-packages/sklearn/ensemble/gradient_boosting.py:282: RuntimeWarning: overflow encountered in square\n",
      "  np.sum(sample_weight * ((y - pred.ravel()) ** 2.0)))\n",
      "/anaconda3/lib/python3.6/site-packages/sklearn/metrics/regression.py:239: RuntimeWarning: overflow encountered in square\n",
      "  output_errors = np.average((y_true - y_pred) ** 2, axis=0,\n",
      "/anaconda3/lib/python3.6/site-packages/numpy/core/_methods.py:32: RuntimeWarning: overflow encountered in reduce\n",
      "  return umr_sum(a, axis, dtype, out, keepdims)\n",
      "/anaconda3/lib/python3.6/site-packages/sklearn/ensemble/gradient_boosting.py:282: RuntimeWarning: overflow encountered in square\n",
      "  np.sum(sample_weight * ((y - pred.ravel()) ** 2.0)))\n",
      "/anaconda3/lib/python3.6/site-packages/sklearn/metrics/regression.py:239: RuntimeWarning: overflow encountered in square\n",
      "  output_errors = np.average((y_true - y_pred) ** 2, axis=0,\n"
     ]
    }
   ],
   "source": [
    "#XGBoost\n",
    "params_XGBoost_ETA = dict(loss=['ls', 'lad', 'huber'],\n",
    "                     learning_rate=[0.001, 1.0, 10.0],                                  #[0.001, 0.01, 0.1, 1.0, 10.0],\n",
    "                     n_estimators=[5, 50, 250],                      #[5, 20, 50, 100, 150, 200, 250],\n",
    "                     criterion=['mse'],\n",
    "                     max_depth=[3, 35, 75],                                                   #[3, 5, 10, 15, 35, 50, 75],\n",
    "                     min_samples_leaf=[5, 50, 200],                        #[2, 5, 10, 50, 100, 500, 1000],\n",
    "                     random_state=[42])\n",
    "\n",
    "grid_XGBoost_ETA = GridSearchCV(GradientBoostingRegressor(), param_grid=params_XGBoost, scoring='neg_mean_squared_error')\n",
    "grid_XGBoost_ETA.fit(scaled_features_duration, target_duration_log);"
   ]
  },
  {
   "cell_type": "code",
   "execution_count": null,
   "metadata": {
    "ExecuteTime": {
     "start_time": "2018-09-13T16:52:30.118Z"
    }
   },
   "outputs": [],
   "source": [
    "# examine the best model\n",
    "print('Best RMSE score for XGBoost cross validation is', colored(str(round(np.sqrt(abs(grid_XGBoost_ETA.best_score_)), 3)), 'green')+ '.')\n",
    "print('Best parameters for XGBoost validation are:\\n\\t', colored(str(grid_XGBoost_ETA.best_params_), 'green'))\n",
    "print('Best estimators for XGBoost validation are the following:\\n\\t', colored(str(grid_XGBoost_ETA.best_estimator_), 'green'))"
   ]
  },
  {
   "cell_type": "markdown",
   "metadata": {},
   "source": [
    "**Best RMSE score for XGBoost** cross validation is **%** (*on 150k record sample without demand or time of day*).    \n",
    "**Best parameters for XGBoost** cross validation are: ** **  \n",
    "**Best estimators for XGBoost** cross validation are the following: Ridge(alpha=10.0, copy_X=True, fit_intercept=True, max_iter=100,  \n",
    "                                                                           normalize=False, random_state=None, solver='auto', tol=0.001) "
   ]
  },
  {
   "cell_type": "markdown",
   "metadata": {},
   "source": [
    "### Now that I know the best parameters, let's see which model performs the best"
   ]
  },
  {
   "cell_type": "code",
   "execution_count": null,
   "metadata": {
    "ExecuteTime": {
     "end_time": "2018-09-13T15:33:19.396775Z",
     "start_time": "2018-09-13T06:13:32.201Z"
    }
   },
   "outputs": [],
   "source": [
    "# model_list_ETA = [LinearRegression(),\n",
    "#               RandomForestRegressor(n_estimators=225, max_depth=35, min_samples_leaf=3, random_state=42),\n",
    "#               GradientBoostingRegressor(, random_state=42)]\n",
    "\n",
    "# model_names_ETA = ['LinearRegression_ETA', 'RandomForest_ETA', 'XGBoost_ETA']"
   ]
  },
  {
   "cell_type": "code",
   "execution_count": null,
   "metadata": {
    "ExecuteTime": {
     "end_time": "2018-09-13T15:33:19.397702Z",
     "start_time": "2018-09-13T06:13:32.204Z"
    }
   },
   "outputs": [],
   "source": [
    "# model_RMSEs  = []\n",
    "# model_R2s = []\n",
    "# all_models = {}\n",
    "\n",
    "# for i in range(len(model_list_ETA)):\n",
    "#     try_model = model_list_ETA[i]\n",
    "#     try_model.fit(scaled_features, target_duration)\n",
    "#     all_models[model_names_ETA[i]] = try_model\n",
    "#     model_RMSE = np.sqrt(abs(cross_val_score(try_model, scaled_features_ETA, target_duration_log, cv=10,\n",
    "#                                 scoring='neg_mean_squared_error')))\n",
    "#     model_R2 = cross_val_score(try_model, scaled_features_ETA, target_duration_log, cv=10,\n",
    "#                                 scoring='r2')\n",
    "#     model_RMSEs.append((model_names_ETA[i], round(np.mean(model_RMSE), 3)))\n",
    "#     model_R2s.append((model_names_ETA[i], round(np.mean(model_AdjR2), 3)))\n",
    "    \n",
    "# print('RMSE scores: ' + colored(str(sorted(model_RMSEs, key=lambda x: x[1], reverse=True)), 'green'))\n",
    "# print('R2 scores: '+ colored(str(sorted(model_R2s, key=lambda x: x[1], reverse=True)), 'green'))"
   ]
  },
  {
   "cell_type": "code",
   "execution_count": null,
   "metadata": {},
   "outputs": [],
   "source": []
  },
  {
   "cell_type": "markdown",
   "metadata": {},
   "source": [
    "### Learning curve"
   ]
  },
  {
   "cell_type": "code",
   "execution_count": null,
   "metadata": {
    "ExecuteTime": {
     "end_time": "2018-09-13T15:33:19.398467Z",
     "start_time": "2018-09-13T06:13:32.207Z"
    }
   },
   "outputs": [],
   "source": [
    "# plt.figure(figsize=(10, 5))\n",
    "\n",
    "# # mse_scores = cross_val_score(MY_MODEL, features, target_duration_log, cv=5, scoring='neg_mean_squared_error')\n",
    "# # rmse_scores = [np.sqrt(abs(mse for mse in mse_scores))]\n",
    "# # mean_rmse_score = np.mean(rmse_scores)\n",
    "\n",
    "# train_sizes, train_scores, test_scores = learning_curve(MY_MODEL, features, target_duration_log, cv=5)\n",
    "# avg_train_scores = train_scores.mean(axis=1)\n",
    "# avg_test_scores = test_scores.mean(axis=1)\n",
    "\n",
    "# learn_df = pd.DataFrame({\n",
    "#     'train_size': train_sizes,\n",
    "#     'train_score': avg_train_scores,\n",
    "#     'test_score': avg_test_scores\n",
    "# })\n",
    "# print(learn_df, '\\n')\n",
    "\n",
    "# plt.plot(learn_df['train_size'], learn_df['train_score'], 'r--o', label='train scores')\n",
    "# plt.plot(learn_df['train_size'], learn_df['test_score'], 'b--x', label='test scores')\n",
    "# plt.title('Learning Curve')\n",
    "# plt.xlabel('No. of data points')\n",
    "# plt.ylabel('Score')\n",
    "# plt.legend(loc='lower right')\n",
    "# plt.ylim(-1,1);"
   ]
  },
  {
   "cell_type": "code",
   "execution_count": null,
   "metadata": {},
   "outputs": [],
   "source": []
  },
  {
   "cell_type": "code",
   "execution_count": null,
   "metadata": {},
   "outputs": [],
   "source": []
  },
  {
   "cell_type": "code",
   "execution_count": null,
   "metadata": {},
   "outputs": [],
   "source": []
  },
  {
   "cell_type": "markdown",
   "metadata": {},
   "source": [
    "### Feature importance using Random Forest"
   ]
  },
  {
   "cell_type": "code",
   "execution_count": null,
   "metadata": {
    "ExecuteTime": {
     "end_time": "2018-09-13T15:33:19.399295Z",
     "start_time": "2018-09-13T06:13:32.215Z"
    }
   },
   "outputs": [],
   "source": [
    "# feat_imp = []\n",
    "# for var, imp in zip([f for f in scaled_features.columns], Random_Forest.feature_importances_):\n",
    "#     feat_imp.append((var, round(imp, 3)))\n",
    "\n",
    "# for var, imp in sorted(feat_imp, key=lambda x: x[1], reverse=True):\n",
    "#     print(str(var)+':', str(imp))"
   ]
  },
  {
   "cell_type": "code",
   "execution_count": null,
   "metadata": {},
   "outputs": [],
   "source": []
  },
  {
   "cell_type": "code",
   "execution_count": null,
   "metadata": {},
   "outputs": [],
   "source": []
  },
  {
   "cell_type": "markdown",
   "metadata": {},
   "source": [
    "## Parameter search - FARE"
   ]
  },
  {
   "cell_type": "code",
   "execution_count": null,
   "metadata": {
    "ExecuteTime": {
     "end_time": "2018-09-13T15:33:19.401532Z",
     "start_time": "2018-09-13T06:13:32.223Z"
    }
   },
   "outputs": [],
   "source": [
    "LinReg_fare = LinearRegression()\n",
    "LinReg_fare.fit(scaled_features_fare, target_fare_log);"
   ]
  },
  {
   "cell_type": "code",
   "execution_count": null,
   "metadata": {
    "ExecuteTime": {
     "end_time": "2018-09-13T15:33:19.402584Z",
     "start_time": "2018-09-13T06:13:32.225Z"
    }
   },
   "outputs": [],
   "source": [
    "mse_scores = cross_val_score(LinReg_fare, scaled_features_fare, target_fare_log, cv=5, scoring='neg_mean_squared_error')\n",
    "rmse_scores = [np.sqrt(abs(mse)) for mse in mse_scores]\n",
    "mean_rmse_score = np.mean(rmse_scores)\n",
    "r2_LR_fare = LinReg_fare.score(scaled_features_fare, target_fare_log)\n",
    "print('Best RMSE score for Linear Regression cross validation is', colored(str(round(mean_rmse_score * 100, 1))+ '%', 'green')+'.')\n",
    "print('Best r-squared score for Linear Regression cross validation is', colored(str(round(r2_LR_fare * 100, 1))+ '%', 'green')+'.')"
   ]
  },
  {
   "cell_type": "markdown",
   "metadata": {},
   "source": [
    "> RMSE for Linear Regression is **27.4%** and R2 - **83.6%** (*on 150k record sample*)."
   ]
  },
  {
   "cell_type": "code",
   "execution_count": null,
   "metadata": {
    "ExecuteTime": {
     "end_time": "2018-09-13T15:33:19.409935Z",
     "start_time": "2018-09-13T06:13:32.239Z"
    }
   },
   "outputs": [],
   "source": [
    "#RandomForest\n",
    "params_randomForest = dict(n_estimators=[150, 175, 200, 225],                               #[5, 10, 15, 20, 50, 100, 150],\n",
    "                        criterion=['mse'],\n",
    "                        max_depth=[35, 50, 55, 60, 65],                                       #[3, 5, 10, 15, 35, 50, 75],\n",
    "                        min_samples_leaf=[1, 2, 3, 5, 10],                                 #[2, 5, 10, 50, 100, 500, 1000],\n",
    "                        random_state=[42])\n",
    "\n",
    "grid_RandomForest_fare = GridSearchCV(RandomForestRegressor(), param_grid=params_randomForest, scoring='neg_mean_squared_error')\n",
    "grid_RandomForest_fare.fit(scaled_features_fare, target_fare_log);"
   ]
  },
  {
   "cell_type": "code",
   "execution_count": null,
   "metadata": {
    "ExecuteTime": {
     "end_time": "2018-09-13T15:33:19.410872Z",
     "start_time": "2018-09-13T06:13:32.241Z"
    }
   },
   "outputs": [],
   "source": [
    "# examine the best model\n",
    "print('Best RMSE score for RandomForest cross validation is', colored(str(round(np.sqrt(abs(grid_RandomForest_fare.best_score_)) * 100, 1))+'%', 'green')+ '.')\n",
    "print('Best parameters for RandomForest validation are:\\n\\t', colored(str(grid_RandomForest_fare.best_params_), 'green'))\n",
    "print('Best estimators for RandomForest validation are the following:\\n\\t', colored(str(grid_RandomForest_fare.best_estimator_), 'green'))"
   ]
  },
  {
   "cell_type": "markdown",
   "metadata": {},
   "source": [
    "**Best RMSE score for RandomForest** cross validation is **35.6%** (*on 150k record sample*).    \n",
    "**Best parameters for RandomForest** cross validation are: **{'criterion': 'mse', 'max_depth': 50, 'min_samples_leaf': 2, 'n_estimators': 200}**  \n",
    "**Best estimators for RandomForest** cross validation are the following: RandomForestRegressor(bootstrap=True, criterion='mse', max_depth=50,\n",
    "                                                                           max_features='auto', max_leaf_nodes=None,\n",
    "                                                                           min_impurity_decrease=0.0, min_impurity_split=None,\n",
    "                                                                           min_samples_leaf=2, min_samples_split=2,\n",
    "                                                                           min_weight_fraction_leaf=0.0, n_estimators=200, n_jobs=1,\n",
    "                                                                           oob_score=False, random_state=42, verbose=0, warm_start=False)"
   ]
  },
  {
   "cell_type": "code",
   "execution_count": null,
   "metadata": {
    "ExecuteTime": {
     "end_time": "2018-09-13T15:33:19.412669Z",
     "start_time": "2018-09-13T06:13:32.244Z"
    }
   },
   "outputs": [],
   "source": [
    "#XGBoost\n",
    "params_XGBoost_fare = dict(loss=['ls', 'lad', 'huber'],\n",
    "                     learning_rate=[0.001, 1.0, 10.0],                                  #[0.001, 0.01, 0.1, 1.0, 10.0],\n",
    "                     n_estimators=[5, 50, 250],                      #[5, 20, 50, 100, 150, 200, 250],\n",
    "                     criterion=['mse'],\n",
    "                     max_depth=[3, 35, 75],                                                   #[3, 5, 10, 15, 35, 50, 75],\n",
    "                     min_samples_leaf=[5, 50, 200],                        #[2, 5, 10, 50, 100, 500, 1000],\n",
    "                     random_state=[42])\n",
    "\n",
    "grid_XGBoost_fare = GridSearchCV(GradientBoostingRegressor(), param_grid=params_XGBoost, scoring='neg_mean_squared_error')\n",
    "grid_XGBoost_fare.fit(scaled_features_fare, target_fare_log);"
   ]
  },
  {
   "cell_type": "code",
   "execution_count": null,
   "metadata": {
    "ExecuteTime": {
     "end_time": "2018-09-13T15:33:19.413954Z",
     "start_time": "2018-09-13T06:13:32.246Z"
    }
   },
   "outputs": [],
   "source": [
    "# examine the best model\n",
    "print('Best RMSE score for XGBoost cross validation is', colored(str(round(np.sqrt(abs(grid_XGBoost_fare.best_score_)), 3)), 'green')+ '.')\n",
    "print('Best parameters for XGBoost validation are:\\n\\t', colored(str(grid_XGBoost_fare.best_params_), 'green'))\n",
    "print('Best estimators for XGBoost validation are the following:\\n\\t', colored(str(grid_XGBoost_fare.best_estimator_), 'green'))"
   ]
  },
  {
   "cell_type": "code",
   "execution_count": null,
   "metadata": {},
   "outputs": [],
   "source": []
  },
  {
   "cell_type": "code",
   "execution_count": null,
   "metadata": {},
   "outputs": [],
   "source": []
  },
  {
   "cell_type": "code",
   "execution_count": null,
   "metadata": {
    "ExecuteTime": {
     "end_time": "2018-09-12T22:30:59.780301Z",
     "start_time": "2018-09-12T22:28:39.647Z"
    }
   },
   "outputs": [],
   "source": [
    "# model_list_fare = [LinearRegression(),\n",
    "#               Ridge(alpha=10.0, max_iter=10),\n",
    "#               Lasso(alpha=1e-05, max_iter=100),\n",
    "#               RandomForestRegressor(n_estimators=200, max_depth=50, min_samples_leaf=2, random_state=42),\n",
    "#               GradientBoostingRegressor(, random_state=42)]\n",
    "\n",
    "# model_names_fare = ['LinearRegression_fare', 'RandomForest_fare', 'XGBoost_fare']"
   ]
  },
  {
   "cell_type": "code",
   "execution_count": null,
   "metadata": {
    "ExecuteTime": {
     "end_time": "2018-09-12T22:30:59.781823Z",
     "start_time": "2018-09-12T22:28:39.649Z"
    }
   },
   "outputs": [],
   "source": [
    "# model_RMSEs  = []\n",
    "# model_R2s = []\n",
    "# all_models = {}\n",
    "\n",
    "# for i in range(len(model_list)):\n",
    "#     try_model = model_list[i]\n",
    "#     try_model.fit(scaled_features, target_duration)\n",
    "#     all_models[model_names[i]] = try_model\n",
    "#     model_RMSE = np.sqrt(abs(cross_val_score(try_model, scaled_features, target_duration, cv=10,\n",
    "#                                 scoring='neg_mean_squared_error')))\n",
    "#     model_R2 = cross_val_score(try_model, scaled_features, target_duration, cv=10,\n",
    "#                                 scoring='r2')\n",
    "#     model_RMSEs.append((model_names[i], round(np.mean(model_RMSE), 3)))\n",
    "#     model_R2s.append((model_names[i], round(np.mean(model_AdjR2), 3)))\n",
    "    \n",
    "# print('RMSE scores: ' + colored(str(sorted(model_RMSEs, key=lambda x: x[1], reverse=True)), 'green'))\n",
    "# print('R2 scores: '+ colored(str(sorted(model_R2s, key=lambda x: x[1], reverse=True)), 'green'))"
   ]
  },
  {
   "cell_type": "code",
   "execution_count": null,
   "metadata": {},
   "outputs": [],
   "source": []
  },
  {
   "cell_type": "markdown",
   "metadata": {},
   "source": [
    "### Learning curve"
   ]
  },
  {
   "cell_type": "code",
   "execution_count": null,
   "metadata": {
    "ExecuteTime": {
     "end_time": "2018-09-12T22:30:59.783257Z",
     "start_time": "2018-09-12T22:28:39.653Z"
    }
   },
   "outputs": [],
   "source": [
    "# plt.figure(figsize=(10, 5))\n",
    "\n",
    "# # mse_scores = cross_val_score(MY_MODEL, features, target_duration_log, cv=5, scoring='neg_mean_squared_error')\n",
    "# # rmse_scores = [np.sqrt(abs(mse for mse in mse_scores))]\n",
    "# # mean_rmse_score = np.mean(rmse_scores)\n",
    "\n",
    "# train_sizes, train_scores, test_scores = learning_curve(MY_MODEL, features, target_duration_log, cv=5)\n",
    "# avg_train_scores = train_scores.mean(axis=1)\n",
    "# avg_test_scores = test_scores.mean(axis=1)\n",
    "\n",
    "# learn_df = pd.DataFrame({\n",
    "#     'train_size': train_sizes,\n",
    "#     'train_score': avg_train_scores,\n",
    "#     'test_score': avg_test_scores\n",
    "# })\n",
    "# print(learn_df, '\\n')\n",
    "\n",
    "# plt.plot(learn_df['train_size'], learn_df['train_score'], 'r--o', label='train scores')\n",
    "# plt.plot(learn_df['train_size'], learn_df['test_score'], 'b--x', label='test scores')\n",
    "# plt.title('Learning Curve')\n",
    "# plt.xlabel('No. of data points')\n",
    "# plt.ylabel('Score')\n",
    "# plt.legend(loc='lower right')\n",
    "# plt.ylim(-1,1);"
   ]
  },
  {
   "cell_type": "code",
   "execution_count": null,
   "metadata": {},
   "outputs": [],
   "source": []
  },
  {
   "cell_type": "markdown",
   "metadata": {},
   "source": [
    "## Finally! Mapping and visualizing :)"
   ]
  },
  {
   "cell_type": "code",
   "execution_count": null,
   "metadata": {
    "ExecuteTime": {
     "end_time": "2018-09-12T22:30:59.785883Z",
     "start_time": "2018-09-12T22:28:39.669Z"
    }
   },
   "outputs": [],
   "source": [
    "def get_latitude(address):\n",
    "    \"\"\"Takes an address string and converts it into a lat/long.\n",
    "    Returns longitude and longitude pair.\"\"\"\n",
    "    latitude = geocoder.osm(address).latlng[0]\n",
    "    return latitude\n",
    "\n",
    "def get_longitude(address):\n",
    "    \"\"\"Takes an address string and converts it into a lat/long.\n",
    "    Returns longitude and longitude pair.\"\"\"\n",
    "    longitude = geocoder.osm(address).latlng[1]\n",
    "    return longitude\n",
    "\n",
    "def get_geopoint(address):\n",
    "    \"\"\"Takes an address string and converts it into a geopoint.\n",
    "    Returns a geopoint.\"\"\"\n",
    "    geopoint = Point((get_longitude(address), get_latitude(address)))\n",
    "    return geopoint\n",
    "\n",
    "def get_distance(origin_address, destination_address):\n",
    "    \"\"\"Takes origin and destination addresses, converts them into geopoints and returns distance (in miles).\n",
    "    Returns distance float (in miles).\"\"\"\n",
    "    origin = (get_latitude(origin_address), get_longitude(origin_address))\n",
    "    destination = (get_latitude(destination_address), get_longitude(destination_address))\n",
    "    distance = gd.geodesic(origin, destination).miles\n",
    "    return distance\n",
    "    \n",
    "def get_ETA(trip_duration, start_time=dt.datetime.now()):\n",
    "    \"\"\"Takes current datetime and trip duration as input.\n",
    "    Returns Estimated Time of Arrival.\"\"\"\n",
    "    now = start_time\n",
    "    return now + dt.timedelta(seconds=trip_duration)\n",
    "\n",
    "def plot_route(origin, destination):\n",
    "    \"\"\"Takes origin and destination coordinates and generates a route on Chicago City map.\n",
    "    Returns a plot with origin and destination marked as well the optimal route highlighted.\"\"\"\n",
    "    \n",
    "    "
   ]
  },
  {
   "cell_type": "code",
   "execution_count": null,
   "metadata": {
    "ExecuteTime": {
     "end_time": "2018-09-12T22:30:59.787348Z",
     "start_time": "2018-09-12T22:28:39.671Z"
    }
   },
   "outputs": [],
   "source": [
    "# my_date = pd.to_datetime('2018-01-01 10:00:00')\n",
    "# print(get_ETA(3600))"
   ]
  },
  {
   "cell_type": "code",
   "execution_count": null,
   "metadata": {
    "ExecuteTime": {
     "end_time": "2018-09-12T22:30:59.788761Z",
     "start_time": "2018-09-12T22:28:39.673Z"
    }
   },
   "outputs": [],
   "source": [
    "# print(get_now())"
   ]
  },
  {
   "cell_type": "code",
   "execution_count": null,
   "metadata": {
    "ExecuteTime": {
     "end_time": "2018-09-12T22:30:59.790253Z",
     "start_time": "2018-09-12T22:28:39.676Z"
    }
   },
   "outputs": [],
   "source": [
    "# o_address = '149 new montgomery street, san francisco'\n",
    "# d_address = '971 howard street, san francisco'\n",
    "# print(get_latitude(o_address))\n",
    "# print(get_longitude(o_address))\n",
    "# print(get_geopoint(o_address))"
   ]
  },
  {
   "cell_type": "markdown",
   "metadata": {},
   "source": [
    "> Need to remove those stupid messages!"
   ]
  },
  {
   "cell_type": "code",
   "execution_count": null,
   "metadata": {
    "ExecuteTime": {
     "end_time": "2018-09-12T22:30:59.791516Z",
     "start_time": "2018-09-12T22:28:39.678Z"
    }
   },
   "outputs": [],
   "source": [
    "# get_distance(o_address, d_address)"
   ]
  },
  {
   "cell_type": "markdown",
   "metadata": {},
   "source": [
    "### Update location columns for pickup and dropoff using shapely (converting the dataframe to GeoPandas)"
   ]
  },
  {
   "cell_type": "code",
   "execution_count": null,
   "metadata": {
    "ExecuteTime": {
     "end_time": "2018-09-12T22:30:59.792948Z",
     "start_time": "2018-09-12T22:28:39.681Z"
    }
   },
   "outputs": [],
   "source": [
    "#replace pickup_centroid_location and dropoff_centroid_location columns with point coordinates using shapely\n",
    "# pickup_geopoint = list(zip(taxi_weather_clean['pickup_centroid_longitude'], taxi_weather_clean['pickup_centroid_latitude']))\n",
    "# dropoff_geopoint = list(zip(taxi_weather_clean['dropoff_centroid_longitude'], taxi_weather_clean['dropoff_centroid_latitude']))\n",
    "\n",
    "# taxi_weather_clean['pickup_centroid_location'] = pickup_geopoint\n",
    "# taxi_weather_clean['dropoff_centroid_location'] = dropoff_geopoint\n",
    "\n",
    "# taxi_weather_clean['pickup_centroid_location'] = taxi_weather_clean['pickup_centroid_location'].apply(Point)\n",
    "# taxi_weather_clean['dropoff_centroid_location'] = taxi_weather_clean['dropoff_centroid_location'].apply(Point);\n"
   ]
  },
  {
   "cell_type": "code",
   "execution_count": null,
   "metadata": {
    "ExecuteTime": {
     "end_time": "2018-09-12T22:30:59.794174Z",
     "start_time": "2018-09-12T22:28:39.682Z"
    }
   },
   "outputs": [],
   "source": [
    "# taxi_weather_clean.head(2)"
   ]
  },
  {
   "cell_type": "code",
   "execution_count": null,
   "metadata": {
    "ExecuteTime": {
     "end_time": "2018-09-12T22:30:59.795594Z",
     "start_time": "2018-09-12T22:28:39.685Z"
    }
   },
   "outputs": [],
   "source": [
    "# taxi_weather_gdf = gpd.GeoDataFrame(taxi_weather_clean, geometry='pickup_centroid_location')"
   ]
  },
  {
   "cell_type": "code",
   "execution_count": null,
   "metadata": {
    "ExecuteTime": {
     "end_time": "2018-09-12T22:30:59.796949Z",
     "start_time": "2018-09-12T22:28:39.687Z"
    }
   },
   "outputs": [],
   "source": [
    "# taxi_weather_gdf.tail(3)"
   ]
  },
  {
   "cell_type": "code",
   "execution_count": null,
   "metadata": {
    "ExecuteTime": {
     "end_time": "2018-09-12T22:30:59.798223Z",
     "start_time": "2018-09-12T22:28:39.689Z"
    }
   },
   "outputs": [],
   "source": [
    "# with fiona.drivers():\n",
    "#     with fiona.open(\"./Datasets/USA_adm/USA_adm2.shp\") as source:\n",
    "#         meta = source.meta\n",
    "#         geoms = []\n",
    "#         for fear in source:\n",
    "#             geoms.append(fear['geometry'])"
   ]
  },
  {
   "cell_type": "code",
   "execution_count": null,
   "metadata": {
    "ExecuteTime": {
     "end_time": "2018-09-12T22:30:59.799838Z",
     "start_time": "2018-09-12T22:28:39.690Z"
    }
   },
   "outputs": [],
   "source": [
    "# geoms[1]"
   ]
  },
  {
   "cell_type": "code",
   "execution_count": null,
   "metadata": {
    "ExecuteTime": {
     "end_time": "2018-09-12T22:30:59.802752Z",
     "start_time": "2018-09-12T22:28:39.693Z"
    },
    "scrolled": true
   },
   "outputs": [],
   "source": [
    "# # usa_shape_link = \"./Datasets/LKA_adm/LKA_adm1.shp\"\n",
    "# geo_df = gpd.GeoDataFrame(geoms)\n",
    "# geo_df.head()"
   ]
  },
  {
   "cell_type": "code",
   "execution_count": null,
   "metadata": {
    "ExecuteTime": {
     "end_time": "2018-09-12T22:30:59.804692Z",
     "start_time": "2018-09-12T22:28:39.695Z"
    }
   },
   "outputs": [],
   "source": [
    "# geo_df.plot()"
   ]
  },
  {
   "cell_type": "code",
   "execution_count": 62,
   "metadata": {
    "ExecuteTime": {
     "end_time": "2018-09-14T20:34:28.571465Z",
     "start_time": "2018-09-14T20:34:28.562932Z"
    },
    "scrolled": false
   },
   "outputs": [],
   "source": [
    "# df = geopandas.read_file(geopandas.datasets.get_path('nybb'))\n",
    "# world = gpd.read_file(gpd.datasets.get_path('naturalearth_lowres'))\n",
    "# # We restrict to North America.\n",
    "# ax = geo_df.plot(\n",
    "#     color='white', edgecolor='blue')\n",
    "\n",
    "# # We can now plot our GeoDataFrame.\n",
    "# taxi_weather_gdf.plot(ax=ax, color='red')\n",
    "# plt.show()\n",
    "# Place map\n",
    "import gmplot\n",
    "gmap = gmplot.GoogleMapPlotter(37.766956, -122.438481, 13)\n",
    "\n",
    "# # Marker\n",
    "hidden_gem_lat, hidden_gem_lon = 37.770776, -122.461689\n",
    "gmap.scatter([hidden_gem_lat], [hidden_gem_lon],'cornflowerblue', size=40, marker=False)\n",
    "\n",
    "# # Draw\n",
    "gmap.draw(\"my_map.html\")\n",
    "\n",
    "\n",
    "# taxi_weather_gdf.plot(figsize=(10, 10), alpha=0.5, edgecolor='c')\n",
    "# plt.title('Pickup locations')\n",
    "# plt.xlabel('Longitude')\n",
    "# plt.ylabel('Latitude');"
   ]
  },
  {
   "cell_type": "code",
   "execution_count": 63,
   "metadata": {
    "ExecuteTime": {
     "end_time": "2018-09-14T20:34:36.426775Z",
     "start_time": "2018-09-14T20:34:36.421790Z"
    }
   },
   "outputs": [
    {
     "data": {
      "text/html": [
       "<iframe width=\"100%\" height=\"650\" src=\"./my_map.html\"></iframe>"
      ],
      "text/plain": [
       "<IPython.core.display.HTML object>"
      ]
     },
     "metadata": {},
     "output_type": "display_data"
    }
   ],
   "source": [
    "%%HTML\n",
    "<iframe width=\"100%\" height=\"650\" src=\"./my_map.html\"></iframe>"
   ]
  },
  {
   "cell_type": "code",
   "execution_count": null,
   "metadata": {},
   "outputs": [],
   "source": []
  },
  {
   "cell_type": "code",
   "execution_count": null,
   "metadata": {},
   "outputs": [],
   "source": []
  }
 ],
 "metadata": {
  "kernelspec": {
   "display_name": "Python 3",
   "language": "python",
   "name": "python3"
  },
  "language_info": {
   "codemirror_mode": {
    "name": "ipython",
    "version": 3
   },
   "file_extension": ".py",
   "mimetype": "text/x-python",
   "name": "python",
   "nbconvert_exporter": "python",
   "pygments_lexer": "ipython3",
   "version": "3.6.5"
  },
  "varInspector": {
   "cols": {
    "lenName": 16,
    "lenType": 16,
    "lenVar": 40
   },
   "kernels_config": {
    "python": {
     "delete_cmd_postfix": "",
     "delete_cmd_prefix": "del ",
     "library": "var_list.py",
     "varRefreshCmd": "print(var_dic_list())"
    },
    "r": {
     "delete_cmd_postfix": ") ",
     "delete_cmd_prefix": "rm(",
     "library": "var_list.r",
     "varRefreshCmd": "cat(var_dic_list()) "
    }
   },
   "types_to_exclude": [
    "module",
    "function",
    "builtin_function_or_method",
    "instance",
    "_Feature"
   ],
   "window_display": false
  }
 },
 "nbformat": 4,
 "nbformat_minor": 2
}
