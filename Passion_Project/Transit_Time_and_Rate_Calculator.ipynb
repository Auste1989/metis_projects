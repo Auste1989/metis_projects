{
 "cells": [
  {
   "cell_type": "markdown",
   "metadata": {},
   "source": [
    "## First try at getting some data"
   ]
  },
  {
   "cell_type": "code",
   "execution_count": 1,
   "metadata": {
    "ExecuteTime": {
     "end_time": "2018-09-07T01:52:14.260266Z",
     "start_time": "2018-09-07T01:52:14.249212Z"
    }
   },
   "outputs": [
    {
     "data": {
      "text/html": [
       "<style>.container { width:95% !important; }</style>"
      ],
      "text/plain": [
       "<IPython.core.display.HTML object>"
      ]
     },
     "metadata": {},
     "output_type": "display_data"
    }
   ],
   "source": [
    "from IPython.core.display import display, HTML\n",
    "display(HTML(\"<style>.container { width:95% !important; }</style>\"))"
   ]
  },
  {
   "cell_type": "code",
   "execution_count": 2,
   "metadata": {
    "ExecuteTime": {
     "end_time": "2018-09-07T01:52:16.810938Z",
     "start_time": "2018-09-07T01:52:14.261864Z"
    }
   },
   "outputs": [
    {
     "name": "stderr",
     "output_type": "stream",
     "text": [
      "/anaconda3/lib/python3.6/site-packages/statsmodels/compat/pandas.py:56: FutureWarning: The pandas.core.datetools module is deprecated and will be removed in a future version. Please use the pandas.tseries module instead.\n",
      "  from pandas.core import datetools\n"
     ]
    }
   ],
   "source": [
    "#Essentials\n",
    "import numpy as np\n",
    "import pandas as pd\n",
    "import pickle\n",
    "import re\n",
    "\n",
    "#API imports\n",
    "from sodapy import Socrata\n",
    "\n",
    "#SQL related\n",
    "import psycopg2\n",
    "import sqlite3\n",
    "from sqlalchemy import create_engine\n",
    "import pandas.io.sql as pd_sql\n",
    "\n",
    "#Visualization\n",
    "import matplotlib.pyplot as plt\n",
    "import seaborn as sns\n",
    "import geopandas as gpd\n",
    "import shapely\n",
    "from shapely.geometry import Point\n",
    "# import contextily as ctx\n",
    "\n",
    "#Regression imports\n",
    "import statsmodels.api as sm\n",
    "import statsmodels.formula.api as smf\n",
    "import patsy\n",
    "\n",
    "from sklearn.model_selection import train_test_split\n",
    "from sklearn.linear_model import LinearRegression\n",
    "from sklearn.linear_model import RidgeCV\n",
    "from sklearn.linear_model import LassoCV\n",
    "from sklearn.preprocessing import PolynomialFeatures\n",
    "from sklearn import feature_selection as f_select\n",
    "from sklearn.model_selection import cross_val_score\n",
    "from sklearn.model_selection import KFold\n",
    "from sklearn import metrics\n",
    "from sklearn.metrics import mean_squared_error\n",
    "from sklearn.model_selection import learning_curve\n",
    "\n",
    "from sklearn.pipeline import make_pipeline\n",
    "\n",
    "%matplotlib inline"
   ]
  },
  {
   "cell_type": "markdown",
   "metadata": {},
   "source": [
    "### Load all the data into an SQL database"
   ]
  },
  {
   "cell_type": "code",
   "execution_count": 3,
   "metadata": {
    "ExecuteTime": {
     "end_time": "2018-09-07T01:52:16.824253Z",
     "start_time": "2018-09-07T01:52:16.813347Z"
    }
   },
   "outputs": [],
   "source": [
    "# Set up the database connection\n",
    "conn = psycopg2.connect(dbname=\"taxi_rides_db\", user=\"auste_m\")"
   ]
  },
  {
   "cell_type": "code",
   "execution_count": 4,
   "metadata": {
    "ExecuteTime": {
     "end_time": "2018-09-07T01:52:16.831017Z",
     "start_time": "2018-09-07T01:52:16.826785Z"
    }
   },
   "outputs": [],
   "source": [
    "# CREATE TABLE taxi_rides_clean (\n",
    "#                             trip_id TEXT, \n",
    "#                             taxi_id TEXT, \n",
    "#                             trip_start_timestamp TIMESTAMP,\n",
    "#                             trip_end_timestamp TIMESTAMP,\n",
    "#                             trip_seconds INT,\n",
    "#                             trip_miles FLOAT,\n",
    "#                             pickup_census_tract TEXT,\n",
    "#                             pickup_community_area TEXT,\n",
    "#                             dropoff_census_tract TEXT,\n",
    "#                             dropoff_community_area TEXT,\n",
    "#                             fare FLOAT,\n",
    "#                             tips FLOAT,\n",
    "#                             tolls FLOAT,\n",
    "#                             extras FLOAT,\n",
    "#                             trip_total FLOAT,\n",
    "#                             payment_type TEXT,\n",
    "#                             company TEXT,\n",
    "#                             pickup_centroid_latitude FLOAT,\n",
    "#                             pickup_centroid_longitude FLOAT,\n",
    "#                             pickup_centroid_location TEXT,\n",
    "#                             dropoff_centroid_latitude FLOAT,\n",
    "#                             dropoff_centroid_longitude FLOAT,\n",
    "#                             dropoff_centroid_location TEXT\n",
    "#                         );"
   ]
  },
  {
   "cell_type": "code",
   "execution_count": 5,
   "metadata": {
    "ExecuteTime": {
     "end_time": "2018-09-07T01:52:16.836635Z",
     "start_time": "2018-09-07T01:52:16.834084Z"
    }
   },
   "outputs": [],
   "source": [
    "# COPY taxi_rides from '/home/ubuntu/Passion_Project/Taxi_Trips.csv' DELIMITER ',' CSV HEADER;\n",
    "# COPY taxi_rides from '/home/ubuntu/Passion_Project/Taxi_Trips_2016.csv' DELIMITER ',' CSV HEADER;"
   ]
  },
  {
   "cell_type": "code",
   "execution_count": 6,
   "metadata": {
    "ExecuteTime": {
     "end_time": "2018-09-07T01:52:16.841529Z",
     "start_time": "2018-09-07T01:52:16.838486Z"
    }
   },
   "outputs": [],
   "source": [
    "# CREATE TABLE chicago_weather(\n",
    "#                                 station TEXT,\n",
    "#                                 name TEXT, \n",
    "#                                 latitude FLOAT,\n",
    "#                                 longitude FLOAT,\n",
    "#                                 elevation FLOAT,\n",
    "#                                 date TIMESTAMP, \n",
    "#                                 avg_daily_wind_speed FLOAT,\n",
    "#                                 peak_gust_time FLOAT,\n",
    "#                                 precipitation_mm FLOAT,\n",
    "#                                 snowfall_mm FLOAT,\n",
    "#                                 snowdepth_mm FLOAT,\n",
    "#                                 avg_temp_f INT,\n",
    "#                                 fog INT,\n",
    "#                                 heavy_fog INT,\n",
    "#                                 thunder INT,\n",
    "#                                 sleet INT,\n",
    "#                                 hail INT, \n",
    "#                                 glaze INT,\n",
    "#                                 smoke INT,\n",
    "#                                 drifting_snow INT, \n",
    "#                                 mist INT,\n",
    "#                                 drizzle INT,\n",
    "#                                 rain INT,\n",
    "#                                 freezing_rain INT,\n",
    "#                                 snow INT,\n",
    "#                                 unkwn_precipitation INT,\n",
    "#                                 ice_fog INT\n",
    "#                                  );"
   ]
  },
  {
   "cell_type": "code",
   "execution_count": 7,
   "metadata": {
    "ExecuteTime": {
     "end_time": "2018-09-07T01:52:16.845976Z",
     "start_time": "2018-09-07T01:52:16.843552Z"
    }
   },
   "outputs": [],
   "source": [
    "# COPY chicago_weather FROM '/home/ubuntu/Chicago_Historical_Weather_Dataset.csv' DELIMITER ',' CSV HEADER;"
   ]
  },
  {
   "cell_type": "code",
   "execution_count": 8,
   "metadata": {
    "ExecuteTime": {
     "end_time": "2018-09-07T01:52:16.853625Z",
     "start_time": "2018-09-07T01:52:16.848282Z"
    }
   },
   "outputs": [],
   "source": [
    "taxi_rides_query = \"\"\"SELECT * FROM taxi_rides WHERE trip_start_timestamp BETWEEN '2016-02-01' AND '2016-02-15';\"\"\" \n",
    "weather_query = \"\"\"SELECT * FROM chicago_weather WHERE date BETWEEN '2016-02-01' AND '2016-02-15';\"\"\"\n",
    "\n",
    "taxi_weather_query = \"\"\"SELECT TR.trip_start_timestamp,\n",
    "                                TR.trip_end_timestamp,\n",
    "                                TR.trip_seconds,\n",
    "                                TR.trip_miles,\n",
    "                                --TR.pickup_community_area,\n",
    "                                --TR.dropoff_community_area,\n",
    "                                TR.fare,\n",
    "                                TR.tolls,\n",
    "                                TR.tips,\n",
    "                                TR.trip_total,\n",
    "                                TR.payment_type,\n",
    "                                TR.pickup_centroid_latitude,\n",
    "                                TR.pickup_centroid_longitude,\n",
    "                                TR.pickup_centroid_location,\n",
    "                                TR.dropoff_centroid_latitude,\n",
    "                                TR.dropoff_centroid_longitude,\n",
    "                                TR.dropoff_centroid_location,\n",
    "                                CW.avg_daily_wind_speed,\n",
    "                                CW.avg_temp_f,\n",
    "                                CASE WHEN CW.fog = 1 OR CW.heavy_fog = 1 OR ice_fog = 1 OR mist = 1 THEN 1 ELSE 0 END as fog,\n",
    "                                CASE WHEN CW.rain = 1 OR CW.drizzle = 1 OR CW.hail = 1 THEN 1 ELSE 0 END as rain,\n",
    "                                CASE WHEN CW.snow = 1 OR CW.freezing_rain = 1 OR drifting_snow = 1 THEN 1 ELSE 0 END as snow\n",
    "                                \n",
    "                        FROM taxi_rides_clean as TR\n",
    "                        LEFT JOIN chicago_weather as CW\n",
    "                        ON CAST(TR.trip_start_timestamp AS DATE) = CAST(date AS DATE)\n",
    "                        WHERE trip_start_timestamp BETWEEN '2016-02-01' AND '2016-02-15';\"\"\" "
   ]
  },
  {
   "cell_type": "code",
   "execution_count": 9,
   "metadata": {
    "ExecuteTime": {
     "end_time": "2018-09-07T01:52:16.857953Z",
     "start_time": "2018-09-07T01:52:16.855786Z"
    }
   },
   "outputs": [],
   "source": [
    "#Read in Chicago city community area shapefile\n",
    "# chicago_community_areas = gpd.read_file(\"./datasets/Chicago_Community_Areas/geo_export_4c20eda0-2d92-4a1d-8513-878eb3e095a3.shp\")"
   ]
  },
  {
   "cell_type": "code",
   "execution_count": 10,
   "metadata": {
    "ExecuteTime": {
     "end_time": "2018-09-07T01:52:55.419792Z",
     "start_time": "2018-09-07T01:52:16.859872Z"
    },
    "scrolled": false
   },
   "outputs": [],
   "source": [
    "#approx. 30min to load the whole of 2016 data\n",
    "sql_load = pd.read_sql_query(taxi_weather_query, con=conn)"
   ]
  },
  {
   "cell_type": "code",
   "execution_count": 11,
   "metadata": {
    "ExecuteTime": {
     "end_time": "2018-09-07T01:52:55.423810Z",
     "start_time": "2018-09-07T01:52:55.421715Z"
    }
   },
   "outputs": [],
   "source": [
    "taxi_weather_df = sql_load"
   ]
  },
  {
   "cell_type": "code",
   "execution_count": 12,
   "metadata": {
    "ExecuteTime": {
     "end_time": "2018-09-07T01:52:55.455833Z",
     "start_time": "2018-09-07T01:52:55.426440Z"
    }
   },
   "outputs": [
    {
     "data": {
      "text/html": [
       "<div>\n",
       "<style scoped>\n",
       "    .dataframe tbody tr th:only-of-type {\n",
       "        vertical-align: middle;\n",
       "    }\n",
       "\n",
       "    .dataframe tbody tr th {\n",
       "        vertical-align: top;\n",
       "    }\n",
       "\n",
       "    .dataframe thead th {\n",
       "        text-align: right;\n",
       "    }\n",
       "</style>\n",
       "<table border=\"1\" class=\"dataframe\">\n",
       "  <thead>\n",
       "    <tr style=\"text-align: right;\">\n",
       "      <th></th>\n",
       "      <th>trip_start_timestamp</th>\n",
       "      <th>trip_end_timestamp</th>\n",
       "      <th>trip_seconds</th>\n",
       "      <th>trip_miles</th>\n",
       "      <th>fare</th>\n",
       "      <th>tolls</th>\n",
       "      <th>tips</th>\n",
       "      <th>trip_total</th>\n",
       "      <th>payment_type</th>\n",
       "      <th>pickup_centroid_latitude</th>\n",
       "      <th>pickup_centroid_longitude</th>\n",
       "      <th>pickup_centroid_location</th>\n",
       "      <th>dropoff_centroid_latitude</th>\n",
       "      <th>dropoff_centroid_longitude</th>\n",
       "      <th>dropoff_centroid_location</th>\n",
       "      <th>avg_daily_wind_speed</th>\n",
       "      <th>avg_temp_f</th>\n",
       "      <th>fog</th>\n",
       "      <th>rain</th>\n",
       "      <th>snow</th>\n",
       "    </tr>\n",
       "  </thead>\n",
       "  <tbody>\n",
       "    <tr>\n",
       "      <th>0</th>\n",
       "      <td>2016-02-01 22:30:00</td>\n",
       "      <td>2016-02-01 23:00:00</td>\n",
       "      <td>1380.0</td>\n",
       "      <td>13.7</td>\n",
       "      <td>35.00</td>\n",
       "      <td>0.0</td>\n",
       "      <td>7.80</td>\n",
       "      <td>46.80</td>\n",
       "      <td>Credit Card</td>\n",
       "      <td>41.792592</td>\n",
       "      <td>-87.769615</td>\n",
       "      <td>POINT (-87.7696154528 41.7925923603)</td>\n",
       "      <td>41.794090</td>\n",
       "      <td>-87.592311</td>\n",
       "      <td>POINT (-87.592310855 41.794090253)</td>\n",
       "      <td>4.92</td>\n",
       "      <td>36</td>\n",
       "      <td>1</td>\n",
       "      <td>0</td>\n",
       "      <td>0</td>\n",
       "    </tr>\n",
       "    <tr>\n",
       "      <th>1</th>\n",
       "      <td>2016-02-01 00:45:00</td>\n",
       "      <td>2016-02-01 01:00:00</td>\n",
       "      <td>1140.0</td>\n",
       "      <td>0.3</td>\n",
       "      <td>18.50</td>\n",
       "      <td>0.0</td>\n",
       "      <td>0.00</td>\n",
       "      <td>21.00</td>\n",
       "      <td>Cash</td>\n",
       "      <td>41.944227</td>\n",
       "      <td>-87.655998</td>\n",
       "      <td>POINT (-87.6559981815 41.9442266014)</td>\n",
       "      <td>41.874005</td>\n",
       "      <td>-87.663518</td>\n",
       "      <td>POINT (-87.6635175498 41.874005383)</td>\n",
       "      <td>4.92</td>\n",
       "      <td>36</td>\n",
       "      <td>1</td>\n",
       "      <td>0</td>\n",
       "      <td>0</td>\n",
       "    </tr>\n",
       "    <tr>\n",
       "      <th>2</th>\n",
       "      <td>2016-02-01 14:00:00</td>\n",
       "      <td>2016-02-01 14:00:00</td>\n",
       "      <td>840.0</td>\n",
       "      <td>2.5</td>\n",
       "      <td>10.50</td>\n",
       "      <td>0.0</td>\n",
       "      <td>2.00</td>\n",
       "      <td>12.50</td>\n",
       "      <td>Credit Card</td>\n",
       "      <td>41.870607</td>\n",
       "      <td>-87.622173</td>\n",
       "      <td>POINT (-87.6221729369 41.8706073724)</td>\n",
       "      <td>41.885281</td>\n",
       "      <td>-87.657233</td>\n",
       "      <td>POINT (-87.6572331997 41.8852813201)</td>\n",
       "      <td>4.92</td>\n",
       "      <td>36</td>\n",
       "      <td>1</td>\n",
       "      <td>0</td>\n",
       "      <td>0</td>\n",
       "    </tr>\n",
       "    <tr>\n",
       "      <th>3</th>\n",
       "      <td>2016-02-01 19:00:00</td>\n",
       "      <td>2016-02-01 19:30:00</td>\n",
       "      <td>1080.0</td>\n",
       "      <td>4.3</td>\n",
       "      <td>14.75</td>\n",
       "      <td>0.0</td>\n",
       "      <td>2.95</td>\n",
       "      <td>17.70</td>\n",
       "      <td>Credit Card</td>\n",
       "      <td>41.878866</td>\n",
       "      <td>-87.625192</td>\n",
       "      <td>POINT (-87.6251921424 41.8788655841)</td>\n",
       "      <td>41.922761</td>\n",
       "      <td>-87.699155</td>\n",
       "      <td>POINT (-87.6991553432 41.9227606205)</td>\n",
       "      <td>4.92</td>\n",
       "      <td>36</td>\n",
       "      <td>1</td>\n",
       "      <td>0</td>\n",
       "      <td>0</td>\n",
       "    </tr>\n",
       "    <tr>\n",
       "      <th>4</th>\n",
       "      <td>2016-02-01 08:30:00</td>\n",
       "      <td>2016-02-01 08:45:00</td>\n",
       "      <td>480.0</td>\n",
       "      <td>4.8</td>\n",
       "      <td>14.00</td>\n",
       "      <td>0.0</td>\n",
       "      <td>4.75</td>\n",
       "      <td>23.75</td>\n",
       "      <td>Credit Card</td>\n",
       "      <td>41.980264</td>\n",
       "      <td>-87.913625</td>\n",
       "      <td>POINT (-87.913624596 41.9802643146)</td>\n",
       "      <td>41.980264</td>\n",
       "      <td>-87.913625</td>\n",
       "      <td>POINT (-87.913624596 41.9802643146)</td>\n",
       "      <td>4.92</td>\n",
       "      <td>36</td>\n",
       "      <td>1</td>\n",
       "      <td>0</td>\n",
       "      <td>0</td>\n",
       "    </tr>\n",
       "  </tbody>\n",
       "</table>\n",
       "</div>"
      ],
      "text/plain": [
       "  trip_start_timestamp  trip_end_timestamp  trip_seconds  trip_miles   fare  \\\n",
       "0  2016-02-01 22:30:00 2016-02-01 23:00:00        1380.0        13.7  35.00   \n",
       "1  2016-02-01 00:45:00 2016-02-01 01:00:00        1140.0         0.3  18.50   \n",
       "2  2016-02-01 14:00:00 2016-02-01 14:00:00         840.0         2.5  10.50   \n",
       "3  2016-02-01 19:00:00 2016-02-01 19:30:00        1080.0         4.3  14.75   \n",
       "4  2016-02-01 08:30:00 2016-02-01 08:45:00         480.0         4.8  14.00   \n",
       "\n",
       "   tolls  tips  trip_total payment_type  pickup_centroid_latitude  \\\n",
       "0    0.0  7.80       46.80  Credit Card                 41.792592   \n",
       "1    0.0  0.00       21.00         Cash                 41.944227   \n",
       "2    0.0  2.00       12.50  Credit Card                 41.870607   \n",
       "3    0.0  2.95       17.70  Credit Card                 41.878866   \n",
       "4    0.0  4.75       23.75  Credit Card                 41.980264   \n",
       "\n",
       "   pickup_centroid_longitude              pickup_centroid_location  \\\n",
       "0                 -87.769615  POINT (-87.7696154528 41.7925923603)   \n",
       "1                 -87.655998  POINT (-87.6559981815 41.9442266014)   \n",
       "2                 -87.622173  POINT (-87.6221729369 41.8706073724)   \n",
       "3                 -87.625192  POINT (-87.6251921424 41.8788655841)   \n",
       "4                 -87.913625   POINT (-87.913624596 41.9802643146)   \n",
       "\n",
       "   dropoff_centroid_latitude  dropoff_centroid_longitude  \\\n",
       "0                  41.794090                  -87.592311   \n",
       "1                  41.874005                  -87.663518   \n",
       "2                  41.885281                  -87.657233   \n",
       "3                  41.922761                  -87.699155   \n",
       "4                  41.980264                  -87.913625   \n",
       "\n",
       "              dropoff_centroid_location  avg_daily_wind_speed  avg_temp_f  \\\n",
       "0    POINT (-87.592310855 41.794090253)                  4.92          36   \n",
       "1   POINT (-87.6635175498 41.874005383)                  4.92          36   \n",
       "2  POINT (-87.6572331997 41.8852813201)                  4.92          36   \n",
       "3  POINT (-87.6991553432 41.9227606205)                  4.92          36   \n",
       "4   POINT (-87.913624596 41.9802643146)                  4.92          36   \n",
       "\n",
       "   fog  rain  snow  \n",
       "0    1     0     0  \n",
       "1    1     0     0  \n",
       "2    1     0     0  \n",
       "3    1     0     0  \n",
       "4    1     0     0  "
      ]
     },
     "execution_count": 12,
     "metadata": {},
     "output_type": "execute_result"
    }
   ],
   "source": [
    "taxi_weather_df.head()"
   ]
  },
  {
   "cell_type": "markdown",
   "metadata": {},
   "source": [
    "> Original number of records for 1st-15th February 2016: **831,790**"
   ]
  },
  {
   "cell_type": "code",
   "execution_count": 13,
   "metadata": {
    "ExecuteTime": {
     "end_time": "2018-09-07T01:52:55.537765Z",
     "start_time": "2018-09-07T01:52:55.458549Z"
    },
    "scrolled": true
   },
   "outputs": [
    {
     "name": "stdout",
     "output_type": "stream",
     "text": [
      "There are 158316 records with a null value in at least one of the fields mentioned above.\n"
     ]
    }
   ],
   "source": [
    "#Let's explore the dataset\n",
    "null_records = taxi_weather_df[(taxi_weather_df['pickup_centroid_latitude'].isnull()) | (taxi_weather_df['pickup_centroid_longitude'].isnull()) | \n",
    "                (taxi_weather_df['dropoff_centroid_latitude'].isnull()) | (taxi_weather_df['dropoff_centroid_longitude'].isnull()) | \n",
    "                (taxi_weather_df['trip_seconds'].isnull()) | (taxi_weather_df['trip_miles'].isnull()) | \n",
    "                (taxi_weather_df['fare'].isnull())]['trip_start_timestamp'].count()\n",
    "\n",
    "print(f'There are {null_records} records with a null value in at least one of the fields mentioned above.')"
   ]
  },
  {
   "cell_type": "markdown",
   "metadata": {},
   "source": [
    "## Sweeping time!"
   ]
  },
  {
   "cell_type": "code",
   "execution_count": 14,
   "metadata": {
    "ExecuteTime": {
     "end_time": "2018-09-07T01:52:55.623251Z",
     "start_time": "2018-09-07T01:52:55.540267Z"
    }
   },
   "outputs": [],
   "source": [
    "#Change payment type to boolean\n",
    "taxi_weather_df['payment_type'] = pd.Categorical(taxi_weather_df['payment_type'])"
   ]
  },
  {
   "cell_type": "code",
   "execution_count": 15,
   "metadata": {
    "ExecuteTime": {
     "end_time": "2018-09-07T01:52:55.789564Z",
     "start_time": "2018-09-07T01:52:55.625150Z"
    }
   },
   "outputs": [],
   "source": [
    "#Let's drop all the records with a missing lat / long in either pickup or dropoff\n",
    "taxi_weather_df.dropna(subset=['pickup_centroid_latitude', 'pickup_centroid_longitude', 'dropoff_centroid_latitude', 'dropoff_centroid_longitude',\n",
    "                              'trip_seconds', 'trip_miles', 'fare'], inplace=True)"
   ]
  },
  {
   "cell_type": "code",
   "execution_count": 16,
   "metadata": {
    "ExecuteTime": {
     "end_time": "2018-09-07T01:52:56.122635Z",
     "start_time": "2018-09-07T01:52:55.791670Z"
    }
   },
   "outputs": [
    {
     "data": {
      "text/plain": [
       "673474"
      ]
     },
     "execution_count": 16,
     "metadata": {},
     "output_type": "execute_result"
    }
   ],
   "source": [
    "taxi_weather_df.count()[0]"
   ]
  },
  {
   "cell_type": "markdown",
   "metadata": {
    "ExecuteTime": {
     "end_time": "2018-09-06T22:04:14.813734Z",
     "start_time": "2018-09-06T22:04:14.809735Z"
    }
   },
   "source": [
    "> Remaining number of records after removing missing values containing records for 1st-15th February 2016: **81%** (673,474)"
   ]
  },
  {
   "cell_type": "code",
   "execution_count": 17,
   "metadata": {
    "ExecuteTime": {
     "end_time": "2018-09-07T01:52:56.127363Z",
     "start_time": "2018-09-07T01:52:56.124565Z"
    }
   },
   "outputs": [],
   "source": [
    "#Check how many records where removed by taking out zero value rows for fare, trip_seconds and trip_miles #139,699\n",
    "# taxi_weather_df[(taxi_weather_df['fare'] == 0.0) \n",
    "#                                           | (taxi_weather_df['trip_seconds'] == 0.0) \n",
    "#                                           | (taxi_weather_df['trip_miles'] == 0.0)].count()"
   ]
  },
  {
   "cell_type": "code",
   "execution_count": 18,
   "metadata": {
    "ExecuteTime": {
     "end_time": "2018-09-07T01:52:56.213275Z",
     "start_time": "2018-09-07T01:52:56.129662Z"
    }
   },
   "outputs": [],
   "source": [
    "#Let's get rid of the zeroes\n",
    "taxi_weather_df = taxi_weather_df[(taxi_weather_df['fare'] != 0.0) \n",
    "                                          & (taxi_weather_df['trip_seconds'] != 0.0) \n",
    "                                          & (taxi_weather_df['trip_miles'] != 0.0)]"
   ]
  },
  {
   "cell_type": "code",
   "execution_count": 19,
   "metadata": {
    "ExecuteTime": {
     "end_time": "2018-09-07T01:52:56.475460Z",
     "start_time": "2018-09-07T01:52:56.215269Z"
    }
   },
   "outputs": [
    {
     "data": {
      "text/plain": [
       "533775"
      ]
     },
     "execution_count": 19,
     "metadata": {},
     "output_type": "execute_result"
    }
   ],
   "source": [
    "taxi_weather_df.count()[0]"
   ]
  },
  {
   "cell_type": "markdown",
   "metadata": {},
   "source": [
    "> Remaining number of records after null and zero value removal for 1st-15th February 2016: **64%** (533,775)"
   ]
  },
  {
   "cell_type": "code",
   "execution_count": 20,
   "metadata": {
    "ExecuteTime": {
     "end_time": "2018-09-07T01:52:56.735120Z",
     "start_time": "2018-09-07T01:52:56.477268Z"
    },
    "scrolled": false
   },
   "outputs": [
    {
     "name": "stderr",
     "output_type": "stream",
     "text": [
      "/anaconda3/lib/python3.6/site-packages/ipykernel_launcher.py:2: SettingWithCopyWarning: \n",
      "A value is trying to be set on a copy of a slice from a DataFrame.\n",
      "Try using .loc[row_indexer,col_indexer] = value instead\n",
      "\n",
      "See the caveats in the documentation: http://pandas.pydata.org/pandas-docs/stable/indexing.html#indexing-view-versus-copy\n",
      "  \n"
     ]
    }
   ],
   "source": [
    "#Since taxi fare doesn't automatically include tolls, to get a base rate, I need to add tolls to the fare\n",
    "taxi_weather_df['fare_with_tolls'] = taxi_weather_df['fare'] + taxi_weather_df['tolls']"
   ]
  },
  {
   "cell_type": "code",
   "execution_count": 21,
   "metadata": {
    "ExecuteTime": {
     "end_time": "2018-09-07T01:52:56.856559Z",
     "start_time": "2018-09-07T01:52:56.737449Z"
    }
   },
   "outputs": [
    {
     "data": {
      "text/html": [
       "<div>\n",
       "<style scoped>\n",
       "    .dataframe tbody tr th:only-of-type {\n",
       "        vertical-align: middle;\n",
       "    }\n",
       "\n",
       "    .dataframe tbody tr th {\n",
       "        vertical-align: top;\n",
       "    }\n",
       "\n",
       "    .dataframe thead th {\n",
       "        text-align: right;\n",
       "    }\n",
       "</style>\n",
       "<table border=\"1\" class=\"dataframe\">\n",
       "  <thead>\n",
       "    <tr style=\"text-align: right;\">\n",
       "      <th></th>\n",
       "      <th>trip_start_timestamp</th>\n",
       "      <th>trip_end_timestamp</th>\n",
       "      <th>trip_seconds</th>\n",
       "      <th>trip_miles</th>\n",
       "      <th>fare</th>\n",
       "      <th>tolls</th>\n",
       "      <th>tips</th>\n",
       "      <th>trip_total</th>\n",
       "      <th>payment_type</th>\n",
       "      <th>pickup_centroid_latitude</th>\n",
       "      <th>...</th>\n",
       "      <th>pickup_centroid_location</th>\n",
       "      <th>dropoff_centroid_latitude</th>\n",
       "      <th>dropoff_centroid_longitude</th>\n",
       "      <th>dropoff_centroid_location</th>\n",
       "      <th>avg_daily_wind_speed</th>\n",
       "      <th>avg_temp_f</th>\n",
       "      <th>fog</th>\n",
       "      <th>rain</th>\n",
       "      <th>snow</th>\n",
       "      <th>fare_with_tolls</th>\n",
       "    </tr>\n",
       "  </thead>\n",
       "  <tbody>\n",
       "    <tr>\n",
       "      <th>83189</th>\n",
       "      <td>2016-02-02 08:45:00</td>\n",
       "      <td>2016-02-02 09:00:00</td>\n",
       "      <td>600.0</td>\n",
       "      <td>0.30</td>\n",
       "      <td>478.58</td>\n",
       "      <td>0.0</td>\n",
       "      <td>0.0</td>\n",
       "      <td>478.58</td>\n",
       "      <td>Cash</td>\n",
       "      <td>41.965812</td>\n",
       "      <td>...</td>\n",
       "      <td>POINT (-87.6558787862 41.96581197)</td>\n",
       "      <td>41.965812</td>\n",
       "      <td>-87.655879</td>\n",
       "      <td>POINT (-87.6558787862 41.96581197)</td>\n",
       "      <td>11.41</td>\n",
       "      <td>35</td>\n",
       "      <td>1</td>\n",
       "      <td>0</td>\n",
       "      <td>0</td>\n",
       "      <td>478.58</td>\n",
       "    </tr>\n",
       "    <tr>\n",
       "      <th>163387</th>\n",
       "      <td>2016-02-03 06:00:00</td>\n",
       "      <td>2016-02-03 06:00:00</td>\n",
       "      <td>60.0</td>\n",
       "      <td>0.30</td>\n",
       "      <td>65.00</td>\n",
       "      <td>0.0</td>\n",
       "      <td>0.0</td>\n",
       "      <td>65.00</td>\n",
       "      <td>Credit Card</td>\n",
       "      <td>41.985015</td>\n",
       "      <td>...</td>\n",
       "      <td>POINT (-87.8045320063 41.9850151008)</td>\n",
       "      <td>41.980264</td>\n",
       "      <td>-87.913625</td>\n",
       "      <td>POINT (-87.913624596 41.9802643146)</td>\n",
       "      <td>13.42</td>\n",
       "      <td>36</td>\n",
       "      <td>1</td>\n",
       "      <td>0</td>\n",
       "      <td>0</td>\n",
       "      <td>65.00</td>\n",
       "    </tr>\n",
       "    <tr>\n",
       "      <th>248731</th>\n",
       "      <td>2016-02-05 17:00:00</td>\n",
       "      <td>2016-02-05 17:15:00</td>\n",
       "      <td>540.0</td>\n",
       "      <td>0.80</td>\n",
       "      <td>773.77</td>\n",
       "      <td>0.0</td>\n",
       "      <td>0.0</td>\n",
       "      <td>773.77</td>\n",
       "      <td>Cash</td>\n",
       "      <td>41.968069</td>\n",
       "      <td>...</td>\n",
       "      <td>POINT (-87.7215590627 41.968069)</td>\n",
       "      <td>41.968069</td>\n",
       "      <td>-87.721559</td>\n",
       "      <td>POINT (-87.7215590627 41.968069)</td>\n",
       "      <td>6.71</td>\n",
       "      <td>29</td>\n",
       "      <td>0</td>\n",
       "      <td>0</td>\n",
       "      <td>0</td>\n",
       "      <td>773.77</td>\n",
       "    </tr>\n",
       "    <tr>\n",
       "      <th>301346</th>\n",
       "      <td>2016-02-06 23:45:00</td>\n",
       "      <td>2016-02-07 00:00:00</td>\n",
       "      <td>600.0</td>\n",
       "      <td>2.80</td>\n",
       "      <td>56.50</td>\n",
       "      <td>0.0</td>\n",
       "      <td>0.0</td>\n",
       "      <td>57.50</td>\n",
       "      <td>Cash</td>\n",
       "      <td>41.898306</td>\n",
       "      <td>...</td>\n",
       "      <td>POINT (-87.6536139825 41.8983058696)</td>\n",
       "      <td>41.928967</td>\n",
       "      <td>-87.656157</td>\n",
       "      <td>POINT (-87.6561568309 41.9289672664)</td>\n",
       "      <td>8.50</td>\n",
       "      <td>31</td>\n",
       "      <td>1</td>\n",
       "      <td>0</td>\n",
       "      <td>0</td>\n",
       "      <td>56.50</td>\n",
       "    </tr>\n",
       "    <tr>\n",
       "      <th>369869</th>\n",
       "      <td>2016-02-07 01:00:00</td>\n",
       "      <td>2016-02-07 01:15:00</td>\n",
       "      <td>360.0</td>\n",
       "      <td>0.10</td>\n",
       "      <td>1000.65</td>\n",
       "      <td>0.0</td>\n",
       "      <td>0.0</td>\n",
       "      <td>1000.65</td>\n",
       "      <td>Cash</td>\n",
       "      <td>41.892042</td>\n",
       "      <td>...</td>\n",
       "      <td>POINT (-87.6318639497 41.8920421365)</td>\n",
       "      <td>41.871016</td>\n",
       "      <td>-87.631407</td>\n",
       "      <td>POINT (-87.6314065252 41.8710158803)</td>\n",
       "      <td>12.97</td>\n",
       "      <td>38</td>\n",
       "      <td>0</td>\n",
       "      <td>0</td>\n",
       "      <td>0</td>\n",
       "      <td>1000.65</td>\n",
       "    </tr>\n",
       "    <tr>\n",
       "      <th>414934</th>\n",
       "      <td>2016-02-08 14:00:00</td>\n",
       "      <td>2016-02-08 14:15:00</td>\n",
       "      <td>420.0</td>\n",
       "      <td>0.30</td>\n",
       "      <td>7001.17</td>\n",
       "      <td>50.0</td>\n",
       "      <td>0.0</td>\n",
       "      <td>7051.97</td>\n",
       "      <td>Cash</td>\n",
       "      <td>41.898332</td>\n",
       "      <td>...</td>\n",
       "      <td>POINT (-87.6207628651 41.8983317935)</td>\n",
       "      <td>41.943155</td>\n",
       "      <td>-87.640698</td>\n",
       "      <td>POINT (-87.640698076 41.9431550855)</td>\n",
       "      <td>11.18</td>\n",
       "      <td>31</td>\n",
       "      <td>1</td>\n",
       "      <td>0</td>\n",
       "      <td>0</td>\n",
       "      <td>7051.17</td>\n",
       "    </tr>\n",
       "    <tr>\n",
       "      <th>572899</th>\n",
       "      <td>2016-02-11 21:00:00</td>\n",
       "      <td>2016-02-11 21:00:00</td>\n",
       "      <td>180.0</td>\n",
       "      <td>1.90</td>\n",
       "      <td>77.50</td>\n",
       "      <td>0.0</td>\n",
       "      <td>0.0</td>\n",
       "      <td>83.50</td>\n",
       "      <td>Cash</td>\n",
       "      <td>41.792592</td>\n",
       "      <td>...</td>\n",
       "      <td>POINT (-87.7696154528 41.7925923603)</td>\n",
       "      <td>41.792592</td>\n",
       "      <td>-87.769615</td>\n",
       "      <td>POINT (-87.7696154528 41.7925923603)</td>\n",
       "      <td>7.16</td>\n",
       "      <td>13</td>\n",
       "      <td>0</td>\n",
       "      <td>0</td>\n",
       "      <td>0</td>\n",
       "      <td>77.50</td>\n",
       "    </tr>\n",
       "    <tr>\n",
       "      <th>575164</th>\n",
       "      <td>2016-02-11 20:00:00</td>\n",
       "      <td>2016-02-11 20:15:00</td>\n",
       "      <td>360.0</td>\n",
       "      <td>0.30</td>\n",
       "      <td>91.00</td>\n",
       "      <td>0.0</td>\n",
       "      <td>0.0</td>\n",
       "      <td>91.00</td>\n",
       "      <td>Cash</td>\n",
       "      <td>41.792592</td>\n",
       "      <td>...</td>\n",
       "      <td>POINT (-87.7696154528 41.7925923603)</td>\n",
       "      <td>41.792592</td>\n",
       "      <td>-87.769615</td>\n",
       "      <td>POINT (-87.7696154528 41.7925923603)</td>\n",
       "      <td>7.16</td>\n",
       "      <td>13</td>\n",
       "      <td>0</td>\n",
       "      <td>0</td>\n",
       "      <td>0</td>\n",
       "      <td>91.00</td>\n",
       "    </tr>\n",
       "    <tr>\n",
       "      <th>623525</th>\n",
       "      <td>2016-02-11 17:00:00</td>\n",
       "      <td>2016-02-11 17:00:00</td>\n",
       "      <td>420.0</td>\n",
       "      <td>0.90</td>\n",
       "      <td>455.85</td>\n",
       "      <td>0.0</td>\n",
       "      <td>0.0</td>\n",
       "      <td>455.85</td>\n",
       "      <td>Cash</td>\n",
       "      <td>41.968069</td>\n",
       "      <td>...</td>\n",
       "      <td>POINT (-87.7215590627 41.968069)</td>\n",
       "      <td>41.968069</td>\n",
       "      <td>-87.721559</td>\n",
       "      <td>POINT (-87.7215590627 41.968069)</td>\n",
       "      <td>7.16</td>\n",
       "      <td>13</td>\n",
       "      <td>0</td>\n",
       "      <td>0</td>\n",
       "      <td>0</td>\n",
       "      <td>455.85</td>\n",
       "    </tr>\n",
       "    <tr>\n",
       "      <th>631077</th>\n",
       "      <td>2016-02-12 20:00:00</td>\n",
       "      <td>2016-02-12 20:15:00</td>\n",
       "      <td>480.0</td>\n",
       "      <td>2.45</td>\n",
       "      <td>58.75</td>\n",
       "      <td>0.0</td>\n",
       "      <td>0.0</td>\n",
       "      <td>58.75</td>\n",
       "      <td>Cash</td>\n",
       "      <td>41.934659</td>\n",
       "      <td>...</td>\n",
       "      <td>POINT (-87.6467297286 41.9346591566)</td>\n",
       "      <td>41.934659</td>\n",
       "      <td>-87.646730</td>\n",
       "      <td>POINT (-87.6467297286 41.9346591566)</td>\n",
       "      <td>17.00</td>\n",
       "      <td>19</td>\n",
       "      <td>0</td>\n",
       "      <td>0</td>\n",
       "      <td>0</td>\n",
       "      <td>58.75</td>\n",
       "    </tr>\n",
       "    <tr>\n",
       "      <th>790783</th>\n",
       "      <td>2016-02-14 02:15:00</td>\n",
       "      <td>2016-02-14 02:15:00</td>\n",
       "      <td>60.0</td>\n",
       "      <td>0.30</td>\n",
       "      <td>86.26</td>\n",
       "      <td>0.0</td>\n",
       "      <td>0.0</td>\n",
       "      <td>86.26</td>\n",
       "      <td>Cash</td>\n",
       "      <td>41.922761</td>\n",
       "      <td>...</td>\n",
       "      <td>POINT (-87.6991553432 41.9227606205)</td>\n",
       "      <td>41.922761</td>\n",
       "      <td>-87.699155</td>\n",
       "      <td>POINT (-87.6991553432 41.9227606205)</td>\n",
       "      <td>11.86</td>\n",
       "      <td>14</td>\n",
       "      <td>1</td>\n",
       "      <td>0</td>\n",
       "      <td>0</td>\n",
       "      <td>86.26</td>\n",
       "    </tr>\n",
       "  </tbody>\n",
       "</table>\n",
       "<p>11 rows × 21 columns</p>\n",
       "</div>"
      ],
      "text/plain": [
       "       trip_start_timestamp  trip_end_timestamp  trip_seconds  trip_miles  \\\n",
       "83189   2016-02-02 08:45:00 2016-02-02 09:00:00         600.0        0.30   \n",
       "163387  2016-02-03 06:00:00 2016-02-03 06:00:00          60.0        0.30   \n",
       "248731  2016-02-05 17:00:00 2016-02-05 17:15:00         540.0        0.80   \n",
       "301346  2016-02-06 23:45:00 2016-02-07 00:00:00         600.0        2.80   \n",
       "369869  2016-02-07 01:00:00 2016-02-07 01:15:00         360.0        0.10   \n",
       "414934  2016-02-08 14:00:00 2016-02-08 14:15:00         420.0        0.30   \n",
       "572899  2016-02-11 21:00:00 2016-02-11 21:00:00         180.0        1.90   \n",
       "575164  2016-02-11 20:00:00 2016-02-11 20:15:00         360.0        0.30   \n",
       "623525  2016-02-11 17:00:00 2016-02-11 17:00:00         420.0        0.90   \n",
       "631077  2016-02-12 20:00:00 2016-02-12 20:15:00         480.0        2.45   \n",
       "790783  2016-02-14 02:15:00 2016-02-14 02:15:00          60.0        0.30   \n",
       "\n",
       "           fare  tolls  tips  trip_total payment_type  \\\n",
       "83189    478.58    0.0   0.0      478.58         Cash   \n",
       "163387    65.00    0.0   0.0       65.00  Credit Card   \n",
       "248731   773.77    0.0   0.0      773.77         Cash   \n",
       "301346    56.50    0.0   0.0       57.50         Cash   \n",
       "369869  1000.65    0.0   0.0     1000.65         Cash   \n",
       "414934  7001.17   50.0   0.0     7051.97         Cash   \n",
       "572899    77.50    0.0   0.0       83.50         Cash   \n",
       "575164    91.00    0.0   0.0       91.00         Cash   \n",
       "623525   455.85    0.0   0.0      455.85         Cash   \n",
       "631077    58.75    0.0   0.0       58.75         Cash   \n",
       "790783    86.26    0.0   0.0       86.26         Cash   \n",
       "\n",
       "        pickup_centroid_latitude       ...         \\\n",
       "83189                  41.965812       ...          \n",
       "163387                 41.985015       ...          \n",
       "248731                 41.968069       ...          \n",
       "301346                 41.898306       ...          \n",
       "369869                 41.892042       ...          \n",
       "414934                 41.898332       ...          \n",
       "572899                 41.792592       ...          \n",
       "575164                 41.792592       ...          \n",
       "623525                 41.968069       ...          \n",
       "631077                 41.934659       ...          \n",
       "790783                 41.922761       ...          \n",
       "\n",
       "                    pickup_centroid_location dropoff_centroid_latitude  \\\n",
       "83189     POINT (-87.6558787862 41.96581197)                 41.965812   \n",
       "163387  POINT (-87.8045320063 41.9850151008)                 41.980264   \n",
       "248731      POINT (-87.7215590627 41.968069)                 41.968069   \n",
       "301346  POINT (-87.6536139825 41.8983058696)                 41.928967   \n",
       "369869  POINT (-87.6318639497 41.8920421365)                 41.871016   \n",
       "414934  POINT (-87.6207628651 41.8983317935)                 41.943155   \n",
       "572899  POINT (-87.7696154528 41.7925923603)                 41.792592   \n",
       "575164  POINT (-87.7696154528 41.7925923603)                 41.792592   \n",
       "623525      POINT (-87.7215590627 41.968069)                 41.968069   \n",
       "631077  POINT (-87.6467297286 41.9346591566)                 41.934659   \n",
       "790783  POINT (-87.6991553432 41.9227606205)                 41.922761   \n",
       "\n",
       "        dropoff_centroid_longitude             dropoff_centroid_location  \\\n",
       "83189                   -87.655879    POINT (-87.6558787862 41.96581197)   \n",
       "163387                  -87.913625   POINT (-87.913624596 41.9802643146)   \n",
       "248731                  -87.721559      POINT (-87.7215590627 41.968069)   \n",
       "301346                  -87.656157  POINT (-87.6561568309 41.9289672664)   \n",
       "369869                  -87.631407  POINT (-87.6314065252 41.8710158803)   \n",
       "414934                  -87.640698   POINT (-87.640698076 41.9431550855)   \n",
       "572899                  -87.769615  POINT (-87.7696154528 41.7925923603)   \n",
       "575164                  -87.769615  POINT (-87.7696154528 41.7925923603)   \n",
       "623525                  -87.721559      POINT (-87.7215590627 41.968069)   \n",
       "631077                  -87.646730  POINT (-87.6467297286 41.9346591566)   \n",
       "790783                  -87.699155  POINT (-87.6991553432 41.9227606205)   \n",
       "\n",
       "       avg_daily_wind_speed  avg_temp_f  fog  rain  snow  fare_with_tolls  \n",
       "83189                 11.41          35    1     0     0           478.58  \n",
       "163387                13.42          36    1     0     0            65.00  \n",
       "248731                 6.71          29    0     0     0           773.77  \n",
       "301346                 8.50          31    1     0     0            56.50  \n",
       "369869                12.97          38    0     0     0          1000.65  \n",
       "414934                11.18          31    1     0     0          7051.17  \n",
       "572899                 7.16          13    0     0     0            77.50  \n",
       "575164                 7.16          13    0     0     0            91.00  \n",
       "623525                 7.16          13    0     0     0           455.85  \n",
       "631077                17.00          19    0     0     0            58.75  \n",
       "790783                11.86          14    1     0     0            86.26  \n",
       "\n",
       "[11 rows x 21 columns]"
      ]
     },
     "execution_count": 21,
     "metadata": {},
     "output_type": "execute_result"
    }
   ],
   "source": [
    "#Removing clear error records from the dataset (e.g. $1,000 for 0.1 mile and 6 min ride)\n",
    "taxi_weather_df[(taxi_weather_df['fare_with_tolls'] >= 50.0) & (taxi_weather_df['trip_miles'] <= 5.0) & \n",
    "                (taxi_weather_df['trip_seconds'] <= 600.0)]"
   ]
  },
  {
   "cell_type": "code",
   "execution_count": 34,
   "metadata": {
    "ExecuteTime": {
     "end_time": "2018-09-07T01:59:14.868177Z",
     "start_time": "2018-09-07T01:59:14.862812Z"
    }
   },
   "outputs": [
    {
     "data": {
      "text/plain": [
       "[369869, 414934]"
      ]
     },
     "execution_count": 34,
     "metadata": {},
     "output_type": "execute_result"
    }
   ],
   "source": [
    "list(fare_per_mile[fare_per_mile > 5000].index)"
   ]
  },
  {
   "cell_type": "code",
   "execution_count": 36,
   "metadata": {
    "ExecuteTime": {
     "end_time": "2018-09-07T02:00:01.478140Z",
     "start_time": "2018-09-07T01:59:56.148770Z"
    }
   },
   "outputs": [
    {
     "data": {
      "image/png": "[encoded data removed]",
      "text/plain": [
       "<matplotlib.figure.Figure at 0x123e840f0>"
      ]
     },
     "metadata": {},
     "output_type": "display_data"
    }
   ],
   "source": [
    "#Let's see that's the distribution of $/mile to better identify incorrect values\n",
    "fare_per_mile = taxi_weather_df['fare_with_tolls'] / taxi_weather_df['trip_miles']\n",
    "fare_per_minute = taxi_weather_df['fare_with_tolls'] / (taxi_weather_df['trip_seconds'] / 60)\n",
    "\n",
    "#Removing obvious outliers\n",
    "outlier_indices = list((fare_per_mile[fare_per_mile > 5000]).index)\n",
    "fare_per_mile = fare_per_mile.drop(index=outlier_indices)\n",
    "fare_per_minute = fare_per_minute.drop(index=outlier_indices)\n",
    "\n",
    "\n",
    "plt.figure(dpi=100)\n",
    "plt.scatter(fare_per_mile, fare_per_minute)\n",
    "\n",
    "#fare_per_mile_per_minute.hist(bins=10000)\n",
    "# plt.xlim(xmin=0.0, xmax=100.0)\n",
    "plt.title('Fare per mile versus fare per minute')\n",
    "plt.xlabel('Fare/Mile')\n",
    "plt.ylabel('Fare/Minute');"
   ]
  },
  {
   "cell_type": "code",
   "execution_count": 38,
   "metadata": {
    "ExecuteTime": {
     "end_time": "2018-09-07T02:00:14.291131Z",
     "start_time": "2018-09-07T02:00:14.284241Z"
    }
   },
   "outputs": [],
   "source": [
    "FM20_40 = fare_per_minute[(fare_per_minute >= 20.0) & (fare_per_minute <= 40.0)]\n",
    "list_of_indices = FM20_40.index.tolist()\n",
    "\n",
    "#Now get all the corresponding records in the fare / mile series\n",
    "fm200_400 = fare_per_mile.filter(list_of_indices, axis=0)"
   ]
  },
  {
   "cell_type": "code",
   "execution_count": 39,
   "metadata": {
    "ExecuteTime": {
     "end_time": "2018-09-07T02:00:14.888797Z",
     "start_time": "2018-09-07T02:00:14.724579Z"
    }
   },
   "outputs": [
    {
     "data": {
      "image/png": "[encoded data removed]",
      "text/plain": [
       "<matplotlib.figure.Figure at 0x1246f96d8>"
      ]
     },
     "metadata": {},
     "output_type": "display_data"
    }
   ],
   "source": [
    "#Zooming in on some strange patterns\n",
    "plt.figure(dpi=100)\n",
    "plt.scatter(fm200_400, FM20_40)\n",
    "\n",
    "#fare_per_mile_per_minute.hist(bins=10000)\n",
    "# plt.xlim(xmin=0.0, xmax=100.0)\n",
    "plt.title('Fare per mile versus fare per minute')\n",
    "plt.xlabel('Fare/Mile')\n",
    "plt.ylabel('Fare/Minute');"
   ]
  },
  {
   "cell_type": "code",
   "execution_count": 46,
   "metadata": {
    "ExecuteTime": {
     "end_time": "2018-09-07T02:04:11.959691Z",
     "start_time": "2018-09-07T02:04:11.953848Z"
    }
   },
   "outputs": [],
   "source": [
    "#Let's have a look if the miles per minute look reasonable\n",
    "miles_per_minute = taxi_weather_df['trip_miles'] / (taxi_weather_df['trip_seconds'] / 3600.0)"
   ]
  },
  {
   "cell_type": "code",
   "execution_count": 47,
   "metadata": {
    "ExecuteTime": {
     "end_time": "2018-09-07T02:04:31.199955Z",
     "start_time": "2018-09-07T02:04:26.041890Z"
    }
   },
   "outputs": [
    {
     "data": {
      "image/png": "[encoded data removed]",
      "text/plain": [
       "<matplotlib.figure.Figure at 0x1235bc940>"
      ]
     },
     "metadata": {},
     "output_type": "display_data"
    }
   ],
   "source": [
    "plt.figure(dpi=100)\n",
    "plt.scatter(taxi_weather_df['trip_miles'], taxi_weather_df['trip_seconds'] / 3600.0)\n",
    "plt.title('Miles per minute')\n",
    "plt.xlabel('Miles')\n",
    "plt.ylabel('Hours');"
   ]
  },
  {
   "cell_type": "code",
   "execution_count": 48,
   "metadata": {
    "ExecuteTime": {
     "end_time": "2018-09-07T02:04:42.996020Z",
     "start_time": "2018-09-07T02:04:42.985976Z"
    }
   },
   "outputs": [
    {
     "data": {
      "text/plain": [
       "trip_start_timestamp          382\n",
       "trip_end_timestamp            382\n",
       "trip_seconds                  382\n",
       "trip_miles                    382\n",
       "fare                          382\n",
       "tolls                         382\n",
       "tips                          382\n",
       "trip_total                    382\n",
       "payment_type                  382\n",
       "pickup_centroid_latitude      382\n",
       "pickup_centroid_longitude     382\n",
       "pickup_centroid_location      382\n",
       "dropoff_centroid_latitude     382\n",
       "dropoff_centroid_longitude    382\n",
       "dropoff_centroid_location     382\n",
       "avg_daily_wind_speed          382\n",
       "avg_temp_f                    382\n",
       "fog                           382\n",
       "rain                          382\n",
       "snow                          382\n",
       "fare_with_tolls               382\n",
       "dtype: int64"
      ]
     },
     "execution_count": 48,
     "metadata": {},
     "output_type": "execute_result"
    }
   ],
   "source": [
    "taxi_weather_df[taxi_weather_df['trip_miles'] >= 100].count()"
   ]
  },
  {
   "cell_type": "code",
   "execution_count": null,
   "metadata": {
    "ExecuteTime": {
     "end_time": "2018-09-07T02:00:01.786417Z",
     "start_time": "2018-09-07T02:00:01.454Z"
    }
   },
   "outputs": [],
   "source": [
    "#Fare analysis\n",
    "taxi_weather_df['fare'].hist(bins=10000)\n",
    "plt.xlim(xmin=0, xmax=100)\n",
    "plt.title('The distribution of the fare variable')\n",
    "plt.xlabel('Fare ($)')\n",
    "plt.ylabel('Frequency');\n"
   ]
  },
  {
   "cell_type": "code",
   "execution_count": 37,
   "metadata": {
    "ExecuteTime": {
     "end_time": "2018-09-07T02:00:01.978277Z",
     "start_time": "2018-09-07T02:00:01.968649Z"
    }
   },
   "outputs": [
    {
     "data": {
      "text/plain": [
       "trip_miles\n",
       "0.10      1000.650\n",
       "0.30      3739.875\n",
       "0.80       773.770\n",
       "0.90       455.850\n",
       "2.30       164.000\n",
       "2.70       150.250\n",
       "2.80       165.000\n",
       "3.20       220.750\n",
       "3.60       167.000\n",
       "4.00       151.250\n",
       "4.50       204.500\n",
       "10.10      176.000\n",
       "17.96      153.500\n",
       "22.80      165.000\n",
       "24.50      199.250\n",
       "42.60      159.500\n",
       "55.70      178.750\n",
       "58.70      159.250\n",
       "63.40      155.500\n",
       "66.80      176.250\n",
       "67.80      178.750\n",
       "70.60      164.500\n",
       "70.93      191.250\n",
       "71.60      172.250\n",
       "74.30      175.000\n",
       "75.30      208.500\n",
       "81.60      189.250\n",
       "82.40      211.250\n",
       "84.70      199.250\n",
       "91.40      234.250\n",
       "92.00      255.750\n",
       "130.00     299.250\n",
       "181.30     419.750\n",
       "Name: fare, dtype: float64"
      ]
     },
     "execution_count": 37,
     "metadata": {},
     "output_type": "execute_result"
    }
   ],
   "source": [
    "taxi_weather_df[taxi_weather_df['fare'] > 150.0].groupby(['trip_miles'])['fare'].mean()"
   ]
  },
  {
   "cell_type": "code",
   "execution_count": null,
   "metadata": {
    "ExecuteTime": {
     "end_time": "2018-09-07T02:00:02.373551Z",
     "start_time": "2018-09-07T02:00:02.313Z"
    }
   },
   "outputs": [],
   "source": [
    "#Let's explore the tips and tolls columns\n",
    "taxi_weather_df.groupby(['payment_type'])['trip_miles'].describe()"
   ]
  },
  {
   "cell_type": "markdown",
   "metadata": {},
   "source": [
    "> On average, trips paid with a credit card had longer distance, and therefore, longer duration and higher fare.\n",
    "> "
   ]
  },
  {
   "cell_type": "code",
   "execution_count": null,
   "metadata": {
    "ExecuteTime": {
     "end_time": "2018-09-07T01:52:57.241894Z",
     "start_time": "2018-09-07T01:52:14.426Z"
    }
   },
   "outputs": [],
   "source": [
    "# taxi_weather_gdf[taxi_weather_gdf['dropoff_centroid_longitude'].isnull()].info()"
   ]
  },
  {
   "cell_type": "code",
   "execution_count": null,
   "metadata": {
    "ExecuteTime": {
     "end_time": "2018-09-07T01:52:57.243203Z",
     "start_time": "2018-09-07T01:52:14.431Z"
    },
    "scrolled": false
   },
   "outputs": [],
   "source": [
    "#Let's explore the distribution of variables of interest\n",
    "plt.figure(figsize=(30, 20))\n",
    "plt.rcParams.update({'font.size': 22})\n",
    "\n",
    "plt.subplot(2, 2, 1)\n",
    "plt.hist(taxi_weather_df['trip_seconds'], bins=1000, color='c')\n",
    "plt.title('Trip Length Histogram (in seconds)')\n",
    "plt.xlim(xmin=0, xmax=10000)\n",
    "plt.xlabel('Seconds')\n",
    "plt.ylabel('Frequency')\n",
    "\n",
    "plt.subplot(2, 2, 2)\n",
    "plt.hist(taxi_weather_df['trip_miles'], bins=10000, color='m')\n",
    "plt.title('Trip Length Histogram (in miles)')\n",
    "plt.xlim(xmin=0, xmax=30)\n",
    "plt.xlabel('Miles')\n",
    "plt.ylabel('Frequency')\n",
    "\n",
    "plt.subplot(2, 2, 3)\n",
    "plt.hist(taxi_weather_df['fare'], bins=10000, color='r')\n",
    "plt.title('Trip Fare (in $)')\n",
    "plt.xlim(xmin=0, xmax=100)\n",
    "plt.xlabel('$')\n",
    "plt.ylabel('Frequency');\n",
    "\n",
    "plt.subplot(2, 2, 4)\n",
    "plt.hist(taxi_weather_df['trip_total'].dropna(), bins=10000, color='b')\n",
    "plt.title('Trip Total Fare (in $)')\n",
    "plt.xlim(xmin=0, xmax=100)\n",
    "plt.xlabel('$')\n",
    "plt.ylabel('Frequency');"
   ]
  },
  {
   "cell_type": "code",
   "execution_count": null,
   "metadata": {},
   "outputs": [],
   "source": []
  },
  {
   "cell_type": "markdown",
   "metadata": {},
   "source": [
    "### Update location columns for pickup and dropoff using shapely (converting the dataframe to GeoPandas)"
   ]
  },
  {
   "cell_type": "code",
   "execution_count": null,
   "metadata": {
    "ExecuteTime": {
     "end_time": "2018-09-07T01:52:57.244271Z",
     "start_time": "2018-09-07T01:52:14.441Z"
    }
   },
   "outputs": [],
   "source": [
    "#replace pickup_centroid_location and dropoff_centroid_location columns with point coordinates using shapely\n",
    "pickup_geopoint = list(zip(taxi_weather_df['pickup_centroid_longitude'], taxi_weather_df['pickup_centroid_latitude']))\n",
    "dropoff_geopoint = list(zip(taxi_weather_df['dropoff_centroid_longitude'], taxi_weather_df['dropoff_centroid_latitude']))\n",
    "\n",
    "taxi_weather_df['pickup_centroid_location'] = pickup_geopoint\n",
    "taxi_weather_df['dropoff_centroid_location'] = dropoff_geopoint\n",
    "\n",
    "taxi_weather_df['pickup_centroid_location'] = taxi_weather_df['pickup_centroid_location'].apply(Point)\n",
    "taxi_weather_df['dropoff_centroid_location'] = taxi_weather_df['dropoff_centroid_location'].apply(Point)\n"
   ]
  },
  {
   "cell_type": "code",
   "execution_count": null,
   "metadata": {
    "ExecuteTime": {
     "end_time": "2018-09-07T01:52:57.245506Z",
     "start_time": "2018-09-07T01:52:14.446Z"
    }
   },
   "outputs": [],
   "source": [
    "taxi_weather_df.head()"
   ]
  },
  {
   "cell_type": "code",
   "execution_count": null,
   "metadata": {
    "ExecuteTime": {
     "end_time": "2018-09-07T01:52:57.246901Z",
     "start_time": "2018-09-07T01:52:14.450Z"
    }
   },
   "outputs": [],
   "source": [
    "taxi_weather_gdf = gpd.GeoDataFrame(taxi_weather_df, geometry='pickup_centroid_location')"
   ]
  },
  {
   "cell_type": "code",
   "execution_count": null,
   "metadata": {
    "ExecuteTime": {
     "end_time": "2018-09-07T01:52:57.248069Z",
     "start_time": "2018-09-07T01:52:14.455Z"
    }
   },
   "outputs": [],
   "source": [
    "taxi_weather_gdf.tail()"
   ]
  },
  {
   "cell_type": "code",
   "execution_count": null,
   "metadata": {},
   "outputs": [],
   "source": []
  },
  {
   "cell_type": "code",
   "execution_count": null,
   "metadata": {
    "ExecuteTime": {
     "end_time": "2018-09-07T01:52:57.249280Z",
     "start_time": "2018-09-07T01:52:14.462Z"
    },
    "scrolled": false
   },
   "outputs": [],
   "source": [
    "# df = geopandas.read_file(geopandas.datasets.get_path('nybb'))\n",
    "# world = gpd.read_file(gpd.datasets.get_path('naturalearth_lowres'))\n",
    "# # We restrict to North America.\n",
    "# ax = world[world.continent == 'North America'].plot(\n",
    "#     color='white', edgecolor='blue')\n",
    "\n",
    "# # We can now plot our GeoDataFrame.\n",
    "# taxi_weather_gdf.plot(ax=ax, color='red')\n",
    "# plt.show()\n",
    "\n",
    "taxi_weather_gdf.plot(figsize=(10, 10), alpha=0.5, edgecolor='m')\n",
    "plt.title('Pickup locations')\n",
    "plt.xlabel('Longitude')\n",
    "plt.ylabel('Latitude');"
   ]
  },
  {
   "cell_type": "code",
   "execution_count": null,
   "metadata": {},
   "outputs": [],
   "source": []
  }
 ],
 "metadata": {
  "kernelspec": {
   "display_name": "Python 3",
   "language": "python",
   "name": "python3"
  },
  "language_info": {
   "codemirror_mode": {
    "name": "ipython",
    "version": 3
   },
   "file_extension": ".py",
   "mimetype": "text/x-python",
   "name": "python",
   "nbconvert_exporter": "python",
   "pygments_lexer": "ipython3",
   "version": "3.6.5"
  },
  "varInspector": {
   "cols": {
    "lenName": 16,
    "lenType": 16,
    "lenVar": 40
   },
   "kernels_config": {
    "python": {
     "delete_cmd_postfix": "",
     "delete_cmd_prefix": "del ",
     "library": "var_list.py",
     "varRefreshCmd": "print(var_dic_list())"
    },
    "r": {
     "delete_cmd_postfix": ") ",
     "delete_cmd_prefix": "rm(",
     "library": "var_list.r",
     "varRefreshCmd": "cat(var_dic_list()) "
    }
   },
   "types_to_exclude": [
    "module",
    "function",
    "builtin_function_or_method",
    "instance",
    "_Feature"
   ],
   "window_display": false
  }
 },
 "nbformat": 4,
 "nbformat_minor": 2
}
