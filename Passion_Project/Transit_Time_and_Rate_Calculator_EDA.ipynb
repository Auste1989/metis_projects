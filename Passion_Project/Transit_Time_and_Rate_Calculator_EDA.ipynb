{
 "cells": [
  {
   "cell_type": "markdown",
   "metadata": {},
   "source": [
    "## First try at getting some data"
   ]
  },
  {
   "cell_type": "code",
   "execution_count": 1,
   "metadata": {
    "ExecuteTime": {
     "end_time": "2018-09-05T17:46:28.025414Z",
     "start_time": "2018-09-05T17:46:28.014301Z"
    }
   },
   "outputs": [
    {
     "data": {
      "text/html": [
       "<style>.container { width:95% !important; }</style>"
      ],
      "text/plain": [
       "<IPython.core.display.HTML object>"
      ]
     },
     "metadata": {},
     "output_type": "display_data"
    }
   ],
   "source": [
    "from IPython.core.display import display, HTML\n",
    "display(HTML(\"<style>.container { width:95% !important; }</style>\"))"
   ]
  },
  {
   "cell_type": "code",
   "execution_count": 2,
   "metadata": {
    "ExecuteTime": {
     "end_time": "2018-09-05T17:46:30.270468Z",
     "start_time": "2018-09-05T17:46:28.027194Z"
    }
   },
   "outputs": [
    {
     "name": "stderr",
     "output_type": "stream",
     "text": [
      "/anaconda3/lib/python3.6/site-packages/statsmodels/compat/pandas.py:56: FutureWarning: The pandas.core.datetools module is deprecated and will be removed in a future version. Please use the pandas.tseries module instead.\n",
      "  from pandas.core import datetools\n"
     ]
    }
   ],
   "source": [
    "#Essentials\n",
    "import numpy as np\n",
    "import pandas as pd\n",
    "import pickle\n",
    "import re\n",
    "\n",
    "#API imports\n",
    "from sodapy import Socrata\n",
    "\n",
    "#SQL related\n",
    "import psycopg2\n",
    "import sqlite3\n",
    "from sqlalchemy import create_engine\n",
    "import pandas.io.sql as pd_sql\n",
    "\n",
    "#Visualization\n",
    "import matplotlib.pyplot as plt\n",
    "import seaborn as sns\n",
    "import geopandas as gpd\n",
    "import shapely\n",
    "from shapely.geometry import Point\n",
    "# import contextily as ctx\n",
    "\n",
    "#Regression imports\n",
    "import statsmodels.api as sm\n",
    "import statsmodels.formula.api as smf\n",
    "import patsy\n",
    "\n",
    "from sklearn.model_selection import train_test_split\n",
    "from sklearn.linear_model import LinearRegression\n",
    "from sklearn.linear_model import RidgeCV\n",
    "from sklearn.linear_model import LassoCV\n",
    "from sklearn.preprocessing import PolynomialFeatures\n",
    "from sklearn import feature_selection as f_select\n",
    "from sklearn.model_selection import cross_val_score\n",
    "from sklearn.model_selection import KFold\n",
    "from sklearn import metrics\n",
    "from sklearn.metrics import mean_squared_error\n",
    "from sklearn.model_selection import learning_curve\n",
    "\n",
    "from sklearn.pipeline import make_pipeline\n",
    "\n",
    "%matplotlib inline"
   ]
  },
  {
   "cell_type": "markdown",
   "metadata": {},
   "source": [
    "### Load all the data into an SQL database"
   ]
  },
  {
   "cell_type": "code",
   "execution_count": 3,
   "metadata": {
    "ExecuteTime": {
     "end_time": "2018-09-05T17:46:30.278911Z",
     "start_time": "2018-09-05T17:46:30.272432Z"
    }
   },
   "outputs": [],
   "source": [
    "# Set up the database connection\n",
    "conn = psycopg2.connect(dbname=\"taxi_rides_db\", user=\"auste_m\")"
   ]
  },
  {
   "cell_type": "code",
   "execution_count": 4,
   "metadata": {
    "ExecuteTime": {
     "end_time": "2018-09-05T17:46:30.283660Z",
     "start_time": "2018-09-05T17:46:30.280954Z"
    }
   },
   "outputs": [],
   "source": [
    "# CREATE TABLE taxi_rides_clean (\n",
    "#                             trip_id TEXT, \n",
    "#                             taxi_id TEXT, \n",
    "#                             trip_start_timestamp TIMESTAMP,\n",
    "#                             trip_end_timestamp TIMESTAMP,\n",
    "#                             trip_seconds INT,\n",
    "#                             trip_miles FLOAT,\n",
    "#                             pickup_census_tract TEXT,\n",
    "#                             pickup_community_area TEXT,\n",
    "#                             dropoff_census_tract TEXT,\n",
    "#                             dropoff_community_area TEXT,\n",
    "#                             fare FLOAT,\n",
    "#                             tips FLOAT,\n",
    "#                             tolls FLOAT,\n",
    "#                             extras FLOAT,\n",
    "#                             trip_total FLOAT,\n",
    "#                             payment_type TEXT,\n",
    "#                             company TEXT,\n",
    "#                             pickup_centroid_latitude FLOAT,\n",
    "#                             pickup_centroid_longitude FLOAT,\n",
    "#                             pickup_centroid_location TEXT,\n",
    "#                             dropoff_centroid_latitude FLOAT,\n",
    "#                             dropoff_centroid_longitude FLOAT,\n",
    "#                             dropoff_centroid_location TEXT\n",
    "#                         );"
   ]
  },
  {
   "cell_type": "code",
   "execution_count": 5,
   "metadata": {
    "ExecuteTime": {
     "end_time": "2018-09-05T17:46:30.287457Z",
     "start_time": "2018-09-05T17:46:30.285298Z"
    }
   },
   "outputs": [],
   "source": [
    "# COPY taxi_rides from '/home/ubuntu/Passion_Project/Taxi_Trips.csv' DELIMITER ',' CSV HEADER;\n",
    "# COPY taxi_rides from '/home/ubuntu/Passion_Project/Taxi_Trips_2016.csv' DELIMITER ',' CSV HEADER;"
   ]
  },
  {
   "cell_type": "code",
   "execution_count": 6,
   "metadata": {
    "ExecuteTime": {
     "end_time": "2018-09-05T17:46:30.292638Z",
     "start_time": "2018-09-05T17:46:30.289405Z"
    }
   },
   "outputs": [],
   "source": [
    "# CREATE TABLE chicago_weather(\n",
    "#                                 station TEXT,\n",
    "#                                 name TEXT, \n",
    "#                                 latitude FLOAT,\n",
    "#                                 longitude FLOAT,\n",
    "#                                 elevation FLOAT,\n",
    "#                                 date TIMESTAMP, \n",
    "#                                 avg_daily_wind_speed FLOAT,\n",
    "#                                 peak_gust_time FLOAT,\n",
    "#                                 precipitation_mm FLOAT,\n",
    "#                                 snowfall_mm FLOAT,\n",
    "#                                 snowdepth_mm FLOAT,\n",
    "#                                 avg_temp_f INT,\n",
    "#                                 fog INT,\n",
    "#                                 heavy_fog INT,\n",
    "#                                 thunder INT,\n",
    "#                                 sleet INT,\n",
    "#                                 hail INT, \n",
    "#                                 glaze INT,\n",
    "#                                 smoke INT,\n",
    "#                                 drifting_snow INT, \n",
    "#                                 mist INT,\n",
    "#                                 drizzle INT,\n",
    "#                                 rain INT,\n",
    "#                                 freezing_rain INT,\n",
    "#                                 snow INT,\n",
    "#                                 unkwn_precipitation INT,\n",
    "#                                 ice_fog INT\n",
    "#                                  );"
   ]
  },
  {
   "cell_type": "code",
   "execution_count": 7,
   "metadata": {
    "ExecuteTime": {
     "end_time": "2018-09-05T17:46:30.297429Z",
     "start_time": "2018-09-05T17:46:30.294904Z"
    }
   },
   "outputs": [],
   "source": [
    "# COPY chicago_weather FROM '/home/ubuntu/Chicago_Historical_Weather_Dataset.csv' DELIMITER ',' CSV HEADER;"
   ]
  },
  {
   "cell_type": "code",
   "execution_count": 8,
   "metadata": {
    "ExecuteTime": {
     "end_time": "2018-09-05T17:46:30.305948Z",
     "start_time": "2018-09-05T17:46:30.299611Z"
    }
   },
   "outputs": [],
   "source": [
    "taxi_rides_query = \"\"\"SELECT * FROM taxi_rides WHERE trip_start_timestamp BETWEEN '2016-02-01' AND '2016-02-15';\"\"\" \n",
    "weather_query = \"\"\"SELECT * FROM chicago_weather WHERE date BETWEEN '2016-02-01' AND '2016-02-15';\"\"\"\n",
    "\n",
    "taxi_weather_query = \"\"\"SELECT TR.trip_start_timestamp,\n",
    "                                TR.trip_end_timestamp,\n",
    "                                TR.trip_seconds,\n",
    "                                TR.trip_miles,\n",
    "                                --TR.pickup_community_area,\n",
    "                                --TR.dropoff_community_area,\n",
    "                                TR.fare,\n",
    "                                TR.tips,\n",
    "                                TR.tolls,\n",
    "                                TR.extras,\n",
    "                                TR.trip_total,\n",
    "                                TR.payment_type,\n",
    "                                TR.pickup_centroid_latitude,\n",
    "                                TR.pickup_centroid_longitude,\n",
    "                                TR.pickup_centroid_location,\n",
    "                                TR.dropoff_centroid_latitude,\n",
    "                                TR.dropoff_centroid_longitude,\n",
    "                                TR.dropoff_centroid_location,\n",
    "                                CW.avg_daily_wind_speed,\n",
    "                                CW.avg_temp_f,\n",
    "                                CASE WHEN CW.fog = 1 OR CW.heavy_fog = 1 OR ice_fog = 1 OR mist = 1 THEN 1 ELSE 0 END as fog,\n",
    "                                CASE WHEN CW.rain = 1 OR CW.drizzle = 1 OR CW.hail = 1 THEN 1 ELSE 0 END as rain,\n",
    "                                CASE WHEN CW.snow = 1 OR CW.freezing_rain = 1 OR drifting_snow = 1 THEN 1 ELSE 0 END as snow\n",
    "                                \n",
    "                        FROM taxi_rides_clean as TR\n",
    "                        LEFT JOIN chicago_weather as CW\n",
    "                        ON CAST(TR.trip_start_timestamp AS DATE) = CAST(date AS DATE)\n",
    "                        WHERE trip_start_timestamp BETWEEN '2016-02-01' AND '2016-02-15';\"\"\" "
   ]
  },
  {
   "cell_type": "code",
   "execution_count": 9,
   "metadata": {
    "ExecuteTime": {
     "end_time": "2018-09-05T17:46:30.310765Z",
     "start_time": "2018-09-05T17:46:30.308127Z"
    }
   },
   "outputs": [],
   "source": [
    "#Read in Chicago city community area shapefile\n",
    "# chicago_community_areas = gpd.read_file(\"./datasets/Chicago_Community_Areas/geo_export_4c20eda0-2d92-4a1d-8513-878eb3e095a3.shp\")"
   ]
  },
  {
   "cell_type": "code",
   "execution_count": 10,
   "metadata": {
    "ExecuteTime": {
     "end_time": "2018-09-05T17:47:11.989032Z",
     "start_time": "2018-09-05T17:46:30.312844Z"
    },
    "scrolled": false
   },
   "outputs": [],
   "source": [
    "#approx. 30min to load the whole of 2016 data\n",
    "taxi_weather_df = pd.read_sql_query(taxi_weather_query, con=conn)"
   ]
  },
  {
   "cell_type": "code",
   "execution_count": 11,
   "metadata": {
    "ExecuteTime": {
     "end_time": "2018-09-05T17:47:12.023609Z",
     "start_time": "2018-09-05T17:47:11.990928Z"
    }
   },
   "outputs": [
    {
     "data": {
      "text/html": [
       "<div>\n",
       "<style scoped>\n",
       "    .dataframe tbody tr th:only-of-type {\n",
       "        vertical-align: middle;\n",
       "    }\n",
       "\n",
       "    .dataframe tbody tr th {\n",
       "        vertical-align: top;\n",
       "    }\n",
       "\n",
       "    .dataframe thead th {\n",
       "        text-align: right;\n",
       "    }\n",
       "</style>\n",
       "<table border=\"1\" class=\"dataframe\">\n",
       "  <thead>\n",
       "    <tr style=\"text-align: right;\">\n",
       "      <th></th>\n",
       "      <th>trip_start_timestamp</th>\n",
       "      <th>trip_end_timestamp</th>\n",
       "      <th>trip_seconds</th>\n",
       "      <th>trip_miles</th>\n",
       "      <th>fare</th>\n",
       "      <th>tips</th>\n",
       "      <th>tolls</th>\n",
       "      <th>extras</th>\n",
       "      <th>trip_total</th>\n",
       "      <th>payment_type</th>\n",
       "      <th>...</th>\n",
       "      <th>pickup_centroid_longitude</th>\n",
       "      <th>pickup_centroid_location</th>\n",
       "      <th>dropoff_centroid_latitude</th>\n",
       "      <th>dropoff_centroid_longitude</th>\n",
       "      <th>dropoff_centroid_location</th>\n",
       "      <th>avg_daily_wind_speed</th>\n",
       "      <th>avg_temp_f</th>\n",
       "      <th>fog</th>\n",
       "      <th>rain</th>\n",
       "      <th>snow</th>\n",
       "    </tr>\n",
       "  </thead>\n",
       "  <tbody>\n",
       "    <tr>\n",
       "      <th>0</th>\n",
       "      <td>2016-02-01 09:45:00</td>\n",
       "      <td>2016-02-01 09:45:00</td>\n",
       "      <td>180.0</td>\n",
       "      <td>0.5</td>\n",
       "      <td>4.75</td>\n",
       "      <td>0.0</td>\n",
       "      <td>0.0</td>\n",
       "      <td>0.0</td>\n",
       "      <td>4.75</td>\n",
       "      <td>Cash</td>\n",
       "      <td>...</td>\n",
       "      <td>-87.620993</td>\n",
       "      <td>POINT (-87.6209929134 41.8849871918)</td>\n",
       "      <td>41.880994</td>\n",
       "      <td>-87.632746</td>\n",
       "      <td>POINT (-87.6327464887 41.8809944707)</td>\n",
       "      <td>4.92</td>\n",
       "      <td>36</td>\n",
       "      <td>1</td>\n",
       "      <td>0</td>\n",
       "      <td>0</td>\n",
       "    </tr>\n",
       "    <tr>\n",
       "      <th>1</th>\n",
       "      <td>2016-02-01 07:30:00</td>\n",
       "      <td>2016-02-01 07:30:00</td>\n",
       "      <td>360.0</td>\n",
       "      <td>1.1</td>\n",
       "      <td>6.25</td>\n",
       "      <td>0.0</td>\n",
       "      <td>0.0</td>\n",
       "      <td>0.0</td>\n",
       "      <td>6.25</td>\n",
       "      <td>Cash</td>\n",
       "      <td>...</td>\n",
       "      <td>-87.632746</td>\n",
       "      <td>POINT (-87.6327464887 41.8809944707)</td>\n",
       "      <td>41.895033</td>\n",
       "      <td>-87.619711</td>\n",
       "      <td>POINT (-87.6197106717 41.8950334495)</td>\n",
       "      <td>4.92</td>\n",
       "      <td>36</td>\n",
       "      <td>1</td>\n",
       "      <td>0</td>\n",
       "      <td>0</td>\n",
       "    </tr>\n",
       "    <tr>\n",
       "      <th>2</th>\n",
       "      <td>2016-02-01 08:45:00</td>\n",
       "      <td>2016-02-01 09:00:00</td>\n",
       "      <td>360.0</td>\n",
       "      <td>1.6</td>\n",
       "      <td>7.50</td>\n",
       "      <td>0.0</td>\n",
       "      <td>0.0</td>\n",
       "      <td>0.0</td>\n",
       "      <td>7.50</td>\n",
       "      <td>Cash</td>\n",
       "      <td>...</td>\n",
       "      <td>-87.626146</td>\n",
       "      <td>POINT (-87.6261455896 41.9027880476)</td>\n",
       "      <td>41.880994</td>\n",
       "      <td>-87.632746</td>\n",
       "      <td>POINT (-87.6327464887 41.8809944707)</td>\n",
       "      <td>4.92</td>\n",
       "      <td>36</td>\n",
       "      <td>1</td>\n",
       "      <td>0</td>\n",
       "      <td>0</td>\n",
       "    </tr>\n",
       "    <tr>\n",
       "      <th>3</th>\n",
       "      <td>2016-02-01 16:45:00</td>\n",
       "      <td>2016-02-01 17:00:00</td>\n",
       "      <td>600.0</td>\n",
       "      <td>4.2</td>\n",
       "      <td>13.25</td>\n",
       "      <td>0.0</td>\n",
       "      <td>0.0</td>\n",
       "      <td>0.0</td>\n",
       "      <td>13.25</td>\n",
       "      <td>Cash</td>\n",
       "      <td>...</td>\n",
       "      <td>-87.699155</td>\n",
       "      <td>POINT (-87.6991553432 41.9227606205)</td>\n",
       "      <td>41.899602</td>\n",
       "      <td>-87.633308</td>\n",
       "      <td>POINT (-87.6333080367 41.899602111)</td>\n",
       "      <td>4.92</td>\n",
       "      <td>36</td>\n",
       "      <td>1</td>\n",
       "      <td>0</td>\n",
       "      <td>0</td>\n",
       "    </tr>\n",
       "    <tr>\n",
       "      <th>4</th>\n",
       "      <td>2016-02-01 08:15:00</td>\n",
       "      <td>2016-02-01 08:15:00</td>\n",
       "      <td>0.0</td>\n",
       "      <td>0.0</td>\n",
       "      <td>3.25</td>\n",
       "      <td>0.0</td>\n",
       "      <td>0.0</td>\n",
       "      <td>0.0</td>\n",
       "      <td>3.25</td>\n",
       "      <td>Cash</td>\n",
       "      <td>...</td>\n",
       "      <td>-87.635891</td>\n",
       "      <td>POINT (-87.6358909539 41.9292629902)</td>\n",
       "      <td>NaN</td>\n",
       "      <td>NaN</td>\n",
       "      <td>None</td>\n",
       "      <td>4.92</td>\n",
       "      <td>36</td>\n",
       "      <td>1</td>\n",
       "      <td>0</td>\n",
       "      <td>0</td>\n",
       "    </tr>\n",
       "  </tbody>\n",
       "</table>\n",
       "<p>5 rows × 21 columns</p>\n",
       "</div>"
      ],
      "text/plain": [
       "  trip_start_timestamp  trip_end_timestamp  trip_seconds  trip_miles   fare  \\\n",
       "0  2016-02-01 09:45:00 2016-02-01 09:45:00         180.0         0.5   4.75   \n",
       "1  2016-02-01 07:30:00 2016-02-01 07:30:00         360.0         1.1   6.25   \n",
       "2  2016-02-01 08:45:00 2016-02-01 09:00:00         360.0         1.6   7.50   \n",
       "3  2016-02-01 16:45:00 2016-02-01 17:00:00         600.0         4.2  13.25   \n",
       "4  2016-02-01 08:15:00 2016-02-01 08:15:00           0.0         0.0   3.25   \n",
       "\n",
       "   tips  tolls  extras  trip_total payment_type  ...   \\\n",
       "0   0.0    0.0     0.0        4.75         Cash  ...    \n",
       "1   0.0    0.0     0.0        6.25         Cash  ...    \n",
       "2   0.0    0.0     0.0        7.50         Cash  ...    \n",
       "3   0.0    0.0     0.0       13.25         Cash  ...    \n",
       "4   0.0    0.0     0.0        3.25         Cash  ...    \n",
       "\n",
       "   pickup_centroid_longitude              pickup_centroid_location  \\\n",
       "0                 -87.620993  POINT (-87.6209929134 41.8849871918)   \n",
       "1                 -87.632746  POINT (-87.6327464887 41.8809944707)   \n",
       "2                 -87.626146  POINT (-87.6261455896 41.9027880476)   \n",
       "3                 -87.699155  POINT (-87.6991553432 41.9227606205)   \n",
       "4                 -87.635891  POINT (-87.6358909539 41.9292629902)   \n",
       "\n",
       "  dropoff_centroid_latitude  dropoff_centroid_longitude  \\\n",
       "0                 41.880994                  -87.632746   \n",
       "1                 41.895033                  -87.619711   \n",
       "2                 41.880994                  -87.632746   \n",
       "3                 41.899602                  -87.633308   \n",
       "4                       NaN                         NaN   \n",
       "\n",
       "              dropoff_centroid_location avg_daily_wind_speed  avg_temp_f  fog  \\\n",
       "0  POINT (-87.6327464887 41.8809944707)                 4.92          36    1   \n",
       "1  POINT (-87.6197106717 41.8950334495)                 4.92          36    1   \n",
       "2  POINT (-87.6327464887 41.8809944707)                 4.92          36    1   \n",
       "3   POINT (-87.6333080367 41.899602111)                 4.92          36    1   \n",
       "4                                  None                 4.92          36    1   \n",
       "\n",
       "   rain  snow  \n",
       "0     0     0  \n",
       "1     0     0  \n",
       "2     0     0  \n",
       "3     0     0  \n",
       "4     0     0  \n",
       "\n",
       "[5 rows x 21 columns]"
      ]
     },
     "execution_count": 11,
     "metadata": {},
     "output_type": "execute_result"
    }
   ],
   "source": [
    "taxi_weather_df.head()"
   ]
  },
  {
   "cell_type": "code",
   "execution_count": 12,
   "metadata": {
    "ExecuteTime": {
     "end_time": "2018-09-05T17:47:12.031086Z",
     "start_time": "2018-09-05T17:47:12.025615Z"
    },
    "scrolled": false
   },
   "outputs": [
    {
     "name": "stdout",
     "output_type": "stream",
     "text": [
      "<class 'pandas.core.frame.DataFrame'>\n",
      "RangeIndex: 1697009 entries, 0 to 1697008\n",
      "Data columns (total 21 columns):\n",
      "trip_start_timestamp          datetime64[ns]\n",
      "trip_end_timestamp            datetime64[ns]\n",
      "trip_seconds                  float64\n",
      "trip_miles                    float64\n",
      "fare                          float64\n",
      "tips                          float64\n",
      "tolls                         float64\n",
      "extras                        float64\n",
      "trip_total                    float64\n",
      "payment_type                  object\n",
      "pickup_centroid_latitude      float64\n",
      "pickup_centroid_longitude     float64\n",
      "pickup_centroid_location      object\n",
      "dropoff_centroid_latitude     float64\n",
      "dropoff_centroid_longitude    float64\n",
      "dropoff_centroid_location     object\n",
      "avg_daily_wind_speed          float64\n",
      "avg_temp_f                    int64\n",
      "fog                           int64\n",
      "rain                          int64\n",
      "snow                          int64\n",
      "dtypes: datetime64[ns](2), float64(12), int64(4), object(3)\n",
      "memory usage: 271.9+ MB\n"
     ]
    }
   ],
   "source": [
    "#Let's explore the dataset\n",
    "# taxi_weather_df[taxi_weather_df['pickup_centroid_latitude'].isnull()].info()                    #287,350 records are missing pickup coordinates (17%)\n",
    "# taxi_weather_df[taxi_weather_df['dropoff_centroid_latitude'].isnull() == True].info()           #311,728 records are missing pickup coordinates (18%)\n",
    "# taxi_weather_df[(taxi_weather_df['pickup_centroid_latitude'].isnull()) == True | (taxi_weather_df['dropoff_centroid_latitude'].isnull()) == True].info()\n",
    "taxi_weather_df.info()"
   ]
  },
  {
   "cell_type": "markdown",
   "metadata": {},
   "source": [
    "> **321,366** records are missing pickup or dropoff coordinates (**19%**)"
   ]
  },
  {
   "cell_type": "markdown",
   "metadata": {},
   "source": [
    "## Sweeping time!"
   ]
  },
  {
   "cell_type": "code",
   "execution_count": 13,
   "metadata": {
    "ExecuteTime": {
     "end_time": "2018-09-05T17:47:12.200736Z",
     "start_time": "2018-09-05T17:47:12.033395Z"
    }
   },
   "outputs": [],
   "source": [
    "#Change payment type to boolean\n",
    "taxi_weather_df['payment_type'] = pd.Categorical(taxi_weather_df['payment_type'])"
   ]
  },
  {
   "cell_type": "code",
   "execution_count": 14,
   "metadata": {
    "ExecuteTime": {
     "end_time": "2018-09-05T17:47:12.527987Z",
     "start_time": "2018-09-05T17:47:12.202847Z"
    }
   },
   "outputs": [],
   "source": [
    "#Let's drop all the records with a missing lat / long in either pickup or dropoff\n",
    "taxi_weather_df.dropna(subset=['pickup_centroid_latitude', 'pickup_centroid_longitude', 'dropoff_centroid_latitude', 'dropoff_centroid_longitude',\n",
    "                              'trip_seconds', 'trip_miles'], inplace=True)"
   ]
  },
  {
   "cell_type": "markdown",
   "metadata": {},
   "source": [
    "### Update location columns for pickup and dropoff using shapely (converting the dataframe to GeoPandas)"
   ]
  },
  {
   "cell_type": "code",
   "execution_count": 18,
   "metadata": {
    "ExecuteTime": {
     "end_time": "2018-09-05T17:47:33.853391Z",
     "start_time": "2018-09-05T17:47:12.543692Z"
    }
   },
   "outputs": [],
   "source": [
    "#replace pickup_centroid_location and dropoff_centroid_location columns with point coordinates using shapely\n",
    "pickup_geopoint = list(zip(taxi_weather_df['pickup_centroid_longitude'], taxi_weather_df['pickup_centroid_latitude']))\n",
    "dropoff_geopoint = list(zip(taxi_weather_df['dropoff_centroid_longitude'], taxi_weather_df['dropoff_centroid_latitude']))\n",
    "\n",
    "taxi_weather_df['pickup_centroid_location'] = pickup_geopoint\n",
    "taxi_weather_df['dropoff_centroid_location'] = dropoff_geopoint\n",
    "\n",
    "taxi_weather_df['pickup_centroid_location'] = taxi_weather_df['pickup_centroid_location'].apply(Point)\n",
    "taxi_weather_df['dropoff_centroid_location'] = taxi_weather_df['dropoff_centroid_location'].apply(Point)\n"
   ]
  },
  {
   "cell_type": "code",
   "execution_count": 19,
   "metadata": {
    "ExecuteTime": {
     "end_time": "2018-09-05T17:47:33.882663Z",
     "start_time": "2018-09-05T17:47:33.855235Z"
    }
   },
   "outputs": [
    {
     "data": {
      "text/html": [
       "<div>\n",
       "<style scoped>\n",
       "    .dataframe tbody tr th:only-of-type {\n",
       "        vertical-align: middle;\n",
       "    }\n",
       "\n",
       "    .dataframe tbody tr th {\n",
       "        vertical-align: top;\n",
       "    }\n",
       "\n",
       "    .dataframe thead th {\n",
       "        text-align: right;\n",
       "    }\n",
       "</style>\n",
       "<table border=\"1\" class=\"dataframe\">\n",
       "  <thead>\n",
       "    <tr style=\"text-align: right;\">\n",
       "      <th></th>\n",
       "      <th>trip_start_timestamp</th>\n",
       "      <th>trip_end_timestamp</th>\n",
       "      <th>trip_seconds</th>\n",
       "      <th>trip_miles</th>\n",
       "      <th>fare</th>\n",
       "      <th>tips</th>\n",
       "      <th>tolls</th>\n",
       "      <th>extras</th>\n",
       "      <th>trip_total</th>\n",
       "      <th>payment_type</th>\n",
       "      <th>...</th>\n",
       "      <th>pickup_centroid_longitude</th>\n",
       "      <th>pickup_centroid_location</th>\n",
       "      <th>dropoff_centroid_latitude</th>\n",
       "      <th>dropoff_centroid_longitude</th>\n",
       "      <th>dropoff_centroid_location</th>\n",
       "      <th>avg_daily_wind_speed</th>\n",
       "      <th>avg_temp_f</th>\n",
       "      <th>fog</th>\n",
       "      <th>rain</th>\n",
       "      <th>snow</th>\n",
       "    </tr>\n",
       "  </thead>\n",
       "  <tbody>\n",
       "    <tr>\n",
       "      <th>0</th>\n",
       "      <td>2016-02-01 09:45:00</td>\n",
       "      <td>2016-02-01 09:45:00</td>\n",
       "      <td>180.0</td>\n",
       "      <td>0.5</td>\n",
       "      <td>4.75</td>\n",
       "      <td>0.0</td>\n",
       "      <td>0.0</td>\n",
       "      <td>0.0</td>\n",
       "      <td>4.75</td>\n",
       "      <td>Cash</td>\n",
       "      <td>...</td>\n",
       "      <td>-87.620993</td>\n",
       "      <td>POINT (-87.62099291299999 41.884987192)</td>\n",
       "      <td>41.880994</td>\n",
       "      <td>-87.632746</td>\n",
       "      <td>POINT (-87.632746489 41.880994471)</td>\n",
       "      <td>4.92</td>\n",
       "      <td>36</td>\n",
       "      <td>1</td>\n",
       "      <td>0</td>\n",
       "      <td>0</td>\n",
       "    </tr>\n",
       "    <tr>\n",
       "      <th>1</th>\n",
       "      <td>2016-02-01 07:30:00</td>\n",
       "      <td>2016-02-01 07:30:00</td>\n",
       "      <td>360.0</td>\n",
       "      <td>1.1</td>\n",
       "      <td>6.25</td>\n",
       "      <td>0.0</td>\n",
       "      <td>0.0</td>\n",
       "      <td>0.0</td>\n",
       "      <td>6.25</td>\n",
       "      <td>Cash</td>\n",
       "      <td>...</td>\n",
       "      <td>-87.632746</td>\n",
       "      <td>POINT (-87.632746489 41.880994471)</td>\n",
       "      <td>41.895033</td>\n",
       "      <td>-87.619711</td>\n",
       "      <td>POINT (-87.619710672 41.89503345)</td>\n",
       "      <td>4.92</td>\n",
       "      <td>36</td>\n",
       "      <td>1</td>\n",
       "      <td>0</td>\n",
       "      <td>0</td>\n",
       "    </tr>\n",
       "    <tr>\n",
       "      <th>2</th>\n",
       "      <td>2016-02-01 08:45:00</td>\n",
       "      <td>2016-02-01 09:00:00</td>\n",
       "      <td>360.0</td>\n",
       "      <td>1.6</td>\n",
       "      <td>7.50</td>\n",
       "      <td>0.0</td>\n",
       "      <td>0.0</td>\n",
       "      <td>0.0</td>\n",
       "      <td>7.50</td>\n",
       "      <td>Cash</td>\n",
       "      <td>...</td>\n",
       "      <td>-87.626146</td>\n",
       "      <td>POINT (-87.62614558999999 41.902788048)</td>\n",
       "      <td>41.880994</td>\n",
       "      <td>-87.632746</td>\n",
       "      <td>POINT (-87.632746489 41.880994471)</td>\n",
       "      <td>4.92</td>\n",
       "      <td>36</td>\n",
       "      <td>1</td>\n",
       "      <td>0</td>\n",
       "      <td>0</td>\n",
       "    </tr>\n",
       "    <tr>\n",
       "      <th>3</th>\n",
       "      <td>2016-02-01 16:45:00</td>\n",
       "      <td>2016-02-01 17:00:00</td>\n",
       "      <td>600.0</td>\n",
       "      <td>4.2</td>\n",
       "      <td>13.25</td>\n",
       "      <td>0.0</td>\n",
       "      <td>0.0</td>\n",
       "      <td>0.0</td>\n",
       "      <td>13.25</td>\n",
       "      <td>Cash</td>\n",
       "      <td>...</td>\n",
       "      <td>-87.699155</td>\n",
       "      <td>POINT (-87.699155343 41.92276062)</td>\n",
       "      <td>41.899602</td>\n",
       "      <td>-87.633308</td>\n",
       "      <td>POINT (-87.63330803700001 41.899602111)</td>\n",
       "      <td>4.92</td>\n",
       "      <td>36</td>\n",
       "      <td>1</td>\n",
       "      <td>0</td>\n",
       "      <td>0</td>\n",
       "    </tr>\n",
       "    <tr>\n",
       "      <th>5</th>\n",
       "      <td>2016-02-01 23:15:00</td>\n",
       "      <td>2016-02-01 23:15:00</td>\n",
       "      <td>480.0</td>\n",
       "      <td>2.9</td>\n",
       "      <td>10.25</td>\n",
       "      <td>0.0</td>\n",
       "      <td>0.0</td>\n",
       "      <td>0.0</td>\n",
       "      <td>10.25</td>\n",
       "      <td>Cash</td>\n",
       "      <td>...</td>\n",
       "      <td>-87.633308</td>\n",
       "      <td>POINT (-87.63330803700001 41.899602111)</td>\n",
       "      <td>41.901207</td>\n",
       "      <td>-87.676356</td>\n",
       "      <td>POINT (-87.676355989 41.901206994)</td>\n",
       "      <td>4.92</td>\n",
       "      <td>36</td>\n",
       "      <td>1</td>\n",
       "      <td>0</td>\n",
       "      <td>0</td>\n",
       "    </tr>\n",
       "  </tbody>\n",
       "</table>\n",
       "<p>5 rows × 21 columns</p>\n",
       "</div>"
      ],
      "text/plain": [
       "  trip_start_timestamp  trip_end_timestamp  trip_seconds  trip_miles   fare  \\\n",
       "0  2016-02-01 09:45:00 2016-02-01 09:45:00         180.0         0.5   4.75   \n",
       "1  2016-02-01 07:30:00 2016-02-01 07:30:00         360.0         1.1   6.25   \n",
       "2  2016-02-01 08:45:00 2016-02-01 09:00:00         360.0         1.6   7.50   \n",
       "3  2016-02-01 16:45:00 2016-02-01 17:00:00         600.0         4.2  13.25   \n",
       "5  2016-02-01 23:15:00 2016-02-01 23:15:00         480.0         2.9  10.25   \n",
       "\n",
       "   tips  tolls  extras  trip_total payment_type  ...   \\\n",
       "0   0.0    0.0     0.0        4.75         Cash  ...    \n",
       "1   0.0    0.0     0.0        6.25         Cash  ...    \n",
       "2   0.0    0.0     0.0        7.50         Cash  ...    \n",
       "3   0.0    0.0     0.0       13.25         Cash  ...    \n",
       "5   0.0    0.0     0.0       10.25         Cash  ...    \n",
       "\n",
       "   pickup_centroid_longitude                 pickup_centroid_location  \\\n",
       "0                 -87.620993  POINT (-87.62099291299999 41.884987192)   \n",
       "1                 -87.632746       POINT (-87.632746489 41.880994471)   \n",
       "2                 -87.626146  POINT (-87.62614558999999 41.902788048)   \n",
       "3                 -87.699155        POINT (-87.699155343 41.92276062)   \n",
       "5                 -87.633308  POINT (-87.63330803700001 41.899602111)   \n",
       "\n",
       "  dropoff_centroid_latitude  dropoff_centroid_longitude  \\\n",
       "0                 41.880994                  -87.632746   \n",
       "1                 41.895033                  -87.619711   \n",
       "2                 41.880994                  -87.632746   \n",
       "3                 41.899602                  -87.633308   \n",
       "5                 41.901207                  -87.676356   \n",
       "\n",
       "                 dropoff_centroid_location avg_daily_wind_speed  avg_temp_f  \\\n",
       "0       POINT (-87.632746489 41.880994471)                 4.92          36   \n",
       "1        POINT (-87.619710672 41.89503345)                 4.92          36   \n",
       "2       POINT (-87.632746489 41.880994471)                 4.92          36   \n",
       "3  POINT (-87.63330803700001 41.899602111)                 4.92          36   \n",
       "5       POINT (-87.676355989 41.901206994)                 4.92          36   \n",
       "\n",
       "   fog  rain  snow  \n",
       "0    1     0     0  \n",
       "1    1     0     0  \n",
       "2    1     0     0  \n",
       "3    1     0     0  \n",
       "5    1     0     0  \n",
       "\n",
       "[5 rows x 21 columns]"
      ]
     },
     "execution_count": 19,
     "metadata": {},
     "output_type": "execute_result"
    }
   ],
   "source": [
    "taxi_weather_df.head()"
   ]
  },
  {
   "cell_type": "code",
   "execution_count": 21,
   "metadata": {
    "ExecuteTime": {
     "end_time": "2018-09-05T17:47:34.132905Z",
     "start_time": "2018-09-05T17:47:33.888216Z"
    }
   },
   "outputs": [],
   "source": [
    "taxi_weather_gdf = gpd.GeoDataFrame(taxi_weather_df, geometry='pickup_centroid_location')"
   ]
  },
  {
   "cell_type": "code",
   "execution_count": 22,
   "metadata": {
    "ExecuteTime": {
     "end_time": "2018-09-05T17:47:34.162003Z",
     "start_time": "2018-09-05T17:47:34.134835Z"
    }
   },
   "outputs": [
    {
     "data": {
      "text/html": [
       "<div>\n",
       "<style scoped>\n",
       "    .dataframe tbody tr th:only-of-type {\n",
       "        vertical-align: middle;\n",
       "    }\n",
       "\n",
       "    .dataframe tbody tr th {\n",
       "        vertical-align: top;\n",
       "    }\n",
       "\n",
       "    .dataframe thead th {\n",
       "        text-align: right;\n",
       "    }\n",
       "</style>\n",
       "<table border=\"1\" class=\"dataframe\">\n",
       "  <thead>\n",
       "    <tr style=\"text-align: right;\">\n",
       "      <th></th>\n",
       "      <th>trip_start_timestamp</th>\n",
       "      <th>trip_end_timestamp</th>\n",
       "      <th>trip_seconds</th>\n",
       "      <th>trip_miles</th>\n",
       "      <th>fare</th>\n",
       "      <th>tips</th>\n",
       "      <th>tolls</th>\n",
       "      <th>extras</th>\n",
       "      <th>trip_total</th>\n",
       "      <th>payment_type</th>\n",
       "      <th>...</th>\n",
       "      <th>pickup_centroid_longitude</th>\n",
       "      <th>pickup_centroid_location</th>\n",
       "      <th>dropoff_centroid_latitude</th>\n",
       "      <th>dropoff_centroid_longitude</th>\n",
       "      <th>dropoff_centroid_location</th>\n",
       "      <th>avg_daily_wind_speed</th>\n",
       "      <th>avg_temp_f</th>\n",
       "      <th>fog</th>\n",
       "      <th>rain</th>\n",
       "      <th>snow</th>\n",
       "    </tr>\n",
       "  </thead>\n",
       "  <tbody>\n",
       "    <tr>\n",
       "      <th>1697002</th>\n",
       "      <td>2016-02-29</td>\n",
       "      <td>2016-02-29 00:00:00</td>\n",
       "      <td>420.0</td>\n",
       "      <td>0.0</td>\n",
       "      <td>8.00</td>\n",
       "      <td>0.0</td>\n",
       "      <td>0.0</td>\n",
       "      <td>1.0</td>\n",
       "      <td>9.00</td>\n",
       "      <td>Cash</td>\n",
       "      <td>...</td>\n",
       "      <td>-87.687516</td>\n",
       "      <td>POINT (-87.687515515 41.975170943)</td>\n",
       "      <td>42.001571</td>\n",
       "      <td>-87.695013</td>\n",
       "      <td>POINT (-87.695012589 42.001571027)</td>\n",
       "      <td>14.99</td>\n",
       "      <td>41</td>\n",
       "      <td>0</td>\n",
       "      <td>0</td>\n",
       "      <td>0</td>\n",
       "    </tr>\n",
       "    <tr>\n",
       "      <th>1697003</th>\n",
       "      <td>2016-02-29</td>\n",
       "      <td>2016-02-29 00:15:00</td>\n",
       "      <td>240.0</td>\n",
       "      <td>0.9</td>\n",
       "      <td>5.50</td>\n",
       "      <td>0.0</td>\n",
       "      <td>0.0</td>\n",
       "      <td>0.0</td>\n",
       "      <td>5.50</td>\n",
       "      <td>Cash</td>\n",
       "      <td>...</td>\n",
       "      <td>-87.653244</td>\n",
       "      <td>POINT (-87.653243992 41.952822916)</td>\n",
       "      <td>41.963633</td>\n",
       "      <td>-87.652365</td>\n",
       "      <td>POINT (-87.652365359 41.963633169)</td>\n",
       "      <td>14.99</td>\n",
       "      <td>41</td>\n",
       "      <td>0</td>\n",
       "      <td>0</td>\n",
       "      <td>0</td>\n",
       "    </tr>\n",
       "    <tr>\n",
       "      <th>1697005</th>\n",
       "      <td>2016-02-29</td>\n",
       "      <td>2016-02-29 00:00:00</td>\n",
       "      <td>120.0</td>\n",
       "      <td>0.9</td>\n",
       "      <td>5.25</td>\n",
       "      <td>0.0</td>\n",
       "      <td>0.0</td>\n",
       "      <td>0.0</td>\n",
       "      <td>5.25</td>\n",
       "      <td>Cash</td>\n",
       "      <td>...</td>\n",
       "      <td>-87.676356</td>\n",
       "      <td>POINT (-87.676355989 41.901206994)</td>\n",
       "      <td>41.901207</td>\n",
       "      <td>-87.676356</td>\n",
       "      <td>POINT (-87.676355989 41.901206994)</td>\n",
       "      <td>14.99</td>\n",
       "      <td>41</td>\n",
       "      <td>0</td>\n",
       "      <td>0</td>\n",
       "      <td>0</td>\n",
       "    </tr>\n",
       "    <tr>\n",
       "      <th>1697007</th>\n",
       "      <td>2016-02-29</td>\n",
       "      <td>2016-02-29 00:00:00</td>\n",
       "      <td>360.0</td>\n",
       "      <td>1.8</td>\n",
       "      <td>8.00</td>\n",
       "      <td>0.0</td>\n",
       "      <td>0.0</td>\n",
       "      <td>0.0</td>\n",
       "      <td>8.00</td>\n",
       "      <td>Cash</td>\n",
       "      <td>...</td>\n",
       "      <td>-87.632746</td>\n",
       "      <td>POINT (-87.632746489 41.880994471)</td>\n",
       "      <td>41.859350</td>\n",
       "      <td>-87.617358</td>\n",
       "      <td>POINT (-87.617358006 41.859349715)</td>\n",
       "      <td>14.99</td>\n",
       "      <td>41</td>\n",
       "      <td>0</td>\n",
       "      <td>0</td>\n",
       "      <td>0</td>\n",
       "    </tr>\n",
       "    <tr>\n",
       "      <th>1697008</th>\n",
       "      <td>2016-02-29</td>\n",
       "      <td>2016-02-29 00:00:00</td>\n",
       "      <td>0.0</td>\n",
       "      <td>8.9</td>\n",
       "      <td>3.25</td>\n",
       "      <td>0.0</td>\n",
       "      <td>0.0</td>\n",
       "      <td>0.0</td>\n",
       "      <td>3.25</td>\n",
       "      <td>Cash</td>\n",
       "      <td>...</td>\n",
       "      <td>-87.683835</td>\n",
       "      <td>POINT (-87.683834942 41.947791586)</td>\n",
       "      <td>41.947792</td>\n",
       "      <td>-87.683835</td>\n",
       "      <td>POINT (-87.683834942 41.947791586)</td>\n",
       "      <td>14.99</td>\n",
       "      <td>41</td>\n",
       "      <td>0</td>\n",
       "      <td>0</td>\n",
       "      <td>0</td>\n",
       "    </tr>\n",
       "  </tbody>\n",
       "</table>\n",
       "<p>5 rows × 21 columns</p>\n",
       "</div>"
      ],
      "text/plain": [
       "        trip_start_timestamp  trip_end_timestamp  trip_seconds  trip_miles  \\\n",
       "1697002           2016-02-29 2016-02-29 00:00:00         420.0         0.0   \n",
       "1697003           2016-02-29 2016-02-29 00:15:00         240.0         0.9   \n",
       "1697005           2016-02-29 2016-02-29 00:00:00         120.0         0.9   \n",
       "1697007           2016-02-29 2016-02-29 00:00:00         360.0         1.8   \n",
       "1697008           2016-02-29 2016-02-29 00:00:00           0.0         8.9   \n",
       "\n",
       "         fare  tips  tolls  extras  trip_total payment_type  ...   \\\n",
       "1697002  8.00   0.0    0.0     1.0        9.00         Cash  ...    \n",
       "1697003  5.50   0.0    0.0     0.0        5.50         Cash  ...    \n",
       "1697005  5.25   0.0    0.0     0.0        5.25         Cash  ...    \n",
       "1697007  8.00   0.0    0.0     0.0        8.00         Cash  ...    \n",
       "1697008  3.25   0.0    0.0     0.0        3.25         Cash  ...    \n",
       "\n",
       "         pickup_centroid_longitude            pickup_centroid_location  \\\n",
       "1697002                 -87.687516  POINT (-87.687515515 41.975170943)   \n",
       "1697003                 -87.653244  POINT (-87.653243992 41.952822916)   \n",
       "1697005                 -87.676356  POINT (-87.676355989 41.901206994)   \n",
       "1697007                 -87.632746  POINT (-87.632746489 41.880994471)   \n",
       "1697008                 -87.683835  POINT (-87.683834942 41.947791586)   \n",
       "\n",
       "        dropoff_centroid_latitude  dropoff_centroid_longitude  \\\n",
       "1697002                 42.001571                  -87.695013   \n",
       "1697003                 41.963633                  -87.652365   \n",
       "1697005                 41.901207                  -87.676356   \n",
       "1697007                 41.859350                  -87.617358   \n",
       "1697008                 41.947792                  -87.683835   \n",
       "\n",
       "                  dropoff_centroid_location avg_daily_wind_speed  avg_temp_f  \\\n",
       "1697002  POINT (-87.695012589 42.001571027)                14.99          41   \n",
       "1697003  POINT (-87.652365359 41.963633169)                14.99          41   \n",
       "1697005  POINT (-87.676355989 41.901206994)                14.99          41   \n",
       "1697007  POINT (-87.617358006 41.859349715)                14.99          41   \n",
       "1697008  POINT (-87.683834942 41.947791586)                14.99          41   \n",
       "\n",
       "         fog  rain  snow  \n",
       "1697002    0     0     0  \n",
       "1697003    0     0     0  \n",
       "1697005    0     0     0  \n",
       "1697007    0     0     0  \n",
       "1697008    0     0     0  \n",
       "\n",
       "[5 rows x 21 columns]"
      ]
     },
     "execution_count": 22,
     "metadata": {},
     "output_type": "execute_result"
    }
   ],
   "source": [
    "taxi_weather_gdf.tail()"
   ]
  },
  {
   "cell_type": "code",
   "execution_count": null,
   "metadata": {},
   "outputs": [],
   "source": []
  },
  {
   "cell_type": "code",
   "execution_count": 23,
   "metadata": {
    "ExecuteTime": {
     "end_time": "2018-09-05T17:48:26.302513Z",
     "start_time": "2018-09-05T17:47:34.163654Z"
    },
    "scrolled": false
   },
   "outputs": [
    {
     "data": {
      "image/png": "[encoded data removed]",
      "text/plain": [
       "<matplotlib.figure.Figure at 0x12daac3c8>"
      ]
     },
     "metadata": {},
     "output_type": "display_data"
    }
   ],
   "source": [
    "# df = geopandas.read_file(geopandas.datasets.get_path('nybb'))\n",
    "# world = gpd.read_file(gpd.datasets.get_path('naturalearth_lowres'))\n",
    "# # We restrict to North America.\n",
    "# ax = world[world.continent == 'North America'].plot(\n",
    "#     color='white', edgecolor='blue')\n",
    "\n",
    "# # We can now plot our GeoDataFrame.\n",
    "# taxi_weather_gdf.plot(ax=ax, color='red')\n",
    "# plt.show()\n",
    "\n",
    "taxi_weather_gdf.plot(figsize=(10, 10), alpha=0.5, edgecolor='k');"
   ]
  },
  {
   "cell_type": "markdown",
   "metadata": {},
   "source": [
    "## Cleaning Fun"
   ]
  },
  {
   "cell_type": "markdown",
   "metadata": {},
   "source": [
    "### Helper Functions"
   ]
  },
  {
   "cell_type": "code",
   "execution_count": 24,
   "metadata": {
    "ExecuteTime": {
     "end_time": "2018-09-05T17:48:26.307230Z",
     "start_time": "2018-09-05T17:48:26.304865Z"
    }
   },
   "outputs": [],
   "source": [
    "# def dollar_to_float(string):\n",
    "#     \"\"\"Converts text columns with dollar sign into floats (after removing the currency sign)\"\"\"\n",
    "#     pattern = re.compile('\\$+')\n",
    "#     old_value = string\n",
    "#     new_value = 0.0\n",
    "#     try:\n",
    "#         new_value = re.sub(pattern, '', old_value)\n",
    "#         new_value = float(new_value)\n",
    "#     except:\n",
    "#         ValueError\n",
    "#     return new_value\n",
    "\n"
   ]
  },
  {
   "cell_type": "code",
   "execution_count": 25,
   "metadata": {
    "ExecuteTime": {
     "end_time": "2018-09-05T17:48:26.312024Z",
     "start_time": "2018-09-05T17:48:26.309683Z"
    }
   },
   "outputs": [],
   "source": [
    "#Recalculate the base fare\n"
   ]
  },
  {
   "cell_type": "code",
   "execution_count": 26,
   "metadata": {
    "ExecuteTime": {
     "end_time": "2018-09-05T17:48:26.343065Z",
     "start_time": "2018-09-05T17:48:26.314622Z"
    }
   },
   "outputs": [
    {
     "data": {
      "text/html": [
       "<div>\n",
       "<style scoped>\n",
       "    .dataframe tbody tr th:only-of-type {\n",
       "        vertical-align: middle;\n",
       "    }\n",
       "\n",
       "    .dataframe tbody tr th {\n",
       "        vertical-align: top;\n",
       "    }\n",
       "\n",
       "    .dataframe thead th {\n",
       "        text-align: right;\n",
       "    }\n",
       "</style>\n",
       "<table border=\"1\" class=\"dataframe\">\n",
       "  <thead>\n",
       "    <tr style=\"text-align: right;\">\n",
       "      <th></th>\n",
       "      <th>trip_start_timestamp</th>\n",
       "      <th>trip_end_timestamp</th>\n",
       "      <th>trip_seconds</th>\n",
       "      <th>trip_miles</th>\n",
       "      <th>fare</th>\n",
       "      <th>tips</th>\n",
       "      <th>tolls</th>\n",
       "      <th>extras</th>\n",
       "      <th>trip_total</th>\n",
       "      <th>payment_type</th>\n",
       "      <th>...</th>\n",
       "      <th>pickup_centroid_longitude</th>\n",
       "      <th>pickup_centroid_location</th>\n",
       "      <th>dropoff_centroid_latitude</th>\n",
       "      <th>dropoff_centroid_longitude</th>\n",
       "      <th>dropoff_centroid_location</th>\n",
       "      <th>avg_daily_wind_speed</th>\n",
       "      <th>avg_temp_f</th>\n",
       "      <th>fog</th>\n",
       "      <th>rain</th>\n",
       "      <th>snow</th>\n",
       "    </tr>\n",
       "  </thead>\n",
       "  <tbody>\n",
       "    <tr>\n",
       "      <th>0</th>\n",
       "      <td>2016-02-01 09:45:00</td>\n",
       "      <td>2016-02-01 09:45:00</td>\n",
       "      <td>180.0</td>\n",
       "      <td>0.5</td>\n",
       "      <td>4.75</td>\n",
       "      <td>0.0</td>\n",
       "      <td>0.0</td>\n",
       "      <td>0.0</td>\n",
       "      <td>4.75</td>\n",
       "      <td>Cash</td>\n",
       "      <td>...</td>\n",
       "      <td>-87.620993</td>\n",
       "      <td>POINT (-87.62099291299999 41.884987192)</td>\n",
       "      <td>41.880994</td>\n",
       "      <td>-87.632746</td>\n",
       "      <td>POINT (-87.632746489 41.880994471)</td>\n",
       "      <td>4.92</td>\n",
       "      <td>36</td>\n",
       "      <td>1</td>\n",
       "      <td>0</td>\n",
       "      <td>0</td>\n",
       "    </tr>\n",
       "    <tr>\n",
       "      <th>1</th>\n",
       "      <td>2016-02-01 07:30:00</td>\n",
       "      <td>2016-02-01 07:30:00</td>\n",
       "      <td>360.0</td>\n",
       "      <td>1.1</td>\n",
       "      <td>6.25</td>\n",
       "      <td>0.0</td>\n",
       "      <td>0.0</td>\n",
       "      <td>0.0</td>\n",
       "      <td>6.25</td>\n",
       "      <td>Cash</td>\n",
       "      <td>...</td>\n",
       "      <td>-87.632746</td>\n",
       "      <td>POINT (-87.632746489 41.880994471)</td>\n",
       "      <td>41.895033</td>\n",
       "      <td>-87.619711</td>\n",
       "      <td>POINT (-87.619710672 41.89503345)</td>\n",
       "      <td>4.92</td>\n",
       "      <td>36</td>\n",
       "      <td>1</td>\n",
       "      <td>0</td>\n",
       "      <td>0</td>\n",
       "    </tr>\n",
       "    <tr>\n",
       "      <th>2</th>\n",
       "      <td>2016-02-01 08:45:00</td>\n",
       "      <td>2016-02-01 09:00:00</td>\n",
       "      <td>360.0</td>\n",
       "      <td>1.6</td>\n",
       "      <td>7.50</td>\n",
       "      <td>0.0</td>\n",
       "      <td>0.0</td>\n",
       "      <td>0.0</td>\n",
       "      <td>7.50</td>\n",
       "      <td>Cash</td>\n",
       "      <td>...</td>\n",
       "      <td>-87.626146</td>\n",
       "      <td>POINT (-87.62614558999999 41.902788048)</td>\n",
       "      <td>41.880994</td>\n",
       "      <td>-87.632746</td>\n",
       "      <td>POINT (-87.632746489 41.880994471)</td>\n",
       "      <td>4.92</td>\n",
       "      <td>36</td>\n",
       "      <td>1</td>\n",
       "      <td>0</td>\n",
       "      <td>0</td>\n",
       "    </tr>\n",
       "    <tr>\n",
       "      <th>3</th>\n",
       "      <td>2016-02-01 16:45:00</td>\n",
       "      <td>2016-02-01 17:00:00</td>\n",
       "      <td>600.0</td>\n",
       "      <td>4.2</td>\n",
       "      <td>13.25</td>\n",
       "      <td>0.0</td>\n",
       "      <td>0.0</td>\n",
       "      <td>0.0</td>\n",
       "      <td>13.25</td>\n",
       "      <td>Cash</td>\n",
       "      <td>...</td>\n",
       "      <td>-87.699155</td>\n",
       "      <td>POINT (-87.699155343 41.92276062)</td>\n",
       "      <td>41.899602</td>\n",
       "      <td>-87.633308</td>\n",
       "      <td>POINT (-87.63330803700001 41.899602111)</td>\n",
       "      <td>4.92</td>\n",
       "      <td>36</td>\n",
       "      <td>1</td>\n",
       "      <td>0</td>\n",
       "      <td>0</td>\n",
       "    </tr>\n",
       "    <tr>\n",
       "      <th>5</th>\n",
       "      <td>2016-02-01 23:15:00</td>\n",
       "      <td>2016-02-01 23:15:00</td>\n",
       "      <td>480.0</td>\n",
       "      <td>2.9</td>\n",
       "      <td>10.25</td>\n",
       "      <td>0.0</td>\n",
       "      <td>0.0</td>\n",
       "      <td>0.0</td>\n",
       "      <td>10.25</td>\n",
       "      <td>Cash</td>\n",
       "      <td>...</td>\n",
       "      <td>-87.633308</td>\n",
       "      <td>POINT (-87.63330803700001 41.899602111)</td>\n",
       "      <td>41.901207</td>\n",
       "      <td>-87.676356</td>\n",
       "      <td>POINT (-87.676355989 41.901206994)</td>\n",
       "      <td>4.92</td>\n",
       "      <td>36</td>\n",
       "      <td>1</td>\n",
       "      <td>0</td>\n",
       "      <td>0</td>\n",
       "    </tr>\n",
       "  </tbody>\n",
       "</table>\n",
       "<p>5 rows × 21 columns</p>\n",
       "</div>"
      ],
      "text/plain": [
       "  trip_start_timestamp  trip_end_timestamp  trip_seconds  trip_miles   fare  \\\n",
       "0  2016-02-01 09:45:00 2016-02-01 09:45:00         180.0         0.5   4.75   \n",
       "1  2016-02-01 07:30:00 2016-02-01 07:30:00         360.0         1.1   6.25   \n",
       "2  2016-02-01 08:45:00 2016-02-01 09:00:00         360.0         1.6   7.50   \n",
       "3  2016-02-01 16:45:00 2016-02-01 17:00:00         600.0         4.2  13.25   \n",
       "5  2016-02-01 23:15:00 2016-02-01 23:15:00         480.0         2.9  10.25   \n",
       "\n",
       "   tips  tolls  extras  trip_total payment_type  ...   \\\n",
       "0   0.0    0.0     0.0        4.75         Cash  ...    \n",
       "1   0.0    0.0     0.0        6.25         Cash  ...    \n",
       "2   0.0    0.0     0.0        7.50         Cash  ...    \n",
       "3   0.0    0.0     0.0       13.25         Cash  ...    \n",
       "5   0.0    0.0     0.0       10.25         Cash  ...    \n",
       "\n",
       "   pickup_centroid_longitude                 pickup_centroid_location  \\\n",
       "0                 -87.620993  POINT (-87.62099291299999 41.884987192)   \n",
       "1                 -87.632746       POINT (-87.632746489 41.880994471)   \n",
       "2                 -87.626146  POINT (-87.62614558999999 41.902788048)   \n",
       "3                 -87.699155        POINT (-87.699155343 41.92276062)   \n",
       "5                 -87.633308  POINT (-87.63330803700001 41.899602111)   \n",
       "\n",
       "  dropoff_centroid_latitude  dropoff_centroid_longitude  \\\n",
       "0                 41.880994                  -87.632746   \n",
       "1                 41.895033                  -87.619711   \n",
       "2                 41.880994                  -87.632746   \n",
       "3                 41.899602                  -87.633308   \n",
       "5                 41.901207                  -87.676356   \n",
       "\n",
       "                 dropoff_centroid_location avg_daily_wind_speed  avg_temp_f  \\\n",
       "0       POINT (-87.632746489 41.880994471)                 4.92          36   \n",
       "1        POINT (-87.619710672 41.89503345)                 4.92          36   \n",
       "2       POINT (-87.632746489 41.880994471)                 4.92          36   \n",
       "3  POINT (-87.63330803700001 41.899602111)                 4.92          36   \n",
       "5       POINT (-87.676355989 41.901206994)                 4.92          36   \n",
       "\n",
       "   fog  rain  snow  \n",
       "0    1     0     0  \n",
       "1    1     0     0  \n",
       "2    1     0     0  \n",
       "3    1     0     0  \n",
       "5    1     0     0  \n",
       "\n",
       "[5 rows x 21 columns]"
      ]
     },
     "execution_count": 26,
     "metadata": {},
     "output_type": "execute_result"
    }
   ],
   "source": [
    "taxi_weather_gdf.head()"
   ]
  },
  {
   "cell_type": "code",
   "execution_count": 27,
   "metadata": {
    "ExecuteTime": {
     "end_time": "2018-09-05T17:48:26.354723Z",
     "start_time": "2018-09-05T17:48:26.345251Z"
    }
   },
   "outputs": [
    {
     "name": "stdout",
     "output_type": "stream",
     "text": [
      "<class 'geopandas.geodataframe.GeoDataFrame'>\n",
      "Int64Index: 0 entries\n",
      "Data columns (total 21 columns):\n",
      "trip_start_timestamp          0 non-null datetime64[ns]\n",
      "trip_end_timestamp            0 non-null datetime64[ns]\n",
      "trip_seconds                  0 non-null float64\n",
      "trip_miles                    0 non-null float64\n",
      "fare                          0 non-null float64\n",
      "tips                          0 non-null float64\n",
      "tolls                         0 non-null float64\n",
      "extras                        0 non-null float64\n",
      "trip_total                    0 non-null float64\n",
      "payment_type                  0 non-null category\n",
      "pickup_centroid_latitude      0 non-null float64\n",
      "pickup_centroid_longitude     0 non-null float64\n",
      "pickup_centroid_location      0 non-null object\n",
      "dropoff_centroid_latitude     0 non-null float64\n",
      "dropoff_centroid_longitude    0 non-null float64\n",
      "dropoff_centroid_location     0 non-null object\n",
      "avg_daily_wind_speed          0 non-null float64\n",
      "avg_temp_f                    0 non-null int64\n",
      "fog                           0 non-null int64\n",
      "rain                          0 non-null int64\n",
      "snow                          0 non-null int64\n",
      "dtypes: category(1), datetime64[ns](2), float64(12), int64(4), object(2)\n",
      "memory usage: 376.0+ bytes\n"
     ]
    }
   ],
   "source": [
    "# taxi_weather_gdf[taxi_weather_gdf['dropoff_centroid_longitude'].isnull()].info()"
   ]
  },
  {
   "cell_type": "code",
   "execution_count": 29,
   "metadata": {
    "ExecuteTime": {
     "end_time": "2018-09-05T17:49:15.095559Z",
     "start_time": "2018-09-05T17:48:26.372172Z"
    },
    "scrolled": false
   },
   "outputs": [
    {
     "data": {
      "image/png": "[encoded data removed]",
      "text/plain": [
       "<matplotlib.figure.Figure at 0x160db50b8>"
      ]
     },
     "metadata": {},
     "output_type": "display_data"
    }
   ],
   "source": [
    "#Let's explore the distribution of variables of interest\n",
    "plt.figure(figsize=(30, 20))\n",
    "plt.rcParams.update({'font.size': 22})\n",
    "\n",
    "plt.subplot(2, 2, 1)\n",
    "plt.hist(taxi_weather_gdf['trip_seconds'].dropna(), bins=1000, color='c')\n",
    "plt.title('Trip Length Histogram (in seconds)')\n",
    "plt.xlim(xmin=0, xmax=10000)\n",
    "plt.xlabel('Seconds')\n",
    "plt.ylabel('Frequency')\n",
    "\n",
    "plt.subplot(2, 2, 2)\n",
    "plt.hist(taxi_weather_gdf['trip_miles'].dropna(), bins=10000, color='m')\n",
    "plt.title('Trip Length Histogram (in miles)')\n",
    "plt.xlim(xmin=0, xmax=30)\n",
    "plt.xlabel('Miles')\n",
    "plt.ylabel('Frequency')\n",
    "\n",
    "plt.subplot(2, 2, 3)\n",
    "plt.hist(taxi_weather_gdf['fare'].dropna(), bins=10000, color='r')\n",
    "plt.title('Trip Fare (in $)')\n",
    "plt.xlim(xmin=0, xmax=100)\n",
    "plt.xlabel('$')\n",
    "plt.ylabel('Frequency');\n",
    "\n",
    "plt.subplot(2, 2, 4)\n",
    "plt.hist(taxi_weather_gdf['trip_total'].dropna(), bins=10000, color='b')\n",
    "plt.title('Trip Total Fare (in $)')\n",
    "plt.xlim(xmin=0, xmax=100)\n",
    "plt.xlabel('$')\n",
    "plt.ylabel('Frequency');"
   ]
  },
  {
   "cell_type": "code",
   "execution_count": 41,
   "metadata": {
    "ExecuteTime": {
     "end_time": "2018-09-05T18:26:13.735338Z",
     "start_time": "2018-09-05T18:26:13.708423Z"
    }
   },
   "outputs": [
    {
     "data": {
      "text/plain": [
       "payment_type\n",
       "Cash           0.001584\n",
       "Credit Card    0.000509\n",
       "Dispute        0.007537\n",
       "No Charge      0.000319\n",
       "Pcard          0.000000\n",
       "Prcard         0.000000\n",
       "Unknown        0.000000\n",
       "Name: tolls, dtype: float64"
      ]
     },
     "execution_count": 41,
     "metadata": {},
     "output_type": "execute_result"
    }
   ],
   "source": [
    "#Let's explore the tips and tolls columns\n",
    "taxi_weather_gdf.groupby(['payment_type'])['tolls'].mean()"
   ]
  },
  {
   "cell_type": "code",
   "execution_count": null,
   "metadata": {},
   "outputs": [],
   "source": []
  }
 ],
 "metadata": {
  "kernelspec": {
   "display_name": "Python 3",
   "language": "python",
   "name": "python3"
  },
  "language_info": {
   "codemirror_mode": {
    "name": "ipython",
    "version": 3
   },
   "file_extension": ".py",
   "mimetype": "text/x-python",
   "name": "python",
   "nbconvert_exporter": "python",
   "pygments_lexer": "ipython3",
   "version": "3.6.5"
  },
  "varInspector": {
   "cols": {
    "lenName": 16,
    "lenType": 16,
    "lenVar": 40
   },
   "kernels_config": {
    "python": {
     "delete_cmd_postfix": "",
     "delete_cmd_prefix": "del ",
     "library": "var_list.py",
     "varRefreshCmd": "print(var_dic_list())"
    },
    "r": {
     "delete_cmd_postfix": ") ",
     "delete_cmd_prefix": "rm(",
     "library": "var_list.r",
     "varRefreshCmd": "cat(var_dic_list()) "
    }
   },
   "types_to_exclude": [
    "module",
    "function",
    "builtin_function_or_method",
    "instance",
    "_Feature"
   ],
   "window_display": false
  }
 },
 "nbformat": 4,
 "nbformat_minor": 2
}
