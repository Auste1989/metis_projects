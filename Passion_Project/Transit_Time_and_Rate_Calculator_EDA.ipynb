{
 "cells": [
  {
   "cell_type": "markdown",
   "metadata": {},
   "source": [
    "## First try at getting some data"
   ]
  },
  {
   "cell_type": "code",
   "execution_count": 1,
   "metadata": {
    "ExecuteTime": {
     "end_time": "2018-09-04T18:52:38.615874Z",
     "start_time": "2018-09-04T18:52:38.605591Z"
    }
   },
   "outputs": [
    {
     "data": {
      "text/html": [
       "<style>.container { width:95% !important; }</style>"
      ],
      "text/plain": [
       "<IPython.core.display.HTML object>"
      ]
     },
     "metadata": {},
     "output_type": "display_data"
    }
   ],
   "source": [
    "from IPython.core.display import display, HTML\n",
    "display(HTML(\"<style>.container { width:95% !important; }</style>\"))"
   ]
  },
  {
   "cell_type": "code",
   "execution_count": 41,
   "metadata": {
    "ExecuteTime": {
     "end_time": "2018-09-05T00:36:08.441878Z",
     "start_time": "2018-09-05T00:36:04.752912Z"
    }
   },
   "outputs": [],
   "source": [
    "#Essentials\n",
    "import numpy as np\n",
    "import pandas as pd\n",
    "import pickle\n",
    "import re\n",
    "\n",
    "#API imports\n",
    "from sodapy import Socrata\n",
    "\n",
    "#SQL related\n",
    "import psycopg2\n",
    "import sqlite3\n",
    "from sqlalchemy import create_engine\n",
    "import pandas.io.sql as pd_sql\n",
    "\n",
    "#Visualization\n",
    "import matplotlib.pyplot as plt\n",
    "import seaborn as sns\n",
    "import geopandas as gpd\n",
    "import shapely\n",
    "from shapely.geometry import Point\n",
    "# import contextily as ctx\n",
    "\n",
    "#Regression imports\n",
    "import statsmodels.api as sm\n",
    "import statsmodels.formula.api as smf\n",
    "import patsy\n",
    "\n",
    "from sklearn.model_selection import train_test_split\n",
    "from sklearn.linear_model import LinearRegression\n",
    "from sklearn.linear_model import RidgeCV\n",
    "from sklearn.linear_model import LassoCV\n",
    "from sklearn.preprocessing import PolynomialFeatures\n",
    "from sklearn import feature_selection as f_select\n",
    "from sklearn.model_selection import cross_val_score\n",
    "from sklearn.model_selection import KFold\n",
    "from sklearn import metrics\n",
    "from sklearn.metrics import mean_squared_error\n",
    "from sklearn.model_selection import learning_curve\n",
    "\n",
    "from sklearn.pipeline import make_pipeline\n",
    "\n",
    "%matplotlib inline"
   ]
  },
  {
   "cell_type": "markdown",
   "metadata": {},
   "source": [
    "### Load all the data into an SQL database"
   ]
  },
  {
   "cell_type": "code",
   "execution_count": 42,
   "metadata": {
    "ExecuteTime": {
     "end_time": "2018-09-05T00:36:24.312312Z",
     "start_time": "2018-09-05T00:36:24.295478Z"
    }
   },
   "outputs": [],
   "source": [
    "# Set up the database connection\n",
    "conn = psycopg2.connect(dbname=\"taxi_rides_db\", user=\"auste_m\")"
   ]
  },
  {
   "cell_type": "code",
   "execution_count": 4,
   "metadata": {
    "ExecuteTime": {
     "end_time": "2018-09-04T18:52:40.931826Z",
     "start_time": "2018-09-04T18:52:40.928490Z"
    }
   },
   "outputs": [],
   "source": [
    "# CREATE TABLE taxi_rides (\n",
    "#                             trip_id TEXT, \n",
    "#                             taxi_id TEXT, \n",
    "#                             trip_start_timestamp TIMESTAMP,\n",
    "#                             trip_end_timestamp TIMESTAMP,\n",
    "#                             trip_seconds INT,\n",
    "#                             trip_miles FLOAT,\n",
    "#                             pickup_census_tract TEXT,\n",
    "#                             pickup_community_area TEXT,\n",
    "#                             dropoff_census_tract TEXT,\n",
    "#                             dropoff_community_area TEXT,\n",
    "#                             fare TEXT,\n",
    "#                             tips TEXT,\n",
    "#                             tolls TEXT,\n",
    "#                             extras TEXT,\n",
    "#                             trip_total TEXT,\n",
    "#                             payment_type TEXT,\n",
    "#                             company TEXT,\n",
    "#                             pickup_centroid_latitude FLOAT,\n",
    "#                             pickup_centroid_longitude FLOAT,\n",
    "#                             pickup_centroid_location TEXT,\n",
    "#                             dropoff_centroid_latitude FLOAT,\n",
    "#                             dropoff_centroid_longitude FLOAT,\n",
    "#                             dropoff_centroid_location TEXT\n",
    "#                         );"
   ]
  },
  {
   "cell_type": "code",
   "execution_count": 5,
   "metadata": {
    "ExecuteTime": {
     "end_time": "2018-09-04T18:52:40.935943Z",
     "start_time": "2018-09-04T18:52:40.933875Z"
    }
   },
   "outputs": [],
   "source": [
    "# COPY taxi_rides from '/home/ubuntu/Passion_Project/Taxi_Trips.csv' DELIMITER ',' CSV HEADER;\n",
    "# COPY taxi_rides from '/home/ubuntu/Passion_Project/Taxi_Trips_2016.csv' DELIMITER ',' CSV HEADER;"
   ]
  },
  {
   "cell_type": "code",
   "execution_count": 6,
   "metadata": {
    "ExecuteTime": {
     "end_time": "2018-09-04T18:52:40.940778Z",
     "start_time": "2018-09-04T18:52:40.937896Z"
    }
   },
   "outputs": [],
   "source": [
    "# CREATE TABLE chicago_weather(\n",
    "#                                 station TEXT,\n",
    "#                                 name TEXT, \n",
    "#                                 latitude FLOAT,\n",
    "#                                 longitude FLOAT,\n",
    "#                                 elevation FLOAT,\n",
    "#                                 date TIMESTAMP, \n",
    "#                                 avg_daily_wind_speed FLOAT,\n",
    "#                                 peak_gust_time FLOAT,\n",
    "#                                 precipitation_mm FLOAT,\n",
    "#                                 snowfall_mm FLOAT,\n",
    "#                                 snowdepth_mm FLOAT,\n",
    "#                                 avg_temp_f INT,\n",
    "#                                 fog INT,\n",
    "#                                 heavy_fog INT,\n",
    "#                                 thunder INT,\n",
    "#                                 sleet INT,\n",
    "#                                 hail INT, \n",
    "#                                 glaze INT,\n",
    "#                                 smoke INT,\n",
    "#                                 drifting_snow INT, \n",
    "#                                 mist INT,\n",
    "#                                 drizzle INT,\n",
    "#                                 rain INT,\n",
    "#                                 freezing_rain INT,\n",
    "#                                 snow INT,\n",
    "#                                 unkwn_precipitation INT,\n",
    "#                                 ice_fog INT\n",
    "#                                  );"
   ]
  },
  {
   "cell_type": "code",
   "execution_count": 7,
   "metadata": {
    "ExecuteTime": {
     "end_time": "2018-09-04T18:52:40.945958Z",
     "start_time": "2018-09-04T18:52:40.943182Z"
    }
   },
   "outputs": [],
   "source": [
    "# COPY chicago_weather FROM '/home/ubuntu/Chicago_Historical_Weather_Dataset.csv' DELIMITER ',' CSV HEADER;"
   ]
  },
  {
   "cell_type": "code",
   "execution_count": 44,
   "metadata": {
    "ExecuteTime": {
     "end_time": "2018-09-05T00:37:16.599518Z",
     "start_time": "2018-09-05T00:37:16.592681Z"
    }
   },
   "outputs": [],
   "source": [
    "taxi_rides_query = \"\"\"SELECT * FROM taxi_rides WHERE trip_start_timestamp BETWEEN '2016-02-01' AND '2016-02-29';\"\"\" \n",
    "weather_query = \"\"\"SELECT * FROM chicago_weather WHERE date BETWEEN '2016-02-01' AND '2016-02-29';\"\"\"\n",
    "\n",
    "taxi_weather_query = \"\"\"SELECT TR.trip_start_timestamp,\n",
    "                                TR.trip_end_timestamp,\n",
    "                                TR.trip_seconds,\n",
    "                                TR.trip_miles,\n",
    "                                TR.pickup_community_area,\n",
    "                                TR.dropoff_community_area,\n",
    "                                TR.fare,\n",
    "                                TR.tips,\n",
    "                                TR.tolls,\n",
    "                                TR.extras,\n",
    "                                TR.trip_total,\n",
    "                                TR.payment_type,\n",
    "                                TR.pickup_centroid_latitude,\n",
    "                                TR.pickup_centroid_longitude,\n",
    "                                TR.pickup_centroid_location,\n",
    "                                TR.dropoff_centroid_latitude,\n",
    "                                TR.dropoff_centroid_longitude,\n",
    "                                TR.dropoff_centroid_location,\n",
    "                                CW.avg_daily_wind_speed,\n",
    "                                CW.avg_temp_f,\n",
    "                                CASE WHEN CW.fog = 1 OR CW.heavy_fog = 1 OR ice_fog = 1 OR mist = 1 THEN 1 ELSE 0 END [fog],\n",
    "                                CASE WHEN CW.rain OR CW.drizzle = 1 OR CW.hail = 1 THEN 1 ELSE 0 END [rain]\n",
    "                                CASE WHEN CW.snow = 1 OR CW.freezing_rain = 1 OR drifting_snow = 1 THEN 1 ELSE 0 END [snow]\n",
    "                                \n",
    "                        FROM taxi_rides as TR\n",
    "                        LEFT JOIN chicago_weather as CW\n",
    "                        ON CAST(TR.trip_start_timestamp AS DATE) = CAST(date AS DATE)\n",
    "                        WHERE trip_start_timestamp BETWEEN '2016-02-01' AND '2016-02-29';\"\"\" "
   ]
  },
  {
   "cell_type": "code",
   "execution_count": 9,
   "metadata": {
    "ExecuteTime": {
     "end_time": "2018-09-04T18:52:40.955894Z",
     "start_time": "2018-09-04T18:52:40.952916Z"
    }
   },
   "outputs": [],
   "source": [
    "# test_rides = \"\"\"SELECT MIN(trip_start_timestamp) FROM taxi_rides;\"\"\"\n",
    "# pd.read_sql_query(test_rides, con=conn)"
   ]
  },
  {
   "cell_type": "code",
   "execution_count": 45,
   "metadata": {
    "ExecuteTime": {
     "end_time": "2018-09-05T00:37:30.010482Z",
     "start_time": "2018-09-05T00:37:29.332060Z"
    },
    "scrolled": false
   },
   "outputs": [
    {
     "ename": "DatabaseError",
     "evalue": "Execution failed on sql 'SELECT TR.trip_start_timestamp,\n                                TR.trip_end_timestamp,\n                                TR.trip_seconds,\n                                TR.trip_miles,\n                                TR.pickup_community_area,\n                                TR.dropoff_community_area,\n                                TR.fare,\n                                TR.tips,\n                                TR.tolls,\n                                TR.extras,\n                                TR.trip_total,\n                                TR.payment_type,\n                                TR.pickup_centroid_latitude,\n                                TR.pickup_centroid_longitude,\n                                TR.pickup_centroid_location,\n                                TR.dropoff_centroid_latitude,\n                                TR.dropoff_centroid_longitude,\n                                TR.dropoff_centroid_location,\n                                CW.avg_daily_wind_speed,\n                                CW.avg_temp_f,\n                                CASE WHEN CW.fog = 1 OR CW.heavy_fog = 1 OR ice_fog = 1 OR mist = 1 THEN 1 ELSE 0 END [fog],\n                                CASE WHEN CW.rain OR CW.drizzle = 1 OR CW.hail = 1 THEN 1 ELSE 0 END [rain]\n                                CASE WHEN CW.snow = 1 OR CW.freezing_rain = 1 OR drifting_snow = 1 THEN 1 ELSE 0 END [snow]\n                                \n                        FROM taxi_rides as TR\n                        LEFT JOIN chicago_weather as CW\n                        ON CAST(TR.trip_start_timestamp AS DATE) = CAST(date AS DATE)\n                        WHERE trip_start_timestamp BETWEEN '2016-02-01' AND '2016-02-29';': syntax error at or near \"[\"\nLINE 21: ..._fog = 1 OR ice_fog = 1 OR mist = 1 THEN 1 ELSE 0 END [fog],\n                                                                  ^\n",
     "output_type": "error",
     "traceback": [
      "\u001b[0;31m---------------------------------------------------------------------------\u001b[0m",
      "\u001b[0;31mProgrammingError\u001b[0m                          Traceback (most recent call last)",
      "\u001b[0;32m/anaconda3/lib/python3.6/site-packages/pandas/io/sql.py\u001b[0m in \u001b[0;36mexecute\u001b[0;34m(self, *args, **kwargs)\u001b[0m\n\u001b[1;32m   1408\u001b[0m             \u001b[0;32melse\u001b[0m\u001b[0;34m:\u001b[0m\u001b[0;34m\u001b[0m\u001b[0m\n\u001b[0;32m-> 1409\u001b[0;31m                 \u001b[0mcur\u001b[0m\u001b[0;34m.\u001b[0m\u001b[0mexecute\u001b[0m\u001b[0;34m(\u001b[0m\u001b[0;34m*\u001b[0m\u001b[0margs\u001b[0m\u001b[0;34m)\u001b[0m\u001b[0;34m\u001b[0m\u001b[0m\n\u001b[0m\u001b[1;32m   1410\u001b[0m             \u001b[0;32mreturn\u001b[0m \u001b[0mcur\u001b[0m\u001b[0;34m\u001b[0m\u001b[0m\n",
      "\u001b[0;31mProgrammingError\u001b[0m: syntax error at or near \"[\"\nLINE 21: ..._fog = 1 OR ice_fog = 1 OR mist = 1 THEN 1 ELSE 0 END [fog],\n                                                                  ^\n",
      "\nDuring handling of the above exception, another exception occurred:\n",
      "\u001b[0;31mDatabaseError\u001b[0m                             Traceback (most recent call last)",
      "\u001b[0;32m<ipython-input-45-34a8244c7075>\u001b[0m in \u001b[0;36m<module>\u001b[0;34m()\u001b[0m\n\u001b[1;32m      1\u001b[0m \u001b[0;31m#approx. 30min to load the whole of 2016 data\u001b[0m\u001b[0;34m\u001b[0m\u001b[0;34m\u001b[0m\u001b[0m\n\u001b[0;32m----> 2\u001b[0;31m \u001b[0mtaxi_weather_df\u001b[0m \u001b[0;34m=\u001b[0m \u001b[0mpd\u001b[0m\u001b[0;34m.\u001b[0m\u001b[0mread_sql_query\u001b[0m\u001b[0;34m(\u001b[0m\u001b[0mtaxi_weather_query\u001b[0m\u001b[0;34m,\u001b[0m \u001b[0mcon\u001b[0m\u001b[0;34m=\u001b[0m\u001b[0mconn\u001b[0m\u001b[0;34m)\u001b[0m\u001b[0;34m\u001b[0m\u001b[0m\n\u001b[0m",
      "\u001b[0;32m/anaconda3/lib/python3.6/site-packages/pandas/io/sql.py\u001b[0m in \u001b[0;36mread_sql_query\u001b[0;34m(sql, con, index_col, coerce_float, params, parse_dates, chunksize)\u001b[0m\n\u001b[1;32m    330\u001b[0m     return pandas_sql.read_query(\n\u001b[1;32m    331\u001b[0m         \u001b[0msql\u001b[0m\u001b[0;34m,\u001b[0m \u001b[0mindex_col\u001b[0m\u001b[0;34m=\u001b[0m\u001b[0mindex_col\u001b[0m\u001b[0;34m,\u001b[0m \u001b[0mparams\u001b[0m\u001b[0;34m=\u001b[0m\u001b[0mparams\u001b[0m\u001b[0;34m,\u001b[0m \u001b[0mcoerce_float\u001b[0m\u001b[0;34m=\u001b[0m\u001b[0mcoerce_float\u001b[0m\u001b[0;34m,\u001b[0m\u001b[0;34m\u001b[0m\u001b[0m\n\u001b[0;32m--> 332\u001b[0;31m         parse_dates=parse_dates, chunksize=chunksize)\n\u001b[0m\u001b[1;32m    333\u001b[0m \u001b[0;34m\u001b[0m\u001b[0m\n\u001b[1;32m    334\u001b[0m \u001b[0;34m\u001b[0m\u001b[0m\n",
      "\u001b[0;32m/anaconda3/lib/python3.6/site-packages/pandas/io/sql.py\u001b[0m in \u001b[0;36mread_query\u001b[0;34m(self, sql, index_col, coerce_float, params, parse_dates, chunksize)\u001b[0m\n\u001b[1;32m   1442\u001b[0m \u001b[0;34m\u001b[0m\u001b[0m\n\u001b[1;32m   1443\u001b[0m         \u001b[0margs\u001b[0m \u001b[0;34m=\u001b[0m \u001b[0m_convert_params\u001b[0m\u001b[0;34m(\u001b[0m\u001b[0msql\u001b[0m\u001b[0;34m,\u001b[0m \u001b[0mparams\u001b[0m\u001b[0;34m)\u001b[0m\u001b[0;34m\u001b[0m\u001b[0m\n\u001b[0;32m-> 1444\u001b[0;31m         \u001b[0mcursor\u001b[0m \u001b[0;34m=\u001b[0m \u001b[0mself\u001b[0m\u001b[0;34m.\u001b[0m\u001b[0mexecute\u001b[0m\u001b[0;34m(\u001b[0m\u001b[0;34m*\u001b[0m\u001b[0margs\u001b[0m\u001b[0;34m)\u001b[0m\u001b[0;34m\u001b[0m\u001b[0m\n\u001b[0m\u001b[1;32m   1445\u001b[0m         \u001b[0mcolumns\u001b[0m \u001b[0;34m=\u001b[0m \u001b[0;34m[\u001b[0m\u001b[0mcol_desc\u001b[0m\u001b[0;34m[\u001b[0m\u001b[0;36m0\u001b[0m\u001b[0;34m]\u001b[0m \u001b[0;32mfor\u001b[0m \u001b[0mcol_desc\u001b[0m \u001b[0;32min\u001b[0m \u001b[0mcursor\u001b[0m\u001b[0;34m.\u001b[0m\u001b[0mdescription\u001b[0m\u001b[0;34m]\u001b[0m\u001b[0;34m\u001b[0m\u001b[0m\n\u001b[1;32m   1446\u001b[0m \u001b[0;34m\u001b[0m\u001b[0m\n",
      "\u001b[0;32m/anaconda3/lib/python3.6/site-packages/pandas/io/sql.py\u001b[0m in \u001b[0;36mexecute\u001b[0;34m(self, *args, **kwargs)\u001b[0m\n\u001b[1;32m   1419\u001b[0m             ex = DatabaseError(\n\u001b[1;32m   1420\u001b[0m                 \"Execution failed on sql '%s': %s\" % (args[0], exc))\n\u001b[0;32m-> 1421\u001b[0;31m             \u001b[0mraise_with_traceback\u001b[0m\u001b[0;34m(\u001b[0m\u001b[0mex\u001b[0m\u001b[0;34m)\u001b[0m\u001b[0;34m\u001b[0m\u001b[0m\n\u001b[0m\u001b[1;32m   1422\u001b[0m \u001b[0;34m\u001b[0m\u001b[0m\n\u001b[1;32m   1423\u001b[0m     \u001b[0;34m@\u001b[0m\u001b[0mstaticmethod\u001b[0m\u001b[0;34m\u001b[0m\u001b[0m\n",
      "\u001b[0;32m/anaconda3/lib/python3.6/site-packages/pandas/compat/__init__.py\u001b[0m in \u001b[0;36mraise_with_traceback\u001b[0;34m(exc, traceback)\u001b[0m\n\u001b[1;32m    383\u001b[0m         \u001b[0;32mif\u001b[0m \u001b[0mtraceback\u001b[0m \u001b[0;34m==\u001b[0m \u001b[0mEllipsis\u001b[0m\u001b[0;34m:\u001b[0m\u001b[0;34m\u001b[0m\u001b[0m\n\u001b[1;32m    384\u001b[0m             \u001b[0m_\u001b[0m\u001b[0;34m,\u001b[0m \u001b[0m_\u001b[0m\u001b[0;34m,\u001b[0m \u001b[0mtraceback\u001b[0m \u001b[0;34m=\u001b[0m \u001b[0msys\u001b[0m\u001b[0;34m.\u001b[0m\u001b[0mexc_info\u001b[0m\u001b[0;34m(\u001b[0m\u001b[0;34m)\u001b[0m\u001b[0;34m\u001b[0m\u001b[0m\n\u001b[0;32m--> 385\u001b[0;31m         \u001b[0;32mraise\u001b[0m \u001b[0mexc\u001b[0m\u001b[0;34m.\u001b[0m\u001b[0mwith_traceback\u001b[0m\u001b[0;34m(\u001b[0m\u001b[0mtraceback\u001b[0m\u001b[0;34m)\u001b[0m\u001b[0;34m\u001b[0m\u001b[0m\n\u001b[0m\u001b[1;32m    386\u001b[0m \u001b[0;32melse\u001b[0m\u001b[0;34m:\u001b[0m\u001b[0;34m\u001b[0m\u001b[0m\n\u001b[1;32m    387\u001b[0m     \u001b[0;31m# this version of raise is a syntax error in Python 3\u001b[0m\u001b[0;34m\u001b[0m\u001b[0;34m\u001b[0m\u001b[0m\n",
      "\u001b[0;32m/anaconda3/lib/python3.6/site-packages/pandas/io/sql.py\u001b[0m in \u001b[0;36mexecute\u001b[0;34m(self, *args, **kwargs)\u001b[0m\n\u001b[1;32m   1407\u001b[0m                 \u001b[0mcur\u001b[0m\u001b[0;34m.\u001b[0m\u001b[0mexecute\u001b[0m\u001b[0;34m(\u001b[0m\u001b[0;34m*\u001b[0m\u001b[0margs\u001b[0m\u001b[0;34m,\u001b[0m \u001b[0;34m**\u001b[0m\u001b[0mkwargs\u001b[0m\u001b[0;34m)\u001b[0m\u001b[0;34m\u001b[0m\u001b[0m\n\u001b[1;32m   1408\u001b[0m             \u001b[0;32melse\u001b[0m\u001b[0;34m:\u001b[0m\u001b[0;34m\u001b[0m\u001b[0m\n\u001b[0;32m-> 1409\u001b[0;31m                 \u001b[0mcur\u001b[0m\u001b[0;34m.\u001b[0m\u001b[0mexecute\u001b[0m\u001b[0;34m(\u001b[0m\u001b[0;34m*\u001b[0m\u001b[0margs\u001b[0m\u001b[0;34m)\u001b[0m\u001b[0;34m\u001b[0m\u001b[0m\n\u001b[0m\u001b[1;32m   1410\u001b[0m             \u001b[0;32mreturn\u001b[0m \u001b[0mcur\u001b[0m\u001b[0;34m\u001b[0m\u001b[0m\n\u001b[1;32m   1411\u001b[0m         \u001b[0;32mexcept\u001b[0m \u001b[0mException\u001b[0m \u001b[0;32mas\u001b[0m \u001b[0mexc\u001b[0m\u001b[0;34m:\u001b[0m\u001b[0;34m\u001b[0m\u001b[0m\n",
      "\u001b[0;31mDatabaseError\u001b[0m: Execution failed on sql 'SELECT TR.trip_start_timestamp,\n                                TR.trip_end_timestamp,\n                                TR.trip_seconds,\n                                TR.trip_miles,\n                                TR.pickup_community_area,\n                                TR.dropoff_community_area,\n                                TR.fare,\n                                TR.tips,\n                                TR.tolls,\n                                TR.extras,\n                                TR.trip_total,\n                                TR.payment_type,\n                                TR.pickup_centroid_latitude,\n                                TR.pickup_centroid_longitude,\n                                TR.pickup_centroid_location,\n                                TR.dropoff_centroid_latitude,\n                                TR.dropoff_centroid_longitude,\n                                TR.dropoff_centroid_location,\n                                CW.avg_daily_wind_speed,\n                                CW.avg_temp_f,\n                                CASE WHEN CW.fog = 1 OR CW.heavy_fog = 1 OR ice_fog = 1 OR mist = 1 THEN 1 ELSE 0 END [fog],\n                                CASE WHEN CW.rain OR CW.drizzle = 1 OR CW.hail = 1 THEN 1 ELSE 0 END [rain]\n                                CASE WHEN CW.snow = 1 OR CW.freezing_rain = 1 OR drifting_snow = 1 THEN 1 ELSE 0 END [snow]\n                                \n                        FROM taxi_rides as TR\n                        LEFT JOIN chicago_weather as CW\n                        ON CAST(TR.trip_start_timestamp AS DATE) = CAST(date AS DATE)\n                        WHERE trip_start_timestamp BETWEEN '2016-02-01' AND '2016-02-29';': syntax error at or near \"[\"\nLINE 21: ..._fog = 1 OR ice_fog = 1 OR mist = 1 THEN 1 ELSE 0 END [fog],\n                                                                  ^\n"
     ]
    }
   ],
   "source": [
    "#approx. 30min to load the whole of 2016 data\n",
    "taxi_weather_df = pd.read_sql_query(taxi_weather_query, con=conn)"
   ]
  },
  {
   "cell_type": "code",
   "execution_count": 14,
   "metadata": {
    "ExecuteTime": {
     "end_time": "2018-09-04T18:53:19.906222Z",
     "start_time": "2018-09-04T18:53:19.866991Z"
    }
   },
   "outputs": [
    {
     "data": {
      "text/html": [
       "<div>\n",
       "<style scoped>\n",
       "    .dataframe tbody tr th:only-of-type {\n",
       "        vertical-align: middle;\n",
       "    }\n",
       "\n",
       "    .dataframe tbody tr th {\n",
       "        vertical-align: top;\n",
       "    }\n",
       "\n",
       "    .dataframe thead th {\n",
       "        text-align: right;\n",
       "    }\n",
       "</style>\n",
       "<table border=\"1\" class=\"dataframe\">\n",
       "  <thead>\n",
       "    <tr style=\"text-align: right;\">\n",
       "      <th></th>\n",
       "      <th>trip_id</th>\n",
       "      <th>taxi_id</th>\n",
       "      <th>trip_start_timestamp</th>\n",
       "      <th>trip_end_timestamp</th>\n",
       "      <th>trip_seconds</th>\n",
       "      <th>trip_miles</th>\n",
       "      <th>pickup_census_tract</th>\n",
       "      <th>pickup_community_area</th>\n",
       "      <th>dropoff_census_tract</th>\n",
       "      <th>dropoff_community_area</th>\n",
       "      <th>...</th>\n",
       "      <th>extras</th>\n",
       "      <th>trip_total</th>\n",
       "      <th>payment_type</th>\n",
       "      <th>company</th>\n",
       "      <th>pickup_centroid_latitude</th>\n",
       "      <th>pickup_centroid_longitude</th>\n",
       "      <th>pickup_centroid_location</th>\n",
       "      <th>dropoff_centroid_latitude</th>\n",
       "      <th>dropoff_centroid_longitude</th>\n",
       "      <th>dropoff_centroid_location</th>\n",
       "    </tr>\n",
       "  </thead>\n",
       "  <tbody>\n",
       "    <tr>\n",
       "      <th>0</th>\n",
       "      <td>6ac808261853e84e4ba2d6fb9eda562f1bb6a474</td>\n",
       "      <td>a327a815ec47517af7b98478563a9d330f9e1d1b5c1da2...</td>\n",
       "      <td>2016-02-19 23:45:00</td>\n",
       "      <td>2016-02-19 23:45:00</td>\n",
       "      <td>0.0</td>\n",
       "      <td>0.0</td>\n",
       "      <td>None</td>\n",
       "      <td>None</td>\n",
       "      <td>None</td>\n",
       "      <td>None</td>\n",
       "      <td>...</td>\n",
       "      <td>$0.00</td>\n",
       "      <td>$2.00</td>\n",
       "      <td>Cash</td>\n",
       "      <td>None</td>\n",
       "      <td>NaN</td>\n",
       "      <td>NaN</td>\n",
       "      <td>None</td>\n",
       "      <td>NaN</td>\n",
       "      <td>NaN</td>\n",
       "      <td>None</td>\n",
       "    </tr>\n",
       "    <tr>\n",
       "      <th>1</th>\n",
       "      <td>70b3336ad32c6567ce68481f01df1c08300629dd</td>\n",
       "      <td>9e923176b8dde7f338d9aeb93b1c45d198ddf767ac6985...</td>\n",
       "      <td>2016-02-19 16:45:00</td>\n",
       "      <td>2016-02-19 16:45:00</td>\n",
       "      <td>0.0</td>\n",
       "      <td>0.0</td>\n",
       "      <td>None</td>\n",
       "      <td>None</td>\n",
       "      <td>None</td>\n",
       "      <td>None</td>\n",
       "      <td>...</td>\n",
       "      <td>$0.00</td>\n",
       "      <td>$6.25</td>\n",
       "      <td>Cash</td>\n",
       "      <td>Chicago Elite Cab Corp. (Chicago Carriag</td>\n",
       "      <td>NaN</td>\n",
       "      <td>NaN</td>\n",
       "      <td>None</td>\n",
       "      <td>NaN</td>\n",
       "      <td>NaN</td>\n",
       "      <td>None</td>\n",
       "    </tr>\n",
       "    <tr>\n",
       "      <th>2</th>\n",
       "      <td>742f9ee1fd009608483003471f7d5f588f9c8769</td>\n",
       "      <td>a12c883fec0aa569be9761fda97c2be806723243ab9090...</td>\n",
       "      <td>2016-02-10 20:45:00</td>\n",
       "      <td>2016-02-10 20:45:00</td>\n",
       "      <td>0.0</td>\n",
       "      <td>0.0</td>\n",
       "      <td>None</td>\n",
       "      <td>None</td>\n",
       "      <td>None</td>\n",
       "      <td>None</td>\n",
       "      <td>...</td>\n",
       "      <td>$0.00</td>\n",
       "      <td>$51.90</td>\n",
       "      <td>Credit Card</td>\n",
       "      <td>Chicago Elite Cab Corp. (Chicago Carriag</td>\n",
       "      <td>NaN</td>\n",
       "      <td>NaN</td>\n",
       "      <td>None</td>\n",
       "      <td>NaN</td>\n",
       "      <td>NaN</td>\n",
       "      <td>None</td>\n",
       "    </tr>\n",
       "    <tr>\n",
       "      <th>3</th>\n",
       "      <td>01898f5cf6a355d024189b29b43ab626429e13aa</td>\n",
       "      <td>ba5412a204ac0bee645a854a7eb69abd3df912fbaa9857...</td>\n",
       "      <td>2016-02-15 06:15:00</td>\n",
       "      <td>2016-02-15 06:15:00</td>\n",
       "      <td>300.0</td>\n",
       "      <td>0.8</td>\n",
       "      <td>None</td>\n",
       "      <td>None</td>\n",
       "      <td>None</td>\n",
       "      <td>None</td>\n",
       "      <td>...</td>\n",
       "      <td>$0.00</td>\n",
       "      <td>$7.50</td>\n",
       "      <td>Credit Card</td>\n",
       "      <td>None</td>\n",
       "      <td>NaN</td>\n",
       "      <td>NaN</td>\n",
       "      <td>None</td>\n",
       "      <td>NaN</td>\n",
       "      <td>NaN</td>\n",
       "      <td>None</td>\n",
       "    </tr>\n",
       "    <tr>\n",
       "      <th>4</th>\n",
       "      <td>0176ae15075ad0765349bf8504986825b483c7f0</td>\n",
       "      <td>49c7419cb833c4208dbc10ac896577053817af7ced62eb...</td>\n",
       "      <td>2016-02-19 19:30:00</td>\n",
       "      <td>2016-02-19 19:30:00</td>\n",
       "      <td>0.0</td>\n",
       "      <td>0.0</td>\n",
       "      <td>None</td>\n",
       "      <td>None</td>\n",
       "      <td>None</td>\n",
       "      <td>None</td>\n",
       "      <td>...</td>\n",
       "      <td>$0.00</td>\n",
       "      <td>$9.00</td>\n",
       "      <td>Credit Card</td>\n",
       "      <td>Chicago Elite Cab Corp. (Chicago Carriag</td>\n",
       "      <td>NaN</td>\n",
       "      <td>NaN</td>\n",
       "      <td>None</td>\n",
       "      <td>NaN</td>\n",
       "      <td>NaN</td>\n",
       "      <td>None</td>\n",
       "    </tr>\n",
       "  </tbody>\n",
       "</table>\n",
       "<p>5 rows × 23 columns</p>\n",
       "</div>"
      ],
      "text/plain": [
       "                                    trip_id  \\\n",
       "0  6ac808261853e84e4ba2d6fb9eda562f1bb6a474   \n",
       "1  70b3336ad32c6567ce68481f01df1c08300629dd   \n",
       "2  742f9ee1fd009608483003471f7d5f588f9c8769   \n",
       "3  01898f5cf6a355d024189b29b43ab626429e13aa   \n",
       "4  0176ae15075ad0765349bf8504986825b483c7f0   \n",
       "\n",
       "                                             taxi_id trip_start_timestamp  \\\n",
       "0  a327a815ec47517af7b98478563a9d330f9e1d1b5c1da2...  2016-02-19 23:45:00   \n",
       "1  9e923176b8dde7f338d9aeb93b1c45d198ddf767ac6985...  2016-02-19 16:45:00   \n",
       "2  a12c883fec0aa569be9761fda97c2be806723243ab9090...  2016-02-10 20:45:00   \n",
       "3  ba5412a204ac0bee645a854a7eb69abd3df912fbaa9857...  2016-02-15 06:15:00   \n",
       "4  49c7419cb833c4208dbc10ac896577053817af7ced62eb...  2016-02-19 19:30:00   \n",
       "\n",
       "   trip_end_timestamp  trip_seconds  trip_miles pickup_census_tract  \\\n",
       "0 2016-02-19 23:45:00           0.0         0.0                None   \n",
       "1 2016-02-19 16:45:00           0.0         0.0                None   \n",
       "2 2016-02-10 20:45:00           0.0         0.0                None   \n",
       "3 2016-02-15 06:15:00         300.0         0.8                None   \n",
       "4 2016-02-19 19:30:00           0.0         0.0                None   \n",
       "\n",
       "  pickup_community_area dropoff_census_tract dropoff_community_area  \\\n",
       "0                  None                 None                   None   \n",
       "1                  None                 None                   None   \n",
       "2                  None                 None                   None   \n",
       "3                  None                 None                   None   \n",
       "4                  None                 None                   None   \n",
       "\n",
       "             ...            extras trip_total payment_type  \\\n",
       "0            ...             $0.00      $2.00         Cash   \n",
       "1            ...             $0.00      $6.25         Cash   \n",
       "2            ...             $0.00     $51.90  Credit Card   \n",
       "3            ...             $0.00      $7.50  Credit Card   \n",
       "4            ...             $0.00      $9.00  Credit Card   \n",
       "\n",
       "                                    company pickup_centroid_latitude  \\\n",
       "0                                      None                      NaN   \n",
       "1  Chicago Elite Cab Corp. (Chicago Carriag                      NaN   \n",
       "2  Chicago Elite Cab Corp. (Chicago Carriag                      NaN   \n",
       "3                                      None                      NaN   \n",
       "4  Chicago Elite Cab Corp. (Chicago Carriag                      NaN   \n",
       "\n",
       "  pickup_centroid_longitude pickup_centroid_location  \\\n",
       "0                       NaN                     None   \n",
       "1                       NaN                     None   \n",
       "2                       NaN                     None   \n",
       "3                       NaN                     None   \n",
       "4                       NaN                     None   \n",
       "\n",
       "   dropoff_centroid_latitude  dropoff_centroid_longitude  \\\n",
       "0                        NaN                         NaN   \n",
       "1                        NaN                         NaN   \n",
       "2                        NaN                         NaN   \n",
       "3                        NaN                         NaN   \n",
       "4                        NaN                         NaN   \n",
       "\n",
       "  dropoff_centroid_location  \n",
       "0                      None  \n",
       "1                      None  \n",
       "2                      None  \n",
       "3                      None  \n",
       "4                      None  \n",
       "\n",
       "[5 rows x 23 columns]"
      ]
     },
     "execution_count": 14,
     "metadata": {},
     "output_type": "execute_result"
    }
   ],
   "source": [
    "taxi_weather_df.head()"
   ]
  },
  {
   "cell_type": "code",
   "execution_count": 40,
   "metadata": {
    "ExecuteTime": {
     "end_time": "2018-09-04T19:02:04.764205Z",
     "start_time": "2018-09-04T19:02:02.845624Z"
    }
   },
   "outputs": [
    {
     "name": "stdout",
     "output_type": "stream",
     "text": [
      "<class 'pandas.core.frame.DataFrame'>\n",
      "Int64Index: 708015 entries, 0 to 1697004\n",
      "Data columns (total 23 columns):\n",
      "trip_id                       708015 non-null object\n",
      "taxi_id                       708015 non-null object\n",
      "trip_start_timestamp          708015 non-null datetime64[ns]\n",
      "trip_end_timestamp            707920 non-null datetime64[ns]\n",
      "trip_seconds                  707889 non-null float64\n",
      "trip_miles                    708013 non-null float64\n",
      "pickup_census_tract           10146 non-null object\n",
      "pickup_community_area         0 non-null object\n",
      "dropoff_census_tract          425212 non-null object\n",
      "dropoff_community_area        396866 non-null object\n",
      "fare                          708010 non-null object\n",
      "tips                          708010 non-null object\n",
      "tolls                         708010 non-null object\n",
      "extras                        708010 non-null object\n",
      "trip_total                    708010 non-null object\n",
      "payment_type                  708015 non-null object\n",
      "company                       440375 non-null object\n",
      "pickup_centroid_latitude      425213 non-null float64\n",
      "pickup_centroid_longitude     425213 non-null float64\n",
      "pickup_centroid_location      425213 non-null object\n",
      "dropoff_centroid_latitude     396866 non-null float64\n",
      "dropoff_centroid_longitude    396866 non-null float64\n",
      "dropoff_centroid_location     396866 non-null object\n",
      "dtypes: datetime64[ns](2), float64(6), object(15)\n",
      "memory usage: 129.6+ MB\n"
     ]
    }
   ],
   "source": [
    "taxi_weather_df[taxi_weather_df['pickup_community_area'].isnull()].info()\n",
    "\n"
   ]
  },
  {
   "cell_type": "code",
   "execution_count": 15,
   "metadata": {
    "ExecuteTime": {
     "end_time": "2018-09-04T18:53:19.913577Z",
     "start_time": "2018-09-04T18:53:19.908723Z"
    }
   },
   "outputs": [
    {
     "data": {
      "text/plain": [
       "Index(['trip_id', 'taxi_id', 'trip_start_timestamp', 'trip_end_timestamp',\n",
       "       'trip_seconds', 'trip_miles', 'pickup_census_tract',\n",
       "       'pickup_community_area', 'dropoff_census_tract',\n",
       "       'dropoff_community_area', 'fare', 'tips', 'tolls', 'extras',\n",
       "       'trip_total', 'payment_type', 'company', 'pickup_centroid_latitude',\n",
       "       'pickup_centroid_longitude', 'pickup_centroid_location',\n",
       "       'dropoff_centroid_latitude', 'dropoff_centroid_longitude',\n",
       "       'dropoff_centroid_location'],\n",
       "      dtype='object')"
      ]
     },
     "execution_count": 15,
     "metadata": {},
     "output_type": "execute_result"
    }
   ],
   "source": [
    "taxi_weather_df.columns"
   ]
  },
  {
   "cell_type": "markdown",
   "metadata": {},
   "source": [
    "### Drop unnecessary columns and update geolocation point columns for pickup and dropoff using shapely"
   ]
  },
  {
   "cell_type": "code",
   "execution_count": 19,
   "metadata": {
    "ExecuteTime": {
     "end_time": "2018-09-04T18:53:20.386548Z",
     "start_time": "2018-09-04T18:53:19.990665Z"
    }
   },
   "outputs": [],
   "source": [
    "taxi_weather_df.drop(columns=['trip_id','taxi_id', 'company', 'pickup_census_tract', 'dropoff_census_tract', 'pickup_community_area','dropoff_community_area'], inplace=True)"
   ]
  },
  {
   "cell_type": "code",
   "execution_count": 20,
   "metadata": {
    "ExecuteTime": {
     "end_time": "2018-09-04T18:53:49.149744Z",
     "start_time": "2018-09-04T18:53:20.388650Z"
    }
   },
   "outputs": [],
   "source": [
    "#replace pickup_centroid_location and dropoff_centroid_location columns with point coordinates using shapely\n",
    "pickup_geopoint = list(zip(taxi_weather_df['pickup_centroid_longitude'], taxi_weather_df['pickup_centroid_latitude']))\n",
    "dropoff_geopoint = list(zip(taxi_weather_df['dropoff_centroid_longitude'], taxi_weather_df['dropoff_centroid_latitude']))\n",
    "\n",
    "taxi_weather_df['pickup_centroid_location'] = pickup_geopoint\n",
    "taxi_weather_df['dropoff_centroid_location'] = dropoff_geopoint\n",
    "\n",
    "taxi_weather_df['pickup_centroid_location'] = taxi_weather_df['pickup_centroid_location'].apply(Point)\n",
    "taxi_weather_df['dropoff_centroid_location'] = taxi_weather_df['dropoff_centroid_location'].apply(Point)\n"
   ]
  },
  {
   "cell_type": "code",
   "execution_count": 21,
   "metadata": {
    "ExecuteTime": {
     "end_time": "2018-09-04T18:53:49.172836Z",
     "start_time": "2018-09-04T18:53:49.151936Z"
    }
   },
   "outputs": [
    {
     "data": {
      "text/html": [
       "<div>\n",
       "<style scoped>\n",
       "    .dataframe tbody tr th:only-of-type {\n",
       "        vertical-align: middle;\n",
       "    }\n",
       "\n",
       "    .dataframe tbody tr th {\n",
       "        vertical-align: top;\n",
       "    }\n",
       "\n",
       "    .dataframe thead th {\n",
       "        text-align: right;\n",
       "    }\n",
       "</style>\n",
       "<table border=\"1\" class=\"dataframe\">\n",
       "  <thead>\n",
       "    <tr style=\"text-align: right;\">\n",
       "      <th></th>\n",
       "      <th>trip_start_timestamp</th>\n",
       "      <th>trip_end_timestamp</th>\n",
       "      <th>trip_seconds</th>\n",
       "      <th>trip_miles</th>\n",
       "      <th>fare</th>\n",
       "      <th>tips</th>\n",
       "      <th>tolls</th>\n",
       "      <th>extras</th>\n",
       "      <th>trip_total</th>\n",
       "      <th>payment_type</th>\n",
       "      <th>pickup_centroid_latitude</th>\n",
       "      <th>pickup_centroid_longitude</th>\n",
       "      <th>pickup_centroid_location</th>\n",
       "      <th>dropoff_centroid_latitude</th>\n",
       "      <th>dropoff_centroid_longitude</th>\n",
       "      <th>dropoff_centroid_location</th>\n",
       "    </tr>\n",
       "  </thead>\n",
       "  <tbody>\n",
       "    <tr>\n",
       "      <th>0</th>\n",
       "      <td>2016-02-19 23:45:00</td>\n",
       "      <td>2016-02-19 23:45:00</td>\n",
       "      <td>0.0</td>\n",
       "      <td>0.0</td>\n",
       "      <td>$2.00</td>\n",
       "      <td>$0.00</td>\n",
       "      <td>$0.00</td>\n",
       "      <td>$0.00</td>\n",
       "      <td>$2.00</td>\n",
       "      <td>Cash</td>\n",
       "      <td>NaN</td>\n",
       "      <td>NaN</td>\n",
       "      <td>POINT (nan nan)</td>\n",
       "      <td>NaN</td>\n",
       "      <td>NaN</td>\n",
       "      <td>POINT (nan nan)</td>\n",
       "    </tr>\n",
       "    <tr>\n",
       "      <th>1</th>\n",
       "      <td>2016-02-19 16:45:00</td>\n",
       "      <td>2016-02-19 16:45:00</td>\n",
       "      <td>0.0</td>\n",
       "      <td>0.0</td>\n",
       "      <td>$6.25</td>\n",
       "      <td>$0.00</td>\n",
       "      <td>$0.00</td>\n",
       "      <td>$0.00</td>\n",
       "      <td>$6.25</td>\n",
       "      <td>Cash</td>\n",
       "      <td>NaN</td>\n",
       "      <td>NaN</td>\n",
       "      <td>POINT (nan nan)</td>\n",
       "      <td>NaN</td>\n",
       "      <td>NaN</td>\n",
       "      <td>POINT (nan nan)</td>\n",
       "    </tr>\n",
       "    <tr>\n",
       "      <th>2</th>\n",
       "      <td>2016-02-10 20:45:00</td>\n",
       "      <td>2016-02-10 20:45:00</td>\n",
       "      <td>0.0</td>\n",
       "      <td>0.0</td>\n",
       "      <td>$43.25</td>\n",
       "      <td>$8.65</td>\n",
       "      <td>$0.00</td>\n",
       "      <td>$0.00</td>\n",
       "      <td>$51.90</td>\n",
       "      <td>Credit Card</td>\n",
       "      <td>NaN</td>\n",
       "      <td>NaN</td>\n",
       "      <td>POINT (nan nan)</td>\n",
       "      <td>NaN</td>\n",
       "      <td>NaN</td>\n",
       "      <td>POINT (nan nan)</td>\n",
       "    </tr>\n",
       "    <tr>\n",
       "      <th>3</th>\n",
       "      <td>2016-02-15 06:15:00</td>\n",
       "      <td>2016-02-15 06:15:00</td>\n",
       "      <td>300.0</td>\n",
       "      <td>0.8</td>\n",
       "      <td>$5.50</td>\n",
       "      <td>$2.00</td>\n",
       "      <td>$0.00</td>\n",
       "      <td>$0.00</td>\n",
       "      <td>$7.50</td>\n",
       "      <td>Credit Card</td>\n",
       "      <td>NaN</td>\n",
       "      <td>NaN</td>\n",
       "      <td>POINT (nan nan)</td>\n",
       "      <td>NaN</td>\n",
       "      <td>NaN</td>\n",
       "      <td>POINT (nan nan)</td>\n",
       "    </tr>\n",
       "    <tr>\n",
       "      <th>4</th>\n",
       "      <td>2016-02-19 19:30:00</td>\n",
       "      <td>2016-02-19 19:30:00</td>\n",
       "      <td>0.0</td>\n",
       "      <td>0.0</td>\n",
       "      <td>$7.50</td>\n",
       "      <td>$1.50</td>\n",
       "      <td>$0.00</td>\n",
       "      <td>$0.00</td>\n",
       "      <td>$9.00</td>\n",
       "      <td>Credit Card</td>\n",
       "      <td>NaN</td>\n",
       "      <td>NaN</td>\n",
       "      <td>POINT (nan nan)</td>\n",
       "      <td>NaN</td>\n",
       "      <td>NaN</td>\n",
       "      <td>POINT (nan nan)</td>\n",
       "    </tr>\n",
       "  </tbody>\n",
       "</table>\n",
       "</div>"
      ],
      "text/plain": [
       "  trip_start_timestamp  trip_end_timestamp  trip_seconds  trip_miles    fare  \\\n",
       "0  2016-02-19 23:45:00 2016-02-19 23:45:00           0.0         0.0   $2.00   \n",
       "1  2016-02-19 16:45:00 2016-02-19 16:45:00           0.0         0.0   $6.25   \n",
       "2  2016-02-10 20:45:00 2016-02-10 20:45:00           0.0         0.0  $43.25   \n",
       "3  2016-02-15 06:15:00 2016-02-15 06:15:00         300.0         0.8   $5.50   \n",
       "4  2016-02-19 19:30:00 2016-02-19 19:30:00           0.0         0.0   $7.50   \n",
       "\n",
       "    tips  tolls extras trip_total payment_type  pickup_centroid_latitude  \\\n",
       "0  $0.00  $0.00  $0.00      $2.00         Cash                       NaN   \n",
       "1  $0.00  $0.00  $0.00      $6.25         Cash                       NaN   \n",
       "2  $8.65  $0.00  $0.00     $51.90  Credit Card                       NaN   \n",
       "3  $2.00  $0.00  $0.00      $7.50  Credit Card                       NaN   \n",
       "4  $1.50  $0.00  $0.00      $9.00  Credit Card                       NaN   \n",
       "\n",
       "   pickup_centroid_longitude pickup_centroid_location  \\\n",
       "0                        NaN          POINT (nan nan)   \n",
       "1                        NaN          POINT (nan nan)   \n",
       "2                        NaN          POINT (nan nan)   \n",
       "3                        NaN          POINT (nan nan)   \n",
       "4                        NaN          POINT (nan nan)   \n",
       "\n",
       "   dropoff_centroid_latitude  dropoff_centroid_longitude  \\\n",
       "0                        NaN                         NaN   \n",
       "1                        NaN                         NaN   \n",
       "2                        NaN                         NaN   \n",
       "3                        NaN                         NaN   \n",
       "4                        NaN                         NaN   \n",
       "\n",
       "  dropoff_centroid_location  \n",
       "0           POINT (nan nan)  \n",
       "1           POINT (nan nan)  \n",
       "2           POINT (nan nan)  \n",
       "3           POINT (nan nan)  \n",
       "4           POINT (nan nan)  "
      ]
     },
     "execution_count": 21,
     "metadata": {},
     "output_type": "execute_result"
    }
   ],
   "source": [
    "taxi_weather_df.head()"
   ]
  },
  {
   "cell_type": "code",
   "execution_count": 22,
   "metadata": {
    "ExecuteTime": {
     "end_time": "2018-09-04T18:53:49.177726Z",
     "start_time": "2018-09-04T18:53:49.174989Z"
    }
   },
   "outputs": [],
   "source": [
    "# taxi_weather_df['pickup_centroid_location'].dropna(inplace=True)\n",
    "# taxi_weather_df['dropoff_centroid_location'].dropna(inplace=True)"
   ]
  },
  {
   "cell_type": "code",
   "execution_count": 23,
   "metadata": {
    "ExecuteTime": {
     "end_time": "2018-09-04T18:53:49.540286Z",
     "start_time": "2018-09-04T18:53:49.179696Z"
    }
   },
   "outputs": [],
   "source": [
    "taxi_weather_gdf = gpd.GeoDataFrame(taxi_weather_df, geometry='pickup_centroid_location')"
   ]
  },
  {
   "cell_type": "code",
   "execution_count": 24,
   "metadata": {
    "ExecuteTime": {
     "end_time": "2018-09-04T18:53:49.570510Z",
     "start_time": "2018-09-04T18:53:49.543130Z"
    }
   },
   "outputs": [
    {
     "data": {
      "text/html": [
       "<div>\n",
       "<style scoped>\n",
       "    .dataframe tbody tr th:only-of-type {\n",
       "        vertical-align: middle;\n",
       "    }\n",
       "\n",
       "    .dataframe tbody tr th {\n",
       "        vertical-align: top;\n",
       "    }\n",
       "\n",
       "    .dataframe thead th {\n",
       "        text-align: right;\n",
       "    }\n",
       "</style>\n",
       "<table border=\"1\" class=\"dataframe\">\n",
       "  <thead>\n",
       "    <tr style=\"text-align: right;\">\n",
       "      <th></th>\n",
       "      <th>trip_start_timestamp</th>\n",
       "      <th>trip_end_timestamp</th>\n",
       "      <th>trip_seconds</th>\n",
       "      <th>trip_miles</th>\n",
       "      <th>fare</th>\n",
       "      <th>tips</th>\n",
       "      <th>tolls</th>\n",
       "      <th>extras</th>\n",
       "      <th>trip_total</th>\n",
       "      <th>payment_type</th>\n",
       "      <th>pickup_centroid_latitude</th>\n",
       "      <th>pickup_centroid_longitude</th>\n",
       "      <th>pickup_centroid_location</th>\n",
       "      <th>dropoff_centroid_latitude</th>\n",
       "      <th>dropoff_centroid_longitude</th>\n",
       "      <th>dropoff_centroid_location</th>\n",
       "    </tr>\n",
       "  </thead>\n",
       "  <tbody>\n",
       "    <tr>\n",
       "      <th>1697004</th>\n",
       "      <td>2016-02-16 18:15:00</td>\n",
       "      <td>2016-02-16 18:30:00</td>\n",
       "      <td>900.0</td>\n",
       "      <td>1.30</td>\n",
       "      <td>$9.50</td>\n",
       "      <td>$0.00</td>\n",
       "      <td>$0.00</td>\n",
       "      <td>$1.00</td>\n",
       "      <td>$10.50</td>\n",
       "      <td>Cash</td>\n",
       "      <td>NaN</td>\n",
       "      <td>NaN</td>\n",
       "      <td>POINT (nan nan)</td>\n",
       "      <td>NaN</td>\n",
       "      <td>NaN</td>\n",
       "      <td>POINT (nan nan)</td>\n",
       "    </tr>\n",
       "    <tr>\n",
       "      <th>1697005</th>\n",
       "      <td>2016-02-04 08:15:00</td>\n",
       "      <td>2016-02-04 08:30:00</td>\n",
       "      <td>420.0</td>\n",
       "      <td>0.94</td>\n",
       "      <td>$6.75</td>\n",
       "      <td>$0.00</td>\n",
       "      <td>$0.00</td>\n",
       "      <td>$0.00</td>\n",
       "      <td>$6.75</td>\n",
       "      <td>Cash</td>\n",
       "      <td>41.885300</td>\n",
       "      <td>-87.642808</td>\n",
       "      <td>POINT (-87.64280846600001 41.885300022)</td>\n",
       "      <td>41.884987</td>\n",
       "      <td>-87.620993</td>\n",
       "      <td>POINT (-87.62099291299999 41.884987192)</td>\n",
       "    </tr>\n",
       "    <tr>\n",
       "      <th>1697006</th>\n",
       "      <td>2016-02-24 06:30:00</td>\n",
       "      <td>2016-02-24 06:30:00</td>\n",
       "      <td>120.0</td>\n",
       "      <td>0.22</td>\n",
       "      <td>$4.00</td>\n",
       "      <td>$0.00</td>\n",
       "      <td>$0.00</td>\n",
       "      <td>$0.00</td>\n",
       "      <td>$4.00</td>\n",
       "      <td>Cash</td>\n",
       "      <td>41.898332</td>\n",
       "      <td>-87.620763</td>\n",
       "      <td>POINT (-87.620762865 41.898331794)</td>\n",
       "      <td>41.898332</td>\n",
       "      <td>-87.620763</td>\n",
       "      <td>POINT (-87.620762865 41.898331794)</td>\n",
       "    </tr>\n",
       "    <tr>\n",
       "      <th>1697007</th>\n",
       "      <td>2016-02-10 17:45:00</td>\n",
       "      <td>2016-02-10 17:45:00</td>\n",
       "      <td>240.0</td>\n",
       "      <td>0.65</td>\n",
       "      <td>$5.50</td>\n",
       "      <td>$0.00</td>\n",
       "      <td>$0.00</td>\n",
       "      <td>$0.00</td>\n",
       "      <td>$5.50</td>\n",
       "      <td>Cash</td>\n",
       "      <td>41.902788</td>\n",
       "      <td>-87.626146</td>\n",
       "      <td>POINT (-87.62614558999999 41.902788048)</td>\n",
       "      <td>41.899156</td>\n",
       "      <td>-87.626211</td>\n",
       "      <td>POINT (-87.626210532 41.899155613)</td>\n",
       "    </tr>\n",
       "    <tr>\n",
       "      <th>1697008</th>\n",
       "      <td>2016-02-26 14:30:00</td>\n",
       "      <td>2016-02-26 15:15:00</td>\n",
       "      <td>2160.0</td>\n",
       "      <td>16.41</td>\n",
       "      <td>$41.25</td>\n",
       "      <td>$11.31</td>\n",
       "      <td>$0.00</td>\n",
       "      <td>$4.00</td>\n",
       "      <td>$56.56</td>\n",
       "      <td>Credit Card</td>\n",
       "      <td>41.979071</td>\n",
       "      <td>-87.903040</td>\n",
       "      <td>POINT (-87.90303966099999 41.97907082)</td>\n",
       "      <td>41.885300</td>\n",
       "      <td>-87.642808</td>\n",
       "      <td>POINT (-87.64280846600001 41.885300022)</td>\n",
       "    </tr>\n",
       "  </tbody>\n",
       "</table>\n",
       "</div>"
      ],
      "text/plain": [
       "        trip_start_timestamp  trip_end_timestamp  trip_seconds  trip_miles  \\\n",
       "1697004  2016-02-16 18:15:00 2016-02-16 18:30:00         900.0        1.30   \n",
       "1697005  2016-02-04 08:15:00 2016-02-04 08:30:00         420.0        0.94   \n",
       "1697006  2016-02-24 06:30:00 2016-02-24 06:30:00         120.0        0.22   \n",
       "1697007  2016-02-10 17:45:00 2016-02-10 17:45:00         240.0        0.65   \n",
       "1697008  2016-02-26 14:30:00 2016-02-26 15:15:00        2160.0       16.41   \n",
       "\n",
       "           fare    tips  tolls extras trip_total payment_type  \\\n",
       "1697004   $9.50   $0.00  $0.00  $1.00     $10.50         Cash   \n",
       "1697005   $6.75   $0.00  $0.00  $0.00      $6.75         Cash   \n",
       "1697006   $4.00   $0.00  $0.00  $0.00      $4.00         Cash   \n",
       "1697007   $5.50   $0.00  $0.00  $0.00      $5.50         Cash   \n",
       "1697008  $41.25  $11.31  $0.00  $4.00     $56.56  Credit Card   \n",
       "\n",
       "         pickup_centroid_latitude  pickup_centroid_longitude  \\\n",
       "1697004                       NaN                        NaN   \n",
       "1697005                 41.885300                 -87.642808   \n",
       "1697006                 41.898332                 -87.620763   \n",
       "1697007                 41.902788                 -87.626146   \n",
       "1697008                 41.979071                 -87.903040   \n",
       "\n",
       "                        pickup_centroid_location  dropoff_centroid_latitude  \\\n",
       "1697004                          POINT (nan nan)                        NaN   \n",
       "1697005  POINT (-87.64280846600001 41.885300022)                  41.884987   \n",
       "1697006       POINT (-87.620762865 41.898331794)                  41.898332   \n",
       "1697007  POINT (-87.62614558999999 41.902788048)                  41.899156   \n",
       "1697008   POINT (-87.90303966099999 41.97907082)                  41.885300   \n",
       "\n",
       "         dropoff_centroid_longitude                dropoff_centroid_location  \n",
       "1697004                         NaN                          POINT (nan nan)  \n",
       "1697005                  -87.620993  POINT (-87.62099291299999 41.884987192)  \n",
       "1697006                  -87.620763       POINT (-87.620762865 41.898331794)  \n",
       "1697007                  -87.626211       POINT (-87.626210532 41.899155613)  \n",
       "1697008                  -87.642808  POINT (-87.64280846600001 41.885300022)  "
      ]
     },
     "execution_count": 24,
     "metadata": {},
     "output_type": "execute_result"
    }
   ],
   "source": [
    "taxi_weather_gdf.tail()"
   ]
  },
  {
   "cell_type": "code",
   "execution_count": null,
   "metadata": {},
   "outputs": [],
   "source": []
  },
  {
   "cell_type": "code",
   "execution_count": 25,
   "metadata": {
    "ExecuteTime": {
     "end_time": "2018-09-04T18:54:54.216489Z",
     "start_time": "2018-09-04T18:53:49.572512Z"
    },
    "scrolled": false
   },
   "outputs": [
    {
     "data": {
      "image/png": "[encoded data removed]",
      "text/plain": [
       "<matplotlib.figure.Figure at 0x13d41be48>"
      ]
     },
     "metadata": {},
     "output_type": "display_data"
    }
   ],
   "source": [
    "# df = geopandas.read_file(geopandas.datasets.get_path('nybb'))\n",
    "# world = gpd.read_file(gpd.datasets.get_path('naturalearth_lowres'))\n",
    "# # We restrict to North America.\n",
    "# ax = world[world.continent == 'North America'].plot(\n",
    "#     color='white', edgecolor='blue')\n",
    "\n",
    "# # We can now plot our GeoDataFrame.\n",
    "# taxi_weather_gdf.plot(ax=ax, color='red')\n",
    "# plt.show()\n",
    "\n",
    "taxi_weather_gdf.plot(figsize=(10, 10), alpha=0.5, edgecolor='k');"
   ]
  },
  {
   "cell_type": "markdown",
   "metadata": {},
   "source": [
    "**Let's do the same for weather dataframe**"
   ]
  },
  {
   "cell_type": "code",
   "execution_count": 26,
   "metadata": {
    "ExecuteTime": {
     "end_time": "2018-09-04T18:54:54.225263Z",
     "start_time": "2018-09-04T18:54:54.218638Z"
    }
   },
   "outputs": [],
   "source": [
    "#replace pickup_centroid_location and dropoff_centroid_location columns with point coordinates using shapely\n",
    "weather_geopoint = list(zip(cc_weather_df['longitude'], cc_weather_df['latitude']))\n",
    "cc_weather_df['geopoint'] = weather_geopoint\n",
    "cc_weather_df['geopoint'] = cc_weather_df['geopoint'].apply(Point)\n"
   ]
  },
  {
   "cell_type": "code",
   "execution_count": 27,
   "metadata": {
    "ExecuteTime": {
     "end_time": "2018-09-04T18:54:54.231946Z",
     "start_time": "2018-09-04T18:54:54.227970Z"
    }
   },
   "outputs": [],
   "source": [
    "cc_weather_gdf = gpd.GeoDataFrame(cc_weather_df, geometry='geopoint')"
   ]
  },
  {
   "cell_type": "code",
   "execution_count": 28,
   "metadata": {
    "ExecuteTime": {
     "end_time": "2018-09-04T18:54:54.262549Z",
     "start_time": "2018-09-04T18:54:54.234854Z"
    }
   },
   "outputs": [
    {
     "data": {
      "text/html": [
       "<div>\n",
       "<style scoped>\n",
       "    .dataframe tbody tr th:only-of-type {\n",
       "        vertical-align: middle;\n",
       "    }\n",
       "\n",
       "    .dataframe tbody tr th {\n",
       "        vertical-align: top;\n",
       "    }\n",
       "\n",
       "    .dataframe thead th {\n",
       "        text-align: right;\n",
       "    }\n",
       "</style>\n",
       "<table border=\"1\" class=\"dataframe\">\n",
       "  <thead>\n",
       "    <tr style=\"text-align: right;\">\n",
       "      <th></th>\n",
       "      <th>station</th>\n",
       "      <th>name</th>\n",
       "      <th>latitude</th>\n",
       "      <th>longitude</th>\n",
       "      <th>elevation</th>\n",
       "      <th>date</th>\n",
       "      <th>avg_daily_wind_speed</th>\n",
       "      <th>peak_gust_time</th>\n",
       "      <th>precipitation_mm</th>\n",
       "      <th>snowfall_mm</th>\n",
       "      <th>...</th>\n",
       "      <th>smoke</th>\n",
       "      <th>drifting_snow</th>\n",
       "      <th>mist</th>\n",
       "      <th>drizzle</th>\n",
       "      <th>rain</th>\n",
       "      <th>freezing_rain</th>\n",
       "      <th>snow</th>\n",
       "      <th>unkwn_precipitation</th>\n",
       "      <th>ice_fog</th>\n",
       "      <th>geopoint</th>\n",
       "    </tr>\n",
       "  </thead>\n",
       "  <tbody>\n",
       "    <tr>\n",
       "      <th>0</th>\n",
       "      <td>USW00094846</td>\n",
       "      <td>CHICAGO OHARE INTERNATIONAL AIRPORT, IL US</td>\n",
       "      <td>41.995</td>\n",
       "      <td>-87.9336</td>\n",
       "      <td>201.8</td>\n",
       "      <td>2016-02-01</td>\n",
       "      <td>4.92</td>\n",
       "      <td>None</td>\n",
       "      <td>0.00</td>\n",
       "      <td>0.0</td>\n",
       "      <td>...</td>\n",
       "      <td>NaN</td>\n",
       "      <td>None</td>\n",
       "      <td>None</td>\n",
       "      <td>None</td>\n",
       "      <td>None</td>\n",
       "      <td>None</td>\n",
       "      <td>None</td>\n",
       "      <td>None</td>\n",
       "      <td>None</td>\n",
       "      <td>POINT (-87.9336 41.995)</td>\n",
       "    </tr>\n",
       "    <tr>\n",
       "      <th>1</th>\n",
       "      <td>USW00094846</td>\n",
       "      <td>CHICAGO OHARE INTERNATIONAL AIRPORT, IL US</td>\n",
       "      <td>41.995</td>\n",
       "      <td>-87.9336</td>\n",
       "      <td>201.8</td>\n",
       "      <td>2016-02-02</td>\n",
       "      <td>11.41</td>\n",
       "      <td>None</td>\n",
       "      <td>0.79</td>\n",
       "      <td>0.0</td>\n",
       "      <td>...</td>\n",
       "      <td>1.0</td>\n",
       "      <td>None</td>\n",
       "      <td>None</td>\n",
       "      <td>None</td>\n",
       "      <td>None</td>\n",
       "      <td>None</td>\n",
       "      <td>None</td>\n",
       "      <td>None</td>\n",
       "      <td>None</td>\n",
       "      <td>POINT (-87.9336 41.995)</td>\n",
       "    </tr>\n",
       "    <tr>\n",
       "      <th>2</th>\n",
       "      <td>USW00094846</td>\n",
       "      <td>CHICAGO OHARE INTERNATIONAL AIRPORT, IL US</td>\n",
       "      <td>41.995</td>\n",
       "      <td>-87.9336</td>\n",
       "      <td>201.8</td>\n",
       "      <td>2016-02-03</td>\n",
       "      <td>13.42</td>\n",
       "      <td>None</td>\n",
       "      <td>0.02</td>\n",
       "      <td>0.0</td>\n",
       "      <td>...</td>\n",
       "      <td>NaN</td>\n",
       "      <td>None</td>\n",
       "      <td>None</td>\n",
       "      <td>None</td>\n",
       "      <td>None</td>\n",
       "      <td>None</td>\n",
       "      <td>None</td>\n",
       "      <td>None</td>\n",
       "      <td>None</td>\n",
       "      <td>POINT (-87.9336 41.995)</td>\n",
       "    </tr>\n",
       "    <tr>\n",
       "      <th>3</th>\n",
       "      <td>USW00094846</td>\n",
       "      <td>CHICAGO OHARE INTERNATIONAL AIRPORT, IL US</td>\n",
       "      <td>41.995</td>\n",
       "      <td>-87.9336</td>\n",
       "      <td>201.8</td>\n",
       "      <td>2016-02-04</td>\n",
       "      <td>9.40</td>\n",
       "      <td>None</td>\n",
       "      <td>0.00</td>\n",
       "      <td>0.0</td>\n",
       "      <td>...</td>\n",
       "      <td>NaN</td>\n",
       "      <td>None</td>\n",
       "      <td>None</td>\n",
       "      <td>None</td>\n",
       "      <td>None</td>\n",
       "      <td>None</td>\n",
       "      <td>None</td>\n",
       "      <td>None</td>\n",
       "      <td>None</td>\n",
       "      <td>POINT (-87.9336 41.995)</td>\n",
       "    </tr>\n",
       "    <tr>\n",
       "      <th>4</th>\n",
       "      <td>USW00094846</td>\n",
       "      <td>CHICAGO OHARE INTERNATIONAL AIRPORT, IL US</td>\n",
       "      <td>41.995</td>\n",
       "      <td>-87.9336</td>\n",
       "      <td>201.8</td>\n",
       "      <td>2016-02-05</td>\n",
       "      <td>6.71</td>\n",
       "      <td>None</td>\n",
       "      <td>0.00</td>\n",
       "      <td>0.0</td>\n",
       "      <td>...</td>\n",
       "      <td>NaN</td>\n",
       "      <td>None</td>\n",
       "      <td>None</td>\n",
       "      <td>None</td>\n",
       "      <td>None</td>\n",
       "      <td>None</td>\n",
       "      <td>None</td>\n",
       "      <td>None</td>\n",
       "      <td>None</td>\n",
       "      <td>POINT (-87.9336 41.995)</td>\n",
       "    </tr>\n",
       "  </tbody>\n",
       "</table>\n",
       "<p>5 rows × 28 columns</p>\n",
       "</div>"
      ],
      "text/plain": [
       "       station                                        name  latitude  \\\n",
       "0  USW00094846  CHICAGO OHARE INTERNATIONAL AIRPORT, IL US    41.995   \n",
       "1  USW00094846  CHICAGO OHARE INTERNATIONAL AIRPORT, IL US    41.995   \n",
       "2  USW00094846  CHICAGO OHARE INTERNATIONAL AIRPORT, IL US    41.995   \n",
       "3  USW00094846  CHICAGO OHARE INTERNATIONAL AIRPORT, IL US    41.995   \n",
       "4  USW00094846  CHICAGO OHARE INTERNATIONAL AIRPORT, IL US    41.995   \n",
       "\n",
       "   longitude  elevation       date  avg_daily_wind_speed peak_gust_time  \\\n",
       "0   -87.9336      201.8 2016-02-01                  4.92           None   \n",
       "1   -87.9336      201.8 2016-02-02                 11.41           None   \n",
       "2   -87.9336      201.8 2016-02-03                 13.42           None   \n",
       "3   -87.9336      201.8 2016-02-04                  9.40           None   \n",
       "4   -87.9336      201.8 2016-02-05                  6.71           None   \n",
       "\n",
       "   precipitation_mm  snowfall_mm           ...             smoke  \\\n",
       "0              0.00          0.0           ...               NaN   \n",
       "1              0.79          0.0           ...               1.0   \n",
       "2              0.02          0.0           ...               NaN   \n",
       "3              0.00          0.0           ...               NaN   \n",
       "4              0.00          0.0           ...               NaN   \n",
       "\n",
       "   drifting_snow  mist  drizzle  rain  freezing_rain  snow  \\\n",
       "0           None  None     None  None           None  None   \n",
       "1           None  None     None  None           None  None   \n",
       "2           None  None     None  None           None  None   \n",
       "3           None  None     None  None           None  None   \n",
       "4           None  None     None  None           None  None   \n",
       "\n",
       "   unkwn_precipitation  ice_fog                 geopoint  \n",
       "0                 None     None  POINT (-87.9336 41.995)  \n",
       "1                 None     None  POINT (-87.9336 41.995)  \n",
       "2                 None     None  POINT (-87.9336 41.995)  \n",
       "3                 None     None  POINT (-87.9336 41.995)  \n",
       "4                 None     None  POINT (-87.9336 41.995)  \n",
       "\n",
       "[5 rows x 28 columns]"
      ]
     },
     "execution_count": 28,
     "metadata": {},
     "output_type": "execute_result"
    }
   ],
   "source": [
    "cc_weather_gdf.head()"
   ]
  },
  {
   "cell_type": "markdown",
   "metadata": {},
   "source": [
    "## Cleaning Fun"
   ]
  },
  {
   "cell_type": "markdown",
   "metadata": {},
   "source": [
    "### Helper Functions"
   ]
  },
  {
   "cell_type": "code",
   "execution_count": 29,
   "metadata": {
    "ExecuteTime": {
     "end_time": "2018-09-04T18:54:54.268691Z",
     "start_time": "2018-09-04T18:54:54.265078Z"
    }
   },
   "outputs": [],
   "source": [
    "def dollar_to_float(string):\n",
    "    \"\"\"Converts text columns with dollar sign into floats (after removing the currency sign)\"\"\"\n",
    "    pattern = re.compile('\\$+')\n",
    "    old_value = string\n",
    "    new_value = 0.0\n",
    "    try:\n",
    "        new_value = re.sub(pattern, '', old_value)\n",
    "        new_value = float(new_value)\n",
    "    except:\n",
    "        ValueError\n",
    "    return new_value\n",
    "\n"
   ]
  },
  {
   "cell_type": "code",
   "execution_count": 30,
   "metadata": {
    "ExecuteTime": {
     "end_time": "2018-09-04T18:54:54.279582Z",
     "start_time": "2018-09-04T18:54:54.271771Z"
    },
    "scrolled": false
   },
   "outputs": [
    {
     "name": "stdout",
     "output_type": "stream",
     "text": [
      "<class 'pandas.core.frame.DataFrame'>\n",
      "RangeIndex: 1697009 entries, 0 to 1697008\n",
      "Data columns (total 16 columns):\n",
      "trip_start_timestamp          datetime64[ns]\n",
      "trip_end_timestamp            datetime64[ns]\n",
      "trip_seconds                  float64\n",
      "trip_miles                    float64\n",
      "fare                          object\n",
      "tips                          object\n",
      "tolls                         object\n",
      "extras                        object\n",
      "trip_total                    object\n",
      "payment_type                  object\n",
      "pickup_centroid_latitude      float64\n",
      "pickup_centroid_longitude     float64\n",
      "pickup_centroid_location      object\n",
      "dropoff_centroid_latitude     float64\n",
      "dropoff_centroid_longitude    float64\n",
      "dropoff_centroid_location     object\n",
      "dtypes: datetime64[ns](2), float64(6), object(8)\n",
      "memory usage: 207.2+ MB\n"
     ]
    }
   ],
   "source": [
    "taxi_weather_gdf.info()"
   ]
  },
  {
   "cell_type": "code",
   "execution_count": 31,
   "metadata": {
    "ExecuteTime": {
     "end_time": "2018-09-04T18:55:18.541269Z",
     "start_time": "2018-09-04T18:54:54.282222Z"
    }
   },
   "outputs": [],
   "source": [
    "#Cleaning the money values\n",
    "taxi_weather_gdf['fare'] = [dollar_to_float(fare) for fare in taxi_weather_gdf['fare']]\n",
    "taxi_weather_gdf['tips'] = [dollar_to_float(fare) for fare in taxi_weather_gdf['tips']]\n",
    "taxi_weather_gdf['tolls'] = [dollar_to_float(fare) for fare in taxi_weather_gdf['tolls']]\n",
    "taxi_weather_gdf['extras'] = [dollar_to_float(fare) for fare in taxi_weather_gdf['extras']]\n",
    "taxi_weather_gdf['trip_total'] = [dollar_to_float(fare) for fare in taxi_weather_gdf['trip_total']]\n",
    "\n",
    "#Remove records with NaN values \n"
   ]
  },
  {
   "cell_type": "code",
   "execution_count": 32,
   "metadata": {
    "ExecuteTime": {
     "end_time": "2018-09-04T18:55:18.546024Z",
     "start_time": "2018-09-04T18:55:18.543314Z"
    }
   },
   "outputs": [],
   "source": [
    "#Recalculate the base fare\n"
   ]
  },
  {
   "cell_type": "code",
   "execution_count": 33,
   "metadata": {
    "ExecuteTime": {
     "end_time": "2018-09-04T18:55:18.573168Z",
     "start_time": "2018-09-04T18:55:18.548433Z"
    }
   },
   "outputs": [
    {
     "data": {
      "text/html": [
       "<div>\n",
       "<style scoped>\n",
       "    .dataframe tbody tr th:only-of-type {\n",
       "        vertical-align: middle;\n",
       "    }\n",
       "\n",
       "    .dataframe tbody tr th {\n",
       "        vertical-align: top;\n",
       "    }\n",
       "\n",
       "    .dataframe thead th {\n",
       "        text-align: right;\n",
       "    }\n",
       "</style>\n",
       "<table border=\"1\" class=\"dataframe\">\n",
       "  <thead>\n",
       "    <tr style=\"text-align: right;\">\n",
       "      <th></th>\n",
       "      <th>trip_start_timestamp</th>\n",
       "      <th>trip_end_timestamp</th>\n",
       "      <th>trip_seconds</th>\n",
       "      <th>trip_miles</th>\n",
       "      <th>fare</th>\n",
       "      <th>tips</th>\n",
       "      <th>tolls</th>\n",
       "      <th>extras</th>\n",
       "      <th>trip_total</th>\n",
       "      <th>payment_type</th>\n",
       "      <th>pickup_centroid_latitude</th>\n",
       "      <th>pickup_centroid_longitude</th>\n",
       "      <th>pickup_centroid_location</th>\n",
       "      <th>dropoff_centroid_latitude</th>\n",
       "      <th>dropoff_centroid_longitude</th>\n",
       "      <th>dropoff_centroid_location</th>\n",
       "    </tr>\n",
       "  </thead>\n",
       "  <tbody>\n",
       "    <tr>\n",
       "      <th>0</th>\n",
       "      <td>2016-02-19 23:45:00</td>\n",
       "      <td>2016-02-19 23:45:00</td>\n",
       "      <td>0.0</td>\n",
       "      <td>0.0</td>\n",
       "      <td>2.00</td>\n",
       "      <td>0.00</td>\n",
       "      <td>0.0</td>\n",
       "      <td>0.0</td>\n",
       "      <td>2.00</td>\n",
       "      <td>Cash</td>\n",
       "      <td>NaN</td>\n",
       "      <td>NaN</td>\n",
       "      <td>POINT (nan nan)</td>\n",
       "      <td>NaN</td>\n",
       "      <td>NaN</td>\n",
       "      <td>POINT (nan nan)</td>\n",
       "    </tr>\n",
       "    <tr>\n",
       "      <th>1</th>\n",
       "      <td>2016-02-19 16:45:00</td>\n",
       "      <td>2016-02-19 16:45:00</td>\n",
       "      <td>0.0</td>\n",
       "      <td>0.0</td>\n",
       "      <td>6.25</td>\n",
       "      <td>0.00</td>\n",
       "      <td>0.0</td>\n",
       "      <td>0.0</td>\n",
       "      <td>6.25</td>\n",
       "      <td>Cash</td>\n",
       "      <td>NaN</td>\n",
       "      <td>NaN</td>\n",
       "      <td>POINT (nan nan)</td>\n",
       "      <td>NaN</td>\n",
       "      <td>NaN</td>\n",
       "      <td>POINT (nan nan)</td>\n",
       "    </tr>\n",
       "    <tr>\n",
       "      <th>2</th>\n",
       "      <td>2016-02-10 20:45:00</td>\n",
       "      <td>2016-02-10 20:45:00</td>\n",
       "      <td>0.0</td>\n",
       "      <td>0.0</td>\n",
       "      <td>43.25</td>\n",
       "      <td>8.65</td>\n",
       "      <td>0.0</td>\n",
       "      <td>0.0</td>\n",
       "      <td>51.90</td>\n",
       "      <td>Credit Card</td>\n",
       "      <td>NaN</td>\n",
       "      <td>NaN</td>\n",
       "      <td>POINT (nan nan)</td>\n",
       "      <td>NaN</td>\n",
       "      <td>NaN</td>\n",
       "      <td>POINT (nan nan)</td>\n",
       "    </tr>\n",
       "    <tr>\n",
       "      <th>3</th>\n",
       "      <td>2016-02-15 06:15:00</td>\n",
       "      <td>2016-02-15 06:15:00</td>\n",
       "      <td>300.0</td>\n",
       "      <td>0.8</td>\n",
       "      <td>5.50</td>\n",
       "      <td>2.00</td>\n",
       "      <td>0.0</td>\n",
       "      <td>0.0</td>\n",
       "      <td>7.50</td>\n",
       "      <td>Credit Card</td>\n",
       "      <td>NaN</td>\n",
       "      <td>NaN</td>\n",
       "      <td>POINT (nan nan)</td>\n",
       "      <td>NaN</td>\n",
       "      <td>NaN</td>\n",
       "      <td>POINT (nan nan)</td>\n",
       "    </tr>\n",
       "    <tr>\n",
       "      <th>4</th>\n",
       "      <td>2016-02-19 19:30:00</td>\n",
       "      <td>2016-02-19 19:30:00</td>\n",
       "      <td>0.0</td>\n",
       "      <td>0.0</td>\n",
       "      <td>7.50</td>\n",
       "      <td>1.50</td>\n",
       "      <td>0.0</td>\n",
       "      <td>0.0</td>\n",
       "      <td>9.00</td>\n",
       "      <td>Credit Card</td>\n",
       "      <td>NaN</td>\n",
       "      <td>NaN</td>\n",
       "      <td>POINT (nan nan)</td>\n",
       "      <td>NaN</td>\n",
       "      <td>NaN</td>\n",
       "      <td>POINT (nan nan)</td>\n",
       "    </tr>\n",
       "  </tbody>\n",
       "</table>\n",
       "</div>"
      ],
      "text/plain": [
       "  trip_start_timestamp  trip_end_timestamp  trip_seconds  trip_miles   fare  \\\n",
       "0  2016-02-19 23:45:00 2016-02-19 23:45:00           0.0         0.0   2.00   \n",
       "1  2016-02-19 16:45:00 2016-02-19 16:45:00           0.0         0.0   6.25   \n",
       "2  2016-02-10 20:45:00 2016-02-10 20:45:00           0.0         0.0  43.25   \n",
       "3  2016-02-15 06:15:00 2016-02-15 06:15:00         300.0         0.8   5.50   \n",
       "4  2016-02-19 19:30:00 2016-02-19 19:30:00           0.0         0.0   7.50   \n",
       "\n",
       "   tips  tolls  extras  trip_total payment_type  pickup_centroid_latitude  \\\n",
       "0  0.00    0.0     0.0        2.00         Cash                       NaN   \n",
       "1  0.00    0.0     0.0        6.25         Cash                       NaN   \n",
       "2  8.65    0.0     0.0       51.90  Credit Card                       NaN   \n",
       "3  2.00    0.0     0.0        7.50  Credit Card                       NaN   \n",
       "4  1.50    0.0     0.0        9.00  Credit Card                       NaN   \n",
       "\n",
       "   pickup_centroid_longitude pickup_centroid_location  \\\n",
       "0                        NaN          POINT (nan nan)   \n",
       "1                        NaN          POINT (nan nan)   \n",
       "2                        NaN          POINT (nan nan)   \n",
       "3                        NaN          POINT (nan nan)   \n",
       "4                        NaN          POINT (nan nan)   \n",
       "\n",
       "   dropoff_centroid_latitude  dropoff_centroid_longitude  \\\n",
       "0                        NaN                         NaN   \n",
       "1                        NaN                         NaN   \n",
       "2                        NaN                         NaN   \n",
       "3                        NaN                         NaN   \n",
       "4                        NaN                         NaN   \n",
       "\n",
       "  dropoff_centroid_location  \n",
       "0           POINT (nan nan)  \n",
       "1           POINT (nan nan)  \n",
       "2           POINT (nan nan)  \n",
       "3           POINT (nan nan)  \n",
       "4           POINT (nan nan)  "
      ]
     },
     "execution_count": 33,
     "metadata": {},
     "output_type": "execute_result"
    }
   ],
   "source": [
    "taxi_weather_gdf.head()"
   ]
  },
  {
   "cell_type": "code",
   "execution_count": 37,
   "metadata": {
    "ExecuteTime": {
     "end_time": "2018-09-04T18:59:38.069213Z",
     "start_time": "2018-09-04T18:59:37.903120Z"
    }
   },
   "outputs": [
    {
     "name": "stdout",
     "output_type": "stream",
     "text": [
      "<class 'pandas.core.frame.DataFrame'>\n",
      "Int64Index: 287350 entries, 0 to 1697004\n",
      "Data columns (total 16 columns):\n",
      "trip_start_timestamp          287350 non-null datetime64[ns]\n",
      "trip_end_timestamp            287346 non-null datetime64[ns]\n",
      "trip_seconds                  287331 non-null float64\n",
      "trip_miles                    287349 non-null float64\n",
      "fare                          287350 non-null float64\n",
      "tips                          287350 non-null float64\n",
      "tolls                         287350 non-null float64\n",
      "extras                        287350 non-null float64\n",
      "trip_total                    287350 non-null float64\n",
      "payment_type                  287350 non-null object\n",
      "pickup_centroid_latitude      0 non-null float64\n",
      "pickup_centroid_longitude     0 non-null float64\n",
      "pickup_centroid_location      287350 non-null object\n",
      "dropoff_centroid_latitude     9638 non-null float64\n",
      "dropoff_centroid_longitude    9638 non-null float64\n",
      "dropoff_centroid_location     287350 non-null object\n",
      "dtypes: datetime64[ns](2), float64(11), object(3)\n",
      "memory usage: 37.3+ MB\n"
     ]
    }
   ],
   "source": [
    "taxi_weather_gdf[taxi_weather_gdf['pickup_centroid_longitude'].isnull()].info()"
   ]
  },
  {
   "cell_type": "code",
   "execution_count": null,
   "metadata": {
    "ExecuteTime": {
     "end_time": "2018-09-04T18:58:46.489814Z",
     "start_time": "2018-09-04T18:55:48.032Z"
    }
   },
   "outputs": [],
   "source": [
    "taxi_weather_gdf[taxi_weather_gdf['trip_seconds'].isnull()].count()\n",
    "taxi_weather_gdf[taxi_weather_gdf['trip_miles'].isnull()].count()\n",
    "\n",
    "#Not Good!!!!\n",
    "# taxi_weather_df[(taxi_weather_df['trip_seconds'] == 0.0) & (taxi_weather_df['trip_miles'] == 0.0)].count()"
   ]
  },
  {
   "cell_type": "code",
   "execution_count": 35,
   "metadata": {
    "ExecuteTime": {
     "end_time": "2018-09-04T18:55:54.930141Z",
     "start_time": "2018-09-04T18:55:19.085435Z"
    },
    "scrolled": false
   },
   "outputs": [
    {
     "data": {
      "image/png": "[encoded data removed]",
      "text/plain": [
       "<matplotlib.figure.Figure at 0x1d318fef0>"
      ]
     },
     "metadata": {},
     "output_type": "display_data"
    }
   ],
   "source": [
    "#Let's explore the distribution of variables of interest\n",
    "plt.figure(figsize=(30, 5))\n",
    "\n",
    "plt.subplot(1, 3, 1)\n",
    "plt.hist(taxi_weather_gdf['trip_seconds'].dropna(), bins=1000)\n",
    "plt.title('Trip Length Histogram (in seconds)')\n",
    "plt.xlim(xmin=0, xmax=10000)\n",
    "plt.xlabel('Seconds')\n",
    "plt.ylabel('Frequency')\n",
    "\n",
    "plt.subplot(1, 3, 2)\n",
    "plt.hist(taxi_weather_gdf['trip_miles'].dropna(), bins=10000)\n",
    "plt.title('Trip Length Histogram (in miles)')\n",
    "plt.xlim(xmin=0, xmax=30)\n",
    "plt.xlabel('Miles')\n",
    "plt.ylabel('Frequency')\n",
    "\n",
    "plt.subplot(1, 3, 3)\n",
    "plt.hist(taxi_weather_gdf['fare'], bins=10000)\n",
    "plt.title('Trip Fare (in $)')\n",
    "plt.xlim(xmin=0, xmax=100)\n",
    "plt.xlabel('$')\n",
    "plt.ylabel('Frequency');"
   ]
  },
  {
   "cell_type": "code",
   "execution_count": null,
   "metadata": {},
   "outputs": [],
   "source": []
  }
 ],
 "metadata": {
  "kernelspec": {
   "display_name": "Python 3",
   "language": "python",
   "name": "python3"
  },
  "language_info": {
   "codemirror_mode": {
    "name": "ipython",
    "version": 3
   },
   "file_extension": ".py",
   "mimetype": "text/x-python",
   "name": "python",
   "nbconvert_exporter": "python",
   "pygments_lexer": "ipython3",
   "version": "3.6.5"
  },
  "varInspector": {
   "cols": {
    "lenName": 16,
    "lenType": 16,
    "lenVar": 40
   },
   "kernels_config": {
    "python": {
     "delete_cmd_postfix": "",
     "delete_cmd_prefix": "del ",
     "library": "var_list.py",
     "varRefreshCmd": "print(var_dic_list())"
    },
    "r": {
     "delete_cmd_postfix": ") ",
     "delete_cmd_prefix": "rm(",
     "library": "var_list.r",
     "varRefreshCmd": "cat(var_dic_list()) "
    }
   },
   "types_to_exclude": [
    "module",
    "function",
    "builtin_function_or_method",
    "instance",
    "_Feature"
   ],
   "window_display": false
  }
 },
 "nbformat": 4,
 "nbformat_minor": 2
}
