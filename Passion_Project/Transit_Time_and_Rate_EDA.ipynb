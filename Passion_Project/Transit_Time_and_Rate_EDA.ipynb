{
 "cells": [
  {
   "cell_type": "markdown",
   "metadata": {},
   "source": [
    "## First try at getting some data"
   ]
  },
  {
   "cell_type": "code",
   "execution_count": 1,
   "metadata": {
    "ExecuteTime": {
     "end_time": "2018-09-09T03:58:00.619674Z",
     "start_time": "2018-09-09T03:58:00.608005Z"
    }
   },
   "outputs": [
    {
     "data": {
      "text/html": [
       "<style>.container { width:95% !important; }</style>"
      ],
      "text/plain": [
       "<IPython.core.display.HTML object>"
      ]
     },
     "metadata": {},
     "output_type": "display_data"
    }
   ],
   "source": [
    "from IPython.core.display import display, HTML\n",
    "display(HTML(\"<style>.container { width:95% !important; }</style>\"))"
   ]
  },
  {
   "cell_type": "code",
   "execution_count": 2,
   "metadata": {
    "ExecuteTime": {
     "end_time": "2018-09-09T03:58:03.639345Z",
     "start_time": "2018-09-09T03:58:00.621635Z"
    }
   },
   "outputs": [
    {
     "name": "stderr",
     "output_type": "stream",
     "text": [
      "/anaconda3/lib/python3.6/site-packages/pysal/__init__.py:65: VisibleDeprecationWarning: PySAL's API will be changed on 2018-12-31. The last release made with this API is version 1.14.4. A preview of the next API version is provided in the `pysal` 2.0 prelease candidate. The API changes and a guide on how to change imports is provided at https://pysal.org/about\n",
      "  ), VisibleDeprecationWarning)\n",
      "/anaconda3/lib/python3.6/site-packages/statsmodels/compat/pandas.py:56: FutureWarning: The pandas.core.datetools module is deprecated and will be removed in a future version. Please use the pandas.tseries module instead.\n",
      "  from pandas.core import datetools\n"
     ]
    }
   ],
   "source": [
    "#Essentials\n",
    "import numpy as np\n",
    "import pandas as pd\n",
    "import pickle\n",
    "import re\n",
    "import datetime as dt\n",
    "\n",
    "#API imports\n",
    "from sodapy import Socrata\n",
    "\n",
    "#SQL related\n",
    "import psycopg2\n",
    "import sqlite3\n",
    "from sqlalchemy import create_engine\n",
    "import pandas.io.sql as pd_sql\n",
    "\n",
    "#Visualization\n",
    "import matplotlib.pyplot as plt\n",
    "import matplotlib\n",
    "import seaborn as sns\n",
    "import geopandas as gpd\n",
    "import shapely\n",
    "from shapely.geometry import Point\n",
    "import fiona\n",
    "import pysal as ps\n",
    "from pysal.contrib.viz import mapping as maps\n",
    "# import contextily as ctx\n",
    "\n",
    "#Regression imports\n",
    "import statsmodels.api as sm\n",
    "import statsmodels.formula.api as smf\n",
    "import patsy\n",
    "\n",
    "from sklearn.model_selection import train_test_split\n",
    "from sklearn.linear_model import LinearRegression\n",
    "from sklearn.linear_model import RidgeCV\n",
    "from sklearn.linear_model import LassoCV\n",
    "from sklearn.preprocessing import PolynomialFeatures\n",
    "from sklearn.preprocessing import StandardScaler\n",
    "from sklearn import feature_selection as f_select\n",
    "from sklearn.model_selection import cross_val_score\n",
    "from sklearn.model_selection import KFold\n",
    "from sklearn import metrics\n",
    "from sklearn.metrics import mean_squared_error\n",
    "from sklearn.model_selection import learning_curve\n",
    "\n",
    "from sklearn.pipeline import make_pipeline\n",
    "\n",
    "%matplotlib inline\n",
    "matplotlib.rcParams.update({'font.size': 18})"
   ]
  },
  {
   "cell_type": "markdown",
   "metadata": {},
   "source": [
    "### Load all the data into an SQL database"
   ]
  },
  {
   "cell_type": "code",
   "execution_count": 3,
   "metadata": {
    "ExecuteTime": {
     "end_time": "2018-09-09T03:58:03.653806Z",
     "start_time": "2018-09-09T03:58:03.641239Z"
    }
   },
   "outputs": [],
   "source": [
    "# Set up the database connection\n",
    "conn = psycopg2.connect(dbname=\"taxi_rides_db\", user=\"auste_m\")"
   ]
  },
  {
   "cell_type": "code",
   "execution_count": 4,
   "metadata": {
    "ExecuteTime": {
     "end_time": "2018-09-09T03:58:03.658777Z",
     "start_time": "2018-09-09T03:58:03.655888Z"
    }
   },
   "outputs": [],
   "source": [
    "# CREATE TABLE taxi_rides_clean (\n",
    "#                             trip_id TEXT, \n",
    "#                             taxi_id TEXT, \n",
    "#                             trip_start_timestamp TIMESTAMP,\n",
    "#                             trip_end_timestamp TIMESTAMP,\n",
    "#                             trip_seconds INT,\n",
    "#                             trip_miles FLOAT,\n",
    "#                             pickup_census_tract TEXT,\n",
    "#                             pickup_community_area TEXT,\n",
    "#                             dropoff_census_tract TEXT,\n",
    "#                             dropoff_community_area TEXT,\n",
    "#                             fare FLOAT,\n",
    "#                             tips FLOAT,\n",
    "#                             tolls FLOAT,\n",
    "#                             extras FLOAT,\n",
    "#                             trip_total FLOAT,\n",
    "#                             payment_type TEXT,\n",
    "#                             company TEXT,\n",
    "#                             pickup_centroid_latitude FLOAT,\n",
    "#                             pickup_centroid_longitude FLOAT,\n",
    "#                             pickup_centroid_location TEXT,\n",
    "#                             dropoff_centroid_latitude FLOAT,\n",
    "#                             dropoff_centroid_longitude FLOAT,\n",
    "#                             dropoff_centroid_location TEXT\n",
    "#                         );"
   ]
  },
  {
   "cell_type": "code",
   "execution_count": 5,
   "metadata": {
    "ExecuteTime": {
     "end_time": "2018-09-09T03:58:03.663287Z",
     "start_time": "2018-09-09T03:58:03.660570Z"
    }
   },
   "outputs": [],
   "source": [
    "# COPY taxi_rides from '/home/ubuntu/Passion_Project/Taxi_Trips.csv' DELIMITER ',' CSV HEADER;\n",
    "# COPY taxi_rides from '/home/ubuntu/Passion_Project/Taxi_Trips_2016.csv' DELIMITER ',' CSV HEADER;"
   ]
  },
  {
   "cell_type": "code",
   "execution_count": 6,
   "metadata": {
    "ExecuteTime": {
     "end_time": "2018-09-09T03:58:03.669058Z",
     "start_time": "2018-09-09T03:58:03.665457Z"
    }
   },
   "outputs": [],
   "source": [
    "# CREATE TABLE chicago_weather(\n",
    "#                                 station TEXT,\n",
    "#                                 name TEXT, \n",
    "#                                 latitude FLOAT,\n",
    "#                                 longitude FLOAT,\n",
    "#                                 elevation FLOAT,\n",
    "#                                 date TIMESTAMP, \n",
    "#                                 avg_daily_wind_speed FLOAT,\n",
    "#                                 peak_gust_time FLOAT,\n",
    "#                                 precipitation_mm FLOAT,\n",
    "#                                 snowfall_mm FLOAT,\n",
    "#                                 snowdepth_mm FLOAT,\n",
    "#                                 avg_temp_f INT,\n",
    "#                                 fog INT,\n",
    "#                                 heavy_fog INT,\n",
    "#                                 thunder INT,\n",
    "#                                 sleet INT,\n",
    "#                                 hail INT, \n",
    "#                                 glaze INT,\n",
    "#                                 smoke INT,\n",
    "#                                 drifting_snow INT, \n",
    "#                                 mist INT,\n",
    "#                                 drizzle INT,\n",
    "#                                 rain INT,\n",
    "#                                 freezing_rain INT,\n",
    "#                                 snow INT,\n",
    "#                                 unkwn_precipitation INT,\n",
    "#                                 ice_fog INT\n",
    "#                                  );"
   ]
  },
  {
   "cell_type": "code",
   "execution_count": 7,
   "metadata": {
    "ExecuteTime": {
     "end_time": "2018-09-09T03:58:03.674768Z",
     "start_time": "2018-09-09T03:58:03.672076Z"
    }
   },
   "outputs": [],
   "source": [
    "# COPY chicago_weather FROM '/home/ubuntu/Chicago_Historical_Weather_Dataset.csv' DELIMITER ',' CSV HEADER;"
   ]
  },
  {
   "cell_type": "code",
   "execution_count": 8,
   "metadata": {
    "ExecuteTime": {
     "end_time": "2018-09-09T03:58:03.682106Z",
     "start_time": "2018-09-09T03:58:03.676782Z"
    }
   },
   "outputs": [],
   "source": [
    "# taxi_rides_query = \"\"\"SELECT * FROM taxi_rides WHERE trip_start_timestamp BETWEEN '2016-02-01' AND '2016-02-15';\"\"\" \n",
    "# weather_query = \"\"\"SELECT * FROM chicago_weather WHERE date BETWEEN '2016-02-01' AND '2016-02-15';\"\"\"\n",
    "\n",
    "taxi_weather_query = \"\"\"SELECT TR.trip_start_timestamp,\n",
    "                                TR.trip_end_timestamp,\n",
    "                                TR.trip_seconds,\n",
    "                                TR.trip_miles,\n",
    "                                --TR.pickup_community_area,\n",
    "                                --TR.dropoff_community_area,\n",
    "                                --TR.fare,\n",
    "                                --TR.tolls,\n",
    "                                TR.fare + TR.tolls as fare_with_tolls,\n",
    "                                --TR.tips,\n",
    "                                --TR.trip_total,\n",
    "                                TR.payment_type,\n",
    "                                TR.pickup_centroid_latitude,\n",
    "                                TR.pickup_centroid_longitude,\n",
    "                                TR.pickup_centroid_location,\n",
    "                                TR.dropoff_centroid_latitude,\n",
    "                                TR.dropoff_centroid_longitude,\n",
    "                                TR.dropoff_centroid_location,\n",
    "                                CW.avg_daily_wind_speed,\n",
    "                                CW.avg_temp_f,\n",
    "                                CASE WHEN CW.fog = 1 OR CW.heavy_fog = 1 OR ice_fog = 1 OR mist = 1 THEN 1 ELSE 0 END as fog,\n",
    "                                CASE WHEN CW.rain = 1 OR CW.drizzle = 1 OR CW.hail = 1 THEN 1 ELSE 0 END as rain,\n",
    "                                CASE WHEN CW.snow = 1 OR CW.freezing_rain = 1 OR drifting_snow = 1 THEN 1 ELSE 0 END as snow\n",
    "                                \n",
    "                        FROM taxi_rides_clean as TR\n",
    "                        LEFT JOIN chicago_weather as CW\n",
    "                        ON CAST(TR.trip_start_timestamp AS DATE) = CAST(date AS DATE)\n",
    "                        WHERE trip_start_timestamp BETWEEN '2016-01-01' AND '2016-12-31';\"\"\" "
   ]
  },
  {
   "cell_type": "code",
   "execution_count": 9,
   "metadata": {
    "ExecuteTime": {
     "end_time": "2018-09-09T03:58:03.687537Z",
     "start_time": "2018-09-09T03:58:03.684736Z"
    }
   },
   "outputs": [],
   "source": [
    "#Read in Chicago city community area shapefile\n",
    "# chicago_community_areas = gpd.read_file(\"./datasets/Chicago_Community_Areas/geo_export_4c20eda0-2d92-4a1d-8513-878eb3e095a3.shp\")"
   ]
  },
  {
   "cell_type": "code",
   "execution_count": 10,
   "metadata": {
    "ExecuteTime": {
     "end_time": "2018-09-09T04:06:37.528051Z",
     "start_time": "2018-09-09T03:58:03.689890Z"
    },
    "scrolled": false
   },
   "outputs": [],
   "source": [
    "#approx. 30min to load the whole of 2016 data\n",
    "sql_load = pd.read_sql_query(taxi_weather_query, con=conn)"
   ]
  },
  {
   "cell_type": "code",
   "execution_count": 33,
   "metadata": {
    "ExecuteTime": {
     "end_time": "2018-09-09T04:12:20.415344Z",
     "start_time": "2018-09-09T04:12:20.412300Z"
    }
   },
   "outputs": [],
   "source": [
    "taxi_weather_df = sql_load"
   ]
  },
  {
   "cell_type": "code",
   "execution_count": 34,
   "metadata": {
    "ExecuteTime": {
     "end_time": "2018-09-09T04:12:23.311748Z",
     "start_time": "2018-09-09T04:12:23.305963Z"
    }
   },
   "outputs": [
    {
     "name": "stdout",
     "output_type": "stream",
     "text": [
      "<class 'pandas.core.frame.DataFrame'>\n",
      "RangeIndex: 19846602 entries, 0 to 19846601\n",
      "Data columns (total 17 columns):\n",
      "trip_start_timestamp          datetime64[ns]\n",
      "trip_end_timestamp            datetime64[ns]\n",
      "trip_seconds                  float64\n",
      "trip_miles                    float64\n",
      "fare_with_tolls               float64\n",
      "payment_type                  category\n",
      "pickup_centroid_latitude      float64\n",
      "pickup_centroid_longitude     float64\n",
      "pickup_centroid_location      object\n",
      "dropoff_centroid_latitude     float64\n",
      "dropoff_centroid_longitude    float64\n",
      "dropoff_centroid_location     object\n",
      "avg_daily_wind_speed          float64\n",
      "avg_temp_f                    int64\n",
      "fog                           int64\n",
      "rain                          int64\n",
      "snow                          int64\n",
      "dtypes: category(1), datetime64[ns](2), float64(8), int64(4), object(2)\n",
      "memory usage: 2.4+ GB\n"
     ]
    }
   ],
   "source": [
    "taxi_weather_df.info()"
   ]
  },
  {
   "cell_type": "markdown",
   "metadata": {},
   "source": [
    "> Original number of records for 1st-15th February 2016: **831,790**  \n",
    "> Original number of records for the whole of 2016: **19,846,602**"
   ]
  },
  {
   "cell_type": "code",
   "execution_count": 35,
   "metadata": {
    "ExecuteTime": {
     "end_time": "2018-09-09T04:12:34.448812Z",
     "start_time": "2018-09-09T04:12:23.313732Z"
    },
    "scrolled": true
   },
   "outputs": [
    {
     "name": "stdout",
     "output_type": "stream",
     "text": [
      "There are 3189786 records with a null value in at least one of the fields mentioned above.\n"
     ]
    }
   ],
   "source": [
    "#Let's explore the dataset\n",
    "null_records = taxi_weather_df[(taxi_weather_df['pickup_centroid_latitude'].isnull()) | (taxi_weather_df['pickup_centroid_longitude'].isnull()) | \n",
    "                (taxi_weather_df['dropoff_centroid_latitude'].isnull()) | (taxi_weather_df['dropoff_centroid_longitude'].isnull()) | \n",
    "                (taxi_weather_df['trip_seconds'].isnull()) | (taxi_weather_df['trip_miles'].isnull()) | \n",
    "                (taxi_weather_df['fare_with_tolls'].isnull())]['trip_start_timestamp'].count()\n",
    "\n",
    "print(f'There are {null_records} records with a null value in at least one of the fields mentioned above.')"
   ]
  },
  {
   "cell_type": "markdown",
   "metadata": {},
   "source": [
    "## Sweeping time!"
   ]
  },
  {
   "cell_type": "code",
   "execution_count": 36,
   "metadata": {
    "ExecuteTime": {
     "end_time": "2018-09-09T04:12:34.477558Z",
     "start_time": "2018-09-09T04:12:34.451838Z"
    }
   },
   "outputs": [
    {
     "data": {
      "text/html": [
       "<div>\n",
       "<style scoped>\n",
       "    .dataframe tbody tr th:only-of-type {\n",
       "        vertical-align: middle;\n",
       "    }\n",
       "\n",
       "    .dataframe tbody tr th {\n",
       "        vertical-align: top;\n",
       "    }\n",
       "\n",
       "    .dataframe thead th {\n",
       "        text-align: right;\n",
       "    }\n",
       "</style>\n",
       "<table border=\"1\" class=\"dataframe\">\n",
       "  <thead>\n",
       "    <tr style=\"text-align: right;\">\n",
       "      <th></th>\n",
       "      <th>trip_start_timestamp</th>\n",
       "      <th>trip_end_timestamp</th>\n",
       "      <th>trip_seconds</th>\n",
       "      <th>trip_miles</th>\n",
       "      <th>fare_with_tolls</th>\n",
       "      <th>payment_type</th>\n",
       "      <th>pickup_centroid_latitude</th>\n",
       "      <th>pickup_centroid_longitude</th>\n",
       "      <th>pickup_centroid_location</th>\n",
       "      <th>dropoff_centroid_latitude</th>\n",
       "      <th>dropoff_centroid_longitude</th>\n",
       "      <th>dropoff_centroid_location</th>\n",
       "      <th>avg_daily_wind_speed</th>\n",
       "      <th>avg_temp_f</th>\n",
       "      <th>fog</th>\n",
       "      <th>rain</th>\n",
       "      <th>snow</th>\n",
       "    </tr>\n",
       "  </thead>\n",
       "  <tbody>\n",
       "    <tr>\n",
       "      <th>0</th>\n",
       "      <td>2016-01-01 15:00:00</td>\n",
       "      <td>2016-01-01 15:15:00</td>\n",
       "      <td>840.0</td>\n",
       "      <td>2.1</td>\n",
       "      <td>9.45</td>\n",
       "      <td>Credit Card</td>\n",
       "      <td>41.885281</td>\n",
       "      <td>-87.657233</td>\n",
       "      <td>POINT (-87.6572331997 41.8852813201)</td>\n",
       "      <td>41.899156</td>\n",
       "      <td>-87.626211</td>\n",
       "      <td>POINT (-87.6262105324 41.8991556134)</td>\n",
       "      <td>14.32</td>\n",
       "      <td>23</td>\n",
       "      <td>0</td>\n",
       "      <td>0</td>\n",
       "      <td>0</td>\n",
       "    </tr>\n",
       "    <tr>\n",
       "      <th>1</th>\n",
       "      <td>2016-01-01 16:00:00</td>\n",
       "      <td>2016-01-01 16:00:00</td>\n",
       "      <td>360.0</td>\n",
       "      <td>0.5</td>\n",
       "      <td>5.65</td>\n",
       "      <td>Cash</td>\n",
       "      <td>41.884987</td>\n",
       "      <td>-87.620993</td>\n",
       "      <td>POINT (-87.6209929134 41.8849871918)</td>\n",
       "      <td>41.892073</td>\n",
       "      <td>-87.628874</td>\n",
       "      <td>POINT (-87.6288741572 41.8920726347)</td>\n",
       "      <td>14.32</td>\n",
       "      <td>23</td>\n",
       "      <td>0</td>\n",
       "      <td>0</td>\n",
       "      <td>0</td>\n",
       "    </tr>\n",
       "    <tr>\n",
       "      <th>2</th>\n",
       "      <td>2016-01-01 02:30:00</td>\n",
       "      <td>2016-01-01 02:30:00</td>\n",
       "      <td>600.0</td>\n",
       "      <td>1.7</td>\n",
       "      <td>7.65</td>\n",
       "      <td>Cash</td>\n",
       "      <td>41.870607</td>\n",
       "      <td>-87.622173</td>\n",
       "      <td>POINT (-87.6221729369 41.8706073724)</td>\n",
       "      <td>41.885300</td>\n",
       "      <td>-87.642808</td>\n",
       "      <td>POINT (-87.6428084655 41.8853000224)</td>\n",
       "      <td>14.32</td>\n",
       "      <td>23</td>\n",
       "      <td>0</td>\n",
       "      <td>0</td>\n",
       "      <td>0</td>\n",
       "    </tr>\n",
       "    <tr>\n",
       "      <th>3</th>\n",
       "      <td>2016-01-01 15:15:00</td>\n",
       "      <td>2016-01-01 15:15:00</td>\n",
       "      <td>660.0</td>\n",
       "      <td>3.0</td>\n",
       "      <td>9.65</td>\n",
       "      <td>Cash</td>\n",
       "      <td>41.965812</td>\n",
       "      <td>-87.655879</td>\n",
       "      <td>POINT (-87.6558787862 41.96581197)</td>\n",
       "      <td>41.922686</td>\n",
       "      <td>-87.649489</td>\n",
       "      <td>POINT (-87.6494887289 41.9226862843)</td>\n",
       "      <td>14.32</td>\n",
       "      <td>23</td>\n",
       "      <td>0</td>\n",
       "      <td>0</td>\n",
       "      <td>0</td>\n",
       "    </tr>\n",
       "    <tr>\n",
       "      <th>4</th>\n",
       "      <td>2016-01-01 22:45:00</td>\n",
       "      <td>2016-01-01 22:45:00</td>\n",
       "      <td>420.0</td>\n",
       "      <td>1.7</td>\n",
       "      <td>6.85</td>\n",
       "      <td>Cash</td>\n",
       "      <td>41.914616</td>\n",
       "      <td>-87.631717</td>\n",
       "      <td>POINT (-87.6317173661 41.9146162864)</td>\n",
       "      <td>41.892508</td>\n",
       "      <td>-87.626215</td>\n",
       "      <td>POINT (-87.6262149064 41.8925077809)</td>\n",
       "      <td>14.32</td>\n",
       "      <td>23</td>\n",
       "      <td>0</td>\n",
       "      <td>0</td>\n",
       "      <td>0</td>\n",
       "    </tr>\n",
       "  </tbody>\n",
       "</table>\n",
       "</div>"
      ],
      "text/plain": [
       "  trip_start_timestamp  trip_end_timestamp  trip_seconds  trip_miles  \\\n",
       "0  2016-01-01 15:00:00 2016-01-01 15:15:00         840.0         2.1   \n",
       "1  2016-01-01 16:00:00 2016-01-01 16:00:00         360.0         0.5   \n",
       "2  2016-01-01 02:30:00 2016-01-01 02:30:00         600.0         1.7   \n",
       "3  2016-01-01 15:15:00 2016-01-01 15:15:00         660.0         3.0   \n",
       "4  2016-01-01 22:45:00 2016-01-01 22:45:00         420.0         1.7   \n",
       "\n",
       "   fare_with_tolls payment_type  pickup_centroid_latitude  \\\n",
       "0             9.45  Credit Card                 41.885281   \n",
       "1             5.65         Cash                 41.884987   \n",
       "2             7.65         Cash                 41.870607   \n",
       "3             9.65         Cash                 41.965812   \n",
       "4             6.85         Cash                 41.914616   \n",
       "\n",
       "   pickup_centroid_longitude              pickup_centroid_location  \\\n",
       "0                 -87.657233  POINT (-87.6572331997 41.8852813201)   \n",
       "1                 -87.620993  POINT (-87.6209929134 41.8849871918)   \n",
       "2                 -87.622173  POINT (-87.6221729369 41.8706073724)   \n",
       "3                 -87.655879    POINT (-87.6558787862 41.96581197)   \n",
       "4                 -87.631717  POINT (-87.6317173661 41.9146162864)   \n",
       "\n",
       "   dropoff_centroid_latitude  dropoff_centroid_longitude  \\\n",
       "0                  41.899156                  -87.626211   \n",
       "1                  41.892073                  -87.628874   \n",
       "2                  41.885300                  -87.642808   \n",
       "3                  41.922686                  -87.649489   \n",
       "4                  41.892508                  -87.626215   \n",
       "\n",
       "              dropoff_centroid_location  avg_daily_wind_speed  avg_temp_f  \\\n",
       "0  POINT (-87.6262105324 41.8991556134)                 14.32          23   \n",
       "1  POINT (-87.6288741572 41.8920726347)                 14.32          23   \n",
       "2  POINT (-87.6428084655 41.8853000224)                 14.32          23   \n",
       "3  POINT (-87.6494887289 41.9226862843)                 14.32          23   \n",
       "4  POINT (-87.6262149064 41.8925077809)                 14.32          23   \n",
       "\n",
       "   fog  rain  snow  \n",
       "0    0     0     0  \n",
       "1    0     0     0  \n",
       "2    0     0     0  \n",
       "3    0     0     0  \n",
       "4    0     0     0  "
      ]
     },
     "execution_count": 36,
     "metadata": {},
     "output_type": "execute_result"
    }
   ],
   "source": [
    "taxi_weather_df.head()"
   ]
  },
  {
   "cell_type": "code",
   "execution_count": 37,
   "metadata": {
    "ExecuteTime": {
     "end_time": "2018-09-09T04:12:36.098048Z",
     "start_time": "2018-09-09T04:12:34.479407Z"
    }
   },
   "outputs": [],
   "source": [
    "#Change payment type to boolean\n",
    "taxi_weather_df['payment_type'] = pd.Categorical(taxi_weather_df['payment_type'])"
   ]
  },
  {
   "cell_type": "code",
   "execution_count": 38,
   "metadata": {
    "ExecuteTime": {
     "end_time": "2018-09-09T04:12:47.707203Z",
     "start_time": "2018-09-09T04:12:36.100110Z"
    }
   },
   "outputs": [],
   "source": [
    "#Let's drop all the records with a missing lat / long in either pickup or dropoff\n",
    "taxi_weather_clean = taxi_weather_df.dropna(subset=['pickup_centroid_latitude', 'pickup_centroid_longitude', 'dropoff_centroid_latitude', 'dropoff_centroid_longitude',\n",
    "                              'trip_seconds', 'trip_miles', 'fare_with_tolls'])"
   ]
  },
  {
   "cell_type": "code",
   "execution_count": 39,
   "metadata": {
    "ExecuteTime": {
     "end_time": "2018-09-09T04:12:47.745550Z",
     "start_time": "2018-09-09T04:12:47.713702Z"
    }
   },
   "outputs": [
    {
     "data": {
      "text/html": [
       "<div>\n",
       "<style scoped>\n",
       "    .dataframe tbody tr th:only-of-type {\n",
       "        vertical-align: middle;\n",
       "    }\n",
       "\n",
       "    .dataframe tbody tr th {\n",
       "        vertical-align: top;\n",
       "    }\n",
       "\n",
       "    .dataframe thead th {\n",
       "        text-align: right;\n",
       "    }\n",
       "</style>\n",
       "<table border=\"1\" class=\"dataframe\">\n",
       "  <thead>\n",
       "    <tr style=\"text-align: right;\">\n",
       "      <th></th>\n",
       "      <th>trip_start_timestamp</th>\n",
       "      <th>trip_end_timestamp</th>\n",
       "      <th>trip_seconds</th>\n",
       "      <th>trip_miles</th>\n",
       "      <th>fare_with_tolls</th>\n",
       "      <th>payment_type</th>\n",
       "      <th>pickup_centroid_latitude</th>\n",
       "      <th>pickup_centroid_longitude</th>\n",
       "      <th>pickup_centroid_location</th>\n",
       "      <th>dropoff_centroid_latitude</th>\n",
       "      <th>dropoff_centroid_longitude</th>\n",
       "      <th>dropoff_centroid_location</th>\n",
       "      <th>avg_daily_wind_speed</th>\n",
       "      <th>avg_temp_f</th>\n",
       "      <th>fog</th>\n",
       "      <th>rain</th>\n",
       "      <th>snow</th>\n",
       "    </tr>\n",
       "  </thead>\n",
       "  <tbody>\n",
       "    <tr>\n",
       "      <th>0</th>\n",
       "      <td>2016-01-01 15:00:00</td>\n",
       "      <td>2016-01-01 15:15:00</td>\n",
       "      <td>840.0</td>\n",
       "      <td>2.1</td>\n",
       "      <td>9.45</td>\n",
       "      <td>Credit Card</td>\n",
       "      <td>41.885281</td>\n",
       "      <td>-87.657233</td>\n",
       "      <td>POINT (-87.6572331997 41.8852813201)</td>\n",
       "      <td>41.899156</td>\n",
       "      <td>-87.626211</td>\n",
       "      <td>POINT (-87.6262105324 41.8991556134)</td>\n",
       "      <td>14.32</td>\n",
       "      <td>23</td>\n",
       "      <td>0</td>\n",
       "      <td>0</td>\n",
       "      <td>0</td>\n",
       "    </tr>\n",
       "    <tr>\n",
       "      <th>1</th>\n",
       "      <td>2016-01-01 16:00:00</td>\n",
       "      <td>2016-01-01 16:00:00</td>\n",
       "      <td>360.0</td>\n",
       "      <td>0.5</td>\n",
       "      <td>5.65</td>\n",
       "      <td>Cash</td>\n",
       "      <td>41.884987</td>\n",
       "      <td>-87.620993</td>\n",
       "      <td>POINT (-87.6209929134 41.8849871918)</td>\n",
       "      <td>41.892073</td>\n",
       "      <td>-87.628874</td>\n",
       "      <td>POINT (-87.6288741572 41.8920726347)</td>\n",
       "      <td>14.32</td>\n",
       "      <td>23</td>\n",
       "      <td>0</td>\n",
       "      <td>0</td>\n",
       "      <td>0</td>\n",
       "    </tr>\n",
       "  </tbody>\n",
       "</table>\n",
       "</div>"
      ],
      "text/plain": [
       "  trip_start_timestamp  trip_end_timestamp  trip_seconds  trip_miles  \\\n",
       "0  2016-01-01 15:00:00 2016-01-01 15:15:00         840.0         2.1   \n",
       "1  2016-01-01 16:00:00 2016-01-01 16:00:00         360.0         0.5   \n",
       "\n",
       "   fare_with_tolls payment_type  pickup_centroid_latitude  \\\n",
       "0             9.45  Credit Card                 41.885281   \n",
       "1             5.65         Cash                 41.884987   \n",
       "\n",
       "   pickup_centroid_longitude              pickup_centroid_location  \\\n",
       "0                 -87.657233  POINT (-87.6572331997 41.8852813201)   \n",
       "1                 -87.620993  POINT (-87.6209929134 41.8849871918)   \n",
       "\n",
       "   dropoff_centroid_latitude  dropoff_centroid_longitude  \\\n",
       "0                  41.899156                  -87.626211   \n",
       "1                  41.892073                  -87.628874   \n",
       "\n",
       "              dropoff_centroid_location  avg_daily_wind_speed  avg_temp_f  \\\n",
       "0  POINT (-87.6262105324 41.8991556134)                 14.32          23   \n",
       "1  POINT (-87.6288741572 41.8920726347)                 14.32          23   \n",
       "\n",
       "   fog  rain  snow  \n",
       "0    0     0     0  \n",
       "1    0     0     0  "
      ]
     },
     "execution_count": 39,
     "metadata": {},
     "output_type": "execute_result"
    }
   ],
   "source": [
    "taxi_weather_clean.head(2)"
   ]
  },
  {
   "cell_type": "code",
   "execution_count": null,
   "metadata": {
    "ExecuteTime": {
     "start_time": "2018-09-09T04:12:23.320Z"
    }
   },
   "outputs": [],
   "source": [
    "taxi_weather_clean[['fog', 'rain', 'snow']] = taxi_weather_clean[['fog', 'rain', 'snow']].fillna(value=0)"
   ]
  },
  {
   "cell_type": "code",
   "execution_count": null,
   "metadata": {
    "ExecuteTime": {
     "start_time": "2018-09-09T04:12:23.322Z"
    }
   },
   "outputs": [],
   "source": [
    "taxi_weather_clean.head()"
   ]
  },
  {
   "cell_type": "code",
   "execution_count": null,
   "metadata": {
    "ExecuteTime": {
     "start_time": "2018-09-09T04:12:23.323Z"
    }
   },
   "outputs": [],
   "source": [
    "taxi_weather_clean.count()[0]"
   ]
  },
  {
   "cell_type": "markdown",
   "metadata": {
    "ExecuteTime": {
     "end_time": "2018-09-06T22:04:14.813734Z",
     "start_time": "2018-09-06T22:04:14.809735Z"
    }
   },
   "source": [
    "> Remaining number of records after removing missing values containing records for 1st-15th February 2016: **81%** (673,474)  \n",
    "> Remaining number of records after removing missing values containing records for whole 2016: **84%** (16,656,816)"
   ]
  },
  {
   "cell_type": "code",
   "execution_count": null,
   "metadata": {
    "ExecuteTime": {
     "start_time": "2018-09-09T04:12:23.325Z"
    }
   },
   "outputs": [],
   "source": [
    "#Check how many records where removed by taking out zero value rows for fare, trip_seconds and trip_miles #139,699\n",
    "# taxi_weather_clean[(taxi_weather_clean['fare_with_tolls'] == 0.0) \n",
    "#                                           | (taxi_weather_clean['trip_seconds'] == 0.0) \n",
    "#                                           | (taxi_weather_clean['trip_miles'] == 0.0)].count()"
   ]
  },
  {
   "cell_type": "code",
   "execution_count": null,
   "metadata": {
    "ExecuteTime": {
     "start_time": "2018-09-09T04:12:23.326Z"
    }
   },
   "outputs": [],
   "source": [
    "#Let's get rid of the zeroes\n",
    "taxi_weather_clean = taxi_weather_clean[(taxi_weather_clean['fare_with_tolls'] != 0.0) \n",
    "                                          & (taxi_weather_clean['trip_seconds'] != 0.0) \n",
    "                                          & (taxi_weather_clean['trip_miles'] != 0.0)]"
   ]
  },
  {
   "cell_type": "code",
   "execution_count": null,
   "metadata": {
    "ExecuteTime": {
     "start_time": "2018-09-09T04:12:23.328Z"
    }
   },
   "outputs": [],
   "source": [
    "taxi_weather_clean.count()[0]"
   ]
  },
  {
   "cell_type": "markdown",
   "metadata": {},
   "source": [
    "> Remaining number of records after null and zero value removal for 1st-15th February 2016: **64%** (533,775)   \n",
    "> Remaining number of records after null and zero value removal for the whole 2016: **67%** (13,354,483)"
   ]
  },
  {
   "cell_type": "code",
   "execution_count": null,
   "metadata": {
    "ExecuteTime": {
     "start_time": "2018-09-09T04:12:23.330Z"
    },
    "scrolled": false
   },
   "outputs": [],
   "source": [
    "#Since taxi fare doesn't automatically include tolls, to get a base rate, I need to add tolls to the fare\n",
    "# taxi_weather_clean['fare_with_tolls'] = taxi_weather_clean['fare'] + taxi_weather_clean['tolls']"
   ]
  },
  {
   "cell_type": "code",
   "execution_count": null,
   "metadata": {
    "ExecuteTime": {
     "start_time": "2018-09-09T04:12:23.333Z"
    }
   },
   "outputs": [],
   "source": [
    "#Let's have a look if the miles per minute look reasonable\n",
    "plt.figure(dpi=100)\n",
    "plt.scatter(taxi_weather_clean['trip_miles'], taxi_weather_clean['trip_seconds'] / 3600.0)\n",
    "plt.title('Miles per hour')\n",
    "plt.xlabel('Miles')\n",
    "plt.ylabel('Hours');"
   ]
  },
  {
   "cell_type": "code",
   "execution_count": null,
   "metadata": {
    "ExecuteTime": {
     "start_time": "2018-09-09T04:12:23.334Z"
    }
   },
   "outputs": [],
   "source": [
    "miles_per_hour = taxi_weather_clean['trip_miles'] / (taxi_weather_clean['trip_seconds'] / 3600.0)"
   ]
  },
  {
   "cell_type": "code",
   "execution_count": null,
   "metadata": {
    "ExecuteTime": {
     "start_time": "2018-09-09T04:12:23.335Z"
    }
   },
   "outputs": [],
   "source": [
    "plt.figure(dpi=100)\n",
    "miles_per_hour.hist(bins=1000)\n",
    "plt.xlim(xmin=0.0, xmax=1000.0)\n",
    "plt.title('Miles per hour histogram')\n",
    "plt.xlabel('Miles / hour')\n",
    "plt.ylabel('Frequency');"
   ]
  },
  {
   "cell_type": "code",
   "execution_count": null,
   "metadata": {
    "ExecuteTime": {
     "start_time": "2018-09-09T04:12:23.337Z"
    }
   },
   "outputs": [],
   "source": [
    "#Looking at the data and also from a logical perspective, I've decided to filter out any rides with miles / hour higher than 100\n",
    "miles_per_hour[miles_per_hour > 100.0].count()"
   ]
  },
  {
   "cell_type": "code",
   "execution_count": null,
   "metadata": {
    "ExecuteTime": {
     "start_time": "2018-09-09T04:12:23.338Z"
    }
   },
   "outputs": [],
   "source": [
    "#Removing clear error records from the dataset (e.g. $1,000 for 0.1 mile and 6 min ride). Settling at max 100 miles an hour\n",
    "taxi_weather_clean = taxi_weather_clean[(taxi_weather_clean['trip_miles'] / (taxi_weather_clean['trip_seconds'] / 3600.0)) <= 100.0]"
   ]
  },
  {
   "cell_type": "code",
   "execution_count": null,
   "metadata": {
    "ExecuteTime": {
     "start_time": "2018-09-09T04:12:23.340Z"
    }
   },
   "outputs": [],
   "source": [
    "taxi_weather_clean.count()[0]"
   ]
  },
  {
   "cell_type": "markdown",
   "metadata": {},
   "source": [
    "> Number of records excluded by removing instances with speed higher than 100: **%** ()  \n",
    "> Number of records remaining (whole 2016): **67%** (13,301,861)"
   ]
  },
  {
   "cell_type": "code",
   "execution_count": null,
   "metadata": {
    "ExecuteTime": {
     "start_time": "2018-09-09T04:12:23.343Z"
    }
   },
   "outputs": [],
   "source": [
    "#Let's have a look if the miles per minute look reasonable\n",
    "plt.figure(dpi=100)\n",
    "plt.scatter(taxi_weather_clean['trip_miles'], taxi_weather_clean['trip_seconds'] / 3600.0)\n",
    "plt.title('Miles per hour (after cleaning)')\n",
    "plt.xlabel('Miles')\n",
    "plt.ylabel('Hours');"
   ]
  },
  {
   "cell_type": "code",
   "execution_count": null,
   "metadata": {
    "ExecuteTime": {
     "start_time": "2018-09-09T04:12:23.344Z"
    }
   },
   "outputs": [],
   "source": [
    "#Let's see that's the distribution of $/mile to better identify incorrect values\n",
    "fare_per_mile = taxi_weather_clean['fare_with_tolls'] / taxi_weather_clean['trip_miles']\n",
    "fare_per_minute = taxi_weather_clean['fare_with_tolls'] / (taxi_weather_clean['trip_seconds'] / 60)\n",
    "\n",
    "#Removing obvious outliers\n",
    "outlier_indices = list((fare_per_mile[fare_per_mile > 5000]).index)\n",
    "fare_per_mile = fare_per_mile.drop(index=outlier_indices)\n",
    "fare_per_minute = fare_per_minute.drop(index=outlier_indices)\n",
    "\n",
    "plt.figure(dpi=100)\n",
    "plt.scatter(fare_per_mile, fare_per_minute)\n",
    "plt.title('Fare per mile versus fare per minute')\n",
    "plt.xlabel('Fare/Mile')\n",
    "plt.ylabel('Fare/Minute');"
   ]
  },
  {
   "cell_type": "code",
   "execution_count": null,
   "metadata": {
    "ExecuteTime": {
     "start_time": "2018-09-09T04:12:23.346Z"
    }
   },
   "outputs": [],
   "source": [
    "#Fare analysis\n",
    "plt.figure(dpi=100)\n",
    "taxi_weather_clean['fare_with_tolls'].hist(bins=10000, color='c')\n",
    "plt.xlim(xmin=0, xmax=100)\n",
    "plt.title('The distribution of the fare variable')\n",
    "plt.xlabel('Fare ($)')\n",
    "plt.ylabel('Frequency');\n"
   ]
  },
  {
   "cell_type": "code",
   "execution_count": null,
   "metadata": {
    "ExecuteTime": {
     "start_time": "2018-09-09T04:12:23.347Z"
    }
   },
   "outputs": [],
   "source": [
    "#Check how many records are being excluded due to below rules\n",
    "taxi_weather_clean[((taxi_weather_clean['fare_with_tolls'] / taxi_weather_clean['trip_miles']) > 50) |\n",
    "                                 ((taxi_weather_clean['fare_with_tolls'] / (taxi_weather_clean['trip_seconds'] / 60.0)) > 250)].count()[0]"
   ]
  },
  {
   "cell_type": "code",
   "execution_count": null,
   "metadata": {
    "ExecuteTime": {
     "start_time": "2018-09-09T04:12:23.349Z"
    }
   },
   "outputs": [],
   "source": [
    "#Based on above analysis, I'm setting a max fare/mile at $250 and max fare/minute to $50\n",
    "taxi_weather_clean = taxi_weather_clean[((taxi_weather_clean['fare_with_tolls'] / taxi_weather_clean['trip_miles']) <= 50) |\n",
    "                                 ((taxi_weather_clean['fare_with_tolls'] / (taxi_weather_clean['trip_seconds'] / 60.0)) <= 250)]"
   ]
  },
  {
   "cell_type": "code",
   "execution_count": null,
   "metadata": {
    "ExecuteTime": {
     "start_time": "2018-09-09T04:12:23.350Z"
    }
   },
   "outputs": [],
   "source": [
    "taxi_weather_clean.count()[0]"
   ]
  },
  {
   "cell_type": "markdown",
   "metadata": {},
   "source": [
    "> Number of records excluded by removing instances of fare/mile of more than USD 250 and fare/minute of more than USD 50: **8%** (39,999)  \n",
    "> Number of records remaining: **67%** (13,301,796)"
   ]
  },
  {
   "cell_type": "code",
   "execution_count": null,
   "metadata": {
    "ExecuteTime": {
     "start_time": "2018-09-09T04:12:23.352Z"
    }
   },
   "outputs": [],
   "source": [
    "#Let's see that's the distribution of $/mile to better identify incorrect values\n",
    "fare_per_mile = taxi_weather_clean['fare_with_tolls'] / taxi_weather_clean['trip_miles']\n",
    "fare_per_minute = taxi_weather_clean['fare_with_tolls'] / (taxi_weather_clean['trip_seconds'] / 60)\n",
    "\n",
    "\n",
    "#Replot to see the effect\n",
    "plt.figure(dpi=100)\n",
    "plt.scatter(fare_per_mile, fare_per_minute)\n",
    "plt.title('Fare per mile versus fare per minute (after cleaning)')\n",
    "plt.xlabel('Fare/Mile')\n",
    "plt.ylabel('Fare/Minute');"
   ]
  },
  {
   "cell_type": "code",
   "execution_count": null,
   "metadata": {
    "ExecuteTime": {
     "start_time": "2018-09-09T04:12:23.353Z"
    },
    "scrolled": true
   },
   "outputs": [],
   "source": [
    "# with open('clean_taxi_weather_dataset.pkl', 'wb') as clean_pickle:\n",
    "#     pickle.dump(taxi_weather_clean, clean_pickle)"
   ]
  },
  {
   "cell_type": "code",
   "execution_count": null,
   "metadata": {
    "ExecuteTime": {
     "start_time": "2018-09-09T04:12:23.355Z"
    }
   },
   "outputs": [],
   "source": [
    "# with open('clean_taxi_weather_dataset.pkl', 'rb') as clean_pickle:\n",
    "#     taxi_weather_clean = pickle.load(clean_pickle)"
   ]
  },
  {
   "cell_type": "markdown",
   "metadata": {},
   "source": [
    "## Analysis Time!"
   ]
  },
  {
   "cell_type": "code",
   "execution_count": null,
   "metadata": {
    "ExecuteTime": {
     "start_time": "2018-09-09T04:12:23.356Z"
    }
   },
   "outputs": [],
   "source": [
    "#Let's explore the tips and tolls columns\n",
    "taxi_weather_clean.groupby(['payment_type'])['trip_miles'].describe()"
   ]
  },
  {
   "cell_type": "markdown",
   "metadata": {},
   "source": [
    "> On average, trips paid with a credit card had longer distance, and therefore, longer duration and higher fare.\n",
    "> "
   ]
  },
  {
   "cell_type": "code",
   "execution_count": null,
   "metadata": {
    "ExecuteTime": {
     "start_time": "2018-09-09T04:12:23.358Z"
    },
    "scrolled": false
   },
   "outputs": [],
   "source": [
    "#Let's explore the distribution of variables of interest\n",
    "plt.figure(figsize=(30, 15))\n",
    "plt.rcParams.update({'font.size': 22})\n",
    "\n",
    "plt.subplot(1, 3, 1)\n",
    "plt.hist(taxi_weather_clean['trip_miles'], bins=1000, color='m')\n",
    "plt.title('Trip Length Histogram (in miles)')\n",
    "plt.xlim(xmin=0, xmax=30)\n",
    "plt.xlabel('Miles')\n",
    "plt.ylabel('Frequency')\n",
    "\n",
    "plt.subplot(1, 3, 2)\n",
    "plt.hist(taxi_weather_clean['trip_seconds'], bins=1000, color='c')\n",
    "plt.title('Trip Length Histogram (in seconds)')\n",
    "plt.xlim(xmin=0, xmax=10000)\n",
    "plt.xlabel('Seconds')\n",
    "plt.ylabel('Frequency')\n",
    "\n",
    "plt.subplot(1, 3, 3)\n",
    "plt.hist(taxi_weather_clean['fare_with_tolls'], bins=5000, color='r')\n",
    "plt.title('Trip Fare (in $)')\n",
    "plt.xlim(xmin=0, xmax=100)\n",
    "plt.xlabel('$')\n",
    "plt.ylabel('Frequency');"
   ]
  },
  {
   "cell_type": "markdown",
   "metadata": {},
   "source": [
    "> Will be having some logging fun!"
   ]
  },
  {
   "cell_type": "markdown",
   "metadata": {},
   "source": [
    "## Let's check out the Time Series fun"
   ]
  },
  {
   "cell_type": "markdown",
   "metadata": {},
   "source": [
    "### How about distance travelled or fares paid by the three variables (datetime, weekday, time)?"
   ]
  },
  {
   "cell_type": "code",
   "execution_count": null,
   "metadata": {
    "ExecuteTime": {
     "start_time": "2018-09-09T04:12:23.360Z"
    }
   },
   "outputs": [],
   "source": [
    "avg_pickup_fare_over_datetime = taxi_weather_clean.groupby(['trip_start_timestamp'])['fare_with_tolls'].mean()\n",
    "avg_pickup_fare_by_weekday = taxi_weather_clean.groupby(['pickup_weekday'])['fare_with_tolls'].mean()\n",
    "avg_pickup_fare_by_hour_min = taxi_weather_clean.groupby(['pickup_time'])['fare_with_tolls'].mean()"
   ]
  },
  {
   "cell_type": "code",
   "execution_count": null,
   "metadata": {
    "ExecuteTime": {
     "start_time": "2018-09-09T04:12:23.361Z"
    },
    "scrolled": false
   },
   "outputs": [],
   "source": [
    "plt.figure(figsize=(25, 20))\n",
    "plt.subplots_adjust(left=0.125, bottom=0.1, right=0.9, top=0.9,\n",
    "                wspace=0.2, hspace=0.5)\n",
    "\n",
    "plt.subplot(3, 1, 1)\n",
    "avg_pickup_fare_over_datetime.plot()\n",
    "plt.xticks([1,2,3,4,5,6,7,8,9,10,11,12])\n",
    "plt.title('Average fare over datetime')\n",
    "plt.xlabel('Day / Time')\n",
    "plt.ylabel('Number of rides')\n",
    "\n",
    "plt.subplot(3, 1, 2)\n",
    "avg_pickup_fare_by_weekday.plot(color='c')\n",
    "plt.title('Average fare by weekday')\n",
    "plt.xlabel('Weekday (Monday = 0)')\n",
    "plt.ylabel('Number of rides')\n",
    "\n",
    "plt.subplot(3, 1, 3)\n",
    "avg_pickup_fare_by_hour_min.plot(color='m')\n",
    "plt.title('Average fare by time')\n",
    "plt.xlabel('Time')\n",
    "plt.ylabel('Number of rides');"
   ]
  },
  {
   "cell_type": "markdown",
   "metadata": {},
   "source": [
    "> "
   ]
  },
  {
   "cell_type": "markdown",
   "metadata": {},
   "source": [
    "### Zooming in on period Dec 2016"
   ]
  },
  {
   "cell_type": "code",
   "execution_count": null,
   "metadata": {
    "ExecuteTime": {
     "start_time": "2018-09-09T04:12:23.363Z"
    }
   },
   "outputs": [],
   "source": [
    "taxi_weather_Dec = taxi_weather_clean[(taxi_weather_clean['trip_start_timestamp'] >= '2016-12-01 00:00:00') &\n",
    "                                         (taxi_weather_clean['trip_start_timestamp'] <= '2016-12-31 23:59:59')]"
   ]
  },
  {
   "cell_type": "code",
   "execution_count": null,
   "metadata": {
    "ExecuteTime": {
     "start_time": "2018-09-09T04:12:23.365Z"
    }
   },
   "outputs": [],
   "source": [
    "taxi_weather_Dec.tail()"
   ]
  },
  {
   "cell_type": "code",
   "execution_count": null,
   "metadata": {
    "ExecuteTime": {
     "start_time": "2018-09-09T04:12:23.367Z"
    }
   },
   "outputs": [],
   "source": [
    "avg_D_fare_over_datetime = taxi_weather_Dec.groupby(['trip_start_timestamp'])['trip_start_timestamp'].count()\n",
    "avg_D_fare_by_weekday = taxi_weather_Dec.groupby(['pickup_weekday'])['pickup_weekday'].count()\n",
    "avg_D_fare_by_hour_min = taxi_weather_Dec.groupby(['pickup_time'])['pickup_time'].count()"
   ]
  },
  {
   "cell_type": "code",
   "execution_count": null,
   "metadata": {
    "ExecuteTime": {
     "start_time": "2018-09-09T04:12:23.369Z"
    }
   },
   "outputs": [],
   "source": [
    "plt.figure(figsize=(25, 20))\n",
    "plt.figure(figsize=(25, 20))\n",
    "plt.subplots_adjust(left=0.125, bottom=0.1, right=0.9, top=0.9,\n",
    "                wspace=0.2, hspace=0.8)\n",
    "\n",
    "plt.subplot(3, 1, 1)\n",
    "avg_D_fare_over_datetime.plot()\n",
    "plt.title('Average fare over datetime (Nov 2016)')\n",
    "plt.xlabel('Day / Time')\n",
    "plt.ylabel('Avg. Fare')\n",
    "\n",
    "plt.subplot(3, 1, 2)\n",
    "avg_D_fare_by_weekday.plot(color='c')\n",
    "plt.title('Average fare by weekday (Nov 2016)')\n",
    "plt.xlabel('Weekday (Monday = 0)')\n",
    "plt.ylabel('Avg. Fare')\n",
    "\n",
    "plt.subplot(3, 1, 3)\n",
    "avg_D_fare_by_hour_min.plot(color='m')\n",
    "plt.title('Average fare by time (Nov 2016)')\n",
    "plt.xlabel('Time')\n",
    "plt.ylabel('Avg. Fare');"
   ]
  },
  {
   "cell_type": "markdown",
   "metadata": {},
   "source": [
    "### Serious Time Series stuff, examining demand over time"
   ]
  },
  {
   "cell_type": "code",
   "execution_count": null,
   "metadata": {
    "ExecuteTime": {
     "start_time": "2018-09-09T04:12:23.370Z"
    }
   },
   "outputs": [],
   "source": [
    "taxi_weather_clean['pickup_time'] = taxi_weather_clean['trip_start_timestamp'].dt.time\n",
    "taxi_weather_clean['pickup_date'] = taxi_weather_clean['trip_start_timestamp'].dt.date\n",
    "taxi_weather_clean['pickup_weekday'] = taxi_weather_clean['trip_start_timestamp'].dt.weekday      #Monday is 0"
   ]
  },
  {
   "cell_type": "code",
   "execution_count": null,
   "metadata": {
    "ExecuteTime": {
     "start_time": "2018-09-09T04:12:23.371Z"
    }
   },
   "outputs": [],
   "source": [
    "taxi_weather_clean.head(2)"
   ]
  },
  {
   "cell_type": "code",
   "execution_count": null,
   "metadata": {
    "ExecuteTime": {
     "start_time": "2018-09-09T04:12:23.373Z"
    }
   },
   "outputs": [],
   "source": [
    "pickup_volume_over_datetime = taxi_weather_clean.groupby(['trip_start_timestamp'])['trip_start_timestamp'].count()\n",
    "pickup_volume_by_weekday = taxi_weather_clean.groupby(['pickup_weekday'])['pickup_weekday'].count()\n",
    "pickup_volume_by_hour_min = taxi_weather_clean.groupby(['pickup_time'])['pickup_time'].count()"
   ]
  },
  {
   "cell_type": "code",
   "execution_count": null,
   "metadata": {
    "ExecuteTime": {
     "start_time": "2018-09-09T04:12:23.374Z"
    }
   },
   "outputs": [],
   "source": [
    "plt.figure(figsize=(25, 20))\n",
    "plt.subplots_adjust(left=0.125, bottom=0.1, right=0.9, top=0.9,\n",
    "                wspace=0.2, hspace=0.8)\n",
    "\n",
    "plt.subplot(3, 1, 1)\n",
    "pickup_volume_over_datetime.plot()\n",
    "plt.title('Number of pickups over datetime')\n",
    "plt.xlabel('Day / Time')\n",
    "plt.ylabel('Number of rides')\n",
    "\n",
    "plt.subplot(3, 1, 2)\n",
    "pickup_volume_by_weekday.plot(color='c')\n",
    "plt.title('Number of pickups by weekday')\n",
    "plt.xlabel('Weekday (Monday = 0)')\n",
    "plt.ylabel('Number of rides')\n",
    "\n",
    "plt.subplot(3, 1, 3)\n",
    "pickup_volume_by_hour_min.plot(color='m')\n",
    "plt.title('Number of pickups by time')\n",
    "plt.xlabel('Time')\n",
    "plt.ylabel('Number of rides');"
   ]
  },
  {
   "cell_type": "markdown",
   "metadata": {},
   "source": [
    "> There is clearly a weekly pattern where Monday and Sunday seem to have the lowest demand (need to verify that, since it's a little surpising)  \n",
    "> There is also a clear pattern in number of rides during the day, with spikes at peak hours, especially the afternoon peak and being slow early in the morning"
   ]
  },
  {
   "cell_type": "markdown",
   "metadata": {},
   "source": [
    "### How about smoothening the curve to see patterns better"
   ]
  },
  {
   "cell_type": "code",
   "execution_count": null,
   "metadata": {
    "ExecuteTime": {
     "start_time": "2018-09-09T04:12:23.376Z"
    }
   },
   "outputs": [],
   "source": [
    "#Demand over date and time\n",
    "pickup_volume_over_datetime = taxi_weather_clean.groupby(['trip_start_timestamp'])['trip_start_timestamp'].count()\n",
    "pickup_volume_over_datetime_365R = pickup_volume_over_datetime.rolling(365).mean()\n",
    "\n",
    "#Demand over time\n",
    "pickup_volume_by_hour_min = taxi_weather_clean.groupby(['pickup_time'])['pickup_time'].count()\n",
    "pickup_volume_by_hour_min_24R = pickup_volume_by_hour_min.rolling(24).mean()"
   ]
  },
  {
   "cell_type": "code",
   "execution_count": null,
   "metadata": {
    "ExecuteTime": {
     "start_time": "2018-09-09T04:12:23.377Z"
    }
   },
   "outputs": [],
   "source": [
    "plt.figure(figsize=(20, 5))\n",
    "\n",
    "pickup_volume_over_datetime_365R.plot()\n",
    "plt.title('Number of pickups over datetime')\n",
    "plt.xlabel('Months')\n",
    "plt.ylabel('Number of rides');"
   ]
  },
  {
   "cell_type": "code",
   "execution_count": null,
   "metadata": {
    "ExecuteTime": {
     "start_time": "2018-09-09T04:12:23.379Z"
    }
   },
   "outputs": [],
   "source": [
    "plt.figure(figsize=(20, 5))\n",
    "\n",
    "pickup_volume_by_hour_min_24R.plot()\n",
    "plt.title('Number of pickups over time')\n",
    "plt.xlabel('Time')\n",
    "plt.ylabel('Number of rides');"
   ]
  },
  {
   "cell_type": "markdown",
   "metadata": {},
   "source": [
    "### Looking at the demand over time"
   ]
  },
  {
   "cell_type": "code",
   "execution_count": null,
   "metadata": {},
   "outputs": [],
   "source": []
  },
  {
   "cell_type": "code",
   "execution_count": null,
   "metadata": {
    "ExecuteTime": {
     "start_time": "2018-09-09T04:12:23.382Z"
    }
   },
   "outputs": [],
   "source": [
    "demand_TS_LR = LinearRegression()\n"
   ]
  },
  {
   "cell_type": "markdown",
   "metadata": {},
   "source": [
    "### Explore exogenious variables"
   ]
  },
  {
   "cell_type": "code",
   "execution_count": null,
   "metadata": {
    "ExecuteTime": {
     "start_time": "2018-09-09T04:12:23.383Z"
    }
   },
   "outputs": [],
   "source": [
    "taxi_weather_Dec.corr()"
   ]
  },
  {
   "cell_type": "markdown",
   "metadata": {},
   "source": [
    "### Scale the data"
   ]
  },
  {
   "cell_type": "code",
   "execution_count": null,
   "metadata": {
    "ExecuteTime": {
     "start_time": "2018-09-09T04:12:23.384Z"
    }
   },
   "outputs": [],
   "source": [
    "scaler = StandardScaler()\n",
    "scalled_ride_feat = scaler.fit_transform()\n"
   ]
  },
  {
   "cell_type": "markdown",
   "metadata": {},
   "source": [
    "### Log distance"
   ]
  },
  {
   "cell_type": "code",
   "execution_count": null,
   "metadata": {},
   "outputs": [],
   "source": []
  },
  {
   "cell_type": "code",
   "execution_count": null,
   "metadata": {},
   "outputs": [],
   "source": []
  },
  {
   "cell_type": "code",
   "execution_count": null,
   "metadata": {},
   "outputs": [],
   "source": []
  },
  {
   "cell_type": "code",
   "execution_count": null,
   "metadata": {},
   "outputs": [],
   "source": []
  },
  {
   "cell_type": "code",
   "execution_count": null,
   "metadata": {},
   "outputs": [],
   "source": []
  },
  {
   "cell_type": "code",
   "execution_count": null,
   "metadata": {},
   "outputs": [],
   "source": []
  },
  {
   "cell_type": "code",
   "execution_count": null,
   "metadata": {},
   "outputs": [],
   "source": []
  },
  {
   "cell_type": "markdown",
   "metadata": {},
   "source": [
    "## Finally! Mapping and visualizing :)"
   ]
  },
  {
   "cell_type": "markdown",
   "metadata": {},
   "source": [
    "### Update location columns for pickup and dropoff using shapely (converting the dataframe to GeoPandas)"
   ]
  },
  {
   "cell_type": "code",
   "execution_count": null,
   "metadata": {
    "ExecuteTime": {
     "start_time": "2018-09-09T04:12:23.392Z"
    }
   },
   "outputs": [],
   "source": [
    "#replace pickup_centroid_location and dropoff_centroid_location columns with point coordinates using shapely\n",
    "pickup_geopoint = list(zip(taxi_weather_df['pickup_centroid_longitude'], taxi_weather_df['pickup_centroid_latitude']))\n",
    "dropoff_geopoint = list(zip(taxi_weather_df['dropoff_centroid_longitude'], taxi_weather_df['dropoff_centroid_latitude']))\n",
    "\n",
    "taxi_weather_df['pickup_centroid_location'] = pickup_geopoint\n",
    "taxi_weather_df['dropoff_centroid_location'] = dropoff_geopoint\n",
    "\n",
    "taxi_weather_df['pickup_centroid_location'] = taxi_weather_df['pickup_centroid_location'].apply(Point)\n",
    "taxi_weather_df['dropoff_centroid_location'] = taxi_weather_df['dropoff_centroid_location'].apply(Point);\n"
   ]
  },
  {
   "cell_type": "code",
   "execution_count": null,
   "metadata": {
    "ExecuteTime": {
     "start_time": "2018-09-09T04:12:23.393Z"
    }
   },
   "outputs": [],
   "source": [
    "taxi_weather_df.head(2)"
   ]
  },
  {
   "cell_type": "code",
   "execution_count": null,
   "metadata": {
    "ExecuteTime": {
     "start_time": "2018-09-09T04:12:23.395Z"
    }
   },
   "outputs": [],
   "source": [
    "taxi_weather_gdf = gpd.GeoDataFrame(taxi_weather_df, geometry='pickup_centroid_location')"
   ]
  },
  {
   "cell_type": "code",
   "execution_count": null,
   "metadata": {
    "ExecuteTime": {
     "start_time": "2018-09-09T04:12:23.397Z"
    }
   },
   "outputs": [],
   "source": [
    "taxi_weather_gdf.tail(3)"
   ]
  },
  {
   "cell_type": "code",
   "execution_count": null,
   "metadata": {
    "ExecuteTime": {
     "start_time": "2018-09-09T04:12:23.399Z"
    }
   },
   "outputs": [],
   "source": [
    "# with fiona.drivers():\n",
    "#     with fiona.open(\"./Datasets/USA_adm/USA_adm2.shp\") as source:\n",
    "#         meta = source.meta\n",
    "#         geoms = []\n",
    "#         for fear in source:\n",
    "#             geoms.append(fear['geometry'])"
   ]
  },
  {
   "cell_type": "code",
   "execution_count": null,
   "metadata": {
    "ExecuteTime": {
     "start_time": "2018-09-09T04:12:23.400Z"
    }
   },
   "outputs": [],
   "source": [
    "# geoms[1]"
   ]
  },
  {
   "cell_type": "code",
   "execution_count": null,
   "metadata": {
    "ExecuteTime": {
     "start_time": "2018-09-09T04:12:23.401Z"
    },
    "scrolled": true
   },
   "outputs": [],
   "source": [
    "# # usa_shape_link = \"./Datasets/LKA_adm/LKA_adm1.shp\"\n",
    "# geo_df = gpd.GeoDataFrame(geoms)\n",
    "# geo_df.head()"
   ]
  },
  {
   "cell_type": "code",
   "execution_count": null,
   "metadata": {
    "ExecuteTime": {
     "start_time": "2018-09-09T04:12:23.403Z"
    }
   },
   "outputs": [],
   "source": [
    "# geo_df.plot()"
   ]
  },
  {
   "cell_type": "code",
   "execution_count": null,
   "metadata": {
    "ExecuteTime": {
     "start_time": "2018-09-09T04:12:23.405Z"
    },
    "scrolled": false
   },
   "outputs": [],
   "source": [
    "# df = geopandas.read_file(geopandas.datasets.get_path('nybb'))\n",
    "# world = gpd.read_file(gpd.datasets.get_path('naturalearth_lowres'))\n",
    "# # We restrict to North America.\n",
    "# ax = geo_df.plot(\n",
    "#     color='white', edgecolor='blue')\n",
    "\n",
    "# # We can now plot our GeoDataFrame.\n",
    "# taxi_weather_gdf.plot(ax=ax, color='red')\n",
    "# plt.show()\n",
    "\n",
    "taxi_weather_gdf.plot(figsize=(10, 10), alpha=0.5, edgecolor='c')\n",
    "plt.title('Pickup locations')\n",
    "plt.xlabel('Longitude')\n",
    "plt.ylabel('Latitude');"
   ]
  },
  {
   "cell_type": "code",
   "execution_count": null,
   "metadata": {},
   "outputs": [],
   "source": []
  },
  {
   "cell_type": "code",
   "execution_count": null,
   "metadata": {},
   "outputs": [],
   "source": []
  },
  {
   "cell_type": "code",
   "execution_count": null,
   "metadata": {},
   "outputs": [],
   "source": []
  }
 ],
 "metadata": {
  "kernelspec": {
   "display_name": "Python 3",
   "language": "python",
   "name": "python3"
  },
  "language_info": {
   "codemirror_mode": {
    "name": "ipython",
    "version": 3
   },
   "file_extension": ".py",
   "mimetype": "text/x-python",
   "name": "python",
   "nbconvert_exporter": "python",
   "pygments_lexer": "ipython3",
   "version": "3.6.5"
  },
  "varInspector": {
   "cols": {
    "lenName": 16,
    "lenType": 16,
    "lenVar": 40
   },
   "kernels_config": {
    "python": {
     "delete_cmd_postfix": "",
     "delete_cmd_prefix": "del ",
     "library": "var_list.py",
     "varRefreshCmd": "print(var_dic_list())"
    },
    "r": {
     "delete_cmd_postfix": ") ",
     "delete_cmd_prefix": "rm(",
     "library": "var_list.r",
     "varRefreshCmd": "cat(var_dic_list()) "
    }
   },
   "types_to_exclude": [
    "module",
    "function",
    "builtin_function_or_method",
    "instance",
    "_Feature"
   ],
   "window_display": false
  }
 },
 "nbformat": 4,
 "nbformat_minor": 2
}
