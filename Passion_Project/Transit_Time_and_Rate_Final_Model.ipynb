{
 "cells": [
  {
   "cell_type": "markdown",
   "metadata": {},
   "source": [
    "## First try at getting some data"
   ]
  },
  {
   "cell_type": "code",
   "execution_count": 1,
   "metadata": {
    "ExecuteTime": {
     "end_time": "2018-09-15T01:14:14.547826Z",
     "start_time": "2018-09-15T01:14:14.538118Z"
    }
   },
   "outputs": [
    {
     "data": {
      "text/html": [
       "<style>.container { width:95% !important; }</style>"
      ],
      "text/plain": [
       "<IPython.core.display.HTML object>"
      ]
     },
     "metadata": {},
     "output_type": "display_data"
    }
   ],
   "source": [
    "from IPython.core.display import display, HTML\n",
    "display(HTML(\"<style>.container { width:95% !important; }</style>\"))"
   ]
  },
  {
   "cell_type": "code",
   "execution_count": 7,
   "metadata": {
    "ExecuteTime": {
     "end_time": "2018-09-15T01:25:31.149744Z",
     "start_time": "2018-09-15T01:25:29.120200Z"
    }
   },
   "outputs": [
    {
     "name": "stderr",
     "output_type": "stream",
     "text": [
      "/anaconda3/lib/python3.6/site-packages/statsmodels/compat/pandas.py:56: FutureWarning: The pandas.core.datetools module is deprecated and will be removed in a future version. Please use the pandas.tseries module instead.\n",
      "  from pandas.core import datetools\n",
      "/anaconda3/lib/python3.6/site-packages/sklearn/cross_validation.py:41: DeprecationWarning: This module was deprecated in version 0.18 in favor of the model_selection module into which all the refactored classes and functions are moved. Also note that the interface of the new CV iterators are different from that of this module. This module will be removed in 0.20.\n",
      "  \"This module will be removed in 0.20.\", DeprecationWarning)\n"
     ]
    }
   ],
   "source": [
    "#Essentials\n",
    "import numpy as np\n",
    "import pandas as pd\n",
    "import pickle\n",
    "import re\n",
    "import datetime as dt\n",
    "import time as t\n",
    "from termcolor import colored\n",
    "\n",
    "#SQL related\n",
    "import psycopg2\n",
    "import sqlite3\n",
    "from sqlalchemy import create_engine\n",
    "import pandas.io.sql as pd_sql\n",
    "\n",
    "#Visualization\n",
    "import matplotlib.pyplot as plt\n",
    "import matplotlib\n",
    "import seaborn as sns\n",
    "from  statsmodels.graphics.tsaplots import plot_pacf\n",
    "\n",
    "#Time series\n",
    "# from fbprophet import Prophet\n",
    "\n",
    "#Regression imports\n",
    "from sklearn.preprocessing import StandardScaler\n",
    "from statsmodels.tsa.stattools import adfuller\n",
    "from sklearn.linear_model import LinearRegression, Ridge, Lasso\n",
    "from sklearn.ensemble import RandomForestRegressor\n",
    "from xgboost import XGBRegressor\n",
    "from sklearn.model_selection import GridSearchCV\n",
    "from sklearn import feature_selection as f_select\n",
    "from sklearn.model_selection import cross_val_score\n",
    "from sklearn.cross_validation import KFold\n",
    "from sklearn import metrics\n",
    "from sklearn.metrics import mean_squared_error\n",
    "from sklearn.model_selection import learning_curve\n",
    "\n",
    "\n",
    "#Nice to have\n",
    "from sklearn.pipeline import make_pipeline\n",
    "\n",
    "#Geography magic\n",
    "import geocoder\n",
    "# import googlemaps\n",
    "import geopy.distance as gd\n",
    "import geopandas as gpd\n",
    "import shapely\n",
    "from shapely.geometry import Point\n",
    "\n",
    "%matplotlib inline\n",
    "from matplotlib.pylab import rcParams\n",
    "rcParams['figure.figsize'] = 25, 6\n",
    "rcParams.update({'font.size': 14})"
   ]
  },
  {
   "cell_type": "markdown",
   "metadata": {},
   "source": [
    "### Load all the data into an SQL database"
   ]
  },
  {
   "cell_type": "code",
   "execution_count": 8,
   "metadata": {
    "ExecuteTime": {
     "end_time": "2018-09-15T01:25:31.194800Z",
     "start_time": "2018-09-15T01:25:31.182487Z"
    }
   },
   "outputs": [],
   "source": [
    "# Set up the database connection\n",
    "conn = psycopg2.connect(dbname=\"taxi_rides_db\", user=\"auste_m\")"
   ]
  },
  {
   "cell_type": "code",
   "execution_count": 9,
   "metadata": {
    "ExecuteTime": {
     "end_time": "2018-09-15T01:25:31.237118Z",
     "start_time": "2018-09-15T01:25:31.232259Z"
    }
   },
   "outputs": [],
   "source": [
    "# taxi_rides_query = \"\"\"SELECT * FROM taxi_rides WHERE trip_start_timestamp BETWEEN '2016-02-01' AND '2016-02-15';\"\"\" \n",
    "# weather_query = \"\"\"SELECT * FROM chicago_weather WHERE date BETWEEN '2016-02-01' AND '2016-02-15';\"\"\"\n",
    "\n",
    "taxi_weather_query = \"\"\"SELECT TR.trip_start_timestamp,\n",
    "                                TR.trip_end_timestamp,\n",
    "                                TR.trip_seconds,\n",
    "                                TR.trip_miles,\n",
    "                                --TR.pickup_community_area,\n",
    "                                --TR.dropoff_community_area,\n",
    "                                --TR.fare,\n",
    "                                --TR.tolls,\n",
    "                                CASE WHEN TR.tolls IS NULL THEN TR.fare ELSE TR.fare + TR.tolls END as fare_with_tolls,\n",
    "                                --TR.tips,\n",
    "                                --TR.trip_total,\n",
    "                                TR.payment_type,\n",
    "                                TR.pickup_centroid_latitude,\n",
    "                                TR.pickup_centroid_longitude,\n",
    "                                TR.pickup_centroid_location,\n",
    "                                TR.dropoff_centroid_latitude,\n",
    "                                TR.dropoff_centroid_longitude,\n",
    "                                TR.dropoff_centroid_location,\n",
    "                                CW.avg_daily_wind_speed,\n",
    "                                CW.avg_temp_f,\n",
    "                                CASE WHEN CW.fog = 1 OR CW.heavy_fog = 1 OR ice_fog = 1 OR mist = 1 THEN 1 ELSE 0 END as fog,\n",
    "                                CASE WHEN CW.rain = 1 OR CW.drizzle = 1 OR CW.hail = 1 THEN 1 ELSE 0 END as rain,\n",
    "                                CASE WHEN CW.snow = 1 OR CW.freezing_rain = 1 OR drifting_snow = 1 THEN 1 ELSE 0 END as snow\n",
    "                                \n",
    "                        FROM taxi_rides_clean as TR\n",
    "                        LEFT JOIN chicago_weather as CW\n",
    "                        ON CAST(TR.trip_start_timestamp AS DATE) = CAST(date AS DATE)\n",
    "                        WHERE trip_start_timestamp BETWEEN '2017-01-01' AND '2017-02-28'\n",
    "                        ORDER BY TR.trip_start_timestamp;\"\"\" "
   ]
  },
  {
   "cell_type": "code",
   "execution_count": 10,
   "metadata": {
    "ExecuteTime": {
     "end_time": "2018-09-15T01:26:25.088528Z",
     "start_time": "2018-09-15T01:25:31.272503Z"
    },
    "scrolled": false
   },
   "outputs": [],
   "source": [
    "#approx. 30min to load the whole of 2016 data\n",
    "sql_load = pd.read_sql_query(taxi_weather_query, con=conn)"
   ]
  },
  {
   "cell_type": "code",
   "execution_count": 11,
   "metadata": {
    "ExecuteTime": {
     "end_time": "2018-09-15T01:26:25.627563Z",
     "start_time": "2018-09-15T01:26:25.260018Z"
    }
   },
   "outputs": [],
   "source": [
    "train_set_jan = sql_load[(sql_load['trip_start_timestamp'] >= '2017-01-01 00:00:00') & \n",
    "                         (sql_load['trip_start_timestamp'] <= '2017-01-31 23:59:59')]\n",
    "\n",
    "test_set_feb = sql_load[(sql_load['trip_start_timestamp'] >= '2017-02-01 00:00:00') & \n",
    "                         (sql_load['trip_start_timestamp'] < '2017-02-28 23:59:59')]"
   ]
  },
  {
   "cell_type": "code",
   "execution_count": 12,
   "metadata": {
    "ExecuteTime": {
     "end_time": "2018-09-15T01:26:25.838765Z",
     "start_time": "2018-09-15T01:26:25.835159Z"
    }
   },
   "outputs": [],
   "source": [
    "# taxi_weather_df = sql_load\n",
    "# taxi_weather_df = sql_load[sql_load['trip_start_timestamp'] <= '2016-12-31 23:59:59']\n",
    "# test_set_jan = sql_load[(sql_load['trip_start_timestamp'] >= '2017-01-01 00:00:00') & (sql_load['trip_start_timestamp'] < '2017-01-31 23:59:59')]\n",
    "# test_set_feb = sql_load[(sql_load['trip_start_timestamp'] >= '2017-02-01 00:00:00') & (sql_load['trip_start_timestamp'] < '2017-02-28 23:59:59')]\n",
    "# test_set_mar = sql_load[(sql_load['trip_start_timestamp'] >= '2017-03-01 00:00:00') & (sql_load['trip_start_timestamp'] < '2017-03-31 23:59:59')]\n",
    "# test_set_apr = sql_load[(sql_load['trip_start_timestamp'] >= '2017-04-01 00:00:00') & (sql_load['trip_start_timestamp'] < '2017-04-30 23:59:59')]\n",
    "# test_set_may = sql_load[(sql_load['trip_start_timestamp'] >= '2017-05-01 00:00:00') & (sql_load['trip_start_timestamp'] < '2017-03-31 23:59:59')]\n",
    "# test_set_jun = sql_load[(sql_load['trip_start_timestamp'] >= '2017-06-01 00:00:00') & (sql_load['trip_start_timestamp'] < '2017-06-30 23:59:59')]\n",
    "# test_set_jul = sql_load[(sql_load['trip_start_timestamp'] >= '2017-07-01 00:00:00') & (sql_load['trip_start_timestamp'] < '2017-03-31 23:59:59')]"
   ]
  },
  {
   "cell_type": "code",
   "execution_count": 13,
   "metadata": {
    "ExecuteTime": {
     "end_time": "2018-09-15T01:26:26.444027Z",
     "start_time": "2018-09-15T01:26:26.441849Z"
    }
   },
   "outputs": [],
   "source": [
    "# taxi_weather_df = sql_load.sample(n=75000, random_state=42)"
   ]
  },
  {
   "cell_type": "code",
   "execution_count": 14,
   "metadata": {
    "ExecuteTime": {
     "end_time": "2018-09-15T01:26:27.577428Z",
     "start_time": "2018-09-15T01:26:26.839840Z"
    }
   },
   "outputs": [
    {
     "data": {
      "text/html": [
       "<div>\n",
       "<style scoped>\n",
       "    .dataframe tbody tr th:only-of-type {\n",
       "        vertical-align: middle;\n",
       "    }\n",
       "\n",
       "    .dataframe tbody tr th {\n",
       "        vertical-align: top;\n",
       "    }\n",
       "\n",
       "    .dataframe thead th {\n",
       "        text-align: right;\n",
       "    }\n",
       "</style>\n",
       "<table border=\"1\" class=\"dataframe\">\n",
       "  <thead>\n",
       "    <tr style=\"text-align: right;\">\n",
       "      <th></th>\n",
       "      <th>trip_seconds</th>\n",
       "      <th>trip_miles</th>\n",
       "      <th>fare_with_tolls</th>\n",
       "      <th>pickup_centroid_latitude</th>\n",
       "      <th>pickup_centroid_longitude</th>\n",
       "      <th>dropoff_centroid_latitude</th>\n",
       "      <th>dropoff_centroid_longitude</th>\n",
       "      <th>avg_daily_wind_speed</th>\n",
       "      <th>avg_temp_f</th>\n",
       "      <th>fog</th>\n",
       "      <th>rain</th>\n",
       "      <th>snow</th>\n",
       "    </tr>\n",
       "  </thead>\n",
       "  <tbody>\n",
       "    <tr>\n",
       "      <th>count</th>\n",
       "      <td>1.040186e+06</td>\n",
       "      <td>1.040255e+06</td>\n",
       "      <td>1.040255e+06</td>\n",
       "      <td>943841.000000</td>\n",
       "      <td>943841.000000</td>\n",
       "      <td>925096.000000</td>\n",
       "      <td>925096.000000</td>\n",
       "      <td>1.040262e+06</td>\n",
       "      <td>1.040262e+06</td>\n",
       "      <td>1.040262e+06</td>\n",
       "      <td>1040262.0</td>\n",
       "      <td>1040262.0</td>\n",
       "    </tr>\n",
       "    <tr>\n",
       "      <th>mean</th>\n",
       "      <td>7.165514e+02</td>\n",
       "      <td>2.962954e+00</td>\n",
       "      <td>1.294192e+01</td>\n",
       "      <td>41.900391</td>\n",
       "      <td>-87.659718</td>\n",
       "      <td>41.900507</td>\n",
       "      <td>-87.651721</td>\n",
       "      <td>1.042192e+01</td>\n",
       "      <td>2.871399e+01</td>\n",
       "      <td>6.722124e-01</td>\n",
       "      <td>0.0</td>\n",
       "      <td>0.0</td>\n",
       "    </tr>\n",
       "    <tr>\n",
       "      <th>std</th>\n",
       "      <td>1.104101e+03</td>\n",
       "      <td>5.276065e+00</td>\n",
       "      <td>3.482515e+01</td>\n",
       "      <td>0.036941</td>\n",
       "      <td>0.074813</td>\n",
       "      <td>0.036213</td>\n",
       "      <td>0.054588</td>\n",
       "      <td>4.148031e+00</td>\n",
       "      <td>1.078390e+01</td>\n",
       "      <td>4.694072e-01</td>\n",
       "      <td>0.0</td>\n",
       "      <td>0.0</td>\n",
       "    </tr>\n",
       "    <tr>\n",
       "      <th>min</th>\n",
       "      <td>0.000000e+00</td>\n",
       "      <td>0.000000e+00</td>\n",
       "      <td>0.000000e+00</td>\n",
       "      <td>41.660136</td>\n",
       "      <td>-87.913625</td>\n",
       "      <td>41.660136</td>\n",
       "      <td>-87.913625</td>\n",
       "      <td>2.240000e+00</td>\n",
       "      <td>4.000000e+00</td>\n",
       "      <td>0.000000e+00</td>\n",
       "      <td>0.0</td>\n",
       "      <td>0.0</td>\n",
       "    </tr>\n",
       "    <tr>\n",
       "      <th>25%</th>\n",
       "      <td>3.000000e+02</td>\n",
       "      <td>4.000000e-01</td>\n",
       "      <td>6.000000e+00</td>\n",
       "      <td>41.880994</td>\n",
       "      <td>-87.651311</td>\n",
       "      <td>41.880994</td>\n",
       "      <td>-87.655998</td>\n",
       "      <td>7.160000e+00</td>\n",
       "      <td>2.200000e+01</td>\n",
       "      <td>0.000000e+00</td>\n",
       "      <td>0.0</td>\n",
       "      <td>0.0</td>\n",
       "    </tr>\n",
       "    <tr>\n",
       "      <th>50%</th>\n",
       "      <td>5.180000e+02</td>\n",
       "      <td>1.100000e+00</td>\n",
       "      <td>7.750000e+00</td>\n",
       "      <td>41.892042</td>\n",
       "      <td>-87.632746</td>\n",
       "      <td>41.892508</td>\n",
       "      <td>-87.633308</td>\n",
       "      <td>1.007000e+01</td>\n",
       "      <td>3.200000e+01</td>\n",
       "      <td>1.000000e+00</td>\n",
       "      <td>0.0</td>\n",
       "      <td>0.0</td>\n",
       "    </tr>\n",
       "    <tr>\n",
       "      <th>75%</th>\n",
       "      <td>8.400000e+02</td>\n",
       "      <td>2.570000e+00</td>\n",
       "      <td>1.275000e+01</td>\n",
       "      <td>41.901207</td>\n",
       "      <td>-87.626211</td>\n",
       "      <td>41.907520</td>\n",
       "      <td>-87.626215</td>\n",
       "      <td>1.275000e+01</td>\n",
       "      <td>3.700000e+01</td>\n",
       "      <td>1.000000e+00</td>\n",
       "      <td>0.0</td>\n",
       "      <td>0.0</td>\n",
       "    </tr>\n",
       "    <tr>\n",
       "      <th>max</th>\n",
       "      <td>8.634000e+04</td>\n",
       "      <td>1.234000e+03</td>\n",
       "      <td>9.000800e+03</td>\n",
       "      <td>42.015934</td>\n",
       "      <td>-87.534903</td>\n",
       "      <td>42.016046</td>\n",
       "      <td>-87.534903</td>\n",
       "      <td>2.326000e+01</td>\n",
       "      <td>4.800000e+01</td>\n",
       "      <td>1.000000e+00</td>\n",
       "      <td>0.0</td>\n",
       "      <td>0.0</td>\n",
       "    </tr>\n",
       "  </tbody>\n",
       "</table>\n",
       "</div>"
      ],
      "text/plain": [
       "       trip_seconds    trip_miles  fare_with_tolls  pickup_centroid_latitude  \\\n",
       "count  1.040186e+06  1.040255e+06     1.040255e+06             943841.000000   \n",
       "mean   7.165514e+02  2.962954e+00     1.294192e+01                 41.900391   \n",
       "std    1.104101e+03  5.276065e+00     3.482515e+01                  0.036941   \n",
       "min    0.000000e+00  0.000000e+00     0.000000e+00                 41.660136   \n",
       "25%    3.000000e+02  4.000000e-01     6.000000e+00                 41.880994   \n",
       "50%    5.180000e+02  1.100000e+00     7.750000e+00                 41.892042   \n",
       "75%    8.400000e+02  2.570000e+00     1.275000e+01                 41.901207   \n",
       "max    8.634000e+04  1.234000e+03     9.000800e+03                 42.015934   \n",
       "\n",
       "       pickup_centroid_longitude  dropoff_centroid_latitude  \\\n",
       "count              943841.000000              925096.000000   \n",
       "mean                  -87.659718                  41.900507   \n",
       "std                     0.074813                   0.036213   \n",
       "min                   -87.913625                  41.660136   \n",
       "25%                   -87.651311                  41.880994   \n",
       "50%                   -87.632746                  41.892508   \n",
       "75%                   -87.626211                  41.907520   \n",
       "max                   -87.534903                  42.016046   \n",
       "\n",
       "       dropoff_centroid_longitude  avg_daily_wind_speed    avg_temp_f  \\\n",
       "count               925096.000000          1.040262e+06  1.040262e+06   \n",
       "mean                   -87.651721          1.042192e+01  2.871399e+01   \n",
       "std                      0.054588          4.148031e+00  1.078390e+01   \n",
       "min                    -87.913625          2.240000e+00  4.000000e+00   \n",
       "25%                    -87.655998          7.160000e+00  2.200000e+01   \n",
       "50%                    -87.633308          1.007000e+01  3.200000e+01   \n",
       "75%                    -87.626215          1.275000e+01  3.700000e+01   \n",
       "max                    -87.534903          2.326000e+01  4.800000e+01   \n",
       "\n",
       "                fog       rain       snow  \n",
       "count  1.040262e+06  1040262.0  1040262.0  \n",
       "mean   6.722124e-01        0.0        0.0  \n",
       "std    4.694072e-01        0.0        0.0  \n",
       "min    0.000000e+00        0.0        0.0  \n",
       "25%    0.000000e+00        0.0        0.0  \n",
       "50%    1.000000e+00        0.0        0.0  \n",
       "75%    1.000000e+00        0.0        0.0  \n",
       "max    1.000000e+00        0.0        0.0  "
      ]
     },
     "execution_count": 14,
     "metadata": {},
     "output_type": "execute_result"
    }
   ],
   "source": [
    "train_set_jan.describe()"
   ]
  },
  {
   "cell_type": "markdown",
   "metadata": {},
   "source": [
    "> Original number of records for the whole of 2017 Jan: **943,841**"
   ]
  },
  {
   "cell_type": "markdown",
   "metadata": {},
   "source": [
    "## Sweeping time!"
   ]
  },
  {
   "cell_type": "code",
   "execution_count": 15,
   "metadata": {
    "ExecuteTime": {
     "end_time": "2018-09-15T01:26:28.172204Z",
     "start_time": "2018-09-15T01:26:27.980161Z"
    }
   },
   "outputs": [
    {
     "name": "stderr",
     "output_type": "stream",
     "text": [
      "/anaconda3/lib/python3.6/site-packages/ipykernel_launcher.py:2: SettingWithCopyWarning: \n",
      "A value is trying to be set on a copy of a slice from a DataFrame.\n",
      "Try using .loc[row_indexer,col_indexer] = value instead\n",
      "\n",
      "See the caveats in the documentation: http://pandas.pydata.org/pandas-docs/stable/indexing.html#indexing-view-versus-copy\n",
      "  \n"
     ]
    }
   ],
   "source": [
    "#Change payment type to boolean\n",
    "train_set_jan['payment_type'] = pd.Categorical(train_set_jan['payment_type'])"
   ]
  },
  {
   "cell_type": "code",
   "execution_count": 16,
   "metadata": {
    "ExecuteTime": {
     "end_time": "2018-09-15T01:26:28.484155Z",
     "start_time": "2018-09-15T01:26:28.174028Z"
    }
   },
   "outputs": [],
   "source": [
    "#Let's drop all the records with a missing lat / long in either pickup or dropoff\n",
    "train_set_jan = train_set_jan.dropna(subset=['pickup_centroid_latitude', 'pickup_centroid_longitude', 'dropoff_centroid_latitude'\n",
    "                                                    , 'dropoff_centroid_longitude', 'trip_seconds', 'trip_miles', 'fare_with_tolls'])"
   ]
  },
  {
   "cell_type": "code",
   "execution_count": 17,
   "metadata": {
    "ExecuteTime": {
     "end_time": "2018-09-15T01:26:29.301546Z",
     "start_time": "2018-09-15T01:26:29.284593Z"
    },
    "scrolled": true
   },
   "outputs": [
    {
     "data": {
      "text/html": [
       "<div>\n",
       "<style scoped>\n",
       "    .dataframe tbody tr th:only-of-type {\n",
       "        vertical-align: middle;\n",
       "    }\n",
       "\n",
       "    .dataframe tbody tr th {\n",
       "        vertical-align: top;\n",
       "    }\n",
       "\n",
       "    .dataframe thead th {\n",
       "        text-align: right;\n",
       "    }\n",
       "</style>\n",
       "<table border=\"1\" class=\"dataframe\">\n",
       "  <thead>\n",
       "    <tr style=\"text-align: right;\">\n",
       "      <th></th>\n",
       "      <th>trip_start_timestamp</th>\n",
       "      <th>trip_end_timestamp</th>\n",
       "      <th>trip_seconds</th>\n",
       "      <th>trip_miles</th>\n",
       "      <th>fare_with_tolls</th>\n",
       "      <th>payment_type</th>\n",
       "      <th>pickup_centroid_latitude</th>\n",
       "      <th>pickup_centroid_longitude</th>\n",
       "      <th>pickup_centroid_location</th>\n",
       "      <th>dropoff_centroid_latitude</th>\n",
       "      <th>dropoff_centroid_longitude</th>\n",
       "      <th>dropoff_centroid_location</th>\n",
       "      <th>avg_daily_wind_speed</th>\n",
       "      <th>avg_temp_f</th>\n",
       "      <th>fog</th>\n",
       "      <th>rain</th>\n",
       "      <th>snow</th>\n",
       "    </tr>\n",
       "  </thead>\n",
       "  <tbody>\n",
       "    <tr>\n",
       "      <th>0</th>\n",
       "      <td>2017-01-01</td>\n",
       "      <td>2017-01-01 00:30:00</td>\n",
       "      <td>1320.0</td>\n",
       "      <td>5.8</td>\n",
       "      <td>18.75</td>\n",
       "      <td>Cash</td>\n",
       "      <td>41.878866</td>\n",
       "      <td>-87.625192</td>\n",
       "      <td>POINT (-87.6251921424 41.8788655841)</td>\n",
       "      <td>41.878594</td>\n",
       "      <td>-87.730232</td>\n",
       "      <td>POINT (-87.7302324284 41.8785943576)</td>\n",
       "      <td>4.92</td>\n",
       "      <td>27</td>\n",
       "      <td>1</td>\n",
       "      <td>0</td>\n",
       "      <td>0</td>\n",
       "    </tr>\n",
       "    <tr>\n",
       "      <th>1</th>\n",
       "      <td>2017-01-01</td>\n",
       "      <td>2017-01-01 00:30:00</td>\n",
       "      <td>2160.0</td>\n",
       "      <td>0.0</td>\n",
       "      <td>17.00</td>\n",
       "      <td>Cash</td>\n",
       "      <td>41.880994</td>\n",
       "      <td>-87.632746</td>\n",
       "      <td>POINT (-87.6327464887 41.8809944707)</td>\n",
       "      <td>41.892508</td>\n",
       "      <td>-87.626215</td>\n",
       "      <td>POINT (-87.6262149064 41.8925077809)</td>\n",
       "      <td>4.92</td>\n",
       "      <td>27</td>\n",
       "      <td>1</td>\n",
       "      <td>0</td>\n",
       "      <td>0</td>\n",
       "    </tr>\n",
       "  </tbody>\n",
       "</table>\n",
       "</div>"
      ],
      "text/plain": [
       "  trip_start_timestamp  trip_end_timestamp  trip_seconds  trip_miles  \\\n",
       "0           2017-01-01 2017-01-01 00:30:00        1320.0         5.8   \n",
       "1           2017-01-01 2017-01-01 00:30:00        2160.0         0.0   \n",
       "\n",
       "   fare_with_tolls payment_type  pickup_centroid_latitude  \\\n",
       "0            18.75         Cash                 41.878866   \n",
       "1            17.00         Cash                 41.880994   \n",
       "\n",
       "   pickup_centroid_longitude              pickup_centroid_location  \\\n",
       "0                 -87.625192  POINT (-87.6251921424 41.8788655841)   \n",
       "1                 -87.632746  POINT (-87.6327464887 41.8809944707)   \n",
       "\n",
       "   dropoff_centroid_latitude  dropoff_centroid_longitude  \\\n",
       "0                  41.878594                  -87.730232   \n",
       "1                  41.892508                  -87.626215   \n",
       "\n",
       "              dropoff_centroid_location  avg_daily_wind_speed  avg_temp_f  \\\n",
       "0  POINT (-87.7302324284 41.8785943576)                  4.92          27   \n",
       "1  POINT (-87.6262149064 41.8925077809)                  4.92          27   \n",
       "\n",
       "   fog  rain  snow  \n",
       "0    1     0     0  \n",
       "1    1     0     0  "
      ]
     },
     "execution_count": 17,
     "metadata": {},
     "output_type": "execute_result"
    }
   ],
   "source": [
    "train_set_jan.head(2)"
   ]
  },
  {
   "cell_type": "code",
   "execution_count": 18,
   "metadata": {
    "ExecuteTime": {
     "end_time": "2018-09-15T01:26:29.789395Z",
     "start_time": "2018-09-15T01:26:29.708864Z"
    }
   },
   "outputs": [],
   "source": [
    "train_set_jan[['fog', 'rain', 'snow']] = train_set_jan[['fog', 'rain', 'snow']].fillna(value=0)"
   ]
  },
  {
   "cell_type": "code",
   "execution_count": 19,
   "metadata": {
    "ExecuteTime": {
     "end_time": "2018-09-15T01:26:30.277451Z",
     "start_time": "2018-09-15T01:26:30.195454Z"
    }
   },
   "outputs": [],
   "source": [
    "#Let's get rid of the zeroes\n",
    "train_set_jan = train_set_jan[(train_set_jan['fare_with_tolls'] != 0.0) \n",
    "                                          & (train_set_jan['trip_seconds'] != 0.0) \n",
    "                                          & (train_set_jan['trip_miles'] != 0.0)]"
   ]
  },
  {
   "cell_type": "code",
   "execution_count": 20,
   "metadata": {
    "ExecuteTime": {
     "end_time": "2018-09-15T01:26:31.102350Z",
     "start_time": "2018-09-15T01:26:30.678203Z"
    }
   },
   "outputs": [],
   "source": [
    "#Removing clear error records from the dataset (e.g. $1,000 for 0.1 mile and 6 min ride). Settling at max 100 miles an hour\n",
    "train_set_jan = train_set_jan[(train_set_jan['trip_miles'] / (train_set_jan['trip_seconds'] / 3600.0)) <= 100.0]"
   ]
  },
  {
   "cell_type": "code",
   "execution_count": 21,
   "metadata": {
    "ExecuteTime": {
     "end_time": "2018-09-15T01:26:31.651381Z",
     "start_time": "2018-09-15T01:26:31.510182Z"
    }
   },
   "outputs": [],
   "source": [
    "#Based on above analysis, I'm setting a max fare/mile at $250 and max fare/minute to $50\n",
    "train_set_jan = train_set_jan[((train_set_jan['fare_with_tolls'] / train_set_jan['trip_miles']) <= 50) &\n",
    "                                 ((train_set_jan['fare_with_tolls'] / (train_set_jan['trip_seconds'] / 60.0)) <= 250)]"
   ]
  },
  {
   "cell_type": "code",
   "execution_count": 22,
   "metadata": {
    "ExecuteTime": {
     "end_time": "2018-09-15T01:26:32.357310Z",
     "start_time": "2018-09-15T01:26:32.054167Z"
    }
   },
   "outputs": [
    {
     "data": {
      "text/plain": [
       "717178"
      ]
     },
     "execution_count": 22,
     "metadata": {},
     "output_type": "execute_result"
    }
   ],
   "source": [
    "train_set_jan.count()[0]"
   ]
  },
  {
   "cell_type": "markdown",
   "metadata": {
    "ExecuteTime": {
     "end_time": "2018-09-06T22:04:14.813734Z",
     "start_time": "2018-09-06T22:04:14.809735Z"
    }
   },
   "source": [
    "> Remaining number of records after cleaning for 2016: **76%** (717,178)"
   ]
  },
  {
   "cell_type": "markdown",
   "metadata": {},
   "source": [
    "## Predicting the demand"
   ]
  },
  {
   "cell_type": "code",
   "execution_count": 23,
   "metadata": {
    "ExecuteTime": {
     "end_time": "2018-09-15T01:26:32.764435Z",
     "start_time": "2018-09-15T01:26:32.760433Z"
    }
   },
   "outputs": [],
   "source": [
    "with open('LinearRegression_demand.pkl', 'rb') as pickle_LinReg:\n",
    "    LR_demand = pickle.load(pickle_LinReg)"
   ]
  },
  {
   "cell_type": "code",
   "execution_count": 24,
   "metadata": {
    "ExecuteTime": {
     "end_time": "2018-09-15T01:26:33.200447Z",
     "start_time": "2018-09-15T01:26:33.183506Z"
    }
   },
   "outputs": [
    {
     "data": {
      "text/html": [
       "<div>\n",
       "<style scoped>\n",
       "    .dataframe tbody tr th:only-of-type {\n",
       "        vertical-align: middle;\n",
       "    }\n",
       "\n",
       "    .dataframe tbody tr th {\n",
       "        vertical-align: top;\n",
       "    }\n",
       "\n",
       "    .dataframe thead th {\n",
       "        text-align: right;\n",
       "    }\n",
       "</style>\n",
       "<table border=\"1\" class=\"dataframe\">\n",
       "  <thead>\n",
       "    <tr style=\"text-align: right;\">\n",
       "      <th></th>\n",
       "      <th>trip_start_timestamp</th>\n",
       "      <th>trip_end_timestamp</th>\n",
       "      <th>trip_seconds</th>\n",
       "      <th>trip_miles</th>\n",
       "      <th>fare_with_tolls</th>\n",
       "      <th>payment_type</th>\n",
       "      <th>pickup_centroid_latitude</th>\n",
       "      <th>pickup_centroid_longitude</th>\n",
       "      <th>pickup_centroid_location</th>\n",
       "      <th>dropoff_centroid_latitude</th>\n",
       "      <th>dropoff_centroid_longitude</th>\n",
       "      <th>dropoff_centroid_location</th>\n",
       "      <th>avg_daily_wind_speed</th>\n",
       "      <th>avg_temp_f</th>\n",
       "      <th>fog</th>\n",
       "      <th>rain</th>\n",
       "      <th>snow</th>\n",
       "    </tr>\n",
       "  </thead>\n",
       "  <tbody>\n",
       "    <tr>\n",
       "      <th>0</th>\n",
       "      <td>2017-01-01</td>\n",
       "      <td>2017-01-01 00:30:00</td>\n",
       "      <td>1320.0</td>\n",
       "      <td>5.8</td>\n",
       "      <td>18.75</td>\n",
       "      <td>Cash</td>\n",
       "      <td>41.878866</td>\n",
       "      <td>-87.625192</td>\n",
       "      <td>POINT (-87.6251921424 41.8788655841)</td>\n",
       "      <td>41.878594</td>\n",
       "      <td>-87.730232</td>\n",
       "      <td>POINT (-87.7302324284 41.8785943576)</td>\n",
       "      <td>4.92</td>\n",
       "      <td>27</td>\n",
       "      <td>1</td>\n",
       "      <td>0</td>\n",
       "      <td>0</td>\n",
       "    </tr>\n",
       "    <tr>\n",
       "      <th>2</th>\n",
       "      <td>2017-01-01</td>\n",
       "      <td>2017-01-01 00:00:00</td>\n",
       "      <td>60.0</td>\n",
       "      <td>0.3</td>\n",
       "      <td>4.00</td>\n",
       "      <td>Cash</td>\n",
       "      <td>41.922686</td>\n",
       "      <td>-87.649489</td>\n",
       "      <td>POINT (-87.6494887289 41.9226862843)</td>\n",
       "      <td>41.922686</td>\n",
       "      <td>-87.649489</td>\n",
       "      <td>POINT (-87.6494887289 41.9226862843)</td>\n",
       "      <td>4.92</td>\n",
       "      <td>27</td>\n",
       "      <td>1</td>\n",
       "      <td>0</td>\n",
       "      <td>0</td>\n",
       "    </tr>\n",
       "    <tr>\n",
       "      <th>3</th>\n",
       "      <td>2017-01-01</td>\n",
       "      <td>2017-01-01 00:00:00</td>\n",
       "      <td>240.0</td>\n",
       "      <td>0.5</td>\n",
       "      <td>4.75</td>\n",
       "      <td>Cash</td>\n",
       "      <td>41.892508</td>\n",
       "      <td>-87.626215</td>\n",
       "      <td>POINT (-87.6262149064 41.8925077809)</td>\n",
       "      <td>41.899156</td>\n",
       "      <td>-87.626211</td>\n",
       "      <td>POINT (-87.6262105324 41.8991556134)</td>\n",
       "      <td>4.92</td>\n",
       "      <td>27</td>\n",
       "      <td>1</td>\n",
       "      <td>0</td>\n",
       "      <td>0</td>\n",
       "    </tr>\n",
       "    <tr>\n",
       "      <th>6</th>\n",
       "      <td>2017-01-01</td>\n",
       "      <td>2017-01-01 00:30:00</td>\n",
       "      <td>1020.0</td>\n",
       "      <td>4.9</td>\n",
       "      <td>15.75</td>\n",
       "      <td>Cash</td>\n",
       "      <td>41.944227</td>\n",
       "      <td>-87.655998</td>\n",
       "      <td>POINT (-87.6559981815 41.9442266014)</td>\n",
       "      <td>41.899602</td>\n",
       "      <td>-87.633308</td>\n",
       "      <td>POINT (-87.6333080367 41.899602111)</td>\n",
       "      <td>4.92</td>\n",
       "      <td>27</td>\n",
       "      <td>1</td>\n",
       "      <td>0</td>\n",
       "      <td>0</td>\n",
       "    </tr>\n",
       "    <tr>\n",
       "      <th>7</th>\n",
       "      <td>2017-01-01</td>\n",
       "      <td>2017-01-01 00:15:00</td>\n",
       "      <td>180.0</td>\n",
       "      <td>0.9</td>\n",
       "      <td>5.25</td>\n",
       "      <td>Cash</td>\n",
       "      <td>42.009623</td>\n",
       "      <td>-87.670167</td>\n",
       "      <td>POINT (-87.6701668569 42.0096228806)</td>\n",
       "      <td>42.009623</td>\n",
       "      <td>-87.670167</td>\n",
       "      <td>POINT (-87.6701668569 42.0096228806)</td>\n",
       "      <td>4.92</td>\n",
       "      <td>27</td>\n",
       "      <td>1</td>\n",
       "      <td>0</td>\n",
       "      <td>0</td>\n",
       "    </tr>\n",
       "  </tbody>\n",
       "</table>\n",
       "</div>"
      ],
      "text/plain": [
       "  trip_start_timestamp  trip_end_timestamp  trip_seconds  trip_miles  \\\n",
       "0           2017-01-01 2017-01-01 00:30:00        1320.0         5.8   \n",
       "2           2017-01-01 2017-01-01 00:00:00          60.0         0.3   \n",
       "3           2017-01-01 2017-01-01 00:00:00         240.0         0.5   \n",
       "6           2017-01-01 2017-01-01 00:30:00        1020.0         4.9   \n",
       "7           2017-01-01 2017-01-01 00:15:00         180.0         0.9   \n",
       "\n",
       "   fare_with_tolls payment_type  pickup_centroid_latitude  \\\n",
       "0            18.75         Cash                 41.878866   \n",
       "2             4.00         Cash                 41.922686   \n",
       "3             4.75         Cash                 41.892508   \n",
       "6            15.75         Cash                 41.944227   \n",
       "7             5.25         Cash                 42.009623   \n",
       "\n",
       "   pickup_centroid_longitude              pickup_centroid_location  \\\n",
       "0                 -87.625192  POINT (-87.6251921424 41.8788655841)   \n",
       "2                 -87.649489  POINT (-87.6494887289 41.9226862843)   \n",
       "3                 -87.626215  POINT (-87.6262149064 41.8925077809)   \n",
       "6                 -87.655998  POINT (-87.6559981815 41.9442266014)   \n",
       "7                 -87.670167  POINT (-87.6701668569 42.0096228806)   \n",
       "\n",
       "   dropoff_centroid_latitude  dropoff_centroid_longitude  \\\n",
       "0                  41.878594                  -87.730232   \n",
       "2                  41.922686                  -87.649489   \n",
       "3                  41.899156                  -87.626211   \n",
       "6                  41.899602                  -87.633308   \n",
       "7                  42.009623                  -87.670167   \n",
       "\n",
       "              dropoff_centroid_location  avg_daily_wind_speed  avg_temp_f  \\\n",
       "0  POINT (-87.7302324284 41.8785943576)                  4.92          27   \n",
       "2  POINT (-87.6494887289 41.9226862843)                  4.92          27   \n",
       "3  POINT (-87.6262105324 41.8991556134)                  4.92          27   \n",
       "6   POINT (-87.6333080367 41.899602111)                  4.92          27   \n",
       "7  POINT (-87.6701668569 42.0096228806)                  4.92          27   \n",
       "\n",
       "   fog  rain  snow  \n",
       "0    1     0     0  \n",
       "2    1     0     0  \n",
       "3    1     0     0  \n",
       "6    1     0     0  \n",
       "7    1     0     0  "
      ]
     },
     "execution_count": 24,
     "metadata": {},
     "output_type": "execute_result"
    }
   ],
   "source": [
    "train_set_jan.head()"
   ]
  },
  {
   "cell_type": "code",
   "execution_count": 25,
   "metadata": {
    "ExecuteTime": {
     "end_time": "2018-09-15T01:26:33.410117Z",
     "start_time": "2018-09-15T01:26:33.407192Z"
    },
    "scrolled": false
   },
   "outputs": [],
   "source": [
    "#Define the start and end date and time\n",
    "# start = train_set_jan['trip_start_timestamp'].iloc[0]\n",
    "# end = train_set_jan['trip_start_timestamp'].iloc[-1]\n",
    "# print(start)\n",
    "# print(end)\n"
   ]
  },
  {
   "cell_type": "code",
   "execution_count": 26,
   "metadata": {
    "ExecuteTime": {
     "end_time": "2018-09-15T01:26:34.036818Z",
     "start_time": "2018-09-15T01:26:34.013580Z"
    }
   },
   "outputs": [],
   "source": [
    "hist_demand = train_set_jan.groupby(['trip_start_timestamp'])['trip_start_timestamp'].count()\n",
    "hist_demand_df = pd.DataFrame(hist_demand)\n",
    "hist_demand_df = hist_demand_df.rename(columns={'trip_start_timestamp': 'interval_demand'})\n",
    "\n",
    "hist_demand_diff = hist_demand_df.diff()\n",
    "hist_demand_diff = hist_demand_diff[1:]"
   ]
  },
  {
   "cell_type": "code",
   "execution_count": 27,
   "metadata": {
    "ExecuteTime": {
     "end_time": "2018-09-15T01:26:34.492562Z",
     "start_time": "2018-09-15T01:26:34.487283Z"
    }
   },
   "outputs": [
    {
     "data": {
      "text/plain": [
       "trip_start_timestamp\n",
       "2017-01-01 00:00:00    283\n",
       "2017-01-01 00:15:00    395\n",
       "2017-01-01 00:30:00    407\n",
       "2017-01-01 00:45:00    427\n",
       "2017-01-01 01:00:00    409\n",
       "Name: trip_start_timestamp, dtype: int64"
      ]
     },
     "execution_count": 27,
     "metadata": {},
     "output_type": "execute_result"
    }
   ],
   "source": [
    "hist_demand.head()"
   ]
  },
  {
   "cell_type": "code",
   "execution_count": 28,
   "metadata": {
    "ExecuteTime": {
     "end_time": "2018-09-15T01:26:34.956390Z",
     "start_time": "2018-09-15T01:26:34.950340Z"
    }
   },
   "outputs": [
    {
     "data": {
      "text/html": [
       "<div>\n",
       "<style scoped>\n",
       "    .dataframe tbody tr th:only-of-type {\n",
       "        vertical-align: middle;\n",
       "    }\n",
       "\n",
       "    .dataframe tbody tr th {\n",
       "        vertical-align: top;\n",
       "    }\n",
       "\n",
       "    .dataframe thead th {\n",
       "        text-align: right;\n",
       "    }\n",
       "</style>\n",
       "<table border=\"1\" class=\"dataframe\">\n",
       "  <thead>\n",
       "    <tr style=\"text-align: right;\">\n",
       "      <th></th>\n",
       "      <th>interval_demand</th>\n",
       "    </tr>\n",
       "    <tr>\n",
       "      <th>trip_start_timestamp</th>\n",
       "      <th></th>\n",
       "    </tr>\n",
       "  </thead>\n",
       "  <tbody>\n",
       "    <tr>\n",
       "      <th>2017-01-01 00:15:00</th>\n",
       "      <td>112.0</td>\n",
       "    </tr>\n",
       "    <tr>\n",
       "      <th>2017-01-01 00:30:00</th>\n",
       "      <td>12.0</td>\n",
       "    </tr>\n",
       "    <tr>\n",
       "      <th>2017-01-01 00:45:00</th>\n",
       "      <td>20.0</td>\n",
       "    </tr>\n",
       "    <tr>\n",
       "      <th>2017-01-01 01:00:00</th>\n",
       "      <td>-18.0</td>\n",
       "    </tr>\n",
       "    <tr>\n",
       "      <th>2017-01-01 01:15:00</th>\n",
       "      <td>124.0</td>\n",
       "    </tr>\n",
       "  </tbody>\n",
       "</table>\n",
       "</div>"
      ],
      "text/plain": [
       "                      interval_demand\n",
       "trip_start_timestamp                 \n",
       "2017-01-01 00:15:00             112.0\n",
       "2017-01-01 00:30:00              12.0\n",
       "2017-01-01 00:45:00              20.0\n",
       "2017-01-01 01:00:00             -18.0\n",
       "2017-01-01 01:15:00             124.0"
      ]
     },
     "execution_count": 28,
     "metadata": {},
     "output_type": "execute_result"
    }
   ],
   "source": [
    "hist_demand_diff.head()"
   ]
  },
  {
   "cell_type": "code",
   "execution_count": 29,
   "metadata": {
    "ExecuteTime": {
     "end_time": "2018-09-15T01:26:35.278680Z",
     "start_time": "2018-09-15T01:26:35.189914Z"
    },
    "scrolled": false
   },
   "outputs": [],
   "source": [
    "#Create lags\n",
    "hist_demand_diff['demand_lag1'] = hist_demand_diff['interval_demand'].shift(1)\n",
    "hist_demand_diff['demand_lag2'] = hist_demand_diff['interval_demand'].shift(2)\n",
    "hist_demand_diff['demand_lag3'] = hist_demand_diff['interval_demand'].shift(3)\n",
    "hist_demand_diff['demand_lag4'] = hist_demand_diff['interval_demand'].shift(4)\n",
    "hist_demand_diff['demand_lag5'] = hist_demand_diff['interval_demand'].shift(5)\n",
    "hist_demand_diff['demand_lag6'] = hist_demand_diff['interval_demand'].shift(6)\n",
    "hist_demand_diff['demand_lag7'] = hist_demand_diff['interval_demand'].shift(7)\n",
    "hist_demand_diff['demand_lag96'] = hist_demand_diff['interval_demand'].shift(96)\n",
    "hist_demand_diff['demand_lag672'] = hist_demand_diff['interval_demand'].shift(672)\n",
    "\n",
    "#Drop rows with NaN values\n",
    "hist_demand_diff = hist_demand_diff.dropna()\n",
    "\n",
    "#Drop the interval_demand column\n",
    "actual_demand_diff = hist_demand_diff['interval_demand']\n",
    "hist_demand_diff = hist_demand_diff.drop(columns=['interval_demand'])"
   ]
  },
  {
   "cell_type": "code",
   "execution_count": 30,
   "metadata": {
    "ExecuteTime": {
     "end_time": "2018-09-15T01:26:36.059856Z",
     "start_time": "2018-09-15T01:26:36.046098Z"
    }
   },
   "outputs": [
    {
     "data": {
      "text/html": [
       "<div>\n",
       "<style scoped>\n",
       "    .dataframe tbody tr th:only-of-type {\n",
       "        vertical-align: middle;\n",
       "    }\n",
       "\n",
       "    .dataframe tbody tr th {\n",
       "        vertical-align: top;\n",
       "    }\n",
       "\n",
       "    .dataframe thead th {\n",
       "        text-align: right;\n",
       "    }\n",
       "</style>\n",
       "<table border=\"1\" class=\"dataframe\">\n",
       "  <thead>\n",
       "    <tr style=\"text-align: right;\">\n",
       "      <th></th>\n",
       "      <th>demand_lag1</th>\n",
       "      <th>demand_lag2</th>\n",
       "      <th>demand_lag3</th>\n",
       "      <th>demand_lag4</th>\n",
       "      <th>demand_lag5</th>\n",
       "      <th>demand_lag6</th>\n",
       "      <th>demand_lag7</th>\n",
       "      <th>demand_lag96</th>\n",
       "      <th>demand_lag672</th>\n",
       "    </tr>\n",
       "    <tr>\n",
       "      <th>trip_start_timestamp</th>\n",
       "      <th></th>\n",
       "      <th></th>\n",
       "      <th></th>\n",
       "      <th></th>\n",
       "      <th></th>\n",
       "      <th></th>\n",
       "      <th></th>\n",
       "      <th></th>\n",
       "      <th></th>\n",
       "    </tr>\n",
       "  </thead>\n",
       "  <tbody>\n",
       "    <tr>\n",
       "      <th>2017-01-08 00:15:00</th>\n",
       "      <td>10.0</td>\n",
       "      <td>15.0</td>\n",
       "      <td>-9.0</td>\n",
       "      <td>-48.0</td>\n",
       "      <td>22.0</td>\n",
       "      <td>15.0</td>\n",
       "      <td>-37.0</td>\n",
       "      <td>-13.0</td>\n",
       "      <td>112.0</td>\n",
       "    </tr>\n",
       "    <tr>\n",
       "      <th>2017-01-08 00:30:00</th>\n",
       "      <td>-37.0</td>\n",
       "      <td>10.0</td>\n",
       "      <td>15.0</td>\n",
       "      <td>-9.0</td>\n",
       "      <td>-48.0</td>\n",
       "      <td>22.0</td>\n",
       "      <td>15.0</td>\n",
       "      <td>9.0</td>\n",
       "      <td>12.0</td>\n",
       "    </tr>\n",
       "    <tr>\n",
       "      <th>2017-01-08 00:45:00</th>\n",
       "      <td>14.0</td>\n",
       "      <td>-37.0</td>\n",
       "      <td>10.0</td>\n",
       "      <td>15.0</td>\n",
       "      <td>-9.0</td>\n",
       "      <td>-48.0</td>\n",
       "      <td>22.0</td>\n",
       "      <td>-17.0</td>\n",
       "      <td>20.0</td>\n",
       "    </tr>\n",
       "    <tr>\n",
       "      <th>2017-01-08 01:00:00</th>\n",
       "      <td>-16.0</td>\n",
       "      <td>14.0</td>\n",
       "      <td>-37.0</td>\n",
       "      <td>10.0</td>\n",
       "      <td>15.0</td>\n",
       "      <td>-9.0</td>\n",
       "      <td>-48.0</td>\n",
       "      <td>-31.0</td>\n",
       "      <td>-18.0</td>\n",
       "    </tr>\n",
       "    <tr>\n",
       "      <th>2017-01-08 01:15:00</th>\n",
       "      <td>29.0</td>\n",
       "      <td>-16.0</td>\n",
       "      <td>14.0</td>\n",
       "      <td>-37.0</td>\n",
       "      <td>10.0</td>\n",
       "      <td>15.0</td>\n",
       "      <td>-9.0</td>\n",
       "      <td>59.0</td>\n",
       "      <td>124.0</td>\n",
       "    </tr>\n",
       "  </tbody>\n",
       "</table>\n",
       "</div>"
      ],
      "text/plain": [
       "                      demand_lag1  demand_lag2  demand_lag3  demand_lag4  \\\n",
       "trip_start_timestamp                                                       \n",
       "2017-01-08 00:15:00          10.0         15.0         -9.0        -48.0   \n",
       "2017-01-08 00:30:00         -37.0         10.0         15.0         -9.0   \n",
       "2017-01-08 00:45:00          14.0        -37.0         10.0         15.0   \n",
       "2017-01-08 01:00:00         -16.0         14.0        -37.0         10.0   \n",
       "2017-01-08 01:15:00          29.0        -16.0         14.0        -37.0   \n",
       "\n",
       "                      demand_lag5  demand_lag6  demand_lag7  demand_lag96  \\\n",
       "trip_start_timestamp                                                        \n",
       "2017-01-08 00:15:00          22.0         15.0        -37.0         -13.0   \n",
       "2017-01-08 00:30:00         -48.0         22.0         15.0           9.0   \n",
       "2017-01-08 00:45:00          -9.0        -48.0         22.0         -17.0   \n",
       "2017-01-08 01:00:00          15.0         -9.0        -48.0         -31.0   \n",
       "2017-01-08 01:15:00          10.0         15.0         -9.0          59.0   \n",
       "\n",
       "                      demand_lag672  \n",
       "trip_start_timestamp                 \n",
       "2017-01-08 00:15:00           112.0  \n",
       "2017-01-08 00:30:00            12.0  \n",
       "2017-01-08 00:45:00            20.0  \n",
       "2017-01-08 01:00:00           -18.0  \n",
       "2017-01-08 01:15:00           124.0  "
      ]
     },
     "execution_count": 30,
     "metadata": {},
     "output_type": "execute_result"
    }
   ],
   "source": [
    "hist_demand_diff.head()"
   ]
  },
  {
   "cell_type": "code",
   "execution_count": 31,
   "metadata": {
    "ExecuteTime": {
     "end_time": "2018-09-15T01:26:36.569905Z",
     "start_time": "2018-09-15T01:26:36.564806Z"
    }
   },
   "outputs": [
    {
     "data": {
      "text/plain": [
       "trip_start_timestamp\n",
       "2017-01-08 00:15:00   -37.0\n",
       "2017-01-08 00:30:00    14.0\n",
       "2017-01-08 00:45:00   -16.0\n",
       "2017-01-08 01:00:00    29.0\n",
       "2017-01-08 01:15:00   -31.0\n",
       "Name: interval_demand, dtype: float64"
      ]
     },
     "execution_count": 31,
     "metadata": {},
     "output_type": "execute_result"
    }
   ],
   "source": [
    "actual_demand_diff.head()"
   ]
  },
  {
   "cell_type": "code",
   "execution_count": 32,
   "metadata": {
    "ExecuteTime": {
     "end_time": "2018-09-15T01:26:37.083544Z",
     "start_time": "2018-09-15T01:26:37.081103Z"
    }
   },
   "outputs": [],
   "source": [
    "# historic_demand_diff = get_diffed_demand(get_demand(start, end)) "
   ]
  },
  {
   "cell_type": "markdown",
   "metadata": {},
   "source": [
    "## Predicting moment"
   ]
  },
  {
   "cell_type": "code",
   "execution_count": 34,
   "metadata": {
    "ExecuteTime": {
     "end_time": "2018-09-15T01:26:48.501069Z",
     "start_time": "2018-09-15T01:26:48.400976Z"
    }
   },
   "outputs": [],
   "source": [
    "predicted_demand_jan = LR_demand.predict(hist_demand_diff)"
   ]
  },
  {
   "cell_type": "code",
   "execution_count": 35,
   "metadata": {
    "ExecuteTime": {
     "end_time": "2018-09-15T01:26:49.381005Z",
     "start_time": "2018-09-15T01:26:49.099344Z"
    }
   },
   "outputs": [
    {
     "data": {
      "image/png": "[encoded data removed]",
      "text/plain": [
       "<Figure size 1440x360 with 1 Axes>"
      ]
     },
     "metadata": {},
     "output_type": "display_data"
    }
   ],
   "source": [
    "plt.figure(figsize=(20, 5))\n",
    "plt.plot(hist_demand_diff.index, actual_demand_diff)\n",
    "plt.plot(hist_demand_diff.index, predicted_demand_jan);"
   ]
  },
  {
   "cell_type": "markdown",
   "metadata": {},
   "source": [
    "> What the F***!!!"
   ]
  },
  {
   "cell_type": "code",
   "execution_count": 36,
   "metadata": {
    "ExecuteTime": {
     "end_time": "2018-09-15T01:26:49.906481Z",
     "start_time": "2018-09-15T01:26:49.902589Z"
    }
   },
   "outputs": [
    {
     "name": "stdout",
     "output_type": "stream",
     "text": [
      "RMSE is 55.0\n",
      "While the standard deviation of the demand is 30.3\n"
     ]
    }
   ],
   "source": [
    "print('RMSE is', str(round(np.sqrt(mean_squared_error(actual_demand_diff, predicted_demand_jan.reshape(-1, 1))), 1)))\n",
    "print('While the standard deviation of the demand is', str(round(np.std(actual_demand_diff), 1)))"
   ]
  },
  {
   "cell_type": "code",
   "execution_count": 37,
   "metadata": {
    "ExecuteTime": {
     "end_time": "2018-09-15T01:26:50.431731Z",
     "start_time": "2018-09-15T01:26:50.428211Z"
    }
   },
   "outputs": [
    {
     "data": {
      "text/plain": [
       "array([-0.83148945, -0.6614409 , -0.52017488, -0.39271051, -0.28539455,\n",
       "       -0.18886224, -0.09235116,  0.00802073,  0.00319773])"
      ]
     },
     "execution_count": 37,
     "metadata": {},
     "output_type": "execute_result"
    }
   ],
   "source": [
    "LR_demand.coef_"
   ]
  },
  {
   "cell_type": "code",
   "execution_count": 38,
   "metadata": {
    "ExecuteTime": {
     "end_time": "2018-09-15T01:26:50.965273Z",
     "start_time": "2018-09-15T01:26:50.960752Z"
    }
   },
   "outputs": [
    {
     "name": "stdout",
     "output_type": "stream",
     "text": [
      "R-squared is -2.29\n"
     ]
    }
   ],
   "source": [
    "r2 = LR_demand.score(hist_demand_diff, actual_demand_diff)\n",
    "print('R-squared is', str(round(r2, 2)))"
   ]
  },
  {
   "cell_type": "code",
   "execution_count": 39,
   "metadata": {
    "ExecuteTime": {
     "end_time": "2018-09-15T01:26:51.514263Z",
     "start_time": "2018-09-15T01:26:51.509338Z"
    }
   },
   "outputs": [
    {
     "data": {
      "text/plain": [
       "demand_lag1       10.0\n",
       "demand_lag2       15.0\n",
       "demand_lag3       -9.0\n",
       "demand_lag4      -48.0\n",
       "demand_lag5       22.0\n",
       "demand_lag6       15.0\n",
       "demand_lag7      -37.0\n",
       "demand_lag96     -13.0\n",
       "demand_lag672    112.0\n",
       "Name: 2017-01-08 00:15:00, dtype: float64"
      ]
     },
     "execution_count": 39,
     "metadata": {},
     "output_type": "execute_result"
    }
   ],
   "source": [
    "hist_demand_diff.iloc[0]"
   ]
  },
  {
   "cell_type": "code",
   "execution_count": 40,
   "metadata": {
    "ExecuteTime": {
     "end_time": "2018-09-15T01:26:52.033075Z",
     "start_time": "2018-09-15T01:26:52.028458Z"
    }
   },
   "outputs": [
    {
     "data": {
      "text/plain": [
       "-37.0"
      ]
     },
     "execution_count": 40,
     "metadata": {},
     "output_type": "execute_result"
    }
   ],
   "source": [
    "actual_demand_diff[0]"
   ]
  },
  {
   "cell_type": "markdown",
   "metadata": {},
   "source": [
    "### Predicted demand df"
   ]
  },
  {
   "cell_type": "code",
   "execution_count": 43,
   "metadata": {
    "ExecuteTime": {
     "end_time": "2018-09-15T01:30:31.337862Z",
     "start_time": "2018-09-15T01:30:31.333372Z"
    }
   },
   "outputs": [],
   "source": [
    "jan_pred_demand = pd.DataFrame(predicted_demand_jan, index=hist_demand_diff.index, columns=['predicted_demand'])\n",
    "# jan_pred_demand = jan_pred_demand.reset_index()\n",
    "# jan_pred_demand = jan_pred_demand.set_index(['trip_start_timestamp'])"
   ]
  },
  {
   "cell_type": "code",
   "execution_count": 44,
   "metadata": {
    "ExecuteTime": {
     "end_time": "2018-09-15T01:30:32.283665Z",
     "start_time": "2018-09-15T01:30:32.268542Z"
    }
   },
   "outputs": [
    {
     "data": {
      "text/html": [
       "<div>\n",
       "<style scoped>\n",
       "    .dataframe tbody tr th:only-of-type {\n",
       "        vertical-align: middle;\n",
       "    }\n",
       "\n",
       "    .dataframe tbody tr th {\n",
       "        vertical-align: top;\n",
       "    }\n",
       "\n",
       "    .dataframe thead th {\n",
       "        text-align: right;\n",
       "    }\n",
       "</style>\n",
       "<table border=\"1\" class=\"dataframe\">\n",
       "  <thead>\n",
       "    <tr style=\"text-align: right;\">\n",
       "      <th></th>\n",
       "      <th>predicted_demand</th>\n",
       "    </tr>\n",
       "    <tr>\n",
       "      <th>trip_start_timestamp</th>\n",
       "      <th></th>\n",
       "    </tr>\n",
       "  </thead>\n",
       "  <tbody>\n",
       "    <tr>\n",
       "      <th>2017-01-08 00:15:00</th>\n",
       "      <td>-0.145654</td>\n",
       "    </tr>\n",
       "    <tr>\n",
       "      <th>2017-01-08 00:30:00</th>\n",
       "      <td>28.151653</td>\n",
       "    </tr>\n",
       "    <tr>\n",
       "      <th>2017-01-08 00:45:00</th>\n",
       "      <td>11.269790</td>\n",
       "    </tr>\n",
       "    <tr>\n",
       "      <th>2017-01-08 01:00:00</th>\n",
       "      <td>20.908440</td>\n",
       "    </tr>\n",
       "    <tr>\n",
       "      <th>2017-01-08 01:15:00</th>\n",
       "      <td>-10.268356</td>\n",
       "    </tr>\n",
       "  </tbody>\n",
       "</table>\n",
       "</div>"
      ],
      "text/plain": [
       "                      predicted_demand\n",
       "trip_start_timestamp                  \n",
       "2017-01-08 00:15:00          -0.145654\n",
       "2017-01-08 00:30:00          28.151653\n",
       "2017-01-08 00:45:00          11.269790\n",
       "2017-01-08 01:00:00          20.908440\n",
       "2017-01-08 01:15:00         -10.268356"
      ]
     },
     "execution_count": 44,
     "metadata": {},
     "output_type": "execute_result"
    }
   ],
   "source": [
    "jan_pred_demand.head()"
   ]
  },
  {
   "cell_type": "code",
   "execution_count": null,
   "metadata": {},
   "outputs": [],
   "source": []
  },
  {
   "cell_type": "markdown",
   "metadata": {},
   "source": [
    "## Prepare features for modelling"
   ]
  },
  {
   "cell_type": "code",
   "execution_count": 45,
   "metadata": {
    "ExecuteTime": {
     "end_time": "2018-09-15T01:30:38.453070Z",
     "start_time": "2018-09-15T01:30:36.228676Z"
    }
   },
   "outputs": [],
   "source": [
    "#Adding demand variable in (joining on the trip_start_timestamp)\n",
    "train_set_jan = train_set_jan.merge(jan_pred_demand, how='left', on='trip_start_timestamp', )\n",
    "train_set_jan = train_set_jan.dropna()"
   ]
  },
  {
   "cell_type": "code",
   "execution_count": 46,
   "metadata": {
    "ExecuteTime": {
     "end_time": "2018-09-15T01:30:39.038155Z",
     "start_time": "2018-09-15T01:30:39.019532Z"
    }
   },
   "outputs": [
    {
     "data": {
      "text/html": [
       "<div>\n",
       "<style scoped>\n",
       "    .dataframe tbody tr th:only-of-type {\n",
       "        vertical-align: middle;\n",
       "    }\n",
       "\n",
       "    .dataframe tbody tr th {\n",
       "        vertical-align: top;\n",
       "    }\n",
       "\n",
       "    .dataframe thead th {\n",
       "        text-align: right;\n",
       "    }\n",
       "</style>\n",
       "<table border=\"1\" class=\"dataframe\">\n",
       "  <thead>\n",
       "    <tr style=\"text-align: right;\">\n",
       "      <th></th>\n",
       "      <th>trip_start_timestamp</th>\n",
       "      <th>trip_end_timestamp</th>\n",
       "      <th>trip_seconds</th>\n",
       "      <th>trip_miles</th>\n",
       "      <th>fare_with_tolls</th>\n",
       "      <th>payment_type</th>\n",
       "      <th>pickup_centroid_latitude</th>\n",
       "      <th>pickup_centroid_longitude</th>\n",
       "      <th>pickup_centroid_location</th>\n",
       "      <th>dropoff_centroid_latitude</th>\n",
       "      <th>dropoff_centroid_longitude</th>\n",
       "      <th>dropoff_centroid_location</th>\n",
       "      <th>avg_daily_wind_speed</th>\n",
       "      <th>avg_temp_f</th>\n",
       "      <th>fog</th>\n",
       "      <th>rain</th>\n",
       "      <th>snow</th>\n",
       "      <th>predicted_demand</th>\n",
       "    </tr>\n",
       "  </thead>\n",
       "  <tbody>\n",
       "    <tr>\n",
       "      <th>149508</th>\n",
       "      <td>2017-01-08 00:15:00</td>\n",
       "      <td>2017-01-08 00:30:00</td>\n",
       "      <td>660.0</td>\n",
       "      <td>2.10</td>\n",
       "      <td>9.25</td>\n",
       "      <td>Credit Card</td>\n",
       "      <td>41.885281</td>\n",
       "      <td>-87.657233</td>\n",
       "      <td>POINT (-87.6572331997 41.8852813201)</td>\n",
       "      <td>41.900266</td>\n",
       "      <td>-87.632109</td>\n",
       "      <td>POINT (-87.6321092196 41.9002656868)</td>\n",
       "      <td>9.62</td>\n",
       "      <td>9</td>\n",
       "      <td>0</td>\n",
       "      <td>0</td>\n",
       "      <td>0</td>\n",
       "      <td>-0.145654</td>\n",
       "    </tr>\n",
       "    <tr>\n",
       "      <th>149509</th>\n",
       "      <td>2017-01-08 00:15:00</td>\n",
       "      <td>2017-01-08 00:15:00</td>\n",
       "      <td>240.0</td>\n",
       "      <td>0.20</td>\n",
       "      <td>4.25</td>\n",
       "      <td>Cash</td>\n",
       "      <td>41.892042</td>\n",
       "      <td>-87.631864</td>\n",
       "      <td>POINT (-87.6318639497 41.8920421365)</td>\n",
       "      <td>41.892073</td>\n",
       "      <td>-87.628874</td>\n",
       "      <td>POINT (-87.6288741572 41.8920726347)</td>\n",
       "      <td>9.62</td>\n",
       "      <td>9</td>\n",
       "      <td>0</td>\n",
       "      <td>0</td>\n",
       "      <td>0</td>\n",
       "      <td>-0.145654</td>\n",
       "    </tr>\n",
       "    <tr>\n",
       "      <th>149510</th>\n",
       "      <td>2017-01-08 00:15:00</td>\n",
       "      <td>2017-01-08 00:45:00</td>\n",
       "      <td>1270.0</td>\n",
       "      <td>6.32</td>\n",
       "      <td>19.50</td>\n",
       "      <td>Credit Card</td>\n",
       "      <td>41.899602</td>\n",
       "      <td>-87.633308</td>\n",
       "      <td>POINT (-87.6333080367 41.899602111)</td>\n",
       "      <td>41.947792</td>\n",
       "      <td>-87.683835</td>\n",
       "      <td>POINT (-87.6838349425 41.9477915865)</td>\n",
       "      <td>9.62</td>\n",
       "      <td>9</td>\n",
       "      <td>0</td>\n",
       "      <td>0</td>\n",
       "      <td>0</td>\n",
       "      <td>-0.145654</td>\n",
       "    </tr>\n",
       "  </tbody>\n",
       "</table>\n",
       "</div>"
      ],
      "text/plain": [
       "       trip_start_timestamp  trip_end_timestamp  trip_seconds  trip_miles  \\\n",
       "149508  2017-01-08 00:15:00 2017-01-08 00:30:00         660.0        2.10   \n",
       "149509  2017-01-08 00:15:00 2017-01-08 00:15:00         240.0        0.20   \n",
       "149510  2017-01-08 00:15:00 2017-01-08 00:45:00        1270.0        6.32   \n",
       "\n",
       "        fare_with_tolls payment_type  pickup_centroid_latitude  \\\n",
       "149508             9.25  Credit Card                 41.885281   \n",
       "149509             4.25         Cash                 41.892042   \n",
       "149510            19.50  Credit Card                 41.899602   \n",
       "\n",
       "        pickup_centroid_longitude              pickup_centroid_location  \\\n",
       "149508                 -87.657233  POINT (-87.6572331997 41.8852813201)   \n",
       "149509                 -87.631864  POINT (-87.6318639497 41.8920421365)   \n",
       "149510                 -87.633308   POINT (-87.6333080367 41.899602111)   \n",
       "\n",
       "        dropoff_centroid_latitude  dropoff_centroid_longitude  \\\n",
       "149508                  41.900266                  -87.632109   \n",
       "149509                  41.892073                  -87.628874   \n",
       "149510                  41.947792                  -87.683835   \n",
       "\n",
       "                   dropoff_centroid_location  avg_daily_wind_speed  \\\n",
       "149508  POINT (-87.6321092196 41.9002656868)                  9.62   \n",
       "149509  POINT (-87.6288741572 41.8920726347)                  9.62   \n",
       "149510  POINT (-87.6838349425 41.9477915865)                  9.62   \n",
       "\n",
       "        avg_temp_f  fog  rain  snow  predicted_demand  \n",
       "149508           9    0     0     0         -0.145654  \n",
       "149509           9    0     0     0         -0.145654  \n",
       "149510           9    0     0     0         -0.145654  "
      ]
     },
     "execution_count": 46,
     "metadata": {},
     "output_type": "execute_result"
    }
   ],
   "source": [
    "train_set_jan.head(3)"
   ]
  },
  {
   "cell_type": "markdown",
   "metadata": {},
   "source": [
    "#### Log distance and target variables"
   ]
  },
  {
   "cell_type": "code",
   "execution_count": 47,
   "metadata": {
    "ExecuteTime": {
     "end_time": "2018-09-15T01:31:41.109866Z",
     "start_time": "2018-09-15T01:31:40.650450Z"
    }
   },
   "outputs": [],
   "source": [
    "#Given previous analysis, miles, seconds and fare variables all have right-skewed distribution, to fix that I'm logging those three variables\n",
    "train_set_jan['log_trip_miles'] = np.log(train_set_jan['trip_miles'])\n",
    "train_set_jan['log_trip_seconds'] = np.log(train_set_jan['trip_seconds'])\n",
    "train_set_jan['log_fare_with_tolls'] = np.log(train_set_jan['fare_with_tolls'])\n",
    "train_set_jan['pickup_weekday'] = train_set_jan['trip_start_timestamp'].dt.weekday"
   ]
  },
  {
   "cell_type": "code",
   "execution_count": 48,
   "metadata": {
    "ExecuteTime": {
     "end_time": "2018-09-15T01:31:42.796577Z",
     "start_time": "2018-09-15T01:31:42.773728Z"
    }
   },
   "outputs": [
    {
     "data": {
      "text/html": [
       "<div>\n",
       "<style scoped>\n",
       "    .dataframe tbody tr th:only-of-type {\n",
       "        vertical-align: middle;\n",
       "    }\n",
       "\n",
       "    .dataframe tbody tr th {\n",
       "        vertical-align: top;\n",
       "    }\n",
       "\n",
       "    .dataframe thead th {\n",
       "        text-align: right;\n",
       "    }\n",
       "</style>\n",
       "<table border=\"1\" class=\"dataframe\">\n",
       "  <thead>\n",
       "    <tr style=\"text-align: right;\">\n",
       "      <th></th>\n",
       "      <th>trip_start_timestamp</th>\n",
       "      <th>trip_end_timestamp</th>\n",
       "      <th>trip_seconds</th>\n",
       "      <th>trip_miles</th>\n",
       "      <th>fare_with_tolls</th>\n",
       "      <th>payment_type</th>\n",
       "      <th>pickup_centroid_latitude</th>\n",
       "      <th>pickup_centroid_longitude</th>\n",
       "      <th>pickup_centroid_location</th>\n",
       "      <th>dropoff_centroid_latitude</th>\n",
       "      <th>...</th>\n",
       "      <th>avg_daily_wind_speed</th>\n",
       "      <th>avg_temp_f</th>\n",
       "      <th>fog</th>\n",
       "      <th>rain</th>\n",
       "      <th>snow</th>\n",
       "      <th>predicted_demand</th>\n",
       "      <th>log_trip_miles</th>\n",
       "      <th>log_trip_seconds</th>\n",
       "      <th>log_fare_with_tolls</th>\n",
       "      <th>pickup_weekday</th>\n",
       "    </tr>\n",
       "  </thead>\n",
       "  <tbody>\n",
       "    <tr>\n",
       "      <th>149508</th>\n",
       "      <td>2017-01-08 00:15:00</td>\n",
       "      <td>2017-01-08 00:30:00</td>\n",
       "      <td>660.0</td>\n",
       "      <td>2.1</td>\n",
       "      <td>9.25</td>\n",
       "      <td>Credit Card</td>\n",
       "      <td>41.885281</td>\n",
       "      <td>-87.657233</td>\n",
       "      <td>POINT (-87.6572331997 41.8852813201)</td>\n",
       "      <td>41.900266</td>\n",
       "      <td>...</td>\n",
       "      <td>9.62</td>\n",
       "      <td>9</td>\n",
       "      <td>0</td>\n",
       "      <td>0</td>\n",
       "      <td>0</td>\n",
       "      <td>-0.145654</td>\n",
       "      <td>0.741937</td>\n",
       "      <td>6.492240</td>\n",
       "      <td>2.224624</td>\n",
       "      <td>6</td>\n",
       "    </tr>\n",
       "    <tr>\n",
       "      <th>149509</th>\n",
       "      <td>2017-01-08 00:15:00</td>\n",
       "      <td>2017-01-08 00:15:00</td>\n",
       "      <td>240.0</td>\n",
       "      <td>0.2</td>\n",
       "      <td>4.25</td>\n",
       "      <td>Cash</td>\n",
       "      <td>41.892042</td>\n",
       "      <td>-87.631864</td>\n",
       "      <td>POINT (-87.6318639497 41.8920421365)</td>\n",
       "      <td>41.892073</td>\n",
       "      <td>...</td>\n",
       "      <td>9.62</td>\n",
       "      <td>9</td>\n",
       "      <td>0</td>\n",
       "      <td>0</td>\n",
       "      <td>0</td>\n",
       "      <td>-0.145654</td>\n",
       "      <td>-1.609438</td>\n",
       "      <td>5.480639</td>\n",
       "      <td>1.446919</td>\n",
       "      <td>6</td>\n",
       "    </tr>\n",
       "  </tbody>\n",
       "</table>\n",
       "<p>2 rows × 22 columns</p>\n",
       "</div>"
      ],
      "text/plain": [
       "       trip_start_timestamp  trip_end_timestamp  trip_seconds  trip_miles  \\\n",
       "149508  2017-01-08 00:15:00 2017-01-08 00:30:00         660.0         2.1   \n",
       "149509  2017-01-08 00:15:00 2017-01-08 00:15:00         240.0         0.2   \n",
       "\n",
       "        fare_with_tolls payment_type  pickup_centroid_latitude  \\\n",
       "149508             9.25  Credit Card                 41.885281   \n",
       "149509             4.25         Cash                 41.892042   \n",
       "\n",
       "        pickup_centroid_longitude              pickup_centroid_location  \\\n",
       "149508                 -87.657233  POINT (-87.6572331997 41.8852813201)   \n",
       "149509                 -87.631864  POINT (-87.6318639497 41.8920421365)   \n",
       "\n",
       "        dropoff_centroid_latitude       ...        avg_daily_wind_speed  \\\n",
       "149508                  41.900266       ...                        9.62   \n",
       "149509                  41.892073       ...                        9.62   \n",
       "\n",
       "       avg_temp_f  fog  rain  snow  predicted_demand  log_trip_miles  \\\n",
       "149508          9    0     0     0         -0.145654        0.741937   \n",
       "149509          9    0     0     0         -0.145654       -1.609438   \n",
       "\n",
       "        log_trip_seconds  log_fare_with_tolls  pickup_weekday  \n",
       "149508          6.492240             2.224624               6  \n",
       "149509          5.480639             1.446919               6  \n",
       "\n",
       "[2 rows x 22 columns]"
      ]
     },
     "execution_count": 48,
     "metadata": {},
     "output_type": "execute_result"
    }
   ],
   "source": [
    "train_set_jan.head(2)"
   ]
  },
  {
   "cell_type": "markdown",
   "metadata": {},
   "source": [
    "### Explore exogenious variables"
   ]
  },
  {
   "cell_type": "code",
   "execution_count": 213,
   "metadata": {
    "ExecuteTime": {
     "end_time": "2018-09-14T23:19:38.688091Z",
     "start_time": "2018-09-14T23:19:38.550701Z"
    }
   },
   "outputs": [],
   "source": [
    "taxi_smaller = train_set_jan[['trip_start_timestamp', 'trip_miles', 'pickup_centroid_latitude', 'pickup_centroid_longitude', 'dropoff_centroid_latitude', 'dropoff_centroid_longitude',\n",
    "                          'avg_temp_f', 'fog', 'rain', 'snow', 'trip_seconds', 'fare_with_tolls']]"
   ]
  },
  {
   "cell_type": "code",
   "execution_count": 214,
   "metadata": {
    "ExecuteTime": {
     "end_time": "2018-09-14T23:19:39.152694Z",
     "start_time": "2018-09-14T23:19:39.136372Z"
    }
   },
   "outputs": [],
   "source": [
    "taxi_weather_Sept = taxi_smaller[(taxi_smaller['trip_start_timestamp'] >= '2016-09-01 00:00:00') &\n",
    "                                         (taxi_smaller['trip_start_timestamp'] <= '2016-09-15 23:59:59')]\n"
   ]
  },
  {
   "cell_type": "code",
   "execution_count": 215,
   "metadata": {
    "ExecuteTime": {
     "end_time": "2018-09-14T23:19:39.509660Z",
     "start_time": "2018-09-14T23:19:39.506521Z"
    }
   },
   "outputs": [],
   "source": [
    "#Examine the correlations\n",
    "# sns.pairplot(taxi_weather_Sept)"
   ]
  },
  {
   "cell_type": "markdown",
   "metadata": {},
   "source": [
    "### Define features and target"
   ]
  },
  {
   "cell_type": "code",
   "execution_count": 49,
   "metadata": {
    "ExecuteTime": {
     "end_time": "2018-09-15T01:32:05.752019Z",
     "start_time": "2018-09-15T01:32:05.576022Z"
    }
   },
   "outputs": [],
   "source": [
    "#Define features and target variable for trip duration prediction\n",
    "feature_space = train_set_jan[['predicted_demand', 'pickup_weekday', \n",
    "                                        'log_trip_miles', 'pickup_centroid_latitude', 'pickup_centroid_longitude', \n",
    "                                        'dropoff_centroid_latitude', 'dropoff_centroid_longitude',\n",
    "                                        'avg_daily_wind_speed', 'avg_temp_f', 'fog', 'rain', 'snow']]\n",
    "\n",
    "#Target variables\n",
    "target_duration_log = train_set_jan['log_trip_seconds'] \n",
    "target_fare_log = train_set_jan['log_fare_with_tolls'] "
   ]
  },
  {
   "cell_type": "markdown",
   "metadata": {},
   "source": [
    "### Scale the features"
   ]
  },
  {
   "cell_type": "code",
   "execution_count": 50,
   "metadata": {
    "ExecuteTime": {
     "end_time": "2018-09-15T01:32:08.118039Z",
     "start_time": "2018-09-15T01:32:07.831225Z"
    }
   },
   "outputs": [],
   "source": [
    "#Scale the values to 0 and 1 scale\n",
    "scaler = StandardScaler()\n",
    "scaled_feature_space = scaler.fit_transform(feature_space)"
   ]
  },
  {
   "cell_type": "markdown",
   "metadata": {},
   "source": [
    "## In search of the best model"
   ]
  },
  {
   "cell_type": "markdown",
   "metadata": {},
   "source": [
    "#### Helper functions"
   ]
  },
  {
   "cell_type": "code",
   "execution_count": 256,
   "metadata": {
    "ExecuteTime": {
     "end_time": "2018-09-14T23:36:01.390043Z",
     "start_time": "2018-09-14T23:36:01.382092Z"
    }
   },
   "outputs": [],
   "source": [
    "def simple_Kfold(features, target, model):\n",
    "    \"\"\"Performs a KFold cross-validation.\n",
    "    Returns the average Root Mean Squared Error score.\"\"\"\n",
    "    kf = KFold(n = len(features), n_folds = 5, shuffle = True, random_state = 42)\n",
    "    rmse_scores = []\n",
    "    r2_scores = []\n",
    "    for train, test in kf:\n",
    "        X_train = features[train]\n",
    "        y_train = target[train]\n",
    "        X_test = features[test]\n",
    "        y_test = target[test]\n",
    "        \n",
    "        #fit the model\n",
    "        model.fit(X_train, y_train)\n",
    "        \n",
    "        #Get fit model to predict based on test set features\n",
    "        y_test_predict = model.predict(X_test)\n",
    "        \n",
    "        #Get the mean squared error and r-squared score\n",
    "        mse = mean_squared_error(y_test_predict, np.exp(y_test))\n",
    "        r2 = model.score(y_test_predict, y_test)\n",
    "        \n",
    "        #Get root mean squared error, r2 and append them to the list of scores\n",
    "        rmse = np.sqrt(mse)\n",
    "        rmse_scores.append(rmse)\n",
    "        r2_scores.append(r2)\n",
    "    \n",
    "    print('The RMSE after KFold cross-validation is: ' + str(round(np.mean(rmse_scores), 3)))\n",
    "    print('The R2 after KFold cross-validation is: ' + str(round(np.mean(r2_scores), 3)))\n",
    "    return [round(np.mean(rmse_scores), 3), round(np.mean(r2_scores), 3)]\n",
    "\n",
    "def Kfold_for_logged_target(features, target, model):\n",
    "    \"\"\"Performs a KFold cross-validation.\n",
    "    Returns RMSE and R2 scores.\"\"\"\n",
    "    kf = KFold(n = len(features), n_folds = 5, shuffle = True, random_state = 42)\n",
    "    rmse_scores = []\n",
    "    r2_scores = []\n",
    "    for train, test in kf:\n",
    "        X_train = features[train]\n",
    "        y_train = target[train]\n",
    "        X_test = features[test]\n",
    "        y_test = target[test]\n",
    "        \n",
    "        #fit the model\n",
    "        model.fit(X_train, y_train)\n",
    "        \n",
    "        #Get fit model to predict based on test set features\n",
    "        y_test_predict = model.predict(X_test)        \n",
    "        #Get the mean squared error score\n",
    "        mse = mean_squared_error(np.exp(y_test_predict), np.exp(y_test))\n",
    "\n",
    "        #Get root mean squared error, r2 and append them to the list of scores\n",
    "        rmse = np.sqrt(mse)\n",
    "        rmse_scores.append(rmse)\n",
    "        r2 = model.score(np.exp(y_test_predict), np.exp(y_test))\n",
    "        r2_scores.append(r2)\n",
    "    \n",
    "    print('The RMSE after KFold cross-validation is: ' + str(round(np.mean(rmse_scores), 3)))\n",
    "    print('The R2 after KFold cross-validation is: ' + str(round(np.mean(r2_scores), 3)))\n",
    "    return [round(np.mean(rmse_scores), 3), round(np.mean(r2_scores), 3)]\n",
    "    "
   ]
  },
  {
   "cell_type": "markdown",
   "metadata": {},
   "source": [
    "## Parameter search - ETA"
   ]
  },
  {
   "cell_type": "code",
   "execution_count": 51,
   "metadata": {
    "ExecuteTime": {
     "end_time": "2018-09-15T01:32:14.616574Z",
     "start_time": "2018-09-15T01:32:14.288768Z"
    }
   },
   "outputs": [
    {
     "name": "stderr",
     "output_type": "stream",
     "text": [
      "/anaconda3/lib/python3.6/site-packages/sklearn/linear_model/base.py:509: RuntimeWarning: internal gelsd driver lwork query error, required iwork dimension not returned. This is likely the result of LAPACK bug 0038, fixed in LAPACK 3.2.2 (released July 21, 2010). Falling back to 'gelss' driver.\n",
      "  linalg.lstsq(X, y)\n"
     ]
    }
   ],
   "source": [
    "LinReg_ETA = LinearRegression()\n",
    "LinReg_ETA.fit(scaled_feature_space, target_duration_log);"
   ]
  },
  {
   "cell_type": "code",
   "execution_count": 52,
   "metadata": {
    "ExecuteTime": {
     "end_time": "2018-09-15T01:32:17.807473Z",
     "start_time": "2018-09-15T01:32:16.538254Z"
    }
   },
   "outputs": [
    {
     "name": "stdout",
     "output_type": "stream",
     "text": [
      "Best RMSE score for Linear Regression cross validation is \u001b[32m40.8%\u001b[0m.\n",
      "Best r-squared score for Linear Regression cross validation is \u001b[32m70.6%\u001b[0m.\n"
     ]
    }
   ],
   "source": [
    "mse_scores = cross_val_score(LinReg_ETA, scaled_feature_space, target_duration_log, cv=5, scoring='neg_mean_squared_error')\n",
    "rmse_scores = [np.sqrt(abs(mse)) for mse in mse_scores]\n",
    "mean_rmse_score = np.mean(rmse_scores)\n",
    "r2_LR_ETA = LinReg_ETA.score(scaled_feature_space, target_duration_log)\n",
    "print('Best RMSE score for Linear Regression cross validation is', colored(str(round(mean_rmse_score * 100, 1))+ '%', 'green')+'.')\n",
    "print('Best r-squared score for Linear Regression cross validation is', colored(str(round(r2_LR_ETA * 100, 1))+ '%', 'green')+'.')"
   ]
  },
  {
   "cell_type": "markdown",
   "metadata": {},
   "source": [
    "> RMSE for Linear Regression is **40.8%** and R-squared is **70.6%** (*training set*)."
   ]
  },
  {
   "cell_type": "code",
   "execution_count": 220,
   "metadata": {
    "ExecuteTime": {
     "end_time": "2018-09-13T00:12:09.379235Z",
     "start_time": "2018-09-13T00:12:04.332592Z"
    },
    "scrolled": true
   },
   "outputs": [],
   "source": [
    "#Ridge\n",
    "# alphas = [1.0, 2.0, 5.0, 10.0, 20.0, 30.0]   #[1e-5, 1e-4, 1e-3, 1e-2, 0.1, already tested\n",
    "# max_iters = [100, 1000, 2000]    # already tested\n",
    "\n",
    "# ridge_params = dict(alpha=[1e-5, 1e-4, 1e-3, 1e-2, 0.1, 1.0, 2.0, 5.0, 10.0, 20.0, 30.0],\n",
    "#                     max_iter=[10, 20, 50, 100, 1000, 2000])\n",
    "\n",
    "# grid_Ridge = GridSearchCV(Ridge(), param_grid=ridge_params, scoring='neg_mean_squared_error')\n",
    "# grid_Ridge.fit(scaled_features_duration, target_duration_log);"
   ]
  },
  {
   "cell_type": "code",
   "execution_count": null,
   "metadata": {},
   "outputs": [],
   "source": []
  },
  {
   "cell_type": "code",
   "execution_count": null,
   "metadata": {},
   "outputs": [],
   "source": []
  },
  {
   "cell_type": "code",
   "execution_count": 221,
   "metadata": {
    "ExecuteTime": {
     "end_time": "2018-09-13T00:12:10.503414Z",
     "start_time": "2018-09-13T00:12:10.498617Z"
    }
   },
   "outputs": [
    {
     "name": "stdout",
     "output_type": "stream",
     "text": [
      "Best RMSE score for Ridge cross validation is \u001b[32m44.4%\u001b[0m.\n",
      "Best parameters for Ridge cross validation are:\n",
      "\t \u001b[32m{'alpha': 10.0, 'max_iter': 10}\u001b[0m\n",
      "Best estimators for Ridge cross validation are the following:\n",
      "\t \u001b[32mRidge(alpha=10.0, copy_X=True, fit_intercept=True, max_iter=10,\n",
      "   normalize=False, random_state=None, solver='auto', tol=0.001)\u001b[0m\n"
     ]
    }
   ],
   "source": [
    "# examine the best model\n",
    "# print('Best RMSE score for Ridge cross validation is', colored(str(round(np.sqrt(abs(grid_Ridge.best_score_)) * 100, 1))+'%', 'green')+ '.')\n",
    "# print('Best parameters for Ridge cross validation are:\\n\\t', colored(str(grid_Ridge.best_params_), 'green'))\n",
    "# print('Best estimators for Ridge cross validation are the following:\\n\\t', colored(str(grid_Ridge.best_estimator_), 'green'))"
   ]
  },
  {
   "cell_type": "markdown",
   "metadata": {},
   "source": [
    "**Best RMSE score for Ridge** cross validation is **44%** (*on 150k record sample*).    \n",
    "**Best parameters for Ridge** cross validation are: **{'alpha': 30.0, 'max_iter': 100}**  \n",
    "**Best estimators for Ridge** cross validation are the following: Ridge(alpha=30.0, copy_X=True, fit_intercept=True, max_iter=100,  \n",
    "                                                                           normalize=False, random_state=None, solver='auto', tol=0.001)  "
   ]
  },
  {
   "cell_type": "code",
   "execution_count": 222,
   "metadata": {
    "ExecuteTime": {
     "end_time": "2018-09-13T00:12:18.003448Z",
     "start_time": "2018-09-13T00:12:14.520916Z"
    }
   },
   "outputs": [],
   "source": [
    "# # #Lasso\n",
    "# alphas = [1e-5, 1e-4, 1e-3, 1e-2, 0.1, 1.0, 2.0, 5.0, 10.0] #Tried out\n",
    "# max_iters = [100, 1000, 2000]  #Tried out\n",
    "\n",
    "# params_lasso = dict(alpha=alphas,\n",
    "#                         max_iter=max_iters)\n",
    "\n",
    "# grid_Lasso = GridSearchCV(Lasso(), param_grid=params_lasso, scoring='neg_mean_squared_error')\n",
    "# grid_Lasso.fit(scaled_features_duration, target_duration_log);"
   ]
  },
  {
   "cell_type": "code",
   "execution_count": 223,
   "metadata": {
    "ExecuteTime": {
     "end_time": "2018-09-13T00:12:19.134926Z",
     "start_time": "2018-09-13T00:12:19.130431Z"
    }
   },
   "outputs": [
    {
     "name": "stdout",
     "output_type": "stream",
     "text": [
      "Best RMSE score for Lasso cross validation is \u001b[32m0.444\u001b[0m.\n",
      "Best parameters for Lasso cross validation are:\n",
      "\t \u001b[32m{'alpha': 1e-05, 'max_iter': 100}\u001b[0m\n",
      "Best estimators for Lasso cross validation are the following:\n",
      "\t \u001b[32mLasso(alpha=1e-05, copy_X=True, fit_intercept=True, max_iter=100,\n",
      "   normalize=False, positive=False, precompute=False, random_state=None,\n",
      "   selection='cyclic', tol=0.0001, warm_start=False)\u001b[0m\n"
     ]
    }
   ],
   "source": [
    "# examine the best model\n",
    "# print('Best RMSE score for Lasso cross validation is', colored(str(round(np.sqrt(abs(grid_Lasso.best_score_)), 3)), 'green')+ '.')\n",
    "# print('Best parameters for Lasso cross validation are:\\n\\t', colored(str(grid_Lasso.best_params_), 'green'))\n",
    "# print('Best estimators for Lasso cross validation are the following:\\n\\t', colored(str(grid_Lasso.best_estimator_), 'green'))"
   ]
  },
  {
   "cell_type": "markdown",
   "metadata": {},
   "source": [
    "**Best RMSE score for Lasso** cross validation is **44%** (*on 150k record sample*).    \n",
    "**Best parameters for Lasso** cross validation are: **{'alpha': 1e-05, 'max_iter': 100}**  \n",
    "**Best estimators for Lasso** cross validation are the following: Lasso(alpha=1e-05, copy_X=True, fit_intercept=True, max_iter=100,\n",
    "   normalize=False, positive=False, precompute=False, random_state=None, selection='cyclic', tol=0.0001, warm_start=False)"
   ]
  },
  {
   "cell_type": "code",
   "execution_count": 258,
   "metadata": {
    "ExecuteTime": {
     "end_time": "2018-09-15T00:00:26.278841Z",
     "start_time": "2018-09-14T23:37:22.798290Z"
    }
   },
   "outputs": [
    {
     "ename": "KeyboardInterrupt",
     "evalue": "",
     "output_type": "error",
     "traceback": [
      "\u001b[0;31m---------------------------------------------------------------------------\u001b[0m",
      "\u001b[0;31mKeyboardInterrupt\u001b[0m                         Traceback (most recent call last)",
      "\u001b[0;32m<ipython-input-258-3aedd179690d>\u001b[0m in \u001b[0;36m<module>\u001b[0;34m()\u001b[0m\n\u001b[1;32m      7\u001b[0m \u001b[0;34m\u001b[0m\u001b[0m\n\u001b[1;32m      8\u001b[0m \u001b[0mgrid_RandomForest_ETA\u001b[0m \u001b[0;34m=\u001b[0m \u001b[0mGridSearchCV\u001b[0m\u001b[0;34m(\u001b[0m\u001b[0mRandomForestRegressor\u001b[0m\u001b[0;34m(\u001b[0m\u001b[0;34m)\u001b[0m\u001b[0;34m,\u001b[0m \u001b[0mparam_grid\u001b[0m\u001b[0;34m=\u001b[0m\u001b[0mparams_randomForest\u001b[0m\u001b[0;34m,\u001b[0m \u001b[0mscoring\u001b[0m\u001b[0;34m=\u001b[0m\u001b[0;34m'r2'\u001b[0m\u001b[0;34m)\u001b[0m\u001b[0;34m\u001b[0m\u001b[0m\n\u001b[0;32m----> 9\u001b[0;31m \u001b[0mgrid_RandomForest_ETA\u001b[0m\u001b[0;34m.\u001b[0m\u001b[0mfit\u001b[0m\u001b[0;34m(\u001b[0m\u001b[0mscaled_feature_space\u001b[0m\u001b[0;34m,\u001b[0m \u001b[0mtarget_duration_log\u001b[0m\u001b[0;34m)\u001b[0m\u001b[0;34m;\u001b[0m\u001b[0;34m\u001b[0m\u001b[0m\n\u001b[0m",
      "\u001b[0;32m/anaconda3/lib/python3.6/site-packages/sklearn/model_selection/_search.py\u001b[0m in \u001b[0;36mfit\u001b[0;34m(self, X, y, groups, **fit_params)\u001b[0m\n\u001b[1;32m    637\u001b[0m                                   error_score=self.error_score)\n\u001b[1;32m    638\u001b[0m           for parameters, (train, test) in product(candidate_params,\n\u001b[0;32m--> 639\u001b[0;31m                                                    cv.split(X, y, groups)))\n\u001b[0m\u001b[1;32m    640\u001b[0m \u001b[0;34m\u001b[0m\u001b[0m\n\u001b[1;32m    641\u001b[0m         \u001b[0;31m# if one choose to see train score, \"out\" will contain train score info\u001b[0m\u001b[0;34m\u001b[0m\u001b[0;34m\u001b[0m\u001b[0m\n",
      "\u001b[0;32m/anaconda3/lib/python3.6/site-packages/sklearn/externals/joblib/parallel.py\u001b[0m in \u001b[0;36m__call__\u001b[0;34m(self, iterable)\u001b[0m\n\u001b[1;32m    777\u001b[0m             \u001b[0;31m# was dispatched. In particular this covers the edge\u001b[0m\u001b[0;34m\u001b[0m\u001b[0;34m\u001b[0m\u001b[0m\n\u001b[1;32m    778\u001b[0m             \u001b[0;31m# case of Parallel used with an exhausted iterator.\u001b[0m\u001b[0;34m\u001b[0m\u001b[0;34m\u001b[0m\u001b[0m\n\u001b[0;32m--> 779\u001b[0;31m             \u001b[0;32mwhile\u001b[0m \u001b[0mself\u001b[0m\u001b[0;34m.\u001b[0m\u001b[0mdispatch_one_batch\u001b[0m\u001b[0;34m(\u001b[0m\u001b[0miterator\u001b[0m\u001b[0;34m)\u001b[0m\u001b[0;34m:\u001b[0m\u001b[0;34m\u001b[0m\u001b[0m\n\u001b[0m\u001b[1;32m    780\u001b[0m                 \u001b[0mself\u001b[0m\u001b[0;34m.\u001b[0m\u001b[0m_iterating\u001b[0m \u001b[0;34m=\u001b[0m \u001b[0;32mTrue\u001b[0m\u001b[0;34m\u001b[0m\u001b[0m\n\u001b[1;32m    781\u001b[0m             \u001b[0;32melse\u001b[0m\u001b[0;34m:\u001b[0m\u001b[0;34m\u001b[0m\u001b[0m\n",
      "\u001b[0;32m/anaconda3/lib/python3.6/site-packages/sklearn/externals/joblib/parallel.py\u001b[0m in \u001b[0;36mdispatch_one_batch\u001b[0;34m(self, iterator)\u001b[0m\n\u001b[1;32m    623\u001b[0m                 \u001b[0;32mreturn\u001b[0m \u001b[0;32mFalse\u001b[0m\u001b[0;34m\u001b[0m\u001b[0m\n\u001b[1;32m    624\u001b[0m             \u001b[0;32melse\u001b[0m\u001b[0;34m:\u001b[0m\u001b[0;34m\u001b[0m\u001b[0m\n\u001b[0;32m--> 625\u001b[0;31m                 \u001b[0mself\u001b[0m\u001b[0;34m.\u001b[0m\u001b[0m_dispatch\u001b[0m\u001b[0;34m(\u001b[0m\u001b[0mtasks\u001b[0m\u001b[0;34m)\u001b[0m\u001b[0;34m\u001b[0m\u001b[0m\n\u001b[0m\u001b[1;32m    626\u001b[0m                 \u001b[0;32mreturn\u001b[0m \u001b[0;32mTrue\u001b[0m\u001b[0;34m\u001b[0m\u001b[0m\n\u001b[1;32m    627\u001b[0m \u001b[0;34m\u001b[0m\u001b[0m\n",
      "\u001b[0;32m/anaconda3/lib/python3.6/site-packages/sklearn/externals/joblib/parallel.py\u001b[0m in \u001b[0;36m_dispatch\u001b[0;34m(self, batch)\u001b[0m\n\u001b[1;32m    586\u001b[0m         \u001b[0mdispatch_timestamp\u001b[0m \u001b[0;34m=\u001b[0m \u001b[0mtime\u001b[0m\u001b[0;34m.\u001b[0m\u001b[0mtime\u001b[0m\u001b[0;34m(\u001b[0m\u001b[0;34m)\u001b[0m\u001b[0;34m\u001b[0m\u001b[0m\n\u001b[1;32m    587\u001b[0m         \u001b[0mcb\u001b[0m \u001b[0;34m=\u001b[0m \u001b[0mBatchCompletionCallBack\u001b[0m\u001b[0;34m(\u001b[0m\u001b[0mdispatch_timestamp\u001b[0m\u001b[0;34m,\u001b[0m \u001b[0mlen\u001b[0m\u001b[0;34m(\u001b[0m\u001b[0mbatch\u001b[0m\u001b[0;34m)\u001b[0m\u001b[0;34m,\u001b[0m \u001b[0mself\u001b[0m\u001b[0;34m)\u001b[0m\u001b[0;34m\u001b[0m\u001b[0m\n\u001b[0;32m--> 588\u001b[0;31m         \u001b[0mjob\u001b[0m \u001b[0;34m=\u001b[0m \u001b[0mself\u001b[0m\u001b[0;34m.\u001b[0m\u001b[0m_backend\u001b[0m\u001b[0;34m.\u001b[0m\u001b[0mapply_async\u001b[0m\u001b[0;34m(\u001b[0m\u001b[0mbatch\u001b[0m\u001b[0;34m,\u001b[0m \u001b[0mcallback\u001b[0m\u001b[0;34m=\u001b[0m\u001b[0mcb\u001b[0m\u001b[0;34m)\u001b[0m\u001b[0;34m\u001b[0m\u001b[0m\n\u001b[0m\u001b[1;32m    589\u001b[0m         \u001b[0mself\u001b[0m\u001b[0;34m.\u001b[0m\u001b[0m_jobs\u001b[0m\u001b[0;34m.\u001b[0m\u001b[0mappend\u001b[0m\u001b[0;34m(\u001b[0m\u001b[0mjob\u001b[0m\u001b[0;34m)\u001b[0m\u001b[0;34m\u001b[0m\u001b[0m\n\u001b[1;32m    590\u001b[0m \u001b[0;34m\u001b[0m\u001b[0m\n",
      "\u001b[0;32m/anaconda3/lib/python3.6/site-packages/sklearn/externals/joblib/_parallel_backends.py\u001b[0m in \u001b[0;36mapply_async\u001b[0;34m(self, func, callback)\u001b[0m\n\u001b[1;32m    109\u001b[0m     \u001b[0;32mdef\u001b[0m \u001b[0mapply_async\u001b[0m\u001b[0;34m(\u001b[0m\u001b[0mself\u001b[0m\u001b[0;34m,\u001b[0m \u001b[0mfunc\u001b[0m\u001b[0;34m,\u001b[0m \u001b[0mcallback\u001b[0m\u001b[0;34m=\u001b[0m\u001b[0;32mNone\u001b[0m\u001b[0;34m)\u001b[0m\u001b[0;34m:\u001b[0m\u001b[0;34m\u001b[0m\u001b[0m\n\u001b[1;32m    110\u001b[0m         \u001b[0;34m\"\"\"Schedule a func to be run\"\"\"\u001b[0m\u001b[0;34m\u001b[0m\u001b[0m\n\u001b[0;32m--> 111\u001b[0;31m         \u001b[0mresult\u001b[0m \u001b[0;34m=\u001b[0m \u001b[0mImmediateResult\u001b[0m\u001b[0;34m(\u001b[0m\u001b[0mfunc\u001b[0m\u001b[0;34m)\u001b[0m\u001b[0;34m\u001b[0m\u001b[0m\n\u001b[0m\u001b[1;32m    112\u001b[0m         \u001b[0;32mif\u001b[0m \u001b[0mcallback\u001b[0m\u001b[0;34m:\u001b[0m\u001b[0;34m\u001b[0m\u001b[0m\n\u001b[1;32m    113\u001b[0m             \u001b[0mcallback\u001b[0m\u001b[0;34m(\u001b[0m\u001b[0mresult\u001b[0m\u001b[0;34m)\u001b[0m\u001b[0;34m\u001b[0m\u001b[0m\n",
      "\u001b[0;32m/anaconda3/lib/python3.6/site-packages/sklearn/externals/joblib/_parallel_backends.py\u001b[0m in \u001b[0;36m__init__\u001b[0;34m(self, batch)\u001b[0m\n\u001b[1;32m    330\u001b[0m         \u001b[0;31m# Don't delay the application, to avoid keeping the input\u001b[0m\u001b[0;34m\u001b[0m\u001b[0;34m\u001b[0m\u001b[0m\n\u001b[1;32m    331\u001b[0m         \u001b[0;31m# arguments in memory\u001b[0m\u001b[0;34m\u001b[0m\u001b[0;34m\u001b[0m\u001b[0m\n\u001b[0;32m--> 332\u001b[0;31m         \u001b[0mself\u001b[0m\u001b[0;34m.\u001b[0m\u001b[0mresults\u001b[0m \u001b[0;34m=\u001b[0m \u001b[0mbatch\u001b[0m\u001b[0;34m(\u001b[0m\u001b[0;34m)\u001b[0m\u001b[0;34m\u001b[0m\u001b[0m\n\u001b[0m\u001b[1;32m    333\u001b[0m \u001b[0;34m\u001b[0m\u001b[0m\n\u001b[1;32m    334\u001b[0m     \u001b[0;32mdef\u001b[0m \u001b[0mget\u001b[0m\u001b[0;34m(\u001b[0m\u001b[0mself\u001b[0m\u001b[0;34m)\u001b[0m\u001b[0;34m:\u001b[0m\u001b[0;34m\u001b[0m\u001b[0m\n",
      "\u001b[0;32m/anaconda3/lib/python3.6/site-packages/sklearn/externals/joblib/parallel.py\u001b[0m in \u001b[0;36m__call__\u001b[0;34m(self)\u001b[0m\n\u001b[1;32m    129\u001b[0m \u001b[0;34m\u001b[0m\u001b[0m\n\u001b[1;32m    130\u001b[0m     \u001b[0;32mdef\u001b[0m \u001b[0m__call__\u001b[0m\u001b[0;34m(\u001b[0m\u001b[0mself\u001b[0m\u001b[0;34m)\u001b[0m\u001b[0;34m:\u001b[0m\u001b[0;34m\u001b[0m\u001b[0m\n\u001b[0;32m--> 131\u001b[0;31m         \u001b[0;32mreturn\u001b[0m \u001b[0;34m[\u001b[0m\u001b[0mfunc\u001b[0m\u001b[0;34m(\u001b[0m\u001b[0;34m*\u001b[0m\u001b[0margs\u001b[0m\u001b[0;34m,\u001b[0m \u001b[0;34m**\u001b[0m\u001b[0mkwargs\u001b[0m\u001b[0;34m)\u001b[0m \u001b[0;32mfor\u001b[0m \u001b[0mfunc\u001b[0m\u001b[0;34m,\u001b[0m \u001b[0margs\u001b[0m\u001b[0;34m,\u001b[0m \u001b[0mkwargs\u001b[0m \u001b[0;32min\u001b[0m \u001b[0mself\u001b[0m\u001b[0;34m.\u001b[0m\u001b[0mitems\u001b[0m\u001b[0;34m]\u001b[0m\u001b[0;34m\u001b[0m\u001b[0m\n\u001b[0m\u001b[1;32m    132\u001b[0m \u001b[0;34m\u001b[0m\u001b[0m\n\u001b[1;32m    133\u001b[0m     \u001b[0;32mdef\u001b[0m \u001b[0m__len__\u001b[0m\u001b[0;34m(\u001b[0m\u001b[0mself\u001b[0m\u001b[0;34m)\u001b[0m\u001b[0;34m:\u001b[0m\u001b[0;34m\u001b[0m\u001b[0m\n",
      "\u001b[0;32m/anaconda3/lib/python3.6/site-packages/sklearn/externals/joblib/parallel.py\u001b[0m in \u001b[0;36m<listcomp>\u001b[0;34m(.0)\u001b[0m\n\u001b[1;32m    129\u001b[0m \u001b[0;34m\u001b[0m\u001b[0m\n\u001b[1;32m    130\u001b[0m     \u001b[0;32mdef\u001b[0m \u001b[0m__call__\u001b[0m\u001b[0;34m(\u001b[0m\u001b[0mself\u001b[0m\u001b[0;34m)\u001b[0m\u001b[0;34m:\u001b[0m\u001b[0;34m\u001b[0m\u001b[0m\n\u001b[0;32m--> 131\u001b[0;31m         \u001b[0;32mreturn\u001b[0m \u001b[0;34m[\u001b[0m\u001b[0mfunc\u001b[0m\u001b[0;34m(\u001b[0m\u001b[0;34m*\u001b[0m\u001b[0margs\u001b[0m\u001b[0;34m,\u001b[0m \u001b[0;34m**\u001b[0m\u001b[0mkwargs\u001b[0m\u001b[0;34m)\u001b[0m \u001b[0;32mfor\u001b[0m \u001b[0mfunc\u001b[0m\u001b[0;34m,\u001b[0m \u001b[0margs\u001b[0m\u001b[0;34m,\u001b[0m \u001b[0mkwargs\u001b[0m \u001b[0;32min\u001b[0m \u001b[0mself\u001b[0m\u001b[0;34m.\u001b[0m\u001b[0mitems\u001b[0m\u001b[0;34m]\u001b[0m\u001b[0;34m\u001b[0m\u001b[0m\n\u001b[0m\u001b[1;32m    132\u001b[0m \u001b[0;34m\u001b[0m\u001b[0m\n\u001b[1;32m    133\u001b[0m     \u001b[0;32mdef\u001b[0m \u001b[0m__len__\u001b[0m\u001b[0;34m(\u001b[0m\u001b[0mself\u001b[0m\u001b[0;34m)\u001b[0m\u001b[0;34m:\u001b[0m\u001b[0;34m\u001b[0m\u001b[0m\n",
      "\u001b[0;32m/anaconda3/lib/python3.6/site-packages/sklearn/model_selection/_validation.py\u001b[0m in \u001b[0;36m_fit_and_score\u001b[0;34m(estimator, X, y, scorer, train, test, verbose, parameters, fit_params, return_train_score, return_parameters, return_n_test_samples, return_times, error_score)\u001b[0m\n\u001b[1;32m    456\u001b[0m             \u001b[0mestimator\u001b[0m\u001b[0;34m.\u001b[0m\u001b[0mfit\u001b[0m\u001b[0;34m(\u001b[0m\u001b[0mX_train\u001b[0m\u001b[0;34m,\u001b[0m \u001b[0;34m**\u001b[0m\u001b[0mfit_params\u001b[0m\u001b[0;34m)\u001b[0m\u001b[0;34m\u001b[0m\u001b[0m\n\u001b[1;32m    457\u001b[0m         \u001b[0;32melse\u001b[0m\u001b[0;34m:\u001b[0m\u001b[0;34m\u001b[0m\u001b[0m\n\u001b[0;32m--> 458\u001b[0;31m             \u001b[0mestimator\u001b[0m\u001b[0;34m.\u001b[0m\u001b[0mfit\u001b[0m\u001b[0;34m(\u001b[0m\u001b[0mX_train\u001b[0m\u001b[0;34m,\u001b[0m \u001b[0my_train\u001b[0m\u001b[0;34m,\u001b[0m \u001b[0;34m**\u001b[0m\u001b[0mfit_params\u001b[0m\u001b[0;34m)\u001b[0m\u001b[0;34m\u001b[0m\u001b[0m\n\u001b[0m\u001b[1;32m    459\u001b[0m \u001b[0;34m\u001b[0m\u001b[0m\n\u001b[1;32m    460\u001b[0m     \u001b[0;32mexcept\u001b[0m \u001b[0mException\u001b[0m \u001b[0;32mas\u001b[0m \u001b[0me\u001b[0m\u001b[0;34m:\u001b[0m\u001b[0;34m\u001b[0m\u001b[0m\n",
      "\u001b[0;32m/anaconda3/lib/python3.6/site-packages/sklearn/ensemble/forest.py\u001b[0m in \u001b[0;36mfit\u001b[0;34m(self, X, y, sample_weight)\u001b[0m\n\u001b[1;32m    326\u001b[0m                     \u001b[0mt\u001b[0m\u001b[0;34m,\u001b[0m \u001b[0mself\u001b[0m\u001b[0;34m,\u001b[0m \u001b[0mX\u001b[0m\u001b[0;34m,\u001b[0m \u001b[0my\u001b[0m\u001b[0;34m,\u001b[0m \u001b[0msample_weight\u001b[0m\u001b[0;34m,\u001b[0m \u001b[0mi\u001b[0m\u001b[0;34m,\u001b[0m \u001b[0mlen\u001b[0m\u001b[0;34m(\u001b[0m\u001b[0mtrees\u001b[0m\u001b[0;34m)\u001b[0m\u001b[0;34m,\u001b[0m\u001b[0;34m\u001b[0m\u001b[0m\n\u001b[1;32m    327\u001b[0m                     verbose=self.verbose, class_weight=self.class_weight)\n\u001b[0;32m--> 328\u001b[0;31m                 for i, t in enumerate(trees))\n\u001b[0m\u001b[1;32m    329\u001b[0m \u001b[0;34m\u001b[0m\u001b[0m\n\u001b[1;32m    330\u001b[0m             \u001b[0;31m# Collect newly grown trees\u001b[0m\u001b[0;34m\u001b[0m\u001b[0;34m\u001b[0m\u001b[0m\n",
      "\u001b[0;32m/anaconda3/lib/python3.6/site-packages/sklearn/externals/joblib/parallel.py\u001b[0m in \u001b[0;36m__call__\u001b[0;34m(self, iterable)\u001b[0m\n\u001b[1;32m    777\u001b[0m             \u001b[0;31m# was dispatched. In particular this covers the edge\u001b[0m\u001b[0;34m\u001b[0m\u001b[0;34m\u001b[0m\u001b[0m\n\u001b[1;32m    778\u001b[0m             \u001b[0;31m# case of Parallel used with an exhausted iterator.\u001b[0m\u001b[0;34m\u001b[0m\u001b[0;34m\u001b[0m\u001b[0m\n\u001b[0;32m--> 779\u001b[0;31m             \u001b[0;32mwhile\u001b[0m \u001b[0mself\u001b[0m\u001b[0;34m.\u001b[0m\u001b[0mdispatch_one_batch\u001b[0m\u001b[0;34m(\u001b[0m\u001b[0miterator\u001b[0m\u001b[0;34m)\u001b[0m\u001b[0;34m:\u001b[0m\u001b[0;34m\u001b[0m\u001b[0m\n\u001b[0m\u001b[1;32m    780\u001b[0m                 \u001b[0mself\u001b[0m\u001b[0;34m.\u001b[0m\u001b[0m_iterating\u001b[0m \u001b[0;34m=\u001b[0m \u001b[0;32mTrue\u001b[0m\u001b[0;34m\u001b[0m\u001b[0m\n\u001b[1;32m    781\u001b[0m             \u001b[0;32melse\u001b[0m\u001b[0;34m:\u001b[0m\u001b[0;34m\u001b[0m\u001b[0m\n",
      "\u001b[0;32m/anaconda3/lib/python3.6/site-packages/sklearn/externals/joblib/parallel.py\u001b[0m in \u001b[0;36mdispatch_one_batch\u001b[0;34m(self, iterator)\u001b[0m\n\u001b[1;32m    623\u001b[0m                 \u001b[0;32mreturn\u001b[0m \u001b[0;32mFalse\u001b[0m\u001b[0;34m\u001b[0m\u001b[0m\n\u001b[1;32m    624\u001b[0m             \u001b[0;32melse\u001b[0m\u001b[0;34m:\u001b[0m\u001b[0;34m\u001b[0m\u001b[0m\n\u001b[0;32m--> 625\u001b[0;31m                 \u001b[0mself\u001b[0m\u001b[0;34m.\u001b[0m\u001b[0m_dispatch\u001b[0m\u001b[0;34m(\u001b[0m\u001b[0mtasks\u001b[0m\u001b[0;34m)\u001b[0m\u001b[0;34m\u001b[0m\u001b[0m\n\u001b[0m\u001b[1;32m    626\u001b[0m                 \u001b[0;32mreturn\u001b[0m \u001b[0;32mTrue\u001b[0m\u001b[0;34m\u001b[0m\u001b[0m\n\u001b[1;32m    627\u001b[0m \u001b[0;34m\u001b[0m\u001b[0m\n",
      "\u001b[0;32m/anaconda3/lib/python3.6/site-packages/sklearn/externals/joblib/parallel.py\u001b[0m in \u001b[0;36m_dispatch\u001b[0;34m(self, batch)\u001b[0m\n\u001b[1;32m    586\u001b[0m         \u001b[0mdispatch_timestamp\u001b[0m \u001b[0;34m=\u001b[0m \u001b[0mtime\u001b[0m\u001b[0;34m.\u001b[0m\u001b[0mtime\u001b[0m\u001b[0;34m(\u001b[0m\u001b[0;34m)\u001b[0m\u001b[0;34m\u001b[0m\u001b[0m\n\u001b[1;32m    587\u001b[0m         \u001b[0mcb\u001b[0m \u001b[0;34m=\u001b[0m \u001b[0mBatchCompletionCallBack\u001b[0m\u001b[0;34m(\u001b[0m\u001b[0mdispatch_timestamp\u001b[0m\u001b[0;34m,\u001b[0m \u001b[0mlen\u001b[0m\u001b[0;34m(\u001b[0m\u001b[0mbatch\u001b[0m\u001b[0;34m)\u001b[0m\u001b[0;34m,\u001b[0m \u001b[0mself\u001b[0m\u001b[0;34m)\u001b[0m\u001b[0;34m\u001b[0m\u001b[0m\n\u001b[0;32m--> 588\u001b[0;31m         \u001b[0mjob\u001b[0m \u001b[0;34m=\u001b[0m \u001b[0mself\u001b[0m\u001b[0;34m.\u001b[0m\u001b[0m_backend\u001b[0m\u001b[0;34m.\u001b[0m\u001b[0mapply_async\u001b[0m\u001b[0;34m(\u001b[0m\u001b[0mbatch\u001b[0m\u001b[0;34m,\u001b[0m \u001b[0mcallback\u001b[0m\u001b[0;34m=\u001b[0m\u001b[0mcb\u001b[0m\u001b[0;34m)\u001b[0m\u001b[0;34m\u001b[0m\u001b[0m\n\u001b[0m\u001b[1;32m    589\u001b[0m         \u001b[0mself\u001b[0m\u001b[0;34m.\u001b[0m\u001b[0m_jobs\u001b[0m\u001b[0;34m.\u001b[0m\u001b[0mappend\u001b[0m\u001b[0;34m(\u001b[0m\u001b[0mjob\u001b[0m\u001b[0;34m)\u001b[0m\u001b[0;34m\u001b[0m\u001b[0m\n\u001b[1;32m    590\u001b[0m \u001b[0;34m\u001b[0m\u001b[0m\n",
      "\u001b[0;32m/anaconda3/lib/python3.6/site-packages/sklearn/externals/joblib/_parallel_backends.py\u001b[0m in \u001b[0;36mapply_async\u001b[0;34m(self, func, callback)\u001b[0m\n\u001b[1;32m    109\u001b[0m     \u001b[0;32mdef\u001b[0m \u001b[0mapply_async\u001b[0m\u001b[0;34m(\u001b[0m\u001b[0mself\u001b[0m\u001b[0;34m,\u001b[0m \u001b[0mfunc\u001b[0m\u001b[0;34m,\u001b[0m \u001b[0mcallback\u001b[0m\u001b[0;34m=\u001b[0m\u001b[0;32mNone\u001b[0m\u001b[0;34m)\u001b[0m\u001b[0;34m:\u001b[0m\u001b[0;34m\u001b[0m\u001b[0m\n\u001b[1;32m    110\u001b[0m         \u001b[0;34m\"\"\"Schedule a func to be run\"\"\"\u001b[0m\u001b[0;34m\u001b[0m\u001b[0m\n\u001b[0;32m--> 111\u001b[0;31m         \u001b[0mresult\u001b[0m \u001b[0;34m=\u001b[0m \u001b[0mImmediateResult\u001b[0m\u001b[0;34m(\u001b[0m\u001b[0mfunc\u001b[0m\u001b[0;34m)\u001b[0m\u001b[0;34m\u001b[0m\u001b[0m\n\u001b[0m\u001b[1;32m    112\u001b[0m         \u001b[0;32mif\u001b[0m \u001b[0mcallback\u001b[0m\u001b[0;34m:\u001b[0m\u001b[0;34m\u001b[0m\u001b[0m\n\u001b[1;32m    113\u001b[0m             \u001b[0mcallback\u001b[0m\u001b[0;34m(\u001b[0m\u001b[0mresult\u001b[0m\u001b[0;34m)\u001b[0m\u001b[0;34m\u001b[0m\u001b[0m\n",
      "\u001b[0;32m/anaconda3/lib/python3.6/site-packages/sklearn/externals/joblib/_parallel_backends.py\u001b[0m in \u001b[0;36m__init__\u001b[0;34m(self, batch)\u001b[0m\n\u001b[1;32m    330\u001b[0m         \u001b[0;31m# Don't delay the application, to avoid keeping the input\u001b[0m\u001b[0;34m\u001b[0m\u001b[0;34m\u001b[0m\u001b[0m\n\u001b[1;32m    331\u001b[0m         \u001b[0;31m# arguments in memory\u001b[0m\u001b[0;34m\u001b[0m\u001b[0;34m\u001b[0m\u001b[0m\n\u001b[0;32m--> 332\u001b[0;31m         \u001b[0mself\u001b[0m\u001b[0;34m.\u001b[0m\u001b[0mresults\u001b[0m \u001b[0;34m=\u001b[0m \u001b[0mbatch\u001b[0m\u001b[0;34m(\u001b[0m\u001b[0;34m)\u001b[0m\u001b[0;34m\u001b[0m\u001b[0m\n\u001b[0m\u001b[1;32m    333\u001b[0m \u001b[0;34m\u001b[0m\u001b[0m\n\u001b[1;32m    334\u001b[0m     \u001b[0;32mdef\u001b[0m \u001b[0mget\u001b[0m\u001b[0;34m(\u001b[0m\u001b[0mself\u001b[0m\u001b[0;34m)\u001b[0m\u001b[0;34m:\u001b[0m\u001b[0;34m\u001b[0m\u001b[0m\n",
      "\u001b[0;32m/anaconda3/lib/python3.6/site-packages/sklearn/externals/joblib/parallel.py\u001b[0m in \u001b[0;36m__call__\u001b[0;34m(self)\u001b[0m\n\u001b[1;32m    129\u001b[0m \u001b[0;34m\u001b[0m\u001b[0m\n\u001b[1;32m    130\u001b[0m     \u001b[0;32mdef\u001b[0m \u001b[0m__call__\u001b[0m\u001b[0;34m(\u001b[0m\u001b[0mself\u001b[0m\u001b[0;34m)\u001b[0m\u001b[0;34m:\u001b[0m\u001b[0;34m\u001b[0m\u001b[0m\n\u001b[0;32m--> 131\u001b[0;31m         \u001b[0;32mreturn\u001b[0m \u001b[0;34m[\u001b[0m\u001b[0mfunc\u001b[0m\u001b[0;34m(\u001b[0m\u001b[0;34m*\u001b[0m\u001b[0margs\u001b[0m\u001b[0;34m,\u001b[0m \u001b[0;34m**\u001b[0m\u001b[0mkwargs\u001b[0m\u001b[0;34m)\u001b[0m \u001b[0;32mfor\u001b[0m \u001b[0mfunc\u001b[0m\u001b[0;34m,\u001b[0m \u001b[0margs\u001b[0m\u001b[0;34m,\u001b[0m \u001b[0mkwargs\u001b[0m \u001b[0;32min\u001b[0m \u001b[0mself\u001b[0m\u001b[0;34m.\u001b[0m\u001b[0mitems\u001b[0m\u001b[0;34m]\u001b[0m\u001b[0;34m\u001b[0m\u001b[0m\n\u001b[0m\u001b[1;32m    132\u001b[0m \u001b[0;34m\u001b[0m\u001b[0m\n\u001b[1;32m    133\u001b[0m     \u001b[0;32mdef\u001b[0m \u001b[0m__len__\u001b[0m\u001b[0;34m(\u001b[0m\u001b[0mself\u001b[0m\u001b[0;34m)\u001b[0m\u001b[0;34m:\u001b[0m\u001b[0;34m\u001b[0m\u001b[0m\n",
      "\u001b[0;32m/anaconda3/lib/python3.6/site-packages/sklearn/externals/joblib/parallel.py\u001b[0m in \u001b[0;36m<listcomp>\u001b[0;34m(.0)\u001b[0m\n\u001b[1;32m    129\u001b[0m \u001b[0;34m\u001b[0m\u001b[0m\n\u001b[1;32m    130\u001b[0m     \u001b[0;32mdef\u001b[0m \u001b[0m__call__\u001b[0m\u001b[0;34m(\u001b[0m\u001b[0mself\u001b[0m\u001b[0;34m)\u001b[0m\u001b[0;34m:\u001b[0m\u001b[0;34m\u001b[0m\u001b[0m\n\u001b[0;32m--> 131\u001b[0;31m         \u001b[0;32mreturn\u001b[0m \u001b[0;34m[\u001b[0m\u001b[0mfunc\u001b[0m\u001b[0;34m(\u001b[0m\u001b[0;34m*\u001b[0m\u001b[0margs\u001b[0m\u001b[0;34m,\u001b[0m \u001b[0;34m**\u001b[0m\u001b[0mkwargs\u001b[0m\u001b[0;34m)\u001b[0m \u001b[0;32mfor\u001b[0m \u001b[0mfunc\u001b[0m\u001b[0;34m,\u001b[0m \u001b[0margs\u001b[0m\u001b[0;34m,\u001b[0m \u001b[0mkwargs\u001b[0m \u001b[0;32min\u001b[0m \u001b[0mself\u001b[0m\u001b[0;34m.\u001b[0m\u001b[0mitems\u001b[0m\u001b[0;34m]\u001b[0m\u001b[0;34m\u001b[0m\u001b[0m\n\u001b[0m\u001b[1;32m    132\u001b[0m \u001b[0;34m\u001b[0m\u001b[0m\n\u001b[1;32m    133\u001b[0m     \u001b[0;32mdef\u001b[0m \u001b[0m__len__\u001b[0m\u001b[0;34m(\u001b[0m\u001b[0mself\u001b[0m\u001b[0;34m)\u001b[0m\u001b[0;34m:\u001b[0m\u001b[0;34m\u001b[0m\u001b[0m\n",
      "\u001b[0;32m/anaconda3/lib/python3.6/site-packages/sklearn/ensemble/forest.py\u001b[0m in \u001b[0;36m_parallel_build_trees\u001b[0;34m(tree, forest, X, y, sample_weight, tree_idx, n_trees, verbose, class_weight)\u001b[0m\n\u001b[1;32m    119\u001b[0m             \u001b[0mcurr_sample_weight\u001b[0m \u001b[0;34m*=\u001b[0m \u001b[0mcompute_sample_weight\u001b[0m\u001b[0;34m(\u001b[0m\u001b[0;34m'balanced'\u001b[0m\u001b[0;34m,\u001b[0m \u001b[0my\u001b[0m\u001b[0;34m,\u001b[0m \u001b[0mindices\u001b[0m\u001b[0;34m)\u001b[0m\u001b[0;34m\u001b[0m\u001b[0m\n\u001b[1;32m    120\u001b[0m \u001b[0;34m\u001b[0m\u001b[0m\n\u001b[0;32m--> 121\u001b[0;31m         \u001b[0mtree\u001b[0m\u001b[0;34m.\u001b[0m\u001b[0mfit\u001b[0m\u001b[0;34m(\u001b[0m\u001b[0mX\u001b[0m\u001b[0;34m,\u001b[0m \u001b[0my\u001b[0m\u001b[0;34m,\u001b[0m \u001b[0msample_weight\u001b[0m\u001b[0;34m=\u001b[0m\u001b[0mcurr_sample_weight\u001b[0m\u001b[0;34m,\u001b[0m \u001b[0mcheck_input\u001b[0m\u001b[0;34m=\u001b[0m\u001b[0;32mFalse\u001b[0m\u001b[0;34m)\u001b[0m\u001b[0;34m\u001b[0m\u001b[0m\n\u001b[0m\u001b[1;32m    122\u001b[0m     \u001b[0;32melse\u001b[0m\u001b[0;34m:\u001b[0m\u001b[0;34m\u001b[0m\u001b[0m\n\u001b[1;32m    123\u001b[0m         \u001b[0mtree\u001b[0m\u001b[0;34m.\u001b[0m\u001b[0mfit\u001b[0m\u001b[0;34m(\u001b[0m\u001b[0mX\u001b[0m\u001b[0;34m,\u001b[0m \u001b[0my\u001b[0m\u001b[0;34m,\u001b[0m \u001b[0msample_weight\u001b[0m\u001b[0;34m=\u001b[0m\u001b[0msample_weight\u001b[0m\u001b[0;34m,\u001b[0m \u001b[0mcheck_input\u001b[0m\u001b[0;34m=\u001b[0m\u001b[0;32mFalse\u001b[0m\u001b[0;34m)\u001b[0m\u001b[0;34m\u001b[0m\u001b[0m\n",
      "\u001b[0;32m/anaconda3/lib/python3.6/site-packages/sklearn/tree/tree.py\u001b[0m in \u001b[0;36mfit\u001b[0;34m(self, X, y, sample_weight, check_input, X_idx_sorted)\u001b[0m\n\u001b[1;32m   1122\u001b[0m             \u001b[0msample_weight\u001b[0m\u001b[0;34m=\u001b[0m\u001b[0msample_weight\u001b[0m\u001b[0;34m,\u001b[0m\u001b[0;34m\u001b[0m\u001b[0m\n\u001b[1;32m   1123\u001b[0m             \u001b[0mcheck_input\u001b[0m\u001b[0;34m=\u001b[0m\u001b[0mcheck_input\u001b[0m\u001b[0;34m,\u001b[0m\u001b[0;34m\u001b[0m\u001b[0m\n\u001b[0;32m-> 1124\u001b[0;31m             X_idx_sorted=X_idx_sorted)\n\u001b[0m\u001b[1;32m   1125\u001b[0m         \u001b[0;32mreturn\u001b[0m \u001b[0mself\u001b[0m\u001b[0;34m\u001b[0m\u001b[0m\n\u001b[1;32m   1126\u001b[0m \u001b[0;34m\u001b[0m\u001b[0m\n",
      "\u001b[0;32m/anaconda3/lib/python3.6/site-packages/sklearn/tree/tree.py\u001b[0m in \u001b[0;36mfit\u001b[0;34m(self, X, y, sample_weight, check_input, X_idx_sorted)\u001b[0m\n\u001b[1;32m    360\u001b[0m                                            min_impurity_split)\n\u001b[1;32m    361\u001b[0m \u001b[0;34m\u001b[0m\u001b[0m\n\u001b[0;32m--> 362\u001b[0;31m         \u001b[0mbuilder\u001b[0m\u001b[0;34m.\u001b[0m\u001b[0mbuild\u001b[0m\u001b[0;34m(\u001b[0m\u001b[0mself\u001b[0m\u001b[0;34m.\u001b[0m\u001b[0mtree_\u001b[0m\u001b[0;34m,\u001b[0m \u001b[0mX\u001b[0m\u001b[0;34m,\u001b[0m \u001b[0my\u001b[0m\u001b[0;34m,\u001b[0m \u001b[0msample_weight\u001b[0m\u001b[0;34m,\u001b[0m \u001b[0mX_idx_sorted\u001b[0m\u001b[0;34m)\u001b[0m\u001b[0;34m\u001b[0m\u001b[0m\n\u001b[0m\u001b[1;32m    363\u001b[0m \u001b[0;34m\u001b[0m\u001b[0m\n\u001b[1;32m    364\u001b[0m         \u001b[0;32mif\u001b[0m \u001b[0mself\u001b[0m\u001b[0;34m.\u001b[0m\u001b[0mn_outputs_\u001b[0m \u001b[0;34m==\u001b[0m \u001b[0;36m1\u001b[0m\u001b[0;34m:\u001b[0m\u001b[0;34m\u001b[0m\u001b[0m\n",
      "\u001b[0;31mKeyboardInterrupt\u001b[0m: "
     ]
    }
   ],
   "source": [
    "#RandomForest\n",
    "params_randomForest = dict(n_estimators=[150, 215, 225, 250],                               #[5, 10, 15, 20, 50, 100, 150],\n",
    "                        criterion=['mse'],\n",
    "                        max_depth=[20, 25, 30, 35],                                       #[3, 5, 10, 15, 35, 50, 75],\n",
    "                        min_samples_leaf=[3, 5, 10],                                 #[2, 5, 10, 50, 100, 500, 1000],\n",
    "                        random_state=[42])\n",
    "\n",
    "grid_RandomForest_ETA = GridSearchCV(RandomForestRegressor(), param_grid=params_randomForest, scoring='r2')\n",
    "grid_RandomForest_ETA.fit(scaled_feature_space, target_duration_log);"
   ]
  },
  {
   "cell_type": "code",
   "execution_count": null,
   "metadata": {
    "ExecuteTime": {
     "end_time": "2018-09-15T00:00:26.280700Z",
     "start_time": "2018-09-14T23:37:23.475Z"
    }
   },
   "outputs": [],
   "source": [
    "# examine the best model\n",
    "print('Best R-squared score for RandomForest cross validation is', colored(str(round(np.sqrt(abs(grid_RandomForest_ETA.best_score_)) * 100, 1))+'%', 'green')+ '.')\n",
    "print('Best parameters for RandomForest validation are:\\n\\t', colored(str(grid_RandomForest_ETA.best_params_), 'green'))\n",
    "print('Best estimators for RandomForest validation are the following:\\n\\t', colored(str(grid_RandomForest_ETA.best_estimator_), 'green'))"
   ]
  },
  {
   "cell_type": "markdown",
   "metadata": {},
   "source": [
    "**Best RMSE score for RandomForest** cross validation is **35.6%** (*on 75k record sample*).  \n",
    "**Best parameters for RandomForest** cross validation are: **{'criterion': 'mse', 'max_depth': 35, 'min_samples_leaf': 3, 'n_estimators': 225}**\n",
    "\n",
    "**Best R-squared score for RandomForest** cross validation is **88.4%** (*on 75k record sample*).   \n",
    "**Best parameters for RandomForest** cross validation are: **{'criterion': 'mse', 'max_depth': 20, 'min_samples_leaf': 3, 'n_estimators': 250}**"
   ]
  },
  {
   "cell_type": "code",
   "execution_count": 507,
   "metadata": {
    "ExecuteTime": {
     "end_time": "2018-09-14T15:52:23.775561Z",
     "start_time": "2018-09-14T15:52:23.771417Z"
    }
   },
   "outputs": [
    {
     "data": {
      "text/plain": [
       "dict_keys(['base_score', 'booster', 'colsample_bylevel', 'colsample_bytree', 'gamma', 'learning_rate', 'max_delta_step', 'max_depth', 'min_child_weight', 'missing', 'n_estimators', 'n_jobs', 'nthread', 'objective', 'random_state', 'reg_alpha', 'reg_lambda', 'scale_pos_weight', 'seed', 'silent', 'subsample'])"
      ]
     },
     "execution_count": 507,
     "metadata": {},
     "output_type": "execute_result"
    }
   ],
   "source": [
    "XGBoost_ETA.get_params().keys()"
   ]
  },
  {
   "cell_type": "code",
   "execution_count": null,
   "metadata": {
    "ExecuteTime": {
     "start_time": "2018-09-15T01:35:50.690Z"
    }
   },
   "outputs": [],
   "source": [
    "#XGBoost\n",
    "params_XGBoost_ETA = dict(max_depth=[3, 5, 7], learning_rate=[0.001, 0.1], n_estimators=[100, 150, 200, 225], \n",
    "                          gamma=[i/10.0 for i in range(3,6)], random_state=[42])\n",
    "\n",
    "# XGBRegressor(max_depth=3, learning_rate=0.1, n_estimators=100, silent=True, objective='reg:linear', booster='gbtree', \n",
    "#              n_jobs=1, nthread=None, gamma=0, min_child_weight=1, max_delta_step=0, subsample=1, colsample_bytree=1, \n",
    "#              colsample_bylevel=1, reg_alpha=0, reg_lambda=1, scale_pos_weight=1, base_score=0.5, random_state=0, seed=None, \n",
    "#              missing=None, **kwargs)\n",
    "\n",
    "\n",
    "# Initialize XGB and GridSearch\n",
    "XGBoost_ETA = XGBRegressor(nthread=-1) \n",
    "\n",
    "grid_XGBoost_ETA = GridSearchCV(XGBoost_ETA, params_XGBoost_ETA)\n",
    "grid_XGBoost_ETA.fit(scaled_feature_space, target_duration_log);\n",
    "\n",
    "# Print the r2 score\n",
    "# print(r2_score(Y_Val, grid.best_estimator_.predict(X_Val))) \n",
    "# grid_XGBoost_ETA = GridSearchCV(xgb.XGBRegressor(), param_grid=params_XGBoost, scoring='neg_mean_squared_error')"
   ]
  },
  {
   "cell_type": "code",
   "execution_count": null,
   "metadata": {
    "ExecuteTime": {
     "start_time": "2018-09-15T01:36:40.533Z"
    }
   },
   "outputs": [],
   "source": [
    "# examine the best model\n",
    "print('Best RMSE score for XGBoost cross validation is', colored(str(round(np.sqrt(abs(grid_XGBoost_ETA.best_score_)), 3)), 'green')+ '.')\n",
    "print('Best parameters for XGBoost validation are:\\n\\t', colored(str(grid_XGBoost_ETA.best_params_), 'green'))\n",
    "print('Best estimators for XGBoost validation are the following:\\n\\t', colored(str(grid_XGBoost_ETA.best_estimator_), 'green'))"
   ]
  },
  {
   "cell_type": "markdown",
   "metadata": {},
   "source": [
    "**Best RMSE score for XGBoost** cross validation is **%** (*on 150k record sample without demand or time of day*).    \n",
    "**Best parameters for XGBoost** cross validation are: ** **  \n",
    "**Best estimators for XGBoost** cross validation are the following: Ridge(alpha=10.0, copy_X=True, fit_intercept=True, max_iter=100,  \n",
    "                                                                           normalize=False, random_state=None, solver='auto', tol=0.001) "
   ]
  },
  {
   "cell_type": "markdown",
   "metadata": {},
   "source": [
    "### Now that I know the best parameters, let's see which model performs the best"
   ]
  },
  {
   "cell_type": "code",
   "execution_count": null,
   "metadata": {
    "ExecuteTime": {
     "end_time": "2018-09-13T15:33:19.396775Z",
     "start_time": "2018-09-13T06:13:32.201Z"
    }
   },
   "outputs": [],
   "source": [
    "# model_list_ETA = [LinearRegression(),\n",
    "#               RandomForestRegressor(n_estimators=250, max_depth=20, min_samples_leaf=3, random_state=42),\n",
    "#               XGRegressor(, random_state=42)]\n",
    "\n",
    "# model_names_ETA = ['LinearRegression_ETA', 'RandomForest_ETA', 'XGBoost_ETA']"
   ]
  },
  {
   "cell_type": "code",
   "execution_count": null,
   "metadata": {
    "ExecuteTime": {
     "end_time": "2018-09-13T15:33:19.397702Z",
     "start_time": "2018-09-13T06:13:32.204Z"
    }
   },
   "outputs": [],
   "source": [
    "# model_RMSEs  = []\n",
    "# model_R2s = []\n",
    "# all_models = {}\n",
    "\n",
    "# for i in range(len(model_list_ETA)):\n",
    "#     try_model = model_list_ETA[i]\n",
    "#     try_model.fit(scaled_features, target_duration)\n",
    "#     all_models[model_names_ETA[i]] = try_model\n",
    "#     model_RMSE = np.sqrt(abs(cross_val_score(try_model, scaled_features_ETA, target_duration_log, cv=10,\n",
    "#                                 scoring='neg_mean_squared_error')))\n",
    "#     model_R2 = cross_val_score(try_model, scaled_features_ETA, target_duration_log, cv=10,\n",
    "#                                 scoring='r2')\n",
    "#     model_RMSEs.append((model_names_ETA[i], round(np.mean(model_RMSE), 3)))\n",
    "#     model_R2s.append((model_names_ETA[i], round(np.mean(model_AdjR2), 3)))\n",
    "    \n",
    "# print('RMSE scores: ' + colored(str(sorted(model_RMSEs, key=lambda x: x[1], reverse=True)), 'green'))\n",
    "# print('R2 scores: '+ colored(str(sorted(model_R2s, key=lambda x: x[1], reverse=True)), 'green'))"
   ]
  },
  {
   "cell_type": "code",
   "execution_count": null,
   "metadata": {},
   "outputs": [],
   "source": []
  },
  {
   "cell_type": "markdown",
   "metadata": {},
   "source": [
    "### Learning curve"
   ]
  },
  {
   "cell_type": "code",
   "execution_count": null,
   "metadata": {
    "ExecuteTime": {
     "end_time": "2018-09-13T15:33:19.398467Z",
     "start_time": "2018-09-13T06:13:32.207Z"
    }
   },
   "outputs": [],
   "source": [
    "# plt.figure(figsize=(10, 5))\n",
    "\n",
    "# # mse_scores = cross_val_score(MY_MODEL, features, target_duration_log, cv=5, scoring='neg_mean_squared_error')\n",
    "# # rmse_scores = [np.sqrt(abs(mse for mse in mse_scores))]\n",
    "# # mean_rmse_score = np.mean(rmse_scores)\n",
    "\n",
    "# train_sizes, train_scores, test_scores = learning_curve(MY_MODEL, features, target_duration_log, cv=5)\n",
    "# avg_train_scores = train_scores.mean(axis=1)\n",
    "# avg_test_scores = test_scores.mean(axis=1)\n",
    "\n",
    "# learn_df = pd.DataFrame({\n",
    "#     'train_size': train_sizes,\n",
    "#     'train_score': avg_train_scores,\n",
    "#     'test_score': avg_test_scores\n",
    "# })\n",
    "# print(learn_df, '\\n')\n",
    "\n",
    "# plt.plot(learn_df['train_size'], learn_df['train_score'], 'r--o', label='train scores')\n",
    "# plt.plot(learn_df['train_size'], learn_df['test_score'], 'b--x', label='test scores')\n",
    "# plt.title('Learning Curve')\n",
    "# plt.xlabel('No. of data points')\n",
    "# plt.ylabel('Score')\n",
    "# plt.legend(loc='lower right')\n",
    "# plt.ylim(-1,1);"
   ]
  },
  {
   "cell_type": "code",
   "execution_count": null,
   "metadata": {},
   "outputs": [],
   "source": []
  },
  {
   "cell_type": "code",
   "execution_count": null,
   "metadata": {},
   "outputs": [],
   "source": []
  },
  {
   "cell_type": "code",
   "execution_count": null,
   "metadata": {},
   "outputs": [],
   "source": []
  },
  {
   "cell_type": "markdown",
   "metadata": {},
   "source": [
    "### Feature importance using Random Forest"
   ]
  },
  {
   "cell_type": "code",
   "execution_count": null,
   "metadata": {
    "ExecuteTime": {
     "end_time": "2018-09-13T15:33:19.399295Z",
     "start_time": "2018-09-13T06:13:32.215Z"
    }
   },
   "outputs": [],
   "source": [
    "# feat_imp = []\n",
    "# for var, imp in zip([f for f in scaled_features.columns], Random_Forest.feature_importances_):\n",
    "#     feat_imp.append((var, round(imp, 3)))\n",
    "\n",
    "# for var, imp in sorted(feat_imp, key=lambda x: x[1], reverse=True):\n",
    "#     print(str(var)+':', str(imp))"
   ]
  },
  {
   "cell_type": "code",
   "execution_count": null,
   "metadata": {},
   "outputs": [],
   "source": []
  },
  {
   "cell_type": "code",
   "execution_count": null,
   "metadata": {},
   "outputs": [],
   "source": []
  },
  {
   "cell_type": "markdown",
   "metadata": {},
   "source": [
    "## Parameter search - FARE"
   ]
  },
  {
   "cell_type": "code",
   "execution_count": null,
   "metadata": {
    "ExecuteTime": {
     "end_time": "2018-09-13T15:33:19.401532Z",
     "start_time": "2018-09-13T06:13:32.223Z"
    }
   },
   "outputs": [],
   "source": [
    "LinReg_fare = LinearRegression()\n",
    "LinReg_fare.fit(scaled_features_fare, target_fare_log);"
   ]
  },
  {
   "cell_type": "code",
   "execution_count": null,
   "metadata": {
    "ExecuteTime": {
     "end_time": "2018-09-13T15:33:19.402584Z",
     "start_time": "2018-09-13T06:13:32.225Z"
    }
   },
   "outputs": [],
   "source": [
    "mse_scores = cross_val_score(LinReg_fare, scaled_features_fare, target_fare_log, cv=5, scoring='neg_mean_squared_error')\n",
    "rmse_scores = [np.sqrt(abs(mse)) for mse in mse_scores]\n",
    "mean_rmse_score = np.mean(rmse_scores)\n",
    "r2_LR_fare = LinReg_fare.score(scaled_features_fare, target_fare_log)\n",
    "print('Best RMSE score for Linear Regression cross validation is', colored(str(round(mean_rmse_score * 100, 1))+ '%', 'green')+'.')\n",
    "print('Best r-squared score for Linear Regression cross validation is', colored(str(round(r2_LR_fare * 100, 1))+ '%', 'green')+'.')"
   ]
  },
  {
   "cell_type": "markdown",
   "metadata": {},
   "source": [
    "> RMSE for Linear Regression is **27.4%** and R2 - **83.6%** (*on 150k record sample*)."
   ]
  },
  {
   "cell_type": "code",
   "execution_count": null,
   "metadata": {
    "ExecuteTime": {
     "end_time": "2018-09-13T15:33:19.409935Z",
     "start_time": "2018-09-13T06:13:32.239Z"
    }
   },
   "outputs": [],
   "source": [
    "#RandomForest\n",
    "params_randomForest = dict(n_estimators=[150, 175, 200, 225],                               #[5, 10, 15, 20, 50, 100, 150],\n",
    "                        criterion=['mse'],\n",
    "                        max_depth=[35, 50, 55, 60, 65],                                       #[3, 5, 10, 15, 35, 50, 75],\n",
    "                        min_samples_leaf=[1, 2, 3, 5, 10],                                 #[2, 5, 10, 50, 100, 500, 1000],\n",
    "                        random_state=[42])\n",
    "\n",
    "grid_RandomForest_fare = GridSearchCV(RandomForestRegressor(), param_grid=params_randomForest, scoring='neg_mean_squared_error')\n",
    "grid_RandomForest_fare.fit(scaled_features_fare, target_fare_log);"
   ]
  },
  {
   "cell_type": "code",
   "execution_count": null,
   "metadata": {
    "ExecuteTime": {
     "end_time": "2018-09-13T15:33:19.410872Z",
     "start_time": "2018-09-13T06:13:32.241Z"
    }
   },
   "outputs": [],
   "source": [
    "# examine the best model\n",
    "print('Best RMSE score for RandomForest cross validation is', colored(str(round(np.sqrt(abs(grid_RandomForest_fare.best_score_)) * 100, 1))+'%', 'green')+ '.')\n",
    "print('Best parameters for RandomForest validation are:\\n\\t', colored(str(grid_RandomForest_fare.best_params_), 'green'))\n",
    "print('Best estimators for RandomForest validation are the following:\\n\\t', colored(str(grid_RandomForest_fare.best_estimator_), 'green'))"
   ]
  },
  {
   "cell_type": "markdown",
   "metadata": {},
   "source": [
    "**Best RMSE score for RandomForest** cross validation is **35.6%** (*on 150k record sample*).    \n",
    "**Best parameters for RandomForest** cross validation are: **{'criterion': 'mse', 'max_depth': 50, 'min_samples_leaf': 2, 'n_estimators': 200}**  \n",
    "**Best estimators for RandomForest** cross validation are the following: RandomForestRegressor(bootstrap=True, criterion='mse', max_depth=50,\n",
    "                                                                           max_features='auto', max_leaf_nodes=None,\n",
    "                                                                           min_impurity_decrease=0.0, min_impurity_split=None,\n",
    "                                                                           min_samples_leaf=2, min_samples_split=2,\n",
    "                                                                           min_weight_fraction_leaf=0.0, n_estimators=200, n_jobs=1,\n",
    "                                                                           oob_score=False, random_state=42, verbose=0, warm_start=False)"
   ]
  },
  {
   "cell_type": "code",
   "execution_count": 510,
   "metadata": {
    "ExecuteTime": {
     "end_time": "2018-09-14T17:51:44.193066Z",
     "start_time": "2018-09-14T15:56:07.181527Z"
    }
   },
   "outputs": [
    {
     "ename": "KeyboardInterrupt",
     "evalue": "",
     "output_type": "error",
     "traceback": [
      "\u001b[0;31m---------------------------------------------------------------------------\u001b[0m",
      "\u001b[0;31mKeyboardInterrupt\u001b[0m                         Traceback (most recent call last)",
      "\u001b[0;32m<ipython-input-510-8bf7be87f899>\u001b[0m in \u001b[0;36m<module>\u001b[0;34m()\u001b[0m\n\u001b[1;32m      9\u001b[0m \u001b[0;34m\u001b[0m\u001b[0m\n\u001b[1;32m     10\u001b[0m \u001b[0mgrid_XGBoost_fare\u001b[0m \u001b[0;34m=\u001b[0m \u001b[0mGridSearchCV\u001b[0m\u001b[0;34m(\u001b[0m\u001b[0mGradientBoostingRegressor\u001b[0m\u001b[0;34m(\u001b[0m\u001b[0;34m)\u001b[0m\u001b[0;34m,\u001b[0m \u001b[0mparam_grid\u001b[0m\u001b[0;34m=\u001b[0m\u001b[0mparams_XGBoost\u001b[0m\u001b[0;34m,\u001b[0m \u001b[0mscoring\u001b[0m\u001b[0;34m=\u001b[0m\u001b[0;34m'r2'\u001b[0m\u001b[0;34m)\u001b[0m\u001b[0;34m\u001b[0m\u001b[0m\n\u001b[0;32m---> 11\u001b[0;31m \u001b[0mgrid_XGBoost_fare\u001b[0m\u001b[0;34m.\u001b[0m\u001b[0mfit\u001b[0m\u001b[0;34m(\u001b[0m\u001b[0mscaled_features_fare\u001b[0m\u001b[0;34m,\u001b[0m \u001b[0mtarget_fare_log\u001b[0m\u001b[0;34m)\u001b[0m\u001b[0;34m;\u001b[0m\u001b[0;34m\u001b[0m\u001b[0m\n\u001b[0m",
      "\u001b[0;32m/anaconda3/lib/python3.6/site-packages/sklearn/model_selection/_search.py\u001b[0m in \u001b[0;36mfit\u001b[0;34m(self, X, y, groups, **fit_params)\u001b[0m\n\u001b[1;32m    637\u001b[0m                                   error_score=self.error_score)\n\u001b[1;32m    638\u001b[0m           for parameters, (train, test) in product(candidate_params,\n\u001b[0;32m--> 639\u001b[0;31m                                                    cv.split(X, y, groups)))\n\u001b[0m\u001b[1;32m    640\u001b[0m \u001b[0;34m\u001b[0m\u001b[0m\n\u001b[1;32m    641\u001b[0m         \u001b[0;31m# if one choose to see train score, \"out\" will contain train score info\u001b[0m\u001b[0;34m\u001b[0m\u001b[0;34m\u001b[0m\u001b[0m\n",
      "\u001b[0;32m/anaconda3/lib/python3.6/site-packages/sklearn/externals/joblib/parallel.py\u001b[0m in \u001b[0;36m__call__\u001b[0;34m(self, iterable)\u001b[0m\n\u001b[1;32m    777\u001b[0m             \u001b[0;31m# was dispatched. In particular this covers the edge\u001b[0m\u001b[0;34m\u001b[0m\u001b[0;34m\u001b[0m\u001b[0m\n\u001b[1;32m    778\u001b[0m             \u001b[0;31m# case of Parallel used with an exhausted iterator.\u001b[0m\u001b[0;34m\u001b[0m\u001b[0;34m\u001b[0m\u001b[0m\n\u001b[0;32m--> 779\u001b[0;31m             \u001b[0;32mwhile\u001b[0m \u001b[0mself\u001b[0m\u001b[0;34m.\u001b[0m\u001b[0mdispatch_one_batch\u001b[0m\u001b[0;34m(\u001b[0m\u001b[0miterator\u001b[0m\u001b[0;34m)\u001b[0m\u001b[0;34m:\u001b[0m\u001b[0;34m\u001b[0m\u001b[0m\n\u001b[0m\u001b[1;32m    780\u001b[0m                 \u001b[0mself\u001b[0m\u001b[0;34m.\u001b[0m\u001b[0m_iterating\u001b[0m \u001b[0;34m=\u001b[0m \u001b[0;32mTrue\u001b[0m\u001b[0;34m\u001b[0m\u001b[0m\n\u001b[1;32m    781\u001b[0m             \u001b[0;32melse\u001b[0m\u001b[0;34m:\u001b[0m\u001b[0;34m\u001b[0m\u001b[0m\n",
      "\u001b[0;32m/anaconda3/lib/python3.6/site-packages/sklearn/externals/joblib/parallel.py\u001b[0m in \u001b[0;36mdispatch_one_batch\u001b[0;34m(self, iterator)\u001b[0m\n\u001b[1;32m    623\u001b[0m                 \u001b[0;32mreturn\u001b[0m \u001b[0;32mFalse\u001b[0m\u001b[0;34m\u001b[0m\u001b[0m\n\u001b[1;32m    624\u001b[0m             \u001b[0;32melse\u001b[0m\u001b[0;34m:\u001b[0m\u001b[0;34m\u001b[0m\u001b[0m\n\u001b[0;32m--> 625\u001b[0;31m                 \u001b[0mself\u001b[0m\u001b[0;34m.\u001b[0m\u001b[0m_dispatch\u001b[0m\u001b[0;34m(\u001b[0m\u001b[0mtasks\u001b[0m\u001b[0;34m)\u001b[0m\u001b[0;34m\u001b[0m\u001b[0m\n\u001b[0m\u001b[1;32m    626\u001b[0m                 \u001b[0;32mreturn\u001b[0m \u001b[0;32mTrue\u001b[0m\u001b[0;34m\u001b[0m\u001b[0m\n\u001b[1;32m    627\u001b[0m \u001b[0;34m\u001b[0m\u001b[0m\n",
      "\u001b[0;32m/anaconda3/lib/python3.6/site-packages/sklearn/externals/joblib/parallel.py\u001b[0m in \u001b[0;36m_dispatch\u001b[0;34m(self, batch)\u001b[0m\n\u001b[1;32m    586\u001b[0m         \u001b[0mdispatch_timestamp\u001b[0m \u001b[0;34m=\u001b[0m \u001b[0mtime\u001b[0m\u001b[0;34m.\u001b[0m\u001b[0mtime\u001b[0m\u001b[0;34m(\u001b[0m\u001b[0;34m)\u001b[0m\u001b[0;34m\u001b[0m\u001b[0m\n\u001b[1;32m    587\u001b[0m         \u001b[0mcb\u001b[0m \u001b[0;34m=\u001b[0m \u001b[0mBatchCompletionCallBack\u001b[0m\u001b[0;34m(\u001b[0m\u001b[0mdispatch_timestamp\u001b[0m\u001b[0;34m,\u001b[0m \u001b[0mlen\u001b[0m\u001b[0;34m(\u001b[0m\u001b[0mbatch\u001b[0m\u001b[0;34m)\u001b[0m\u001b[0;34m,\u001b[0m \u001b[0mself\u001b[0m\u001b[0;34m)\u001b[0m\u001b[0;34m\u001b[0m\u001b[0m\n\u001b[0;32m--> 588\u001b[0;31m         \u001b[0mjob\u001b[0m \u001b[0;34m=\u001b[0m \u001b[0mself\u001b[0m\u001b[0;34m.\u001b[0m\u001b[0m_backend\u001b[0m\u001b[0;34m.\u001b[0m\u001b[0mapply_async\u001b[0m\u001b[0;34m(\u001b[0m\u001b[0mbatch\u001b[0m\u001b[0;34m,\u001b[0m \u001b[0mcallback\u001b[0m\u001b[0;34m=\u001b[0m\u001b[0mcb\u001b[0m\u001b[0;34m)\u001b[0m\u001b[0;34m\u001b[0m\u001b[0m\n\u001b[0m\u001b[1;32m    589\u001b[0m         \u001b[0mself\u001b[0m\u001b[0;34m.\u001b[0m\u001b[0m_jobs\u001b[0m\u001b[0;34m.\u001b[0m\u001b[0mappend\u001b[0m\u001b[0;34m(\u001b[0m\u001b[0mjob\u001b[0m\u001b[0;34m)\u001b[0m\u001b[0;34m\u001b[0m\u001b[0m\n\u001b[1;32m    590\u001b[0m \u001b[0;34m\u001b[0m\u001b[0m\n",
      "\u001b[0;32m/anaconda3/lib/python3.6/site-packages/sklearn/externals/joblib/_parallel_backends.py\u001b[0m in \u001b[0;36mapply_async\u001b[0;34m(self, func, callback)\u001b[0m\n\u001b[1;32m    109\u001b[0m     \u001b[0;32mdef\u001b[0m \u001b[0mapply_async\u001b[0m\u001b[0;34m(\u001b[0m\u001b[0mself\u001b[0m\u001b[0;34m,\u001b[0m \u001b[0mfunc\u001b[0m\u001b[0;34m,\u001b[0m \u001b[0mcallback\u001b[0m\u001b[0;34m=\u001b[0m\u001b[0;32mNone\u001b[0m\u001b[0;34m)\u001b[0m\u001b[0;34m:\u001b[0m\u001b[0;34m\u001b[0m\u001b[0m\n\u001b[1;32m    110\u001b[0m         \u001b[0;34m\"\"\"Schedule a func to be run\"\"\"\u001b[0m\u001b[0;34m\u001b[0m\u001b[0m\n\u001b[0;32m--> 111\u001b[0;31m         \u001b[0mresult\u001b[0m \u001b[0;34m=\u001b[0m \u001b[0mImmediateResult\u001b[0m\u001b[0;34m(\u001b[0m\u001b[0mfunc\u001b[0m\u001b[0;34m)\u001b[0m\u001b[0;34m\u001b[0m\u001b[0m\n\u001b[0m\u001b[1;32m    112\u001b[0m         \u001b[0;32mif\u001b[0m \u001b[0mcallback\u001b[0m\u001b[0;34m:\u001b[0m\u001b[0;34m\u001b[0m\u001b[0m\n\u001b[1;32m    113\u001b[0m             \u001b[0mcallback\u001b[0m\u001b[0;34m(\u001b[0m\u001b[0mresult\u001b[0m\u001b[0;34m)\u001b[0m\u001b[0;34m\u001b[0m\u001b[0m\n",
      "\u001b[0;32m/anaconda3/lib/python3.6/site-packages/sklearn/externals/joblib/_parallel_backends.py\u001b[0m in \u001b[0;36m__init__\u001b[0;34m(self, batch)\u001b[0m\n\u001b[1;32m    330\u001b[0m         \u001b[0;31m# Don't delay the application, to avoid keeping the input\u001b[0m\u001b[0;34m\u001b[0m\u001b[0;34m\u001b[0m\u001b[0m\n\u001b[1;32m    331\u001b[0m         \u001b[0;31m# arguments in memory\u001b[0m\u001b[0;34m\u001b[0m\u001b[0;34m\u001b[0m\u001b[0m\n\u001b[0;32m--> 332\u001b[0;31m         \u001b[0mself\u001b[0m\u001b[0;34m.\u001b[0m\u001b[0mresults\u001b[0m \u001b[0;34m=\u001b[0m \u001b[0mbatch\u001b[0m\u001b[0;34m(\u001b[0m\u001b[0;34m)\u001b[0m\u001b[0;34m\u001b[0m\u001b[0m\n\u001b[0m\u001b[1;32m    333\u001b[0m \u001b[0;34m\u001b[0m\u001b[0m\n\u001b[1;32m    334\u001b[0m     \u001b[0;32mdef\u001b[0m \u001b[0mget\u001b[0m\u001b[0;34m(\u001b[0m\u001b[0mself\u001b[0m\u001b[0;34m)\u001b[0m\u001b[0;34m:\u001b[0m\u001b[0;34m\u001b[0m\u001b[0m\n",
      "\u001b[0;32m/anaconda3/lib/python3.6/site-packages/sklearn/externals/joblib/parallel.py\u001b[0m in \u001b[0;36m__call__\u001b[0;34m(self)\u001b[0m\n\u001b[1;32m    129\u001b[0m \u001b[0;34m\u001b[0m\u001b[0m\n\u001b[1;32m    130\u001b[0m     \u001b[0;32mdef\u001b[0m \u001b[0m__call__\u001b[0m\u001b[0;34m(\u001b[0m\u001b[0mself\u001b[0m\u001b[0;34m)\u001b[0m\u001b[0;34m:\u001b[0m\u001b[0;34m\u001b[0m\u001b[0m\n\u001b[0;32m--> 131\u001b[0;31m         \u001b[0;32mreturn\u001b[0m \u001b[0;34m[\u001b[0m\u001b[0mfunc\u001b[0m\u001b[0;34m(\u001b[0m\u001b[0;34m*\u001b[0m\u001b[0margs\u001b[0m\u001b[0;34m,\u001b[0m \u001b[0;34m**\u001b[0m\u001b[0mkwargs\u001b[0m\u001b[0;34m)\u001b[0m \u001b[0;32mfor\u001b[0m \u001b[0mfunc\u001b[0m\u001b[0;34m,\u001b[0m \u001b[0margs\u001b[0m\u001b[0;34m,\u001b[0m \u001b[0mkwargs\u001b[0m \u001b[0;32min\u001b[0m \u001b[0mself\u001b[0m\u001b[0;34m.\u001b[0m\u001b[0mitems\u001b[0m\u001b[0;34m]\u001b[0m\u001b[0;34m\u001b[0m\u001b[0m\n\u001b[0m\u001b[1;32m    132\u001b[0m \u001b[0;34m\u001b[0m\u001b[0m\n\u001b[1;32m    133\u001b[0m     \u001b[0;32mdef\u001b[0m \u001b[0m__len__\u001b[0m\u001b[0;34m(\u001b[0m\u001b[0mself\u001b[0m\u001b[0;34m)\u001b[0m\u001b[0;34m:\u001b[0m\u001b[0;34m\u001b[0m\u001b[0m\n",
      "\u001b[0;32m/anaconda3/lib/python3.6/site-packages/sklearn/externals/joblib/parallel.py\u001b[0m in \u001b[0;36m<listcomp>\u001b[0;34m(.0)\u001b[0m\n\u001b[1;32m    129\u001b[0m \u001b[0;34m\u001b[0m\u001b[0m\n\u001b[1;32m    130\u001b[0m     \u001b[0;32mdef\u001b[0m \u001b[0m__call__\u001b[0m\u001b[0;34m(\u001b[0m\u001b[0mself\u001b[0m\u001b[0;34m)\u001b[0m\u001b[0;34m:\u001b[0m\u001b[0;34m\u001b[0m\u001b[0m\n\u001b[0;32m--> 131\u001b[0;31m         \u001b[0;32mreturn\u001b[0m \u001b[0;34m[\u001b[0m\u001b[0mfunc\u001b[0m\u001b[0;34m(\u001b[0m\u001b[0;34m*\u001b[0m\u001b[0margs\u001b[0m\u001b[0;34m,\u001b[0m \u001b[0;34m**\u001b[0m\u001b[0mkwargs\u001b[0m\u001b[0;34m)\u001b[0m \u001b[0;32mfor\u001b[0m \u001b[0mfunc\u001b[0m\u001b[0;34m,\u001b[0m \u001b[0margs\u001b[0m\u001b[0;34m,\u001b[0m \u001b[0mkwargs\u001b[0m \u001b[0;32min\u001b[0m \u001b[0mself\u001b[0m\u001b[0;34m.\u001b[0m\u001b[0mitems\u001b[0m\u001b[0;34m]\u001b[0m\u001b[0;34m\u001b[0m\u001b[0m\n\u001b[0m\u001b[1;32m    132\u001b[0m \u001b[0;34m\u001b[0m\u001b[0m\n\u001b[1;32m    133\u001b[0m     \u001b[0;32mdef\u001b[0m \u001b[0m__len__\u001b[0m\u001b[0;34m(\u001b[0m\u001b[0mself\u001b[0m\u001b[0;34m)\u001b[0m\u001b[0;34m:\u001b[0m\u001b[0;34m\u001b[0m\u001b[0m\n",
      "\u001b[0;32m/anaconda3/lib/python3.6/site-packages/sklearn/model_selection/_validation.py\u001b[0m in \u001b[0;36m_fit_and_score\u001b[0;34m(estimator, X, y, scorer, train, test, verbose, parameters, fit_params, return_train_score, return_parameters, return_n_test_samples, return_times, error_score)\u001b[0m\n\u001b[1;32m    456\u001b[0m             \u001b[0mestimator\u001b[0m\u001b[0;34m.\u001b[0m\u001b[0mfit\u001b[0m\u001b[0;34m(\u001b[0m\u001b[0mX_train\u001b[0m\u001b[0;34m,\u001b[0m \u001b[0;34m**\u001b[0m\u001b[0mfit_params\u001b[0m\u001b[0;34m)\u001b[0m\u001b[0;34m\u001b[0m\u001b[0m\n\u001b[1;32m    457\u001b[0m         \u001b[0;32melse\u001b[0m\u001b[0;34m:\u001b[0m\u001b[0;34m\u001b[0m\u001b[0m\n\u001b[0;32m--> 458\u001b[0;31m             \u001b[0mestimator\u001b[0m\u001b[0;34m.\u001b[0m\u001b[0mfit\u001b[0m\u001b[0;34m(\u001b[0m\u001b[0mX_train\u001b[0m\u001b[0;34m,\u001b[0m \u001b[0my_train\u001b[0m\u001b[0;34m,\u001b[0m \u001b[0;34m**\u001b[0m\u001b[0mfit_params\u001b[0m\u001b[0;34m)\u001b[0m\u001b[0;34m\u001b[0m\u001b[0m\n\u001b[0m\u001b[1;32m    459\u001b[0m \u001b[0;34m\u001b[0m\u001b[0m\n\u001b[1;32m    460\u001b[0m     \u001b[0;32mexcept\u001b[0m \u001b[0mException\u001b[0m \u001b[0;32mas\u001b[0m \u001b[0me\u001b[0m\u001b[0;34m:\u001b[0m\u001b[0;34m\u001b[0m\u001b[0m\n",
      "\u001b[0;32m/anaconda3/lib/python3.6/site-packages/sklearn/ensemble/gradient_boosting.py\u001b[0m in \u001b[0;36mfit\u001b[0;34m(self, X, y, sample_weight, monitor)\u001b[0m\n\u001b[1;32m   1032\u001b[0m         \u001b[0;31m# fit the boosting stages\u001b[0m\u001b[0;34m\u001b[0m\u001b[0;34m\u001b[0m\u001b[0m\n\u001b[1;32m   1033\u001b[0m         n_stages = self._fit_stages(X, y, y_pred, sample_weight, random_state,\n\u001b[0;32m-> 1034\u001b[0;31m                                     begin_at_stage, monitor, X_idx_sorted)\n\u001b[0m\u001b[1;32m   1035\u001b[0m         \u001b[0;31m# change shape of arrays after fit (early-stopping or additional ests)\u001b[0m\u001b[0;34m\u001b[0m\u001b[0;34m\u001b[0m\u001b[0m\n\u001b[1;32m   1036\u001b[0m         \u001b[0;32mif\u001b[0m \u001b[0mn_stages\u001b[0m \u001b[0;34m!=\u001b[0m \u001b[0mself\u001b[0m\u001b[0;34m.\u001b[0m\u001b[0mestimators_\u001b[0m\u001b[0;34m.\u001b[0m\u001b[0mshape\u001b[0m\u001b[0;34m[\u001b[0m\u001b[0;36m0\u001b[0m\u001b[0;34m]\u001b[0m\u001b[0;34m:\u001b[0m\u001b[0;34m\u001b[0m\u001b[0m\n",
      "\u001b[0;32m/anaconda3/lib/python3.6/site-packages/sklearn/ensemble/gradient_boosting.py\u001b[0m in \u001b[0;36m_fit_stages\u001b[0;34m(self, X, y, y_pred, sample_weight, random_state, begin_at_stage, monitor, X_idx_sorted)\u001b[0m\n\u001b[1;32m   1087\u001b[0m             y_pred = self._fit_stage(i, X, y, y_pred, sample_weight,\n\u001b[1;32m   1088\u001b[0m                                      \u001b[0msample_mask\u001b[0m\u001b[0;34m,\u001b[0m \u001b[0mrandom_state\u001b[0m\u001b[0;34m,\u001b[0m \u001b[0mX_idx_sorted\u001b[0m\u001b[0;34m,\u001b[0m\u001b[0;34m\u001b[0m\u001b[0m\n\u001b[0;32m-> 1089\u001b[0;31m                                      X_csc, X_csr)\n\u001b[0m\u001b[1;32m   1090\u001b[0m \u001b[0;34m\u001b[0m\u001b[0m\n\u001b[1;32m   1091\u001b[0m             \u001b[0;31m# track deviance (= loss)\u001b[0m\u001b[0;34m\u001b[0m\u001b[0;34m\u001b[0m\u001b[0m\n",
      "\u001b[0;32m/anaconda3/lib/python3.6/site-packages/sklearn/ensemble/gradient_boosting.py\u001b[0m in \u001b[0;36m_fit_stage\u001b[0;34m(self, i, X, y, y_pred, sample_weight, sample_mask, random_state, X_idx_sorted, X_csc, X_csr)\u001b[0m\n\u001b[1;32m    786\u001b[0m             \u001b[0;32melse\u001b[0m\u001b[0;34m:\u001b[0m\u001b[0;34m\u001b[0m\u001b[0m\n\u001b[1;32m    787\u001b[0m                 tree.fit(X, residual, sample_weight=sample_weight,\n\u001b[0;32m--> 788\u001b[0;31m                          check_input=False, X_idx_sorted=X_idx_sorted)\n\u001b[0m\u001b[1;32m    789\u001b[0m \u001b[0;34m\u001b[0m\u001b[0m\n\u001b[1;32m    790\u001b[0m             \u001b[0;31m# update tree leaves\u001b[0m\u001b[0;34m\u001b[0m\u001b[0;34m\u001b[0m\u001b[0m\n",
      "\u001b[0;32m/anaconda3/lib/python3.6/site-packages/sklearn/tree/tree.py\u001b[0m in \u001b[0;36mfit\u001b[0;34m(self, X, y, sample_weight, check_input, X_idx_sorted)\u001b[0m\n\u001b[1;32m   1122\u001b[0m             \u001b[0msample_weight\u001b[0m\u001b[0;34m=\u001b[0m\u001b[0msample_weight\u001b[0m\u001b[0;34m,\u001b[0m\u001b[0;34m\u001b[0m\u001b[0m\n\u001b[1;32m   1123\u001b[0m             \u001b[0mcheck_input\u001b[0m\u001b[0;34m=\u001b[0m\u001b[0mcheck_input\u001b[0m\u001b[0;34m,\u001b[0m\u001b[0;34m\u001b[0m\u001b[0m\n\u001b[0;32m-> 1124\u001b[0;31m             X_idx_sorted=X_idx_sorted)\n\u001b[0m\u001b[1;32m   1125\u001b[0m         \u001b[0;32mreturn\u001b[0m \u001b[0mself\u001b[0m\u001b[0;34m\u001b[0m\u001b[0m\n\u001b[1;32m   1126\u001b[0m \u001b[0;34m\u001b[0m\u001b[0m\n",
      "\u001b[0;32m/anaconda3/lib/python3.6/site-packages/sklearn/tree/tree.py\u001b[0m in \u001b[0;36mfit\u001b[0;34m(self, X, y, sample_weight, check_input, X_idx_sorted)\u001b[0m\n\u001b[1;32m    360\u001b[0m                                            min_impurity_split)\n\u001b[1;32m    361\u001b[0m \u001b[0;34m\u001b[0m\u001b[0m\n\u001b[0;32m--> 362\u001b[0;31m         \u001b[0mbuilder\u001b[0m\u001b[0;34m.\u001b[0m\u001b[0mbuild\u001b[0m\u001b[0;34m(\u001b[0m\u001b[0mself\u001b[0m\u001b[0;34m.\u001b[0m\u001b[0mtree_\u001b[0m\u001b[0;34m,\u001b[0m \u001b[0mX\u001b[0m\u001b[0;34m,\u001b[0m \u001b[0my\u001b[0m\u001b[0;34m,\u001b[0m \u001b[0msample_weight\u001b[0m\u001b[0;34m,\u001b[0m \u001b[0mX_idx_sorted\u001b[0m\u001b[0;34m)\u001b[0m\u001b[0;34m\u001b[0m\u001b[0m\n\u001b[0m\u001b[1;32m    363\u001b[0m \u001b[0;34m\u001b[0m\u001b[0m\n\u001b[1;32m    364\u001b[0m         \u001b[0;32mif\u001b[0m \u001b[0mself\u001b[0m\u001b[0;34m.\u001b[0m\u001b[0mn_outputs_\u001b[0m \u001b[0;34m==\u001b[0m \u001b[0;36m1\u001b[0m\u001b[0;34m:\u001b[0m\u001b[0;34m\u001b[0m\u001b[0m\n",
      "\u001b[0;31mKeyboardInterrupt\u001b[0m: "
     ]
    }
   ],
   "source": [
    "#XGBoost\n",
    "params_XGBoost_fare = dict(loss=['ls', 'lad', 'huber'],\n",
    "                     learning_rate=[0.001, 1.0, 10.0],                                  #[0.001, 0.01, 0.1, 1.0, 10.0],\n",
    "                     n_estimators=[80, 160],                      #[5, 20, 50, 100, 150, 200, 250],\n",
    "                     criterion=['mse'],\n",
    "                     max_depth=[3, 7, 10],                                                   #[3, 5, 10, 15, 35, 50, 75],\n",
    "                     min_samples_leaf=[10, 50],                        #[2, 5, 10, 50, 100, 500, 1000],\n",
    "                     random_state=[42])\n",
    "\n",
    "grid_XGBoost_fare = GridSearchCV(GradientBoostingRegressor(), param_grid=params_XGBoost, scoring='r2')\n",
    "grid_XGBoost_fare.fit(scaled_features_fare, target_fare_log);"
   ]
  },
  {
   "cell_type": "code",
   "execution_count": null,
   "metadata": {
    "ExecuteTime": {
     "end_time": "2018-09-14T17:51:44.206690Z",
     "start_time": "2018-09-14T15:56:07.824Z"
    }
   },
   "outputs": [],
   "source": [
    "# examine the best model\n",
    "print('Best R-squared score for XGBoost cross validation is', colored(str(round(np.sqrt(abs(grid_XGBoost_fare.best_score_)), 3)), 'green')+ '.')\n",
    "print('Best parameters for XGBoost validation are:\\n\\t', colored(str(grid_XGBoost_fare.best_params_), 'green'))\n",
    "print('Best estimators for XGBoost validation are the following:\\n\\t', colored(str(grid_XGBoost_fare.best_estimator_), 'green'))"
   ]
  },
  {
   "cell_type": "code",
   "execution_count": null,
   "metadata": {},
   "outputs": [],
   "source": []
  },
  {
   "cell_type": "code",
   "execution_count": null,
   "metadata": {},
   "outputs": [],
   "source": []
  },
  {
   "cell_type": "code",
   "execution_count": null,
   "metadata": {
    "ExecuteTime": {
     "end_time": "2018-09-12T22:30:59.780301Z",
     "start_time": "2018-09-12T22:28:39.647Z"
    }
   },
   "outputs": [],
   "source": [
    "# model_list_fare = [LinearRegression(),\n",
    "#               Ridge(alpha=10.0, max_iter=10),\n",
    "#               Lasso(alpha=1e-05, max_iter=100),\n",
    "#               RandomForestRegressor(n_estimators=200, max_depth=50, min_samples_leaf=2, random_state=42),\n",
    "#               GradientBoostingRegressor(, random_state=42)]\n",
    "\n",
    "# model_names_fare = ['LinearRegression_fare', 'RandomForest_fare', 'XGBoost_fare']"
   ]
  },
  {
   "cell_type": "code",
   "execution_count": null,
   "metadata": {
    "ExecuteTime": {
     "end_time": "2018-09-12T22:30:59.781823Z",
     "start_time": "2018-09-12T22:28:39.649Z"
    }
   },
   "outputs": [],
   "source": [
    "# model_RMSEs  = []\n",
    "# model_R2s = []\n",
    "# all_models = {}\n",
    "\n",
    "# for i in range(len(model_list)):\n",
    "#     try_model = model_list[i]\n",
    "#     try_model.fit(scaled_features, target_duration)\n",
    "#     all_models[model_names[i]] = try_model\n",
    "#     model_RMSE = np.sqrt(abs(cross_val_score(try_model, scaled_features, target_duration, cv=10,\n",
    "#                                 scoring='neg_mean_squared_error')))\n",
    "#     model_R2 = cross_val_score(try_model, scaled_features, target_duration, cv=10,\n",
    "#                                 scoring='r2')\n",
    "#     model_RMSEs.append((model_names[i], round(np.mean(model_RMSE), 3)))\n",
    "#     model_R2s.append((model_names[i], round(np.mean(model_AdjR2), 3)))\n",
    "    \n",
    "# print('RMSE scores: ' + colored(str(sorted(model_RMSEs, key=lambda x: x[1], reverse=True)), 'green'))\n",
    "# print('R2 scores: '+ colored(str(sorted(model_R2s, key=lambda x: x[1], reverse=True)), 'green'))"
   ]
  },
  {
   "cell_type": "code",
   "execution_count": null,
   "metadata": {},
   "outputs": [],
   "source": []
  },
  {
   "cell_type": "markdown",
   "metadata": {},
   "source": [
    "### Learning curve"
   ]
  },
  {
   "cell_type": "code",
   "execution_count": null,
   "metadata": {
    "ExecuteTime": {
     "end_time": "2018-09-12T22:30:59.783257Z",
     "start_time": "2018-09-12T22:28:39.653Z"
    }
   },
   "outputs": [],
   "source": [
    "# plt.figure(figsize=(10, 5))\n",
    "\n",
    "# # mse_scores = cross_val_score(MY_MODEL, features, target_duration_log, cv=5, scoring='neg_mean_squared_error')\n",
    "# # rmse_scores = [np.sqrt(abs(mse for mse in mse_scores))]\n",
    "# # mean_rmse_score = np.mean(rmse_scores)\n",
    "\n",
    "# train_sizes, train_scores, test_scores = learning_curve(MY_MODEL, features, target_duration_log, cv=5)\n",
    "# avg_train_scores = train_scores.mean(axis=1)\n",
    "# avg_test_scores = test_scores.mean(axis=1)\n",
    "\n",
    "# learn_df = pd.DataFrame({\n",
    "#     'train_size': train_sizes,\n",
    "#     'train_score': avg_train_scores,\n",
    "#     'test_score': avg_test_scores\n",
    "# })\n",
    "# print(learn_df, '\\n')\n",
    "\n",
    "# plt.plot(learn_df['train_size'], learn_df['train_score'], 'r--o', label='train scores')\n",
    "# plt.plot(learn_df['train_size'], learn_df['test_score'], 'b--x', label='test scores')\n",
    "# plt.title('Learning Curve')\n",
    "# plt.xlabel('No. of data points')\n",
    "# plt.ylabel('Score')\n",
    "# plt.legend(loc='lower right')\n",
    "# plt.ylim(-1,1);"
   ]
  },
  {
   "cell_type": "code",
   "execution_count": null,
   "metadata": {},
   "outputs": [],
   "source": []
  },
  {
   "cell_type": "code",
   "execution_count": null,
   "metadata": {},
   "outputs": [],
   "source": []
  },
  {
   "cell_type": "markdown",
   "metadata": {},
   "source": [
    "### Pipeline"
   ]
  },
  {
   "cell_type": "code",
   "execution_count": 338,
   "metadata": {
    "ExecuteTime": {
     "end_time": "2018-09-14T05:46:01.567095Z",
     "start_time": "2018-09-14T05:46:01.564383Z"
    }
   },
   "outputs": [],
   "source": [
    "test_ride = {'origin': '401 N Wabash Ave, Chicago', 'destination': '1033 West Van Buren Street, Chicago', 'when': 'now'}"
   ]
  },
  {
   "cell_type": "code",
   "execution_count": 404,
   "metadata": {
    "ExecuteTime": {
     "end_time": "2018-09-14T06:54:45.455632Z",
     "start_time": "2018-09-14T06:54:45.447852Z"
    }
   },
   "outputs": [],
   "source": [
    "def time_is_money(origin, destination, when):\n",
    "    \"\"\"This functions takes origin and destination addresses (in Chicago) and a date and time.\n",
    "    Returns an ETA prediction and fare estimate.\"\"\"\n",
    "    #Get or just format the datetime\n",
    "    if when == 'now':\n",
    "        desired_time = get_now()\n",
    "    else:\n",
    "        desired_time = dt.datetime(when)\n",
    "    \n",
    "    time_week_ago = desired_time - dt.timedelta(days=7, minutes=15)\n",
    "        \n",
    "    #GET LAT/LONGS FOR FOR ORIGIN AND DESTINATION ADDRESSES\n",
    "    origin_lat = get_latitude(origin)\n",
    "    origin_long = get_longitude(origin)\n",
    "    destination_lat = get_latitude(destination)\n",
    "    destination_long = get_longitude(destination)\n",
    "    \n",
    "    #Get weather conditions\n",
    "    weather_today = get_weather(desired_time)\n",
    "\n",
    "    #Get the demand for the last 1h 45min, same time yesterday and same time 7 days ago\n",
    "    demand_last_week_diffed = get_diffed_demand(get_demand(time_week_ago, desired_time))\n",
    "    \n",
    "    #Pull in trained linear regression model to predict current demand\n",
    "    with open('LinearRegression_demand.pkl', 'rb') as pickle_demand:\n",
    "        LinReg_demand = pickle.load(pickle_demand)\n",
    "    \n",
    "    #Predict demand growth / decline\n",
    "    predicted_demand_diff = list(LinReg_demand.predict(demand_last_week_diffed))\n",
    "    \n",
    "    #Design feature space\n",
    "    feature_space = taxi_weather_final.merge(demand, how='left', on='trip_start_timestamp')\n",
    "    weekday = desired_time.dt.weekday       #Not sure if this is needed, because weekday factor should be captured by the demand prediction\n",
    "    trip_miles = get_distance(origin, destination)\n",
    "    trip_log_miles = np.log(trip_miles)\n",
    "    \n",
    "    #SCALE and LOG THE FEATURES\n",
    "    features = [weekday, predicted_demand_diff, trip_log_miles, origin_lat, origin_long, destination_lat, destination_long, \n",
    "                    avg_daily_wind_speed, avg_temp_f, fog, rain, snow]\n",
    "    scaled_features = get_scaled_features(features)\n",
    "    \n",
    "    \n",
    "    #Pull in trained XGBoost models to predict personalized ETA and fare based on the locations and time\n",
    "    with open('XGBoost_ETA_predictor.pkl', 'rb') as pickle_ETA:\n",
    "        LinReg_ETA_predictor = pickle.load(pickle_ETA)    \n",
    "    with open('XGBoost_fare_predictor.pkl', 'rb') as pickle_fare:\n",
    "        LinReg_fare_predictor = pickle.load(pickle_fare)  \n",
    "        \n",
    "    #Predict the log duration, exponentiate to get seconds and convert to an ETA\n",
    "    seconds_log = LinReg_ETA_predictor.predict(scaled_features)\n",
    "    seconds = np.exp(ETA_log)\n",
    "    ETA = get_ETA(seconds, time)\n",
    "    \n",
    "    #Predict the log fare, exponentiate to get dollars\n",
    "    fare_log = LinReg_fare_predictor.predict(scaled_features)\n",
    "    fare = np.exp(fare_log)\n",
    "    \n",
    "    return {'ETA': ETA, 'Fare': fare}"
   ]
  },
  {
   "cell_type": "code",
   "execution_count": 492,
   "metadata": {
    "ExecuteTime": {
     "end_time": "2018-09-14T07:38:20.851514Z",
     "start_time": "2018-09-14T07:37:36.469738Z"
    }
   },
   "outputs": [
    {
     "data": {
      "text/html": [
       "<div>\n",
       "<style scoped>\n",
       "    .dataframe tbody tr th:only-of-type {\n",
       "        vertical-align: middle;\n",
       "    }\n",
       "\n",
       "    .dataframe tbody tr th {\n",
       "        vertical-align: top;\n",
       "    }\n",
       "\n",
       "    .dataframe thead th {\n",
       "        text-align: right;\n",
       "    }\n",
       "</style>\n",
       "<table border=\"1\" class=\"dataframe\">\n",
       "  <thead>\n",
       "    <tr style=\"text-align: right;\">\n",
       "      <th></th>\n",
       "      <th>demand_lag1</th>\n",
       "      <th>demand_lag2</th>\n",
       "      <th>demand_lag3</th>\n",
       "      <th>demand_lag4</th>\n",
       "      <th>demand_lag5</th>\n",
       "      <th>demand_lag6</th>\n",
       "      <th>demand_lag7</th>\n",
       "      <th>demand_lag96</th>\n",
       "      <th>demand_lag672</th>\n",
       "    </tr>\n",
       "    <tr>\n",
       "      <th>trip_start_timestamp</th>\n",
       "      <th></th>\n",
       "      <th></th>\n",
       "      <th></th>\n",
       "      <th></th>\n",
       "      <th></th>\n",
       "      <th></th>\n",
       "      <th></th>\n",
       "      <th></th>\n",
       "      <th></th>\n",
       "    </tr>\n",
       "  </thead>\n",
       "  <tbody>\n",
       "    <tr>\n",
       "      <th>2017-06-27 00:30:00</th>\n",
       "      <td>-16.0</td>\n",
       "      <td>-2.0</td>\n",
       "      <td>-19.0</td>\n",
       "      <td>-52.0</td>\n",
       "      <td>-50.0</td>\n",
       "      <td>19.0</td>\n",
       "      <td>-40.0</td>\n",
       "      <td>-12.0</td>\n",
       "      <td>-29.0</td>\n",
       "    </tr>\n",
       "  </tbody>\n",
       "</table>\n",
       "</div>"
      ],
      "text/plain": [
       "                      demand_lag1  demand_lag2  demand_lag3  demand_lag4  \\\n",
       "trip_start_timestamp                                                       \n",
       "2017-06-27 00:30:00         -16.0         -2.0        -19.0        -52.0   \n",
       "\n",
       "                      demand_lag5  demand_lag6  demand_lag7  demand_lag96  \\\n",
       "trip_start_timestamp                                                        \n",
       "2017-06-27 00:30:00         -50.0         19.0        -40.0         -12.0   \n",
       "\n",
       "                      demand_lag672  \n",
       "trip_start_timestamp                 \n",
       "2017-06-27 00:30:00           -29.0  "
      ]
     },
     "execution_count": 492,
     "metadata": {},
     "output_type": "execute_result"
    }
   ],
   "source": [
    "# time = get_now() - dt.timedelta(days=444)\n",
    "# time_week_ago = time - dt.timedelta(days=7, minutes=30)\n",
    "\n",
    "# query_demand = f\"\"\"SELECT trip_start_timestamp, COUNT(trip_start_timestamp) as interval_demand\n",
    "#                         FROM taxi_rides\n",
    "#                         WHERE trip_start_timestamp BETWEEN '{time_week_ago}' AND '{time}'\n",
    "#                         GROUP BY trip_start_timestamp\n",
    "#                         ORDER BY trip_start_timestamp\"\"\"\n",
    "# demand_last_week = pd.read_sql_query(query_demand, conn)\n",
    "# demand_last_week = demand_last_week.set_index(['trip_start_timestamp'])\n",
    "\n",
    "# #Prepare features for linear regression\n",
    "# demand_last_week_diff = get_diffed_demand(demand_last_week)\n",
    "\n",
    "# #Let's have a look\n",
    "# demand_last_week_diff"
   ]
  },
  {
   "cell_type": "code",
   "execution_count": null,
   "metadata": {},
   "outputs": [],
   "source": []
  },
  {
   "cell_type": "code",
   "execution_count": 485,
   "metadata": {
    "ExecuteTime": {
     "end_time": "2018-09-14T07:32:33.083611Z",
     "start_time": "2018-09-14T07:32:33.081181Z"
    }
   },
   "outputs": [],
   "source": [
    "# demand_last_week_diff"
   ]
  },
  {
   "cell_type": "code",
   "execution_count": 490,
   "metadata": {
    "ExecuteTime": {
     "end_time": "2018-09-14T07:35:23.655081Z",
     "start_time": "2018-09-14T07:35:23.651199Z"
    }
   },
   "outputs": [
    {
     "name": "stdout",
     "output_type": "stream",
     "text": [
      "[59.11731095]\n"
     ]
    }
   ],
   "source": [
    "#Let's predict demand difference (for the real scenario, the slicing shouldn't be needed, because the current demand wouldn't be known)\n",
    "# predicted_demand_diff = LinReg_demand.predict(demand_last_week_diff)\n",
    "# print(predicted_demand_diff)"
   ]
  },
  {
   "cell_type": "code",
   "execution_count": null,
   "metadata": {},
   "outputs": [],
   "source": []
  },
  {
   "cell_type": "code",
   "execution_count": null,
   "metadata": {},
   "outputs": [],
   "source": []
  },
  {
   "cell_type": "code",
   "execution_count": 365,
   "metadata": {
    "ExecuteTime": {
     "end_time": "2018-09-14T06:18:08.465579Z",
     "start_time": "2018-09-14T06:18:08.442475Z"
    }
   },
   "outputs": [],
   "source": [
    "# time = get_now() - dt.timedelta(days=380)\n",
    "\n",
    "# query_weather = f\"\"\"SELECT avg_daily_wind_speed, avg_temp_f, fog, rain, snow\n",
    "#                         FROM chicago_weather\n",
    "#                         WHERE date = CAST('{time}' AS DATE)\"\"\"\n",
    "# weather_today = pd.read_sql_query(query_weather, conn)"
   ]
  },
  {
   "cell_type": "code",
   "execution_count": 494,
   "metadata": {
    "ExecuteTime": {
     "end_time": "2018-09-14T07:47:20.768269Z",
     "start_time": "2018-09-14T07:47:20.759484Z"
    },
    "scrolled": true
   },
   "outputs": [
    {
     "data": {
      "text/html": [
       "<div>\n",
       "<style scoped>\n",
       "    .dataframe tbody tr th:only-of-type {\n",
       "        vertical-align: middle;\n",
       "    }\n",
       "\n",
       "    .dataframe tbody tr th {\n",
       "        vertical-align: top;\n",
       "    }\n",
       "\n",
       "    .dataframe thead th {\n",
       "        text-align: right;\n",
       "    }\n",
       "</style>\n",
       "<table border=\"1\" class=\"dataframe\">\n",
       "  <thead>\n",
       "    <tr style=\"text-align: right;\">\n",
       "      <th></th>\n",
       "      <th>avg_daily_wind_speed</th>\n",
       "      <th>avg_temp_f</th>\n",
       "      <th>fog</th>\n",
       "      <th>rain</th>\n",
       "      <th>snow</th>\n",
       "    </tr>\n",
       "  </thead>\n",
       "  <tbody>\n",
       "    <tr>\n",
       "      <th>0</th>\n",
       "      <td>5.37</td>\n",
       "      <td>68</td>\n",
       "      <td>1</td>\n",
       "      <td>0</td>\n",
       "      <td>0</td>\n",
       "    </tr>\n",
       "  </tbody>\n",
       "</table>\n",
       "</div>"
      ],
      "text/plain": [
       "   avg_daily_wind_speed  avg_temp_f  fog  rain  snow\n",
       "0                  5.37          68    1     0     0"
      ]
     },
     "execution_count": 494,
     "metadata": {},
     "output_type": "execute_result"
    }
   ],
   "source": [
    "# weather_today.fillna(value=0)"
   ]
  },
  {
   "cell_type": "markdown",
   "metadata": {},
   "source": [
    "## Finally! Mapping and visualizing :)"
   ]
  },
  {
   "cell_type": "code",
   "execution_count": 9,
   "metadata": {
    "ExecuteTime": {
     "end_time": "2018-09-12T16:54:54.513989Z",
     "start_time": "2018-09-12T16:54:54.511524Z"
    }
   },
   "outputs": [],
   "source": [
    "#Read in Chicago city community area shapefile\n",
    "# chicago_community_areas = gpd.read_file(\"./datasets/Chicago_Community_Areas/geo_export_4c20eda0-2d92-4a1d-8513-878eb3e095a3.shp\")"
   ]
  },
  {
   "cell_type": "code",
   "execution_count": 336,
   "metadata": {
    "ExecuteTime": {
     "end_time": "2018-09-15T00:54:36.201711Z",
     "start_time": "2018-09-15T00:54:36.182043Z"
    }
   },
   "outputs": [],
   "source": [
    "def get_latitude(address):\n",
    "    \"\"\"Takes an address string and converts it into a lat/long.\n",
    "    Returns longitude and longitude pair.\"\"\"\n",
    "    latitude = geocoder.osm(address).latlng[0]\n",
    "    return latitude\n",
    "\n",
    "def get_longitude(address):\n",
    "    \"\"\"Takes an address string and converts it into a lat/long.\n",
    "    Returns longitude and longitude pair.\"\"\"\n",
    "    longitude = geocoder.osm(address).latlng[1]\n",
    "    return longitude\n",
    "\n",
    "def get_geopoint(address):\n",
    "    \"\"\"Takes an address string and converts it into a geopoint.\n",
    "    Returns a geopoint.\"\"\"\n",
    "    geopoint = Point((get_longitude(address), get_latitude(address)))\n",
    "    return geopoint\n",
    "\n",
    "def get_distance(origin_address, destination_address):\n",
    "    \"\"\"Takes origin and destination addresses, converts them into geopoints and returns distance (in miles).\n",
    "    Returns distance float (in miles).\"\"\"\n",
    "    origin = (get_latitude(origin_address), get_longitude(origin_address))\n",
    "    destination = (get_latitude(destination_address), get_longitude(destination_address))\n",
    "    distance = gd.geodesic(origin, destination).miles\n",
    "    return distance\n",
    "    \n",
    "def get_now():\n",
    "    \"\"\"Returns current timestamp.\"\"\"\n",
    "    now = dt.datetime.now()\n",
    "    return now\n",
    "\n",
    "def get_demand(datetime_start, datetime_end):\n",
    "    \"\"\"Uses a date and time object as input.\n",
    "    Returns a dataframe with historic demand given the datetime\"\"\"\n",
    "    query_demand = f\"\"\"SELECT trip_start_timestamp, COUNT(trip_start_timestamp) as interval_demand\n",
    "                        FROM taxi_rides\n",
    "                        WHERE trip_start_timestamp BETWEEN '{datetime_start}' AND '{datetime_end}'\n",
    "                        GROUP BY trip_start_timestamp\n",
    "                        ORDER BY trip_start_timestamp\"\"\"\n",
    "    demand_last_week = pd.read_sql_query(query_demand, conn)\n",
    "    demand_last_week = demand_last_week.set_index(['trip_start_timestamp'])\n",
    "    return demand_last_week\n",
    "\n",
    "def get_hist_demand(demand_df):\n",
    "    \"\"\"Takes a demand dataframe with timestamp as index and interval demand column.\n",
    "    Returns a differenced dataframe with 9 columns with NaN values dropped.\"\"\"\n",
    "    diffed_demand = demand_df.diff()\n",
    "    diffed_demand = diffed_demand[1:]\n",
    "    \n",
    "    #Create lags\n",
    "    diffed_demand['demand_lag1'] = diffed_demand['interval_demand'].shift(1)\n",
    "    diffed_demand['demand_lag2'] = diffed_demand['interval_demand'].shift(2)\n",
    "    diffed_demand['demand_lag3'] = diffed_demand['interval_demand'].shift(3)\n",
    "    diffed_demand['demand_lag4'] = diffed_demand['interval_demand'].shift(4)\n",
    "    diffed_demand['demand_lag5'] = diffed_demand['interval_demand'].shift(5)\n",
    "    diffed_demand['demand_lag6'] = diffed_demand['interval_demand'].shift(6)\n",
    "    diffed_demand['demand_lag7'] = diffed_demand['interval_demand'].shift(7)\n",
    "    diffed_demand['demand_lag96'] = diffed_demand['interval_demand'].shift(96)\n",
    "    diffed_demand['demand_lag672'] = diffed_demand['interval_demand'].shift(672)\n",
    "    \n",
    "    #Drop rows with NaN values\n",
    "    diffed_demand = diffed_demand.dropna()\n",
    "    \n",
    "    #Drop the interval_demand column\n",
    "    diffed_demand = diffed_demand.drop(columns=['interval_demand'])\n",
    "    return diffed_demand\n",
    "\n",
    "def get_weather(desired_datetime):\n",
    "    \"\"\"Takes a date and time object and retrieves the weather conditions for that day.\n",
    "    Returns a dataframe with weather conditions.\"\"\"\n",
    "    \n",
    "    query_weather = f\"\"\"SELECT date, avg_daily_wind_speed, avg_temp_f, fog, rain, snow\n",
    "                         FROM chicago_weather\n",
    "                         WHERE date = CAST('{desired_datetime}' AS DATE)\"\"\"\n",
    "    weather_today = pd.read_sql_query(query_weather, conn)\n",
    "    weather_today = weather_today.fillna(value=0)\n",
    "    return weather_today\n",
    "\n",
    "\n",
    "def get_scaled_features(feature_space):\n",
    "    \"\"\"Takes feature space and scales it onto the scale of 0 to 1 \n",
    "    in order to avoid inflating certain variables simply due to their inherently higher numeric values.\n",
    "    Returns a scaled feature space.\"\"\"\n",
    "    scaler = StandardScaler()\n",
    "    scaled_features = scaler.fit_transform(feature_space)\n",
    "    return scaled_features\n",
    "    \n",
    "def get_ETA(trip_duration, start_time=dt.datetime.now()):\n",
    "    \"\"\"Takes current datetime and trip duration as input.\n",
    "    Returns Estimated Time of Arrival.\"\"\"\n",
    "    now = start_time\n",
    "    return now + dt.timedelta(seconds=trip_duration)\n",
    "\n",
    "def plot_route(latitudes, longitudes):\n",
    "    \"\"\"Takes origin and destination coordinates and generates a route on Chicago City map.\n",
    "    Returns a plot with origin and destination marked as well the optimal route highlighted.\"\"\"\n",
    "    taxi_route = gmplot.GoogleMapPlotter.from_geocode('Chicago, USA', zoom=0) \n",
    "  \n",
    "    # scatter method of map object  \n",
    "    # scatter points on the google map \n",
    "    taxi_route.scatter(latitudes, longitudes, '#cc3399', \n",
    "                                  size = 14, marker = True) \n",
    "\n",
    "    #Plot method Draw a line in between given coordinates \n",
    "    taxi_route.plot(latitudes, longitudes,  \n",
    "               'cornflowerblue', edge_width = 2.5) \n",
    "\n",
    "    taxi_route.draw(\"./Chicago_taxi_route.html\") \n",
    "    "
   ]
  },
  {
   "cell_type": "code",
   "execution_count": null,
   "metadata": {
    "ExecuteTime": {
     "end_time": "2018-09-12T22:30:59.787348Z",
     "start_time": "2018-09-12T22:28:39.671Z"
    }
   },
   "outputs": [],
   "source": [
    "# my_date = pd.to_datetime('2018-01-01 10:00:00')\n",
    "# print(get_ETA(3600))"
   ]
  },
  {
   "cell_type": "code",
   "execution_count": null,
   "metadata": {
    "ExecuteTime": {
     "end_time": "2018-09-12T22:30:59.788761Z",
     "start_time": "2018-09-12T22:28:39.673Z"
    }
   },
   "outputs": [],
   "source": [
    "# print(get_now())"
   ]
  },
  {
   "cell_type": "code",
   "execution_count": null,
   "metadata": {
    "ExecuteTime": {
     "end_time": "2018-09-12T22:30:59.790253Z",
     "start_time": "2018-09-12T22:28:39.676Z"
    }
   },
   "outputs": [],
   "source": [
    "# o_address = '149 new montgomery street, san francisco'\n",
    "# d_address = '971 howard street, san francisco'\n",
    "# print(get_latitude(o_address))\n",
    "# print(get_longitude(o_address))\n",
    "# print(get_geopoint(o_address))"
   ]
  },
  {
   "cell_type": "markdown",
   "metadata": {},
   "source": [
    "> Need to remove those stupid messages!"
   ]
  },
  {
   "cell_type": "code",
   "execution_count": null,
   "metadata": {
    "ExecuteTime": {
     "end_time": "2018-09-12T22:30:59.791516Z",
     "start_time": "2018-09-12T22:28:39.678Z"
    }
   },
   "outputs": [],
   "source": [
    "# get_distance(o_address, d_address)"
   ]
  },
  {
   "cell_type": "markdown",
   "metadata": {},
   "source": [
    "### Update location columns for pickup and dropoff using shapely (converting the dataframe to GeoPandas)"
   ]
  },
  {
   "cell_type": "code",
   "execution_count": null,
   "metadata": {
    "ExecuteTime": {
     "end_time": "2018-09-12T22:30:59.792948Z",
     "start_time": "2018-09-12T22:28:39.681Z"
    }
   },
   "outputs": [],
   "source": [
    "#replace pickup_centroid_location and dropoff_centroid_location columns with point coordinates using shapely\n",
    "# pickup_geopoint = list(zip(taxi_weather_clean['pickup_centroid_longitude'], taxi_weather_clean['pickup_centroid_latitude']))\n",
    "# dropoff_geopoint = list(zip(taxi_weather_clean['dropoff_centroid_longitude'], taxi_weather_clean['dropoff_centroid_latitude']))\n",
    "\n",
    "# taxi_weather_clean['pickup_centroid_location'] = pickup_geopoint\n",
    "# taxi_weather_clean['dropoff_centroid_location'] = dropoff_geopoint\n",
    "\n",
    "# taxi_weather_clean['pickup_centroid_location'] = taxi_weather_clean['pickup_centroid_location'].apply(Point)\n",
    "# taxi_weather_clean['dropoff_centroid_location'] = taxi_weather_clean['dropoff_centroid_location'].apply(Point);\n"
   ]
  },
  {
   "cell_type": "code",
   "execution_count": null,
   "metadata": {
    "ExecuteTime": {
     "end_time": "2018-09-12T22:30:59.794174Z",
     "start_time": "2018-09-12T22:28:39.682Z"
    }
   },
   "outputs": [],
   "source": [
    "# taxi_weather_clean.head(2)"
   ]
  },
  {
   "cell_type": "code",
   "execution_count": null,
   "metadata": {
    "ExecuteTime": {
     "end_time": "2018-09-12T22:30:59.795594Z",
     "start_time": "2018-09-12T22:28:39.685Z"
    }
   },
   "outputs": [],
   "source": [
    "# taxi_weather_gdf = gpd.GeoDataFrame(taxi_weather_clean, geometry='pickup_centroid_location')"
   ]
  },
  {
   "cell_type": "code",
   "execution_count": null,
   "metadata": {
    "ExecuteTime": {
     "end_time": "2018-09-12T22:30:59.796949Z",
     "start_time": "2018-09-12T22:28:39.687Z"
    }
   },
   "outputs": [],
   "source": [
    "# taxi_weather_gdf.tail(3)"
   ]
  },
  {
   "cell_type": "code",
   "execution_count": null,
   "metadata": {
    "ExecuteTime": {
     "end_time": "2018-09-12T22:30:59.798223Z",
     "start_time": "2018-09-12T22:28:39.689Z"
    }
   },
   "outputs": [],
   "source": [
    "# with fiona.drivers():\n",
    "#     with fiona.open(\"./Datasets/USA_adm/USA_adm2.shp\") as source:\n",
    "#         meta = source.meta\n",
    "#         geoms = []\n",
    "#         for fear in source:\n",
    "#             geoms.append(fear['geometry'])"
   ]
  },
  {
   "cell_type": "code",
   "execution_count": null,
   "metadata": {
    "ExecuteTime": {
     "end_time": "2018-09-12T22:30:59.799838Z",
     "start_time": "2018-09-12T22:28:39.690Z"
    }
   },
   "outputs": [],
   "source": [
    "# geoms[1]"
   ]
  },
  {
   "cell_type": "code",
   "execution_count": null,
   "metadata": {
    "ExecuteTime": {
     "end_time": "2018-09-12T22:30:59.802752Z",
     "start_time": "2018-09-12T22:28:39.693Z"
    },
    "scrolled": true
   },
   "outputs": [],
   "source": [
    "# # usa_shape_link = \"./Datasets/LKA_adm/LKA_adm1.shp\"\n",
    "# geo_df = gpd.GeoDataFrame(geoms)\n",
    "# geo_df.head()"
   ]
  },
  {
   "cell_type": "code",
   "execution_count": null,
   "metadata": {
    "ExecuteTime": {
     "end_time": "2018-09-12T22:30:59.804692Z",
     "start_time": "2018-09-12T22:28:39.695Z"
    }
   },
   "outputs": [],
   "source": [
    "# geo_df.plot()"
   ]
  },
  {
   "cell_type": "code",
   "execution_count": null,
   "metadata": {
    "ExecuteTime": {
     "end_time": "2018-09-12T22:30:59.806451Z",
     "start_time": "2018-09-12T22:28:39.697Z"
    },
    "scrolled": false
   },
   "outputs": [],
   "source": [
    "# df = geopandas.read_file(geopandas.datasets.get_path('nybb'))\n",
    "# world = gpd.read_file(gpd.datasets.get_path('naturalearth_lowres'))\n",
    "# # We restrict to North America.\n",
    "# ax = geo_df.plot(\n",
    "#     color='white', edgecolor='blue')\n",
    "\n",
    "# # We can now plot our GeoDataFrame.\n",
    "# taxi_weather_gdf.plot(ax=ax, color='red')\n",
    "# plt.show()\n",
    "# Place map\n",
    "# gmap = gmplot.GoogleMapPlotter(37.766956, -122.438481, 13)\n",
    "\n",
    "# # Marker\n",
    "# hidden_gem_lat, hidden_gem_lon = 37.770776, -122.461689\n",
    "# gmap.marker(hidden_gem_lat, hidden_gem_lon, 'cornflowerblue')\n",
    "\n",
    "# # Draw\n",
    "# gmap.draw(\"my_map.html\")\n",
    "\n",
    "# taxi_weather_gdf.plot(figsize=(10, 10), alpha=0.5, edgecolor='c')\n",
    "# plt.title('Pickup locations')\n",
    "# plt.xlabel('Longitude')\n",
    "# plt.ylabel('Latitude');"
   ]
  },
  {
   "cell_type": "code",
   "execution_count": null,
   "metadata": {},
   "outputs": [],
   "source": []
  },
  {
   "cell_type": "code",
   "execution_count": null,
   "metadata": {},
   "outputs": [],
   "source": []
  },
  {
   "cell_type": "code",
   "execution_count": null,
   "metadata": {},
   "outputs": [],
   "source": []
  }
 ],
 "metadata": {
  "kernelspec": {
   "display_name": "Python 3",
   "language": "python",
   "name": "python3"
  },
  "language_info": {
   "codemirror_mode": {
    "name": "ipython",
    "version": 3
   },
   "file_extension": ".py",
   "mimetype": "text/x-python",
   "name": "python",
   "nbconvert_exporter": "python",
   "pygments_lexer": "ipython3",
   "version": "3.6.5"
  },
  "varInspector": {
   "cols": {
    "lenName": 16,
    "lenType": 16,
    "lenVar": 40
   },
   "kernels_config": {
    "python": {
     "delete_cmd_postfix": "",
     "delete_cmd_prefix": "del ",
     "library": "var_list.py",
     "varRefreshCmd": "print(var_dic_list())"
    },
    "r": {
     "delete_cmd_postfix": ") ",
     "delete_cmd_prefix": "rm(",
     "library": "var_list.r",
     "varRefreshCmd": "cat(var_dic_list()) "
    }
   },
   "types_to_exclude": [
    "module",
    "function",
    "builtin_function_or_method",
    "instance",
    "_Feature"
   ],
   "window_display": false
  }
 },
 "nbformat": 4,
 "nbformat_minor": 2
}
