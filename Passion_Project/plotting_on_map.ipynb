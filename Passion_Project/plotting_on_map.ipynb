{
 "cells": [
  {
   "cell_type": "code",
   "execution_count": 1,
   "metadata": {
    "ExecuteTime": {
     "end_time": "2018-09-13T19:30:23.923094Z",
     "start_time": "2018-09-13T19:30:21.806702Z"
    }
   },
   "outputs": [
    {
     "name": "stderr",
     "output_type": "stream",
     "text": [
      "/anaconda3/lib/python3.6/site-packages/pysal/__init__.py:65: VisibleDeprecationWarning: PySAL's API will be changed on 2018-12-31. The last release made with this API is version 1.14.4. A preview of the next API version is provided in the `pysal` 2.0 prelease candidate. The API changes and a guide on how to change imports is provided at https://pysal.org/about\n",
      "  ), VisibleDeprecationWarning)\n"
     ]
    }
   ],
   "source": [
    "#Essentials\n",
    "import numpy as np\n",
    "import pandas as pd\n",
    "import pickle\n",
    "import re\n",
    "import datetime as dt\n",
    "from termcolor import colored\n",
    "\n",
    "#SQL related\n",
    "import psycopg2\n",
    "import sqlite3\n",
    "from sqlalchemy import create_engine\n",
    "import pandas.io.sql as pd_sql\n",
    "\n",
    "\n",
    "#Visualization\n",
    "import matplotlib.pyplot as plt\n",
    "import matplotlib\n",
    "import seaborn as sns\n",
    "\n",
    "#Geography magic\n",
    "import geocoder\n",
    "import googlemaps\n",
    "import geopy.distance as gd\n",
    "import geopandas as gpd\n",
    "import shapely\n",
    "from shapely.geometry import Point\n",
    "import fiona\n",
    "import pysal as ps\n",
    "import gmplot\n",
    "\n",
    "from IPython.display import HTML\n",
    "\n",
    "# from mpl_toolkits.basemap import Basemap\n",
    "\n",
    "%matplotlib inline"
   ]
  },
  {
   "cell_type": "code",
   "execution_count": 2,
   "metadata": {
    "ExecuteTime": {
     "end_time": "2018-09-13T19:30:23.931117Z",
     "start_time": "2018-09-13T19:30:23.925022Z"
    }
   },
   "outputs": [],
   "source": [
    "# Set up the database connection\n",
    "conn = psycopg2.connect(dbname=\"taxi_rides_db\", user=\"auste_m\")"
   ]
  },
  {
   "cell_type": "code",
   "execution_count": 3,
   "metadata": {
    "ExecuteTime": {
     "end_time": "2018-09-13T19:30:23.939214Z",
     "start_time": "2018-09-13T19:30:23.933235Z"
    }
   },
   "outputs": [],
   "source": [
    "taxi_weather_query = \"\"\"SELECT TR.trip_start_timestamp,\n",
    "                                TR.trip_end_timestamp,\n",
    "                                TR.trip_seconds,\n",
    "                                TR.trip_miles,\n",
    "                                CASE WHEN TR.tolls IS NULL THEN TR.fare ELSE TR.fare + TR.tolls END as fare_with_tolls,\n",
    "                                TR.payment_type,\n",
    "                                TR.pickup_centroid_latitude,\n",
    "                                TR.pickup_centroid_longitude,\n",
    "                                TR.pickup_centroid_location,\n",
    "                                TR.dropoff_centroid_latitude,\n",
    "                                TR.dropoff_centroid_longitude,\n",
    "                                TR.dropoff_centroid_location,\n",
    "                                CW.avg_daily_wind_speed,\n",
    "                                CW.avg_temp_f,\n",
    "                                CASE WHEN CW.fog = 1 OR CW.heavy_fog = 1 OR ice_fog = 1 OR mist = 1 THEN 1 ELSE 0 END as fog,\n",
    "                                CASE WHEN CW.rain = 1 OR CW.drizzle = 1 OR CW.hail = 1 THEN 1 ELSE 0 END as rain,\n",
    "                                CASE WHEN CW.snow = 1 OR CW.freezing_rain = 1 OR drifting_snow = 1 THEN 1 ELSE 0 END as snow\n",
    "                                \n",
    "                        FROM taxi_rides_clean as TR\n",
    "                        LEFT JOIN chicago_weather as CW\n",
    "                        ON CAST(TR.trip_start_timestamp AS DATE) = CAST(date AS DATE)\n",
    "                        WHERE trip_start_timestamp BETWEEN '2016-01-01' AND '2016-01-31';\"\"\" #'2017-07-31'"
   ]
  },
  {
   "cell_type": "code",
   "execution_count": 4,
   "metadata": {
    "ExecuteTime": {
     "end_time": "2018-09-13T19:30:58.955439Z",
     "start_time": "2018-09-13T19:30:23.941672Z"
    }
   },
   "outputs": [],
   "source": [
    "#approx. 30min to load the whole of 2016 data\n",
    "sql_load = pd.read_sql_query(taxi_weather_query, con=conn)"
   ]
  },
  {
   "cell_type": "code",
   "execution_count": 5,
   "metadata": {
    "ExecuteTime": {
     "end_time": "2018-09-13T19:30:59.428953Z",
     "start_time": "2018-09-13T19:30:58.957342Z"
    }
   },
   "outputs": [],
   "source": [
    "#Let's drop all the records with a missing lat / long in either pickup or dropoff\n",
    "taxi_weather_clean = sql_load.dropna(subset=['pickup_centroid_latitude', 'pickup_centroid_longitude', 'dropoff_centroid_latitude'\n",
    "                                                    , 'dropoff_centroid_longitude', 'trip_seconds', 'trip_miles', 'fare_with_tolls'])"
   ]
  },
  {
   "cell_type": "code",
   "execution_count": 6,
   "metadata": {
    "ExecuteTime": {
     "end_time": "2018-09-13T19:30:59.644146Z",
     "start_time": "2018-09-13T19:30:59.431074Z"
    }
   },
   "outputs": [],
   "source": [
    "#Let's get rid of the zeroes\n",
    "taxi_weather_clean = taxi_weather_clean[(taxi_weather_clean['fare_with_tolls'] != 0.0) \n",
    "                                          & (taxi_weather_clean['trip_seconds'] != 0.0) \n",
    "                                          & (taxi_weather_clean['trip_miles'] != 0.0)]"
   ]
  },
  {
   "cell_type": "code",
   "execution_count": 7,
   "metadata": {
    "ExecuteTime": {
     "end_time": "2018-09-13T19:31:00.126274Z",
     "start_time": "2018-09-13T19:30:59.646374Z"
    }
   },
   "outputs": [
    {
     "data": {
      "text/plain": [
       "1066397"
      ]
     },
     "execution_count": 7,
     "metadata": {},
     "output_type": "execute_result"
    }
   ],
   "source": [
    "taxi_weather_clean.count()[0]"
   ]
  },
  {
   "cell_type": "markdown",
   "metadata": {},
   "source": [
    "## Plotting fun!"
   ]
  },
  {
   "cell_type": "code",
   "execution_count": 8,
   "metadata": {
    "ExecuteTime": {
     "end_time": "2018-09-13T19:31:17.633027Z",
     "start_time": "2018-09-13T19:31:00.128720Z"
    }
   },
   "outputs": [],
   "source": [
    "#replace pickup_centroid_location and dropoff_centroid_location columns with point coordinates using shapely\n",
    "pickup_geopoint = list(zip(taxi_weather_clean['pickup_centroid_longitude'], taxi_weather_clean['pickup_centroid_latitude']))\n",
    "dropoff_geopoint = list(zip(taxi_weather_clean['dropoff_centroid_longitude'], taxi_weather_clean['dropoff_centroid_latitude']))\n",
    "\n",
    "taxi_weather_clean['pickup_centroid_location'] = pickup_geopoint\n",
    "taxi_weather_clean['dropoff_centroid_location'] = dropoff_geopoint\n",
    "\n",
    "taxi_weather_clean['pickup_centroid_location'] = taxi_weather_clean['pickup_centroid_location'].apply(Point)\n",
    "taxi_weather_clean['dropoff_centroid_location'] = taxi_weather_clean['dropoff_centroid_location'].apply(Point);\n"
   ]
  },
  {
   "cell_type": "code",
   "execution_count": 9,
   "metadata": {
    "ExecuteTime": {
     "end_time": "2018-09-13T19:31:17.824162Z",
     "start_time": "2018-09-13T19:31:17.635141Z"
    }
   },
   "outputs": [],
   "source": [
    "#Make a geopandas dataframe\n",
    "taxi_weather_gdf = gpd.GeoDataFrame(taxi_weather_clean, geometry='pickup_centroid_location')"
   ]
  },
  {
   "cell_type": "code",
   "execution_count": 10,
   "metadata": {
    "ExecuteTime": {
     "end_time": "2018-09-13T19:31:17.832107Z",
     "start_time": "2018-09-13T19:31:17.826184Z"
    }
   },
   "outputs": [],
   "source": [
    "lats = [taxi_weather_gdf['pickup_centroid_latitude'][50], taxi_weather_gdf['dropoff_centroid_latitude'][50]]\n",
    "longs = [taxi_weather_gdf['pickup_centroid_longitude'][50], taxi_weather_gdf['dropoff_centroid_longitude'][50]]"
   ]
  },
  {
   "cell_type": "code",
   "execution_count": 11,
   "metadata": {
    "ExecuteTime": {
     "end_time": "2018-09-13T19:31:17.838313Z",
     "start_time": "2018-09-13T19:31:17.834045Z"
    }
   },
   "outputs": [
    {
     "data": {
      "text/plain": [
       "[-87.626214906, -87.675311622]"
      ]
     },
     "execution_count": 11,
     "metadata": {},
     "output_type": "execute_result"
    }
   ],
   "source": [
    "longs"
   ]
  },
  {
   "cell_type": "code",
   "execution_count": 14,
   "metadata": {
    "ExecuteTime": {
     "end_time": "2018-09-13T22:48:04.551563Z",
     "start_time": "2018-09-13T22:47:19.005991Z"
    }
   },
   "outputs": [
    {
     "data": {
      "text/plain": [
       "Text(50.375,0.5,'Latitude')"
      ]
     },
     "execution_count": 14,
     "metadata": {},
     "output_type": "execute_result"
    },
    {
     "data": {
      "image/png": "[encoded data removed]",
      "text/plain": [
       "<Figure size 720x720 with 1 Axes>"
      ]
     },
     "metadata": {},
     "output_type": "display_data"
    }
   ],
   "source": [
    "# Place map\n",
    "# gmap = gmplot.GoogleMapPlotter.from_geocode('Chicago, USA', 12)\n",
    "\n",
    "# # Marker\n",
    "# gmap.marker(41.892507781, -87.626214906, 'cornflowerblue')\n",
    "\n",
    "# Draw\n",
    "# gmap.draw(\"my_map.html\")\n",
    "\n",
    "taxi_weather_gdf.plot(figsize=(10, 10), alpha=0.5, edgecolor='c')\n",
    "plt.title('Pickup locations')\n",
    "plt.xlabel('Longitude')\n",
    "plt.ylabel('Latitude')\n"
   ]
  },
  {
   "cell_type": "code",
   "execution_count": 13,
   "metadata": {
    "ExecuteTime": {
     "end_time": "2018-09-13T19:36:08.532439Z",
     "start_time": "2018-09-13T19:36:08.527666Z"
    }
   },
   "outputs": [
    {
     "data": {
      "text/html": [
       "<iframe width=\"100%\" height=\"650\" src=\"./my_map.html\"></iframe>"
      ],
      "text/plain": [
       "<IPython.core.display.HTML object>"
      ]
     },
     "metadata": {},
     "output_type": "display_data"
    }
   ],
   "source": [
    "%%HTML\n",
    "<iframe width=\"100%\" height=\"650\" src=\"./my_map.html\"></iframe>"
   ]
  },
  {
   "cell_type": "markdown",
   "metadata": {},
   "source": [
    "#### Simply drawing a map with a specified centorid location and zoom"
   ]
  },
  {
   "cell_type": "code",
   "execution_count": null,
   "metadata": {
    "ExecuteTime": {
     "end_time": "2018-09-13T19:31:18.425046Z",
     "start_time": "2018-09-13T19:30:21.826Z"
    }
   },
   "outputs": [],
   "source": [
    "pickup_lats = list(taxi_weather_clean['pickup_centroid_latitude'])\n",
    "pickup_longs = list(taxi_weather_clean['pickup_centroid_longitude'])"
   ]
  },
  {
   "cell_type": "code",
   "execution_count": null,
   "metadata": {
    "ExecuteTime": {
     "end_time": "2018-09-13T19:31:18.426558Z",
     "start_time": "2018-09-13T19:30:21.827Z"
    }
   },
   "outputs": [],
   "source": [
    "# GoogleMapPlotter return Map object \n",
    "# Pass the center latitude and \n",
    "# center longitude \n",
    "# CC_map = gmplot.GoogleMapPlotter(41.968069, \n",
    "#                                 -87.721559063, 8 ) \n",
    "\n",
    "# # Pass the absolute path \n",
    "# CC_map.draw(\".a/Chicago_map.html\")"
   ]
  },
  {
   "cell_type": "markdown",
   "metadata": {},
   "source": [
    "#### Drawing the map using geocode function"
   ]
  },
  {
   "cell_type": "code",
   "execution_count": null,
   "metadata": {
    "ExecuteTime": {
     "end_time": "2018-09-13T19:31:18.427623Z",
     "start_time": "2018-09-13T19:30:21.830Z"
    }
   },
   "outputs": [],
   "source": [
    "# # from_geocode method return the latitude and longitude of given location\n",
    "# CC_map2 = gmplot.GoogleMapPlotter.from_geocode(\"Chicago, USA\", zoom=5) \n",
    "  \n",
    "# CC_map2.draw(\"./Chicago_map.html\") "
   ]
  },
  {
   "cell_type": "markdown",
   "metadata": {},
   "source": [
    "### Drawing routes"
   ]
  },
  {
   "cell_type": "code",
   "execution_count": null,
   "metadata": {
    "ExecuteTime": {
     "end_time": "2018-09-13T19:31:18.429050Z",
     "start_time": "2018-09-13T19:30:21.831Z"
    }
   },
   "outputs": [],
   "source": [
    "# lats = [taxi_weather_gdf['pickup_centroid_latitude'][0], taxi_weather_gdf['dropoff_centroid_latitude'][0]]\n",
    "# longs = [taxi_weather_gdf['pickup_centroid_longitude'][0], taxi_weather_gdf['dropoff_centroid_longitude'][0]]"
   ]
  },
  {
   "cell_type": "code",
   "execution_count": null,
   "metadata": {
    "ExecuteTime": {
     "end_time": "2018-09-13T19:31:18.430198Z",
     "start_time": "2018-09-13T19:30:21.832Z"
    }
   },
   "outputs": [],
   "source": [
    "# taxi_route = gmplot.GoogleMapPlotter.from_geocode('Chicago, USA', zoom=0) \n",
    "  \n",
    "# # scatter method of map object  \n",
    "# # scatter points on the google map \n",
    "# taxi_route.scatter(pickup_lats, pickup_longs, '# FF0000', \n",
    "#                               size = 10, marker = True) \n",
    "  \n",
    "# # Plot method Draw a line in \n",
    "# # between given coordinates \n",
    "# # taxi_route.plot(pickup_lats, pickup_longs,  \n",
    "# #            'cornflowerblue', edge_width = 2.5) \n",
    "  \n",
    "# taxi_route.draw(\"./Chicago_taxi_route.html\") "
   ]
  }
 ],
 "metadata": {
  "kernelspec": {
   "display_name": "Python 3",
   "language": "python",
   "name": "python3"
  },
  "language_info": {
   "codemirror_mode": {
    "name": "ipython",
    "version": 3
   },
   "file_extension": ".py",
   "mimetype": "text/x-python",
   "name": "python",
   "nbconvert_exporter": "python",
   "pygments_lexer": "ipython3",
   "version": "3.6.5"
  },
  "varInspector": {
   "cols": {
    "lenName": 16,
    "lenType": 16,
    "lenVar": 40
   },
   "kernels_config": {
    "python": {
     "delete_cmd_postfix": "",
     "delete_cmd_prefix": "del ",
     "library": "var_list.py",
     "varRefreshCmd": "print(var_dic_list())"
    },
    "r": {
     "delete_cmd_postfix": ") ",
     "delete_cmd_prefix": "rm(",
     "library": "var_list.r",
     "varRefreshCmd": "cat(var_dic_list()) "
    }
   },
   "types_to_exclude": [
    "module",
    "function",
    "builtin_function_or_method",
    "instance",
    "_Feature"
   ],
   "window_display": false
  }
 },
 "nbformat": 4,
 "nbformat_minor": 2
}
