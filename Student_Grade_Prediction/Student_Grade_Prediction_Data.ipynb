{
 "cells": [
  {
   "cell_type": "markdown",
   "metadata": {},
   "source": [
    "## Let's get the data, combine, clean and store it in an SQL table"
   ]
  },
  {
   "cell_type": "markdown",
   "metadata": {},
   "source": [
    "**Trying a fancy, no manual work way**"
   ]
  },
  {
   "cell_type": "code",
   "execution_count": 25,
   "metadata": {
    "ExecuteTime": {
     "end_time": "2018-07-27T01:04:19.184594Z",
     "start_time": "2018-07-27T01:04:19.181328Z"
    }
   },
   "outputs": [],
   "source": [
    "import requests\n",
    "from selenium import webdriver\n",
    "from selenium.webdriver.common.keys import Keys\n",
    "import time\n",
    "from bs4 import BeautifulSoup\n",
    "\n",
    "import os\n",
    "import zipfile as zf\n"
   ]
  },
  {
   "cell_type": "code",
   "execution_count": 26,
   "metadata": {
    "ExecuteTime": {
     "end_time": "2018-07-27T01:04:19.391904Z",
     "start_time": "2018-07-27T01:04:19.388809Z"
    }
   },
   "outputs": [],
   "source": [
    "chromedriver = \"/Applications/chromedriver\" # path to the chromedriver executable\n",
    "os.environ[\"webdriver.chrome.driver\"] = chromedriver\n"
   ]
  },
  {
   "cell_type": "code",
   "execution_count": 27,
   "metadata": {
    "ExecuteTime": {
     "end_time": "2018-07-27T01:04:22.095794Z",
     "start_time": "2018-07-27T01:04:20.037643Z"
    }
   },
   "outputs": [],
   "source": [
    "my_url = \"http://archive.ics.uci.edu/ml/index.php\"\n",
    "\n",
    "driver = webdriver.Chrome(chromedriver)\n",
    "driver.get(my_url)\n"
   ]
  },
  {
   "cell_type": "code",
   "execution_count": 28,
   "metadata": {
    "ExecuteTime": {
     "end_time": "2018-07-27T01:04:39.641812Z",
     "start_time": "2018-07-27T01:04:38.363557Z"
    }
   },
   "outputs": [],
   "source": [
    "go_to_all_datasets = driver.find_element_by_link_text('View ALL Data Sets')\n",
    "go_to_all_datasets.click()"
   ]
  },
  {
   "cell_type": "code",
   "execution_count": 29,
   "metadata": {
    "ExecuteTime": {
     "end_time": "2018-07-27T01:04:40.491071Z",
     "start_time": "2018-07-27T01:04:40.019429Z"
    }
   },
   "outputs": [],
   "source": [
    "go_to_all_datasets = driver.find_element_by_link_text('Student Performance')\n",
    "go_to_all_datasets.click()"
   ]
  },
  {
   "cell_type": "code",
   "execution_count": 30,
   "metadata": {
    "ExecuteTime": {
     "end_time": "2018-07-27T01:04:43.196314Z",
     "start_time": "2018-07-27T01:04:43.036213Z"
    }
   },
   "outputs": [],
   "source": [
    "go_to_all_datasets = driver.find_element_by_link_text('Data Folder')\n",
    "go_to_all_datasets.click()"
   ]
  },
  {
   "cell_type": "code",
   "execution_count": null,
   "metadata": {},
   "outputs": [],
   "source": []
  }
 ],
 "metadata": {
  "kernelspec": {
   "display_name": "Python 3",
   "language": "python",
   "name": "python3"
  },
  "language_info": {
   "codemirror_mode": {
    "name": "ipython",
    "version": 3
   },
   "file_extension": ".py",
   "mimetype": "text/x-python",
   "name": "python",
   "nbconvert_exporter": "python",
   "pygments_lexer": "ipython3",
   "version": "3.6.5"
  },
  "varInspector": {
   "cols": {
    "lenName": 16,
    "lenType": 16,
    "lenVar": 40
   },
   "kernels_config": {
    "python": {
     "delete_cmd_postfix": "",
     "delete_cmd_prefix": "del ",
     "library": "var_list.py",
     "varRefreshCmd": "print(var_dic_list())"
    },
    "r": {
     "delete_cmd_postfix": ") ",
     "delete_cmd_prefix": "rm(",
     "library": "var_list.r",
     "varRefreshCmd": "cat(var_dic_list()) "
    }
   },
   "types_to_exclude": [
    "module",
    "function",
    "builtin_function_or_method",
    "instance",
    "_Feature"
   ],
   "window_display": false
  }
 },
 "nbformat": 4,
 "nbformat_minor": 2
}
