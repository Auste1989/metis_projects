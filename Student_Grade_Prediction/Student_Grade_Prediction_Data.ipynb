{
 "cells": [
  {
   "cell_type": "markdown",
   "metadata": {},
   "source": [
    "## Let's get the data, combine, clean and store it in an SQL table"
   ]
  },
  {
   "cell_type": "markdown",
   "metadata": {},
   "source": [
    "**Trying a fancy, no manual work way**"
   ]
  },
  {
   "cell_type": "code",
   "execution_count": 1,
   "metadata": {
    "ExecuteTime": {
     "end_time": "2018-07-29T03:36:19.469221Z",
     "start_time": "2018-07-29T03:36:19.458068Z"
    }
   },
   "outputs": [
    {
     "data": {
      "text/html": [
       "<style>.container { width:95% !important; }</style>"
      ],
      "text/plain": [
       "<IPython.core.display.HTML object>"
      ]
     },
     "metadata": {},
     "output_type": "display_data"
    }
   ],
   "source": [
    "from IPython.core.display import display, HTML\n",
    "display(HTML(\"<style>.container { width:95% !important; }</style>\"))"
   ]
  },
  {
   "cell_type": "code",
   "execution_count": 2,
   "metadata": {
    "ExecuteTime": {
     "end_time": "2018-07-29T03:36:20.341477Z",
     "start_time": "2018-07-29T03:36:19.471112Z"
    }
   },
   "outputs": [],
   "source": [
    "#Essentials\n",
    "import numpy as np\n",
    "import pandas as pd\n",
    "import psycopg2 as pg\n",
    "import pandas.io.sql as pd_sql\n",
    "import matplotlib.pyplot as plt\n",
    "\n",
    "#Nice to have\n",
    "import seaborn as sns\n",
    "plt.style.use('fivethirtyeight')\n",
    "\n",
    "%matplotlib inline"
   ]
  },
  {
   "cell_type": "code",
   "execution_count": 3,
   "metadata": {
    "ExecuteTime": {
     "end_time": "2018-07-29T03:36:20.346656Z",
     "start_time": "2018-07-29T03:36:20.343430Z"
    }
   },
   "outputs": [],
   "source": [
    "plt.style.use('ggplot')\n",
    "plt.rc('font', size=18)"
   ]
  },
  {
   "cell_type": "code",
   "execution_count": 4,
   "metadata": {
    "ExecuteTime": {
     "end_time": "2018-07-29T03:36:20.351253Z",
     "start_time": "2018-07-29T03:36:20.348818Z"
    }
   },
   "outputs": [],
   "source": [
    "# import requests\n",
    "# from selenium import webdriver\n",
    "# from selenium.webdriver.common.keys import Keys\n",
    "# import time\n",
    "# from bs4 import BeautifulSoup\n",
    "\n",
    "# import os\n",
    "# import zipfile as zf\n"
   ]
  },
  {
   "cell_type": "code",
   "execution_count": 5,
   "metadata": {
    "ExecuteTime": {
     "end_time": "2018-07-29T03:36:20.354820Z",
     "start_time": "2018-07-29T03:36:20.352956Z"
    }
   },
   "outputs": [],
   "source": [
    "# chromedriver = \"/Applications/chromedriver\" # path to the chromedriver executable\n",
    "# os.environ[\"webdriver.chrome.driver\"] = chromedriver\n"
   ]
  },
  {
   "cell_type": "code",
   "execution_count": 6,
   "metadata": {
    "ExecuteTime": {
     "end_time": "2018-07-29T03:36:20.359083Z",
     "start_time": "2018-07-29T03:36:20.356454Z"
    }
   },
   "outputs": [],
   "source": [
    "# my_url = \"http://archive.ics.uci.edu/ml/index.php\"\n",
    "\n",
    "# driver = webdriver.Chrome(chromedriver)\n",
    "# driver.get(my_url)\n"
   ]
  },
  {
   "cell_type": "code",
   "execution_count": 7,
   "metadata": {
    "ExecuteTime": {
     "end_time": "2018-07-29T03:36:20.363686Z",
     "start_time": "2018-07-29T03:36:20.361407Z"
    }
   },
   "outputs": [],
   "source": [
    "# go_to_all_datasets = driver.find_element_by_link_text('View ALL Data Sets')\n",
    "# go_to_all_datasets.click()"
   ]
  },
  {
   "cell_type": "code",
   "execution_count": 8,
   "metadata": {
    "ExecuteTime": {
     "end_time": "2018-07-29T03:36:20.367676Z",
     "start_time": "2018-07-29T03:36:20.365484Z"
    }
   },
   "outputs": [],
   "source": [
    "# go_to_all_datasets = driver.find_element_by_link_text('Student Performance')\n",
    "# go_to_all_datasets.click()"
   ]
  },
  {
   "cell_type": "code",
   "execution_count": 9,
   "metadata": {
    "ExecuteTime": {
     "end_time": "2018-07-29T03:36:20.371792Z",
     "start_time": "2018-07-29T03:36:20.369807Z"
    }
   },
   "outputs": [],
   "source": [
    "# go_to_all_datasets = driver.find_element_by_link_text('Data Folder')\n",
    "# go_to_all_datasets.click()"
   ]
  },
  {
   "cell_type": "code",
   "execution_count": 10,
   "metadata": {
    "ExecuteTime": {
     "end_time": "2018-07-29T03:36:20.388855Z",
     "start_time": "2018-07-29T03:36:20.373243Z"
    }
   },
   "outputs": [],
   "source": [
    "maths_dataset = pd.read_csv('./Student_Grades_dataset/student-mat.csv')\n",
    "port_dataset = pd.read_csv('./Student_Grades_dataset/student-por.csv')"
   ]
  },
  {
   "cell_type": "code",
   "execution_count": 11,
   "metadata": {
    "ExecuteTime": {
     "end_time": "2018-07-29T03:36:20.400900Z",
     "start_time": "2018-07-29T03:36:20.390952Z"
    }
   },
   "outputs": [
    {
     "name": "stdout",
     "output_type": "stream",
     "text": [
      "<class 'pandas.core.frame.DataFrame'>\n",
      "RangeIndex: 395 entries, 0 to 394\n",
      "Data columns (total 33 columns):\n",
      "school        395 non-null object\n",
      "sex           395 non-null object\n",
      "age           395 non-null int64\n",
      "address       395 non-null object\n",
      "famsize       395 non-null object\n",
      "Pstatus       395 non-null object\n",
      "Medu          395 non-null int64\n",
      "Fedu          395 non-null int64\n",
      "Mjob          395 non-null object\n",
      "Fjob          395 non-null object\n",
      "reason        395 non-null object\n",
      "guardian      395 non-null object\n",
      "traveltime    395 non-null int64\n",
      "studytime     395 non-null int64\n",
      "failures      395 non-null int64\n",
      "schoolsup     395 non-null object\n",
      "famsup        395 non-null object\n",
      "paid          395 non-null object\n",
      "activities    395 non-null object\n",
      "nursery       395 non-null object\n",
      "higher        395 non-null object\n",
      "internet      395 non-null object\n",
      "romantic      395 non-null object\n",
      "famrel        395 non-null int64\n",
      "freetime      395 non-null int64\n",
      "goout         395 non-null int64\n",
      "Dalc          395 non-null int64\n",
      "Walc          395 non-null int64\n",
      "health        395 non-null int64\n",
      "absences      395 non-null int64\n",
      "G1            395 non-null int64\n",
      "G2            395 non-null int64\n",
      "G3            395 non-null int64\n",
      "dtypes: int64(16), object(17)\n",
      "memory usage: 101.9+ KB\n",
      "None\n"
     ]
    }
   ],
   "source": [
    "print(maths_dataset.info())"
   ]
  },
  {
   "cell_type": "code",
   "execution_count": 12,
   "metadata": {
    "ExecuteTime": {
     "end_time": "2018-07-29T03:36:20.411509Z",
     "start_time": "2018-07-29T03:36:20.402825Z"
    }
   },
   "outputs": [
    {
     "name": "stdout",
     "output_type": "stream",
     "text": [
      "<class 'pandas.core.frame.DataFrame'>\n",
      "RangeIndex: 649 entries, 0 to 648\n",
      "Data columns (total 33 columns):\n",
      "school        649 non-null object\n",
      "sex           649 non-null object\n",
      "age           649 non-null int64\n",
      "address       649 non-null object\n",
      "famsize       649 non-null object\n",
      "Pstatus       649 non-null object\n",
      "Medu          649 non-null int64\n",
      "Fedu          649 non-null int64\n",
      "Mjob          649 non-null object\n",
      "Fjob          649 non-null object\n",
      "reason        649 non-null object\n",
      "guardian      649 non-null object\n",
      "traveltime    649 non-null int64\n",
      "studytime     649 non-null int64\n",
      "failures      649 non-null int64\n",
      "schoolsup     649 non-null object\n",
      "famsup        649 non-null object\n",
      "paid          649 non-null object\n",
      "activities    649 non-null object\n",
      "nursery       649 non-null object\n",
      "higher        649 non-null object\n",
      "internet      649 non-null object\n",
      "romantic      649 non-null object\n",
      "famrel        649 non-null int64\n",
      "freetime      649 non-null int64\n",
      "goout         649 non-null int64\n",
      "Dalc          649 non-null int64\n",
      "Walc          649 non-null int64\n",
      "health        649 non-null int64\n",
      "absences      649 non-null int64\n",
      "G1            649 non-null int64\n",
      "G2            649 non-null int64\n",
      "G3            649 non-null int64\n",
      "dtypes: int64(16), object(17)\n",
      "memory usage: 167.4+ KB\n"
     ]
    }
   ],
   "source": [
    "port_dataset.info()"
   ]
  },
  {
   "cell_type": "code",
   "execution_count": 13,
   "metadata": {
    "ExecuteTime": {
     "end_time": "2018-07-29T03:36:20.549525Z",
     "start_time": "2018-07-29T03:36:20.413350Z"
    }
   },
   "outputs": [
    {
     "name": "stdout",
     "output_type": "stream",
     "text": [
      "Gender proportions in the Maths dataset:\n",
      "F    0.53\n",
      "M    0.47\n",
      "Name: sex, dtype: float64 \n",
      "\n",
      "Age proportions in the Maths dataset:\n",
      "16    0.26\n",
      "17    0.25\n",
      "18    0.21\n",
      "15    0.21\n",
      "19    0.06\n",
      "20    0.01\n",
      "22    0.00\n",
      "21    0.00\n",
      "Name: age, dtype: float64 \n",
      "\n",
      "School proportions in the Maths dataset:\n",
      "GP    0.88\n",
      "MS    0.12\n",
      "Name: school, dtype: float64 \n",
      "\n",
      "Address proportions in the Maths dataset:\n",
      "U    0.78\n",
      "R    0.22\n",
      "Name: address, dtype: float64 \n",
      "\n",
      "Relationship proportions in the Maths dataset:\n",
      "no     0.67\n",
      "yes    0.33\n",
      "Name: romantic, dtype: float64 \n",
      "\n",
      "Weekend alcohol consumption group proportions in the Maths dataset:\n",
      "1    0.38\n",
      "2    0.22\n",
      "3    0.20\n",
      "4    0.13\n",
      "5    0.07\n",
      "Name: Walc, dtype: float64 \n",
      "\n",
      "Weekday alcohol consumption group proportions in the Maths dataset:\n",
      "1    0.70\n",
      "2    0.19\n",
      "3    0.07\n",
      "5    0.02\n",
      "4    0.02\n",
      "Name: Dalc, dtype: float64 \n",
      "\n"
     ]
    }
   ],
   "source": [
    "print('Gender proportions in the Maths dataset:\\n'+ str(round(maths_dataset['sex'].value_counts(normalize = True), 2)), '\\n')\n",
    "print('Age proportions in the Maths dataset:\\n'+ str(round(maths_dataset['age'].value_counts(normalize = True), 2)), '\\n')\n",
    "print('School proportions in the Maths dataset:\\n'+ str(round(maths_dataset['school'].value_counts(normalize = True), 2)), '\\n')\n",
    "print('Address proportions in the Maths dataset:\\n'+ str(round(maths_dataset['address'].value_counts(normalize = True), 2)), '\\n')\n",
    "print('Relationship proportions in the Maths dataset:\\n'+ str(round(maths_dataset['romantic'].value_counts(normalize = True), 2)), '\\n')\n",
    "print('Weekend alcohol consumption group proportions in the Maths dataset:\\n'+ str(round(maths_dataset['Walc'].value_counts(normalize = True), 2)), '\\n')\n",
    "print('Weekday alcohol consumption group proportions in the Maths dataset:\\n'+ str(round(maths_dataset['Dalc'].value_counts(normalize = True), 2)), '\\n')\n"
   ]
  },
  {
   "cell_type": "code",
   "execution_count": 14,
   "metadata": {
    "ExecuteTime": {
     "end_time": "2018-07-29T03:36:20.790144Z",
     "start_time": "2018-07-29T03:36:20.551872Z"
    }
   },
   "outputs": [
    {
     "data": {
      "image/png": "[encoded data removed]",
      "text/plain": [
       "<matplotlib.figure.Figure at 0x11338e7f0>"
      ]
     },
     "metadata": {},
     "output_type": "display_data"
    }
   ],
   "source": [
    "fig = plt.figure(dpi=100)\n",
    "maths_dataset['G3'].hist(color='c')\n",
    "plt.title('Final Maths Grade distribution')\n",
    "plt.xlabel('Grade')\n",
    "plt.ylabel('Frequency');"
   ]
  },
  {
   "cell_type": "code",
   "execution_count": 15,
   "metadata": {
    "ExecuteTime": {
     "end_time": "2018-07-29T03:36:20.808080Z",
     "start_time": "2018-07-29T03:36:20.792008Z"
    }
   },
   "outputs": [
    {
     "name": "stdout",
     "output_type": "stream",
     "text": [
      "Gender proportions in the Portuguese dataset:\n",
      "F    0.59\n",
      "M    0.41\n",
      "Name: sex, dtype: float64 \n",
      "\n",
      "Age proportions in the Portuguese dataset:\n",
      "17    0.28\n",
      "16    0.27\n",
      "18    0.22\n",
      "15    0.17\n",
      "19    0.05\n",
      "20    0.01\n",
      "21    0.00\n",
      "22    0.00\n",
      "Name: age, dtype: float64 \n",
      "\n",
      "School proportions in the Portuguese dataset:\n",
      "GP    0.65\n",
      "MS    0.35\n",
      "Name: school, dtype: float64 \n",
      "\n",
      "Address proportions in the Portuguese dataset:\n",
      "U    0.7\n",
      "R    0.3\n",
      "Name: address, dtype: float64 \n",
      "\n",
      "Relationship proportions in the Portuguese dataset:\n",
      "no     0.63\n",
      "yes    0.37\n",
      "Name: romantic, dtype: float64 \n",
      "\n",
      "Weekend alcohol consumption group proportions in the Portuguese dataset:\n",
      "1    0.38\n",
      "2    0.23\n",
      "3    0.18\n",
      "4    0.13\n",
      "5    0.07\n",
      "Name: Walc, dtype: float64 \n",
      "\n",
      "Weekday alcohol consumption group proportions in the Portuguese dataset:\n",
      "1    0.69\n",
      "2    0.19\n",
      "3    0.07\n",
      "5    0.03\n",
      "4    0.03\n",
      "Name: Dalc, dtype: float64 \n",
      "\n"
     ]
    }
   ],
   "source": [
    "print('Gender proportions in the Portuguese dataset:\\n'+ str(round(port_dataset['sex'].value_counts(normalize = True), 2)), '\\n')\n",
    "print('Age proportions in the Portuguese dataset:\\n'+ str(round(port_dataset['age'].value_counts(normalize = True), 2)), '\\n')\n",
    "print('School proportions in the Portuguese dataset:\\n'+ str(round(port_dataset['school'].value_counts(normalize = True), 2)), '\\n')\n",
    "print('Address proportions in the Portuguese dataset:\\n'+ str(round(port_dataset['address'].value_counts(normalize = True), 2)), '\\n')\n",
    "print('Relationship proportions in the Portuguese dataset:\\n'+ str(round(port_dataset['romantic'].value_counts(normalize = True), 2)), '\\n')\n",
    "print('Weekend alcohol consumption group proportions in the Portuguese dataset:\\n'+ str(round(port_dataset['Walc'].value_counts(normalize = True), 2)), '\\n')\n",
    "print('Weekday alcohol consumption group proportions in the Portuguese dataset:\\n'+ str(round(port_dataset['Dalc'].value_counts(normalize = True), 2)), '\\n')"
   ]
  },
  {
   "cell_type": "code",
   "execution_count": 16,
   "metadata": {
    "ExecuteTime": {
     "end_time": "2018-07-29T03:36:20.962876Z",
     "start_time": "2018-07-29T03:36:20.810711Z"
    },
    "scrolled": false
   },
   "outputs": [
    {
     "data": {
      "image/png": "[encoded data removed]",
      "text/plain": [
       "<matplotlib.figure.Figure at 0x1191be2b0>"
      ]
     },
     "metadata": {},
     "output_type": "display_data"
    }
   ],
   "source": [
    "fig = plt.figure(dpi=100)\n",
    "port_dataset['G3'].hist(color='c')\n",
    "plt.title('Final Portuguese Grade distribution')\n",
    "plt.xlabel('Grade')\n",
    "plt.ylabel('Frequency');"
   ]
  },
  {
   "cell_type": "markdown",
   "metadata": {},
   "source": [
    "### Finalize datasets before loading to SQL tables"
   ]
  },
  {
   "cell_type": "code",
   "execution_count": 17,
   "metadata": {
    "ExecuteTime": {
     "end_time": "2018-07-29T03:36:20.970142Z",
     "start_time": "2018-07-29T03:36:20.965015Z"
    }
   },
   "outputs": [],
   "source": [
    "#Drop columns that I am not interested in from both datasets\n",
    "maths_dataset = maths_dataset.drop(columns=['school', 'Mjob', 'Fjob'])\n",
    "port_dataset = port_dataset.drop(columns=['school', 'Mjob', 'Fjob'])"
   ]
  },
  {
   "cell_type": "code",
   "execution_count": 18,
   "metadata": {
    "ExecuteTime": {
     "end_time": "2018-07-29T03:36:20.975910Z",
     "start_time": "2018-07-29T03:36:20.972243Z"
    }
   },
   "outputs": [],
   "source": [
    "#Helper functions for grade translation\n",
    "\n",
    "def grade_label(row):\n",
    "    if row['G3'] < 10:\n",
    "        return 'Fail'\n",
    "    else:\n",
    "        return 'Pass'\n",
    "    \n",
    "def grade_segment(row):\n",
    "    segment = None\n",
    "    if row['G3'] < 10:\n",
    "        segment = 'Fail'\n",
    "    elif row['G3'] < 14:\n",
    "        segment = 'Good'\n",
    "    elif row['G3'] < 16:\n",
    "        segment = 'Very_Good'\n",
    "    elif row['G3'] >= 16:\n",
    "        segment = 'Excellent'\n",
    "    else:\n",
    "        segment = 'Error'\n",
    "    return segment"
   ]
  },
  {
   "cell_type": "code",
   "execution_count": 19,
   "metadata": {
    "ExecuteTime": {
     "end_time": "2018-07-29T03:36:21.029488Z",
     "start_time": "2018-07-29T03:36:20.977806Z"
    }
   },
   "outputs": [],
   "source": [
    "#Create new columns (to mark discipline for easier merge of the two datasets) and grouping of final grades into Pass / Fail\n",
    "#Maths dataset\n",
    "maths_dataset['discipline'] = 'maths'\n",
    "maths_dataset['final_grade_label'] = maths_dataset.apply(grade_label, axis=1)\n",
    "maths_dataset['final_grade_segment'] = maths_dataset.apply(grade_segment, axis=1)\n",
    "\n",
    "#Now for Portuguese dataset\n",
    "port_dataset['discipline'] = 'portuguese'\n",
    "port_dataset['final_grade_label'] = port_dataset.apply(grade_label, axis=1)\n",
    "port_dataset['final_grade_segment'] = port_dataset.apply(grade_segment, axis=1)"
   ]
  },
  {
   "cell_type": "markdown",
   "metadata": {},
   "source": [
    "### Let's create a database and two tables using SQL (on my AWS machine)"
   ]
  },
  {
   "cell_type": "code",
   "execution_count": 20,
   "metadata": {
    "ExecuteTime": {
     "end_time": "2018-07-29T03:36:21.689887Z",
     "start_time": "2018-07-29T03:36:21.031470Z"
    }
   },
   "outputs": [],
   "source": [
    "# Postgres info to connect\n",
    "\n",
    "connection_args = {\n",
    "    'host': '18.222.192.127', # You'll have to update this to your IP\n",
    "    'user': 'ubuntu',    # username\n",
    "    'dbname': 'student_grades',   # DB that we are connecting to\n",
    "    'port': 5432         # port we opened on AWS\n",
    "}\n",
    "\n",
    "# We will talk about this magic Python trick!\n",
    "connection = pg.connect(**connection_args)"
   ]
  },
  {
   "cell_type": "code",
   "execution_count": 21,
   "metadata": {
    "ExecuteTime": {
     "end_time": "2018-07-29T03:36:21.699531Z",
     "start_time": "2018-07-29T03:36:21.693159Z"
    }
   },
   "outputs": [],
   "source": [
    "create_tb_query_m = \"\"\"CREATE TABLE IF NOT EXISTS maths_grades (\n",
    "                            PrimaryId SERIAL PRIMARY KEY,\n",
    "                            Discipline TEXT,\n",
    "                            Sex TEXT,\n",
    "                            Age INT,\n",
    "                            Address TEXT,\n",
    "                            FamilySize TEXT,\n",
    "                            ParentsCohabStatus TEXT,\n",
    "                            MothersEducation INT,\n",
    "                            FathersEducation INT,\n",
    "                            Guardian TEXT,\n",
    "                            TravelTimeToSchool INT,\n",
    "                            StudyTime INT,\n",
    "                            Failures INT,\n",
    "                            ExtraEducationalSupport TEXT,\n",
    "                            FamilyEducationalSupport TEXT,\n",
    "                            ExtraPaidClasses TEXT,\n",
    "                            ExtraCurricularActivities TEXT,\n",
    "                            WantsToAttendHigherEducation TEXT,\n",
    "                            HasInternetAtHome TEXT,\n",
    "                            IsInRelationship TEXT,\n",
    "                            QualityOfFamilyRelationship INT,\n",
    "                            FreeTime INT,\n",
    "                            GoingOut INT,\n",
    "                            WeekdayAlcoholCons INT,\n",
    "                            WeekendAlcoholCons INT,\n",
    "                            HealthQuality INT,\n",
    "                            Absences INT,\n",
    "                            FinalGrade INT,\n",
    "                            FinalGradeSegments TEXT,\n",
    "                            FinalGradeLabel TEXT)\"\"\"\n"
   ]
  },
  {
   "cell_type": "code",
   "execution_count": 22,
   "metadata": {
    "ExecuteTime": {
     "end_time": "2018-07-29T03:36:21.706588Z",
     "start_time": "2018-07-29T03:36:21.701913Z"
    }
   },
   "outputs": [],
   "source": [
    "create_tb_query_p = \"\"\"CREATE TABLE IF NOT EXISTS portuguese_grades (\n",
    "                            PrimaryId SERIAL PRIMARY KEY,\n",
    "                            Discipline TEXT,\n",
    "                            Sex TEXT,\n",
    "                            Age INT,\n",
    "                            Address TEXT,\n",
    "                            FamilySize TEXT,\n",
    "                            ParentsCohabStatus TEXT,\n",
    "                            MothersEducation INT,\n",
    "                            FathersEducation INT,\n",
    "                            Guardian TEXT,\n",
    "                            TravelTimeToSchool INT,\n",
    "                            StudyTime INT,\n",
    "                            Failures INT,\n",
    "                            ExtraEducationalSupport TEXT,\n",
    "                            FamilyEducationalSupport TEXT,\n",
    "                            ExtraPaidClasses TEXT,\n",
    "                            ExtraCurricularActivities TEXT,\n",
    "                            WantsToAttendHigherEducation TEXT,\n",
    "                            HasInternetAtHome TEXT,\n",
    "                            IsInRelationship TEXT,\n",
    "                            QualityOfFamilyRelationship INT,\n",
    "                            FreeTime INT,\n",
    "                            GoingOut INT,\n",
    "                            WeekdayAlcoholCons INT,\n",
    "                            WeekendAlcoholCons INT,\n",
    "                            HealthQuality INT,\n",
    "                            Absences INT,\n",
    "                            FinalGrade INT,\n",
    "                            FinalGradeSegments TEXT,\n",
    "                            FinalGradeLabel TEXT)\"\"\"\n"
   ]
  },
  {
   "cell_type": "code",
   "execution_count": 23,
   "metadata": {
    "ExecuteTime": {
     "end_time": "2018-07-29T03:36:22.104468Z",
     "start_time": "2018-07-29T03:36:21.708626Z"
    }
   },
   "outputs": [],
   "source": [
    "#tables = ['maths_grades', 'portuguese_grades']\n",
    "\n",
    "# make a cursor \n",
    "cursor = connection.cursor()\n",
    "\n",
    "cursor.execute(create_tb_query_m)\n",
    "cursor.execute(create_tb_query_p)"
   ]
  },
  {
   "cell_type": "code",
   "execution_count": 24,
   "metadata": {
    "ExecuteTime": {
     "end_time": "2018-07-29T03:36:22.225438Z",
     "start_time": "2018-07-29T03:36:22.107080Z"
    }
   },
   "outputs": [],
   "source": [
    "cursor.execute('commit;')"
   ]
  },
  {
   "cell_type": "code",
   "execution_count": 25,
   "metadata": {
    "ExecuteTime": {
     "end_time": "2018-07-29T03:36:22.489015Z",
     "start_time": "2018-07-29T03:36:22.227679Z"
    }
   },
   "outputs": [
    {
     "data": {
      "text/html": [
       "<div>\n",
       "<style scoped>\n",
       "    .dataframe tbody tr th:only-of-type {\n",
       "        vertical-align: middle;\n",
       "    }\n",
       "\n",
       "    .dataframe tbody tr th {\n",
       "        vertical-align: top;\n",
       "    }\n",
       "\n",
       "    .dataframe thead th {\n",
       "        text-align: right;\n",
       "    }\n",
       "</style>\n",
       "<table border=\"1\" class=\"dataframe\">\n",
       "  <thead>\n",
       "    <tr style=\"text-align: right;\">\n",
       "      <th></th>\n",
       "      <th>primaryid</th>\n",
       "      <th>discipline</th>\n",
       "      <th>sex</th>\n",
       "      <th>age</th>\n",
       "      <th>address</th>\n",
       "      <th>familysize</th>\n",
       "      <th>parentscohabstatus</th>\n",
       "      <th>motherseducation</th>\n",
       "      <th>fatherseducation</th>\n",
       "      <th>guardian</th>\n",
       "      <th>...</th>\n",
       "      <th>qualityoffamilyrelationship</th>\n",
       "      <th>freetime</th>\n",
       "      <th>goingout</th>\n",
       "      <th>weekdayalcoholcons</th>\n",
       "      <th>weekendalcoholcons</th>\n",
       "      <th>healthquality</th>\n",
       "      <th>absences</th>\n",
       "      <th>finalgrade</th>\n",
       "      <th>finalgradesegments</th>\n",
       "      <th>finalgradelabel</th>\n",
       "    </tr>\n",
       "  </thead>\n",
       "  <tbody>\n",
       "  </tbody>\n",
       "</table>\n",
       "<p>0 rows × 30 columns</p>\n",
       "</div>"
      ],
      "text/plain": [
       "Empty DataFrame\n",
       "Columns: [primaryid, discipline, sex, age, address, familysize, parentscohabstatus, motherseducation, fatherseducation, guardian, traveltimetoschool, studytime, failures, extraeducationalsupport, familyeducationalsupport, extrapaidclasses, extracurricularactivities, wantstoattendhighereducation, hasinternetathome, isinrelationship, qualityoffamilyrelationship, freetime, goingout, weekdayalcoholcons, weekendalcoholcons, healthquality, absences, finalgrade, finalgradesegments, finalgradelabel]\n",
       "Index: []\n",
       "\n",
       "[0 rows x 30 columns]"
      ]
     },
     "execution_count": 25,
     "metadata": {},
     "output_type": "execute_result"
    }
   ],
   "source": [
    "#Testing queries\n",
    "query_m = \"\"\"SELECT * FROM maths_grades LIMIT 1\"\"\"\n",
    "query_p = \"\"\"SELECT * FROM portuguese_grades LIMIT 1\"\"\"\n",
    "\n",
    "pd_sql.read_sql(query_m, connection)\n",
    "pd_sql.read_sql(query_p, connection)"
   ]
  },
  {
   "cell_type": "markdown",
   "metadata": {},
   "source": [
    "### Now load the data from pandas dataframes into my SQL tables"
   ]
  },
  {
   "cell_type": "code",
   "execution_count": 26,
   "metadata": {
    "ExecuteTime": {
     "end_time": "2018-07-29T03:36:22.516975Z",
     "start_time": "2018-07-29T03:36:22.491254Z"
    }
   },
   "outputs": [],
   "source": [
    "#Load the datasets into CSV (because I can't find an easy way to load from pandas directly to SQL tables, without having to create new tables from scratch)\n",
    "maths_dataset.to_csv('maths_dataset.csv', encoding='utf-8')\n",
    "port_dataset.to_csv('port_dataset.csv', encoding='utf-8')"
   ]
  },
  {
   "cell_type": "code",
   "execution_count": 29,
   "metadata": {
    "ExecuteTime": {
     "end_time": "2018-07-29T03:53:17.484058Z",
     "start_time": "2018-07-29T03:53:17.198353Z"
    }
   },
   "outputs": [
    {
     "ename": "DatabaseError",
     "evalue": "Execution failed on sql 'COPY maths_grades FROM 'maths_dataset.csv' DELIMITER ',' CSV HEADER': could not open file \"maths_dataset.csv\" for reading: No such file or directory\n",
     "output_type": "error",
     "traceback": [
      "\u001b[0;31m---------------------------------------------------------------------------\u001b[0m",
      "\u001b[0;31mOperationalError\u001b[0m                          Traceback (most recent call last)",
      "\u001b[0;32m/anaconda3/lib/python3.6/site-packages/pandas/io/sql.py\u001b[0m in \u001b[0;36mexecute\u001b[0;34m(self, *args, **kwargs)\u001b[0m\n\u001b[1;32m   1408\u001b[0m             \u001b[0;32melse\u001b[0m\u001b[0;34m:\u001b[0m\u001b[0;34m\u001b[0m\u001b[0m\n\u001b[0;32m-> 1409\u001b[0;31m                 \u001b[0mcur\u001b[0m\u001b[0;34m.\u001b[0m\u001b[0mexecute\u001b[0m\u001b[0;34m(\u001b[0m\u001b[0;34m*\u001b[0m\u001b[0margs\u001b[0m\u001b[0;34m)\u001b[0m\u001b[0;34m\u001b[0m\u001b[0m\n\u001b[0m\u001b[1;32m   1410\u001b[0m             \u001b[0;32mreturn\u001b[0m \u001b[0mcur\u001b[0m\u001b[0;34m\u001b[0m\u001b[0m\n",
      "\u001b[0;31mOperationalError\u001b[0m: could not open file \"maths_dataset.csv\" for reading: No such file or directory\n",
      "\nDuring handling of the above exception, another exception occurred:\n",
      "\u001b[0;31mDatabaseError\u001b[0m                             Traceback (most recent call last)",
      "\u001b[0;32m<ipython-input-29-a559673616da>\u001b[0m in \u001b[0;36m<module>\u001b[0;34m()\u001b[0m\n\u001b[1;32m      3\u001b[0m \u001b[0;34m\u001b[0m\u001b[0m\n\u001b[1;32m      4\u001b[0m \u001b[0;31m#Load the information into SQL tables\u001b[0m\u001b[0;34m\u001b[0m\u001b[0;34m\u001b[0m\u001b[0m\n\u001b[0;32m----> 5\u001b[0;31m \u001b[0mpd_sql\u001b[0m\u001b[0;34m.\u001b[0m\u001b[0mread_sql\u001b[0m\u001b[0;34m(\u001b[0m\u001b[0mmaths_copy_query\u001b[0m\u001b[0;34m,\u001b[0m \u001b[0mconnection\u001b[0m\u001b[0;34m)\u001b[0m\u001b[0;34m\u001b[0m\u001b[0m\n\u001b[0m\u001b[1;32m      6\u001b[0m \u001b[0mpd_sql\u001b[0m\u001b[0;34m.\u001b[0m\u001b[0mread_sql\u001b[0m\u001b[0;34m(\u001b[0m\u001b[0mport_copy_query\u001b[0m\u001b[0;34m,\u001b[0m \u001b[0mconnection\u001b[0m\u001b[0;34m)\u001b[0m\u001b[0;34m\u001b[0m\u001b[0m\n",
      "\u001b[0;32m/anaconda3/lib/python3.6/site-packages/pandas/io/sql.py\u001b[0m in \u001b[0;36mread_sql\u001b[0;34m(sql, con, index_col, coerce_float, params, parse_dates, columns, chunksize)\u001b[0m\n\u001b[1;32m    398\u001b[0m             \u001b[0msql\u001b[0m\u001b[0;34m,\u001b[0m \u001b[0mindex_col\u001b[0m\u001b[0;34m=\u001b[0m\u001b[0mindex_col\u001b[0m\u001b[0;34m,\u001b[0m \u001b[0mparams\u001b[0m\u001b[0;34m=\u001b[0m\u001b[0mparams\u001b[0m\u001b[0;34m,\u001b[0m\u001b[0;34m\u001b[0m\u001b[0m\n\u001b[1;32m    399\u001b[0m             \u001b[0mcoerce_float\u001b[0m\u001b[0;34m=\u001b[0m\u001b[0mcoerce_float\u001b[0m\u001b[0;34m,\u001b[0m \u001b[0mparse_dates\u001b[0m\u001b[0;34m=\u001b[0m\u001b[0mparse_dates\u001b[0m\u001b[0;34m,\u001b[0m\u001b[0;34m\u001b[0m\u001b[0m\n\u001b[0;32m--> 400\u001b[0;31m             chunksize=chunksize)\n\u001b[0m\u001b[1;32m    401\u001b[0m \u001b[0;34m\u001b[0m\u001b[0m\n\u001b[1;32m    402\u001b[0m     \u001b[0;32mtry\u001b[0m\u001b[0;34m:\u001b[0m\u001b[0;34m\u001b[0m\u001b[0m\n",
      "\u001b[0;32m/anaconda3/lib/python3.6/site-packages/pandas/io/sql.py\u001b[0m in \u001b[0;36mread_query\u001b[0;34m(self, sql, index_col, coerce_float, params, parse_dates, chunksize)\u001b[0m\n\u001b[1;32m   1442\u001b[0m \u001b[0;34m\u001b[0m\u001b[0m\n\u001b[1;32m   1443\u001b[0m         \u001b[0margs\u001b[0m \u001b[0;34m=\u001b[0m \u001b[0m_convert_params\u001b[0m\u001b[0;34m(\u001b[0m\u001b[0msql\u001b[0m\u001b[0;34m,\u001b[0m \u001b[0mparams\u001b[0m\u001b[0;34m)\u001b[0m\u001b[0;34m\u001b[0m\u001b[0m\n\u001b[0;32m-> 1444\u001b[0;31m         \u001b[0mcursor\u001b[0m \u001b[0;34m=\u001b[0m \u001b[0mself\u001b[0m\u001b[0;34m.\u001b[0m\u001b[0mexecute\u001b[0m\u001b[0;34m(\u001b[0m\u001b[0;34m*\u001b[0m\u001b[0margs\u001b[0m\u001b[0;34m)\u001b[0m\u001b[0;34m\u001b[0m\u001b[0m\n\u001b[0m\u001b[1;32m   1445\u001b[0m         \u001b[0mcolumns\u001b[0m \u001b[0;34m=\u001b[0m \u001b[0;34m[\u001b[0m\u001b[0mcol_desc\u001b[0m\u001b[0;34m[\u001b[0m\u001b[0;36m0\u001b[0m\u001b[0;34m]\u001b[0m \u001b[0;32mfor\u001b[0m \u001b[0mcol_desc\u001b[0m \u001b[0;32min\u001b[0m \u001b[0mcursor\u001b[0m\u001b[0;34m.\u001b[0m\u001b[0mdescription\u001b[0m\u001b[0;34m]\u001b[0m\u001b[0;34m\u001b[0m\u001b[0m\n\u001b[1;32m   1446\u001b[0m \u001b[0;34m\u001b[0m\u001b[0m\n",
      "\u001b[0;32m/anaconda3/lib/python3.6/site-packages/pandas/io/sql.py\u001b[0m in \u001b[0;36mexecute\u001b[0;34m(self, *args, **kwargs)\u001b[0m\n\u001b[1;32m   1419\u001b[0m             ex = DatabaseError(\n\u001b[1;32m   1420\u001b[0m                 \"Execution failed on sql '%s': %s\" % (args[0], exc))\n\u001b[0;32m-> 1421\u001b[0;31m             \u001b[0mraise_with_traceback\u001b[0m\u001b[0;34m(\u001b[0m\u001b[0mex\u001b[0m\u001b[0;34m)\u001b[0m\u001b[0;34m\u001b[0m\u001b[0m\n\u001b[0m\u001b[1;32m   1422\u001b[0m \u001b[0;34m\u001b[0m\u001b[0m\n\u001b[1;32m   1423\u001b[0m     \u001b[0;34m@\u001b[0m\u001b[0mstaticmethod\u001b[0m\u001b[0;34m\u001b[0m\u001b[0m\n",
      "\u001b[0;32m/anaconda3/lib/python3.6/site-packages/pandas/compat/__init__.py\u001b[0m in \u001b[0;36mraise_with_traceback\u001b[0;34m(exc, traceback)\u001b[0m\n\u001b[1;32m    383\u001b[0m         \u001b[0;32mif\u001b[0m \u001b[0mtraceback\u001b[0m \u001b[0;34m==\u001b[0m \u001b[0mEllipsis\u001b[0m\u001b[0;34m:\u001b[0m\u001b[0;34m\u001b[0m\u001b[0m\n\u001b[1;32m    384\u001b[0m             \u001b[0m_\u001b[0m\u001b[0;34m,\u001b[0m \u001b[0m_\u001b[0m\u001b[0;34m,\u001b[0m \u001b[0mtraceback\u001b[0m \u001b[0;34m=\u001b[0m \u001b[0msys\u001b[0m\u001b[0;34m.\u001b[0m\u001b[0mexc_info\u001b[0m\u001b[0;34m(\u001b[0m\u001b[0;34m)\u001b[0m\u001b[0;34m\u001b[0m\u001b[0m\n\u001b[0;32m--> 385\u001b[0;31m         \u001b[0;32mraise\u001b[0m \u001b[0mexc\u001b[0m\u001b[0;34m.\u001b[0m\u001b[0mwith_traceback\u001b[0m\u001b[0;34m(\u001b[0m\u001b[0mtraceback\u001b[0m\u001b[0;34m)\u001b[0m\u001b[0;34m\u001b[0m\u001b[0m\n\u001b[0m\u001b[1;32m    386\u001b[0m \u001b[0;32melse\u001b[0m\u001b[0;34m:\u001b[0m\u001b[0;34m\u001b[0m\u001b[0m\n\u001b[1;32m    387\u001b[0m     \u001b[0;31m# this version of raise is a syntax error in Python 3\u001b[0m\u001b[0;34m\u001b[0m\u001b[0;34m\u001b[0m\u001b[0m\n",
      "\u001b[0;32m/anaconda3/lib/python3.6/site-packages/pandas/io/sql.py\u001b[0m in \u001b[0;36mexecute\u001b[0;34m(self, *args, **kwargs)\u001b[0m\n\u001b[1;32m   1407\u001b[0m                 \u001b[0mcur\u001b[0m\u001b[0;34m.\u001b[0m\u001b[0mexecute\u001b[0m\u001b[0;34m(\u001b[0m\u001b[0;34m*\u001b[0m\u001b[0margs\u001b[0m\u001b[0;34m,\u001b[0m \u001b[0;34m**\u001b[0m\u001b[0mkwargs\u001b[0m\u001b[0;34m)\u001b[0m\u001b[0;34m\u001b[0m\u001b[0m\n\u001b[1;32m   1408\u001b[0m             \u001b[0;32melse\u001b[0m\u001b[0;34m:\u001b[0m\u001b[0;34m\u001b[0m\u001b[0m\n\u001b[0;32m-> 1409\u001b[0;31m                 \u001b[0mcur\u001b[0m\u001b[0;34m.\u001b[0m\u001b[0mexecute\u001b[0m\u001b[0;34m(\u001b[0m\u001b[0;34m*\u001b[0m\u001b[0margs\u001b[0m\u001b[0;34m)\u001b[0m\u001b[0;34m\u001b[0m\u001b[0m\n\u001b[0m\u001b[1;32m   1410\u001b[0m             \u001b[0;32mreturn\u001b[0m \u001b[0mcur\u001b[0m\u001b[0;34m\u001b[0m\u001b[0m\n\u001b[1;32m   1411\u001b[0m         \u001b[0;32mexcept\u001b[0m \u001b[0mException\u001b[0m \u001b[0;32mas\u001b[0m \u001b[0mexc\u001b[0m\u001b[0;34m:\u001b[0m\u001b[0;34m\u001b[0m\u001b[0m\n",
      "\u001b[0;31mDatabaseError\u001b[0m: Execution failed on sql 'COPY maths_grades FROM 'maths_dataset.csv' DELIMITER ',' CSV HEADER': could not open file \"maths_dataset.csv\" for reading: No such file or directory\n"
     ]
    }
   ],
   "source": [
    "maths_copy_query = \"\"\"COPY maths_grades FROM '/Users/auste_m/ds/metis/metisgh/github/metis_projects/Student_Grades_Prediction/maths_dataset.csv' DELIMITER ',' CSV HEADER\"\"\"\n",
    "port_copy_query = \"\"\"COPY portuguese_grades FROM 'port_dataset.csv' DELIMITER ',' CSV HEADER\"\"\"\n",
    "\n",
    "#Load the information into SQL tables\n",
    "pd_sql.read_sql(maths_copy_query, connection)\n",
    "pd_sql.read_sql(port_copy_query, connection)"
   ]
  },
  {
   "cell_type": "code",
   "execution_count": null,
   "metadata": {
    "ExecuteTime": {
     "end_time": "2018-07-29T03:36:22.919167Z",
     "start_time": "2018-07-29T03:36:19.501Z"
    }
   },
   "outputs": [],
   "source": [
    "pd_sql.read_sql(query_m, connection)"
   ]
  },
  {
   "cell_type": "code",
   "execution_count": null,
   "metadata": {
    "ExecuteTime": {
     "end_time": "2018-07-29T03:36:22.920233Z",
     "start_time": "2018-07-29T03:36:19.503Z"
    }
   },
   "outputs": [],
   "source": [
    "pd_sql.read_sql(query_p, connection)"
   ]
  }
 ],
 "metadata": {
  "kernelspec": {
   "display_name": "Python 3",
   "language": "python",
   "name": "python3"
  },
  "language_info": {
   "codemirror_mode": {
    "name": "ipython",
    "version": 3
   },
   "file_extension": ".py",
   "mimetype": "text/x-python",
   "name": "python",
   "nbconvert_exporter": "python",
   "pygments_lexer": "ipython3",
   "version": "3.6.5"
  },
  "varInspector": {
   "cols": {
    "lenName": 16,
    "lenType": 16,
    "lenVar": 40
   },
   "kernels_config": {
    "python": {
     "delete_cmd_postfix": "",
     "delete_cmd_prefix": "del ",
     "library": "var_list.py",
     "varRefreshCmd": "print(var_dic_list())"
    },
    "r": {
     "delete_cmd_postfix": ") ",
     "delete_cmd_prefix": "rm(",
     "library": "var_list.r",
     "varRefreshCmd": "cat(var_dic_list()) "
    }
   },
   "types_to_exclude": [
    "module",
    "function",
    "builtin_function_or_method",
    "instance",
    "_Feature"
   ],
   "window_display": false
  }
 },
 "nbformat": 4,
 "nbformat_minor": 2
}
