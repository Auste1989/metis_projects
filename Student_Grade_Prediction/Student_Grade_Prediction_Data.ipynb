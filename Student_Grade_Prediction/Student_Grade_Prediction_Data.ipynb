{
 "cells": [
  {
   "cell_type": "markdown",
   "metadata": {},
   "source": [
    "## Let's get the data, combine, clean and store it in an SQL table"
   ]
  },
  {
   "cell_type": "markdown",
   "metadata": {},
   "source": [
    "**Trying a fancy, no manual work way**"
   ]
  },
  {
   "cell_type": "code",
   "execution_count": 39,
   "metadata": {
    "ExecuteTime": {
     "end_time": "2018-07-28T19:08:58.156683Z",
     "start_time": "2018-07-28T19:08:58.151703Z"
    }
   },
   "outputs": [
    {
     "data": {
      "text/html": [
       "<style>.container { width:95% !important; }</style>"
      ],
      "text/plain": [
       "<IPython.core.display.HTML object>"
      ]
     },
     "metadata": {},
     "output_type": "display_data"
    }
   ],
   "source": [
    "from IPython.core.display import display, HTML\n",
    "display(HTML(\"<style>.container { width:95% !important; }</style>\"))"
   ]
  },
  {
   "cell_type": "code",
   "execution_count": 83,
   "metadata": {
    "ExecuteTime": {
     "end_time": "2018-07-28T20:24:28.005555Z",
     "start_time": "2018-07-28T20:24:27.992692Z"
    }
   },
   "outputs": [],
   "source": [
    "#Essentials\n",
    "import numpy as np\n",
    "import pandas as pd\n",
    "import psycopg2 as pg\n",
    "import pandas.io.sql as pd_sql\n",
    "import matplotlib.pyplot as plt\n",
    "\n",
    "#Nice to have\n",
    "import seaborn as sns\n",
    "plt.style.use('fivethirtyeight')\n",
    "\n",
    "%matplotlib inline"
   ]
  },
  {
   "cell_type": "code",
   "execution_count": 81,
   "metadata": {
    "ExecuteTime": {
     "end_time": "2018-07-28T20:12:54.240989Z",
     "start_time": "2018-07-28T20:12:54.237720Z"
    }
   },
   "outputs": [],
   "source": [
    "plt.style.use('ggplot')\n",
    "plt.rc('font', size=18)"
   ]
  },
  {
   "cell_type": "code",
   "execution_count": 25,
   "metadata": {
    "ExecuteTime": {
     "end_time": "2018-07-27T01:04:19.184594Z",
     "start_time": "2018-07-27T01:04:19.181328Z"
    }
   },
   "outputs": [],
   "source": [
    "# import requests\n",
    "# from selenium import webdriver\n",
    "# from selenium.webdriver.common.keys import Keys\n",
    "# import time\n",
    "# from bs4 import BeautifulSoup\n",
    "\n",
    "# import os\n",
    "# import zipfile as zf\n"
   ]
  },
  {
   "cell_type": "code",
   "execution_count": 26,
   "metadata": {
    "ExecuteTime": {
     "end_time": "2018-07-27T01:04:19.391904Z",
     "start_time": "2018-07-27T01:04:19.388809Z"
    }
   },
   "outputs": [],
   "source": [
    "# chromedriver = \"/Applications/chromedriver\" # path to the chromedriver executable\n",
    "# os.environ[\"webdriver.chrome.driver\"] = chromedriver\n"
   ]
  },
  {
   "cell_type": "code",
   "execution_count": 27,
   "metadata": {
    "ExecuteTime": {
     "end_time": "2018-07-27T01:04:22.095794Z",
     "start_time": "2018-07-27T01:04:20.037643Z"
    }
   },
   "outputs": [],
   "source": [
    "# my_url = \"http://archive.ics.uci.edu/ml/index.php\"\n",
    "\n",
    "# driver = webdriver.Chrome(chromedriver)\n",
    "# driver.get(my_url)\n"
   ]
  },
  {
   "cell_type": "code",
   "execution_count": 28,
   "metadata": {
    "ExecuteTime": {
     "end_time": "2018-07-27T01:04:39.641812Z",
     "start_time": "2018-07-27T01:04:38.363557Z"
    }
   },
   "outputs": [],
   "source": [
    "# go_to_all_datasets = driver.find_element_by_link_text('View ALL Data Sets')\n",
    "# go_to_all_datasets.click()"
   ]
  },
  {
   "cell_type": "code",
   "execution_count": 29,
   "metadata": {
    "ExecuteTime": {
     "end_time": "2018-07-27T01:04:40.491071Z",
     "start_time": "2018-07-27T01:04:40.019429Z"
    }
   },
   "outputs": [],
   "source": [
    "# go_to_all_datasets = driver.find_element_by_link_text('Student Performance')\n",
    "# go_to_all_datasets.click()"
   ]
  },
  {
   "cell_type": "code",
   "execution_count": 30,
   "metadata": {
    "ExecuteTime": {
     "end_time": "2018-07-27T01:04:43.196314Z",
     "start_time": "2018-07-27T01:04:43.036213Z"
    }
   },
   "outputs": [],
   "source": [
    "# go_to_all_datasets = driver.find_element_by_link_text('Data Folder')\n",
    "# go_to_all_datasets.click()"
   ]
  },
  {
   "cell_type": "code",
   "execution_count": 16,
   "metadata": {
    "ExecuteTime": {
     "end_time": "2018-07-28T19:47:35.066320Z",
     "start_time": "2018-07-28T19:47:35.051646Z"
    }
   },
   "outputs": [],
   "source": [
    "maths_dataset = pd.read_csv('./Student_Grades_dataset/student-mat.csv')\n",
    "port_dataset = pd.read_csv('./Student_Grades_dataset/student-por.csv')"
   ]
  },
  {
   "cell_type": "code",
   "execution_count": 21,
   "metadata": {
    "ExecuteTime": {
     "end_time": "2018-07-28T19:48:17.562564Z",
     "start_time": "2018-07-28T19:48:17.554336Z"
    }
   },
   "outputs": [
    {
     "name": "stdout",
     "output_type": "stream",
     "text": [
      "<class 'pandas.core.frame.DataFrame'>\n",
      "RangeIndex: 395 entries, 0 to 394\n",
      "Data columns (total 33 columns):\n",
      "school        395 non-null object\n",
      "sex           395 non-null object\n",
      "age           395 non-null int64\n",
      "address       395 non-null object\n",
      "famsize       395 non-null object\n",
      "Pstatus       395 non-null object\n",
      "Medu          395 non-null int64\n",
      "Fedu          395 non-null int64\n",
      "Mjob          395 non-null object\n",
      "Fjob          395 non-null object\n",
      "reason        395 non-null object\n",
      "guardian      395 non-null object\n",
      "traveltime    395 non-null int64\n",
      "studytime     395 non-null int64\n",
      "failures      395 non-null int64\n",
      "schoolsup     395 non-null object\n",
      "famsup        395 non-null object\n",
      "paid          395 non-null object\n",
      "activities    395 non-null object\n",
      "nursery       395 non-null object\n",
      "higher        395 non-null object\n",
      "internet      395 non-null object\n",
      "romantic      395 non-null object\n",
      "famrel        395 non-null int64\n",
      "freetime      395 non-null int64\n",
      "goout         395 non-null int64\n",
      "Dalc          395 non-null int64\n",
      "Walc          395 non-null int64\n",
      "health        395 non-null int64\n",
      "absences      395 non-null int64\n",
      "G1            395 non-null int64\n",
      "G2            395 non-null int64\n",
      "G3            395 non-null int64\n",
      "dtypes: int64(16), object(17)\n",
      "memory usage: 101.9+ KB\n",
      "None\n"
     ]
    }
   ],
   "source": [
    "print(maths_dataset.info())"
   ]
  },
  {
   "cell_type": "code",
   "execution_count": 22,
   "metadata": {
    "ExecuteTime": {
     "end_time": "2018-07-28T19:48:22.112200Z",
     "start_time": "2018-07-28T19:48:22.103036Z"
    }
   },
   "outputs": [
    {
     "name": "stdout",
     "output_type": "stream",
     "text": [
      "<class 'pandas.core.frame.DataFrame'>\n",
      "RangeIndex: 649 entries, 0 to 648\n",
      "Data columns (total 33 columns):\n",
      "school        649 non-null object\n",
      "sex           649 non-null object\n",
      "age           649 non-null int64\n",
      "address       649 non-null object\n",
      "famsize       649 non-null object\n",
      "Pstatus       649 non-null object\n",
      "Medu          649 non-null int64\n",
      "Fedu          649 non-null int64\n",
      "Mjob          649 non-null object\n",
      "Fjob          649 non-null object\n",
      "reason        649 non-null object\n",
      "guardian      649 non-null object\n",
      "traveltime    649 non-null int64\n",
      "studytime     649 non-null int64\n",
      "failures      649 non-null int64\n",
      "schoolsup     649 non-null object\n",
      "famsup        649 non-null object\n",
      "paid          649 non-null object\n",
      "activities    649 non-null object\n",
      "nursery       649 non-null object\n",
      "higher        649 non-null object\n",
      "internet      649 non-null object\n",
      "romantic      649 non-null object\n",
      "famrel        649 non-null int64\n",
      "freetime      649 non-null int64\n",
      "goout         649 non-null int64\n",
      "Dalc          649 non-null int64\n",
      "Walc          649 non-null int64\n",
      "health        649 non-null int64\n",
      "absences      649 non-null int64\n",
      "G1            649 non-null int64\n",
      "G2            649 non-null int64\n",
      "G3            649 non-null int64\n",
      "dtypes: int64(16), object(17)\n",
      "memory usage: 167.4+ KB\n"
     ]
    }
   ],
   "source": [
    "port_dataset.info()"
   ]
  },
  {
   "cell_type": "code",
   "execution_count": 77,
   "metadata": {
    "ExecuteTime": {
     "end_time": "2018-07-28T20:07:59.459223Z",
     "start_time": "2018-07-28T20:07:59.441600Z"
    }
   },
   "outputs": [
    {
     "name": "stdout",
     "output_type": "stream",
     "text": [
      "Gender proportions in the Maths dataset:\n",
      "F    0.53\n",
      "M    0.47\n",
      "Name: sex, dtype: float64 \n",
      "\n",
      "Age proportions in the Maths dataset:\n",
      "16    0.26\n",
      "17    0.25\n",
      "18    0.21\n",
      "15    0.21\n",
      "19    0.06\n",
      "20    0.01\n",
      "22    0.00\n",
      "21    0.00\n",
      "Name: age, dtype: float64 \n",
      "\n",
      "School proportions in the Maths dataset:\n",
      "GP    0.88\n",
      "MS    0.12\n",
      "Name: school, dtype: float64 \n",
      "\n",
      "Address proportions in the Maths dataset:\n",
      "U    0.78\n",
      "R    0.22\n",
      "Name: address, dtype: float64 \n",
      "\n",
      "Relationship proportions in the Maths dataset:\n",
      "no     0.67\n",
      "yes    0.33\n",
      "Name: romantic, dtype: float64 \n",
      "\n",
      "Weekend alcohol consumption group proportions in the Maths dataset:\n",
      "1    0.38\n",
      "2    0.22\n",
      "3    0.20\n",
      "4    0.13\n",
      "5    0.07\n",
      "Name: Walc, dtype: float64 \n",
      "\n",
      "Weekday alcohol consumption group proportions in the Maths dataset:\n",
      "1    0.70\n",
      "2    0.19\n",
      "3    0.07\n",
      "5    0.02\n",
      "4    0.02\n",
      "Name: Dalc, dtype: float64 \n",
      "\n"
     ]
    }
   ],
   "source": [
    "print('Gender proportions in the Maths dataset:\\n'+ str(round(maths_dataset['sex'].value_counts(normalize = True), 2)), '\\n')\n",
    "print('Age proportions in the Maths dataset:\\n'+ str(round(maths_dataset['age'].value_counts(normalize = True), 2)), '\\n')\n",
    "print('School proportions in the Maths dataset:\\n'+ str(round(maths_dataset['school'].value_counts(normalize = True), 2)), '\\n')\n",
    "print('Address proportions in the Maths dataset:\\n'+ str(round(maths_dataset['address'].value_counts(normalize = True), 2)), '\\n')\n",
    "print('Relationship proportions in the Maths dataset:\\n'+ str(round(maths_dataset['romantic'].value_counts(normalize = True), 2)), '\\n')\n",
    "print('Weekend alcohol consumption group proportions in the Maths dataset:\\n'+ str(round(maths_dataset['Walc'].value_counts(normalize = True), 2)), '\\n')\n",
    "print('Weekday alcohol consumption group proportions in the Maths dataset:\\n'+ str(round(maths_dataset['Dalc'].value_counts(normalize = True), 2)), '\\n')\n"
   ]
  },
  {
   "cell_type": "code",
   "execution_count": 79,
   "metadata": {
    "ExecuteTime": {
     "end_time": "2018-07-28T20:08:35.094289Z",
     "start_time": "2018-07-28T20:08:34.920214Z"
    }
   },
   "outputs": [
    {
     "data": {
      "image/png": "[encoded data removed]",
      "text/plain": [
       "<matplotlib.figure.Figure at 0x1a1f462080>"
      ]
     },
     "metadata": {},
     "output_type": "display_data"
    }
   ],
   "source": [
    "fig = plt.figure(dpi=100)\n",
    "maths_dataset['G3'].hist(color='c')\n",
    "plt.title('Final Maths Grade distribution')\n",
    "plt.xlabel('Grade')\n",
    "plt.ylabel('Frequency');"
   ]
  },
  {
   "cell_type": "code",
   "execution_count": 78,
   "metadata": {
    "ExecuteTime": {
     "end_time": "2018-07-28T20:08:18.407621Z",
     "start_time": "2018-07-28T20:08:18.390202Z"
    }
   },
   "outputs": [
    {
     "name": "stdout",
     "output_type": "stream",
     "text": [
      "Gender proportions in the Portuguese dataset:\n",
      "F    0.59\n",
      "M    0.41\n",
      "Name: sex, dtype: float64 \n",
      "\n",
      "Age proportions in the Portuguese dataset:\n",
      "17    0.28\n",
      "16    0.27\n",
      "18    0.22\n",
      "15    0.17\n",
      "19    0.05\n",
      "20    0.01\n",
      "21    0.00\n",
      "22    0.00\n",
      "Name: age, dtype: float64 \n",
      "\n",
      "School proportions in the Portuguese dataset:\n",
      "GP    0.65\n",
      "MS    0.35\n",
      "Name: school, dtype: float64 \n",
      "\n",
      "Address proportions in the Portuguese dataset:\n",
      "U    0.7\n",
      "R    0.3\n",
      "Name: address, dtype: float64 \n",
      "\n",
      "Relationship proportions in the Portuguese dataset:\n",
      "no     0.63\n",
      "yes    0.37\n",
      "Name: romantic, dtype: float64 \n",
      "\n",
      "Weekend alcohol consumption group proportions in the Portuguese dataset:\n",
      "1    0.38\n",
      "2    0.23\n",
      "3    0.18\n",
      "4    0.13\n",
      "5    0.07\n",
      "Name: Walc, dtype: float64 \n",
      "\n",
      "Weekday alcohol consumption group proportions in the Portuguese dataset:\n",
      "1    0.69\n",
      "2    0.19\n",
      "3    0.07\n",
      "5    0.03\n",
      "4    0.03\n",
      "Name: Dalc, dtype: float64 \n",
      "\n"
     ]
    }
   ],
   "source": [
    "print('Gender proportions in the Portuguese dataset:\\n'+ str(round(port_dataset['sex'].value_counts(normalize = True), 2)), '\\n')\n",
    "print('Age proportions in the Portuguese dataset:\\n'+ str(round(port_dataset['age'].value_counts(normalize = True), 2)), '\\n')\n",
    "print('School proportions in the Portuguese dataset:\\n'+ str(round(port_dataset['school'].value_counts(normalize = True), 2)), '\\n')\n",
    "print('Address proportions in the Portuguese dataset:\\n'+ str(round(port_dataset['address'].value_counts(normalize = True), 2)), '\\n')\n",
    "print('Relationship proportions in the Portuguese dataset:\\n'+ str(round(port_dataset['romantic'].value_counts(normalize = True), 2)), '\\n')\n",
    "print('Weekend alcohol consumption group proportions in the Portuguese dataset:\\n'+ str(round(port_dataset['Walc'].value_counts(normalize = True), 2)), '\\n')\n",
    "print('Weekday alcohol consumption group proportions in the Portuguese dataset:\\n'+ str(round(port_dataset['Dalc'].value_counts(normalize = True), 2)), '\\n')"
   ]
  },
  {
   "cell_type": "code",
   "execution_count": 80,
   "metadata": {
    "ExecuteTime": {
     "end_time": "2018-07-28T20:08:42.504204Z",
     "start_time": "2018-07-28T20:08:42.327797Z"
    }
   },
   "outputs": [
    {
     "data": {
      "image/png": "[encoded data removed]",
      "text/plain": [
       "<matplotlib.figure.Figure at 0x1a1f3e1080>"
      ]
     },
     "metadata": {},
     "output_type": "display_data"
    }
   ],
   "source": [
    "fig = plt.figure(dpi=100)\n",
    "port_dataset['G3'].hist(color='c')\n",
    "plt.title('Final Portuguese Grade distribution')\n",
    "plt.xlabel('Grade')\n",
    "plt.ylabel('Frequency');"
   ]
  },
  {
   "cell_type": "markdown",
   "metadata": {},
   "source": [
    "### Let's create a database and two tables using SQL (on my AWS machine)"
   ]
  },
  {
   "cell_type": "code",
   "execution_count": 86,
   "metadata": {
    "ExecuteTime": {
     "end_time": "2018-07-29T01:25:16.422715Z",
     "start_time": "2018-07-29T01:25:15.809199Z"
    }
   },
   "outputs": [],
   "source": [
    "# Postgres info to connect\n",
    "\n",
    "connection_args = {\n",
    "    'host': '18.222.192.127', # You'll have to update this to your IP\n",
    "    'user': 'ubuntu',    # username\n",
    "    'dbname': 'student_grades',   # DB that we are connecting to\n",
    "    'port': 5432         # port we opened on AWS\n",
    "}\n",
    "\n",
    "# We will talk about this magic Python trick!\n",
    "connection = pg.connect(**connection_args)"
   ]
  },
  {
   "cell_type": "code",
   "execution_count": 165,
   "metadata": {
    "ExecuteTime": {
     "end_time": "2018-07-29T02:22:28.812734Z",
     "start_time": "2018-07-29T02:22:28.806884Z"
    }
   },
   "outputs": [],
   "source": [
    "create_tb_query_m = \"\"\"CREATE TABLE IF NOT EXISTS maths_grades (\n",
    "                            PrimaryId SERIAL PRIMARY KEY,\n",
    "                            Discipline TEXT,\n",
    "                            Sex TEXT,\n",
    "                            Age INT,\n",
    "                            Address TEXT,\n",
    "                            FamilySize TEXT,\n",
    "                            ParentStatus TEXT,\n",
    "                            MothersEducation INT,\n",
    "                            FathersEducation INT,\n",
    "                            MothersJob TEXT,\n",
    "                            FathersJob TEXT,\n",
    "                            Guardian TEXT,\n",
    "                            TravelTimeToSchool INT,\n",
    "                            StudyTime INT,\n",
    "                            Failures INT,\n",
    "                            ExtraEducationalSupport TEXT,\n",
    "                            FamilyEducationalSupport TEXT,\n",
    "                            ExtraPaidClasses TEXT,\n",
    "                            ExtraCurricularActivities TEXT,\n",
    "                            WantsToAttendHigherEducation TEXT,\n",
    "                            HasInternetAtHome TEXT,\n",
    "                            IsInRelationship TEXT,\n",
    "                            QualityOfFamilyRelationship INT,\n",
    "                            FreeTime INT,\n",
    "                            GoingOut INT,\n",
    "                            WeekdayAlcoholCons INT,\n",
    "                            WeekendAlcoholCons INT,\n",
    "                            HealthQuality INT,\n",
    "                            Absences INT,\n",
    "                            FinalGrade INT,\n",
    "                            FinalLabel TEXT)\"\"\"\n"
   ]
  },
  {
   "cell_type": "code",
   "execution_count": 166,
   "metadata": {
    "ExecuteTime": {
     "end_time": "2018-07-29T02:22:29.214155Z",
     "start_time": "2018-07-29T02:22:29.208971Z"
    }
   },
   "outputs": [],
   "source": [
    "create_tb_query_p = \"\"\"CREATE TABLE IF NOT EXISTS port_grades (\n",
    "                            PrimaryId SERIAL PRIMARY KEY,\n",
    "                            Discipline TEXT,\n",
    "                            Sex TEXT,\n",
    "                            Age INT,\n",
    "                            Address TEXT,\n",
    "                            FamilySize TEXT,\n",
    "                            ParentStatus TEXT,\n",
    "                            MothersEducation INT,\n",
    "                            FathersEducation INT,\n",
    "                            MothersJob TEXT,\n",
    "                            FathersJob TEXT,\n",
    "                            Guardian TEXT,\n",
    "                            TravelTimeToSchool INT,\n",
    "                            StudyTime INT,\n",
    "                            Failures INT,\n",
    "                            ExtraEducationalSupport TEXT,\n",
    "                            FamilyEducationalSupport TEXT,\n",
    "                            ExtraPaidClasses TEXT,\n",
    "                            ExtraCurricularActivities TEXT,\n",
    "                            WantsToAttendHigherEducation TEXT,\n",
    "                            HasInternetAtHome TEXT,\n",
    "                            IsInRelationship TEXT,\n",
    "                            QualityOfFamilyRelationship INT,\n",
    "                            FreeTime INT,\n",
    "                            GoingOut INT,\n",
    "                            WeekdayAlcoholCons INT,\n",
    "                            WeekendAlcoholCons INT,\n",
    "                            HealthQuality INT,\n",
    "                            Absences INT,\n",
    "                            FinalGrade INT,\n",
    "                            FinalLabel TEXT)\"\"\"\n"
   ]
  },
  {
   "cell_type": "code",
   "execution_count": 167,
   "metadata": {
    "ExecuteTime": {
     "end_time": "2018-07-29T02:22:30.005762Z",
     "start_time": "2018-07-29T02:22:29.628694Z"
    }
   },
   "outputs": [],
   "source": [
    "tables = ['maths_grades', 'port_grades']\n",
    "\n",
    "# make a cursor \n",
    "cursor = connection.cursor()\n",
    "\n",
    "cursor.execute(create_tb_query_m)\n",
    "cursor.execute(create_tb_query_p)"
   ]
  },
  {
   "cell_type": "code",
   "execution_count": 168,
   "metadata": {
    "ExecuteTime": {
     "end_time": "2018-07-29T02:22:30.202525Z",
     "start_time": "2018-07-29T02:22:30.087964Z"
    }
   },
   "outputs": [],
   "source": [
    "cursor.execute('commit;')"
   ]
  },
  {
   "cell_type": "code",
   "execution_count": 169,
   "metadata": {
    "ExecuteTime": {
     "end_time": "2018-07-29T02:22:30.465259Z",
     "start_time": "2018-07-29T02:22:30.363683Z"
    }
   },
   "outputs": [
    {
     "data": {
      "text/html": [
       "<div>\n",
       "<style scoped>\n",
       "    .dataframe tbody tr th:only-of-type {\n",
       "        vertical-align: middle;\n",
       "    }\n",
       "\n",
       "    .dataframe tbody tr th {\n",
       "        vertical-align: top;\n",
       "    }\n",
       "\n",
       "    .dataframe thead th {\n",
       "        text-align: right;\n",
       "    }\n",
       "</style>\n",
       "<table border=\"1\" class=\"dataframe\">\n",
       "  <thead>\n",
       "    <tr style=\"text-align: right;\">\n",
       "      <th></th>\n",
       "      <th>primaryid</th>\n",
       "      <th>discipline</th>\n",
       "      <th>sex</th>\n",
       "      <th>age</th>\n",
       "      <th>address</th>\n",
       "      <th>familysize</th>\n",
       "      <th>parentstatus</th>\n",
       "      <th>motherseducation</th>\n",
       "      <th>fatherseducation</th>\n",
       "      <th>mothersjob</th>\n",
       "      <th>...</th>\n",
       "      <th>isinrelationship</th>\n",
       "      <th>qualityoffamilyrelationship</th>\n",
       "      <th>freetime</th>\n",
       "      <th>goingout</th>\n",
       "      <th>weekdayalcoholcons</th>\n",
       "      <th>weekendalcoholcons</th>\n",
       "      <th>healthquality</th>\n",
       "      <th>absences</th>\n",
       "      <th>finalgrade</th>\n",
       "      <th>finallabel</th>\n",
       "    </tr>\n",
       "  </thead>\n",
       "  <tbody>\n",
       "  </tbody>\n",
       "</table>\n",
       "<p>0 rows × 31 columns</p>\n",
       "</div>"
      ],
      "text/plain": [
       "Empty DataFrame\n",
       "Columns: [primaryid, discipline, sex, age, address, familysize, parentstatus, motherseducation, fatherseducation, mothersjob, fathersjob, guardian, traveltimetoschool, studytime, failures, extraeducationalsupport, familyeducationalsupport, extrapaidclasses, extracurricularactivities, wantstoattendhighereducation, hasinternetathome, isinrelationship, qualityoffamilyrelationship, freetime, goingout, weekdayalcoholcons, weekendalcoholcons, healthquality, absences, finalgrade, finallabel]\n",
       "Index: []\n",
       "\n",
       "[0 rows x 31 columns]"
      ]
     },
     "execution_count": 169,
     "metadata": {},
     "output_type": "execute_result"
    }
   ],
   "source": [
    "query_m = \"\"\"SELECT * FROM maths_grades LIMIT 1\"\"\"\n",
    "query_p = \"\"\"SELECT * FROM port_grades LIMIT 1\"\"\"\n",
    "\n",
    "pd_sql.read_sql(query_m, connection)"
   ]
  },
  {
   "cell_type": "code",
   "execution_count": 170,
   "metadata": {
    "ExecuteTime": {
     "end_time": "2018-07-29T02:22:31.036400Z",
     "start_time": "2018-07-29T02:22:30.910433Z"
    }
   },
   "outputs": [
    {
     "data": {
      "text/html": [
       "<div>\n",
       "<style scoped>\n",
       "    .dataframe tbody tr th:only-of-type {\n",
       "        vertical-align: middle;\n",
       "    }\n",
       "\n",
       "    .dataframe tbody tr th {\n",
       "        vertical-align: top;\n",
       "    }\n",
       "\n",
       "    .dataframe thead th {\n",
       "        text-align: right;\n",
       "    }\n",
       "</style>\n",
       "<table border=\"1\" class=\"dataframe\">\n",
       "  <thead>\n",
       "    <tr style=\"text-align: right;\">\n",
       "      <th></th>\n",
       "      <th>primaryid</th>\n",
       "      <th>discipline</th>\n",
       "      <th>sex</th>\n",
       "      <th>age</th>\n",
       "      <th>address</th>\n",
       "      <th>familysize</th>\n",
       "      <th>parentstatus</th>\n",
       "      <th>motherseducation</th>\n",
       "      <th>fatherseducation</th>\n",
       "      <th>mothersjob</th>\n",
       "      <th>...</th>\n",
       "      <th>isinrelationship</th>\n",
       "      <th>qualityoffamilyrelationship</th>\n",
       "      <th>freetime</th>\n",
       "      <th>goingout</th>\n",
       "      <th>weekdayalcoholcons</th>\n",
       "      <th>weekendalcoholcons</th>\n",
       "      <th>healthquality</th>\n",
       "      <th>absences</th>\n",
       "      <th>finalgrade</th>\n",
       "      <th>finallabel</th>\n",
       "    </tr>\n",
       "  </thead>\n",
       "  <tbody>\n",
       "  </tbody>\n",
       "</table>\n",
       "<p>0 rows × 31 columns</p>\n",
       "</div>"
      ],
      "text/plain": [
       "Empty DataFrame\n",
       "Columns: [primaryid, discipline, sex, age, address, familysize, parentstatus, motherseducation, fatherseducation, mothersjob, fathersjob, guardian, traveltimetoschool, studytime, failures, extraeducationalsupport, familyeducationalsupport, extrapaidclasses, extracurricularactivities, wantstoattendhighereducation, hasinternetathome, isinrelationship, qualityoffamilyrelationship, freetime, goingout, weekdayalcoholcons, weekendalcoholcons, healthquality, absences, finalgrade, finallabel]\n",
       "Index: []\n",
       "\n",
       "[0 rows x 31 columns]"
      ]
     },
     "execution_count": 170,
     "metadata": {},
     "output_type": "execute_result"
    }
   ],
   "source": [
    "pd_sql.read_sql(query_p, connection)"
   ]
  },
  {
   "cell_type": "code",
   "execution_count": null,
   "metadata": {},
   "outputs": [],
   "source": []
  }
 ],
 "metadata": {
  "kernelspec": {
   "display_name": "Python 3",
   "language": "python",
   "name": "python3"
  },
  "language_info": {
   "codemirror_mode": {
    "name": "ipython",
    "version": 3
   },
   "file_extension": ".py",
   "mimetype": "text/x-python",
   "name": "python",
   "nbconvert_exporter": "python",
   "pygments_lexer": "ipython3",
   "version": "3.6.5"
  },
  "varInspector": {
   "cols": {
    "lenName": 16,
    "lenType": 16,
    "lenVar": 40
   },
   "kernels_config": {
    "python": {
     "delete_cmd_postfix": "",
     "delete_cmd_prefix": "del ",
     "library": "var_list.py",
     "varRefreshCmd": "print(var_dic_list())"
    },
    "r": {
     "delete_cmd_postfix": ") ",
     "delete_cmd_prefix": "rm(",
     "library": "var_list.r",
     "varRefreshCmd": "cat(var_dic_list()) "
    }
   },
   "types_to_exclude": [
    "module",
    "function",
    "builtin_function_or_method",
    "instance",
    "_Feature"
   ],
   "window_display": false
  }
 },
 "nbformat": 4,
 "nbformat_minor": 2
}
