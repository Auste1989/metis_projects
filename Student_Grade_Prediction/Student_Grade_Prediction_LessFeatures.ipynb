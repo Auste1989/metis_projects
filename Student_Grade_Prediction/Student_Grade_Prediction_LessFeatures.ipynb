{
 "cells": [
  {
   "cell_type": "code",
   "execution_count": 50,
   "metadata": {
    "ExecuteTime": {
     "end_time": "2018-08-06T22:01:51.424056Z",
     "start_time": "2018-08-06T22:01:51.419487Z"
    }
   },
   "outputs": [
    {
     "data": {
      "text/html": [
       "<style>.container { width:95% !important; }</style>"
      ],
      "text/plain": [
       "<IPython.core.display.HTML object>"
      ]
     },
     "metadata": {},
     "output_type": "display_data"
    }
   ],
   "source": [
    "from IPython.core.display import display, HTML\n",
    "display(HTML(\"<style>.container { width:95% !important; }</style>\"))"
   ]
  },
  {
   "cell_type": "code",
   "execution_count": 51,
   "metadata": {
    "ExecuteTime": {
     "end_time": "2018-08-06T22:01:51.436491Z",
     "start_time": "2018-08-06T22:01:51.426126Z"
    }
   },
   "outputs": [],
   "source": [
    "#Essentials\n",
    "import numpy as np\n",
    "import psycopg2 as pg\n",
    "import pandas as pd\n",
    "import pandas.io.sql as pd_sql\n",
    "import matplotlib.pyplot as plt\n",
    "\n",
    "#sklearn \"magic\"\n",
    "from sklearn.model_selection import train_test_split\n",
    "from sklearn.neighbors import KNeighborsClassifier\n",
    "from sklearn.linear_model import LogisticRegression\n",
    "from sklearn.ensemble import RandomForestClassifier\n",
    "from sklearn.naive_bayes import GaussianNB, BernoulliNB\n",
    "from sklearn.linear_model import SGDClassifier\n",
    "from sklearn.model_selection import GridSearchCV\n",
    "from sklearn.model_selection import KFold\n",
    "from sklearn.model_selection import cross_val_score\n",
    "from sklearn.svm import LinearSVC, SVC\n",
    "from sklearn.pipeline import make_pipeline\n",
    "\n",
    "#Oversampling\n",
    "from sklearn.datasets import make_classification\n",
    "from imblearn.over_sampling import RandomOverSampler\n",
    "from imblearn.over_sampling import SMOTE\n",
    "from imblearn.over_sampling import ADASYN\n",
    "\n",
    "\n",
    "#Not sure about these ones yet\n",
    "from sklearn.datasets import make_classification\n",
    "from xgboost import XGBClassifier\n",
    "\n",
    "#Different scores\n",
    "from sklearn.metrics import precision_score, recall_score, accuracy_score, roc_auc_score, confusion_matrix\n",
    "from sklearn.metrics import precision_recall_curve, f1_score, fbeta_score, roc_curve\n",
    "\n",
    "#Nice to have\n",
    "from mlxtend.plotting import plot_decision_regions, plot_confusion_matrix\n",
    "import seaborn as sns\n",
    "plt.style.use('fivethirtyeight')\n",
    "from sklearn import tree\n",
    "from IPython.display import SVG\n",
    "from graphviz import Source\n",
    "from IPython.display import display \n",
    "from ipywidgets import interactive, FloatSlider\n",
    "from collections import Counter\n",
    "#interactive(lambda threshold: make_confusion_matrix(lm, threshold), threshold=(0.0,1.0,0.02))\n",
    "\n",
    "#Let there be colours!\n",
    "from termcolor import colored\n",
    "\n",
    "%matplotlib inline"
   ]
  },
  {
   "cell_type": "code",
   "execution_count": 52,
   "metadata": {
    "ExecuteTime": {
     "end_time": "2018-08-06T22:01:51.443664Z",
     "start_time": "2018-08-06T22:01:51.438354Z"
    }
   },
   "outputs": [],
   "source": [
    "# Helper function for printing confusion matrices (see: https://gist.github.com/shaypal5/94c53d765083101efc0240d776a23823)\n",
    "def print_confusion_matrix(confusion_matrix, class_names, figsize = (10,7), fontsize=18):\n",
    "    \"\"\"Prints a confusion matrix, as returned by sklearn.metrics.confusion_matrix, as a heatmap.\n",
    "    \n",
    "    Arguments\n",
    "    ---------\n",
    "    confusion_matrix: numpy.ndarray\n",
    "        The numpy.ndarray object returned from a call to sklearn.metrics.confusion_matrix. \n",
    "        Similarly constructed ndarrays can also be used.\n",
    "    class_names: list\n",
    "        An ordered list of class names, in the order they index the given confusion matrix.\n",
    "    figsize: tuple\n",
    "        A 2-long tuple, the first value determining the horizontal size of the ouputted figure,\n",
    "        the second determining the vertical size. Defaults to (10,7).\n",
    "    fontsize: int\n",
    "        Font size for axes labels. Defaults to 14.\n",
    "        \n",
    "    Returns\n",
    "    -------\n",
    "    matplotlib.figure.Figure\n",
    "        The resulting confusion matrix figure\n",
    "    \"\"\"\n",
    "    df_cm = pd.DataFrame(\n",
    "        confusion_matrix, index=class_names, columns=class_names, \n",
    "    )\n",
    "    fig = plt.figure(figsize=figsize)\n",
    "    try:\n",
    "        heatmap = sns.heatmap(df_cm, annot=True, fmt=\"d\")\n",
    "    except ValueError:\n",
    "        raise ValueError(\"Confusion matrix values must be integers.\")\n",
    "    heatmap.yaxis.set_ticklabels(heatmap.yaxis.get_ticklabels(), rotation=0, ha='right', fontsize=fontsize)\n",
    "    heatmap.xaxis.set_ticklabels(heatmap.xaxis.get_ticklabels(), rotation=45, ha='right', fontsize=fontsize)\n",
    "    plt.ylabel('True label')\n",
    "    plt.xlabel('Predicted label')\n",
    "    return fig"
   ]
  },
  {
   "cell_type": "code",
   "execution_count": 53,
   "metadata": {
    "ExecuteTime": {
     "end_time": "2018-08-06T22:01:51.906409Z",
     "start_time": "2018-08-06T22:01:51.445531Z"
    }
   },
   "outputs": [],
   "source": [
    "# Postgres info to connect\n",
    "\n",
    "connection_args = {\n",
    "    'host': '18.222.192.127', \n",
    "    'user': 'ubuntu',    # username\n",
    "    'dbname': 'student_grades',   # DB that we are connecting to\n",
    "    'port': 5432         # port we opened on AWS\n",
    "}\n",
    "\n",
    "# We will talk about this magic Python trick!\n",
    "connection = pg.connect(**connection_args)"
   ]
  },
  {
   "cell_type": "code",
   "execution_count": 54,
   "metadata": {
    "ExecuteTime": {
     "end_time": "2018-08-06T22:01:51.913592Z",
     "start_time": "2018-08-06T22:01:51.910212Z"
    }
   },
   "outputs": [],
   "source": [
    "# failures: 0.205\n",
    "# discipline: 0.116\n",
    "# absences: 0.081\n",
    "# higher: 0.052\n",
    "# goout: 0.051\n",
    "# Fedu: 0.049\n",
    "# Medu: 0.043\n",
    "# studytime: 0.037\n",
    "# famrel: 0.035\n",
    "# Walc: 0.035\n",
    "# age: 0.034\n",
    "# freetime: 0.032\n",
    "# paid: 0.029\n",
    "# health: 0.029\n",
    "# address: 0.025"
   ]
  },
  {
   "cell_type": "code",
   "execution_count": 55,
   "metadata": {
    "ExecuteTime": {
     "end_time": "2018-08-06T22:01:52.377178Z",
     "start_time": "2018-08-06T22:01:51.915908Z"
    }
   },
   "outputs": [],
   "source": [
    "### Let's combine the two SQL tables into one\n",
    "\n",
    "append_query = \"\"\"SELECT *\n",
    "                    \n",
    "                    FROM maths_grades\n",
    "                    WHERE age BETWEEN 15 AND 19\n",
    "\n",
    "                    UNION ALL\n",
    "\n",
    "                    SELECT *\n",
    "                    \n",
    "                    FROM portuguese_grades\n",
    "                    WHERE age BETWEEN 15 AND 19\n",
    "                    \"\"\"\n",
    "\n",
    "grades = pd_sql.read_sql(append_query, connection)"
   ]
  },
  {
   "cell_type": "code",
   "execution_count": 56,
   "metadata": {
    "ExecuteTime": {
     "end_time": "2018-08-06T22:01:52.402780Z",
     "start_time": "2018-08-06T22:01:52.379180Z"
    }
   },
   "outputs": [
    {
     "data": {
      "text/html": [
       "<div>\n",
       "<style scoped>\n",
       "    .dataframe tbody tr th:only-of-type {\n",
       "        vertical-align: middle;\n",
       "    }\n",
       "\n",
       "    .dataframe tbody tr th {\n",
       "        vertical-align: top;\n",
       "    }\n",
       "\n",
       "    .dataframe thead th {\n",
       "        text-align: right;\n",
       "    }\n",
       "</style>\n",
       "<table border=\"1\" class=\"dataframe\">\n",
       "  <thead>\n",
       "    <tr style=\"text-align: right;\">\n",
       "      <th></th>\n",
       "      <th>sex</th>\n",
       "      <th>age</th>\n",
       "      <th>address</th>\n",
       "      <th>famsize</th>\n",
       "      <th>Pstatus</th>\n",
       "      <th>Medu</th>\n",
       "      <th>Fedu</th>\n",
       "      <th>guardian</th>\n",
       "      <th>traveltime</th>\n",
       "      <th>studytime</th>\n",
       "      <th>...</th>\n",
       "      <th>freetime</th>\n",
       "      <th>goout</th>\n",
       "      <th>Dalc</th>\n",
       "      <th>Walc</th>\n",
       "      <th>health</th>\n",
       "      <th>absences</th>\n",
       "      <th>G3</th>\n",
       "      <th>discipline</th>\n",
       "      <th>final_grade_label</th>\n",
       "      <th>final_grade_segment</th>\n",
       "    </tr>\n",
       "  </thead>\n",
       "  <tbody>\n",
       "    <tr>\n",
       "      <th>0</th>\n",
       "      <td>F</td>\n",
       "      <td>18</td>\n",
       "      <td>U</td>\n",
       "      <td>GT3</td>\n",
       "      <td>A</td>\n",
       "      <td>4</td>\n",
       "      <td>4</td>\n",
       "      <td>mother</td>\n",
       "      <td>2</td>\n",
       "      <td>2</td>\n",
       "      <td>...</td>\n",
       "      <td>3</td>\n",
       "      <td>4</td>\n",
       "      <td>1</td>\n",
       "      <td>1</td>\n",
       "      <td>3</td>\n",
       "      <td>6</td>\n",
       "      <td>6</td>\n",
       "      <td>maths</td>\n",
       "      <td>Fail</td>\n",
       "      <td>Fail</td>\n",
       "    </tr>\n",
       "    <tr>\n",
       "      <th>1</th>\n",
       "      <td>F</td>\n",
       "      <td>17</td>\n",
       "      <td>U</td>\n",
       "      <td>GT3</td>\n",
       "      <td>T</td>\n",
       "      <td>1</td>\n",
       "      <td>1</td>\n",
       "      <td>father</td>\n",
       "      <td>1</td>\n",
       "      <td>2</td>\n",
       "      <td>...</td>\n",
       "      <td>3</td>\n",
       "      <td>3</td>\n",
       "      <td>1</td>\n",
       "      <td>1</td>\n",
       "      <td>3</td>\n",
       "      <td>4</td>\n",
       "      <td>6</td>\n",
       "      <td>maths</td>\n",
       "      <td>Fail</td>\n",
       "      <td>Fail</td>\n",
       "    </tr>\n",
       "    <tr>\n",
       "      <th>2</th>\n",
       "      <td>F</td>\n",
       "      <td>15</td>\n",
       "      <td>U</td>\n",
       "      <td>LE3</td>\n",
       "      <td>T</td>\n",
       "      <td>1</td>\n",
       "      <td>1</td>\n",
       "      <td>mother</td>\n",
       "      <td>1</td>\n",
       "      <td>2</td>\n",
       "      <td>...</td>\n",
       "      <td>3</td>\n",
       "      <td>2</td>\n",
       "      <td>2</td>\n",
       "      <td>3</td>\n",
       "      <td>3</td>\n",
       "      <td>10</td>\n",
       "      <td>10</td>\n",
       "      <td>maths</td>\n",
       "      <td>Pass</td>\n",
       "      <td>Sufficient</td>\n",
       "    </tr>\n",
       "    <tr>\n",
       "      <th>3</th>\n",
       "      <td>F</td>\n",
       "      <td>15</td>\n",
       "      <td>U</td>\n",
       "      <td>GT3</td>\n",
       "      <td>T</td>\n",
       "      <td>4</td>\n",
       "      <td>2</td>\n",
       "      <td>mother</td>\n",
       "      <td>1</td>\n",
       "      <td>3</td>\n",
       "      <td>...</td>\n",
       "      <td>2</td>\n",
       "      <td>2</td>\n",
       "      <td>1</td>\n",
       "      <td>1</td>\n",
       "      <td>5</td>\n",
       "      <td>2</td>\n",
       "      <td>15</td>\n",
       "      <td>maths</td>\n",
       "      <td>Pass</td>\n",
       "      <td>Good</td>\n",
       "    </tr>\n",
       "    <tr>\n",
       "      <th>4</th>\n",
       "      <td>F</td>\n",
       "      <td>16</td>\n",
       "      <td>U</td>\n",
       "      <td>GT3</td>\n",
       "      <td>T</td>\n",
       "      <td>3</td>\n",
       "      <td>3</td>\n",
       "      <td>father</td>\n",
       "      <td>1</td>\n",
       "      <td>2</td>\n",
       "      <td>...</td>\n",
       "      <td>3</td>\n",
       "      <td>2</td>\n",
       "      <td>1</td>\n",
       "      <td>2</td>\n",
       "      <td>5</td>\n",
       "      <td>4</td>\n",
       "      <td>10</td>\n",
       "      <td>maths</td>\n",
       "      <td>Pass</td>\n",
       "      <td>Sufficient</td>\n",
       "    </tr>\n",
       "  </tbody>\n",
       "</table>\n",
       "<p>5 rows × 29 columns</p>\n",
       "</div>"
      ],
      "text/plain": [
       "  sex  age address famsize Pstatus  Medu  Fedu guardian  traveltime  \\\n",
       "0   F   18       U     GT3       A     4     4   mother           2   \n",
       "1   F   17       U     GT3       T     1     1   father           1   \n",
       "2   F   15       U     LE3       T     1     1   mother           1   \n",
       "3   F   15       U     GT3       T     4     2   mother           1   \n",
       "4   F   16       U     GT3       T     3     3   father           1   \n",
       "\n",
       "   studytime         ...           freetime  goout  Dalc  Walc  health  \\\n",
       "0          2         ...                  3      4     1     1       3   \n",
       "1          2         ...                  3      3     1     1       3   \n",
       "2          2         ...                  3      2     2     3       3   \n",
       "3          3         ...                  2      2     1     1       5   \n",
       "4          2         ...                  3      2     1     2       5   \n",
       "\n",
       "   absences  G3  discipline  final_grade_label  final_grade_segment  \n",
       "0         6   6       maths               Fail                 Fail  \n",
       "1         4   6       maths               Fail                 Fail  \n",
       "2        10  10       maths               Pass           Sufficient  \n",
       "3         2  15       maths               Pass                 Good  \n",
       "4         4  10       maths               Pass           Sufficient  \n",
       "\n",
       "[5 rows x 29 columns]"
      ]
     },
     "execution_count": 56,
     "metadata": {},
     "output_type": "execute_result"
    }
   ],
   "source": [
    "grades.head()"
   ]
  },
  {
   "cell_type": "markdown",
   "metadata": {},
   "source": [
    "### Let's dummify some variables"
   ]
  },
  {
   "cell_type": "code",
   "execution_count": 57,
   "metadata": {
    "ExecuteTime": {
     "end_time": "2018-08-06T22:01:52.409969Z",
     "start_time": "2018-08-06T22:01:52.405022Z"
    }
   },
   "outputs": [
    {
     "data": {
      "text/plain": [
       "Index(['sex', 'age', 'address', 'famsize', 'Pstatus', 'Medu', 'Fedu',\n",
       "       'guardian', 'traveltime', 'studytime', 'failures', 'schoolsup',\n",
       "       'famsup', 'paid', 'activities', 'higher', 'internet', 'romantic',\n",
       "       'famrel', 'freetime', 'goout', 'Dalc', 'Walc', 'health', 'absences',\n",
       "       'G3', 'discipline', 'final_grade_label', 'final_grade_segment'],\n",
       "      dtype='object')"
      ]
     },
     "execution_count": 57,
     "metadata": {},
     "output_type": "execute_result"
    }
   ],
   "source": [
    "#Sanity check\n",
    "grades.columns"
   ]
  },
  {
   "cell_type": "code",
   "execution_count": 58,
   "metadata": {
    "ExecuteTime": {
     "end_time": "2018-08-06T22:01:52.421696Z",
     "start_time": "2018-08-06T22:01:52.411549Z"
    }
   },
   "outputs": [],
   "source": [
    "#dummify discipline (maths=0, portuguese=1)\n",
    "grades['discipline'].replace({'maths': 0, 'portuguese': 1}, inplace=True)\n",
    "\n",
    "#dummify target variable\n",
    "grades['final_grade_label'].replace({'Fail': 0, 'Pass': 1}, inplace=True)\n",
    "\n",
    "#dummify sex (M=0, F=1)\n",
    "grades['sex'].replace({'M': 0, 'F': 1}, inplace=True)\n",
    "\n",
    "#dummify address (U(urban)=0, R(rural)=1)\n",
    "grades['address'].replace({'U': 0, 'R': 1}, inplace=True)\n",
    "\n",
    "\n",
    "#drop unimportant columns (including G3, which is the actual grade)\n",
    "grades.drop(columns=['G3', 'sex', 'romantic', 'guardian', 'Dalc', 'activities', 'schoolsup', 'traveltime', 'famsup',\n",
    "                    'famsize', 'internet', 'Pstatus'], inplace=True)"
   ]
  },
  {
   "cell_type": "code",
   "execution_count": 59,
   "metadata": {
    "ExecuteTime": {
     "end_time": "2018-08-06T22:01:52.440556Z",
     "start_time": "2018-08-06T22:01:52.423906Z"
    }
   },
   "outputs": [
    {
     "data": {
      "text/html": [
       "<div>\n",
       "<style scoped>\n",
       "    .dataframe tbody tr th:only-of-type {\n",
       "        vertical-align: middle;\n",
       "    }\n",
       "\n",
       "    .dataframe tbody tr th {\n",
       "        vertical-align: top;\n",
       "    }\n",
       "\n",
       "    .dataframe thead th {\n",
       "        text-align: right;\n",
       "    }\n",
       "</style>\n",
       "<table border=\"1\" class=\"dataframe\">\n",
       "  <thead>\n",
       "    <tr style=\"text-align: right;\">\n",
       "      <th></th>\n",
       "      <th>age</th>\n",
       "      <th>address</th>\n",
       "      <th>Medu</th>\n",
       "      <th>Fedu</th>\n",
       "      <th>studytime</th>\n",
       "      <th>failures</th>\n",
       "      <th>paid</th>\n",
       "      <th>higher</th>\n",
       "      <th>famrel</th>\n",
       "      <th>freetime</th>\n",
       "      <th>goout</th>\n",
       "      <th>Walc</th>\n",
       "      <th>health</th>\n",
       "      <th>absences</th>\n",
       "      <th>discipline</th>\n",
       "      <th>final_grade_label</th>\n",
       "      <th>final_grade_segment</th>\n",
       "    </tr>\n",
       "  </thead>\n",
       "  <tbody>\n",
       "    <tr>\n",
       "      <th>0</th>\n",
       "      <td>18</td>\n",
       "      <td>0</td>\n",
       "      <td>4</td>\n",
       "      <td>4</td>\n",
       "      <td>2</td>\n",
       "      <td>0</td>\n",
       "      <td>0</td>\n",
       "      <td>1</td>\n",
       "      <td>4</td>\n",
       "      <td>3</td>\n",
       "      <td>4</td>\n",
       "      <td>1</td>\n",
       "      <td>3</td>\n",
       "      <td>6</td>\n",
       "      <td>0</td>\n",
       "      <td>0</td>\n",
       "      <td>Fail</td>\n",
       "    </tr>\n",
       "    <tr>\n",
       "      <th>1</th>\n",
       "      <td>17</td>\n",
       "      <td>0</td>\n",
       "      <td>1</td>\n",
       "      <td>1</td>\n",
       "      <td>2</td>\n",
       "      <td>0</td>\n",
       "      <td>0</td>\n",
       "      <td>1</td>\n",
       "      <td>5</td>\n",
       "      <td>3</td>\n",
       "      <td>3</td>\n",
       "      <td>1</td>\n",
       "      <td>3</td>\n",
       "      <td>4</td>\n",
       "      <td>0</td>\n",
       "      <td>0</td>\n",
       "      <td>Fail</td>\n",
       "    </tr>\n",
       "    <tr>\n",
       "      <th>2</th>\n",
       "      <td>15</td>\n",
       "      <td>0</td>\n",
       "      <td>1</td>\n",
       "      <td>1</td>\n",
       "      <td>2</td>\n",
       "      <td>3</td>\n",
       "      <td>1</td>\n",
       "      <td>1</td>\n",
       "      <td>4</td>\n",
       "      <td>3</td>\n",
       "      <td>2</td>\n",
       "      <td>3</td>\n",
       "      <td>3</td>\n",
       "      <td>10</td>\n",
       "      <td>0</td>\n",
       "      <td>1</td>\n",
       "      <td>Sufficient</td>\n",
       "    </tr>\n",
       "    <tr>\n",
       "      <th>3</th>\n",
       "      <td>15</td>\n",
       "      <td>0</td>\n",
       "      <td>4</td>\n",
       "      <td>2</td>\n",
       "      <td>3</td>\n",
       "      <td>0</td>\n",
       "      <td>1</td>\n",
       "      <td>1</td>\n",
       "      <td>3</td>\n",
       "      <td>2</td>\n",
       "      <td>2</td>\n",
       "      <td>1</td>\n",
       "      <td>5</td>\n",
       "      <td>2</td>\n",
       "      <td>0</td>\n",
       "      <td>1</td>\n",
       "      <td>Good</td>\n",
       "    </tr>\n",
       "    <tr>\n",
       "      <th>4</th>\n",
       "      <td>16</td>\n",
       "      <td>0</td>\n",
       "      <td>3</td>\n",
       "      <td>3</td>\n",
       "      <td>2</td>\n",
       "      <td>0</td>\n",
       "      <td>1</td>\n",
       "      <td>1</td>\n",
       "      <td>4</td>\n",
       "      <td>3</td>\n",
       "      <td>2</td>\n",
       "      <td>2</td>\n",
       "      <td>5</td>\n",
       "      <td>4</td>\n",
       "      <td>0</td>\n",
       "      <td>1</td>\n",
       "      <td>Sufficient</td>\n",
       "    </tr>\n",
       "  </tbody>\n",
       "</table>\n",
       "</div>"
      ],
      "text/plain": [
       "   age  address  Medu  Fedu  studytime  failures  paid  higher  famrel  \\\n",
       "0   18        0     4     4          2         0     0       1       4   \n",
       "1   17        0     1     1          2         0     0       1       5   \n",
       "2   15        0     1     1          2         3     1       1       4   \n",
       "3   15        0     4     2          3         0     1       1       3   \n",
       "4   16        0     3     3          2         0     1       1       4   \n",
       "\n",
       "   freetime  goout  Walc  health  absences  discipline  final_grade_label  \\\n",
       "0         3      4     1       3         6           0                  0   \n",
       "1         3      3     1       3         4           0                  0   \n",
       "2         3      2     3       3        10           0                  1   \n",
       "3         2      2     1       5         2           0                  1   \n",
       "4         3      2     2       5         4           0                  1   \n",
       "\n",
       "  final_grade_segment  \n",
       "0                Fail  \n",
       "1                Fail  \n",
       "2          Sufficient  \n",
       "3                Good  \n",
       "4          Sufficient  "
      ]
     },
     "execution_count": 59,
     "metadata": {},
     "output_type": "execute_result"
    }
   ],
   "source": [
    "grades.head()"
   ]
  },
  {
   "cell_type": "markdown",
   "metadata": {},
   "source": [
    "### Feature and target analysis"
   ]
  },
  {
   "cell_type": "code",
   "execution_count": 60,
   "metadata": {
    "ExecuteTime": {
     "end_time": "2018-08-06T22:01:52.448239Z",
     "start_time": "2018-08-06T22:01:52.442463Z"
    }
   },
   "outputs": [
    {
     "name": "stdout",
     "output_type": "stream",
     "text": [
      "1    804\n",
      "0    226\n",
      "Name: final_grade_label, dtype: int64 \n",
      "\n",
      "% of Pass: 0.78\n",
      "% of Fail: 0.22 \n",
      "\n",
      "Pass to Fail ratio in the dataset: 77:22\n",
      "Percentage of Majority grade (Pass) 78.0\n"
     ]
    }
   ],
   "source": [
    "print(grades['final_grade_label'].value_counts(), '\\n')\n",
    "print('% of Pass:', str(round(814 / 1044, 2)))\n",
    "print('% of Fail:', str(round(230 / 1044, 2)), '\\n')\n",
    "print('Pass to Fail ratio in the dataset:', str(int((814 / 1044)*100))+':'+str(int((230 / 1044)*100)))\n",
    "print('Percentage of Majority grade (Pass)', str(round((814 / 1044) *100, 0)))"
   ]
  },
  {
   "cell_type": "markdown",
   "metadata": {},
   "source": [
    "> **This is not good!** I should look into oversampling or undersampling further down the line"
   ]
  },
  {
   "cell_type": "code",
   "execution_count": 61,
   "metadata": {
    "ExecuteTime": {
     "end_time": "2018-08-06T22:01:52.452979Z",
     "start_time": "2018-08-06T22:01:52.450165Z"
    }
   },
   "outputs": [],
   "source": [
    "feat, grade_label = grades.iloc[:, :-2], grades.iloc[:, -2]"
   ]
  },
  {
   "cell_type": "code",
   "execution_count": 62,
   "metadata": {
    "ExecuteTime": {
     "end_time": "2018-08-06T22:01:52.458364Z",
     "start_time": "2018-08-06T22:01:52.455183Z"
    }
   },
   "outputs": [],
   "source": [
    "# print(feat.head())\n",
    "# print(grade_label.head())"
   ]
  },
  {
   "cell_type": "code",
   "execution_count": 63,
   "metadata": {
    "ExecuteTime": {
     "end_time": "2018-08-06T22:01:52.462538Z",
     "start_time": "2018-08-06T22:01:52.460098Z"
    }
   },
   "outputs": [],
   "source": [
    "#grades.corr()"
   ]
  },
  {
   "cell_type": "code",
   "execution_count": 64,
   "metadata": {
    "ExecuteTime": {
     "end_time": "2018-08-06T22:01:52.839560Z",
     "start_time": "2018-08-06T22:01:52.464531Z"
    }
   },
   "outputs": [
    {
     "data": {
      "image/png": "[encoded data removed]",
      "text/plain": [
       "<matplotlib.figure.Figure at 0x1a1ae65748>"
      ]
     },
     "metadata": {},
     "output_type": "display_data"
    }
   ],
   "source": [
    "plt.figure(dpi=150)\n",
    "plt.title('Correlation Matrix')\n",
    "corr = grades.corr()\n",
    "sns.heatmap(corr, \n",
    "            xticklabels=corr.columns.values,\n",
    "            yticklabels=corr.columns.values);"
   ]
  },
  {
   "cell_type": "code",
   "execution_count": 65,
   "metadata": {
    "ExecuteTime": {
     "end_time": "2018-08-06T22:01:52.843540Z",
     "start_time": "2018-08-06T22:01:52.841507Z"
    },
    "scrolled": false
   },
   "outputs": [],
   "source": [
    "#sns.pairplot(grades[['failures', 'Medu', 'Fedu', 'Walc', 'absences', 'discipline', 'age', 'goout', 'studytime', 'freetime', 'final_grade_label']]);\n"
   ]
  },
  {
   "cell_type": "markdown",
   "metadata": {},
   "source": [
    "## Train - test split"
   ]
  },
  {
   "cell_type": "code",
   "execution_count": 66,
   "metadata": {
    "ExecuteTime": {
     "end_time": "2018-08-06T22:01:52.851261Z",
     "start_time": "2018-08-06T22:01:52.845565Z"
    }
   },
   "outputs": [],
   "source": [
    "feat_train, feat_test, grade_label_train, grade_label_test = train_test_split(feat, grade_label, test_size=0.2\n",
    "                                                                                  , random_state=42, stratify=grade_label)"
   ]
  },
  {
   "cell_type": "markdown",
   "metadata": {},
   "source": [
    "# Modelling Time"
   ]
  },
  {
   "cell_type": "markdown",
   "metadata": {},
   "source": [
    "### Identifying best hyper-parameters"
   ]
  },
  {
   "cell_type": "markdown",
   "metadata": {},
   "source": [
    "**KNN Classifier (in search for the optimal k)**"
   ]
  },
  {
   "cell_type": "code",
   "execution_count": 67,
   "metadata": {
    "ExecuteTime": {
     "end_time": "2018-08-06T22:01:54.984055Z",
     "start_time": "2018-08-06T22:01:52.853310Z"
    }
   },
   "outputs": [],
   "source": [
    "k_range = range(1, 31)\n",
    "weight_options = ['uniform', 'distance']\n",
    "param_grid_knn = dict(n_neighbors=k_range, weights=weight_options)\n",
    "\n",
    "grid_knn = GridSearchCV(KNeighborsClassifier(), param_grid_knn, scoring='precision')\n",
    "grid_knn.fit(feat_train, grade_label_train);"
   ]
  },
  {
   "cell_type": "code",
   "execution_count": 68,
   "metadata": {
    "ExecuteTime": {
     "end_time": "2018-08-06T22:01:54.990174Z",
     "start_time": "2018-08-06T22:01:54.986007Z"
    }
   },
   "outputs": [
    {
     "name": "stdout",
     "output_type": "stream",
     "text": [
      "Best precision score for knn cross validation is \u001b[35m0.806\u001b[0m.\n",
      "Best parameters for knn cross validation are \u001b[35m{'n_neighbors': 4, 'weights': 'uniform'}\u001b[0m.\n",
      "Best estimators for knn cross validation are the following:\n",
      "\t \u001b[35mKNeighborsClassifier(algorithm='auto', leaf_size=30, metric='minkowski',\n",
      "           metric_params=None, n_jobs=1, n_neighbors=4, p=2,\n",
      "           weights='uniform')\u001b[0m\n"
     ]
    }
   ],
   "source": [
    "# examine the best model\n",
    "print('Best precision score for knn cross validation is', colored(str(round(grid_knn.best_score_, 3)), 'magenta')+ '.')\n",
    "print('Best parameters for knn cross validation are', colored(str(grid_knn.best_params_), 'magenta')+ '.')\n",
    "print('Best estimators for knn cross validation are the following:\\n\\t', colored(str(grid_knn.best_estimator_), 'magenta'))"
   ]
  },
  {
   "cell_type": "markdown",
   "metadata": {},
   "source": [
    "**Logistic Regression Classifier (in search for the optimal hypers)**"
   ]
  },
  {
   "cell_type": "code",
   "execution_count": 69,
   "metadata": {
    "ExecuteTime": {
     "end_time": "2018-08-06T22:01:57.245575Z",
     "start_time": "2018-08-06T22:01:54.992973Z"
    },
    "scrolled": true
   },
   "outputs": [],
   "source": [
    "penalties = ['l1', 'l2']\n",
    "C_range = [1e-04, 1e-03, 1e-02, 0.1, 1.0, 10.0]\n",
    "weights = [None, 'balanced']\n",
    "iterations = [1, 2, 5, 10, 20, 40, 60]\n",
    "param_grid_LogReg = dict(penalty=penalties, C=C_range, class_weight=weights, max_iter=iterations)\n",
    "\n",
    "grid_LogReg = GridSearchCV(LogisticRegression(random_state=42), param_grid_LogReg, scoring='average_precision')\n",
    "grid_LogReg.fit(feat_train, grade_label_train);"
   ]
  },
  {
   "cell_type": "code",
   "execution_count": 70,
   "metadata": {
    "ExecuteTime": {
     "end_time": "2018-08-06T22:01:57.252203Z",
     "start_time": "2018-08-06T22:01:57.247659Z"
    },
    "scrolled": true
   },
   "outputs": [
    {
     "name": "stdout",
     "output_type": "stream",
     "text": [
      "Best avg. precision score for Logistic Regression cross validation is \u001b[35m0.921\u001b[0m.\n",
      "Best parameters for Logistic Regression cross validation are:\n",
      "\t \u001b[35m{'C': 10.0, 'class_weight': None, 'max_iter': 1, 'penalty': 'l1'}\u001b[0m.\n",
      "Best estimators for Logistic Regression cross validation are the following:\n",
      "\t \u001b[35mLogisticRegression(C=10.0, class_weight=None, dual=False, fit_intercept=True,\n",
      "          intercept_scaling=1, max_iter=1, multi_class='ovr', n_jobs=1,\n",
      "          penalty='l1', random_state=42, solver='liblinear', tol=0.0001,\n",
      "          verbose=0, warm_start=False)\u001b[0m\n"
     ]
    }
   ],
   "source": [
    "# examine the best model\n",
    "print('Best avg. precision score for Logistic Regression cross validation is', colored(str(round(grid_LogReg.best_score_, 3)), 'magenta')+ '.')\n",
    "print('Best parameters for Logistic Regression cross validation are:\\n\\t', colored(str(grid_LogReg.best_params_), 'magenta')+ '.')\n",
    "print('Best estimators for Logistic Regression cross validation are the following:\\n\\t', colored(str(grid_LogReg.best_estimator_), 'magenta'))"
   ]
  },
  {
   "cell_type": "markdown",
   "metadata": {},
   "source": [
    "**Random Forest Classifier (in search for the optimal hypers)**"
   ]
  },
  {
   "cell_type": "code",
   "execution_count": 71,
   "metadata": {
    "ExecuteTime": {
     "end_time": "2018-08-06T22:01:58.037572Z",
     "start_time": "2018-08-06T22:01:57.255157Z"
    },
    "scrolled": true
   },
   "outputs": [],
   "source": [
    "estimators = [150] #tried [2, 5, 10, 20, 40, 50, 100, 150]\n",
    "depth = [20] #tried [2, 5, 10, 20, 30, 40]\n",
    "leaf_samples = [10] #tried [1, 2, 3, 4, 5, 10]\n",
    "samples = [2] #tried [2, 3, 4, 5, 10]\n",
    "weights = ['balanced'] #tried ['balanced', None]\n",
    "param_grid_RandFor = dict(n_estimators=estimators, max_depth=depth, min_samples_leaf=leaf_samples, min_samples_split=samples, class_weight=weights)\n",
    "\n",
    "grid_RandFor = GridSearchCV(RandomForestClassifier(random_state=42), param_grid_RandFor, scoring='precision')\n",
    "grid_RandFor.fit(feat_train, grade_label_train);"
   ]
  },
  {
   "cell_type": "code",
   "execution_count": 72,
   "metadata": {
    "ExecuteTime": {
     "end_time": "2018-08-06T22:01:58.044721Z",
     "start_time": "2018-08-06T22:01:58.039675Z"
    },
    "scrolled": false
   },
   "outputs": [
    {
     "name": "stdout",
     "output_type": "stream",
     "text": [
      "Best precision score for Random Forest cross validation is \u001b[35m0.879\u001b[0m.\n",
      "Best parameters for Random Forest cross validation are:\n",
      "\t \u001b[35m{'class_weight': 'balanced', 'max_depth': 20, 'min_samples_leaf': 10, 'min_samples_split': 2, 'n_estimators': 150}\u001b[0m\n",
      "Best estimators for Random Forest cross validation are the following:\n",
      "\t \u001b[35mRandomForestClassifier(bootstrap=True, class_weight='balanced',\n",
      "            criterion='gini', max_depth=20, max_features='auto',\n",
      "            max_leaf_nodes=None, min_impurity_decrease=0.0,\n",
      "            min_impurity_split=None, min_samples_leaf=10,\n",
      "            min_samples_split=2, min_weight_fraction_leaf=0.0,\n",
      "            n_estimators=150, n_jobs=1, oob_score=False, random_state=42,\n",
      "            verbose=0, warm_start=False)\u001b[0m\n"
     ]
    }
   ],
   "source": [
    "# examine the best model\n",
    "print('Best precision score for Random Forest cross validation is', colored(str(round(grid_RandFor.best_score_, 3)), 'magenta')+ '.')\n",
    "print('Best parameters for Random Forest cross validation are:\\n\\t', colored(str(grid_RandFor.best_params_), 'magenta'))\n",
    "print('Best estimators for Random Forest cross validation are the following:\\n\\t', colored(str(grid_RandFor.best_estimator_), 'magenta'))"
   ]
  },
  {
   "cell_type": "markdown",
   "metadata": {},
   "source": [
    "**Support Vector Classification (SVC) (in search for the optimal hypers)**"
   ]
  },
  {
   "cell_type": "code",
   "execution_count": 73,
   "metadata": {
    "ExecuteTime": {
     "end_time": "2018-08-06T22:02:00.398189Z",
     "start_time": "2018-08-06T22:01:58.046774Z"
    },
    "scrolled": true
   },
   "outputs": [],
   "source": [
    "C_range = [0.001, 0.01, 0.1, 1.0, 2.0, 3.0, 5.0, 8.0, 10.0, 15.0] #tried [0.001, 0.01, 0.1, 1.0, 2.0, 3.0, 5.0]\n",
    "kernel_range = ['poly'] #tried ['linear', 'poly', 'rbf', 'sigmoid']\n",
    "degree_range = [1] #tried [1, 2, 3, 4, 7]\n",
    "probs = [True] #tried [True, False]\n",
    "weights = ['balanced'] #tried ['balanced', None]\n",
    "param_grid_SVC = dict(C=C_range, kernel=kernel_range, degree=degree_range, probability=probs, class_weight=weights)\n",
    "\n",
    "grid_SVC = GridSearchCV(SVC(random_state=42), param_grid_SVC, scoring='average_precision')\n",
    "grid_SVC.fit(feat_train, grade_label_train);"
   ]
  },
  {
   "cell_type": "code",
   "execution_count": 74,
   "metadata": {
    "ExecuteTime": {
     "end_time": "2018-08-06T22:02:00.405731Z",
     "start_time": "2018-08-06T22:02:00.400251Z"
    },
    "scrolled": true
   },
   "outputs": [
    {
     "name": "stdout",
     "output_type": "stream",
     "text": [
      "Best precision score for SVC cross validation is \u001b[35m0.914\u001b[0m.\n",
      "Best parameters for SVC cross validation are:\n",
      "\t \u001b[35m{'C': 3.0, 'class_weight': 'balanced', 'degree': 1, 'kernel': 'poly', 'probability': True}\u001b[0m\n",
      "Best estimators for SVC cross validation are the following:\n",
      "\t \u001b[35mSVC(C=3.0, cache_size=200, class_weight='balanced', coef0=0.0,\n",
      "  decision_function_shape='ovr', degree=1, gamma='auto', kernel='poly',\n",
      "  max_iter=-1, probability=True, random_state=42, shrinking=True,\n",
      "  tol=0.001, verbose=False)\u001b[0m\n"
     ]
    }
   ],
   "source": [
    "# examine the best model\n",
    "print('Best precision score for SVC cross validation is', colored(str(round(grid_SVC.best_score_, 3)), 'magenta')+ '.')\n",
    "print('Best parameters for SVC cross validation are:\\n\\t', colored(str(grid_SVC.best_params_), 'magenta'))\n",
    "print('Best estimators for SVC cross validation are the following:\\n\\t', colored(str(grid_SVC.best_estimator_), 'magenta'))"
   ]
  },
  {
   "cell_type": "markdown",
   "metadata": {},
   "source": [
    "**Naive Bayes Bernoulli (NBB) (in search for the optimal hypers)**"
   ]
  },
  {
   "cell_type": "code",
   "execution_count": 75,
   "metadata": {
    "ExecuteTime": {
     "end_time": "2018-08-06T22:02:00.531620Z",
     "start_time": "2018-08-06T22:02:00.407775Z"
    },
    "scrolled": false
   },
   "outputs": [],
   "source": [
    "alphas = [1e-05, 1e-4, 1e-2, 0.1, 1.0, 10.0]\n",
    "priors = [True, False]\n",
    "param_grid_NBB = dict(alpha=alphas, fit_prior=priors)\n",
    "\n",
    "grid_NBB = GridSearchCV(BernoulliNB(), param_grid_NBB, scoring='precision')\n",
    "grid_NBB.fit(feat_train, grade_label_train);"
   ]
  },
  {
   "cell_type": "code",
   "execution_count": 76,
   "metadata": {
    "ExecuteTime": {
     "end_time": "2018-08-06T22:02:00.537898Z",
     "start_time": "2018-08-06T22:02:00.533530Z"
    },
    "scrolled": true
   },
   "outputs": [
    {
     "name": "stdout",
     "output_type": "stream",
     "text": [
      "Best precision score for NBB cross validation is \u001b[35m0.904\u001b[0m.\n",
      "Best parameters for NBB cross validation are:\n",
      "\t \u001b[35m{'alpha': 1e-05, 'fit_prior': False}\u001b[0m\n",
      "Best estimators for NBB cross validation are the following:\n",
      "\t \u001b[35mBernoulliNB(alpha=1e-05, binarize=0.0, class_prior=None, fit_prior=False)\u001b[0m\n"
     ]
    }
   ],
   "source": [
    "# examine the best model\n",
    "print('Best precision score for NBB cross validation is', colored(str(round(grid_NBB.best_score_, 3)), 'magenta')+ '.')\n",
    "print('Best parameters for NBB cross validation are:\\n\\t', colored(str(grid_NBB.best_params_), 'magenta'))\n",
    "print('Best estimators for NBB cross validation are the following:\\n\\t', colored(str(grid_NBB.best_estimator_), 'magenta'))"
   ]
  },
  {
   "cell_type": "markdown",
   "metadata": {},
   "source": [
    "**Stochastic Gradient Descent (SDG) Classifier (in search for the optimal hypers)**"
   ]
  },
  {
   "cell_type": "code",
   "execution_count": 77,
   "metadata": {
    "ExecuteTime": {
     "end_time": "2018-08-06T22:02:00.611522Z",
     "start_time": "2018-08-06T22:02:00.539793Z"
    },
    "scrolled": true
   },
   "outputs": [],
   "source": [
    "losses = ['hinge']      #also tried ['hinge', 'log', 'modified_huber', 'squared_hinge', 'perceptron','squared_loss', 'huber', , 'squared_epsilon_insensitive']\n",
    "penalties = ['l1']             #tried ['l1', 'l2']\n",
    "alphas = [0.01]                 #tried [1e-06, 1e-05, 1e-04, 1e-03, 0.01, 0.1, 1.0, 5.0]\n",
    "iterations = [150]            #previous [5, 10, 50, 150, 150, 200, 500]\n",
    "l_rates = ['invscaling']         #previous ['constant', 'optimal', 'invscaling']\n",
    "weights = [None]        #tried [None, 'balanced']\n",
    "etas = [0.2]                   #tried [0.1, 0.2, 0.5]\n",
    "param_grid_SGD = dict(loss=losses, penalty=penalties, alpha=alphas, max_iter=iterations, learning_rate=l_rates\n",
    "                      , class_weight=weights, eta0=etas)\n",
    "\n",
    "grid_SGD = GridSearchCV(SGDClassifier(random_state=42), param_grid_SGD, scoring='average_precision')\n",
    "grid_SGD.fit(feat_train, grade_label_train);"
   ]
  },
  {
   "cell_type": "code",
   "execution_count": 78,
   "metadata": {
    "ExecuteTime": {
     "end_time": "2018-08-06T22:02:00.618180Z",
     "start_time": "2018-08-06T22:02:00.613568Z"
    },
    "scrolled": false
   },
   "outputs": [
    {
     "name": "stdout",
     "output_type": "stream",
     "text": [
      "Best precision score for Stochastic Gradient Descent cross validation is \u001b[35m0.919\u001b[0m.\n",
      "Best parameters for Stochastic Gradient Descent cross validation are:\n",
      "\t \u001b[35m{'alpha': 0.01, 'class_weight': None, 'eta0': 0.2, 'learning_rate': 'invscaling', 'loss': 'hinge', 'max_iter': 150, 'penalty': 'l1'}\u001b[0m\n",
      "Best estimators for Stochastic Gradient Descent cross validation are the following:\n",
      "\t \u001b[35mSGDClassifier(alpha=0.01, average=False, class_weight=None, epsilon=0.1,\n",
      "       eta0=0.2, fit_intercept=True, l1_ratio=0.15,\n",
      "       learning_rate='invscaling', loss='hinge', max_iter=150, n_iter=None,\n",
      "       n_jobs=1, penalty='l1', power_t=0.5, random_state=42, shuffle=True,\n",
      "       tol=None, verbose=0, warm_start=False)\u001b[0m\n"
     ]
    }
   ],
   "source": [
    "# examine the best model\n",
    "print('Best precision score for Stochastic Gradient Descent cross validation is', colored(str(round(grid_SGD.best_score_, 3)), 'magenta')+ '.')\n",
    "print('Best parameters for Stochastic Gradient Descent cross validation are:\\n\\t', colored(str(grid_SGD.best_params_), 'magenta'))\n",
    "print('Best estimators for Stochastic Gradient Descent cross validation are the following:\\n\\t', colored(str(grid_SGD.best_estimator_), 'magenta'))"
   ]
  },
  {
   "cell_type": "markdown",
   "metadata": {},
   "source": [
    "### Let's compare the models at their best"
   ]
  },
  {
   "cell_type": "code",
   "execution_count": 79,
   "metadata": {
    "ExecuteTime": {
     "end_time": "2018-08-06T22:02:00.626436Z",
     "start_time": "2018-08-06T22:02:00.620213Z"
    }
   },
   "outputs": [],
   "source": [
    "model_list = [KNeighborsClassifier(n_neighbors=4, weights='uniform'), \n",
    "              LogisticRegression(C=10.0, class_weight=None, max_iter=5, penalty='l1', random_state=42),\n",
    "              RandomForestClassifier(n_estimators=150, class_weight='balanced', max_depth=20, min_samples_leaf=10, min_samples_split=2, random_state=42), \n",
    "              SVC(5.0, class_weight='balanced', degree=1, kernel='poly', probability=True), \n",
    "              GaussianNB(),\n",
    "              BernoulliNB(alpha=0.1, fit_prior=False),\n",
    "              SGDClassifier(loss='hinge', penalty='l1', alpha=0.01, max_iter=150, learning_rate='invscaling'\n",
    "                      , class_weight=None, eta0=0.2, random_state=42)]\n",
    "\n",
    "model_names = ['KNN', 'Logistic Regression', 'Random Forest', 'SVC', 'Naive Bayes Gaussian', 'Naive Bayes Bernoulli', 'SGD']"
   ]
  },
  {
   "cell_type": "code",
   "execution_count": 80,
   "metadata": {
    "ExecuteTime": {
     "end_time": "2018-08-06T22:02:07.727595Z",
     "start_time": "2018-08-06T22:02:00.628110Z"
    },
    "scrolled": false
   },
   "outputs": [
    {
     "name": "stdout",
     "output_type": "stream",
     "text": [
      "AUC scores: \u001b[32m[('Random Forest', 0.792), ('Logistic Regression', 0.783), ('Naive Bayes Bernoulli', 0.779), ('Naive Bayes Gaussian', 0.777), ('SGD', 0.776), ('SVC', 0.769), ('KNN', 0.596)]\u001b[0m\n",
      "Precision scores: \u001b[32m[('Naive Bayes Bernoulli', 0.897), ('SVC', 0.893), ('Random Forest', 0.89), ('Naive Bayes Gaussian', 0.851), ('Logistic Regression', 0.821), ('SGD', 0.807), ('KNN', 0.795)]\u001b[0m\n"
     ]
    }
   ],
   "source": [
    "model_auc_scores = []\n",
    "model_precision_scores = []\n",
    "all_models = {}\n",
    "\n",
    "for i in range(len(model_list)):\n",
    "    try_model = model_list[i]\n",
    "    try_model.fit(feat_train, grade_label_train)\n",
    "    all_models[model_names[i]] = try_model\n",
    "    cv_roc_auc_score = cross_val_score(try_model, feat_train, grade_label_train, cv=10,\n",
    "                                scoring='roc_auc')\n",
    "    cv_precision_score = cross_val_score(try_model, feat_train, grade_label_train, cv=10,\n",
    "                                scoring='precision')\n",
    "    model_auc_scores.append((model_names[i], round(np.mean(cv_roc_auc_score), 3)))\n",
    "    model_precision_scores.append((model_names[i], round(np.mean(cv_precision_score), 3)))\n",
    "    \n",
    "print('AUC scores: ' + colored(str(sorted(model_auc_scores, key=lambda x: x[1], reverse=True)), 'green'))\n",
    "print('Precision scores: '+ colored(str(sorted(model_precision_scores, key=lambda x: x[1], reverse=True)), 'green'))"
   ]
  },
  {
   "cell_type": "markdown",
   "metadata": {},
   "source": [
    "> **Random Forest wins! Runner up is Naive Bayes (Bernoulli distribution)**"
   ]
  },
  {
   "cell_type": "markdown",
   "metadata": {},
   "source": [
    "## Let's check out AUC scores and ROC curves"
   ]
  },
  {
   "cell_type": "code",
   "execution_count": 81,
   "metadata": {
    "ExecuteTime": {
     "end_time": "2018-08-06T22:02:07.764788Z",
     "start_time": "2018-08-06T22:02:07.729609Z"
    },
    "scrolled": false
   },
   "outputs": [],
   "source": [
    "#roc_curve function calculates the true positive, false positive and a threshold\n",
    "#fpr_knn, tpr_knn, thresholds_knn = roc_curve(grade_label_train, all_models['KNN'].predict_proba(feat_train)[:,1])\n",
    "fpr_LogReg, tpr_LogReg, thresholds_LogReg = roc_curve(grade_label_train, all_models['Logistic Regression'].predict_proba(feat_train)[:,1])\n",
    "fpr_RandFor, tpr_RandFor, thresholds_RandFor = roc_curve(grade_label_train, all_models['Random Forest'].predict_proba(feat_train)[:,1])\n",
    "fpr_SVC, tpr_SVC, thresholds_SVC = roc_curve(grade_label_train, all_models['SVC'].predict_proba(feat_train)[:,1])\n",
    "fpr_NBG, tpr_NBG, thresholds_NBG = roc_curve(grade_label_train, all_models['Naive Bayes Gaussian'].predict_proba(feat_train)[:,1])\n",
    "fpr_NBB, tpr_NBB, thresholds_NBB = roc_curve(grade_label_train, all_models['Naive Bayes Bernoulli'].predict_proba(feat_train)[:,1])\n",
    "#fpr_SGD, tpr_SGD, thresholds_SGD = roc_curve(grade_label_train, all_models['SGD'].predict_proba(feat_train)[:,1])"
   ]
  },
  {
   "cell_type": "code",
   "execution_count": 82,
   "metadata": {
    "ExecuteTime": {
     "end_time": "2018-08-06T22:02:08.002038Z",
     "start_time": "2018-08-06T22:02:07.766728Z"
    }
   },
   "outputs": [
    {
     "data": {
      "image/png": "[encoded data removed]",
      "text/plain": [
       "<matplotlib.figure.Figure at 0x1a1a755160>"
      ]
     },
     "metadata": {},
     "output_type": "display_data"
    }
   ],
   "source": [
    "plt.figure(dpi=120)\n",
    "#plt.plot(fpr_knn, tpr_knn, lw=2, label='KNN')\n",
    "plt.plot(fpr_LogReg, tpr_LogReg, lw=2, label='Log Reg')\n",
    "plt.plot(fpr_RandFor, tpr_RandFor, lw=2, label='Random Forest')\n",
    "plt.plot(fpr_SVC, tpr_SVC, lw=2, label='SVC')\n",
    "plt.plot(fpr_NBG, tpr_NBG, lw=2, label='Naive Bayes Gaussian')\n",
    "plt.plot(fpr_NBB, tpr_NBB, lw=2, label='Naive Bayes Bernoulli')\n",
    "#plt.plot(fpr_SGD, tpr_SGD, lw=2, label='SGD')\n",
    "plt.plot([0,1],[0,1],c='r',ls='--')\n",
    "plt.xlim([-0.05,1.05])\n",
    "plt.ylim([-0.05,1.05])\n",
    "plt.legend()\n",
    "\n",
    "\n",
    "plt.xlabel('False positive rate')\n",
    "plt.ylabel('True positive rate')\n",
    "plt.title('ROC curve for grade problem');"
   ]
  },
  {
   "cell_type": "markdown",
   "metadata": {},
   "source": [
    ">> **It's decided! Random Forest it is!**"
   ]
  },
  {
   "cell_type": "code",
   "execution_count": 83,
   "metadata": {
    "ExecuteTime": {
     "end_time": "2018-08-06T22:02:08.006668Z",
     "start_time": "2018-08-06T22:02:08.003966Z"
    }
   },
   "outputs": [],
   "source": [
    "#Let's record the two best models\n",
    "Random_Forest = all_models['Random Forest']"
   ]
  },
  {
   "cell_type": "markdown",
   "metadata": {},
   "source": [
    "## Can we do better with oversampling?"
   ]
  },
  {
   "cell_type": "markdown",
   "metadata": {},
   "source": [
    "#### Random Over Sampler "
   ]
  },
  {
   "cell_type": "code",
   "execution_count": 84,
   "metadata": {
    "ExecuteTime": {
     "end_time": "2018-08-06T22:02:08.014602Z",
     "start_time": "2018-08-06T22:02:08.009446Z"
    }
   },
   "outputs": [],
   "source": [
    "ROS = RandomOverSampler(random_state=42)\n",
    "feat_train_ROS, grade_label_train_ROS = ROS.fit_sample(feat_train, grade_label_train)"
   ]
  },
  {
   "cell_type": "code",
   "execution_count": 85,
   "metadata": {
    "ExecuteTime": {
     "end_time": "2018-08-06T22:02:08.020868Z",
     "start_time": "2018-08-06T22:02:08.016680Z"
    }
   },
   "outputs": [
    {
     "data": {
      "text/plain": [
       "Counter({1: 643, 0: 643})"
      ]
     },
     "execution_count": 85,
     "metadata": {},
     "output_type": "execute_result"
    }
   ],
   "source": [
    "Counter(grade_label_train_ROS)"
   ]
  },
  {
   "cell_type": "code",
   "execution_count": 86,
   "metadata": {
    "ExecuteTime": {
     "end_time": "2018-08-06T22:02:08.218116Z",
     "start_time": "2018-08-06T22:02:08.022629Z"
    }
   },
   "outputs": [],
   "source": [
    "#Create a new Random Forest model and fit with \"oversampled\" values\n",
    "Random_Forest_ROS = RandomForestClassifier(n_estimators=150, class_weight=None, max_depth=5, min_samples_leaf=5, min_samples_split=2, random_state=42)\n",
    "Random_Forest_ROS.fit(feat_train_ROS, grade_label_train_ROS);"
   ]
  },
  {
   "cell_type": "code",
   "execution_count": 87,
   "metadata": {
    "ExecuteTime": {
     "end_time": "2018-08-06T22:02:08.490767Z",
     "start_time": "2018-08-06T22:02:08.220294Z"
    },
    "scrolled": false
   },
   "outputs": [
    {
     "name": "stdout",
     "output_type": "stream",
     "text": [
      "The scores on original training set are:\n",
      "\n",
      "Accuracy score after Random Over Sampler is: \u001b[35m0.808\u001b[0m\n",
      "Recall score after Random Over Sampler is: \u001b[35m0.837\u001b[0m\n",
      "Precision score after Random Over Sampler is: \u001b[32m0.91\u001b[0m\n",
      "F1 score after Random Over Sampler is: \u001b[35m0.872\u001b[0m\n"
     ]
    },
    {
     "data": {
      "image/png": "[encoded data removed]",
      "text/plain": [
       "<matplotlib.figure.Figure at 0x1a1ae05b00>"
      ]
     },
     "metadata": {},
     "output_type": "display_data"
    }
   ],
   "source": [
    "print('The scores on original training set are:\\n')\n",
    "print('Accuracy score after Random Over Sampler is:', colored(str(round(Random_Forest_ROS.score(feat_train, grade_label_train), 3)), 'magenta'))\n",
    "print('Recall score after Random Over Sampler is:', colored(str(round(recall_score(\n",
    "                                        grade_label_train, Random_Forest_ROS.predict(feat_train)), 3)), 'magenta'))\n",
    "print('Precision score after Random Over Sampler is:', colored(str(round(precision_score(\n",
    "                                        grade_label_train, Random_Forest_ROS.predict(feat_train)), 3)), 'green'))\n",
    "print('F1 score after Random Over Sampler is:', colored(str(round(f1_score(\n",
    "                                        grade_label_train, Random_Forest_ROS.predict(feat_train)), 3)), 'magenta'))\n",
    "\n",
    "RF_ROS_cm = confusion_matrix(grade_label_train, Random_Forest_ROS.predict(feat_train))\n",
    "RF_ROS_cm = print_confusion_matrix(RF_ROS_cm, ['Fail', 'Pass'])"
   ]
  },
  {
   "cell_type": "markdown",
   "metadata": {},
   "source": [
    "> Not with Random Over Sampler, apparently!"
   ]
  },
  {
   "cell_type": "markdown",
   "metadata": {},
   "source": [
    "#### SMOTE"
   ]
  },
  {
   "cell_type": "code",
   "execution_count": 88,
   "metadata": {
    "ExecuteTime": {
     "end_time": "2018-08-06T22:02:08.502994Z",
     "start_time": "2018-08-06T22:02:08.493144Z"
    }
   },
   "outputs": [],
   "source": [
    "SMO = SMOTE(random_state=42)\n",
    "feat_train_smoted, grade_label_train_smoted = SMO.fit_sample(feat_train, grade_label_train)"
   ]
  },
  {
   "cell_type": "code",
   "execution_count": 89,
   "metadata": {
    "ExecuteTime": {
     "end_time": "2018-08-06T22:02:08.509509Z",
     "start_time": "2018-08-06T22:02:08.504854Z"
    }
   },
   "outputs": [
    {
     "data": {
      "text/plain": [
       "Counter({1: 643, 0: 643})"
      ]
     },
     "execution_count": 89,
     "metadata": {},
     "output_type": "execute_result"
    }
   ],
   "source": [
    "Counter(grade_label_train_smoted)"
   ]
  },
  {
   "cell_type": "code",
   "execution_count": 90,
   "metadata": {
    "ExecuteTime": {
     "end_time": "2018-08-06T22:02:08.734918Z",
     "start_time": "2018-08-06T22:02:08.511278Z"
    },
    "scrolled": false
   },
   "outputs": [],
   "source": [
    "Random_Forest_SMOTE = RandomForestClassifier(n_estimators=150, class_weight=None, max_depth=5, min_samples_leaf=5, min_samples_split=2, random_state=42)\n",
    "Random_Forest_SMOTE.fit(feat_train_smoted, grade_label_train_smoted);"
   ]
  },
  {
   "cell_type": "code",
   "execution_count": 91,
   "metadata": {
    "ExecuteTime": {
     "end_time": "2018-08-06T22:02:09.010313Z",
     "start_time": "2018-08-06T22:02:08.737047Z"
    }
   },
   "outputs": [
    {
     "name": "stdout",
     "output_type": "stream",
     "text": [
      "Test scores on original training set are:\n",
      "\n",
      "Accuracy score after SMOTE is: \u001b[35m0.841\u001b[0m\n",
      "Recall score after SMOTE is: \u001b[35m0.899\u001b[0m\n",
      "Precision score after SMOTE is: \u001b[32m0.898\u001b[0m\n",
      "F1 score after SMOTE is: \u001b[35m0.898\u001b[0m\n"
     ]
    },
    {
     "data": {
      "image/png": "[encoded data removed]",
      "text/plain": [
       "<matplotlib.figure.Figure at 0x110423c88>"
      ]
     },
     "metadata": {},
     "output_type": "display_data"
    }
   ],
   "source": [
    "print('Test scores on original training set are:\\n')\n",
    "print('Accuracy score after SMOTE is:', colored(str(round(Random_Forest_SMOTE.score(feat_train, grade_label_train), 3)), 'magenta'))\n",
    "print('Recall score after SMOTE is:', colored(str(round(recall_score(\n",
    "                                        grade_label_train, Random_Forest_SMOTE.predict(feat_train)), 3)), 'magenta'))\n",
    "print('Precision score after SMOTE is:', colored(str(round(precision_score(\n",
    "                                        grade_label_train, Random_Forest_SMOTE.predict(feat_train)), 3)), 'green'))\n",
    "print('F1 score after SMOTE is:', colored(str(round(f1_score(\n",
    "                                        grade_label_train, Random_Forest_SMOTE.predict(feat_train)), 3)), 'magenta'))\n",
    "\n",
    "#What's my confusion matrix looking like?\n",
    "RF_smoted_cm = confusion_matrix(grade_label_train, Random_Forest_SMOTE.predict(feat_train))\n",
    "RF_smoted_cm = print_confusion_matrix(RF_smoted_cm, ['Fail', 'Pass'])"
   ]
  },
  {
   "cell_type": "markdown",
   "metadata": {},
   "source": [
    "> Not much improvement with SMOTE"
   ]
  },
  {
   "cell_type": "markdown",
   "metadata": {},
   "source": [
    "#### ADASYN"
   ]
  },
  {
   "cell_type": "code",
   "execution_count": 92,
   "metadata": {
    "ExecuteTime": {
     "end_time": "2018-08-06T22:02:09.025722Z",
     "start_time": "2018-08-06T22:02:09.012136Z"
    }
   },
   "outputs": [],
   "source": [
    "ADA = ADASYN(random_state=42)\n",
    "feat_train_adasyn, grade_label_train_adasyn = ADA.fit_sample(feat_train, grade_label_train)"
   ]
  },
  {
   "cell_type": "code",
   "execution_count": 93,
   "metadata": {
    "ExecuteTime": {
     "end_time": "2018-08-06T22:02:09.032124Z",
     "start_time": "2018-08-06T22:02:09.027681Z"
    }
   },
   "outputs": [
    {
     "data": {
      "text/plain": [
       "Counter({1: 643, 0: 648})"
      ]
     },
     "execution_count": 93,
     "metadata": {},
     "output_type": "execute_result"
    }
   ],
   "source": [
    "Counter(grade_label_train_adasyn)"
   ]
  },
  {
   "cell_type": "code",
   "execution_count": 94,
   "metadata": {
    "ExecuteTime": {
     "end_time": "2018-08-06T22:02:09.244640Z",
     "start_time": "2018-08-06T22:02:09.033701Z"
    },
    "scrolled": true
   },
   "outputs": [],
   "source": [
    "Random_Forest_ADASYN = RandomForestClassifier(n_estimators=150, class_weight=None, max_depth=5, min_samples_leaf=5, min_samples_split=2, random_state=42)\n",
    "Random_Forest_ADASYN.fit(feat_train_adasyn, grade_label_train_adasyn);"
   ]
  },
  {
   "cell_type": "code",
   "execution_count": 95,
   "metadata": {
    "ExecuteTime": {
     "end_time": "2018-08-06T22:02:09.512821Z",
     "start_time": "2018-08-06T22:02:09.246719Z"
    },
    "scrolled": false
   },
   "outputs": [
    {
     "name": "stdout",
     "output_type": "stream",
     "text": [
      "Test scores on original training set are:\n",
      "\n",
      "Accuracy score after ADASYN is: \u001b[35m0.836\u001b[0m\n",
      "Recall score after ADASYN is: \u001b[35m0.9\u001b[0m\n",
      "Precision score after ADASYN is: \u001b[32m0.891\u001b[0m\n",
      "F1 score after ADASYN is: \u001b[35m0.896\u001b[0m\n"
     ]
    },
    {
     "data": {
      "image/png": "[encoded data removed]",
      "text/plain": [
       "<matplotlib.figure.Figure at 0x1a1af4cef0>"
      ]
     },
     "metadata": {},
     "output_type": "display_data"
    }
   ],
   "source": [
    "print('Test scores on original training set are:\\n')\n",
    "print('Accuracy score after ADASYN is:', colored(str(round(Random_Forest_ADASYN.score(feat_train, grade_label_train), 3)), 'magenta'))\n",
    "print('Recall score after ADASYN is:', colored(str(round(recall_score(\n",
    "                                        grade_label_train, Random_Forest_ADASYN.predict(feat_train)), 3)), 'magenta'))\n",
    "print('Precision score after ADASYN is:', colored(str(round(precision_score(\n",
    "                                        grade_label_train, Random_Forest_ADASYN.predict(feat_train)), 3)), 'green'))\n",
    "print('F1 score after ADASYN is:', colored(str(round(f1_score(\n",
    "                                        grade_label_train, Random_Forest_ADASYN.predict(feat_train)), 3)), 'magenta'))\n",
    "\n",
    "#What's my confusion matrix looking like?\n",
    "RF_adasyn_cm = confusion_matrix(grade_label_train, Random_Forest_ADASYN.predict(feat_train))\n",
    "RF_adasyn_cm = print_confusion_matrix(RF_adasyn_cm, ['Fail', 'Pass'])"
   ]
  },
  {
   "cell_type": "markdown",
   "metadata": {},
   "source": [
    "### So does Oversampling help?"
   ]
  },
  {
   "cell_type": "code",
   "execution_count": 96,
   "metadata": {
    "ExecuteTime": {
     "end_time": "2018-08-06T22:02:09.927282Z",
     "start_time": "2018-08-06T22:02:09.515092Z"
    }
   },
   "outputs": [
    {
     "name": "stdout",
     "output_type": "stream",
     "text": [
      "('RF', 0.928)\n",
      "('RF with ROS', 0.919)\n",
      "('RF with SMOTE', 0.912)\n",
      "('RF with ADASYN', 0.906)\n"
     ]
    }
   ],
   "source": [
    "mini_model_list = [Random_Forest, Random_Forest_ROS, Random_Forest_SMOTE, Random_Forest_ADASYN]\n",
    "mini_model_names = ['RF', 'RF with ROS', 'RF with SMOTE', 'RF with ADASYN']\n",
    "\n",
    "kfold = KFold(n_splits=10, random_state=42)\n",
    "precision_scores = []\n",
    "oversample_model_scores = []\n",
    "\n",
    "for i in range(len(mini_model_list)):\n",
    "    try_model = mini_model_list[i]\n",
    "    for train_index, test_index in kfold.split(feat_train):\n",
    "        kfeat_train = feat_train.iloc[train_index]\n",
    "        kfeat_test = feat_train.iloc[test_index]\n",
    "        kgrade_train = grade_label_train.iloc[train_index]\n",
    "        kgrade_test = grade_label_train.iloc[test_index]\n",
    "        \n",
    "        precision = precision_score(kgrade_test, try_model.predict(kfeat_test))\n",
    "        precision_scores.append(precision)\n",
    "    oversample_model_scores.append((mini_model_names[i], round(np.mean(precision_scores), 3)))\n",
    "    \n",
    "for t in oversample_model_scores:\n",
    "    print(t)"
   ]
  },
  {
   "cell_type": "code",
   "execution_count": 97,
   "metadata": {
    "ExecuteTime": {
     "end_time": "2018-08-06T22:02:10.008761Z",
     "start_time": "2018-08-06T22:02:09.929216Z"
    }
   },
   "outputs": [
    {
     "name": "stdout",
     "output_type": "stream",
     "text": [
      "No oversampling precision score: 0.93\n",
      "With Random Oversampling precision score: 0.91\n",
      "With SMOTE precision score: 0.898\n",
      "With ADASYN precision score: 0.891\n"
     ]
    }
   ],
   "source": [
    "print('No oversampling precision score:', str(round(precision_score(grade_label_train, Random_Forest.predict(feat_train)), 3)))\n",
    "print('With Random Oversampling precision score:', str(round(precision_score(grade_label_train, Random_Forest_ROS.predict(feat_train)), 3)))\n",
    "print('With SMOTE precision score:', str(round(precision_score(grade_label_train, Random_Forest_SMOTE.predict(feat_train)), 3)))\n",
    "print('With ADASYN precision score:', str(round(precision_score(grade_label_train, Random_Forest_ADASYN.predict(feat_train)), 3)))"
   ]
  },
  {
   "cell_type": "markdown",
   "metadata": {},
   "source": [
    "> Shocker!"
   ]
  },
  {
   "cell_type": "markdown",
   "metadata": {},
   "source": [
    "## Feature selection (with Random Forest)"
   ]
  },
  {
   "cell_type": "code",
   "execution_count": 98,
   "metadata": {
    "ExecuteTime": {
     "end_time": "2018-08-06T22:02:10.023772Z",
     "start_time": "2018-08-06T22:02:10.010368Z"
    }
   },
   "outputs": [
    {
     "name": "stdout",
     "output_type": "stream",
     "text": [
      "failures: 0.212\n",
      "discipline: 0.136\n",
      "absences: 0.096\n",
      "goout: 0.059\n",
      "higher: 0.058\n",
      "Fedu: 0.056\n",
      "studytime: 0.048\n",
      "famrel: 0.048\n",
      "Walc: 0.048\n",
      "Medu: 0.046\n",
      "health: 0.045\n",
      "freetime: 0.044\n",
      "age: 0.043\n",
      "paid: 0.032\n",
      "address: 0.03\n"
     ]
    }
   ],
   "source": [
    "feat_imp = []\n",
    "for feat, imp in zip([f for f in feat_train.columns], Random_Forest.feature_importances_):\n",
    "    feat_imp.append((feat, round(imp, 3)))\n",
    "\n",
    "for feat, imp in sorted(feat_imp, key=lambda x: x[1], reverse=True):\n",
    "    print(str(feat)+':', str(imp))"
   ]
  },
  {
   "cell_type": "markdown",
   "metadata": {},
   "source": [
    "## The moment of truth"
   ]
  },
  {
   "cell_type": "code",
   "execution_count": null,
   "metadata": {},
   "outputs": [],
   "source": []
  }
 ],
 "metadata": {
  "kernelspec": {
   "display_name": "Python 3",
   "language": "python",
   "name": "python3"
  },
  "language_info": {
   "codemirror_mode": {
    "name": "ipython",
    "version": 3
   },
   "file_extension": ".py",
   "mimetype": "text/x-python",
   "name": "python",
   "nbconvert_exporter": "python",
   "pygments_lexer": "ipython3",
   "version": "3.6.5"
  },
  "varInspector": {
   "cols": {
    "lenName": 16,
    "lenType": 16,
    "lenVar": 40
   },
   "kernels_config": {
    "python": {
     "delete_cmd_postfix": "",
     "delete_cmd_prefix": "del ",
     "library": "var_list.py",
     "varRefreshCmd": "print(var_dic_list())"
    },
    "r": {
     "delete_cmd_postfix": ") ",
     "delete_cmd_prefix": "rm(",
     "library": "var_list.r",
     "varRefreshCmd": "cat(var_dic_list()) "
    }
   },
   "types_to_exclude": [
    "module",
    "function",
    "builtin_function_or_method",
    "instance",
    "_Feature"
   ],
   "window_display": false
  }
 },
 "nbformat": 4,
 "nbformat_minor": 2
}
