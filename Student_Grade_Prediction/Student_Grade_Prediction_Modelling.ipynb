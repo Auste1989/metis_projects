{
 "cells": [
  {
   "cell_type": "code",
   "execution_count": 6,
   "metadata": {
    "ExecuteTime": {
     "end_time": "2018-08-18T20:08:49.505015Z",
     "start_time": "2018-08-18T20:08:49.499434Z"
    }
   },
   "outputs": [
    {
     "data": {
      "text/html": [
       "<style>.container { width:95% !important; }</style>"
      ],
      "text/plain": [
       "<IPython.core.display.HTML object>"
      ]
     },
     "metadata": {},
     "output_type": "display_data"
    }
   ],
   "source": [
    "from IPython.core.display import display, HTML\n",
    "display(HTML(\"<style>.container { width:95% !important; }</style>\"))"
   ]
  },
  {
   "cell_type": "code",
   "execution_count": 2,
   "metadata": {
    "ExecuteTime": {
     "end_time": "2018-08-18T21:15:52.612192Z",
     "start_time": "2018-08-18T21:15:51.444873Z"
    }
   },
   "outputs": [],
   "source": [
    "#Essentials\n",
    "import numpy as np\n",
    "import psycopg2 as pg\n",
    "import pandas as pd\n",
    "import pandas.io.sql as pd_sql\n",
    "import matplotlib.pyplot as plt\n",
    "import pickle \n",
    "\n",
    "#sklearn \"magic\"\n",
    "from sklearn.model_selection import train_test_split\n",
    "from sklearn.neighbors import KNeighborsClassifier\n",
    "from sklearn.linear_model import LogisticRegression\n",
    "from sklearn.ensemble import RandomForestClassifier\n",
    "from sklearn.naive_bayes import GaussianNB, BernoulliNB\n",
    "from sklearn.linear_model import SGDClassifier\n",
    "from sklearn.model_selection import GridSearchCV\n",
    "from sklearn.model_selection import KFold\n",
    "from sklearn.model_selection import cross_val_score\n",
    "from sklearn.svm import LinearSVC, SVC\n",
    "from sklearn.pipeline import make_pipeline\n",
    "\n",
    "#Oversampling\n",
    "from sklearn.datasets import make_classification\n",
    "from imblearn.over_sampling import RandomOverSampler\n",
    "from imblearn.over_sampling import SMOTE\n",
    "from imblearn.over_sampling import ADASYN\n",
    "\n",
    "\n",
    "#Not sure about these ones yet\n",
    "from sklearn.datasets import make_classification\n",
    "from xgboost import XGBClassifier\n",
    "\n",
    "#Different scores\n",
    "from sklearn.metrics import precision_score, recall_score, accuracy_score, roc_auc_score, confusion_matrix\n",
    "from sklearn.metrics import precision_recall_curve, f1_score, fbeta_score, roc_curve\n",
    "\n",
    "#Nice to have\n",
    "from mlxtend.plotting import plot_decision_regions, plot_confusion_matrix\n",
    "import seaborn as sns\n",
    "plt.style.use('fivethirtyeight')\n",
    "from sklearn import tree\n",
    "from IPython.display import SVG\n",
    "from graphviz import Source\n",
    "from IPython.display import display \n",
    "from ipywidgets import interactive, FloatSlider\n",
    "from collections import Counter\n",
    "#interactive(lambda threshold: make_confusion_matrix(lm, threshold), threshold=(0.0,1.0,0.02))\n",
    "\n",
    "#Let there be colours!\n",
    "from termcolor import colored\n",
    "\n",
    "%matplotlib inline"
   ]
  },
  {
   "cell_type": "code",
   "execution_count": 8,
   "metadata": {
    "ExecuteTime": {
     "end_time": "2018-08-18T20:08:49.534677Z",
     "start_time": "2018-08-18T20:08:49.529404Z"
    }
   },
   "outputs": [],
   "source": [
    "# Helper function for printing confusion matrices (see: https://gist.github.com/shaypal5/94c53d765083101efc0240d776a23823)\n",
    "def print_confusion_matrix(confusion_matrix, class_names, figsize = (10,7), fontsize=18):\n",
    "    \"\"\"Prints a confusion matrix, as returned by sklearn.metrics.confusion_matrix, as a heatmap.\n",
    "    \n",
    "    Arguments\n",
    "    ---------\n",
    "    confusion_matrix: numpy.ndarray\n",
    "        The numpy.ndarray object returned from a call to sklearn.metrics.confusion_matrix. \n",
    "        Similarly constructed ndarrays can also be used.\n",
    "    class_names: list\n",
    "        An ordered list of class names, in the order they index the given confusion matrix.\n",
    "    figsize: tuple\n",
    "        A 2-long tuple, the first value determining the horizontal size of the ouputted figure,\n",
    "        the second determining the vertical size. Defaults to (10,7).\n",
    "    fontsize: int\n",
    "        Font size for axes labels. Defaults to 14.\n",
    "        \n",
    "    Returns\n",
    "    -------\n",
    "    matplotlib.figure.Figure\n",
    "        The resulting confusion matrix figure\n",
    "    \"\"\"\n",
    "    df_cm = pd.DataFrame(\n",
    "        confusion_matrix, index=class_names, columns=class_names, \n",
    "    )\n",
    "    fig = plt.figure(figsize=figsize)\n",
    "    try:\n",
    "        heatmap = sns.heatmap(df_cm, annot=True, fmt=\"d\")\n",
    "    except ValueError:\n",
    "        raise ValueError(\"Confusion matrix values must be integers.\")\n",
    "    heatmap.yaxis.set_ticklabels(heatmap.yaxis.get_ticklabels(), rotation=0, ha='right', fontsize=fontsize)\n",
    "    heatmap.xaxis.set_ticklabels(heatmap.xaxis.get_ticklabels(), rotation=45, ha='right', fontsize=fontsize)\n",
    "    plt.ylabel('True label')\n",
    "    plt.xlabel('Predicted label')\n",
    "    return fig"
   ]
  },
  {
   "cell_type": "code",
   "execution_count": 13,
   "metadata": {
    "ExecuteTime": {
     "end_time": "2018-08-18T20:17:01.341477Z",
     "start_time": "2018-08-18T20:17:01.248823Z"
    }
   },
   "outputs": [
    {
     "ename": "OperationalError",
     "evalue": "could not connect to server: Connection refused\n\tIs the server running on host \"18.191.187.110\" and accepting\n\tTCP/IP connections on port 5432?\n",
     "output_type": "error",
     "traceback": [
      "\u001b[0;31m---------------------------------------------------------------------------\u001b[0m",
      "\u001b[0;31mOperationalError\u001b[0m                          Traceback (most recent call last)",
      "\u001b[0;32m<ipython-input-13-1d930e8f97e2>\u001b[0m in \u001b[0;36m<module>\u001b[0;34m()\u001b[0m\n\u001b[1;32m      9\u001b[0m \u001b[0;34m\u001b[0m\u001b[0m\n\u001b[1;32m     10\u001b[0m \u001b[0;31m# We will talk about this magic Python trick!\u001b[0m\u001b[0;34m\u001b[0m\u001b[0;34m\u001b[0m\u001b[0m\n\u001b[0;32m---> 11\u001b[0;31m \u001b[0mconnection\u001b[0m \u001b[0;34m=\u001b[0m \u001b[0mpg\u001b[0m\u001b[0;34m.\u001b[0m\u001b[0mconnect\u001b[0m\u001b[0;34m(\u001b[0m\u001b[0;34m**\u001b[0m\u001b[0mconnection_args\u001b[0m\u001b[0;34m)\u001b[0m\u001b[0;34m\u001b[0m\u001b[0m\n\u001b[0m",
      "\u001b[0;32m/anaconda3/lib/python3.6/site-packages/psycopg2/__init__.py\u001b[0m in \u001b[0;36mconnect\u001b[0;34m(dsn, connection_factory, cursor_factory, **kwargs)\u001b[0m\n\u001b[1;32m    128\u001b[0m \u001b[0;34m\u001b[0m\u001b[0m\n\u001b[1;32m    129\u001b[0m     \u001b[0mdsn\u001b[0m \u001b[0;34m=\u001b[0m \u001b[0m_ext\u001b[0m\u001b[0;34m.\u001b[0m\u001b[0mmake_dsn\u001b[0m\u001b[0;34m(\u001b[0m\u001b[0mdsn\u001b[0m\u001b[0;34m,\u001b[0m \u001b[0;34m**\u001b[0m\u001b[0mkwargs\u001b[0m\u001b[0;34m)\u001b[0m\u001b[0;34m\u001b[0m\u001b[0m\n\u001b[0;32m--> 130\u001b[0;31m     \u001b[0mconn\u001b[0m \u001b[0;34m=\u001b[0m \u001b[0m_connect\u001b[0m\u001b[0;34m(\u001b[0m\u001b[0mdsn\u001b[0m\u001b[0;34m,\u001b[0m \u001b[0mconnection_factory\u001b[0m\u001b[0;34m=\u001b[0m\u001b[0mconnection_factory\u001b[0m\u001b[0;34m,\u001b[0m \u001b[0;34m**\u001b[0m\u001b[0mkwasync\u001b[0m\u001b[0;34m)\u001b[0m\u001b[0;34m\u001b[0m\u001b[0m\n\u001b[0m\u001b[1;32m    131\u001b[0m     \u001b[0;32mif\u001b[0m \u001b[0mcursor_factory\u001b[0m \u001b[0;32mis\u001b[0m \u001b[0;32mnot\u001b[0m \u001b[0;32mNone\u001b[0m\u001b[0;34m:\u001b[0m\u001b[0;34m\u001b[0m\u001b[0m\n\u001b[1;32m    132\u001b[0m         \u001b[0mconn\u001b[0m\u001b[0;34m.\u001b[0m\u001b[0mcursor_factory\u001b[0m \u001b[0;34m=\u001b[0m \u001b[0mcursor_factory\u001b[0m\u001b[0;34m\u001b[0m\u001b[0m\n",
      "\u001b[0;31mOperationalError\u001b[0m: could not connect to server: Connection refused\n\tIs the server running on host \"18.191.187.110\" and accepting\n\tTCP/IP connections on port 5432?\n"
     ]
    }
   ],
   "source": [
    "# Postgres info to connect\n",
    "\n",
    "connection_args = {\n",
    "    'host': '18.191.187.110', \n",
    "    'user': 'ubuntu',    # username\n",
    "    'dbname': 'student_grades',   # DB that we are connecting to\n",
    "    'port': 5432         # port we opened on AWS\n",
    "}\n",
    "\n",
    "# We will talk about this magic Python trick!\n",
    "connection = pg.connect(**connection_args)"
   ]
  },
  {
   "cell_type": "code",
   "execution_count": null,
   "metadata": {
    "ExecuteTime": {
     "end_time": "2018-08-18T20:10:06.159625Z",
     "start_time": "2018-08-18T20:08:49.509Z"
    }
   },
   "outputs": [],
   "source": [
    "# failures: 0.205\n",
    "# discipline: 0.116\n",
    "# absences: 0.081\n",
    "# higher: 0.052\n",
    "# goout: 0.051\n",
    "# Fedu: 0.049\n",
    "# Medu: 0.043\n",
    "# studytime: 0.037\n",
    "# famrel: 0.035\n",
    "# Walc: 0.035\n",
    "# age: 0.034\n",
    "# freetime: 0.032\n",
    "# paid: 0.029\n",
    "# health: 0.029\n",
    "# address: 0.025"
   ]
  },
  {
   "cell_type": "code",
   "execution_count": null,
   "metadata": {
    "ExecuteTime": {
     "end_time": "2018-08-18T20:10:06.160421Z",
     "start_time": "2018-08-18T20:08:49.511Z"
    }
   },
   "outputs": [],
   "source": [
    "### Let's combine the two SQL tables into one\n",
    "\n",
    "append_query = \"\"\"SELECT *\n",
    "                    \n",
    "                    FROM maths_grades\n",
    "                    WHERE age BETWEEN 15 AND 19\n",
    "\n",
    "                    UNION ALL\n",
    "\n",
    "                    SELECT *\n",
    "                    \n",
    "                    FROM portuguese_grades\n",
    "                    WHERE age BETWEEN 15 AND 19\n",
    "                    \"\"\"\n",
    "\n",
    "grades = pd_sql.read_sql(append_query, connection)"
   ]
  },
  {
   "cell_type": "code",
   "execution_count": null,
   "metadata": {
    "ExecuteTime": {
     "end_time": "2018-08-18T20:10:06.162011Z",
     "start_time": "2018-08-18T20:08:49.513Z"
    }
   },
   "outputs": [],
   "source": [
    "grades.head()"
   ]
  },
  {
   "cell_type": "markdown",
   "metadata": {},
   "source": [
    "### Feature and target analysis"
   ]
  },
  {
   "cell_type": "code",
   "execution_count": null,
   "metadata": {
    "ExecuteTime": {
     "end_time": "2018-08-18T20:10:06.163331Z",
     "start_time": "2018-08-18T20:08:49.515Z"
    }
   },
   "outputs": [],
   "source": [
    "print(grades['final_grade_label'].value_counts(), '\\n')\n",
    "print('% of Pass:', str(round(814 / 1044, 2)))\n",
    "print('% of Fail:', str(round(230 / 1044, 2)), '\\n')\n",
    "print('Pass to Fail ratio in the dataset:', str(int((814 / 1044)*100))+':'+str(int((230 / 1044)*100)))\n",
    "print('Percentage of Majority grade (Pass)', str(round((814 / 1044) *100, 0)))"
   ]
  },
  {
   "cell_type": "markdown",
   "metadata": {},
   "source": [
    "> **This is not good!** I should look into oversampling or undersampling further down the line"
   ]
  },
  {
   "cell_type": "markdown",
   "metadata": {},
   "source": [
    "### Let's dummify some variables"
   ]
  },
  {
   "cell_type": "code",
   "execution_count": null,
   "metadata": {
    "ExecuteTime": {
     "end_time": "2018-08-18T20:10:06.164849Z",
     "start_time": "2018-08-18T20:08:49.518Z"
    }
   },
   "outputs": [],
   "source": [
    "#Sanity check\n",
    "grades.columns"
   ]
  },
  {
   "cell_type": "code",
   "execution_count": null,
   "metadata": {
    "ExecuteTime": {
     "end_time": "2018-08-18T20:10:06.166571Z",
     "start_time": "2018-08-18T20:08:49.519Z"
    }
   },
   "outputs": [],
   "source": [
    "#dummify sex (M=0, F=1)\n",
    "grades['sex'].replace({'M': 0, 'F': 1}, inplace=True)\n",
    "\n",
    "#dummify address (U(urban)=0, R(rural)=1)\n",
    "grades['address'].replace({'U': 0, 'R': 1}, inplace=True)\n",
    "\n",
    "#dummify discipline (maths=0, portuguese=1)\n",
    "grades['discipline'].replace({'maths': 0, 'portuguese': 1}, inplace=True)\n",
    "\n",
    "#dummify target variable\n",
    "grades['final_grade_label'].replace({'Fail': 0, 'Pass': 1}, inplace=True)\n",
    "\n",
    "#drop unimportant columns (including G3, which is the actual grade)\n",
    "grades.drop(columns=['G3', 'sex', 'romantic', 'guardian', 'Dalc', 'activities', 'schoolsup', 'traveltime', 'famsup',\n",
    "                    'famsize', 'internet', 'Pstatus', 'final_grade_segment'], inplace=True)\n",
    "\n",
    "# #dummify famsize (LE3(less than/equal to 3)=0, GT3(greater than 3)=1)\n",
    "# grades['famsize'].replace({'LE3': 0, 'GT3': 1}, inplace=True)\n",
    "\n",
    "# #dummify Pstatus(parent status) (T(together)=0, A(apart)=1)\n",
    "# grades['Pstatus'].replace({'T': 0, 'A': 1}, inplace=True)\n",
    "\n",
    "# #dummify guardian (other=0, mother=1, father=2)\n",
    "# grades['guardian'].replace({'other': 0, 'mother': 1, 'father': 2}, inplace=True)"
   ]
  },
  {
   "cell_type": "code",
   "execution_count": null,
   "metadata": {
    "ExecuteTime": {
     "end_time": "2018-08-18T20:10:06.168083Z",
     "start_time": "2018-08-18T20:08:49.521Z"
    }
   },
   "outputs": [],
   "source": [
    "feat, grade_label = grades.iloc[:, :-1], grades.iloc[:, -1]"
   ]
  },
  {
   "cell_type": "code",
   "execution_count": null,
   "metadata": {
    "ExecuteTime": {
     "end_time": "2018-08-18T20:10:06.169331Z",
     "start_time": "2018-08-18T20:08:49.523Z"
    }
   },
   "outputs": [],
   "source": [
    "# print(feat.head())\n",
    "# print(grade_label.head())"
   ]
  },
  {
   "cell_type": "code",
   "execution_count": null,
   "metadata": {
    "ExecuteTime": {
     "end_time": "2018-08-18T20:10:06.170533Z",
     "start_time": "2018-08-18T20:08:49.525Z"
    }
   },
   "outputs": [],
   "source": [
    "#grades.corr()"
   ]
  },
  {
   "cell_type": "code",
   "execution_count": null,
   "metadata": {
    "ExecuteTime": {
     "end_time": "2018-08-18T20:10:06.171577Z",
     "start_time": "2018-08-18T20:08:49.526Z"
    }
   },
   "outputs": [],
   "source": [
    "plt.figure(dpi=150)\n",
    "plt.title('Correlation Matrix')\n",
    "corr = grades.corr()\n",
    "sns.heatmap(corr, \n",
    "            xticklabels=corr.columns.values,\n",
    "            yticklabels=corr.columns.values);"
   ]
  },
  {
   "cell_type": "code",
   "execution_count": null,
   "metadata": {
    "ExecuteTime": {
     "end_time": "2018-08-18T20:10:06.173343Z",
     "start_time": "2018-08-18T20:08:49.527Z"
    },
    "scrolled": false
   },
   "outputs": [],
   "source": [
    "sns.pairplot(grades);\n"
   ]
  },
  {
   "cell_type": "markdown",
   "metadata": {},
   "source": [
    "## Train - test split"
   ]
  },
  {
   "cell_type": "code",
   "execution_count": null,
   "metadata": {
    "ExecuteTime": {
     "end_time": "2018-08-18T20:10:06.174340Z",
     "start_time": "2018-08-18T20:08:49.529Z"
    }
   },
   "outputs": [],
   "source": [
    "feat_train, feat_test, grade_label_train, grade_label_test = train_test_split(feat, grade_label, test_size=0.2\n",
    "                                                                                  , random_state=42, stratify=grade_label)"
   ]
  },
  {
   "cell_type": "markdown",
   "metadata": {},
   "source": [
    "# Modelling Time"
   ]
  },
  {
   "cell_type": "markdown",
   "metadata": {},
   "source": [
    "### Identifying best hyper-parameters"
   ]
  },
  {
   "cell_type": "markdown",
   "metadata": {},
   "source": [
    "**KNN Classifier (in search for the optimal k)**"
   ]
  },
  {
   "cell_type": "code",
   "execution_count": null,
   "metadata": {
    "ExecuteTime": {
     "end_time": "2018-08-18T20:10:06.175710Z",
     "start_time": "2018-08-18T20:08:49.532Z"
    }
   },
   "outputs": [],
   "source": [
    "k_range = range(1, 31)\n",
    "weight_options = ['uniform', 'distance']\n",
    "param_grid_knn = dict(n_neighbors=k_range, weights=weight_options)\n",
    "\n",
    "grid_knn = GridSearchCV(KNeighborsClassifier(), param_grid_knn, scoring='precision')\n",
    "grid_knn.fit(feat_train, grade_label_train);"
   ]
  },
  {
   "cell_type": "code",
   "execution_count": null,
   "metadata": {
    "ExecuteTime": {
     "end_time": "2018-08-18T20:10:06.176752Z",
     "start_time": "2018-08-18T20:08:49.533Z"
    }
   },
   "outputs": [],
   "source": [
    "# examine the best model\n",
    "print('Best precision score for knn cross validation is', colored(str(round(grid_knn.best_score_, 3)), 'magenta')+ '.')\n",
    "print('Best parameters for knn cross validation are', colored(str(grid_knn.best_params_), 'magenta')+ '.')\n",
    "print('Best estimators for knn cross validation are the following:\\n\\t', colored(str(grid_knn.best_estimator_), 'magenta'))"
   ]
  },
  {
   "cell_type": "markdown",
   "metadata": {},
   "source": [
    "**Logistic Regression Classifier (in search for the optimal hypers)**"
   ]
  },
  {
   "cell_type": "code",
   "execution_count": null,
   "metadata": {
    "ExecuteTime": {
     "end_time": "2018-08-18T20:10:06.177944Z",
     "start_time": "2018-08-18T20:08:49.535Z"
    },
    "scrolled": true
   },
   "outputs": [],
   "source": [
    "penalties = ['l1', 'l2']\n",
    "C_range = [1e-04, 1e-03, 1e-02, 0.1, 1.0, 10.0]\n",
    "weights = [None, 'balanced']\n",
    "iterations = [1, 2, 5, 10, 20, 40, 60]\n",
    "param_grid_LogReg = dict(penalty=penalties, C=C_range, class_weight=weights, max_iter=iterations)\n",
    "\n",
    "grid_LogReg = GridSearchCV(LogisticRegression(random_state=42), param_grid_LogReg, scoring='average_precision')\n",
    "grid_LogReg.fit(feat_train, grade_label_train);"
   ]
  },
  {
   "cell_type": "code",
   "execution_count": null,
   "metadata": {
    "ExecuteTime": {
     "end_time": "2018-08-18T20:10:06.178836Z",
     "start_time": "2018-08-18T20:08:49.537Z"
    },
    "scrolled": true
   },
   "outputs": [],
   "source": [
    "# examine the best model\n",
    "print('Best avg. precision score for Logistic Regression cross validation is', colored(str(round(grid_LogReg.best_score_, 3)), 'magenta')+ '.')\n",
    "print('Best parameters for Logistic Regression cross validation are:\\n\\t', colored(str(grid_LogReg.best_params_), 'magenta')+ '.')\n",
    "print('Best estimators for Logistic Regression cross validation are the following:\\n\\t', colored(str(grid_LogReg.best_estimator_), 'magenta'))"
   ]
  },
  {
   "cell_type": "markdown",
   "metadata": {},
   "source": [
    "**Random Forest Classifier (in search for the optimal hypers)**"
   ]
  },
  {
   "cell_type": "code",
   "execution_count": null,
   "metadata": {
    "ExecuteTime": {
     "end_time": "2018-08-18T20:10:06.179928Z",
     "start_time": "2018-08-18T20:08:49.539Z"
    },
    "scrolled": true
   },
   "outputs": [],
   "source": [
    "estimators = [150] #tried [2, 5, 10, 20, 40, 50, 100, 150]\n",
    "depth = [20] #tried [2, 5, 10, 20, 30, 40]\n",
    "leaf_samples = [10] #tried [1, 2, 3, 4, 5, 10]\n",
    "samples = [2] #tried [2, 3, 4, 5, 10]\n",
    "weights = ['balanced'] #tried ['balanced', None]\n",
    "param_grid_RandFor = dict(n_estimators=estimators, max_depth=depth, min_samples_leaf=leaf_samples, min_samples_split=samples, class_weight=weights)\n",
    "\n",
    "grid_RandFor = GridSearchCV(RandomForestClassifier(random_state=42), param_grid_RandFor, scoring='precision')\n",
    "grid_RandFor.fit(feat_train, grade_label_train);"
   ]
  },
  {
   "cell_type": "code",
   "execution_count": null,
   "metadata": {
    "ExecuteTime": {
     "end_time": "2018-08-18T20:10:06.180859Z",
     "start_time": "2018-08-18T20:08:49.540Z"
    },
    "scrolled": false
   },
   "outputs": [],
   "source": [
    "# examine the best model\n",
    "print('Best precision score for Random Forest cross validation is', colored(str(round(grid_RandFor.best_score_, 3)), 'magenta')+ '.')\n",
    "print('Best parameters for Random Forest cross validation are:\\n\\t', colored(str(grid_RandFor.best_params_), 'magenta'))\n",
    "print('Best estimators for Random Forest cross validation are the following:\\n\\t', colored(str(grid_RandFor.best_estimator_), 'magenta'))"
   ]
  },
  {
   "cell_type": "markdown",
   "metadata": {},
   "source": [
    "**Support Vector Classification (SVC) (in search for the optimal hypers)**"
   ]
  },
  {
   "cell_type": "code",
   "execution_count": null,
   "metadata": {
    "ExecuteTime": {
     "end_time": "2018-08-18T20:10:06.182025Z",
     "start_time": "2018-08-18T20:08:49.542Z"
    },
    "scrolled": true
   },
   "outputs": [],
   "source": [
    "C_range = [0.001, 0.01, 0.1, 1.0, 2.0, 3.0, 5.0, 8.0, 10.0, 15.0] #tried [0.001, 0.01, 0.1, 1.0, 2.0, 3.0, 5.0]\n",
    "kernel_range = ['poly'] #tried ['linear', 'poly', 'rbf', 'sigmoid']\n",
    "degree_range = [1] #tried [1, 2, 3, 4, 7]\n",
    "probs = [True] #tried [True, False]\n",
    "weights = ['balanced'] #tried ['balanced', None]\n",
    "param_grid_SVC = dict(C=C_range, kernel=kernel_range, degree=degree_range, probability=probs, class_weight=weights)\n",
    "\n",
    "grid_SVC = GridSearchCV(SVC(random_state=42), param_grid_SVC, scoring='average_precision')\n",
    "grid_SVC.fit(feat_train, grade_label_train);"
   ]
  },
  {
   "cell_type": "code",
   "execution_count": null,
   "metadata": {
    "ExecuteTime": {
     "end_time": "2018-08-18T20:10:06.183428Z",
     "start_time": "2018-08-18T20:08:49.543Z"
    },
    "scrolled": true
   },
   "outputs": [],
   "source": [
    "# examine the best model\n",
    "print('Best precision score for SVC cross validation is', colored(str(round(grid_SVC.best_score_, 3)), 'magenta')+ '.')\n",
    "print('Best parameters for SVC cross validation are:\\n\\t', colored(str(grid_SVC.best_params_), 'magenta'))\n",
    "print('Best estimators for SVC cross validation are the following:\\n\\t', colored(str(grid_SVC.best_estimator_), 'magenta'))"
   ]
  },
  {
   "cell_type": "markdown",
   "metadata": {},
   "source": [
    "**Naive Bayes Bernoulli (NBB) (in search for the optimal hypers)**"
   ]
  },
  {
   "cell_type": "code",
   "execution_count": null,
   "metadata": {
    "ExecuteTime": {
     "end_time": "2018-08-18T20:10:06.184793Z",
     "start_time": "2018-08-18T20:08:49.545Z"
    },
    "scrolled": false
   },
   "outputs": [],
   "source": [
    "alphas = [1e-05, 1e-4, 1e-2, 0.1, 1.0, 10.0]\n",
    "priors = [True, False]\n",
    "param_grid_NBB = dict(alpha=alphas, fit_prior=priors)\n",
    "\n",
    "grid_NBB = GridSearchCV(BernoulliNB(), param_grid_NBB, scoring='precision')\n",
    "grid_NBB.fit(feat_train, grade_label_train);"
   ]
  },
  {
   "cell_type": "code",
   "execution_count": null,
   "metadata": {
    "ExecuteTime": {
     "end_time": "2018-08-18T20:10:06.186147Z",
     "start_time": "2018-08-18T20:08:49.548Z"
    },
    "scrolled": true
   },
   "outputs": [],
   "source": [
    "# examine the best model\n",
    "print('Best precision score for NBB cross validation is', colored(str(round(grid_NBB.best_score_, 3)), 'magenta')+ '.')\n",
    "print('Best parameters for NBB cross validation are:\\n\\t', colored(str(grid_NBB.best_params_), 'magenta'))\n",
    "print('Best estimators for NBB cross validation are the following:\\n\\t', colored(str(grid_NBB.best_estimator_), 'magenta'))"
   ]
  },
  {
   "cell_type": "markdown",
   "metadata": {},
   "source": [
    "**Stochastic Gradient Descent (SDG) Classifier (in search for the optimal hypers)**"
   ]
  },
  {
   "cell_type": "code",
   "execution_count": null,
   "metadata": {
    "ExecuteTime": {
     "end_time": "2018-08-18T20:10:06.187679Z",
     "start_time": "2018-08-18T20:08:49.550Z"
    },
    "scrolled": true
   },
   "outputs": [],
   "source": [
    "losses = ['hinge']      #also tried ['hinge', 'log', 'modified_huber', 'squared_hinge', 'perceptron','squared_loss', 'huber', , 'squared_epsilon_insensitive']\n",
    "penalties = ['l1']             #tried ['l1', 'l2']\n",
    "alphas = [0.01]                 #tried [1e-06, 1e-05, 1e-04, 1e-03, 0.01, 0.1, 1.0, 5.0]\n",
    "iterations = [150]            #previous [5, 10, 50, 150, 150, 200, 500]\n",
    "l_rates = ['invscaling']         #previous ['constant', 'optimal', 'invscaling']\n",
    "weights = [None]        #tried [None, 'balanced']\n",
    "etas = [0.2]                   #tried [0.1, 0.2, 0.5]\n",
    "param_grid_SGD = dict(loss=losses, penalty=penalties, alpha=alphas, max_iter=iterations, learning_rate=l_rates\n",
    "                      , class_weight=weights, eta0=etas)\n",
    "\n",
    "grid_SGD = GridSearchCV(SGDClassifier(random_state=42), param_grid_SGD, scoring='average_precision')\n",
    "grid_SGD.fit(feat_train, grade_label_train);"
   ]
  },
  {
   "cell_type": "code",
   "execution_count": null,
   "metadata": {
    "ExecuteTime": {
     "end_time": "2018-08-18T20:10:06.189259Z",
     "start_time": "2018-08-18T20:08:49.552Z"
    },
    "scrolled": false
   },
   "outputs": [],
   "source": [
    "# examine the best model\n",
    "print('Best precision score for Stochastic Gradient Descent cross validation is', colored(str(round(grid_SGD.best_score_, 3)), 'magenta')+ '.')\n",
    "print('Best parameters for Stochastic Gradient Descent cross validation are:\\n\\t', colored(str(grid_SGD.best_params_), 'magenta'))\n",
    "print('Best estimators for Stochastic Gradient Descent cross validation are the following:\\n\\t', colored(str(grid_SGD.best_estimator_), 'magenta'))"
   ]
  },
  {
   "cell_type": "markdown",
   "metadata": {},
   "source": [
    "### Let's compare the models at their best"
   ]
  },
  {
   "cell_type": "code",
   "execution_count": null,
   "metadata": {
    "ExecuteTime": {
     "end_time": "2018-08-18T20:10:06.190724Z",
     "start_time": "2018-08-18T20:08:49.553Z"
    }
   },
   "outputs": [],
   "source": [
    "model_list = [KNeighborsClassifier(n_neighbors=4, weights='uniform'), \n",
    "              LogisticRegression(C=10.0, class_weight=None, max_iter=5, penalty='l1', random_state=42),\n",
    "              RandomForestClassifier(n_estimators=150, class_weight='balanced', max_depth=20, min_samples_leaf=10, min_samples_split=2, random_state=42), \n",
    "              SVC(5.0, class_weight='balanced', degree=1, kernel='poly', probability=True), \n",
    "              GaussianNB(),\n",
    "              BernoulliNB(alpha=0.1, fit_prior=False),\n",
    "              SGDClassifier(loss='hinge', penalty='l1', alpha=0.01, max_iter=150, learning_rate='invscaling'\n",
    "                      , class_weight=None, eta0=0.2, random_state=42)]\n",
    "\n",
    "model_names = ['KNN', 'Logistic Regression', 'Random Forest', 'SVC', 'Naive Bayes Gaussian', 'Naive Bayes Bernoulli', 'SGD']"
   ]
  },
  {
   "cell_type": "code",
   "execution_count": null,
   "metadata": {
    "ExecuteTime": {
     "end_time": "2018-08-18T20:10:06.191878Z",
     "start_time": "2018-08-18T20:08:49.558Z"
    },
    "scrolled": false
   },
   "outputs": [],
   "source": [
    "model_auc_scores = []\n",
    "model_precision_scores = []\n",
    "model_recall_scores = []\n",
    "all_models = {}\n",
    "\n",
    "for i in range(len(model_list)):\n",
    "    try_model = model_list[i]\n",
    "    try_model.fit(feat_train, grade_label_train)\n",
    "    all_models[model_names[i]] = try_model\n",
    "    cv_roc_auc_score = cross_val_score(try_model, feat_train, grade_label_train, cv=10,\n",
    "                                scoring='roc_auc')\n",
    "    cv_precision_score = cross_val_score(try_model, feat_train, grade_label_train, cv=10,\n",
    "                                scoring='precision')\n",
    "    cv_recall_score = cross_val_score(try_model, feat_train, grade_label_train, cv=10,\n",
    "                                scoring='recall')\n",
    "    model_auc_scores.append((model_names[i], round(np.mean(cv_roc_auc_score), 3)))\n",
    "    model_precision_scores.append((model_names[i], round(np.mean(cv_precision_score), 3)))\n",
    "    model_recall_scores.append((model_names[i], round(np.mean(cv_recall_score), 3)))\n",
    "    \n",
    "print('AUC scores: ' + colored(str(sorted(model_auc_scores, key=lambda x: x[1], reverse=True)), 'green'))\n",
    "print('Precision scores: '+ colored(str(sorted(model_precision_scores, key=lambda x: x[1], reverse=True)), 'green'))\n",
    "print('Recall scores: '+ colored(str(sorted(model_recall_scores, key=lambda x: x[1], reverse=True)), 'green'))"
   ]
  },
  {
   "cell_type": "markdown",
   "metadata": {},
   "source": [
    "> **Random Forest wins! Runner up is Naive Bayes (Bernoulli distribution)**"
   ]
  },
  {
   "cell_type": "markdown",
   "metadata": {},
   "source": [
    "## Let's check out AUC scores and ROC curves"
   ]
  },
  {
   "cell_type": "code",
   "execution_count": null,
   "metadata": {
    "ExecuteTime": {
     "end_time": "2018-08-18T20:10:06.193383Z",
     "start_time": "2018-08-18T20:08:49.560Z"
    },
    "scrolled": false
   },
   "outputs": [],
   "source": [
    "#roc_curve function calculates the true positive, false positive and a threshold\n",
    "#fpr_knn, tpr_knn, thresholds_knn = roc_curve(grade_label_train, all_models['KNN'].predict_proba(feat_train)[:,1])\n",
    "fpr_LogReg, tpr_LogReg, thresholds_LogReg = roc_curve(grade_label_train, all_models['Logistic Regression'].predict_proba(feat_train)[:,1])\n",
    "fpr_RandFor, tpr_RandFor, thresholds_RandFor = roc_curve(grade_label_train, all_models['Random Forest'].predict_proba(feat_train)[:,1])\n",
    "fpr_SVC, tpr_SVC, thresholds_SVC = roc_curve(grade_label_train, all_models['SVC'].predict_proba(feat_train)[:,1])\n",
    "fpr_NBG, tpr_NBG, thresholds_NBG = roc_curve(grade_label_train, all_models['Naive Bayes Gaussian'].predict_proba(feat_train)[:,1])\n",
    "fpr_NBB, tpr_NBB, thresholds_NBB = roc_curve(grade_label_train, all_models['Naive Bayes Bernoulli'].predict_proba(feat_train)[:,1])\n",
    "#fpr_SGD, tpr_SGD, thresholds_SGD = roc_curve(grade_label_train, all_models['SGD'].predict_proba(feat_train)[:,1])"
   ]
  },
  {
   "cell_type": "code",
   "execution_count": null,
   "metadata": {
    "ExecuteTime": {
     "end_time": "2018-08-18T20:10:06.194616Z",
     "start_time": "2018-08-18T20:08:49.561Z"
    }
   },
   "outputs": [],
   "source": [
    "plt.figure(dpi=120, facecolor='white')\n",
    "#plt.plot(fpr_knn, tpr_knn, lw=2, label='KNN')\n",
    "plt.plot(fpr_LogReg, tpr_LogReg, lw=2, label='Log Reg')\n",
    "plt.plot(fpr_RandFor, tpr_RandFor, lw=2, label='Random Forest')\n",
    "plt.plot(fpr_SVC, tpr_SVC, lw=2, label='SVC')\n",
    "plt.plot(fpr_NBG, tpr_NBG, lw=2, label='Naive Bayes Gaussian')\n",
    "plt.plot(fpr_NBB, tpr_NBB, lw=2, label='Naive Bayes Bernoulli')\n",
    "#plt.plot(fpr_SGD, tpr_SGD, lw=2, label='SGD')\n",
    "plt.plot([0,1],[0,1],c='r',ls='--')\n",
    "plt.xlim([-0.05,1.05])\n",
    "plt.ylim([-0.05,1.05])\n",
    "plt.legend()\n",
    "\n",
    "\n",
    "plt.xlabel('False positive rate')\n",
    "plt.ylabel('True positive rate')\n",
    "plt.title('ROC curve for grade problem')\n",
    "\n",
    "\n",
    "#plt.savefig('/Users/auste_m/ds/metis/metisgh/github/metis_projects/Student_Grade_Prediction/ROC.png', format='png', dpi=120, bbox_inches=\"tight\");"
   ]
  },
  {
   "cell_type": "markdown",
   "metadata": {},
   "source": [
    ">> **It's decided! Random Forest it is!**"
   ]
  },
  {
   "cell_type": "code",
   "execution_count": null,
   "metadata": {
    "ExecuteTime": {
     "end_time": "2018-08-18T20:10:06.195556Z",
     "start_time": "2018-08-18T20:08:49.563Z"
    }
   },
   "outputs": [],
   "source": [
    "#Let's record the two best models\n",
    "Random_Forest = all_models['Random Forest']"
   ]
  },
  {
   "cell_type": "code",
   "execution_count": null,
   "metadata": {
    "ExecuteTime": {
     "end_time": "2018-08-18T20:10:06.196698Z",
     "start_time": "2018-08-18T20:08:49.565Z"
    }
   },
   "outputs": [],
   "source": [
    "RF_cm = confusion_matrix(grade_label_train, Random_Forest.predict(feat_train))\n",
    "RF_cm = print_confusion_matrix(RF_cm, ['Fail', 'Pass'])\n",
    "\n",
    "print('Confusion Matrix for Random Forest')"
   ]
  },
  {
   "cell_type": "markdown",
   "metadata": {},
   "source": [
    "## Can we do better with oversampling?"
   ]
  },
  {
   "cell_type": "markdown",
   "metadata": {},
   "source": [
    "#### Random Over Sampler "
   ]
  },
  {
   "cell_type": "code",
   "execution_count": null,
   "metadata": {
    "ExecuteTime": {
     "end_time": "2018-08-18T20:10:06.197615Z",
     "start_time": "2018-08-18T20:08:49.568Z"
    }
   },
   "outputs": [],
   "source": [
    "ROS = RandomOverSampler(random_state=42)\n",
    "feat_train_ROS, grade_label_train_ROS = ROS.fit_sample(feat_train, grade_label_train)"
   ]
  },
  {
   "cell_type": "code",
   "execution_count": null,
   "metadata": {
    "ExecuteTime": {
     "end_time": "2018-08-18T20:10:06.198497Z",
     "start_time": "2018-08-18T20:08:49.569Z"
    }
   },
   "outputs": [],
   "source": [
    "Counter(grade_label_train_ROS)"
   ]
  },
  {
   "cell_type": "code",
   "execution_count": null,
   "metadata": {
    "ExecuteTime": {
     "end_time": "2018-08-18T20:10:06.199629Z",
     "start_time": "2018-08-18T20:08:49.573Z"
    }
   },
   "outputs": [],
   "source": [
    "#Create a new Random Forest model and fit with \"oversampled\" values\n",
    "Random_Forest_ROS = RandomForestClassifier(n_estimators=150, class_weight=None, max_depth=5, min_samples_leaf=5, min_samples_split=2, random_state=42)\n",
    "Random_Forest_ROS.fit(feat_train_ROS, grade_label_train_ROS);"
   ]
  },
  {
   "cell_type": "code",
   "execution_count": null,
   "metadata": {
    "ExecuteTime": {
     "end_time": "2018-08-18T20:10:06.200870Z",
     "start_time": "2018-08-18T20:08:49.575Z"
    },
    "scrolled": false
   },
   "outputs": [],
   "source": [
    "print('The scores on original training set are:\\n')\n",
    "print('Accuracy score after Random Over Sampler is:', colored(str(round(Random_Forest_ROS.score(feat_train, grade_label_train), 3)), 'magenta'))\n",
    "print('Recall score after Random Over Sampler is:', colored(str(round(recall_score(\n",
    "                                        grade_label_train, Random_Forest_ROS.predict(feat_train)), 3)), 'magenta'))\n",
    "print('Precision score after Random Over Sampler is:', colored(str(round(precision_score(\n",
    "                                        grade_label_train, Random_Forest_ROS.predict(feat_train)), 3)), 'green'))\n",
    "print('F1 score after Random Over Sampler is:', colored(str(round(f1_score(\n",
    "                                        grade_label_train, Random_Forest_ROS.predict(feat_train)), 3)), 'magenta'))\n",
    "\n",
    "RF_ROS_cm = confusion_matrix(grade_label_train, Random_Forest_ROS.predict(feat_train))\n",
    "RF_ROS_cm = print_confusion_matrix(RF_ROS_cm, ['Fail', 'Pass'])\n",
    "\n",
    "print('\\nConfusion Matrix for Random Forest with Random Oversampling')"
   ]
  },
  {
   "cell_type": "markdown",
   "metadata": {},
   "source": [
    "> Not with Random Over Sampler, apparently!"
   ]
  },
  {
   "cell_type": "markdown",
   "metadata": {},
   "source": [
    "#### SMOTE"
   ]
  },
  {
   "cell_type": "code",
   "execution_count": null,
   "metadata": {
    "ExecuteTime": {
     "end_time": "2018-08-18T20:10:06.202029Z",
     "start_time": "2018-08-18T20:08:49.577Z"
    }
   },
   "outputs": [],
   "source": [
    "SMO = SMOTE(random_state=42)\n",
    "feat_train_smoted, grade_label_train_smoted = SMO.fit_sample(feat_train, grade_label_train)"
   ]
  },
  {
   "cell_type": "code",
   "execution_count": null,
   "metadata": {
    "ExecuteTime": {
     "end_time": "2018-08-18T20:10:06.202879Z",
     "start_time": "2018-08-18T20:08:49.579Z"
    }
   },
   "outputs": [],
   "source": [
    "Counter(grade_label_train_smoted)"
   ]
  },
  {
   "cell_type": "code",
   "execution_count": null,
   "metadata": {
    "ExecuteTime": {
     "end_time": "2018-08-18T20:10:06.204024Z",
     "start_time": "2018-08-18T20:08:49.581Z"
    },
    "scrolled": false
   },
   "outputs": [],
   "source": [
    "Random_Forest_SMOTE = RandomForestClassifier(n_estimators=150, class_weight=None, max_depth=5, min_samples_leaf=5, min_samples_split=2, random_state=42)\n",
    "Random_Forest_SMOTE.fit(feat_train_smoted, grade_label_train_smoted);"
   ]
  },
  {
   "cell_type": "code",
   "execution_count": null,
   "metadata": {
    "ExecuteTime": {
     "end_time": "2018-08-18T20:10:06.204905Z",
     "start_time": "2018-08-18T20:08:49.582Z"
    }
   },
   "outputs": [],
   "source": [
    "print('Test scores on original training set are:\\n')\n",
    "print('Accuracy score after SMOTE is:', colored(str(round(Random_Forest_SMOTE.score(feat_train, grade_label_train), 3)), 'magenta'))\n",
    "print('Recall score after SMOTE is:', colored(str(round(recall_score(\n",
    "                                        grade_label_train, Random_Forest_SMOTE.predict(feat_train)), 3)), 'magenta'))\n",
    "print('Precision score after SMOTE is:', colored(str(round(precision_score(\n",
    "                                        grade_label_train, Random_Forest_SMOTE.predict(feat_train)), 3)), 'green'))\n",
    "print('F1 score after SMOTE is:', colored(str(round(f1_score(\n",
    "                                        grade_label_train, Random_Forest_SMOTE.predict(feat_train)), 3)), 'magenta'))\n",
    "\n",
    "#What's my confusion matrix looking like?\n",
    "RF_smoted_cm = confusion_matrix(grade_label_train, Random_Forest_SMOTE.predict(feat_train))\n",
    "RF_smoted_cm = print_confusion_matrix(RF_smoted_cm, ['Fail', 'Pass'])\n",
    "\n",
    "print('\\nConfusion Matrix for Random Forest with SMOTE')"
   ]
  },
  {
   "cell_type": "markdown",
   "metadata": {},
   "source": [
    "> Not much improvement with SMOTE"
   ]
  },
  {
   "cell_type": "markdown",
   "metadata": {},
   "source": [
    "#### ADASYN"
   ]
  },
  {
   "cell_type": "code",
   "execution_count": null,
   "metadata": {
    "ExecuteTime": {
     "end_time": "2018-08-18T20:10:06.205962Z",
     "start_time": "2018-08-18T20:08:49.584Z"
    }
   },
   "outputs": [],
   "source": [
    "ADA = ADASYN(random_state=42)\n",
    "feat_train_adasyn, grade_label_train_adasyn = ADA.fit_sample(feat_train, grade_label_train)"
   ]
  },
  {
   "cell_type": "code",
   "execution_count": null,
   "metadata": {
    "ExecuteTime": {
     "end_time": "2018-08-18T20:10:06.207096Z",
     "start_time": "2018-08-18T20:08:49.586Z"
    }
   },
   "outputs": [],
   "source": [
    "Counter(grade_label_train_adasyn)"
   ]
  },
  {
   "cell_type": "code",
   "execution_count": null,
   "metadata": {
    "ExecuteTime": {
     "end_time": "2018-08-18T20:10:06.208107Z",
     "start_time": "2018-08-18T20:08:49.587Z"
    },
    "scrolled": true
   },
   "outputs": [],
   "source": [
    "Random_Forest_ADASYN = RandomForestClassifier(n_estimators=150, class_weight=None, max_depth=5, min_samples_leaf=5, min_samples_split=2, random_state=42)\n",
    "Random_Forest_ADASYN.fit(feat_train_adasyn, grade_label_train_adasyn);"
   ]
  },
  {
   "cell_type": "code",
   "execution_count": null,
   "metadata": {
    "ExecuteTime": {
     "end_time": "2018-08-18T20:10:06.208986Z",
     "start_time": "2018-08-18T20:08:49.588Z"
    },
    "scrolled": false
   },
   "outputs": [],
   "source": [
    "print('Test scores on original training set are:\\n')\n",
    "print('Accuracy score after ADASYN is:', colored(str(round(Random_Forest_ADASYN.score(feat_train, grade_label_train), 3)), 'magenta'))\n",
    "print('Recall score after ADASYN is:', colored(str(round(recall_score(\n",
    "                                        grade_label_train, Random_Forest_ADASYN.predict(feat_train)), 3)), 'magenta'))\n",
    "print('Precision score after ADASYN is:', colored(str(round(precision_score(\n",
    "                                        grade_label_train, Random_Forest_ADASYN.predict(feat_train)), 3)), 'green'))\n",
    "print('F1 score after ADASYN is:', colored(str(round(f1_score(\n",
    "                                        grade_label_train, Random_Forest_ADASYN.predict(feat_train)), 3)), 'magenta'))\n",
    "\n",
    "#What's my confusion matrix looking like?\n",
    "RF_adasyn_cm = confusion_matrix(grade_label_train, Random_Forest_ADASYN.predict(feat_train))\n",
    "RF_adasyn_cm = print_confusion_matrix(RF_adasyn_cm, ['Fail', 'Pass'])\n",
    "\n",
    "print('\\nConfusion Matrix for Random Forest with ADASYN')"
   ]
  },
  {
   "cell_type": "markdown",
   "metadata": {},
   "source": [
    "### So does Oversampling help?"
   ]
  },
  {
   "cell_type": "code",
   "execution_count": null,
   "metadata": {
    "ExecuteTime": {
     "end_time": "2018-08-18T20:10:06.209893Z",
     "start_time": "2018-08-18T20:08:49.590Z"
    }
   },
   "outputs": [],
   "source": [
    "mini_model_list = [Random_Forest, Random_Forest_ROS, Random_Forest_SMOTE, Random_Forest_ADASYN]\n",
    "mini_model_names = ['RF', 'RF with ROS', 'RF with SMOTE', 'RF with ADASYN']\n",
    "\n",
    "kfold = KFold(n_splits=10, random_state=42)\n",
    "precision_scores = []\n",
    "oversample_model_scores = []\n",
    "\n",
    "for i in range(len(mini_model_list)):\n",
    "    try_model = mini_model_list[i]\n",
    "    for train_index, test_index in kfold.split(feat_train):\n",
    "        kfeat_train = feat_train.iloc[train_index]\n",
    "        kfeat_test = feat_train.iloc[test_index]\n",
    "        kgrade_train = grade_label_train.iloc[train_index]\n",
    "        kgrade_test = grade_label_train.iloc[test_index]\n",
    "        \n",
    "        precision = precision_score(kgrade_test, try_model.predict(kfeat_test))\n",
    "        precision_scores.append(precision)\n",
    "    oversample_model_scores.append((mini_model_names[i], round(np.mean(precision_scores), 3)))\n",
    "    \n",
    "for t in oversample_model_scores:\n",
    "    print(t)"
   ]
  },
  {
   "cell_type": "code",
   "execution_count": null,
   "metadata": {
    "ExecuteTime": {
     "end_time": "2018-08-18T20:10:06.210936Z",
     "start_time": "2018-08-18T20:08:49.591Z"
    }
   },
   "outputs": [],
   "source": [
    "print('No oversampling precision score:', str(round(precision_score(grade_label_train, Random_Forest.predict(feat_train)), 3)))\n",
    "print('With Random Oversampling precision score:', str(round(precision_score(grade_label_train, Random_Forest_ROS.predict(feat_train)), 3)))\n",
    "print('With SMOTE precision score:', str(round(precision_score(grade_label_train, Random_Forest_SMOTE.predict(feat_train)), 3)))\n",
    "print('With ADASYN precision score:', str(round(precision_score(grade_label_train, Random_Forest_ADASYN.predict(feat_train)), 3)))"
   ]
  },
  {
   "cell_type": "markdown",
   "metadata": {},
   "source": [
    "> Shocker! This makes no sense"
   ]
  },
  {
   "cell_type": "markdown",
   "metadata": {},
   "source": [
    "### Let's double check:"
   ]
  },
  {
   "cell_type": "code",
   "execution_count": null,
   "metadata": {
    "ExecuteTime": {
     "end_time": "2018-08-18T20:10:06.211800Z",
     "start_time": "2018-08-18T20:08:49.594Z"
    }
   },
   "outputs": [],
   "source": [
    "#Split the training set\n",
    "X_train, X_test, y_train, y_test = train_test_split(feat_train, grade_label_train, test_size=0.3)"
   ]
  },
  {
   "cell_type": "code",
   "execution_count": null,
   "metadata": {
    "ExecuteTime": {
     "end_time": "2018-08-18T20:10:06.212861Z",
     "start_time": "2018-08-18T20:08:49.595Z"
    }
   },
   "outputs": [],
   "source": [
    "#Fit sample to one part of the training set\n",
    "ADA = ADASYN(random_state=42)\n",
    "X_train_adasyn, y_train_adasyn = ADA.fit_sample(X_train, y_train)\n",
    "\n",
    "#Fit the model with \"adasyned\" values\n",
    "Random_Forest_ADASYN_test = RandomForestClassifier(n_estimators=150, class_weight=None, max_depth=5, min_samples_leaf=5, min_samples_split=2, random_state=42)\n",
    "Random_Forest_ADASYN_test.fit(X_train_adasyn, y_train_adasyn);"
   ]
  },
  {
   "cell_type": "code",
   "execution_count": null,
   "metadata": {
    "ExecuteTime": {
     "end_time": "2018-08-18T20:10:06.213826Z",
     "start_time": "2018-08-18T20:08:49.595Z"
    }
   },
   "outputs": [],
   "source": [
    "#Predict using the model trained on \"adasyned\" values\n",
    "RF_adasyn_cm_test = confusion_matrix(y_test, Random_Forest_ADASYN_test.predict(X_test))\n",
    "RF_adasyn_cm_test = print_confusion_matrix(RF_adasyn_cm_test, ['Fail', 'Pass'])\n",
    "\n",
    "\n",
    "print('\\nConfusion Matrix for Random Forest with ADASYN')"
   ]
  },
  {
   "cell_type": "code",
   "execution_count": null,
   "metadata": {
    "ExecuteTime": {
     "end_time": "2018-08-18T20:10:06.214859Z",
     "start_time": "2018-08-18T20:08:49.597Z"
    },
    "scrolled": false
   },
   "outputs": [],
   "source": [
    "RF_cm = confusion_matrix(y_test, Random_Forest.predict(X_test))\n",
    "RF_cm = print_confusion_matrix(RF_cm, ['Fail', 'Pass'])\n",
    "\n",
    "print('\\nConfusion Matrix for Random Forest without Oversampling')"
   ]
  },
  {
   "cell_type": "markdown",
   "metadata": {},
   "source": [
    "### Final oversampling sanity check"
   ]
  },
  {
   "cell_type": "code",
   "execution_count": null,
   "metadata": {
    "ExecuteTime": {
     "end_time": "2018-08-18T20:10:06.215950Z",
     "start_time": "2018-08-18T20:08:49.598Z"
    }
   },
   "outputs": [],
   "source": [
    "Naive_Bayes = BernoulliNB(alpha=0.1, fit_prior=False)\n",
    "Naive_Bayes.fit(feat_train, grade_label_train);"
   ]
  },
  {
   "cell_type": "code",
   "execution_count": null,
   "metadata": {
    "ExecuteTime": {
     "end_time": "2018-08-18T20:10:06.217050Z",
     "start_time": "2018-08-18T20:08:49.600Z"
    }
   },
   "outputs": [],
   "source": [
    "NBB_cm = confusion_matrix(grade_label_train, Naive_Bayes.predict(feat_train))\n",
    "NBB_cm = print_confusion_matrix(NBB_cm, ['Fail', 'Pass'])\n",
    "\n",
    "print('Confusion Matrix for Naive Bayes (Bernoulli)')"
   ]
  },
  {
   "cell_type": "markdown",
   "metadata": {},
   "source": [
    "#### Random Over Sampler "
   ]
  },
  {
   "cell_type": "code",
   "execution_count": null,
   "metadata": {
    "ExecuteTime": {
     "end_time": "2018-08-18T20:10:06.218421Z",
     "start_time": "2018-08-18T20:08:49.602Z"
    }
   },
   "outputs": [],
   "source": [
    "ROS = RandomOverSampler(random_state=42)\n",
    "feat_train_ROS, grade_label_train_ROS = ROS.fit_sample(feat_train, grade_label_train)"
   ]
  },
  {
   "cell_type": "code",
   "execution_count": null,
   "metadata": {
    "ExecuteTime": {
     "end_time": "2018-08-18T20:10:06.219442Z",
     "start_time": "2018-08-18T20:08:49.603Z"
    }
   },
   "outputs": [],
   "source": [
    "Counter(grade_label_train_ROS)"
   ]
  },
  {
   "cell_type": "code",
   "execution_count": null,
   "metadata": {
    "ExecuteTime": {
     "end_time": "2018-08-18T20:10:06.220760Z",
     "start_time": "2018-08-18T20:08:49.604Z"
    }
   },
   "outputs": [],
   "source": [
    "#Create a new Random Forest model and fit with \"oversampled\" values\n",
    "NBB_ROS = BernoulliNB(alpha=0.1, fit_prior=False)\n",
    "NBB_ROS.fit(feat_train_ROS, grade_label_train_ROS);"
   ]
  },
  {
   "cell_type": "code",
   "execution_count": null,
   "metadata": {
    "ExecuteTime": {
     "end_time": "2018-08-18T20:10:06.221832Z",
     "start_time": "2018-08-18T20:08:49.605Z"
    },
    "scrolled": false
   },
   "outputs": [],
   "source": [
    "print('The scores on original training set are:\\n')\n",
    "print('Accuracy score after Random Over Sampler is:', colored(str(round(NBB_ROS.score(feat_train, grade_label_train), 3)), 'magenta'))\n",
    "print('Recall score after Random Over Sampler is:', colored(str(round(recall_score(\n",
    "                                        grade_label_train, NBB_ROS.predict(feat_train)), 3)), 'magenta'))\n",
    "print('Precision score after Random Over Sampler is:', colored(str(round(precision_score(\n",
    "                                        grade_label_train, NBB_ROS.predict(feat_train)), 3)), 'green'))\n",
    "print('F1 score after Random Over Sampler is:', colored(str(round(f1_score(\n",
    "                                        grade_label_train, NBB_ROS.predict(feat_train)), 3)), 'magenta'))\n",
    "\n",
    "NBB_ROS_cm = confusion_matrix(grade_label_train, NBB_ROS.predict(feat_train))\n",
    "NBB_ROS_cm = print_confusion_matrix(NBB_ROS_cm, ['Fail', 'Pass'])\n",
    "\n",
    "print('\\nConfusion Matrix for Naive Bayes with Random Oversampling')"
   ]
  },
  {
   "cell_type": "markdown",
   "metadata": {},
   "source": [
    "#### SMOTE"
   ]
  },
  {
   "cell_type": "code",
   "execution_count": null,
   "metadata": {
    "ExecuteTime": {
     "end_time": "2018-08-18T20:10:06.222772Z",
     "start_time": "2018-08-18T20:08:49.607Z"
    }
   },
   "outputs": [],
   "source": [
    "SMO = SMOTE(random_state=42)\n",
    "feat_train_smoted, grade_label_train_smoted = SMO.fit_sample(feat_train, grade_label_train)"
   ]
  },
  {
   "cell_type": "code",
   "execution_count": null,
   "metadata": {
    "ExecuteTime": {
     "end_time": "2018-08-18T20:10:06.223572Z",
     "start_time": "2018-08-18T20:08:49.609Z"
    }
   },
   "outputs": [],
   "source": [
    "Counter(grade_label_train_smoted)"
   ]
  },
  {
   "cell_type": "code",
   "execution_count": null,
   "metadata": {
    "ExecuteTime": {
     "end_time": "2018-08-18T20:10:06.224804Z",
     "start_time": "2018-08-18T20:08:49.610Z"
    },
    "scrolled": false
   },
   "outputs": [],
   "source": [
    "NBB_SMOTE = BernoulliNB(alpha=0.1, fit_prior=False)\n",
    "NBB_SMOTE.fit(feat_train_smoted, grade_label_train_smoted);"
   ]
  },
  {
   "cell_type": "code",
   "execution_count": null,
   "metadata": {
    "ExecuteTime": {
     "end_time": "2018-08-18T20:10:06.226144Z",
     "start_time": "2018-08-18T20:08:49.612Z"
    }
   },
   "outputs": [],
   "source": [
    "print('Test scores on original training set are:\\n')\n",
    "print('Accuracy score after SMOTE is:', colored(str(round(NBB_SMOTE.score(feat_train, grade_label_train), 3)), 'magenta'))\n",
    "print('Recall score after SMOTE is:', colored(str(round(recall_score(\n",
    "                                        grade_label_train, NBB_SMOTE.predict(feat_train)), 3)), 'magenta'))\n",
    "print('Precision score after SMOTE is:', colored(str(round(precision_score(\n",
    "                                        grade_label_train, NBB_SMOTE.predict(feat_train)), 3)), 'green'))\n",
    "print('F1 score after SMOTE is:', colored(str(round(f1_score(\n",
    "                                        grade_label_train, NBB_SMOTE.predict(feat_train)), 3)), 'magenta'))\n",
    "\n",
    "#What's my confusion matrix looking like?\n",
    "NBB_smoted_cm = confusion_matrix(grade_label_train, NBB_SMOTE.predict(feat_train))\n",
    "NBB_smoted_cm = print_confusion_matrix(NBB_smoted_cm, ['Fail', 'Pass'])\n",
    "\n",
    "print('\\nConfusion Matrix for Naive Bayes with SMOTE')"
   ]
  },
  {
   "cell_type": "markdown",
   "metadata": {},
   "source": [
    "> Not much improvement with SMOTE"
   ]
  },
  {
   "cell_type": "markdown",
   "metadata": {},
   "source": [
    "#### ADASYN"
   ]
  },
  {
   "cell_type": "code",
   "execution_count": null,
   "metadata": {
    "ExecuteTime": {
     "end_time": "2018-08-18T20:10:06.227116Z",
     "start_time": "2018-08-18T20:08:49.615Z"
    }
   },
   "outputs": [],
   "source": [
    "ADA = ADASYN(random_state=42)\n",
    "feat_train_adasyn, grade_label_train_adasyn = ADA.fit_sample(feat_train, grade_label_train)"
   ]
  },
  {
   "cell_type": "code",
   "execution_count": null,
   "metadata": {
    "ExecuteTime": {
     "end_time": "2018-08-18T20:10:06.228024Z",
     "start_time": "2018-08-18T20:08:49.616Z"
    }
   },
   "outputs": [],
   "source": [
    "Counter(grade_label_train_adasyn)"
   ]
  },
  {
   "cell_type": "code",
   "execution_count": null,
   "metadata": {
    "ExecuteTime": {
     "end_time": "2018-08-18T20:10:06.228936Z",
     "start_time": "2018-08-18T20:08:49.617Z"
    },
    "scrolled": true
   },
   "outputs": [],
   "source": [
    "NBB_ADASYN = BernoulliNB(alpha=0.1, fit_prior=False)\n",
    "NBB_ADASYN.fit(feat_train_adasyn, grade_label_train_adasyn);"
   ]
  },
  {
   "cell_type": "code",
   "execution_count": null,
   "metadata": {
    "ExecuteTime": {
     "end_time": "2018-08-18T20:10:06.229758Z",
     "start_time": "2018-08-18T20:08:49.618Z"
    },
    "scrolled": false
   },
   "outputs": [],
   "source": [
    "print('Test scores on original training set are:\\n')\n",
    "print('Accuracy score after ADASYN is:', colored(str(round(NBB_ADASYN.score(feat_train, grade_label_train), 3)), 'magenta'))\n",
    "print('Recall score after ADASYN is:', colored(str(round(recall_score(\n",
    "                                        grade_label_train, NBB_ADASYN.predict(feat_train)), 3)), 'magenta'))\n",
    "print('Precision score after ADASYN is:', colored(str(round(precision_score(\n",
    "                                        grade_label_train, NBB_ADASYN.predict(feat_train)), 3)), 'green'))\n",
    "print('F1 score after ADASYN is:', colored(str(round(f1_score(\n",
    "                                        grade_label_train, NBB_ADASYN.predict(feat_train)), 3)), 'magenta'))\n",
    "\n",
    "#What's my confusion matrix looking like?\n",
    "NBB_adasyn_cm = confusion_matrix(grade_label_train, NBB_ADASYN.predict(feat_train))\n",
    "NBB_adasyn_cm = print_confusion_matrix(NBB_adasyn_cm, ['Fail', 'Pass'])\n",
    "\n",
    "print('\\nConfusion Matrix for Naive Bayes with ADASYN')"
   ]
  },
  {
   "cell_type": "markdown",
   "metadata": {},
   "source": [
    "## Feature selection (with Random Forest)"
   ]
  },
  {
   "cell_type": "code",
   "execution_count": null,
   "metadata": {
    "ExecuteTime": {
     "end_time": "2018-08-18T20:10:06.230748Z",
     "start_time": "2018-08-18T20:08:49.620Z"
    }
   },
   "outputs": [],
   "source": [
    "feat_imp = []\n",
    "for var, imp in zip([f for f in feat_train.columns], Random_Forest.feature_importances_):\n",
    "    feat_imp.append((var, round(imp, 3)))\n",
    "\n",
    "for var, imp in sorted(feat_imp, key=lambda x: x[1], reverse=True):\n",
    "    print(str(var)+':', str(imp))"
   ]
  },
  {
   "cell_type": "markdown",
   "metadata": {},
   "source": [
    "## The moment of truth"
   ]
  },
  {
   "cell_type": "code",
   "execution_count": null,
   "metadata": {
    "ExecuteTime": {
     "end_time": "2018-08-18T20:10:06.231673Z",
     "start_time": "2018-08-18T20:08:49.622Z"
    }
   },
   "outputs": [],
   "source": [
    "Random_Forest = RandomForestClassifier(n_estimators=150, class_weight='balanced', max_depth=20, min_samples_leaf=10, min_samples_split=2\n",
    "                                       , random_state=42)\n",
    "Random_Forest.fit(feat_train, grade_label_train)\n",
    "\n",
    "predict_test = Random_Forest.predict(feat_test)\n",
    "precision_score_on_test = precision_score(grade_label_test, predict_test)\n",
    "auc_score_on_test = roc_auc_score(grade_label_test, predict_test)\n",
    "\n",
    "print('The final precision score on the test data is:', colored(str(round(precision_score_on_test, 3)), 'magenta'))\n",
    "print('The final AUC score on the test data is:', colored(str(round(auc_score_on_test, 3)), 'magenta'))"
   ]
  },
  {
   "cell_type": "code",
   "execution_count": null,
   "metadata": {
    "ExecuteTime": {
     "end_time": "2018-08-18T20:10:06.232564Z",
     "start_time": "2018-08-18T20:08:49.624Z"
    }
   },
   "outputs": [],
   "source": [
    "#What's my confusion matrix looking like?\n",
    "final_CM = confusion_matrix(grade_label_test, Random_Forest.predict(feat_test))\n",
    "final_CM = print_confusion_matrix(final_CM, ['Fail', 'Pass'])"
   ]
  },
  {
   "cell_type": "code",
   "execution_count": null,
   "metadata": {
    "ExecuteTime": {
     "end_time": "2018-08-18T20:10:06.233687Z",
     "start_time": "2018-08-18T20:08:49.625Z"
    }
   },
   "outputs": [],
   "source": [
    "#Let's have a look at the ROC curve\n",
    "fpr_RF, tpr_RF, thresholds_RF = roc_curve(grade_label_test, Random_Forest.predict_proba(feat_test)[:,1])\n",
    "plt.figure(dpi=120)\n",
    "plt.plot(fpr_RF, tpr_RF, lw=2, label='Random Forest')\n",
    "plt.plot([0,1],[0,1],c='r',ls='--')\n",
    "plt.xlim([-0.05,1.05])\n",
    "plt.ylim([-0.05,1.05])\n",
    "plt.legend()\n",
    "\n",
    "plt.xlabel('False positive rate')\n",
    "plt.ylabel('True positive rate')\n",
    "plt.title('ROC curve for grade problem');"
   ]
  },
  {
   "cell_type": "markdown",
   "metadata": {},
   "source": [
    "> Could be worse! :D"
   ]
  },
  {
   "cell_type": "markdown",
   "metadata": {},
   "source": [
    "### Time for retraining the model on the whole dataset"
   ]
  },
  {
   "cell_type": "code",
   "execution_count": null,
   "metadata": {
    "ExecuteTime": {
     "end_time": "2018-08-18T20:10:06.234541Z",
     "start_time": "2018-08-18T20:08:49.627Z"
    }
   },
   "outputs": [],
   "source": [
    "Random_Forest.fit(feat, grade_label)"
   ]
  },
  {
   "cell_type": "markdown",
   "metadata": {},
   "source": [
    "## Let's pickle the model in prep for production"
   ]
  },
  {
   "cell_type": "code",
   "execution_count": null,
   "metadata": {
    "ExecuteTime": {
     "end_time": "2018-08-18T20:10:06.235499Z",
     "start_time": "2018-08-18T20:08:49.629Z"
    }
   },
   "outputs": [],
   "source": [
    "with open('Student_Grade_Predictor.pkl', 'wb') as my_pickle:\n",
    "    pickle.dump(Random_Forest, my_pickle)"
   ]
  },
  {
   "cell_type": "code",
   "execution_count": 3,
   "metadata": {
    "ExecuteTime": {
     "end_time": "2018-08-18T21:16:06.055192Z",
     "start_time": "2018-08-18T21:16:06.044217Z"
    }
   },
   "outputs": [],
   "source": [
    "with open('Student_Grade_Predictor.pkl', 'rb') as my_pickle:\n",
    "    Student_Grade_Predictor = pickle.load(my_pickle)"
   ]
  },
  {
   "cell_type": "code",
   "execution_count": 8,
   "metadata": {
    "ExecuteTime": {
     "end_time": "2018-08-18T21:16:57.943623Z",
     "start_time": "2018-08-18T21:16:57.938055Z"
    }
   },
   "outputs": [
    {
     "data": {
      "text/plain": [
       "RandomForestClassifier(bootstrap=True, class_weight='balanced',\n",
       "            criterion='gini', max_depth=20, max_features='auto',\n",
       "            max_leaf_nodes=None, min_impurity_decrease=0.0,\n",
       "            min_impurity_split=None, min_samples_leaf=10,\n",
       "            min_samples_split=2, min_weight_fraction_leaf=0.0,\n",
       "            n_estimators=150, n_jobs=1, oob_score=False, random_state=42,\n",
       "            verbose=0, warm_start=False)"
      ]
     },
     "execution_count": 8,
     "metadata": {},
     "output_type": "execute_result"
    }
   ],
   "source": [
    "Student_Grade_Predictor"
   ]
  },
  {
   "cell_type": "markdown",
   "metadata": {},
   "source": [
    "### Testing time"
   ]
  },
  {
   "cell_type": "code",
   "execution_count": 4,
   "metadata": {
    "ExecuteTime": {
     "end_time": "2018-08-18T21:16:07.885948Z",
     "start_time": "2018-08-18T21:16:07.882636Z"
    }
   },
   "outputs": [],
   "source": [
    "test_student = {'age': 15, 'address': 'U', 'Medu': 4, 'Fedu': 4, 'studytime': 5, 'failures': 1, 'paid': 0, 'higher': 1, \n",
    "               'famrel': 4, 'freetime': 5, 'goout': 1, 'Walc': 1, 'health': 5, 'absences': 10, 'discipline': 'maths'}"
   ]
  },
  {
   "cell_type": "code",
   "execution_count": 9,
   "metadata": {
    "ExecuteTime": {
     "end_time": "2018-08-18T21:17:12.066250Z",
     "start_time": "2018-08-18T21:17:12.047978Z"
    }
   },
   "outputs": [
    {
     "data": {
      "text/plain": [
       "{'prediction': 1, 'prob_pass': 0.5073}"
      ]
     },
     "execution_count": 9,
     "metadata": {},
     "output_type": "execute_result"
    }
   ],
   "source": [
    "def make_prediction(features):\n",
    "    feat_space = np.array([features['age'], int(features['address'] == 'U'), features['Medu'], features['Fedu'], features['studytime'],\n",
    "                           features['failures'], features['paid'], features['higher'], features['famrel'], features['freetime'], \n",
    "                           features['goout'], features['Walc'], features['health'], features['absences'], \n",
    "                           int(features['discipline'] == 'maths')]).reshape(1,-1)\n",
    "    \n",
    "    prob_pass = round(Student_Grade_Predictor.predict_proba(feat_space)[0, 1], 4)\n",
    "    \n",
    "    result = {\n",
    "        'prediction': int(prob_pass > 0.5),\n",
    "        'prob_pass': prob_pass\n",
    "    }\n",
    "    return result\n",
    "\n",
    "make_prediction(test_student)"
   ]
  },
  {
   "cell_type": "code",
   "execution_count": 10,
   "metadata": {
    "ExecuteTime": {
     "end_time": "2018-08-18T21:17:15.583971Z",
     "start_time": "2018-08-18T21:17:15.568999Z"
    }
   },
   "outputs": [],
   "source": [
    "student1 = {'age': 16, 'address': 'U', 'Medu': 4, 'Fedu': 4, 'studytime': 3, 'failures': 0, 'paid': 0, 'higher': 1, \n",
    "               'famrel': 3, 'freetime': 1, 'goout': 1, 'Walc': 1, 'health': 5, 'absences': 0, 'discipline': 'maths'}\n",
    "\n",
    "student2 = {'age': 16, 'address': 'U', 'Medu': 4, 'Fedu': 4, 'studytime': 3, 'failures': 0, 'paid': 0, 'higher': 1, \n",
    "               'famrel': 3, 'freetime': 2, 'goout': 2, 'Walc': 2, 'health': 5, 'absences': 0, 'discipline': 'maths'}\n",
    "\n",
    "student3 = {'age': 16, 'address': 'U', 'Medu': 4, 'Fedu': 4, 'studytime': 3, 'failures': 0, 'paid': 0, 'higher': 1, \n",
    "               'famrel': 3, 'freetime': 3, 'goout': 3, 'Walc': 3, 'health': 5, 'absences': 0, 'discipline': 'maths'}\n",
    "\n",
    "student4 = {'age': 16, 'address': 'U', 'Medu': 4, 'Fedu': 4, 'studytime': 3, 'failures': 0, 'paid': 0, 'higher': 1, \n",
    "               'famrel': 3, 'freetime': 4, 'goout': 4, 'Walc': 4, 'health': 5, 'absences': 0, 'discipline': 'maths'}\n",
    "\n",
    "student5 = {'age': 16, 'address': 'U', 'Medu': 4, 'Fedu': 4, 'studytime': 3, 'failures': 0, 'paid': 0, 'higher': 1, \n",
    "               'famrel': 3, 'freetime': 5, 'goout': 5, 'Walc': 5, 'health': 5, 'absences': 0, 'discipline': 'maths'}\n",
    "\n",
    "student6 = {'age': 16, 'address': 'U', 'Medu': 0, 'Fedu': 0, 'studytime': 3, 'failures': 0, 'paid': 0, 'higher': 1, \n",
    "               'famrel': 3, 'freetime': 3, 'goout': 3, 'Walc': 3, 'health': 5, 'absences': 0, 'discipline': 'maths'}\n",
    "\n",
    "student7 = {'age': 16, 'address': 'U', 'Medu': 1, 'Fedu': 1, 'studytime': 3, 'failures': 0, 'paid': 0, 'higher': 1, \n",
    "               'famrel': 3, 'freetime': 3, 'goout': 3, 'Walc': 3, 'health': 5, 'absences': 0, 'discipline': 'maths'}\n",
    "\n",
    "student8 = {'age': 16, 'address': 'U', 'Medu': 2, 'Fedu': 2, 'studytime': 3, 'failures': 0, 'paid': 0, 'higher': 1, \n",
    "               'famrel': 3, 'freetime': 3, 'goout': 3, 'Walc': 3, 'health': 5, 'absences': 0, 'discipline': 'maths'}\n",
    "\n",
    "student9 = {'age': 16, 'address': 'U', 'Medu': 3, 'Fedu': 3, 'studytime': 3, 'failures': 0, 'paid': 0, 'higher': 1, \n",
    "               'famrel': 3, 'freetime': 3, 'goout': 3, 'Walc': 3, 'health': 5, 'absences': 0, 'discipline': 'maths'}\n",
    "\n",
    "student10 = {'age': 16, 'address': 'U', 'Medu': 4, 'Fedu': 4, 'studytime': 3, 'failures': 0, 'paid': 0, 'higher': 1, \n",
    "               'famrel': 3, 'freetime': 3, 'goout': 3, 'Walc': 3, 'health': 5, 'absences': 0, 'discipline': 'maths'}\n",
    "\n",
    "student11 = {'age': 16, 'address': 'U', 'Medu': 4, 'Fedu': 4, 'studytime': 1, 'failures': 0, 'paid': 0, 'higher': 1, \n",
    "               'famrel': 3, 'freetime': 5, 'goout': 5, 'Walc': 3, 'health': 5, 'absences': 0, 'discipline': 'maths'}\n",
    "\n",
    "student12 = {'age': 16, 'address': 'U', 'Medu': 4, 'Fedu': 4, 'studytime': 2, 'failures': 0, 'paid': 0, 'higher': 1, \n",
    "               'famrel': 3, 'freetime': 3, 'goout': 3, 'Walc': 3, 'health': 5, 'absences': 0, 'discipline': 'maths'}\n",
    "\n",
    "student13 = {'age': 16, 'address': 'U', 'Medu': 4, 'Fedu': 4, 'studytime': 3, 'failures': 0, 'paid': 0, 'higher': 1, \n",
    "               'famrel': 3, 'freetime': 3, 'goout': 3, 'Walc': 3, 'health': 5, 'absences': 0, 'discipline': 'maths'}\n",
    "\n",
    "student14 = {'age': 16, 'address': 'U', 'Medu': 4, 'Fedu': 4, 'studytime': 4, 'failures': 0, 'paid': 0, 'higher': 1, \n",
    "               'famrel': 3, 'freetime': 3, 'goout': 3, 'Walc': 3, 'health': 5, 'absences': 0, 'discipline': 'maths'}\n",
    "\n",
    "student15 = {'age': 16, 'address': 'U', 'Medu': 4, 'Fedu': 4, 'studytime': 5, 'failures': 0, 'paid': 0, 'higher': 1, \n",
    "               'famrel': 3, 'freetime': 3, 'goout': 3, 'Walc': 3, 'health': 5, 'absences': 0, 'discipline': 'maths'}\n",
    "\n",
    "student16 = {'age': 16, 'address': 'U', 'Medu': 4, 'Fedu': 4, 'studytime': 3, 'failures': 0, 'paid': 0, 'higher': 1, \n",
    "               'famrel': 3, 'freetime': 5, 'goout': 5, 'Walc': 3, 'health': 5, 'absences': 0, 'discipline': 'maths'}\n",
    "\n",
    "student17 = {'age': 16, 'address': 'U', 'Medu': 4, 'Fedu': 4, 'studytime': 3, 'failures': 1, 'paid': 0, 'higher': 1, \n",
    "               'famrel': 3, 'freetime': 3, 'goout': 3, 'Walc': 3, 'health': 5, 'absences': 0, 'discipline': 'maths'}\n",
    "\n",
    "student18 = {'age': 16, 'address': 'U', 'Medu': 4, 'Fedu': 4, 'studytime': 3, 'failures': 2, 'paid': 0, 'higher': 1, \n",
    "               'famrel': 3, 'freetime': 3, 'goout': 3, 'Walc': 3, 'health': 5, 'absences': 0, 'discipline': 'maths'}\n",
    "\n",
    "student19 = {'age': 16, 'address': 'U', 'Medu': 4, 'Fedu': 4, 'studytime': 3, 'failures': 3, 'paid': 0, 'higher': 1, \n",
    "               'famrel': 3, 'freetime': 3, 'goout': 3, 'Walc': 3, 'health': 5, 'absences': 0, 'discipline': 'maths'}\n",
    "\n",
    "student20 = {'age': 16, 'address': 'U', 'Medu': 4, 'Fedu': 4, 'studytime': 3, 'failures': 4, 'paid': 0, 'higher': 1, \n",
    "               'famrel': 3, 'freetime': 3, 'goout': 3, 'Walc': 3, 'health': 5, 'absences': 0, 'discipline': 'maths'}\n",
    "\n",
    "student_alc = [student1, student2, student3, student4, student5]\n",
    "student_edu = [student6, student7, student8, student9, student10]\n",
    "student_study = [student11, student12, student13, student14]\n",
    "student_fail = [student16, student17, student18, student19, student20]"
   ]
  },
  {
   "cell_type": "code",
   "execution_count": 11,
   "metadata": {
    "ExecuteTime": {
     "end_time": "2018-08-18T21:17:17.142570Z",
     "start_time": "2018-08-18T21:17:17.040460Z"
    }
   },
   "outputs": [
    {
     "name": "stdout",
     "output_type": "stream",
     "text": [
      "Weekend alcohol consumption: 1: 0.7269\n",
      "Weekend alcohol consumption: 2: 0.7524\n",
      "Weekend alcohol consumption: 3: 0.8125\n",
      "Weekend alcohol consumption: 4: 0.7831\n",
      "Weekend alcohol consumption: 5: 0.713\n"
     ]
    }
   ],
   "source": [
    "go_out_effect = {}\n",
    "for student in student_alc:\n",
    "    print('Weekend alcohol consumption:', str(student['Walc']) + ':', str(make_prediction(student)['prob_pass']))\n",
    "    go_out_effect[student['Walc']] = make_prediction(student)['prob_pass']"
   ]
  },
  {
   "cell_type": "code",
   "execution_count": 35,
   "metadata": {
    "ExecuteTime": {
     "end_time": "2018-08-18T21:20:49.300002Z",
     "start_time": "2018-08-18T21:20:49.041343Z"
    }
   },
   "outputs": [
    {
     "data": {
      "image/png": "[encoded data removed]",
      "text/plain": [
       "<matplotlib.figure.Figure at 0x1a141aceb8>"
      ]
     },
     "metadata": {},
     "output_type": "display_data"
    }
   ],
   "source": [
    "plt.figure(dpi=120)\n",
    "plt.title('Leisure Activities versus Probability to Pass')\n",
    "plt.xlabel(\"Leisure Activities' Level\")\n",
    "plt.xticks(range(1, 6), ('Very Low', 'Low', 'Average', 'High', 'Very High'))\n",
    "plt.ylabel('Probability To Pass')\n",
    "plt.plot(go_out_effect.keys(), go_out_effect.values(), color='m');\n",
    "\n",
    "#plt.savefig('/Users/auste_m/ds/metis/metisgh/github/metis_projects/Student_Grade_Prediction/GoingOut.png', format='png', dpi=120, bbox_inches=\"tight\");"
   ]
  },
  {
   "cell_type": "code",
   "execution_count": 316,
   "metadata": {
    "ExecuteTime": {
     "end_time": "2018-08-08T02:02:12.743070Z",
     "start_time": "2018-08-08T02:02:12.631940Z"
    }
   },
   "outputs": [
    {
     "name": "stdout",
     "output_type": "stream",
     "text": [
      "Parents Education Level: 0: 0.6767\n",
      "Parents Education Level: 1: 0.6767\n",
      "Parents Education Level: 2: 0.8067\n",
      "Parents Education Level: 3: 0.8056\n",
      "Parents Education Level: 4: 0.8125\n"
     ]
    }
   ],
   "source": [
    "edu_effect = {}\n",
    "for student in student_edu:\n",
    "    print('Parents Education Level:', str(student['Medu']) + ':', str(make_prediction(student)['prob_pass']))\n",
    "    edu_effect[student['Medu']] = make_prediction(student)['prob_pass']"
   ]
  },
  {
   "cell_type": "code",
   "execution_count": 318,
   "metadata": {
    "ExecuteTime": {
     "end_time": "2018-08-08T02:02:19.886586Z",
     "start_time": "2018-08-08T02:02:19.587070Z"
    }
   },
   "outputs": [
    {
     "data": {
      "image/png": "[encoded data removed]",
      "text/plain": [
       "<matplotlib.figure.Figure at 0x1a194179e8>"
      ]
     },
     "metadata": {},
     "output_type": "display_data"
    }
   ],
   "source": [
    "plt.figure(dpi=120)\n",
    "plt.title(\"Parents' Education Level versus Probability to Pass\")\n",
    "plt.xlabel(\"Parents' Education Level\")\n",
    "plt.ylabel('Probability To Pass')\n",
    "plt.barplot(edu_effect.keys(), edu_effect.values(), color='m')\n",
    "\n",
    "#plt.savefig('/Users/auste_m/ds/metis/metisgh/github/metis_projects/Student_Grade_Prediction/Parents_Edu.png', format='png', dpi=120, bbox_inches=\"tight\");"
   ]
  },
  {
   "cell_type": "code",
   "execution_count": null,
   "metadata": {},
   "outputs": [],
   "source": []
  },
  {
   "cell_type": "code",
   "execution_count": 22,
   "metadata": {
    "ExecuteTime": {
     "end_time": "2018-08-18T21:19:07.515894Z",
     "start_time": "2018-08-18T21:19:07.432730Z"
    }
   },
   "outputs": [
    {
     "name": "stdout",
     "output_type": "stream",
     "text": [
      "Study Time: 1: 0.6851\n",
      "Study Time: 2: 0.789\n",
      "Study Time: 3: 0.8125\n",
      "Study Time: 4: 0.8075\n"
     ]
    }
   ],
   "source": [
    "study_effect = {}\n",
    "for student in student_study:\n",
    "    print('Study Time:', str(student['studytime']) + ':', str(make_prediction(student)['prob_pass']))\n",
    "    study_effect[student['studytime']] = make_prediction(student)['prob_pass']"
   ]
  },
  {
   "cell_type": "code",
   "execution_count": 36,
   "metadata": {
    "ExecuteTime": {
     "end_time": "2018-08-18T21:21:01.910880Z",
     "start_time": "2018-08-18T21:21:01.655184Z"
    }
   },
   "outputs": [
    {
     "data": {
      "image/png": "[encoded data removed]",
      "text/plain": [
       "<matplotlib.figure.Figure at 0x1a14364588>"
      ]
     },
     "metadata": {},
     "output_type": "display_data"
    }
   ],
   "source": [
    "plt.figure(dpi=120)\n",
    "plt.title(\"Study Time versus Probability to Pass\")\n",
    "plt.xlabel(\"Study Time\")\n",
    "plt.xticks(range(1, 5), ('<2h', '2-5h', '5-10h','>10h'))\n",
    "plt.ylabel('Probability To Pass')\n",
    "plt.plot(study_effect.keys(), study_effect.values(), color='c');\n",
    "\n",
    "#plt.savefig('/Users/auste_m/ds/metis/metisgh/github/metis_projects/Student_Grade_Prediction/StudyTime.png', format='png', dpi=120, bbox_inches=\"tight\");"
   ]
  },
  {
   "cell_type": "code",
   "execution_count": null,
   "metadata": {},
   "outputs": [],
   "source": []
  },
  {
   "cell_type": "code",
   "execution_count": null,
   "metadata": {},
   "outputs": [],
   "source": []
  },
  {
   "cell_type": "code",
   "execution_count": 326,
   "metadata": {
    "ExecuteTime": {
     "end_time": "2018-08-08T02:03:57.211450Z",
     "start_time": "2018-08-08T02:03:57.102058Z"
    }
   },
   "outputs": [
    {
     "name": "stdout",
     "output_type": "stream",
     "text": [
      "Failures: 0: 0.7212\n",
      "Failures: 1: 0.4713\n",
      "Failures: 2: 0.4416\n",
      "Failures: 3: 0.4416\n",
      "Failures: 4: 0.4416\n"
     ]
    }
   ],
   "source": [
    "failure_effect = {}\n",
    "for student in student_fail:\n",
    "    print('Failures:', str(student['failures']) + ':', str(make_prediction(student)['prob_pass']))\n",
    "    failure_effect[student['failures']] = make_prediction(student)['prob_pass']"
   ]
  },
  {
   "cell_type": "code",
   "execution_count": 334,
   "metadata": {
    "ExecuteTime": {
     "end_time": "2018-08-08T02:10:57.143422Z",
     "start_time": "2018-08-08T02:10:56.854434Z"
    }
   },
   "outputs": [
    {
     "data": {
      "image/png": "[encoded data removed]",
      "text/plain": [
       "<matplotlib.figure.Figure at 0x1a13fa3240>"
      ]
     },
     "metadata": {},
     "output_type": "display_data"
    }
   ],
   "source": [
    "plt.figure(dpi=120)\n",
    "plt.title(\"Previous Failures versus Probability to Pass\")\n",
    "plt.xlabel(\"Previous Failures\")\n",
    "plt.ylabel('Probability To Pass')\n",
    "plt.barplot(failure_effect.keys(), failure_effect.values(), color='y')\n",
    "\n",
    "#plt.savefig('/Users/auste_m/ds/metis/metisgh/github/metis_projects/Student_Grade_Prediction/Failures.png', format='png', dpi=120, bbox_inches=\"tight\");"
   ]
  },
  {
   "cell_type": "code",
   "execution_count": null,
   "metadata": {},
   "outputs": [],
   "source": []
  }
 ],
 "metadata": {
  "kernelspec": {
   "display_name": "Python 3",
   "language": "python",
   "name": "python3"
  },
  "language_info": {
   "codemirror_mode": {
    "name": "ipython",
    "version": 3
   },
   "file_extension": ".py",
   "mimetype": "text/x-python",
   "name": "python",
   "nbconvert_exporter": "python",
   "pygments_lexer": "ipython3",
   "version": "3.6.5"
  },
  "varInspector": {
   "cols": {
    "lenName": 16,
    "lenType": 16,
    "lenVar": 40
   },
   "kernels_config": {
    "python": {
     "delete_cmd_postfix": "",
     "delete_cmd_prefix": "del ",
     "library": "var_list.py",
     "varRefreshCmd": "print(var_dic_list())"
    },
    "r": {
     "delete_cmd_postfix": ") ",
     "delete_cmd_prefix": "rm(",
     "library": "var_list.r",
     "varRefreshCmd": "cat(var_dic_list()) "
    }
   },
   "types_to_exclude": [
    "module",
    "function",
    "builtin_function_or_method",
    "instance",
    "_Feature"
   ],
   "window_display": false
  }
 },
 "nbformat": 4,
 "nbformat_minor": 2
}
