{
 "cells": [
  {
   "cell_type": "code",
   "execution_count": 174,
   "metadata": {
    "ExecuteTime": {
     "end_time": "2018-08-06T19:57:02.525337Z",
     "start_time": "2018-08-06T19:57:02.520555Z"
    }
   },
   "outputs": [
    {
     "data": {
      "text/html": [
       "<style>.container { width:95% !important; }</style>"
      ],
      "text/plain": [
       "<IPython.core.display.HTML object>"
      ]
     },
     "metadata": {},
     "output_type": "display_data"
    }
   ],
   "source": [
    "from IPython.core.display import display, HTML\n",
    "display(HTML(\"<style>.container { width:95% !important; }</style>\"))"
   ]
  },
  {
   "cell_type": "code",
   "execution_count": 175,
   "metadata": {
    "ExecuteTime": {
     "end_time": "2018-08-06T19:57:02.536574Z",
     "start_time": "2018-08-06T19:57:02.527319Z"
    }
   },
   "outputs": [],
   "source": [
    "#Essentials\n",
    "import numpy as np\n",
    "import psycopg2 as pg\n",
    "import pandas as pd\n",
    "import pandas.io.sql as pd_sql\n",
    "import matplotlib.pyplot as plt\n",
    "\n",
    "#sklearn \"magic\"\n",
    "from sklearn.model_selection import train_test_split\n",
    "from sklearn.neighbors import KNeighborsClassifier\n",
    "from sklearn.linear_model import LogisticRegression\n",
    "from sklearn.ensemble import RandomForestClassifier\n",
    "from sklearn.naive_bayes import GaussianNB, BernoulliNB\n",
    "from sklearn.linear_model import SGDClassifier\n",
    "from sklearn.model_selection import GridSearchCV\n",
    "from sklearn.model_selection import KFold\n",
    "from sklearn.model_selection import cross_val_score\n",
    "from sklearn.svm import LinearSVC, SVC\n",
    "from sklearn.pipeline import make_pipeline\n",
    "\n",
    "#Oversampling\n",
    "from sklearn.datasets import make_classification\n",
    "from imblearn.over_sampling import RandomOverSampler\n",
    "from imblearn.over_sampling import SMOTE\n",
    "from imblearn.over_sampling import ADASYN\n",
    "\n",
    "\n",
    "#Not sure about these ones yet\n",
    "from sklearn.datasets import make_classification\n",
    "from xgboost import XGBClassifier\n",
    "\n",
    "#Different scores\n",
    "from sklearn.metrics import precision_score, recall_score, accuracy_score, roc_auc_score, confusion_matrix\n",
    "from sklearn.metrics import precision_recall_curve, f1_score, fbeta_score, roc_curve\n",
    "\n",
    "#Nice to have\n",
    "from mlxtend.plotting import plot_decision_regions, plot_confusion_matrix\n",
    "import seaborn as sns\n",
    "plt.style.use('fivethirtyeight')\n",
    "from sklearn import tree\n",
    "from IPython.display import SVG\n",
    "from graphviz import Source\n",
    "from IPython.display import display \n",
    "from ipywidgets import interactive, FloatSlider\n",
    "from collections import Counter\n",
    "#interactive(lambda threshold: make_confusion_matrix(lm, threshold), threshold=(0.0,1.0,0.02))\n",
    "\n",
    "#Let there be colours!\n",
    "from termcolor import colored\n",
    "\n",
    "%matplotlib inline"
   ]
  },
  {
   "cell_type": "code",
   "execution_count": 176,
   "metadata": {
    "ExecuteTime": {
     "end_time": "2018-08-06T19:57:02.544064Z",
     "start_time": "2018-08-06T19:57:02.538640Z"
    }
   },
   "outputs": [],
   "source": [
    "# Helper function for printing confusion matrices (see: https://gist.github.com/shaypal5/94c53d765083101efc0240d776a23823)\n",
    "def print_confusion_matrix(confusion_matrix, class_names, figsize = (10,7), fontsize=18):\n",
    "    \"\"\"Prints a confusion matrix, as returned by sklearn.metrics.confusion_matrix, as a heatmap.\n",
    "    \n",
    "    Arguments\n",
    "    ---------\n",
    "    confusion_matrix: numpy.ndarray\n",
    "        The numpy.ndarray object returned from a call to sklearn.metrics.confusion_matrix. \n",
    "        Similarly constructed ndarrays can also be used.\n",
    "    class_names: list\n",
    "        An ordered list of class names, in the order they index the given confusion matrix.\n",
    "    figsize: tuple\n",
    "        A 2-long tuple, the first value determining the horizontal size of the ouputted figure,\n",
    "        the second determining the vertical size. Defaults to (10,7).\n",
    "    fontsize: int\n",
    "        Font size for axes labels. Defaults to 14.\n",
    "        \n",
    "    Returns\n",
    "    -------\n",
    "    matplotlib.figure.Figure\n",
    "        The resulting confusion matrix figure\n",
    "    \"\"\"\n",
    "    df_cm = pd.DataFrame(\n",
    "        confusion_matrix, index=class_names, columns=class_names, \n",
    "    )\n",
    "    fig = plt.figure(figsize=figsize)\n",
    "    try:\n",
    "        heatmap = sns.heatmap(df_cm, annot=True, fmt=\"d\")\n",
    "    except ValueError:\n",
    "        raise ValueError(\"Confusion matrix values must be integers.\")\n",
    "    heatmap.yaxis.set_ticklabels(heatmap.yaxis.get_ticklabels(), rotation=0, ha='right', fontsize=fontsize)\n",
    "    heatmap.xaxis.set_ticklabels(heatmap.xaxis.get_ticklabels(), rotation=45, ha='right', fontsize=fontsize)\n",
    "    plt.ylabel('True label')\n",
    "    plt.xlabel('Predicted label')\n",
    "    return fig"
   ]
  },
  {
   "cell_type": "code",
   "execution_count": 177,
   "metadata": {
    "ExecuteTime": {
     "end_time": "2018-08-06T19:57:02.964709Z",
     "start_time": "2018-08-06T19:57:02.545824Z"
    }
   },
   "outputs": [],
   "source": [
    "# Postgres info to connect\n",
    "\n",
    "connection_args = {\n",
    "    'host': '18.222.192.127', \n",
    "    'user': 'ubuntu',    # username\n",
    "    'dbname': 'student_grades',   # DB that we are connecting to\n",
    "    'port': 5432         # port we opened on AWS\n",
    "}\n",
    "\n",
    "# We will talk about this magic Python trick!\n",
    "connection = pg.connect(**connection_args)"
   ]
  },
  {
   "cell_type": "code",
   "execution_count": 178,
   "metadata": {
    "ExecuteTime": {
     "end_time": "2018-08-06T19:57:02.969704Z",
     "start_time": "2018-08-06T19:57:02.966895Z"
    }
   },
   "outputs": [],
   "source": [
    "#failures: 0.275, higher: 0.102, discipline: 0.09, absences: 0.081, goout: 0.041, age: 0.038, Fedu: 0.037, Medu: 0.033, freetime: 0.03\n",
    "#Walc: 0.026, famrel: 0.025, Dalc: 0.025, health: 0.023, guardian: 0.021, schoolsup: 0.021, paid: 0.018, studytime: 0.017, traveltime: 0.016\n",
    "#activities: 0.015, sex: 0.013, address: 0.011, famsize: 0.011, romantic: 0.011, famsup: 0.01, internet: 0.009, Pstatus: 0.003"
   ]
  },
  {
   "cell_type": "code",
   "execution_count": 179,
   "metadata": {
    "ExecuteTime": {
     "end_time": "2018-08-06T19:57:03.423016Z",
     "start_time": "2018-08-06T19:57:02.972511Z"
    }
   },
   "outputs": [],
   "source": [
    "### Let's combine the two SQL tables into one\n",
    "\n",
    "append_query = \"\"\"SELECT failures, higher, discipline, absences, goout, age, \"Fedu\", \"Medu\", freetime, \"Walc\", famrel, \n",
    "                            \"Dalc\", health, guardian, paid, final_grade_label\n",
    "                    FROM maths_grades\n",
    "                    WHERE age BETWEEN 15 AND 19\n",
    "\n",
    "                    UNION ALL\n",
    "\n",
    "                    SELECT failures, higher, discipline, absences, goout, age, \"Fedu\", \"Medu\", freetime, \"Walc\", famrel, \n",
    "                            \"Dalc\", health, guardian, paid, final_grade_label \n",
    "                    FROM portuguese_grades\n",
    "                    WHERE age BETWEEN 15 AND 19\n",
    "                    \"\"\"\n",
    "\n",
    "grades = pd_sql.read_sql(append_query, connection)"
   ]
  },
  {
   "cell_type": "code",
   "execution_count": 180,
   "metadata": {
    "ExecuteTime": {
     "end_time": "2018-08-06T19:57:03.442107Z",
     "start_time": "2018-08-06T19:57:03.425492Z"
    }
   },
   "outputs": [
    {
     "data": {
      "text/html": [
       "<div>\n",
       "<style scoped>\n",
       "    .dataframe tbody tr th:only-of-type {\n",
       "        vertical-align: middle;\n",
       "    }\n",
       "\n",
       "    .dataframe tbody tr th {\n",
       "        vertical-align: top;\n",
       "    }\n",
       "\n",
       "    .dataframe thead th {\n",
       "        text-align: right;\n",
       "    }\n",
       "</style>\n",
       "<table border=\"1\" class=\"dataframe\">\n",
       "  <thead>\n",
       "    <tr style=\"text-align: right;\">\n",
       "      <th></th>\n",
       "      <th>failures</th>\n",
       "      <th>higher</th>\n",
       "      <th>discipline</th>\n",
       "      <th>absences</th>\n",
       "      <th>goout</th>\n",
       "      <th>age</th>\n",
       "      <th>Fedu</th>\n",
       "      <th>Medu</th>\n",
       "      <th>freetime</th>\n",
       "      <th>Walc</th>\n",
       "      <th>famrel</th>\n",
       "      <th>Dalc</th>\n",
       "      <th>health</th>\n",
       "      <th>guardian</th>\n",
       "      <th>paid</th>\n",
       "      <th>final_grade_label</th>\n",
       "    </tr>\n",
       "  </thead>\n",
       "  <tbody>\n",
       "    <tr>\n",
       "      <th>0</th>\n",
       "      <td>0</td>\n",
       "      <td>1</td>\n",
       "      <td>maths</td>\n",
       "      <td>6</td>\n",
       "      <td>4</td>\n",
       "      <td>18</td>\n",
       "      <td>4</td>\n",
       "      <td>4</td>\n",
       "      <td>3</td>\n",
       "      <td>1</td>\n",
       "      <td>4</td>\n",
       "      <td>1</td>\n",
       "      <td>3</td>\n",
       "      <td>mother</td>\n",
       "      <td>0</td>\n",
       "      <td>Fail</td>\n",
       "    </tr>\n",
       "    <tr>\n",
       "      <th>1</th>\n",
       "      <td>0</td>\n",
       "      <td>1</td>\n",
       "      <td>maths</td>\n",
       "      <td>4</td>\n",
       "      <td>3</td>\n",
       "      <td>17</td>\n",
       "      <td>1</td>\n",
       "      <td>1</td>\n",
       "      <td>3</td>\n",
       "      <td>1</td>\n",
       "      <td>5</td>\n",
       "      <td>1</td>\n",
       "      <td>3</td>\n",
       "      <td>father</td>\n",
       "      <td>0</td>\n",
       "      <td>Fail</td>\n",
       "    </tr>\n",
       "    <tr>\n",
       "      <th>2</th>\n",
       "      <td>3</td>\n",
       "      <td>1</td>\n",
       "      <td>maths</td>\n",
       "      <td>10</td>\n",
       "      <td>2</td>\n",
       "      <td>15</td>\n",
       "      <td>1</td>\n",
       "      <td>1</td>\n",
       "      <td>3</td>\n",
       "      <td>3</td>\n",
       "      <td>4</td>\n",
       "      <td>2</td>\n",
       "      <td>3</td>\n",
       "      <td>mother</td>\n",
       "      <td>1</td>\n",
       "      <td>Pass</td>\n",
       "    </tr>\n",
       "    <tr>\n",
       "      <th>3</th>\n",
       "      <td>0</td>\n",
       "      <td>1</td>\n",
       "      <td>maths</td>\n",
       "      <td>2</td>\n",
       "      <td>2</td>\n",
       "      <td>15</td>\n",
       "      <td>2</td>\n",
       "      <td>4</td>\n",
       "      <td>2</td>\n",
       "      <td>1</td>\n",
       "      <td>3</td>\n",
       "      <td>1</td>\n",
       "      <td>5</td>\n",
       "      <td>mother</td>\n",
       "      <td>1</td>\n",
       "      <td>Pass</td>\n",
       "    </tr>\n",
       "    <tr>\n",
       "      <th>4</th>\n",
       "      <td>0</td>\n",
       "      <td>1</td>\n",
       "      <td>maths</td>\n",
       "      <td>4</td>\n",
       "      <td>2</td>\n",
       "      <td>16</td>\n",
       "      <td>3</td>\n",
       "      <td>3</td>\n",
       "      <td>3</td>\n",
       "      <td>2</td>\n",
       "      <td>4</td>\n",
       "      <td>1</td>\n",
       "      <td>5</td>\n",
       "      <td>father</td>\n",
       "      <td>1</td>\n",
       "      <td>Pass</td>\n",
       "    </tr>\n",
       "  </tbody>\n",
       "</table>\n",
       "</div>"
      ],
      "text/plain": [
       "   failures  higher discipline  absences  goout  age  Fedu  Medu  freetime  \\\n",
       "0         0       1      maths         6      4   18     4     4         3   \n",
       "1         0       1      maths         4      3   17     1     1         3   \n",
       "2         3       1      maths        10      2   15     1     1         3   \n",
       "3         0       1      maths         2      2   15     2     4         2   \n",
       "4         0       1      maths         4      2   16     3     3         3   \n",
       "\n",
       "   Walc  famrel  Dalc  health guardian  paid final_grade_label  \n",
       "0     1       4     1       3   mother     0              Fail  \n",
       "1     1       5     1       3   father     0              Fail  \n",
       "2     3       4     2       3   mother     1              Pass  \n",
       "3     1       3     1       5   mother     1              Pass  \n",
       "4     2       4     1       5   father     1              Pass  "
      ]
     },
     "execution_count": 180,
     "metadata": {},
     "output_type": "execute_result"
    }
   ],
   "source": [
    "grades.head()"
   ]
  },
  {
   "cell_type": "markdown",
   "metadata": {},
   "source": [
    "### Let's dummify some variables"
   ]
  },
  {
   "cell_type": "code",
   "execution_count": 181,
   "metadata": {
    "ExecuteTime": {
     "end_time": "2018-08-06T19:57:03.448261Z",
     "start_time": "2018-08-06T19:57:03.444158Z"
    }
   },
   "outputs": [
    {
     "data": {
      "text/plain": [
       "Index(['failures', 'higher', 'discipline', 'absences', 'goout', 'age', 'Fedu',\n",
       "       'Medu', 'freetime', 'Walc', 'famrel', 'Dalc', 'health', 'guardian',\n",
       "       'paid', 'final_grade_label'],\n",
       "      dtype='object')"
      ]
     },
     "execution_count": 181,
     "metadata": {},
     "output_type": "execute_result"
    }
   ],
   "source": [
    "#Sanity check\n",
    "grades.columns"
   ]
  },
  {
   "cell_type": "code",
   "execution_count": 182,
   "metadata": {
    "ExecuteTime": {
     "end_time": "2018-08-06T19:57:03.457624Z",
     "start_time": "2018-08-06T19:57:03.450334Z"
    }
   },
   "outputs": [],
   "source": [
    "# #dummify sex (M=0, F=1)\n",
    "#grades['sex'].replace({'M': 0, 'F': 1}, inplace=True)\n",
    "\n",
    "# #dummify address (U(urban)=0, R(rural)=1)\n",
    "# grades['address'].replace({'U': 0, 'R': 1}, inplace=True)\n",
    "\n",
    "# #dummify famsize (LE3(less than/equal to 3)=0, GT3(greater than 3)=1)\n",
    "# grades['famsize'].replace({'LE3': 0, 'GT3': 1}, inplace=True)\n",
    "\n",
    "# #dummify Pstatus(parent status) (T(together)=0, A(apart)=1)\n",
    "# grades['Pstatus'].replace({'T': 0, 'A': 1}, inplace=True)\n",
    "\n",
    "#dummify guardian (other=0, mother=1, father=2)\n",
    "grades['guardian'].replace({'other': 0, 'mother': 1, 'father': 2}, inplace=True)\n",
    "\n",
    "#dummify discipline (maths=0, portuguese=1)\n",
    "grades['discipline'].replace({'maths': 0, 'portuguese': 1}, inplace=True)\n",
    "\n",
    "# #drop G3 column (obviously!)\n",
    "# grades.drop(columns='G3', inplace=True)\n",
    "\n",
    "#dummify target variable\n",
    "grades['final_grade_label'].replace({'Fail': 0, 'Pass': 1}, inplace=True)\n"
   ]
  },
  {
   "cell_type": "markdown",
   "metadata": {},
   "source": [
    "### Feature and target analysis"
   ]
  },
  {
   "cell_type": "code",
   "execution_count": 183,
   "metadata": {
    "ExecuteTime": {
     "end_time": "2018-08-06T19:57:03.465021Z",
     "start_time": "2018-08-06T19:57:03.459489Z"
    }
   },
   "outputs": [
    {
     "name": "stdout",
     "output_type": "stream",
     "text": [
      "1    804\n",
      "0    226\n",
      "Name: final_grade_label, dtype: int64 \n",
      "\n",
      "% of Pass: 0.78\n",
      "% of Fail: 0.22 \n",
      "\n",
      "Pass to Fail ratio in the dataset: 77:22\n",
      "Percentage of Majority grade (Pass) 78.0\n"
     ]
    }
   ],
   "source": [
    "print(grades['final_grade_label'].value_counts(), '\\n')\n",
    "print('% of Pass:', str(round(814 / 1044, 2)))\n",
    "print('% of Fail:', str(round(230 / 1044, 2)), '\\n')\n",
    "print('Pass to Fail ratio in the dataset:', str(int((814 / 1044)*100))+':'+str(int((230 / 1044)*100)))\n",
    "print('Percentage of Majority grade (Pass)', str(round((814 / 1044) *100, 0)))"
   ]
  },
  {
   "cell_type": "markdown",
   "metadata": {},
   "source": [
    "> **This is not good!** I should look into oversampling or undersampling further down the line"
   ]
  },
  {
   "cell_type": "code",
   "execution_count": 184,
   "metadata": {
    "ExecuteTime": {
     "end_time": "2018-08-06T19:57:03.470786Z",
     "start_time": "2018-08-06T19:57:03.467212Z"
    }
   },
   "outputs": [],
   "source": [
    "feat, grade_label = grades.iloc[:, :-1], grades.iloc[:, -1]"
   ]
  },
  {
   "cell_type": "code",
   "execution_count": 185,
   "metadata": {
    "ExecuteTime": {
     "end_time": "2018-08-06T19:57:03.475286Z",
     "start_time": "2018-08-06T19:57:03.473096Z"
    }
   },
   "outputs": [],
   "source": [
    "# print(feat.head())\n",
    "# print(grade_label.head())"
   ]
  },
  {
   "cell_type": "code",
   "execution_count": 186,
   "metadata": {
    "ExecuteTime": {
     "end_time": "2018-08-06T19:57:03.478661Z",
     "start_time": "2018-08-06T19:57:03.476709Z"
    }
   },
   "outputs": [],
   "source": [
    "#grades.corr()"
   ]
  },
  {
   "cell_type": "markdown",
   "metadata": {},
   "source": [
    "## Train - test split"
   ]
  },
  {
   "cell_type": "code",
   "execution_count": 187,
   "metadata": {
    "ExecuteTime": {
     "end_time": "2018-08-06T19:57:03.485541Z",
     "start_time": "2018-08-06T19:57:03.480626Z"
    }
   },
   "outputs": [],
   "source": [
    "feat_train, feat_test, grade_label_train, grade_label_test = train_test_split(feat, grade_label, test_size=0.2\n",
    "                                                                                  , random_state=42, stratify=grade_label)"
   ]
  },
  {
   "cell_type": "markdown",
   "metadata": {},
   "source": [
    "# Modelling Time"
   ]
  },
  {
   "cell_type": "markdown",
   "metadata": {},
   "source": [
    "### Let's compare the models at their best"
   ]
  },
  {
   "cell_type": "code",
   "execution_count": 188,
   "metadata": {
    "ExecuteTime": {
     "end_time": "2018-08-06T19:57:03.490729Z",
     "start_time": "2018-08-06T19:57:03.487588Z"
    }
   },
   "outputs": [],
   "source": [
    "model_list = [RandomForestClassifier(n_estimators=150, class_weight=None, max_depth=5, min_samples_leaf=5, min_samples_split=2, random_state=42), \n",
    "              BernoulliNB(alpha=0.1, fit_prior=True)]\n",
    "\n",
    "model_names = ['Random Forest', 'Naive Bayes Bernoulli']"
   ]
  },
  {
   "cell_type": "code",
   "execution_count": 189,
   "metadata": {
    "ExecuteTime": {
     "end_time": "2018-08-06T19:57:07.193653Z",
     "start_time": "2018-08-06T19:57:03.492890Z"
    },
    "scrolled": true
   },
   "outputs": [
    {
     "name": "stdout",
     "output_type": "stream",
     "text": [
      "Average Precision score: \u001b[32m[('Random Forest', 0.924), ('Naive Bayes Bernoulli', 0.906)]\u001b[0m\n",
      "Average AUC score: \u001b[32m[('Random Forest', 0.789), ('Naive Bayes Bernoulli', 0.774)]\u001b[0m\n"
     ]
    }
   ],
   "source": [
    "model_precision_scores = []\n",
    "model_auc_scores = []\n",
    "all_models = {}\n",
    "\n",
    "for i in range(len(model_list)):\n",
    "    try_model = model_list[i]\n",
    "    try_model.fit(feat_train, grade_label_train)\n",
    "    all_models[model_names[i]] = try_model\n",
    "    cv_precision_score = cross_val_score(try_model, feat_train, grade_label_train, cv=10,\n",
    "                                scoring='average_precision')\n",
    "    cv_auc_score = cross_val_score(try_model, feat_train, grade_label_train, cv=10,\n",
    "                                scoring='roc_auc')\n",
    "    model_precision_scores.append((model_names[i], round(np.mean(cv_precision_score), 3)))\n",
    "    model_auc_scores.append((model_names[i], round(np.mean(cv_auc_score), 3)))\n",
    "    \n",
    "print('Average Precision score: ' + colored(sorted(model_precision_scores, key=lambda x: x[1], reverse=True), 'green'))\n",
    "print('Average AUC score: ' + colored(sorted(model_auc_scores, key=lambda x: x[1], reverse=True), 'green'))\n"
   ]
  },
  {
   "cell_type": "markdown",
   "metadata": {},
   "source": [
    "## Let's checkout AUC scores and ROC curves"
   ]
  },
  {
   "cell_type": "code",
   "execution_count": 190,
   "metadata": {
    "ExecuteTime": {
     "end_time": "2018-08-06T19:57:07.218286Z",
     "start_time": "2018-08-06T19:57:07.195324Z"
    },
    "scrolled": false
   },
   "outputs": [],
   "source": [
    "#roc_curve function calculates the true positive, false positive and a threshold\n",
    "fpr_RandFor, tpr_RandFor, thresholds_RandFor = roc_curve(grade_label_train, all_models['Random Forest'].predict_proba(feat_train)[:,1])\n",
    "fpr_NBB, tpr_NBB, thresholds_NBB = roc_curve(grade_label_train, all_models['Naive Bayes Bernoulli'].predict_proba(feat_train)[:,1])"
   ]
  },
  {
   "cell_type": "code",
   "execution_count": 191,
   "metadata": {
    "ExecuteTime": {
     "end_time": "2018-08-06T19:57:07.422810Z",
     "start_time": "2018-08-06T19:57:07.220417Z"
    }
   },
   "outputs": [
    {
     "data": {
      "image/png": "[encoded data removed]",
      "text/plain": [
       "<matplotlib.figure.Figure at 0x115df2390>"
      ]
     },
     "metadata": {},
     "output_type": "display_data"
    }
   ],
   "source": [
    "plt.figure(dpi=120)\n",
    "plt.plot(fpr_RandFor, tpr_RandFor, lw=2, label='Random Forest')\n",
    "plt.plot(fpr_NBB, tpr_NBB, lw=2, label='Naive Bayes Bernoulli')\n",
    "plt.plot([0,1],[0,1],c='r',ls='--')\n",
    "plt.xlim([-0.05,1.05])\n",
    "plt.ylim([-0.05,1.05])\n",
    "plt.legend()\n",
    "\n",
    "\n",
    "plt.xlabel('False positive rate')\n",
    "plt.ylabel('True positive rate')\n",
    "plt.title('ROC curve for grade problem');"
   ]
  },
  {
   "cell_type": "markdown",
   "metadata": {},
   "source": [
    ">> **It's decided! Random Forest and Naive Bayes (Bernoulli) are going through to the next round!**"
   ]
  },
  {
   "cell_type": "code",
   "execution_count": 192,
   "metadata": {
    "ExecuteTime": {
     "end_time": "2018-08-06T19:57:07.427344Z",
     "start_time": "2018-08-06T19:57:07.424860Z"
    }
   },
   "outputs": [],
   "source": [
    "#Let's record the two best models\n",
    "Random_Forest = all_models['Random Forest']\n",
    "Naive_Bayes_B = all_models['Naive Bayes Bernoulli']"
   ]
  },
  {
   "cell_type": "code",
   "execution_count": 193,
   "metadata": {
    "ExecuteTime": {
     "end_time": "2018-08-06T19:57:07.433010Z",
     "start_time": "2018-08-06T19:57:07.429361Z"
    }
   },
   "outputs": [
    {
     "data": {
      "text/plain": [
       "RandomForestClassifier(bootstrap=True, class_weight=None, criterion='gini',\n",
       "            max_depth=5, max_features='auto', max_leaf_nodes=None,\n",
       "            min_impurity_decrease=0.0, min_impurity_split=None,\n",
       "            min_samples_leaf=5, min_samples_split=2,\n",
       "            min_weight_fraction_leaf=0.0, n_estimators=150, n_jobs=1,\n",
       "            oob_score=False, random_state=42, verbose=0, warm_start=False)"
      ]
     },
     "execution_count": 193,
     "metadata": {},
     "output_type": "execute_result"
    }
   ],
   "source": [
    "Random_Forest"
   ]
  },
  {
   "cell_type": "markdown",
   "metadata": {},
   "source": [
    "## Can we do better with oversampling?"
   ]
  },
  {
   "cell_type": "markdown",
   "metadata": {},
   "source": [
    "#### Random Over Sampler "
   ]
  },
  {
   "cell_type": "code",
   "execution_count": 194,
   "metadata": {
    "ExecuteTime": {
     "end_time": "2018-08-06T19:57:07.440530Z",
     "start_time": "2018-08-06T19:57:07.434869Z"
    }
   },
   "outputs": [],
   "source": [
    "ROS = RandomOverSampler(random_state=42)\n",
    "feat_train_ROS, grade_label_train_ROS = ROS.fit_sample(feat_train, grade_label_train)"
   ]
  },
  {
   "cell_type": "code",
   "execution_count": 195,
   "metadata": {
    "ExecuteTime": {
     "end_time": "2018-08-06T19:57:07.446465Z",
     "start_time": "2018-08-06T19:57:07.442428Z"
    }
   },
   "outputs": [
    {
     "data": {
      "text/plain": [
       "Counter({1: 643, 0: 643})"
      ]
     },
     "execution_count": 195,
     "metadata": {},
     "output_type": "execute_result"
    }
   ],
   "source": [
    "Counter(grade_label_train_ROS)"
   ]
  },
  {
   "cell_type": "code",
   "execution_count": 196,
   "metadata": {
    "ExecuteTime": {
     "end_time": "2018-08-06T19:57:07.652083Z",
     "start_time": "2018-08-06T19:57:07.448226Z"
    }
   },
   "outputs": [],
   "source": [
    "#Create a new Random Forest model and fit with \"smoted\" values\n",
    "Random_Forest_ROS = Random_Forest\n",
    "Random_Forest_ROS.fit(feat_train_ROS, grade_label_train_ROS)\n",
    "\n",
    "Naive_Bayes_B_ROS = Naive_Bayes_B\n",
    "Naive_Bayes_B_ROS.fit(feat_train_ROS, grade_label_train_ROS);"
   ]
  },
  {
   "cell_type": "code",
   "execution_count": 197,
   "metadata": {
    "ExecuteTime": {
     "end_time": "2018-08-06T19:57:09.661094Z",
     "start_time": "2018-08-06T19:57:07.654466Z"
    },
    "scrolled": false
   },
   "outputs": [
    {
     "name": "stdout",
     "output_type": "stream",
     "text": [
      "The scores on original training set are:\n",
      "\n",
      "Accuracy score after Random Over Sampler is: \u001b[35m0.819\u001b[0m\n",
      "Recall score after Random Over Sampler is: \u001b[35m0.844\u001b[0m\n",
      "Precision score after Random Over Sampler is: \u001b[35m0.917\u001b[0m\n",
      "F1 score after Random Over Sampler is: \u001b[35m0.879\u001b[0m\n",
      "(Random Over Sampler): The mean of 10 fold cross validation precision score on Random Forest model is \u001b[35m0.803\u001b[0m\n",
      "[[132  49]\n",
      " [100 543]]\n"
     ]
    },
    {
     "data": {
      "text/plain": [
       "array([[132,  49],\n",
       "       [100, 543]])"
      ]
     },
     "execution_count": 197,
     "metadata": {},
     "output_type": "execute_result"
    },
    {
     "data": {
      "image/png": "[encoded data removed]",
      "text/plain": [
       "<matplotlib.figure.Figure at 0x119503ac8>"
      ]
     },
     "metadata": {},
     "output_type": "display_data"
    }
   ],
   "source": [
    "print('The scores on original training set are:\\n')\n",
    "print('Accuracy score after Random Over Sampler is:', colored(str(round(Random_Forest_ROS.score(feat_train, grade_label_train), 3)), 'magenta'))\n",
    "print('Recall score after Random Over Sampler is:', colored(str(round(recall_score(\n",
    "                                        grade_label_train, Random_Forest_ROS.predict(feat_train)), 3)), 'magenta'))\n",
    "print('Precision score after Random Over Sampler is:', colored(str(round(precision_score(\n",
    "                                        grade_label_train, Random_Forest_ROS.predict(feat_train)), 3)), 'magenta'))\n",
    "print('F1 score after Random Over Sampler is:', colored(str(round(f1_score(\n",
    "                                        grade_label_train, Random_Forest_ROS.predict(feat_train)), 3)), 'magenta'))\n",
    "\n",
    "#Checking precision score on random over sampler model\n",
    "RF_ROS_cross_val = cross_val_score(Random_Forest_ROS, feat_train, grade_label_train, scoring='precision', cv = 10)\n",
    "print('(Random Over Sampler): The mean of 10 fold cross validation precision score on Random Forest model is', \n",
    "                  colored(str(round(np.mean(RF_ROS_cross_val), 3)), 'magenta'))\n",
    "\n",
    "RF_ROS_cm = confusion_matrix(grade_label_train, Random_Forest_ROS.predict(feat_train))\n",
    "print(RF_ROS_cm)\n",
    "RF_ROS_cm = print_confusion_matrix(RF_ROS_cm, ['Pass', 'Fail'])\n",
    "\n",
    "confusion_matrix(grade_label_train, Random_Forest_ROS.predict(feat_train))"
   ]
  },
  {
   "cell_type": "markdown",
   "metadata": {},
   "source": [
    "> Not with Random Over Sampler, apparently!"
   ]
  },
  {
   "cell_type": "markdown",
   "metadata": {},
   "source": [
    "#### SMOTE"
   ]
  },
  {
   "cell_type": "code",
   "execution_count": 198,
   "metadata": {
    "ExecuteTime": {
     "end_time": "2018-08-06T19:57:09.672095Z",
     "start_time": "2018-08-06T19:57:09.663047Z"
    }
   },
   "outputs": [],
   "source": [
    "SMO = SMOTE(random_state=42)\n",
    "feat_train_smoted, grade_label_train_smoted = SMO.fit_sample(feat_train, grade_label_train)"
   ]
  },
  {
   "cell_type": "code",
   "execution_count": 199,
   "metadata": {
    "ExecuteTime": {
     "end_time": "2018-08-06T19:57:09.678128Z",
     "start_time": "2018-08-06T19:57:09.674065Z"
    }
   },
   "outputs": [
    {
     "data": {
      "text/plain": [
       "Counter({1: 643, 0: 643})"
      ]
     },
     "execution_count": 199,
     "metadata": {},
     "output_type": "execute_result"
    }
   ],
   "source": [
    "Counter(grade_label_train_smoted)"
   ]
  },
  {
   "cell_type": "code",
   "execution_count": 200,
   "metadata": {
    "ExecuteTime": {
     "end_time": "2018-08-06T19:57:09.898618Z",
     "start_time": "2018-08-06T19:57:09.679874Z"
    },
    "scrolled": false
   },
   "outputs": [],
   "source": [
    "Random_Forest_SMOTE = Random_Forest\n",
    "Random_Forest_SMOTE.fit(feat_train_smoted, grade_label_train_smoted)\n",
    "\n",
    "Naive_Bayes_B_SMOTE = Naive_Bayes_B\n",
    "Naive_Bayes_B_SMOTE.fit(feat_train_smoted, grade_label_train_smoted);"
   ]
  },
  {
   "cell_type": "code",
   "execution_count": 208,
   "metadata": {
    "ExecuteTime": {
     "end_time": "2018-08-06T20:00:48.517750Z",
     "start_time": "2018-08-06T20:00:46.544988Z"
    }
   },
   "outputs": [
    {
     "name": "stdout",
     "output_type": "stream",
     "text": [
      "Test scores on original training set are:\n",
      "\n",
      "Accuracy score after SMOTE is: \u001b[35m0.833\u001b[0m\n",
      "Recall score after SMOTE is: \u001b[35m0.998\u001b[0m\n",
      "Precision score after SMOTE is: \u001b[35m0.824\u001b[0m\n",
      "F1 score after SMOTE is: \u001b[35m0.903\u001b[0m\n",
      "(SMOTE): The mean of 10 fold cross validation precision score on Random Forest model is \u001b[35m0.803\u001b[0m\n"
     ]
    },
    {
     "data": {
      "image/png": "[encoded data removed]",
      "text/plain": [
       "<matplotlib.figure.Figure at 0x1a2031d780>"
      ]
     },
     "metadata": {},
     "output_type": "display_data"
    }
   ],
   "source": [
    "print('Test scores on original training set are:\\n')\n",
    "print('Accuracy score after SMOTE is:', colored(str(round(Random_Forest_SMOTE.score(feat_train, grade_label_train), 3)), 'magenta'))\n",
    "print('Recall score after SMOTE is:', colored(str(round(recall_score(\n",
    "                                        grade_label_train, Random_Forest_SMOTE.predict(feat_train)), 3)), 'magenta'))\n",
    "print('Precision score after SMOTE is:', colored(str(round(precision_score(\n",
    "                                        grade_label_train, Random_Forest_SMOTE.predict(feat_train)), 3)), 'magenta'))\n",
    "print('F1 score after SMOTE is:', colored(str(round(f1_score(\n",
    "                                        grade_label_train, Random_Forest_SMOTE.predict(feat_train)), 3)), 'magenta'))\n",
    "\n",
    "#Checking accuracy score on smoted model\n",
    "RF_smoted_cross_val = cross_val_score(Random_Forest_SMOTE, feat_train, grade_label_train, scoring='precision', cv = 10)\n",
    "print('(SMOTE): The mean of 10 fold cross validation precision score on Random Forest model is', \n",
    "                          colored(str(round(np.mean(RF_smoted_cross_val), 3)), 'magenta'))\n",
    "\n",
    "#What's my confusion matrix looking like?\n",
    "RF_smoted_cm = confusion_matrix(grade_label_train, Random_Forest_SMOTE.predict(feat_train))\n",
    "RF_smoted_cm = print_confusion_matrix(RF_smoted_cm, ['Pass', 'Fail'])"
   ]
  },
  {
   "cell_type": "markdown",
   "metadata": {},
   "source": [
    "> Not much improvement with SMOTE"
   ]
  },
  {
   "cell_type": "markdown",
   "metadata": {},
   "source": [
    "#### ADASYN"
   ]
  },
  {
   "cell_type": "code",
   "execution_count": 202,
   "metadata": {
    "ExecuteTime": {
     "end_time": "2018-08-06T19:57:11.921704Z",
     "start_time": "2018-08-06T19:57:11.908594Z"
    }
   },
   "outputs": [],
   "source": [
    "ADA = ADASYN(random_state=42)\n",
    "feat_train_adasyn, grade_label_train_adasyn = ADA.fit_sample(feat_train, grade_label_train)"
   ]
  },
  {
   "cell_type": "code",
   "execution_count": 203,
   "metadata": {
    "ExecuteTime": {
     "end_time": "2018-08-06T19:57:11.928005Z",
     "start_time": "2018-08-06T19:57:11.923788Z"
    }
   },
   "outputs": [
    {
     "data": {
      "text/plain": [
       "Counter({1: 643, 0: 642})"
      ]
     },
     "execution_count": 203,
     "metadata": {},
     "output_type": "execute_result"
    }
   ],
   "source": [
    "Counter(grade_label_train_adasyn)"
   ]
  },
  {
   "cell_type": "code",
   "execution_count": 204,
   "metadata": {
    "ExecuteTime": {
     "end_time": "2018-08-06T19:57:12.151839Z",
     "start_time": "2018-08-06T19:57:11.929663Z"
    },
    "scrolled": true
   },
   "outputs": [],
   "source": [
    "Random_Forest_ADASYN = Random_Forest\n",
    "Random_Forest_ADASYN.fit(feat_train_adasyn, grade_label_train_adasyn)\n",
    "\n",
    "Naive_Bayes_B_ADASYN = Naive_Bayes_B\n",
    "Naive_Bayes_B_ADASYN.fit(feat_train_adasyn, grade_label_train_adasyn);"
   ]
  },
  {
   "cell_type": "code",
   "execution_count": 205,
   "metadata": {
    "ExecuteTime": {
     "end_time": "2018-08-06T19:57:14.224825Z",
     "start_time": "2018-08-06T19:57:12.153824Z"
    },
    "scrolled": false
   },
   "outputs": [
    {
     "name": "stdout",
     "output_type": "stream",
     "text": [
      "Test scores on original training set are:\n",
      "\n",
      "Accuracy score after ADASYN is: \u001b[35m0.841\u001b[0m\n",
      "Recall score after ADASYN is: \u001b[35m0.902\u001b[0m\n",
      "Precision score after ADASYN is: \u001b[35m0.895\u001b[0m\n",
      "F1 score after ADASYN is: \u001b[35m0.899\u001b[0m\n",
      "(SMOTE): The mean of 10 fold cross validation precision score on Random Forest model is \u001b[35m0.803\u001b[0m\n"
     ]
    },
    {
     "data": {
      "image/png": "[encoded data removed]",
      "text/plain": [
       "<matplotlib.figure.Figure at 0x11969b828>"
      ]
     },
     "metadata": {},
     "output_type": "display_data"
    }
   ],
   "source": [
    "print('Test scores on original training set are:\\n')\n",
    "print('Accuracy score after ADASYN is:', colored(str(round(Random_Forest_ADASYN.score(feat_train, grade_label_train), 3)), 'magenta'))\n",
    "print('Recall score after ADASYN is:', colored(str(round(recall_score(\n",
    "                                        grade_label_train, Random_Forest_ADASYN.predict(feat_train)), 3)), 'magenta'))\n",
    "print('Precision score after ADASYN is:', colored(str(round(precision_score(\n",
    "                                        grade_label_train, Random_Forest_ADASYN.predict(feat_train)), 3)), 'magenta'))\n",
    "print('F1 score after ADASYN is:', colored(str(round(f1_score(\n",
    "                                        grade_label_train, Random_Forest_ADASYN.predict(feat_train)), 3)), 'magenta'))\n",
    "\n",
    "#Checking accuracy score on smoted model\n",
    "RF_smoted_cross_val = cross_val_score(Random_Forest_ADASYN, feat_train, grade_label_train, scoring='precision', cv = 10)\n",
    "print('(SMOTE): The mean of 10 fold cross validation precision score on Random Forest model is', \n",
    "                          colored(str(round(np.mean(RF_smoted_cross_val), 3)), 'magenta'))\n",
    "\n",
    "#What's my confusion matrix looking like?\n",
    "RF_adasyn_cm = confusion_matrix(grade_label_train, Random_Forest_ADASYN.predict(feat_train))\n",
    "RF_adasyn_cm = print_confusion_matrix(RF_adasyn_cm, ['Pass', 'Fail'])"
   ]
  },
  {
   "cell_type": "markdown",
   "metadata": {},
   "source": [
    "### So does Oversampling help?"
   ]
  },
  {
   "cell_type": "code",
   "execution_count": 206,
   "metadata": {
    "ExecuteTime": {
     "end_time": "2018-08-06T19:57:22.194650Z",
     "start_time": "2018-08-06T19:57:14.226983Z"
    },
    "scrolled": false
   },
   "outputs": [
    {
     "name": "stdout",
     "output_type": "stream",
     "text": [
      "[('RF', 0.803), ('RF with ROS', 0.803), ('RF with SMOTE', 0.803), ('RF with ADASYN', 0.803), ('Naive Bayes Bernoulli', 0.831), ('NBB with ROS', 0.831), ('NBB with SMOTE', 0.831), ('NBB with ADASYN', 0.831)]\n"
     ]
    }
   ],
   "source": [
    "mini_model_list = [Random_Forest, Random_Forest_ROS, Random_Forest_SMOTE, Random_Forest_ADASYN, Naive_Bayes_B, Naive_Bayes_B_ROS\n",
    "                  , Naive_Bayes_B_SMOTE, Naive_Bayes_B_ADASYN]\n",
    "mini_model_names = ['RF', 'RF with ROS', 'RF with SMOTE', 'RF with ADASYN', 'Naive Bayes Bernoulli', 'NBB with ROS', 'NBB with SMOTE', 'NBB with ADASYN']\n",
    "oversample_model_scores = []\n",
    "\n",
    "for i in range(len(mini_model_list)):\n",
    "    try_model = mini_model_list[i]\n",
    "    try_model.fit(feat_train, grade_label_train)\n",
    "    the_precision_score = cross_val_score(try_model, feat_train, grade_label_train, scoring='precision', cv=10)\n",
    "    oversample_model_scores.append((mini_model_names[i], round(np.mean(the_precision_score), 3)))\n",
    "    \n",
    "print(oversample_model_scores)"
   ]
  },
  {
   "cell_type": "markdown",
   "metadata": {},
   "source": [
    "> Shocker!"
   ]
  },
  {
   "cell_type": "markdown",
   "metadata": {},
   "source": [
    "## Feature selection (with Random Forest)"
   ]
  },
  {
   "cell_type": "code",
   "execution_count": 207,
   "metadata": {
    "ExecuteTime": {
     "end_time": "2018-08-06T19:57:22.212859Z",
     "start_time": "2018-08-06T19:57:22.196523Z"
    }
   },
   "outputs": [
    {
     "name": "stdout",
     "output_type": "stream",
     "text": [
      "failures: 0.283\n",
      "absences: 0.102\n",
      "discipline: 0.098\n",
      "higher: 0.087\n",
      "goout: 0.061\n",
      "famrel: 0.044\n",
      "age: 0.043\n",
      "Fedu: 0.042\n",
      "Walc: 0.042\n",
      "Medu: 0.039\n",
      "freetime: 0.037\n",
      "health: 0.035\n",
      "paid: 0.031\n",
      "Dalc: 0.029\n",
      "guardian: 0.026\n"
     ]
    }
   ],
   "source": [
    "feat_imp = []\n",
    "for feat, imp in zip([f for f in feat_train.columns], Random_Forest.feature_importances_):\n",
    "    feat_imp.append((feat, round(imp, 3)))\n",
    "\n",
    "for feat, imp in sorted(feat_imp, key=lambda x: x[1], reverse=True):\n",
    "    print(str(feat)+':', str(imp))"
   ]
  }
 ],
 "metadata": {
  "kernelspec": {
   "display_name": "Python 3",
   "language": "python",
   "name": "python3"
  },
  "language_info": {
   "codemirror_mode": {
    "name": "ipython",
    "version": 3
   },
   "file_extension": ".py",
   "mimetype": "text/x-python",
   "name": "python",
   "nbconvert_exporter": "python",
   "pygments_lexer": "ipython3",
   "version": "3.6.5"
  },
  "varInspector": {
   "cols": {
    "lenName": 16,
    "lenType": 16,
    "lenVar": 40
   },
   "kernels_config": {
    "python": {
     "delete_cmd_postfix": "",
     "delete_cmd_prefix": "del ",
     "library": "var_list.py",
     "varRefreshCmd": "print(var_dic_list())"
    },
    "r": {
     "delete_cmd_postfix": ") ",
     "delete_cmd_prefix": "rm(",
     "library": "var_list.r",
     "varRefreshCmd": "cat(var_dic_list()) "
    }
   },
   "types_to_exclude": [
    "module",
    "function",
    "builtin_function_or_method",
    "instance",
    "_Feature"
   ],
   "window_display": false
  }
 },
 "nbformat": 4,
 "nbformat_minor": 2
}
