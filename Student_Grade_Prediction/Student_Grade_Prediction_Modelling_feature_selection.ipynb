{
 "cells": [
  {
   "cell_type": "code",
   "execution_count": 1,
   "metadata": {
    "ExecuteTime": {
     "end_time": "2018-08-05T21:17:33.368292Z",
     "start_time": "2018-08-05T21:17:33.358403Z"
    }
   },
   "outputs": [
    {
     "data": {
      "text/html": [
       "<style>.container { width:95% !important; }</style>"
      ],
      "text/plain": [
       "<IPython.core.display.HTML object>"
      ]
     },
     "metadata": {},
     "output_type": "display_data"
    }
   ],
   "source": [
    "from IPython.core.display import display, HTML\n",
    "display(HTML(\"<style>.container { width:95% !important; }</style>\"))"
   ]
  },
  {
   "cell_type": "code",
   "execution_count": 2,
   "metadata": {
    "ExecuteTime": {
     "end_time": "2018-08-05T21:17:34.567541Z",
     "start_time": "2018-08-05T21:17:33.370550Z"
    }
   },
   "outputs": [],
   "source": [
    "#Essentials\n",
    "import numpy as np\n",
    "import psycopg2 as pg\n",
    "import pandas as pd\n",
    "import pandas.io.sql as pd_sql\n",
    "import matplotlib.pyplot as plt\n",
    "\n",
    "#sklearn \"magic\"\n",
    "from sklearn.model_selection import train_test_split\n",
    "from sklearn.neighbors import KNeighborsClassifier\n",
    "from sklearn.linear_model import LogisticRegression\n",
    "from sklearn.ensemble import RandomForestClassifier\n",
    "from sklearn.naive_bayes import GaussianNB, BernoulliNB\n",
    "from sklearn.linear_model import SGDClassifier\n",
    "from sklearn.model_selection import GridSearchCV\n",
    "from sklearn.model_selection import KFold\n",
    "from sklearn.model_selection import cross_val_score\n",
    "from sklearn.svm import LinearSVC, SVC\n",
    "from sklearn.pipeline import make_pipeline\n",
    "\n",
    "#Oversampling\n",
    "from sklearn.datasets import make_classification\n",
    "from imblearn.over_sampling import RandomOverSampler\n",
    "from imblearn.over_sampling import SMOTE\n",
    "from imblearn.over_sampling import ADASYN\n",
    "\n",
    "\n",
    "#Not sure about these ones yet\n",
    "from sklearn.datasets import make_classification\n",
    "from xgboost import XGBClassifier\n",
    "\n",
    "#Different scores\n",
    "from sklearn.metrics import precision_score, recall_score, accuracy_score, roc_auc_score, confusion_matrix\n",
    "from sklearn.metrics import precision_recall_curve, f1_score, fbeta_score, roc_curve\n",
    "\n",
    "#Nice to have\n",
    "from mlxtend.plotting import plot_decision_regions, plot_confusion_matrix\n",
    "import seaborn as sns\n",
    "plt.style.use('fivethirtyeight')\n",
    "from sklearn import tree\n",
    "from IPython.display import SVG\n",
    "from graphviz import Source\n",
    "from IPython.display import display \n",
    "from ipywidgets import interactive, FloatSlider\n",
    "from collections import Counter\n",
    "#interactive(lambda threshold: make_confusion_matrix(lm, threshold), threshold=(0.0,1.0,0.02))\n",
    "\n",
    "#Let there be colours!\n",
    "from termcolor import colored\n",
    "\n",
    "%matplotlib inline"
   ]
  },
  {
   "cell_type": "code",
   "execution_count": 3,
   "metadata": {
    "ExecuteTime": {
     "end_time": "2018-08-05T21:17:34.575999Z",
     "start_time": "2018-08-05T21:17:34.569491Z"
    }
   },
   "outputs": [],
   "source": [
    "# Helper function for printing confusion matrices (see: https://gist.github.com/shaypal5/94c53d765083101efc0240d776a23823)\n",
    "def print_confusion_matrix(confusion_matrix, class_names, figsize = (10,7), fontsize=18):\n",
    "    \"\"\"Prints a confusion matrix, as returned by sklearn.metrics.confusion_matrix, as a heatmap.\n",
    "    \n",
    "    Arguments\n",
    "    ---------\n",
    "    confusion_matrix: numpy.ndarray\n",
    "        The numpy.ndarray object returned from a call to sklearn.metrics.confusion_matrix. \n",
    "        Similarly constructed ndarrays can also be used.\n",
    "    class_names: list\n",
    "        An ordered list of class names, in the order they index the given confusion matrix.\n",
    "    figsize: tuple\n",
    "        A 2-long tuple, the first value determining the horizontal size of the ouputted figure,\n",
    "        the second determining the vertical size. Defaults to (10,7).\n",
    "    fontsize: int\n",
    "        Font size for axes labels. Defaults to 14.\n",
    "        \n",
    "    Returns\n",
    "    -------\n",
    "    matplotlib.figure.Figure\n",
    "        The resulting confusion matrix figure\n",
    "    \"\"\"\n",
    "    df_cm = pd.DataFrame(\n",
    "        confusion_matrix, index=class_names, columns=class_names, \n",
    "    )\n",
    "    fig = plt.figure(figsize=figsize)\n",
    "    try:\n",
    "        heatmap = sns.heatmap(df_cm, annot=True, fmt=\"d\")\n",
    "    except ValueError:\n",
    "        raise ValueError(\"Confusion matrix values must be integers.\")\n",
    "    heatmap.yaxis.set_ticklabels(heatmap.yaxis.get_ticklabels(), rotation=0, ha='right', fontsize=fontsize)\n",
    "    heatmap.xaxis.set_ticklabels(heatmap.xaxis.get_ticklabels(), rotation=45, ha='right', fontsize=fontsize)\n",
    "    plt.ylabel('True label')\n",
    "    plt.xlabel('Predicted label')\n",
    "    return fig"
   ]
  },
  {
   "cell_type": "code",
   "execution_count": 4,
   "metadata": {
    "ExecuteTime": {
     "end_time": "2018-08-05T21:17:35.148735Z",
     "start_time": "2018-08-05T21:17:34.578207Z"
    }
   },
   "outputs": [],
   "source": [
    "# Postgres info to connect\n",
    "\n",
    "connection_args = {\n",
    "    'host': '18.222.192.127', \n",
    "    'user': 'ubuntu',    # username\n",
    "    'dbname': 'student_grades',   # DB that we are connecting to\n",
    "    'port': 5432         # port we opened on AWS\n",
    "}\n",
    "\n",
    "# We will talk about this magic Python trick!\n",
    "connection = pg.connect(**connection_args)"
   ]
  },
  {
   "cell_type": "code",
   "execution_count": 5,
   "metadata": {
    "ExecuteTime": {
     "end_time": "2018-08-05T21:17:35.153068Z",
     "start_time": "2018-08-05T21:17:35.150831Z"
    }
   },
   "outputs": [],
   "source": [
    "#failures: 0.275, higher: 0.102, discipline: 0.09, absences: 0.081, goout: 0.041, age: 0.038, Fedu: 0.037, Medu: 0.033, freetime: 0.03\n",
    "#Walc: 0.026, famrel: 0.025, Dalc: 0.025, health: 0.023, guardian: 0.021, schoolsup: 0.021, paid: 0.018, studytime: 0.017, traveltime: 0.016\n",
    "#activities: 0.015, sex: 0.013, address: 0.011, famsize: 0.011, romantic: 0.011, famsup: 0.01, internet: 0.009, Pstatus: 0.003"
   ]
  },
  {
   "cell_type": "code",
   "execution_count": 6,
   "metadata": {
    "ExecuteTime": {
     "end_time": "2018-08-05T21:17:35.521497Z",
     "start_time": "2018-08-05T21:17:35.155735Z"
    }
   },
   "outputs": [],
   "source": [
    "### Let's combine the two SQL tables into one\n",
    "\n",
    "append_query = \"\"\"SELECT failures, higher, final_grade_label \n",
    "                    FROM maths_grades\n",
    "                    --WHERE age BETWEEN 15 AND 19\n",
    "\n",
    "                    UNION ALL\n",
    "\n",
    "                    SELECT failures, higher, final_grade_label \n",
    "                    FROM portuguese_grades\n",
    "                    --WHERE age BETWEEN 15 AND 19\n",
    "                    \"\"\"\n",
    "\n",
    "grades = pd_sql.read_sql(append_query, connection)"
   ]
  },
  {
   "cell_type": "code",
   "execution_count": 7,
   "metadata": {
    "ExecuteTime": {
     "end_time": "2018-08-05T21:17:35.539144Z",
     "start_time": "2018-08-05T21:17:35.523835Z"
    }
   },
   "outputs": [
    {
     "data": {
      "text/html": [
       "<div>\n",
       "<style scoped>\n",
       "    .dataframe tbody tr th:only-of-type {\n",
       "        vertical-align: middle;\n",
       "    }\n",
       "\n",
       "    .dataframe tbody tr th {\n",
       "        vertical-align: top;\n",
       "    }\n",
       "\n",
       "    .dataframe thead th {\n",
       "        text-align: right;\n",
       "    }\n",
       "</style>\n",
       "<table border=\"1\" class=\"dataframe\">\n",
       "  <thead>\n",
       "    <tr style=\"text-align: right;\">\n",
       "      <th></th>\n",
       "      <th>failures</th>\n",
       "      <th>higher</th>\n",
       "      <th>final_grade_label</th>\n",
       "    </tr>\n",
       "  </thead>\n",
       "  <tbody>\n",
       "    <tr>\n",
       "      <th>0</th>\n",
       "      <td>0</td>\n",
       "      <td>1</td>\n",
       "      <td>Fail</td>\n",
       "    </tr>\n",
       "    <tr>\n",
       "      <th>1</th>\n",
       "      <td>0</td>\n",
       "      <td>1</td>\n",
       "      <td>Fail</td>\n",
       "    </tr>\n",
       "    <tr>\n",
       "      <th>2</th>\n",
       "      <td>3</td>\n",
       "      <td>1</td>\n",
       "      <td>Pass</td>\n",
       "    </tr>\n",
       "    <tr>\n",
       "      <th>3</th>\n",
       "      <td>0</td>\n",
       "      <td>1</td>\n",
       "      <td>Pass</td>\n",
       "    </tr>\n",
       "    <tr>\n",
       "      <th>4</th>\n",
       "      <td>0</td>\n",
       "      <td>1</td>\n",
       "      <td>Pass</td>\n",
       "    </tr>\n",
       "  </tbody>\n",
       "</table>\n",
       "</div>"
      ],
      "text/plain": [
       "   failures  higher final_grade_label\n",
       "0         0       1              Fail\n",
       "1         0       1              Fail\n",
       "2         3       1              Pass\n",
       "3         0       1              Pass\n",
       "4         0       1              Pass"
      ]
     },
     "execution_count": 7,
     "metadata": {},
     "output_type": "execute_result"
    }
   ],
   "source": [
    "grades.head()"
   ]
  },
  {
   "cell_type": "markdown",
   "metadata": {},
   "source": [
    "### Let's dummify some variables"
   ]
  },
  {
   "cell_type": "code",
   "execution_count": 8,
   "metadata": {
    "ExecuteTime": {
     "end_time": "2018-08-05T21:17:35.546383Z",
     "start_time": "2018-08-05T21:17:35.541195Z"
    }
   },
   "outputs": [
    {
     "data": {
      "text/plain": [
       "Index(['failures', 'higher', 'final_grade_label'], dtype='object')"
      ]
     },
     "execution_count": 8,
     "metadata": {},
     "output_type": "execute_result"
    }
   ],
   "source": [
    "#Sanity check\n",
    "grades.columns"
   ]
  },
  {
   "cell_type": "code",
   "execution_count": 9,
   "metadata": {
    "ExecuteTime": {
     "end_time": "2018-08-05T21:17:35.554330Z",
     "start_time": "2018-08-05T21:17:35.549559Z"
    }
   },
   "outputs": [],
   "source": [
    "# #dummify sex (M=0, F=1)\n",
    "# grades['sex'].replace({'M': 0, 'F': 1}, inplace=True)\n",
    "\n",
    "# #dummify address (U(urban)=0, R(rural)=1)\n",
    "# grades['address'].replace({'U': 0, 'R': 1}, inplace=True)\n",
    "\n",
    "# #dummify famsize (LE3(less than/equal to 3)=0, GT3(greater than 3)=1)\n",
    "# grades['famsize'].replace({'LE3': 0, 'GT3': 1}, inplace=True)\n",
    "\n",
    "# #dummify Pstatus(parent status) (T(together)=0, A(apart)=1)\n",
    "# grades['Pstatus'].replace({'T': 0, 'A': 1}, inplace=True)\n",
    "\n",
    "# #dummify guardian (other=0, mother=1, father=2)\n",
    "# grades['guardian'].replace({'other': 0, 'mother': 1, 'father': 2}, inplace=True)\n",
    "\n",
    "#dummify discipline (maths=0, portuguese=1)\n",
    "#grades['discipline'].replace({'maths': 0, 'portuguese': 1}, inplace=True)\n",
    "\n",
    "# #drop G3 column (obviously!)\n",
    "# grades.drop(columns='G3', inplace=True)\n",
    "\n",
    "#dummify target variable\n",
    "grades['final_grade_label'].replace({'Fail': 0, 'Pass': 1}, inplace=True)\n"
   ]
  },
  {
   "cell_type": "markdown",
   "metadata": {},
   "source": [
    "### Feature and target analysis"
   ]
  },
  {
   "cell_type": "code",
   "execution_count": 10,
   "metadata": {
    "ExecuteTime": {
     "end_time": "2018-08-05T21:17:35.562871Z",
     "start_time": "2018-08-05T21:17:35.556801Z"
    }
   },
   "outputs": [
    {
     "name": "stdout",
     "output_type": "stream",
     "text": [
      "1    814\n",
      "0    230\n",
      "Name: final_grade_label, dtype: int64 \n",
      "\n",
      "% of Pass: 0.78\n",
      "% of Fail: 0.22 \n",
      "\n",
      "Pass to Fail ratio in the dataset: 77:22\n",
      "Percentage of Majority grade (Pass) 78.0\n"
     ]
    }
   ],
   "source": [
    "print(grades['final_grade_label'].value_counts(), '\\n')\n",
    "print('% of Pass:', str(round(814 / 1044, 2)))\n",
    "print('% of Fail:', str(round(230 / 1044, 2)), '\\n')\n",
    "print('Pass to Fail ratio in the dataset:', str(int((814 / 1044)*100))+':'+str(int((230 / 1044)*100)))\n",
    "print('Percentage of Majority grade (Pass)', str(round((814 / 1044) *100, 0)))"
   ]
  },
  {
   "cell_type": "markdown",
   "metadata": {},
   "source": [
    "> **This is not good!** I should look into oversampling or undersampling further down the line"
   ]
  },
  {
   "cell_type": "code",
   "execution_count": 11,
   "metadata": {
    "ExecuteTime": {
     "end_time": "2018-08-05T21:17:35.569072Z",
     "start_time": "2018-08-05T21:17:35.566253Z"
    }
   },
   "outputs": [],
   "source": [
    "feat, grade_label = grades.iloc[:, :-2], grades.iloc[:, -2]"
   ]
  },
  {
   "cell_type": "code",
   "execution_count": 12,
   "metadata": {
    "ExecuteTime": {
     "end_time": "2018-08-05T21:17:35.573463Z",
     "start_time": "2018-08-05T21:17:35.571064Z"
    }
   },
   "outputs": [],
   "source": [
    "# print(feat.head())\n",
    "# print(grade_label.head())"
   ]
  },
  {
   "cell_type": "code",
   "execution_count": 13,
   "metadata": {
    "ExecuteTime": {
     "end_time": "2018-08-05T21:17:35.577396Z",
     "start_time": "2018-08-05T21:17:35.575289Z"
    }
   },
   "outputs": [],
   "source": [
    "#grades.corr()"
   ]
  },
  {
   "cell_type": "markdown",
   "metadata": {},
   "source": [
    "## Train - test split"
   ]
  },
  {
   "cell_type": "code",
   "execution_count": 14,
   "metadata": {
    "ExecuteTime": {
     "end_time": "2018-08-05T21:17:35.585365Z",
     "start_time": "2018-08-05T21:17:35.579356Z"
    }
   },
   "outputs": [],
   "source": [
    "feat_train, feat_test, grade_label_train, grade_label_test = train_test_split(feat, grade_label, test_size=0.2\n",
    "                                                                                  , random_state=42, stratify=grade_label)"
   ]
  },
  {
   "cell_type": "markdown",
   "metadata": {},
   "source": [
    "# Modelling Time"
   ]
  },
  {
   "cell_type": "markdown",
   "metadata": {},
   "source": [
    "### Let's compare the models at their best"
   ]
  },
  {
   "cell_type": "code",
   "execution_count": 15,
   "metadata": {
    "ExecuteTime": {
     "end_time": "2018-08-05T21:17:35.590640Z",
     "start_time": "2018-08-05T21:17:35.587251Z"
    }
   },
   "outputs": [],
   "source": [
    "model_list = [RandomForestClassifier(n_estimators=150, class_weight=None, max_depth=5, min_samples_leaf=5, min_samples_split=2, random_state=42), \n",
    "              BernoulliNB(alpha=0.1, fit_prior=True)]\n",
    "\n",
    "model_names = ['Random Forest', 'Naive Bayes Bernoulli']"
   ]
  },
  {
   "cell_type": "code",
   "execution_count": 16,
   "metadata": {
    "ExecuteTime": {
     "end_time": "2018-08-05T21:17:37.538324Z",
     "start_time": "2018-08-05T21:17:35.593168Z"
    },
    "scrolled": false
   },
   "outputs": [
    {
     "name": "stdout",
     "output_type": "stream",
     "text": [
      "[('Random Forest', 0.915), ('Naive Bayes Bernoulli', 0.915)]\n"
     ]
    }
   ],
   "source": [
    "model_scores = []\n",
    "all_models = {}\n",
    "\n",
    "for i in range(len(model_list)):\n",
    "    try_model = model_list[i]\n",
    "    try_model.fit(feat_train, grade_label_train)\n",
    "    all_models[model_names[i]] = try_model\n",
    "    cv_precision_score = cross_val_score(try_model, feat_train, grade_label_train, cv=10,\n",
    "                                scoring='precision')\n",
    "    model_scores.append((model_names[i], round(np.mean(cv_precision_score), 3)))\n",
    "    \n",
    "print(sorted(model_scores, key=lambda x: x[1], reverse=True))\n"
   ]
  },
  {
   "cell_type": "markdown",
   "metadata": {},
   "source": [
    "## Let's check out AUC scores and ROC curves"
   ]
  },
  {
   "cell_type": "code",
   "execution_count": 18,
   "metadata": {
    "ExecuteTime": {
     "end_time": "2018-08-05T21:17:37.575120Z",
     "start_time": "2018-08-05T21:17:37.548701Z"
    },
    "scrolled": false
   },
   "outputs": [],
   "source": [
    "#roc_curve function calculates the true positive, false positive and a threshold\n",
    "fpr_RandFor, tpr_RandFor, thresholds_RandFor = roc_curve(grade_label_train, all_models['Random Forest'].predict_proba(feat_train)[:,1])\n",
    "fpr_NBB, tpr_NBB, thresholds_NBB = roc_curve(grade_label_train, all_models['Naive Bayes Bernoulli'].predict_proba(feat_train)[:,1])"
   ]
  },
  {
   "cell_type": "code",
   "execution_count": 19,
   "metadata": {
    "ExecuteTime": {
     "end_time": "2018-08-05T21:17:37.824753Z",
     "start_time": "2018-08-05T21:17:37.577346Z"
    }
   },
   "outputs": [
    {
     "data": {
      "image/png": "[encoded data removed]",
      "text/plain": [
       "<matplotlib.figure.Figure at 0x10da55320>"
      ]
     },
     "metadata": {},
     "output_type": "display_data"
    }
   ],
   "source": [
    "plt.figure(dpi=120)\n",
    "plt.plot(fpr_RandFor, tpr_RandFor, lw=2, label='Random Forest')\n",
    "plt.plot(fpr_NBB, tpr_NBB, lw=2, label='Naive Bayes Bernoulli')\n",
    "plt.plot([0,1],[0,1],c='r',ls='--')\n",
    "plt.xlim([-0.05,1.05])\n",
    "plt.ylim([-0.05,1.05])\n",
    "plt.legend()\n",
    "\n",
    "\n",
    "plt.xlabel('False positive rate')\n",
    "plt.ylabel('True positive rate')\n",
    "plt.title('ROC curve for grade problem');"
   ]
  },
  {
   "cell_type": "markdown",
   "metadata": {},
   "source": [
    ">> **It's decided! Random Forest and Naive Bayes (Bernoulli) are going through to the next round!**"
   ]
  },
  {
   "cell_type": "code",
   "execution_count": 20,
   "metadata": {
    "ExecuteTime": {
     "end_time": "2018-08-05T21:17:37.829165Z",
     "start_time": "2018-08-05T21:17:37.826599Z"
    }
   },
   "outputs": [],
   "source": [
    "#Let's record the two best models\n",
    "Random_Forest = all_models['Random Forest']\n",
    "Naive_Bayes_B = all_models['Naive Bayes Bernoulli']"
   ]
  },
  {
   "cell_type": "code",
   "execution_count": 21,
   "metadata": {
    "ExecuteTime": {
     "end_time": "2018-08-05T21:17:37.836005Z",
     "start_time": "2018-08-05T21:17:37.831513Z"
    }
   },
   "outputs": [
    {
     "data": {
      "text/plain": [
       "RandomForestClassifier(bootstrap=True, class_weight=None, criterion='gini',\n",
       "            max_depth=5, max_features='auto', max_leaf_nodes=None,\n",
       "            min_impurity_decrease=0.0, min_impurity_split=None,\n",
       "            min_samples_leaf=5, min_samples_split=2,\n",
       "            min_weight_fraction_leaf=0.0, n_estimators=150, n_jobs=1,\n",
       "            oob_score=False, random_state=42, verbose=0, warm_start=False)"
      ]
     },
     "execution_count": 21,
     "metadata": {},
     "output_type": "execute_result"
    }
   ],
   "source": [
    "Random_Forest"
   ]
  },
  {
   "cell_type": "markdown",
   "metadata": {},
   "source": [
    "## Can we do better with oversampling?"
   ]
  },
  {
   "cell_type": "markdown",
   "metadata": {},
   "source": [
    "#### Random Over Sampler "
   ]
  },
  {
   "cell_type": "code",
   "execution_count": 22,
   "metadata": {
    "ExecuteTime": {
     "end_time": "2018-08-05T21:17:37.843595Z",
     "start_time": "2018-08-05T21:17:37.837966Z"
    }
   },
   "outputs": [],
   "source": [
    "ROS = RandomOverSampler(random_state=42)\n",
    "feat_train_ROS, grade_label_train_ROS = ROS.fit_sample(feat_train, grade_label_train)"
   ]
  },
  {
   "cell_type": "code",
   "execution_count": 23,
   "metadata": {
    "ExecuteTime": {
     "end_time": "2018-08-05T21:17:37.849740Z",
     "start_time": "2018-08-05T21:17:37.845500Z"
    }
   },
   "outputs": [
    {
     "data": {
      "text/plain": [
       "Counter({0: 764, 1: 764})"
      ]
     },
     "execution_count": 23,
     "metadata": {},
     "output_type": "execute_result"
    }
   ],
   "source": [
    "Counter(grade_label_train_ROS)"
   ]
  },
  {
   "cell_type": "code",
   "execution_count": 24,
   "metadata": {
    "ExecuteTime": {
     "end_time": "2018-08-05T21:17:38.021820Z",
     "start_time": "2018-08-05T21:17:37.852311Z"
    }
   },
   "outputs": [],
   "source": [
    "#Create a new Random Forest model and fit with \"smoted\" values\n",
    "Random_Forest_ROS = Random_Forest\n",
    "Random_Forest_ROS.fit(feat_train_ROS, grade_label_train_ROS)\n",
    "\n",
    "Naive_Bayes_B_ROS = Naive_Bayes_B\n",
    "Naive_Bayes_B_ROS.fit(feat_train_ROS, grade_label_train_ROS);"
   ]
  },
  {
   "cell_type": "code",
   "execution_count": 37,
   "metadata": {
    "ExecuteTime": {
     "end_time": "2018-08-05T21:28:25.420647Z",
     "start_time": "2018-08-05T21:28:23.829267Z"
    },
    "scrolled": false
   },
   "outputs": [
    {
     "name": "stdout",
     "output_type": "stream",
     "text": [
      "The scores on original training set are:\n",
      "\n",
      "Accuracy score after Random Over Sampler is: \u001b[35m0.915\u001b[0m\n",
      "Recall score after Random Over Sampler is: \u001b[35m1.0\u001b[0m\n",
      "Precision score after Random Over Sampler is: \u001b[35m0.915\u001b[0m\n",
      "F1 score after Random Over Sampler is: \u001b[35m0.956\u001b[0m\n",
      "(Random Over Sampler): The mean of 10 fold cross validation precision score on Random Forest model is \u001b[35m0.915\u001b[0m\n"
     ]
    },
    {
     "data": {
      "text/plain": [
       "array([[  0,  71],\n",
       "       [  0, 764]])"
      ]
     },
     "execution_count": 37,
     "metadata": {},
     "output_type": "execute_result"
    }
   ],
   "source": [
    "print('The scores on original training set are:\\n')\n",
    "print('Accuracy score after Random Over Sampler is:', colored(str(round(Random_Forest_ROS.score(feat_train, grade_label_train), 3)), 'magenta'))\n",
    "print('Recall score after Random Over Sampler is:', colored(str(round(recall_score(\n",
    "                                        grade_label_train, Random_Forest_ROS.predict(feat_train)), 3)), 'magenta'))\n",
    "print('Precision score after Random Over Sampler is:', colored(str(round(precision_score(\n",
    "                                        grade_label_train, Random_Forest_ROS.predict(feat_train)), 3)), 'magenta'))\n",
    "print('F1 score after Random Over Sampler is:', colored(str(round(f1_score(\n",
    "                                        grade_label_train, Random_Forest_ROS.predict(feat_train)), 3)), 'magenta'))\n",
    "\n",
    "#Checking precision score on random over sampler model\n",
    "RF_ROS_cross_val = cross_val_score(Random_Forest_ROS, feat_train, grade_label_train, scoring='precision', cv = 10)\n",
    "print('(Random Over Sampler): The mean of 10 fold cross validation precision score on Random Forest model is', \n",
    "                  colored(str(round(np.mean(RF_ROS_cross_val), 3)), 'magenta'))\n",
    "\n",
    "RF_ROS_cm = confusion_matrix(grade_label_train, Random_Forest_ROS.predict(feat_train))\n",
    "#RF_ROS_cm = print_confusion_matrix(RF_ROS_cm, ['Pass', 'Fail'])\n",
    "\n",
    "confusion_matrix(grade_label_train, Random_Forest_ROS.predict(feat_train))"
   ]
  },
  {
   "cell_type": "markdown",
   "metadata": {},
   "source": [
    "> Not with Random Over Sampler, apparently!"
   ]
  },
  {
   "cell_type": "markdown",
   "metadata": {},
   "source": [
    "#### SMOTE"
   ]
  },
  {
   "cell_type": "code",
   "execution_count": 26,
   "metadata": {
    "ExecuteTime": {
     "end_time": "2018-08-05T21:17:39.996314Z",
     "start_time": "2018-08-05T21:17:39.984187Z"
    }
   },
   "outputs": [],
   "source": [
    "SMO = SMOTE(random_state=42)\n",
    "feat_train_smoted, grade_label_train_smoted = SMO.fit_sample(feat_train, grade_label_train)"
   ]
  },
  {
   "cell_type": "code",
   "execution_count": 27,
   "metadata": {
    "ExecuteTime": {
     "end_time": "2018-08-05T21:17:40.003618Z",
     "start_time": "2018-08-05T21:17:39.998348Z"
    }
   },
   "outputs": [
    {
     "data": {
      "text/plain": [
       "Counter({0: 764, 1: 764})"
      ]
     },
     "execution_count": 27,
     "metadata": {},
     "output_type": "execute_result"
    }
   ],
   "source": [
    "Counter(grade_label_train_smoted)"
   ]
  },
  {
   "cell_type": "code",
   "execution_count": 28,
   "metadata": {
    "ExecuteTime": {
     "end_time": "2018-08-05T21:17:40.192662Z",
     "start_time": "2018-08-05T21:17:40.005767Z"
    },
    "scrolled": false
   },
   "outputs": [],
   "source": [
    "Random_Forest_SMOTE = Random_Forest\n",
    "Random_Forest_SMOTE.fit(feat_train_smoted, grade_label_train_smoted)\n",
    "\n",
    "Naive_Bayes_B_SMOTE = Naive_Bayes_B\n",
    "Naive_Bayes_B_SMOTE.fit(feat_train_smoted, grade_label_train_smoted);"
   ]
  },
  {
   "cell_type": "code",
   "execution_count": 29,
   "metadata": {
    "ExecuteTime": {
     "end_time": "2018-08-05T21:17:42.109475Z",
     "start_time": "2018-08-05T21:17:40.194907Z"
    }
   },
   "outputs": [
    {
     "name": "stdout",
     "output_type": "stream",
     "text": [
      "Test scores on original training set are:\n",
      "\n",
      "Accuracy score after SMOTE is: \u001b[35m0.846\u001b[0m\n",
      "Recall score after SMOTE is: \u001b[35m0.88\u001b[0m\n",
      "Precision score after SMOTE is: \u001b[35m0.948\u001b[0m\n",
      "F1 score after SMOTE is: \u001b[35m0.912\u001b[0m\n",
      "(SMOTE): The mean of 10 fold cross validation accuracy score on Random Forest model is \u001b[35m0.915\u001b[0m\n"
     ]
    },
    {
     "data": {
      "image/png": "[encoded data removed]",
      "text/plain": [
       "<matplotlib.figure.Figure at 0x10da07f98>"
      ]
     },
     "metadata": {},
     "output_type": "display_data"
    }
   ],
   "source": [
    "print('Test scores on original training set are:\\n')\n",
    "print('Accuracy score after SMOTE is:', colored(str(round(Random_Forest_SMOTE.score(feat_train, grade_label_train), 3)), 'magenta'))\n",
    "print('Recall score after SMOTE is:', colored(str(round(recall_score(\n",
    "                                        grade_label_train, Random_Forest_SMOTE.predict(feat_train)), 3)), 'magenta'))\n",
    "print('Precision score after SMOTE is:', colored(str(round(precision_score(\n",
    "                                        grade_label_train, Random_Forest_SMOTE.predict(feat_train)), 3)), 'magenta'))\n",
    "print('F1 score after SMOTE is:', colored(str(round(f1_score(\n",
    "                                        grade_label_train, Random_Forest_SMOTE.predict(feat_train)), 3)), 'magenta'))\n",
    "\n",
    "#Checking accuracy score on smoted model\n",
    "RF_smoted_cross_val = cross_val_score(Random_Forest_SMOTE, feat_train, grade_label_train, scoring='precision', cv = 10)\n",
    "print('(SMOTE): The mean of 10 fold cross validation accuracy score on Random Forest model is', \n",
    "                          colored(str(round(np.mean(RF_smoted_cross_val), 3)), 'magenta'))\n",
    "\n",
    "#What's my confusion matrix looking like?\n",
    "RF_smoted_cm = confusion_matrix(grade_label_train, Random_Forest_SMOTE.predict(feat_train))\n",
    "RF_smoted_cm = print_confusion_matrix(RF_smoted_cm, ['Pass', 'Fail'])"
   ]
  },
  {
   "cell_type": "markdown",
   "metadata": {},
   "source": [
    "> Not much improvement with SMOTE"
   ]
  },
  {
   "cell_type": "markdown",
   "metadata": {},
   "source": [
    "#### ADASYN"
   ]
  },
  {
   "cell_type": "code",
   "execution_count": 30,
   "metadata": {
    "ExecuteTime": {
     "end_time": "2018-08-05T21:17:42.123470Z",
     "start_time": "2018-08-05T21:17:42.111522Z"
    }
   },
   "outputs": [],
   "source": [
    "ADA = ADASYN(random_state=42)\n",
    "feat_train_adasyn, grade_label_train_adasyn = ADA.fit_sample(feat_train, grade_label_train)"
   ]
  },
  {
   "cell_type": "code",
   "execution_count": 31,
   "metadata": {
    "ExecuteTime": {
     "end_time": "2018-08-05T21:17:42.129674Z",
     "start_time": "2018-08-05T21:17:42.125534Z"
    }
   },
   "outputs": [
    {
     "data": {
      "text/plain": [
       "Counter({0: 745, 1: 764})"
      ]
     },
     "execution_count": 31,
     "metadata": {},
     "output_type": "execute_result"
    }
   ],
   "source": [
    "Counter(grade_label_train_adasyn)"
   ]
  },
  {
   "cell_type": "code",
   "execution_count": 32,
   "metadata": {
    "ExecuteTime": {
     "end_time": "2018-08-05T21:17:42.305284Z",
     "start_time": "2018-08-05T21:17:42.131893Z"
    },
    "scrolled": true
   },
   "outputs": [],
   "source": [
    "Random_Forest_ADASYN = Random_Forest\n",
    "Random_Forest_ADASYN.fit(feat_train_adasyn, grade_label_train_adasyn)\n",
    "\n",
    "Naive_Bayes_B_ADASYN = Naive_Bayes_B\n",
    "Naive_Bayes_B_ADASYN.fit(feat_train_adasyn, grade_label_train_adasyn);"
   ]
  },
  {
   "cell_type": "code",
   "execution_count": 33,
   "metadata": {
    "ExecuteTime": {
     "end_time": "2018-08-05T21:17:44.193968Z",
     "start_time": "2018-08-05T21:17:42.307545Z"
    },
    "scrolled": false
   },
   "outputs": [
    {
     "name": "stdout",
     "output_type": "stream",
     "text": [
      "Test scores on original training set are:\n",
      "\n",
      "Accuracy score after ADASYN is: \u001b[35m0.846\u001b[0m\n",
      "Recall score after ADASYN is: \u001b[35m0.88\u001b[0m\n",
      "Precision score after ADASYN is: \u001b[35m0.948\u001b[0m\n",
      "F1 score after ADASYN is: \u001b[35m0.912\u001b[0m\n",
      "(SMOTE): The mean of 10 fold cross validation accuracy score on Random Forest model is \u001b[35m0.915\u001b[0m\n"
     ]
    },
    {
     "data": {
      "image/png": "[encoded data removed]",
      "text/plain": [
       "<matplotlib.figure.Figure at 0x10da5dcf8>"
      ]
     },
     "metadata": {},
     "output_type": "display_data"
    }
   ],
   "source": [
    "print('Test scores on original training set are:\\n')\n",
    "print('Accuracy score after ADASYN is:', colored(str(round(Random_Forest_ADASYN.score(feat_train, grade_label_train), 3)), 'magenta'))\n",
    "print('Recall score after ADASYN is:', colored(str(round(recall_score(\n",
    "                                        grade_label_train, Random_Forest_ADASYN.predict(feat_train)), 3)), 'magenta'))\n",
    "print('Precision score after ADASYN is:', colored(str(round(precision_score(\n",
    "                                        grade_label_train, Random_Forest_ADASYN.predict(feat_train)), 3)), 'magenta'))\n",
    "print('F1 score after ADASYN is:', colored(str(round(f1_score(\n",
    "                                        grade_label_train, Random_Forest_ADASYN.predict(feat_train)), 3)), 'magenta'))\n",
    "\n",
    "#Checking accuracy score on smoted model\n",
    "RF_smoted_cross_val = cross_val_score(Random_Forest_ADASYN, feat_train, grade_label_train, scoring='precision', cv = 10)\n",
    "print('(SMOTE): The mean of 10 fold cross validation precision score on Random Forest model is', \n",
    "                          colored(str(round(np.mean(RF_smoted_cross_val), 3)), 'magenta'))\n",
    "\n",
    "#What's my confusion matrix looking like?\n",
    "RF_adasyn_cm = confusion_matrix(grade_label_train, Random_Forest_ADASYN.predict(feat_train))\n",
    "RF_adasyn_cm = print_confusion_matrix(RF_adasyn_cm, ['Pass', 'Fail'])"
   ]
  },
  {
   "cell_type": "markdown",
   "metadata": {},
   "source": [
    "### So does Oversampling help?"
   ]
  },
  {
   "cell_type": "code",
   "execution_count": 34,
   "metadata": {
    "ExecuteTime": {
     "end_time": "2018-08-05T21:17:51.158429Z",
     "start_time": "2018-08-05T21:17:44.195750Z"
    },
    "scrolled": false
   },
   "outputs": [
    {
     "name": "stdout",
     "output_type": "stream",
     "text": [
      "[('RF', 0.915), ('RF with ROS', 0.915), ('RF with SMOTE', 0.915), ('RF with ADASYN', 0.915), ('Naive Bayes Bernoulli', 0.915), ('NBB with ROS', 0.915), ('NBB with SMOTE', 0.915), ('NBB with ADASYN', 0.915)]\n"
     ]
    }
   ],
   "source": [
    "mini_model_list = [Random_Forest, Random_Forest_ROS, Random_Forest_SMOTE, Random_Forest_ADASYN, Naive_Bayes_B, Naive_Bayes_B_ROS\n",
    "                  , Naive_Bayes_B_SMOTE, Naive_Bayes_B_ADASYN]\n",
    "mini_model_names = ['RF', 'RF with ROS', 'RF with SMOTE', 'RF with ADASYN', 'Naive Bayes Bernoulli', 'NBB with ROS', 'NBB with SMOTE', 'NBB with ADASYN']\n",
    "oversample_model_scores = []\n",
    "\n",
    "for i in range(len(mini_model_list)):\n",
    "    try_model = mini_model_list[i]\n",
    "    try_model.fit(feat_train, grade_label_train)\n",
    "    the_precision_score = cross_val_score(try_model, feat_train, grade_label_train, scoring='precision', cv=10)\n",
    "    oversample_model_scores.append((mini_model_names[i], round(np.mean(the_precision_score), 3)))\n",
    "    \n",
    "print(oversample_model_scores)"
   ]
  },
  {
   "cell_type": "markdown",
   "metadata": {},
   "source": [
    "> Shocker!"
   ]
  },
  {
   "cell_type": "markdown",
   "metadata": {},
   "source": [
    "## Feature selection (with Random Forest)"
   ]
  },
  {
   "cell_type": "code",
   "execution_count": 35,
   "metadata": {
    "ExecuteTime": {
     "end_time": "2018-08-05T21:17:51.178057Z",
     "start_time": "2018-08-05T21:17:51.160689Z"
    }
   },
   "outputs": [
    {
     "name": "stdout",
     "output_type": "stream",
     "text": [
      "failures: 1.0\n"
     ]
    }
   ],
   "source": [
    "feat_imp = []\n",
    "for feat, imp in zip([f for f in feat_train.columns], Random_Forest.feature_importances_):\n",
    "    feat_imp.append((feat, round(imp, 3)))\n",
    "\n",
    "for feat, imp in sorted(feat_imp, key=lambda x: x[1], reverse=True):\n",
    "    print(str(feat)+':', str(imp))"
   ]
  }
 ],
 "metadata": {
  "kernelspec": {
   "display_name": "Python 3",
   "language": "python",
   "name": "python3"
  },
  "language_info": {
   "codemirror_mode": {
    "name": "ipython",
    "version": 3
   },
   "file_extension": ".py",
   "mimetype": "text/x-python",
   "name": "python",
   "nbconvert_exporter": "python",
   "pygments_lexer": "ipython3",
   "version": "3.6.5"
  },
  "varInspector": {
   "cols": {
    "lenName": 16,
    "lenType": 16,
    "lenVar": 40
   },
   "kernels_config": {
    "python": {
     "delete_cmd_postfix": "",
     "delete_cmd_prefix": "del ",
     "library": "var_list.py",
     "varRefreshCmd": "print(var_dic_list())"
    },
    "r": {
     "delete_cmd_postfix": ") ",
     "delete_cmd_prefix": "rm(",
     "library": "var_list.r",
     "varRefreshCmd": "cat(var_dic_list()) "
    }
   },
   "types_to_exclude": [
    "module",
    "function",
    "builtin_function_or_method",
    "instance",
    "_Feature"
   ],
   "window_display": false
  }
 },
 "nbformat": 4,
 "nbformat_minor": 2
}
