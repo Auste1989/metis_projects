{
 "cells": [
  {
   "cell_type": "markdown",
   "metadata": {},
   "source": [
    "## Project 2. Part 3 (Improve the model)"
   ]
  },
  {
   "cell_type": "code",
   "execution_count": 51,
   "metadata": {},
   "outputs": [
    {
     "ename": "SyntaxError",
     "evalue": "invalid syntax (<ipython-input-51-ea16d7bad9a1>, line 2)",
     "output_type": "error",
     "traceback": [
      "\u001b[0;36m  File \u001b[0;32m\"<ipython-input-51-ea16d7bad9a1>\"\u001b[0;36m, line \u001b[0;32m2\u001b[0m\n\u001b[0;31m    display(HTML\"<style>.container {widtg:95% !import;}.</style>\")\u001b[0m\n\u001b[0m                                                                ^\u001b[0m\n\u001b[0;31mSyntaxError\u001b[0m\u001b[0;31m:\u001b[0m invalid syntax\n"
     ]
    }
   ],
   "source": [
    "from IPython.core.display import display, HTML\n",
    "display(HTML\"<style>.container {widtg:95% !import;}</style>\")"
   ]
  },
  {
   "cell_type": "code",
   "execution_count": 2,
   "metadata": {},
   "outputs": [
    {
     "name": "stderr",
     "output_type": "stream",
     "text": [
      "/anaconda3/lib/python3.6/site-packages/statsmodels/compat/pandas.py:56: FutureWarning: The pandas.core.datetools module is deprecated and will be removed in a future version. Please use the pandas.tseries module instead.\n",
      "  from pandas.core import datetools\n",
      "/anaconda3/lib/python3.6/site-packages/sklearn/cross_validation.py:41: DeprecationWarning: This module was deprecated in version 0.18 in favor of the model_selection module into which all the refactored classes and functions are moved. Also note that the interface of the new CV iterators are different from that of this module. This module will be removed in 0.20.\n",
      "  \"This module will be removed in 0.20.\", DeprecationWarning)\n"
     ]
    }
   ],
   "source": [
    "import re\n",
    "import pickle\n",
    "import pandas as pd\n",
    "import numpy as np\n",
    "import statsmodels.api as sm\n",
    "import statsmodels.formula.api as smf\n",
    "import patsy\n",
    "from diagnostic_plots import diagnostic_plots\n",
    "\n",
    "import seaborn as sns\n",
    "import matplotlib.pyplot as plt\n",
    "from sklearn.cross_validation import train_test_split\n",
    "from sklearn.cross_validation import cross_val_score\n",
    "from sklearn.linear_model import LinearRegression\n",
    "from sklearn.linear_model import RidgeCV\n",
    "from sklearn.linear_model import LassoCV\n",
    "from sklearn import metrics\n",
    "from sklearn.preprocessing import PolynomialFeatures\n",
    "from sklearn.pipeline import make_pipeline\n",
    "from sklearn.cross_validation import KFold\n",
    "from sklearn import feature_selection as f_select\n",
    "from sklearn.metrics import mean_squared_error\n",
    "%matplotlib inline"
   ]
  },
  {
   "cell_type": "markdown",
   "metadata": {},
   "source": [
    "### Define some useful functions"
   ]
  },
  {
   "cell_type": "code",
   "execution_count": 3,
   "metadata": {},
   "outputs": [],
   "source": [
    "#To clean the engine_size column (convert into floats)\n",
    "def clean_engine(series):\n",
    "    \"\"\"Takes a series of strings and converts them into floats where possible.\n",
    "    Returns a list of floats.\"\"\"\n",
    "    values = car_ad_dataset['Engine_Size']\n",
    "    new_values = []\n",
    "    for value in values:\n",
    "        try:\n",
    "            val = float(value)\n",
    "        except:\n",
    "            val = np.NaN\n",
    "        new_values.append(val)\n",
    "    return new_values\n",
    "\n",
    "#Clean up the price column\n",
    "def clean_price(series):\n",
    "    \"\"\"Takes a series of strings, cleans them from text and converts them into floats where possible.\n",
    "    Returns a list of floats.\"\"\"\n",
    "    values = series.str.split('€').str[0]\n",
    "    new_values = []\n",
    "    for value in values:\n",
    "        try:\n",
    "            val = float(re.sub(r'\\s+', '', value))\n",
    "        except:\n",
    "            val = np.NaN\n",
    "        new_values.append(val)\n",
    "    return new_values\n",
    "\n",
    "#Clean up the mileage column\n",
    "def clean_kms(series):\n",
    "    \"\"\"Takes a series of strings, cleans them from text and converts them into integers where possible.\n",
    "    Returns a list of integers.\"\"\"\n",
    "    values = series.str.split('km').str[0]\n",
    "    new_values = []\n",
    "    for value in values:\n",
    "        try:\n",
    "            val = int(re.sub(r'\\s+', '', value))\n",
    "        except:\n",
    "            val = np.NaN\n",
    "        new_values.append(val)\n",
    "    return new_values\n",
    "\n",
    "#Clean up the Number of Doors column\n",
    "def clean_door_count(series):\n",
    "    \"\"\"Takes a series of strings, cleans them from text and converts them into integers where possible.\n",
    "    Returns a list of integers.\"\"\"\n",
    "    values = series.str.split('/').str[0]\n",
    "    new_values = []\n",
    "    for value in values:\n",
    "        try:\n",
    "            val = int(value)\n",
    "        except:\n",
    "            val = np.NaN\n",
    "        new_values.append(val)\n",
    "    return new_values\n",
    "\n",
    "#Convert 'Fuel type' to numeric value (Petrol = 0, Diesel = 1) !If the car is electric, it assigns NaN\n",
    "def fuel_bool(series):\n",
    "    \"\"\"Takes a series with strings and converts them to a boolean representation of 0 for Petrol and 1 for Diesel.\n",
    "    Returns a list of integers (0, 1).\"\"\"\n",
    "    values = series\n",
    "    new_values = []\n",
    "    for value in values:\n",
    "        if value == 'Petrol' or value == 'Petrol / LPG':\n",
    "            val = int(0)\n",
    "            new_values.append(val)\n",
    "        elif value == 'Diesel' or value == 'Diesel / gas':\n",
    "            val = int(1)\n",
    "            new_values.append(val)\n",
    "        else:\n",
    "            val = np.NaN\n",
    "            new_values.append(val)\n",
    "    return new_values\n",
    "\n",
    "def gearbox_bool(series):\n",
    "    \"\"\"Takes a series with strings and converts them to a boolean representation of 0 for Manual and 1 for Automatic.\n",
    "    Returns a list of integers (0, 1).\"\"\"\n",
    "    values = series\n",
    "    new_values = []\n",
    "    for value in values:\n",
    "        if value == 'Manual':\n",
    "            val = int(0)\n",
    "            new_values.append(val)\n",
    "        elif value == 'Automatic':\n",
    "            val = int(1)\n",
    "            new_values.append(val)\n",
    "        else:\n",
    "            val = np.NaN\n",
    "            new_values.append(val)\n",
    "    return new_values\n",
    "\n",
    "def get_white_cars(series):\n",
    "    \"\"\"Takes a series with strings and converts them to a boolean representation of 0 for non-White and 1 for White.\n",
    "    Returns a list of integers (0, 1).\"\"\"\n",
    "    values = series\n",
    "    new_values = []\n",
    "    for value in values:\n",
    "        if value == 'White':\n",
    "            val = int(1)\n",
    "            new_values.append(val)\n",
    "        else:\n",
    "            val = int(0)\n",
    "            new_values.append(val)\n",
    "    return new_values\n",
    "\n",
    "def get_red_cars(series):\n",
    "    \"\"\"Takes a series with strings and converts them to a boolean representation of 0 for non-Red and 1 for Red.\n",
    "    Returns a list of integers (0, 1).\"\"\"\n",
    "    values = series\n",
    "    new_values = []\n",
    "    for value in values:\n",
    "        if value == 'Red / crimson':\n",
    "            val = int(1)\n",
    "            new_values.append(val)\n",
    "        else:\n",
    "            val = int(0)\n",
    "            new_values.append(val)\n",
    "    return new_values\n",
    "\n",
    "def group_body_types(series):\n",
    "    \"\"\"Takes a series of body types and groups them to categories.\n",
    "    Returns a list of tuples.\"\"\"\n",
    "    body_type_dict = {'Other': ('Other', 'Limousine'), 'Limousine':('Other', 'Limousine'), 'Coupe':('Coupe'), 'Hatchback':('Hatchback'), 'Saloon / sedan':('Saloon / sedan', 'Convertible'), 'Convertible':('Saloon / sedan', 'Convertible'), 'Wagon':('Wagon'), 'SUV / off-road':('SUV / off-road', 'MPV / minivan', 'Commercial', 'Pick-up'), 'MPV / minivan':('SUV / off-road', 'MPV / minivan', 'Commercial', 'Pick-up'), 'Commercial':('SUV / off-road', 'MPV / minivan', 'Commercial', 'Pick-up'), 'Pick-up':('SUV / off-road', 'MPV / minivan', 'Commercial', 'Pick-up')}\n",
    "    values = series\n",
    "    new_values = []\n",
    "    for value in values:\n",
    "        val = body_type_dict[value]\n",
    "        new_values.append(val)\n",
    "    return new_values\n",
    "    \n",
    "def numeric_body_type(series):\n",
    "    \"\"\"Takes a series of body types and converts them into numbers from smallest to largest.\n",
    "    Returns a list of integers\"\"\"\n",
    "    body_types = {('Other', 'Limousine'):np.NaN, ('Coupe'):2, ('Hatchback'):3, ('Saloon / sedan', 'Convertible'):4, ('Wagon'):5, ('SUV / off-road', 'MPV / minivan', 'Commercial', 'Pick-up'):6}\n",
    "    values = series\n",
    "    new_values = []\n",
    "    for value in values:\n",
    "        try:\n",
    "            val = body_types[value]\n",
    "            new_values.append(val)\n",
    "        except:\n",
    "            val = np.NaN\n",
    "            new_values.append(val)\n",
    "    return new_values\n",
    "\n",
    "def get_german_make(series):\n",
    "    \"\"\"Takes a series of car makers and marks as 1 the cars that are German. \n",
    "     Returns a list of 1s and 0s.\"\"\"\n",
    "    germany = ['BMW', 'Audi', 'Open', 'Mercedes-Benz', 'Porsche', 'Volkswagen', 'Ford']\n",
    "    values = series\n",
    "    new_values = []\n",
    "    for value in values:\n",
    "        if value in germany:\n",
    "            new_values.append(1)\n",
    "        else:\n",
    "            new_values.append(0)\n",
    "    return new_values\n",
    "            \n",
    "def get_japanese_make(series):\n",
    "    \"\"\"Takes a series of car makers and marks as 1 the cars that are Japanese. \n",
    "     Returns a list of 1s and 0s.\"\"\"\n",
    "    japan = ['Toyota', 'Mazda', 'Honda', 'Nissan', 'Mitsubishi', 'Suzuki', 'Lexus']\n",
    "    values = series\n",
    "    new_values = []\n",
    "    for value in values:\n",
    "        if value in japan:\n",
    "            new_values.append(1)\n",
    "        else:\n",
    "            new_values.append(0)\n",
    "    return new_values\n",
    "\n",
    "def get_french_make(series):\n",
    "    \"\"\"Takes a series of car makers and marks as 1 the cars that are French. \n",
    "     Returns a list of 1s and 0s.\"\"\"\n",
    "    france = ['Renault', 'Citroen', 'Peugeot']\n",
    "    values = series\n",
    "    new_values = []\n",
    "    for value in values:\n",
    "        if value in france:\n",
    "            new_values.append(1)\n",
    "        else:\n",
    "            new_values.append(0)\n",
    "    return new_values\n",
    "\n",
    "\n",
    "def get_bmw(series):\n",
    "    \"\"\"Takes a series of car makers and marks BMWs as 1, others 0. \n",
    "     Returns a list of 1s and 0s.\"\"\"\n",
    "    values = series\n",
    "    new_values = []\n",
    "    for value in values:\n",
    "        if value == 'BMW':\n",
    "            new_values.append(1)\n",
    "        else:\n",
    "            new_values.append(0)\n",
    "    return new_values\n",
    "\n",
    "def get_mb(series):\n",
    "    \"\"\"Takes a series of car makers and marks Mercedes-Benz as 1, others 0. \n",
    "     Returns a list of 1s and 0s.\"\"\"\n",
    "    values = series\n",
    "    new_values = []\n",
    "    for value in values:\n",
    "        if value == 'Mercedes-Benz':\n",
    "            new_values.append(1)\n",
    "        else:\n",
    "            new_values.append(0)\n",
    "    return new_values"
   ]
  },
  {
   "cell_type": "markdown",
   "metadata": {},
   "source": [
    "### Unpickle the file"
   ]
  },
  {
   "cell_type": "code",
   "execution_count": 4,
   "metadata": {},
   "outputs": [
    {
     "data": {
      "text/html": [
       "<div>\n",
       "<style scoped>\n",
       "    .dataframe tbody tr th:only-of-type {\n",
       "        vertical-align: middle;\n",
       "    }\n",
       "\n",
       "    .dataframe tbody tr th {\n",
       "        vertical-align: top;\n",
       "    }\n",
       "\n",
       "    .dataframe thead th {\n",
       "        text-align: right;\n",
       "    }\n",
       "</style>\n",
       "<table border=\"1\" class=\"dataframe\">\n",
       "  <thead>\n",
       "    <tr style=\"text-align: right;\">\n",
       "      <th></th>\n",
       "      <th>Audio/video equipment</th>\n",
       "      <th>Body type</th>\n",
       "      <th>Climate control</th>\n",
       "      <th>Color</th>\n",
       "      <th>Combined</th>\n",
       "      <th>Damage</th>\n",
       "      <th>Date of manufacture</th>\n",
       "      <th>Driven wheels</th>\n",
       "      <th>Electronics</th>\n",
       "      <th>Engine</th>\n",
       "      <th>...</th>\n",
       "      <th>Price in Lithuania</th>\n",
       "      <th>Safety</th>\n",
       "      <th>Security</th>\n",
       "      <th>Special price</th>\n",
       "      <th>Steering wheel</th>\n",
       "      <th>Tuning (improvements)</th>\n",
       "      <th>Urban</th>\n",
       "      <th>VIN check</th>\n",
       "      <th>VIN number</th>\n",
       "      <th>Wheel size</th>\n",
       "    </tr>\n",
       "  </thead>\n",
       "  <tbody>\n",
       "    <tr>\n",
       "      <th>0</th>\n",
       "      <td>CD player,MP3 player,Sound amplifier,Subwoofer</td>\n",
       "      <td>Other</td>\n",
       "      <td>NaN</td>\n",
       "      <td>White</td>\n",
       "      <td>NaN</td>\n",
       "      <td>No damages</td>\n",
       "      <td>1996-07</td>\n",
       "      <td>Front wheel drive (FWD)</td>\n",
       "      <td>NaN</td>\n",
       "      <td>2400 cm³, 74 HP (55kW)</td>\n",
       "      <td>...</td>\n",
       "      <td>2 050 €\\n    \\n        Sužinokite įmoką\\n     ...</td>\n",
       "      <td>ABS,Airbags</td>\n",
       "      <td>Central locking,Alarm</td>\n",
       "      <td>NaN</td>\n",
       "      <td>Left hand drive (LHD)</td>\n",
       "      <td>Tuned interior</td>\n",
       "      <td>NaN</td>\n",
       "      <td>\\n        \\n            Check vehicle history\\...</td>\n",
       "      <td>NaN</td>\n",
       "      <td>R15</td>\n",
       "    </tr>\n",
       "    <tr>\n",
       "      <th>1</th>\n",
       "      <td>CD player,AUX input,Navigation/GPS,Handsfree kit</td>\n",
       "      <td>Wagon</td>\n",
       "      <td>Climate control</td>\n",
       "      <td>Black</td>\n",
       "      <td>NaN</td>\n",
       "      <td>No damages</td>\n",
       "      <td>2018-02</td>\n",
       "      <td>All wheel (4х4)</td>\n",
       "      <td>Electric mirrors,Electric boot lid,Galinio vai...</td>\n",
       "      <td>1995 cm³, 190 HP (139kW)</td>\n",
       "      <td>...</td>\n",
       "      <td>44 900 €</td>\n",
       "      <td>ABS,Traction control system,ESP iElectronic st...</td>\n",
       "      <td>Central locking,Immobilizer,Alarm</td>\n",
       "      <td>NaN</td>\n",
       "      <td>Left hand drive (LHD)</td>\n",
       "      <td>NaN</td>\n",
       "      <td>NaN</td>\n",
       "      <td>\\n        \\n            Check vehicle history\\...</td>\n",
       "      <td>NaN</td>\n",
       "      <td>NaN</td>\n",
       "    </tr>\n",
       "    <tr>\n",
       "      <th>2</th>\n",
       "      <td>NaN</td>\n",
       "      <td>Coupe</td>\n",
       "      <td>None</td>\n",
       "      <td>Blue</td>\n",
       "      <td>NaN</td>\n",
       "      <td>No damages</td>\n",
       "      <td>1992</td>\n",
       "      <td>Rear wheel drive (RWD)</td>\n",
       "      <td>Electric windows</td>\n",
       "      <td>1998 cm³, 156 HP (115kW)</td>\n",
       "      <td>...</td>\n",
       "      <td>4 400 €\\n    \\n        Sužinokite įmoką\\n     ...</td>\n",
       "      <td>NaN</td>\n",
       "      <td>NaN</td>\n",
       "      <td>NaN</td>\n",
       "      <td>Left hand drive (LHD)</td>\n",
       "      <td>NaN</td>\n",
       "      <td>NaN</td>\n",
       "      <td>\\n        \\n            Check vehicle history\\...</td>\n",
       "      <td>NaN</td>\n",
       "      <td>R17</td>\n",
       "    </tr>\n",
       "    <tr>\n",
       "      <th>3</th>\n",
       "      <td>CD player</td>\n",
       "      <td>MPV / minivan</td>\n",
       "      <td>Air conditioning</td>\n",
       "      <td>NaN</td>\n",
       "      <td>NaN</td>\n",
       "      <td>No damages</td>\n",
       "      <td>2008-04</td>\n",
       "      <td>Front wheel drive (FWD)</td>\n",
       "      <td>Electric mirrors,Electric windows,Automatic he...</td>\n",
       "      <td>2200 cm³, 135 HP (100kW)</td>\n",
       "      <td>...</td>\n",
       "      <td>4 400 €\\n    \\n        Sužinokite įmoką\\n     ...</td>\n",
       "      <td>Airbags</td>\n",
       "      <td>Central locking,Immobilizer</td>\n",
       "      <td>NaN</td>\n",
       "      <td>Left hand drive (LHD)</td>\n",
       "      <td>NaN</td>\n",
       "      <td>NaN</td>\n",
       "      <td>\\n        \\n            Check vehicle history\\...</td>\n",
       "      <td>NaN</td>\n",
       "      <td>R15</td>\n",
       "    </tr>\n",
       "    <tr>\n",
       "      <th>4</th>\n",
       "      <td>CD player,MP3 player,CD changer,Subwoofer,USB ...</td>\n",
       "      <td>Saloon / sedan</td>\n",
       "      <td>Climate control</td>\n",
       "      <td>Gray / silver</td>\n",
       "      <td>9.50</td>\n",
       "      <td>No damages</td>\n",
       "      <td>2009-11</td>\n",
       "      <td>Front wheel drive (FWD)</td>\n",
       "      <td>Electric mirrors,Electric windows,Automatic he...</td>\n",
       "      <td>2354 cm³, 201 HP (148kW)</td>\n",
       "      <td>...</td>\n",
       "      <td>7 990 €\\n    \\n        Sužinokite įmoką\\n     ...</td>\n",
       "      <td>ABS,ESP iElectronic stability program$(\"#rel_E...</td>\n",
       "      <td>Central locking,Immobilizer,Alarm</td>\n",
       "      <td>NaN</td>\n",
       "      <td>Left hand drive (LHD)</td>\n",
       "      <td>NaN</td>\n",
       "      <td>10.50</td>\n",
       "      <td>\\n        \\n            Check vehicle history\\...</td>\n",
       "      <td>JHMCU26809C230972</td>\n",
       "      <td>NaN</td>\n",
       "    </tr>\n",
       "  </tbody>\n",
       "</table>\n",
       "<p>5 rows × 37 columns</p>\n",
       "</div>"
      ],
      "text/plain": [
       "                               Audio/video equipment       Body type  \\\n",
       "0     CD player,MP3 player,Sound amplifier,Subwoofer           Other   \n",
       "1   CD player,AUX input,Navigation/GPS,Handsfree kit           Wagon   \n",
       "2                                                NaN           Coupe   \n",
       "3                                          CD player   MPV / minivan   \n",
       "4  CD player,MP3 player,CD changer,Subwoofer,USB ...  Saloon / sedan   \n",
       "\n",
       "    Climate control          Color Combined      Damage Date of manufacture  \\\n",
       "0               NaN          White      NaN  No damages             1996-07   \n",
       "1   Climate control          Black      NaN  No damages             2018-02   \n",
       "2              None           Blue      NaN  No damages                1992   \n",
       "3  Air conditioning            NaN      NaN  No damages             2008-04   \n",
       "4   Climate control  Gray / silver     9.50  No damages             2009-11   \n",
       "\n",
       "             Driven wheels                                        Electronics  \\\n",
       "0  Front wheel drive (FWD)                                                NaN   \n",
       "1          All wheel (4х4)  Electric mirrors,Electric boot lid,Galinio vai...   \n",
       "2   Rear wheel drive (RWD)                                   Electric windows   \n",
       "3  Front wheel drive (FWD)  Electric mirrors,Electric windows,Automatic he...   \n",
       "4  Front wheel drive (FWD)  Electric mirrors,Electric windows,Automatic he...   \n",
       "\n",
       "                     Engine    ...      \\\n",
       "0    2400 cm³, 74 HP (55kW)    ...       \n",
       "1  1995 cm³, 190 HP (139kW)    ...       \n",
       "2  1998 cm³, 156 HP (115kW)    ...       \n",
       "3  2200 cm³, 135 HP (100kW)    ...       \n",
       "4  2354 cm³, 201 HP (148kW)    ...       \n",
       "\n",
       "                                  Price in Lithuania  \\\n",
       "0  2 050 €\\n    \\n        Sužinokite įmoką\\n     ...   \n",
       "1                                           44 900 €   \n",
       "2  4 400 €\\n    \\n        Sužinokite įmoką\\n     ...   \n",
       "3  4 400 €\\n    \\n        Sužinokite įmoką\\n     ...   \n",
       "4  7 990 €\\n    \\n        Sužinokite įmoką\\n     ...   \n",
       "\n",
       "                                              Safety  \\\n",
       "0                                        ABS,Airbags   \n",
       "1  ABS,Traction control system,ESP iElectronic st...   \n",
       "2                                                NaN   \n",
       "3                                            Airbags   \n",
       "4  ABS,ESP iElectronic stability program$(\"#rel_E...   \n",
       "\n",
       "                            Security Special price         Steering wheel  \\\n",
       "0              Central locking,Alarm           NaN  Left hand drive (LHD)   \n",
       "1  Central locking,Immobilizer,Alarm           NaN  Left hand drive (LHD)   \n",
       "2                                NaN           NaN  Left hand drive (LHD)   \n",
       "3        Central locking,Immobilizer           NaN  Left hand drive (LHD)   \n",
       "4  Central locking,Immobilizer,Alarm           NaN  Left hand drive (LHD)   \n",
       "\n",
       "  Tuning (improvements)  Urban  \\\n",
       "0        Tuned interior    NaN   \n",
       "1                   NaN    NaN   \n",
       "2                   NaN    NaN   \n",
       "3                   NaN    NaN   \n",
       "4                   NaN  10.50   \n",
       "\n",
       "                                           VIN check         VIN number  \\\n",
       "0  \\n        \\n            Check vehicle history\\...                NaN   \n",
       "1  \\n        \\n            Check vehicle history\\...                NaN   \n",
       "2  \\n        \\n            Check vehicle history\\...                NaN   \n",
       "3  \\n        \\n            Check vehicle history\\...                NaN   \n",
       "4  \\n        \\n            Check vehicle history\\...  JHMCU26809C230972   \n",
       "\n",
       "  Wheel size  \n",
       "0        R15  \n",
       "1        NaN  \n",
       "2        R17  \n",
       "3        R15  \n",
       "4        NaN  \n",
       "\n",
       "[5 rows x 37 columns]"
      ]
     },
     "execution_count": 4,
     "metadata": {},
     "output_type": "execute_result"
    }
   ],
   "source": [
    "with open('car_ad_dataset_bigger.pkl', 'rb') as picklefile:\n",
    "    car_ad_dataset = pickle.load(picklefile)\n",
    "    \n",
    "#Verify that the result is as desired\n",
    "car_ad_dataset.head()"
   ]
  },
  {
   "cell_type": "code",
   "execution_count": 5,
   "metadata": {},
   "outputs": [
    {
     "name": "stdout",
     "output_type": "stream",
     "text": [
      "The shape is: (3879, 37) \n",
      "\n",
      "<class 'pandas.core.frame.DataFrame'>\n",
      "RangeIndex: 3879 entries, 0 to 3878\n",
      "Data columns (total 37 columns):\n",
      "Audio/video equipment         941 non-null object\n",
      "Body type                     1388 non-null object\n",
      "Climate control               874 non-null object\n",
      "Color                         1134 non-null object\n",
      "Combined                      543 non-null object\n",
      "Damage                        1388 non-null object\n",
      "Date of manufacture           1388 non-null object\n",
      "Driven wheels                 1037 non-null object\n",
      "Electronics                   1121 non-null object\n",
      "Engine                        1366 non-null object\n",
      "Engine_Size                   1388 non-null object\n",
      "Euro standard                 440 non-null object\n",
      "Export price                  382 non-null object\n",
      "Exterior                      1114 non-null object\n",
      "Extra-urban                   548 non-null object\n",
      "First registration country    682 non-null object\n",
      "Fuel type                     1388 non-null object\n",
      "Gearbox                       1388 non-null object\n",
      "Interior                      1141 non-null object\n",
      "Kerb weight, kg               523 non-null object\n",
      "MOT test expiry               692 non-null object\n",
      "Make_Model                    1388 non-null object\n",
      "Mileage                       1067 non-null object\n",
      "Number of doors               1388 non-null object\n",
      "Number of seats               975 non-null object\n",
      "Other features                895 non-null object\n",
      "Price                         1 non-null object\n",
      "Price in Lithuania            1387 non-null object\n",
      "Safety                        1053 non-null object\n",
      "Security                      896 non-null object\n",
      "Special price                 1 non-null object\n",
      "Steering wheel                1388 non-null object\n",
      "Tuning (improvements)         53 non-null object\n",
      "Urban                         532 non-null object\n",
      "VIN check                     1378 non-null object\n",
      "VIN number                    205 non-null object\n",
      "Wheel size                    729 non-null object\n",
      "dtypes: object(37)\n",
      "memory usage: 1.1+ MB\n"
     ]
    }
   ],
   "source": [
    "#Check out the shape and get info\n",
    "print('The shape is:', str(car_ad_dataset.shape), '\\n');\n",
    "car_ad_dataset.info()"
   ]
  },
  {
   "cell_type": "code",
   "execution_count": 6,
   "metadata": {},
   "outputs": [
    {
     "data": {
      "text/plain": [
       "Gearbox                       1388\n",
       "Number of doors               1388\n",
       "Body type                     1388\n",
       "Engine_Size                   1388\n",
       "Steering wheel                1388\n",
       "Damage                        1388\n",
       "Date of manufacture           1388\n",
       "Fuel type                     1388\n",
       "Make_Model                    1388\n",
       "Price in Lithuania            1387\n",
       "VIN check                     1378\n",
       "Engine                        1366\n",
       "Interior                      1141\n",
       "Color                         1134\n",
       "Electronics                   1121\n",
       "Exterior                      1114\n",
       "Mileage                       1067\n",
       "Safety                        1053\n",
       "Driven wheels                 1037\n",
       "Number of seats                975\n",
       "Audio/video equipment          941\n",
       "Security                       896\n",
       "Other features                 895\n",
       "Climate control                874\n",
       "Wheel size                     729\n",
       "MOT test expiry                692\n",
       "First registration country     682\n",
       "Extra-urban                    548\n",
       "Combined                       543\n",
       "Urban                          532\n",
       "Kerb weight, kg                523\n",
       "Euro standard                  440\n",
       "Export price                   382\n",
       "VIN number                     205\n",
       "Tuning (improvements)           53\n",
       "Price                            1\n",
       "Special price                    1\n",
       "dtype: int64"
      ]
     },
     "execution_count": 6,
     "metadata": {},
     "output_type": "execute_result"
    }
   ],
   "source": [
    "#Explore the dataset\n",
    "car_ad_dataset.count().sort_values(ascending = False)"
   ]
  },
  {
   "cell_type": "markdown",
   "metadata": {},
   "source": [
    "### Clean the dataset"
   ]
  },
  {
   "cell_type": "markdown",
   "metadata": {},
   "source": [
    "**Initial cleaning and formatting**"
   ]
  },
  {
   "cell_type": "code",
   "execution_count": 7,
   "metadata": {},
   "outputs": [],
   "source": [
    "#Check out the records without mileage \n",
    "#car_ad_dataset.iloc[28]\n",
    "#Conclusion: they are indeed legit"
   ]
  },
  {
   "cell_type": "code",
   "execution_count": 8,
   "metadata": {},
   "outputs": [],
   "source": [
    "#Clean up the price column and convert to a float\n",
    "car_ad_dataset['Price'] = clean_price(car_ad_dataset['Price in Lithuania'])"
   ]
  },
  {
   "cell_type": "code",
   "execution_count": 9,
   "metadata": {},
   "outputs": [],
   "source": [
    "#Split the Make_Model column\n",
    "car_ad_dataset['Make'], car_ad_dataset['Model'] = car_ad_dataset['Make_Model'].str.split(' ', 1).str"
   ]
  },
  {
   "cell_type": "code",
   "execution_count": 10,
   "metadata": {},
   "outputs": [],
   "source": [
    "#Group Makes into countries\n",
    "car_ad_dataset['Is_German'] = get_german_make(car_ad_dataset['Make'])\n",
    "\n",
    "car_ad_dataset['Is_French'] = get_french_make(car_ad_dataset['Make'])\n",
    "\n",
    "car_ad_dataset['Is_Japanese'] = get_japanese_make(car_ad_dataset['Make'])\n",
    "\n",
    "car_ad_dataset['Is_BMW'] = get_bmw(car_ad_dataset['Make'])\n",
    "\n",
    "car_ad_dataset['Is_Mercedes_Benz'] = get_mb(car_ad_dataset['Make'])"
   ]
  },
  {
   "cell_type": "code",
   "execution_count": 11,
   "metadata": {},
   "outputs": [],
   "source": [
    "#Clean up the Engine_Size column from l.\n",
    "car_ad_dataset['Engine_Size'] = car_ad_dataset['Engine_Size'].str.split(' ', 2).str[1]\n",
    "car_ad_dataset['Engine_Size_l'] = clean_engine(car_ad_dataset['Engine_Size'])"
   ]
  },
  {
   "cell_type": "code",
   "execution_count": 12,
   "metadata": {},
   "outputs": [],
   "source": [
    "#Clean the Engine column\n",
    "#Some of the cars don't have the cm3, so instead this takes HP or kW, will have to drop those later on!!!\n",
    "#car_ad_dataset['Engine_cm3'] = pd.to_numeric(car_ad_dataset['Engine'].str.split(' ').str[0])"
   ]
  },
  {
   "cell_type": "code",
   "execution_count": 13,
   "metadata": {},
   "outputs": [],
   "source": [
    "#Only keep the Year of manufacture\n",
    "car_ad_dataset['Year_of_manufacture'] = pd.to_numeric(car_ad_dataset['Date of manufacture'].str[:4])"
   ]
  },
  {
   "cell_type": "code",
   "execution_count": 14,
   "metadata": {},
   "outputs": [],
   "source": [
    "#Clean up the milage column to remove 'km'\n",
    "car_ad_dataset['Mileage_km'] = clean_kms(car_ad_dataset['Mileage'])"
   ]
  },
  {
   "cell_type": "code",
   "execution_count": 15,
   "metadata": {},
   "outputs": [],
   "source": [
    "#Clean up the number of doors to remove /second number\n",
    "car_ad_dataset['Door_count'] = clean_door_count(car_ad_dataset['Number of doors'])"
   ]
  },
  {
   "cell_type": "code",
   "execution_count": 16,
   "metadata": {
    "scrolled": false
   },
   "outputs": [],
   "source": [
    "#Convert Fuel type column to boolean (0,1)\n",
    "car_ad_dataset['Fuel type'] = fuel_bool(car_ad_dataset['Fuel type'])"
   ]
  },
  {
   "cell_type": "code",
   "execution_count": 17,
   "metadata": {},
   "outputs": [],
   "source": [
    "car_ad_dataset['Gearbox'] = gearbox_bool(car_ad_dataset['Gearbox'])\n",
    "#car_ad_dataset['Gearbox']"
   ]
  },
  {
   "cell_type": "code",
   "execution_count": 18,
   "metadata": {},
   "outputs": [],
   "source": [
    "car_ad_dataset['Is_White'] = get_white_cars(car_ad_dataset['Color'])\n",
    "#car_ad_dataset['Is_White']"
   ]
  },
  {
   "cell_type": "code",
   "execution_count": 19,
   "metadata": {},
   "outputs": [],
   "source": [
    "car_ad_dataset['Is_Red'] = get_red_cars(car_ad_dataset['Color'])\n",
    "#car_ad_dataset['Is_Red']"
   ]
  },
  {
   "cell_type": "code",
   "execution_count": 20,
   "metadata": {},
   "outputs": [],
   "source": [
    "#Rename the Fuel type column\n",
    "car_ad_dataset = car_ad_dataset.rename(columns = {'Fuel type': 'Fuel_type'})"
   ]
  },
  {
   "cell_type": "code",
   "execution_count": 21,
   "metadata": {
    "scrolled": true
   },
   "outputs": [],
   "source": [
    "#Remove cars that are damaged\n",
    "car_ad_dataset = car_ad_dataset[car_ad_dataset['Damage'] == 'No damages']\n",
    "car_ad_dataset.drop(columns = ['Damage'], inplace = True)\n",
    "\n",
    "#Remove cars that are not Left hand drive\n",
    "car_ad_dataset = car_ad_dataset[car_ad_dataset['Steering wheel'] == 'Left hand drive (LHD)']\n",
    "car_ad_dataset.drop(columns = ['Steering wheel'], inplace = True)\n",
    "\n",
    "#car_ad_dataset.head()"
   ]
  },
  {
   "cell_type": "code",
   "execution_count": 22,
   "metadata": {},
   "outputs": [],
   "source": [
    "#Generalize body types\n",
    "car_ad_dataset['Body_type_group'] = group_body_types(car_ad_dataset['Body type'])\n",
    "car_ad_dataset['Body_type'] = numeric_body_type(car_ad_dataset['Body_type_group'])"
   ]
  },
  {
   "cell_type": "code",
   "execution_count": 23,
   "metadata": {
    "scrolled": true
   },
   "outputs": [],
   "source": [
    "#car_ad_dataset['Make'].value_counts()"
   ]
  },
  {
   "cell_type": "code",
   "execution_count": 24,
   "metadata": {
    "scrolled": true
   },
   "outputs": [],
   "source": [
    "#car_ad_dataset['Color'].value_counts()"
   ]
  },
  {
   "cell_type": "code",
   "execution_count": 25,
   "metadata": {},
   "outputs": [
    {
     "data": {
      "text/plain": [
       "Gearbox                       1264\n",
       "Is_French                     1264\n",
       "Date of manufacture           1264\n",
       "Body_type_group               1264\n",
       "Number of doors               1264\n",
       "Body type                     1264\n",
       "Make                          1264\n",
       "Model                         1264\n",
       "Is_German                     1264\n",
       "Is_Japanese                   1264\n",
       "Is_BMW                        1264\n",
       "Is_Mercedes_Benz              1264\n",
       "Make_Model                    1264\n",
       "Year_of_manufacture           1264\n",
       "Engine_Size                   1264\n",
       "Is_White                      1264\n",
       "Is_Red                        1264\n",
       "Price in Lithuania            1263\n",
       "Price                         1263\n",
       "Door_count                    1260\n",
       "Body_type                     1258\n",
       "VIN check                     1254\n",
       "Engine                        1246\n",
       "Fuel_type                     1239\n",
       "Engine_Size_l                 1227\n",
       "Interior                      1077\n",
       "Electronics                   1057\n",
       "Exterior                      1054\n",
       "Color                         1044\n",
       "Safety                         997\n",
       "Mileage                        977\n",
       "Mileage_km                     977\n",
       "Driven wheels                  958\n",
       "Number of seats                901\n",
       "Audio/video equipment          892\n",
       "Security                       849\n",
       "Other features                 829\n",
       "Climate control                820\n",
       "Wheel size                     684\n",
       "MOT test expiry                667\n",
       "First registration country     633\n",
       "Extra-urban                    512\n",
       "Combined                       510\n",
       "Urban                          496\n",
       "Kerb weight, kg                487\n",
       "Euro standard                  419\n",
       "Export price                   355\n",
       "VIN number                     177\n",
       "Tuning (improvements)           51\n",
       "Special price                    1\n",
       "dtype: int64"
      ]
     },
     "execution_count": 25,
     "metadata": {},
     "output_type": "execute_result"
    }
   ],
   "source": [
    "#Let's have a look\n",
    "car_ad_dataset.count().sort_values(ascending = False)"
   ]
  },
  {
   "cell_type": "markdown",
   "metadata": {},
   "source": [
    "**Shorten the dataset & re-evaluate**"
   ]
  },
  {
   "cell_type": "code",
   "execution_count": 26,
   "metadata": {},
   "outputs": [
    {
     "data": {
      "text/html": [
       "<div>\n",
       "<style scoped>\n",
       "    .dataframe tbody tr th:only-of-type {\n",
       "        vertical-align: middle;\n",
       "    }\n",
       "\n",
       "    .dataframe tbody tr th {\n",
       "        vertical-align: top;\n",
       "    }\n",
       "\n",
       "    .dataframe thead th {\n",
       "        text-align: right;\n",
       "    }\n",
       "</style>\n",
       "<table border=\"1\" class=\"dataframe\">\n",
       "  <thead>\n",
       "    <tr style=\"text-align: right;\">\n",
       "      <th></th>\n",
       "      <th>Price</th>\n",
       "      <th>Year_of_manufacture</th>\n",
       "      <th>Engine_Size_l</th>\n",
       "      <th>Gearbox</th>\n",
       "      <th>Mileage_km</th>\n",
       "      <th>Body_type</th>\n",
       "      <th>Door_count</th>\n",
       "      <th>Fuel_type</th>\n",
       "      <th>Is_White</th>\n",
       "      <th>Is_Red</th>\n",
       "      <th>Is_German</th>\n",
       "      <th>Is_BMW</th>\n",
       "      <th>Is_Mercedes_Benz</th>\n",
       "      <th>Is_Japanese</th>\n",
       "      <th>Is_French</th>\n",
       "    </tr>\n",
       "  </thead>\n",
       "  <tbody>\n",
       "    <tr>\n",
       "      <th>0</th>\n",
       "      <td>2050.0</td>\n",
       "      <td>1996.0</td>\n",
       "      <td>2.4</td>\n",
       "      <td>0.0</td>\n",
       "      <td>450000.0</td>\n",
       "      <td>NaN</td>\n",
       "      <td>4.0</td>\n",
       "      <td>1.0</td>\n",
       "      <td>1</td>\n",
       "      <td>0</td>\n",
       "      <td>1</td>\n",
       "      <td>0</td>\n",
       "      <td>0</td>\n",
       "      <td>0</td>\n",
       "      <td>0</td>\n",
       "    </tr>\n",
       "    <tr>\n",
       "      <th>1</th>\n",
       "      <td>44900.0</td>\n",
       "      <td>2018.0</td>\n",
       "      <td>2.0</td>\n",
       "      <td>1.0</td>\n",
       "      <td>8100.0</td>\n",
       "      <td>5.0</td>\n",
       "      <td>4.0</td>\n",
       "      <td>1.0</td>\n",
       "      <td>0</td>\n",
       "      <td>0</td>\n",
       "      <td>1</td>\n",
       "      <td>1</td>\n",
       "      <td>0</td>\n",
       "      <td>0</td>\n",
       "      <td>0</td>\n",
       "    </tr>\n",
       "    <tr>\n",
       "      <th>2</th>\n",
       "      <td>4400.0</td>\n",
       "      <td>1992.0</td>\n",
       "      <td>2.0</td>\n",
       "      <td>0.0</td>\n",
       "      <td>270000.0</td>\n",
       "      <td>2.0</td>\n",
       "      <td>2.0</td>\n",
       "      <td>0.0</td>\n",
       "      <td>0</td>\n",
       "      <td>0</td>\n",
       "      <td>0</td>\n",
       "      <td>0</td>\n",
       "      <td>0</td>\n",
       "      <td>1</td>\n",
       "      <td>0</td>\n",
       "    </tr>\n",
       "    <tr>\n",
       "      <th>3</th>\n",
       "      <td>4400.0</td>\n",
       "      <td>2008.0</td>\n",
       "      <td>2.2</td>\n",
       "      <td>0.0</td>\n",
       "      <td>222000.0</td>\n",
       "      <td>6.0</td>\n",
       "      <td>4.0</td>\n",
       "      <td>1.0</td>\n",
       "      <td>0</td>\n",
       "      <td>0</td>\n",
       "      <td>0</td>\n",
       "      <td>0</td>\n",
       "      <td>0</td>\n",
       "      <td>1</td>\n",
       "      <td>0</td>\n",
       "    </tr>\n",
       "    <tr>\n",
       "      <th>4</th>\n",
       "      <td>7990.0</td>\n",
       "      <td>2009.0</td>\n",
       "      <td>2.4</td>\n",
       "      <td>1.0</td>\n",
       "      <td>129977.0</td>\n",
       "      <td>4.0</td>\n",
       "      <td>4.0</td>\n",
       "      <td>0.0</td>\n",
       "      <td>0</td>\n",
       "      <td>0</td>\n",
       "      <td>0</td>\n",
       "      <td>0</td>\n",
       "      <td>0</td>\n",
       "      <td>1</td>\n",
       "      <td>0</td>\n",
       "    </tr>\n",
       "  </tbody>\n",
       "</table>\n",
       "</div>"
      ],
      "text/plain": [
       "     Price  Year_of_manufacture  Engine_Size_l  Gearbox  Mileage_km  \\\n",
       "0   2050.0               1996.0            2.4      0.0    450000.0   \n",
       "1  44900.0               2018.0            2.0      1.0      8100.0   \n",
       "2   4400.0               1992.0            2.0      0.0    270000.0   \n",
       "3   4400.0               2008.0            2.2      0.0    222000.0   \n",
       "4   7990.0               2009.0            2.4      1.0    129977.0   \n",
       "\n",
       "   Body_type  Door_count  Fuel_type  Is_White  Is_Red  Is_German  Is_BMW  \\\n",
       "0        NaN         4.0        1.0         1       0          1       0   \n",
       "1        5.0         4.0        1.0         0       0          1       1   \n",
       "2        2.0         2.0        0.0         0       0          0       0   \n",
       "3        6.0         4.0        1.0         0       0          0       0   \n",
       "4        4.0         4.0        0.0         0       0          0       0   \n",
       "\n",
       "   Is_Mercedes_Benz  Is_Japanese  Is_French  \n",
       "0                 0            0          0  \n",
       "1                 0            0          0  \n",
       "2                 0            1          0  \n",
       "3                 0            1          0  \n",
       "4                 0            1          0  "
      ]
     },
     "execution_count": 26,
     "metadata": {},
     "output_type": "execute_result"
    }
   ],
   "source": [
    "#Shorten the dataset by picking the most logical features\n",
    "short_car_ad_dataset = car_ad_dataset[['Price', 'Year_of_manufacture', 'Engine_Size_l', 'Gearbox', 'Mileage_km', 'Body_type', 'Door_count', 'Fuel_type', 'Is_White', 'Is_Red', 'Is_German', 'Is_BMW', 'Is_Mercedes_Benz', 'Is_Japanese', 'Is_French']]\n",
    "short_car_ad_dataset.head()"
   ]
  },
  {
   "cell_type": "code",
   "execution_count": 27,
   "metadata": {},
   "outputs": [
    {
     "name": "stdout",
     "output_type": "stream",
     "text": [
      "<class 'pandas.core.frame.DataFrame'>\n",
      "Int64Index: 1264 entries, 0 to 1966\n",
      "Data columns (total 15 columns):\n",
      "Price                  1263 non-null float64\n",
      "Year_of_manufacture    1264 non-null float64\n",
      "Engine_Size_l          1227 non-null float64\n",
      "Gearbox                1264 non-null float64\n",
      "Mileage_km             977 non-null float64\n",
      "Body_type              1258 non-null float64\n",
      "Door_count             1260 non-null float64\n",
      "Fuel_type              1239 non-null float64\n",
      "Is_White               1264 non-null int64\n",
      "Is_Red                 1264 non-null int64\n",
      "Is_German              1264 non-null int64\n",
      "Is_BMW                 1264 non-null int64\n",
      "Is_Mercedes_Benz       1264 non-null int64\n",
      "Is_Japanese            1264 non-null int64\n",
      "Is_French              1264 non-null int64\n",
      "dtypes: float64(8), int64(7)\n",
      "memory usage: 158.0 KB\n"
     ]
    }
   ],
   "source": [
    "#Get the info on the shorten dataset\n",
    "short_car_ad_dataset.info()"
   ]
  },
  {
   "cell_type": "markdown",
   "metadata": {},
   "source": [
    "**Clean the small dataset of NaN values**"
   ]
  },
  {
   "cell_type": "code",
   "execution_count": 28,
   "metadata": {},
   "outputs": [
    {
     "name": "stdout",
     "output_type": "stream",
     "text": [
      "<class 'pandas.core.frame.DataFrame'>\n",
      "Int64Index: 927 entries, 1 to 1966\n",
      "Data columns (total 15 columns):\n",
      "Price                  927 non-null float64\n",
      "Year_of_manufacture    927 non-null float64\n",
      "Engine_Size_l          927 non-null float64\n",
      "Gearbox                927 non-null float64\n",
      "Mileage_km             927 non-null float64\n",
      "Body_type              927 non-null float64\n",
      "Door_count             927 non-null float64\n",
      "Fuel_type              927 non-null float64\n",
      "Is_White               927 non-null int64\n",
      "Is_Red                 927 non-null int64\n",
      "Is_German              927 non-null int64\n",
      "Is_BMW                 927 non-null int64\n",
      "Is_Mercedes_Benz       927 non-null int64\n",
      "Is_Japanese            927 non-null int64\n",
      "Is_French              927 non-null int64\n",
      "dtypes: float64(8), int64(7)\n",
      "memory usage: 115.9 KB\n"
     ]
    }
   ],
   "source": [
    "#Drop all the cars that are missing at least one of the values\n",
    "clean_car_ad_dataset = short_car_ad_dataset.dropna(how = 'any')\n",
    "\n",
    "#And review again\n",
    "clean_car_ad_dataset.info()"
   ]
  },
  {
   "cell_type": "code",
   "execution_count": 29,
   "metadata": {
    "scrolled": true
   },
   "outputs": [
    {
     "data": {
      "text/html": [
       "<div>\n",
       "<style scoped>\n",
       "    .dataframe tbody tr th:only-of-type {\n",
       "        vertical-align: middle;\n",
       "    }\n",
       "\n",
       "    .dataframe tbody tr th {\n",
       "        vertical-align: top;\n",
       "    }\n",
       "\n",
       "    .dataframe thead th {\n",
       "        text-align: right;\n",
       "    }\n",
       "</style>\n",
       "<table border=\"1\" class=\"dataframe\">\n",
       "  <thead>\n",
       "    <tr style=\"text-align: right;\">\n",
       "      <th></th>\n",
       "      <th>Price</th>\n",
       "      <th>Year_of_manufacture</th>\n",
       "      <th>Engine_Size_l</th>\n",
       "      <th>Gearbox</th>\n",
       "      <th>Mileage_km</th>\n",
       "      <th>Body_type</th>\n",
       "      <th>Door_count</th>\n",
       "      <th>Fuel_type</th>\n",
       "      <th>Is_White</th>\n",
       "      <th>Is_Red</th>\n",
       "      <th>Is_German</th>\n",
       "      <th>Is_BMW</th>\n",
       "      <th>Is_Mercedes_Benz</th>\n",
       "      <th>Is_Japanese</th>\n",
       "      <th>Is_French</th>\n",
       "    </tr>\n",
       "  </thead>\n",
       "  <tbody>\n",
       "    <tr>\n",
       "      <th>1</th>\n",
       "      <td>44900.0</td>\n",
       "      <td>2018.0</td>\n",
       "      <td>2.0</td>\n",
       "      <td>1.0</td>\n",
       "      <td>8100.0</td>\n",
       "      <td>5.0</td>\n",
       "      <td>4.0</td>\n",
       "      <td>1.0</td>\n",
       "      <td>0</td>\n",
       "      <td>0</td>\n",
       "      <td>1</td>\n",
       "      <td>1</td>\n",
       "      <td>0</td>\n",
       "      <td>0</td>\n",
       "      <td>0</td>\n",
       "    </tr>\n",
       "    <tr>\n",
       "      <th>2</th>\n",
       "      <td>4400.0</td>\n",
       "      <td>1992.0</td>\n",
       "      <td>2.0</td>\n",
       "      <td>0.0</td>\n",
       "      <td>270000.0</td>\n",
       "      <td>2.0</td>\n",
       "      <td>2.0</td>\n",
       "      <td>0.0</td>\n",
       "      <td>0</td>\n",
       "      <td>0</td>\n",
       "      <td>0</td>\n",
       "      <td>0</td>\n",
       "      <td>0</td>\n",
       "      <td>1</td>\n",
       "      <td>0</td>\n",
       "    </tr>\n",
       "    <tr>\n",
       "      <th>3</th>\n",
       "      <td>4400.0</td>\n",
       "      <td>2008.0</td>\n",
       "      <td>2.2</td>\n",
       "      <td>0.0</td>\n",
       "      <td>222000.0</td>\n",
       "      <td>6.0</td>\n",
       "      <td>4.0</td>\n",
       "      <td>1.0</td>\n",
       "      <td>0</td>\n",
       "      <td>0</td>\n",
       "      <td>0</td>\n",
       "      <td>0</td>\n",
       "      <td>0</td>\n",
       "      <td>1</td>\n",
       "      <td>0</td>\n",
       "    </tr>\n",
       "    <tr>\n",
       "      <th>4</th>\n",
       "      <td>7990.0</td>\n",
       "      <td>2009.0</td>\n",
       "      <td>2.4</td>\n",
       "      <td>1.0</td>\n",
       "      <td>129977.0</td>\n",
       "      <td>4.0</td>\n",
       "      <td>4.0</td>\n",
       "      <td>0.0</td>\n",
       "      <td>0</td>\n",
       "      <td>0</td>\n",
       "      <td>0</td>\n",
       "      <td>0</td>\n",
       "      <td>0</td>\n",
       "      <td>1</td>\n",
       "      <td>0</td>\n",
       "    </tr>\n",
       "    <tr>\n",
       "      <th>6</th>\n",
       "      <td>4350.0</td>\n",
       "      <td>2002.0</td>\n",
       "      <td>2.7</td>\n",
       "      <td>1.0</td>\n",
       "      <td>228443.0</td>\n",
       "      <td>6.0</td>\n",
       "      <td>4.0</td>\n",
       "      <td>1.0</td>\n",
       "      <td>0</td>\n",
       "      <td>0</td>\n",
       "      <td>1</td>\n",
       "      <td>0</td>\n",
       "      <td>1</td>\n",
       "      <td>0</td>\n",
       "      <td>0</td>\n",
       "    </tr>\n",
       "  </tbody>\n",
       "</table>\n",
       "</div>"
      ],
      "text/plain": [
       "     Price  Year_of_manufacture  Engine_Size_l  Gearbox  Mileage_km  \\\n",
       "1  44900.0               2018.0            2.0      1.0      8100.0   \n",
       "2   4400.0               1992.0            2.0      0.0    270000.0   \n",
       "3   4400.0               2008.0            2.2      0.0    222000.0   \n",
       "4   7990.0               2009.0            2.4      1.0    129977.0   \n",
       "6   4350.0               2002.0            2.7      1.0    228443.0   \n",
       "\n",
       "   Body_type  Door_count  Fuel_type  Is_White  Is_Red  Is_German  Is_BMW  \\\n",
       "1        5.0         4.0        1.0         0       0          1       1   \n",
       "2        2.0         2.0        0.0         0       0          0       0   \n",
       "3        6.0         4.0        1.0         0       0          0       0   \n",
       "4        4.0         4.0        0.0         0       0          0       0   \n",
       "6        6.0         4.0        1.0         0       0          1       0   \n",
       "\n",
       "   Is_Mercedes_Benz  Is_Japanese  Is_French  \n",
       "1                 0            0          0  \n",
       "2                 0            1          0  \n",
       "3                 0            1          0  \n",
       "4                 0            1          0  \n",
       "6                 1            0          0  "
      ]
     },
     "execution_count": 29,
     "metadata": {},
     "output_type": "execute_result"
    }
   ],
   "source": [
    "#Let's have a look again\n",
    "clean_car_ad_dataset.head()"
   ]
  },
  {
   "cell_type": "markdown",
   "metadata": {},
   "source": [
    "**Explore target variable**"
   ]
  },
  {
   "cell_type": "code",
   "execution_count": 30,
   "metadata": {},
   "outputs": [
    {
     "data": {
      "image/png": "[encoded data removed]",
      "text/plain": [
       "<matplotlib.figure.Figure at 0x1c0e083470>"
      ]
     },
     "metadata": {},
     "output_type": "display_data"
    }
   ],
   "source": [
    "#Plot Price histogram (to check the distribution)\n",
    "fig = plt.figure(figsize = (20, 5))\n",
    "plt.subplot(1, 2, 1)\n",
    "plt.hist(clean_car_ad_dataset['Price'], bins=30, color = 'y')\n",
    "plt.title('Price Distribution')\n",
    "\n",
    "plt.subplot(1, 2, 2)\n",
    "plt.hist(np.log(clean_car_ad_dataset['Price']), bins=30, color = 'c')\n",
    "plt.title('Log of Price Distribution')\n",
    "plt.show()"
   ]
  },
  {
   "cell_type": "code",
   "execution_count": 31,
   "metadata": {},
   "outputs": [
    {
     "name": "stdout",
     "output_type": "stream",
     "text": [
      "3.0\n",
      "55000.0\n"
     ]
    }
   ],
   "source": [
    "#Let's find the minimum and maximum prices\n",
    "print(clean_car_ad_dataset['Price'].min())\n",
    "print(clean_car_ad_dataset['Price'].max())"
   ]
  },
  {
   "cell_type": "code",
   "execution_count": 32,
   "metadata": {},
   "outputs": [
    {
     "data": {
      "text/html": [
       "<div>\n",
       "<style scoped>\n",
       "    .dataframe tbody tr th:only-of-type {\n",
       "        vertical-align: middle;\n",
       "    }\n",
       "\n",
       "    .dataframe tbody tr th {\n",
       "        vertical-align: top;\n",
       "    }\n",
       "\n",
       "    .dataframe thead th {\n",
       "        text-align: right;\n",
       "    }\n",
       "</style>\n",
       "<table border=\"1\" class=\"dataframe\">\n",
       "  <thead>\n",
       "    <tr style=\"text-align: right;\">\n",
       "      <th></th>\n",
       "      <th>Price</th>\n",
       "      <th>Year_of_manufacture</th>\n",
       "      <th>Engine_Size_l</th>\n",
       "      <th>Gearbox</th>\n",
       "      <th>Mileage_km</th>\n",
       "      <th>Body_type</th>\n",
       "      <th>Door_count</th>\n",
       "      <th>Fuel_type</th>\n",
       "      <th>Is_White</th>\n",
       "      <th>Is_Red</th>\n",
       "      <th>Is_German</th>\n",
       "      <th>Is_BMW</th>\n",
       "      <th>Is_Mercedes_Benz</th>\n",
       "      <th>Is_Japanese</th>\n",
       "      <th>Is_French</th>\n",
       "    </tr>\n",
       "  </thead>\n",
       "  <tbody>\n",
       "    <tr>\n",
       "      <th>1</th>\n",
       "      <td>44900.0</td>\n",
       "      <td>2018.0</td>\n",
       "      <td>2.0</td>\n",
       "      <td>1.0</td>\n",
       "      <td>8100.0</td>\n",
       "      <td>5.0</td>\n",
       "      <td>4.0</td>\n",
       "      <td>1.0</td>\n",
       "      <td>0</td>\n",
       "      <td>0</td>\n",
       "      <td>1</td>\n",
       "      <td>1</td>\n",
       "      <td>0</td>\n",
       "      <td>0</td>\n",
       "      <td>0</td>\n",
       "    </tr>\n",
       "    <tr>\n",
       "      <th>1754</th>\n",
       "      <td>44990.0</td>\n",
       "      <td>2017.0</td>\n",
       "      <td>2.0</td>\n",
       "      <td>1.0</td>\n",
       "      <td>23000.0</td>\n",
       "      <td>4.0</td>\n",
       "      <td>4.0</td>\n",
       "      <td>0.0</td>\n",
       "      <td>1</td>\n",
       "      <td>0</td>\n",
       "      <td>1</td>\n",
       "      <td>0</td>\n",
       "      <td>1</td>\n",
       "      <td>0</td>\n",
       "      <td>0</td>\n",
       "    </tr>\n",
       "    <tr>\n",
       "      <th>1755</th>\n",
       "      <td>50000.0</td>\n",
       "      <td>2015.0</td>\n",
       "      <td>3.0</td>\n",
       "      <td>1.0</td>\n",
       "      <td>80000.0</td>\n",
       "      <td>6.0</td>\n",
       "      <td>4.0</td>\n",
       "      <td>1.0</td>\n",
       "      <td>0</td>\n",
       "      <td>0</td>\n",
       "      <td>1</td>\n",
       "      <td>1</td>\n",
       "      <td>0</td>\n",
       "      <td>0</td>\n",
       "      <td>0</td>\n",
       "    </tr>\n",
       "    <tr>\n",
       "      <th>1756</th>\n",
       "      <td>55000.0</td>\n",
       "      <td>2014.0</td>\n",
       "      <td>3.5</td>\n",
       "      <td>1.0</td>\n",
       "      <td>87997.0</td>\n",
       "      <td>6.0</td>\n",
       "      <td>4.0</td>\n",
       "      <td>1.0</td>\n",
       "      <td>1</td>\n",
       "      <td>0</td>\n",
       "      <td>1</td>\n",
       "      <td>0</td>\n",
       "      <td>1</td>\n",
       "      <td>0</td>\n",
       "      <td>0</td>\n",
       "    </tr>\n",
       "  </tbody>\n",
       "</table>\n",
       "</div>"
      ],
      "text/plain": [
       "        Price  Year_of_manufacture  Engine_Size_l  Gearbox  Mileage_km  \\\n",
       "1     44900.0               2018.0            2.0      1.0      8100.0   \n",
       "1754  44990.0               2017.0            2.0      1.0     23000.0   \n",
       "1755  50000.0               2015.0            3.0      1.0     80000.0   \n",
       "1756  55000.0               2014.0            3.5      1.0     87997.0   \n",
       "\n",
       "      Body_type  Door_count  Fuel_type  Is_White  Is_Red  Is_German  Is_BMW  \\\n",
       "1           5.0         4.0        1.0         0       0          1       1   \n",
       "1754        4.0         4.0        0.0         1       0          1       0   \n",
       "1755        6.0         4.0        1.0         0       0          1       1   \n",
       "1756        6.0         4.0        1.0         1       0          1       0   \n",
       "\n",
       "      Is_Mercedes_Benz  Is_Japanese  Is_French  \n",
       "1                    0            0          0  \n",
       "1754                 1            0          0  \n",
       "1755                 0            0          0  \n",
       "1756                 1            0          0  "
      ]
     },
     "execution_count": 32,
     "metadata": {},
     "output_type": "execute_result"
    }
   ],
   "source": [
    "#What is a reasonable lower threshold to set for the price?\n",
    "clean_car_ad_dataset[clean_car_ad_dataset['Price'] <= 200.0]\n",
    "clean_car_ad_dataset[clean_car_ad_dataset['Price'] >= 40000]"
   ]
  },
  {
   "cell_type": "code",
   "execution_count": 33,
   "metadata": {},
   "outputs": [
    {
     "data": {
      "text/html": [
       "<div>\n",
       "<style scoped>\n",
       "    .dataframe tbody tr th:only-of-type {\n",
       "        vertical-align: middle;\n",
       "    }\n",
       "\n",
       "    .dataframe tbody tr th {\n",
       "        vertical-align: top;\n",
       "    }\n",
       "\n",
       "    .dataframe thead th {\n",
       "        text-align: right;\n",
       "    }\n",
       "</style>\n",
       "<table border=\"1\" class=\"dataframe\">\n",
       "  <thead>\n",
       "    <tr style=\"text-align: right;\">\n",
       "      <th></th>\n",
       "      <th>Price</th>\n",
       "      <th>Year_of_manufacture</th>\n",
       "      <th>Engine_Size_l</th>\n",
       "      <th>Gearbox</th>\n",
       "      <th>Mileage_km</th>\n",
       "      <th>Body_type</th>\n",
       "      <th>Door_count</th>\n",
       "      <th>Fuel_type</th>\n",
       "      <th>Is_White</th>\n",
       "      <th>Is_Red</th>\n",
       "      <th>Is_German</th>\n",
       "      <th>Is_BMW</th>\n",
       "      <th>Is_Mercedes_Benz</th>\n",
       "      <th>Is_Japanese</th>\n",
       "      <th>Is_French</th>\n",
       "    </tr>\n",
       "  </thead>\n",
       "  <tbody>\n",
       "    <tr>\n",
       "      <th>2</th>\n",
       "      <td>4400.0</td>\n",
       "      <td>1992.0</td>\n",
       "      <td>2.0</td>\n",
       "      <td>0.0</td>\n",
       "      <td>270000.0</td>\n",
       "      <td>2.0</td>\n",
       "      <td>2.0</td>\n",
       "      <td>0.0</td>\n",
       "      <td>0</td>\n",
       "      <td>0</td>\n",
       "      <td>0</td>\n",
       "      <td>0</td>\n",
       "      <td>0</td>\n",
       "      <td>1</td>\n",
       "      <td>0</td>\n",
       "    </tr>\n",
       "    <tr>\n",
       "      <th>3</th>\n",
       "      <td>4400.0</td>\n",
       "      <td>2008.0</td>\n",
       "      <td>2.2</td>\n",
       "      <td>0.0</td>\n",
       "      <td>222000.0</td>\n",
       "      <td>6.0</td>\n",
       "      <td>4.0</td>\n",
       "      <td>1.0</td>\n",
       "      <td>0</td>\n",
       "      <td>0</td>\n",
       "      <td>0</td>\n",
       "      <td>0</td>\n",
       "      <td>0</td>\n",
       "      <td>1</td>\n",
       "      <td>0</td>\n",
       "    </tr>\n",
       "    <tr>\n",
       "      <th>4</th>\n",
       "      <td>7990.0</td>\n",
       "      <td>2009.0</td>\n",
       "      <td>2.4</td>\n",
       "      <td>1.0</td>\n",
       "      <td>129977.0</td>\n",
       "      <td>4.0</td>\n",
       "      <td>4.0</td>\n",
       "      <td>0.0</td>\n",
       "      <td>0</td>\n",
       "      <td>0</td>\n",
       "      <td>0</td>\n",
       "      <td>0</td>\n",
       "      <td>0</td>\n",
       "      <td>1</td>\n",
       "      <td>0</td>\n",
       "    </tr>\n",
       "    <tr>\n",
       "      <th>6</th>\n",
       "      <td>4350.0</td>\n",
       "      <td>2002.0</td>\n",
       "      <td>2.7</td>\n",
       "      <td>1.0</td>\n",
       "      <td>228443.0</td>\n",
       "      <td>6.0</td>\n",
       "      <td>4.0</td>\n",
       "      <td>1.0</td>\n",
       "      <td>0</td>\n",
       "      <td>0</td>\n",
       "      <td>1</td>\n",
       "      <td>0</td>\n",
       "      <td>1</td>\n",
       "      <td>0</td>\n",
       "      <td>0</td>\n",
       "    </tr>\n",
       "    <tr>\n",
       "      <th>8</th>\n",
       "      <td>9800.0</td>\n",
       "      <td>2011.0</td>\n",
       "      <td>3.0</td>\n",
       "      <td>1.0</td>\n",
       "      <td>226000.0</td>\n",
       "      <td>5.0</td>\n",
       "      <td>4.0</td>\n",
       "      <td>1.0</td>\n",
       "      <td>0</td>\n",
       "      <td>0</td>\n",
       "      <td>1</td>\n",
       "      <td>1</td>\n",
       "      <td>0</td>\n",
       "      <td>0</td>\n",
       "      <td>0</td>\n",
       "    </tr>\n",
       "  </tbody>\n",
       "</table>\n",
       "</div>"
      ],
      "text/plain": [
       "    Price  Year_of_manufacture  Engine_Size_l  Gearbox  Mileage_km  Body_type  \\\n",
       "2  4400.0               1992.0            2.0      0.0    270000.0        2.0   \n",
       "3  4400.0               2008.0            2.2      0.0    222000.0        6.0   \n",
       "4  7990.0               2009.0            2.4      1.0    129977.0        4.0   \n",
       "6  4350.0               2002.0            2.7      1.0    228443.0        6.0   \n",
       "8  9800.0               2011.0            3.0      1.0    226000.0        5.0   \n",
       "\n",
       "   Door_count  Fuel_type  Is_White  Is_Red  Is_German  Is_BMW  \\\n",
       "2         2.0        0.0         0       0          0       0   \n",
       "3         4.0        1.0         0       0          0       0   \n",
       "4         4.0        0.0         0       0          0       0   \n",
       "6         4.0        1.0         0       0          1       0   \n",
       "8         4.0        1.0         0       0          1       1   \n",
       "\n",
       "   Is_Mercedes_Benz  Is_Japanese  Is_French  \n",
       "2                 0            1          0  \n",
       "3                 0            1          0  \n",
       "4                 0            1          0  \n",
       "6                 1            0          0  \n",
       "8                 0            0          0  "
      ]
     },
     "execution_count": 33,
     "metadata": {},
     "output_type": "execute_result"
    }
   ],
   "source": [
    "#Choosing the lower bound to be €200 (not incl.) and upper bound €40k (incl.)\n",
    "clean_car_ad_dataset = clean_car_ad_dataset[(clean_car_ad_dataset['Price'] > 200.0) & (clean_car_ad_dataset['Price'] <= 40000.0)]\n",
    "clean_car_ad_dataset.head()"
   ]
  },
  {
   "cell_type": "markdown",
   "metadata": {},
   "source": [
    "**Explore the features**"
   ]
  },
  {
   "cell_type": "code",
   "execution_count": 34,
   "metadata": {},
   "outputs": [
    {
     "data": {
      "image/png": "[encoded data removed]",
      "text/plain": [
       "<matplotlib.figure.Figure at 0x1c1724a438>"
      ]
     },
     "metadata": {},
     "output_type": "display_data"
    }
   ],
   "source": [
    "#Create a 2 x 3 plot matrix\n",
    "fig = plt.figure(figsize = (30, 20))\n",
    "\n",
    "#Distribution of years\n",
    "plt.subplot(2, 3, 1)\n",
    "sns.distplot(clean_car_ad_dataset[\"Year_of_manufacture\"], bins = 20); \n",
    "plt.title('Year of manufacture Distribution')\n",
    "\n",
    "#Distribution of Engine Size \n",
    "plt.subplot(2, 3, 2)\n",
    "sns.distplot(clean_car_ad_dataset[\"Engine_Size_l\"], bins = 30); \n",
    "plt.title('Engine Size Distribution')\n",
    "\n",
    "#Distribution of Mileage \n",
    "plt.subplot(2, 3, 3)\n",
    "sns.distplot(clean_car_ad_dataset[\"Mileage_km\"], bins = 30); \n",
    "plt.title('Mileage Distribution')\n",
    "\n",
    "#Distribution of Fuel Type\n",
    "plt.subplot(2, 3, 4)\n",
    "sns.distplot(clean_car_ad_dataset[\"Fuel_type\"], bins = 30); \n",
    "plt.title('Fuel Type')\n",
    "\n",
    "#Distribution of Body Type\n",
    "plt.subplot(2, 3, 5)\n",
    "sns.distplot(clean_car_ad_dataset[\"Body_type\"]); \n",
    "plt.title('Body type')\n",
    "\n",
    "#Distribution of Door count\n",
    "plt.subplot(2, 3, 6)\n",
    "sns.distplot(clean_car_ad_dataset[\"Door_count\"], bins = 2); \n",
    "plt.title('Door count');\n"
   ]
  },
  {
   "cell_type": "code",
   "execution_count": 35,
   "metadata": {},
   "outputs": [
    {
     "data": {
      "text/plain": [
       "Text(0.5,1,'Mileage Distribution')"
      ]
     },
     "execution_count": 35,
     "metadata": {},
     "output_type": "execute_result"
    },
    {
     "data": {
      "image/png": "[encoded data removed]",
      "text/plain": [
       "<matplotlib.figure.Figure at 0x1c175ac780>"
      ]
     },
     "metadata": {},
     "output_type": "display_data"
    }
   ],
   "source": [
    "#Plot Mileage histogram (to check the distribution)\n",
    "plt.figure(figsize = (10, 5))\n",
    "plt.hist(clean_car_ad_dataset['Mileage_km'], bins=30)\n",
    "plt.title('Mileage Distribution')\n"
   ]
  },
  {
   "cell_type": "code",
   "execution_count": 36,
   "metadata": {
    "scrolled": true
   },
   "outputs": [],
   "source": [
    "#Check Mileage outliers\n",
    "#clean_car_ad_dataset[clean_car_ad_dataset['Mileage_km'] >= 600000.0]\n",
    "clean_car_ad_dataset = clean_car_ad_dataset[clean_car_ad_dataset['Mileage_km'] <= 600000.0]\n",
    "#clean_car_ad_dataset.head()"
   ]
  },
  {
   "cell_type": "code",
   "execution_count": 37,
   "metadata": {
    "scrolled": true
   },
   "outputs": [
    {
     "data": {
      "image/png": "[encoded data removed]",
      "text/plain": [
       "<matplotlib.figure.Figure at 0x1c18baf978>"
      ]
     },
     "metadata": {},
     "output_type": "display_data"
    }
   ],
   "source": [
    "#Let's plot Mileage histogram again, after removing outliers (to check the distribution)\n",
    "plt.figure(figsize = (15, 5))\n",
    "plt.hist(clean_car_ad_dataset['Mileage_km'], bins=30)\n",
    "plt.title('Mileage Distribution');"
   ]
  },
  {
   "cell_type": "markdown",
   "metadata": {},
   "source": [
    "**Let's look at those massive engines**"
   ]
  },
  {
   "cell_type": "code",
   "execution_count": 38,
   "metadata": {},
   "outputs": [],
   "source": [
    "#Checked Engine Size outliers\n",
    "#clean_car_ad_dataset[clean_car_ad_dataset['Engine_Size_l'] >= 5.0]\n",
    "#clean_car_ad_dataset['Engine_Size_l'].value_counts()\n",
    "#clean_car_ad_dataset = clean_car_ad_dataset[clean_car_ad_dataset['Engine_Size_l'] <= 5.0]\n",
    "#clean_car_ad_dataset.head()"
   ]
  },
  {
   "cell_type": "markdown",
   "metadata": {},
   "source": [
    "**Removing very old & newcars (year of manufacture before 1990 and after 2016)**"
   ]
  },
  {
   "cell_type": "code",
   "execution_count": 39,
   "metadata": {},
   "outputs": [],
   "source": [
    "#Checked Year_of_manufacture outliers\n",
    "#clean_car_ad_dataset[clean_car_ad_dataset['Year_of_manufacture'] <= 1990.0]\n",
    "clean_car_ad_dataset = clean_car_ad_dataset[(clean_car_ad_dataset['Year_of_manufacture'] >= 1995.0) & (clean_car_ad_dataset['Year_of_manufacture'] < 2017.0)]\n",
    "#clean_car_ad_dataset.head()"
   ]
  },
  {
   "cell_type": "code",
   "execution_count": 40,
   "metadata": {},
   "outputs": [
    {
     "data": {
      "image/png": "[encoded data removed]",
      "text/plain": [
       "<matplotlib.figure.Figure at 0x1c18c3d080>"
      ]
     },
     "metadata": {},
     "output_type": "display_data"
    }
   ],
   "source": [
    "#Let's plot Year_of_manufacture histogram again, after removing outliers (to check the distribution)\n",
    "plt.figure(figsize = (15, 5))\n",
    "plt.hist(clean_car_ad_dataset['Year_of_manufacture'], bins=20)\n",
    "plt.title('Year_of_manufacture Distribution');"
   ]
  },
  {
   "cell_type": "markdown",
   "metadata": {},
   "source": [
    "**Let's re-assess a after cleanup**"
   ]
  },
  {
   "cell_type": "code",
   "execution_count": 41,
   "metadata": {},
   "outputs": [
    {
     "data": {
      "image/png": "[encoded data removed]",
      "text/plain": [
       "<matplotlib.figure.Figure at 0x1c18d0d630>"
      ]
     },
     "metadata": {},
     "output_type": "display_data"
    }
   ],
   "source": [
    "#Create a 2 x 3 plot matrix\n",
    "fig = plt.figure(figsize = (30, 20))\n",
    "\n",
    "#Distribution of years\n",
    "plt.subplot(2, 3, 1)\n",
    "sns.distplot(clean_car_ad_dataset[\"Year_of_manufacture\"], bins = 20); \n",
    "plt.title('Year of manufacture Distribution')\n",
    "\n",
    "#Distribution of Engine Size \n",
    "plt.subplot(2, 3, 2)\n",
    "sns.distplot(clean_car_ad_dataset[\"Engine_Size_l\"], bins = 20); \n",
    "plt.title('Engine Size Distribution')\n",
    "\n",
    "#Distribution of Mileage \n",
    "plt.subplot(2, 3, 3)\n",
    "sns.distplot(clean_car_ad_dataset[\"Mileage_km\"], bins = 30); \n",
    "plt.title('Mileage Distribution')\n",
    "\n",
    "#Distribution of Fuel Type\n",
    "plt.subplot(2, 3, 4)\n",
    "sns.distplot(clean_car_ad_dataset[\"Fuel_type\"], bins = 30); \n",
    "plt.title('Fuel Type')\n",
    "\n",
    "#Distribution of Body Type\n",
    "plt.subplot(2, 3, 5)\n",
    "sns.distplot(clean_car_ad_dataset[\"Body_type\"]); \n",
    "plt.title('Body type')\n",
    "\n",
    "#Distribution of Door count\n",
    "plt.subplot(2, 3, 6)\n",
    "sns.distplot(clean_car_ad_dataset[\"Door_count\"], bins = 2); \n",
    "plt.title('Door count');\n"
   ]
  },
  {
   "cell_type": "markdown",
   "metadata": {},
   "source": [
    "### More analysis"
   ]
  },
  {
   "cell_type": "code",
   "execution_count": 42,
   "metadata": {},
   "outputs": [
    {
     "data": {
      "text/html": [
       "<div>\n",
       "<style scoped>\n",
       "    .dataframe tbody tr th:only-of-type {\n",
       "        vertical-align: middle;\n",
       "    }\n",
       "\n",
       "    .dataframe tbody tr th {\n",
       "        vertical-align: top;\n",
       "    }\n",
       "\n",
       "    .dataframe thead th {\n",
       "        text-align: right;\n",
       "    }\n",
       "</style>\n",
       "<table border=\"1\" class=\"dataframe\">\n",
       "  <thead>\n",
       "    <tr style=\"text-align: right;\">\n",
       "      <th></th>\n",
       "      <th>Price</th>\n",
       "      <th>Year_of_manufacture</th>\n",
       "      <th>Engine_Size_l</th>\n",
       "      <th>Gearbox</th>\n",
       "      <th>Mileage_km</th>\n",
       "      <th>Body_type</th>\n",
       "      <th>Door_count</th>\n",
       "      <th>Fuel_type</th>\n",
       "      <th>Is_White</th>\n",
       "      <th>Is_Red</th>\n",
       "      <th>Is_German</th>\n",
       "      <th>Is_BMW</th>\n",
       "      <th>Is_Mercedes_Benz</th>\n",
       "      <th>Is_Japanese</th>\n",
       "      <th>Is_French</th>\n",
       "    </tr>\n",
       "  </thead>\n",
       "  <tbody>\n",
       "    <tr>\n",
       "      <th>Price</th>\n",
       "      <td>1.000000</td>\n",
       "      <td>0.687905</td>\n",
       "      <td>0.300149</td>\n",
       "      <td>0.431960</td>\n",
       "      <td>-0.381092</td>\n",
       "      <td>0.194160</td>\n",
       "      <td>0.085536</td>\n",
       "      <td>0.009931</td>\n",
       "      <td>0.246163</td>\n",
       "      <td>-0.045878</td>\n",
       "      <td>0.204293</td>\n",
       "      <td>0.182751</td>\n",
       "      <td>0.066320</td>\n",
       "      <td>-0.076615</td>\n",
       "      <td>-0.128490</td>\n",
       "    </tr>\n",
       "    <tr>\n",
       "      <th>Year_of_manufacture</th>\n",
       "      <td>0.687905</td>\n",
       "      <td>1.000000</td>\n",
       "      <td>-0.080471</td>\n",
       "      <td>0.232433</td>\n",
       "      <td>-0.448888</td>\n",
       "      <td>0.143929</td>\n",
       "      <td>0.126907</td>\n",
       "      <td>0.108705</td>\n",
       "      <td>0.224530</td>\n",
       "      <td>-0.091612</td>\n",
       "      <td>0.008558</td>\n",
       "      <td>0.013468</td>\n",
       "      <td>-0.076761</td>\n",
       "      <td>-0.033120</td>\n",
       "      <td>-0.052318</td>\n",
       "    </tr>\n",
       "    <tr>\n",
       "      <th>Engine_Size_l</th>\n",
       "      <td>0.300149</td>\n",
       "      <td>-0.080471</td>\n",
       "      <td>1.000000</td>\n",
       "      <td>0.494406</td>\n",
       "      <td>0.153877</td>\n",
       "      <td>0.208662</td>\n",
       "      <td>0.109841</td>\n",
       "      <td>-0.017354</td>\n",
       "      <td>-0.003713</td>\n",
       "      <td>-0.062973</td>\n",
       "      <td>0.257596</td>\n",
       "      <td>0.293158</td>\n",
       "      <td>0.261272</td>\n",
       "      <td>-0.113403</td>\n",
       "      <td>-0.157639</td>\n",
       "    </tr>\n",
       "    <tr>\n",
       "      <th>Gearbox</th>\n",
       "      <td>0.431960</td>\n",
       "      <td>0.232433</td>\n",
       "      <td>0.494406</td>\n",
       "      <td>1.000000</td>\n",
       "      <td>-0.033845</td>\n",
       "      <td>0.162126</td>\n",
       "      <td>0.105475</td>\n",
       "      <td>-0.034535</td>\n",
       "      <td>0.101604</td>\n",
       "      <td>-0.073301</td>\n",
       "      <td>0.246265</td>\n",
       "      <td>0.200626</td>\n",
       "      <td>0.192229</td>\n",
       "      <td>-0.192288</td>\n",
       "      <td>-0.099412</td>\n",
       "    </tr>\n",
       "    <tr>\n",
       "      <th>Mileage_km</th>\n",
       "      <td>-0.381092</td>\n",
       "      <td>-0.448888</td>\n",
       "      <td>0.153877</td>\n",
       "      <td>-0.033845</td>\n",
       "      <td>1.000000</td>\n",
       "      <td>0.081633</td>\n",
       "      <td>0.122651</td>\n",
       "      <td>0.335237</td>\n",
       "      <td>-0.133495</td>\n",
       "      <td>-0.159112</td>\n",
       "      <td>0.121580</td>\n",
       "      <td>0.137143</td>\n",
       "      <td>0.067969</td>\n",
       "      <td>-0.056997</td>\n",
       "      <td>-0.037832</td>\n",
       "    </tr>\n",
       "    <tr>\n",
       "      <th>Body_type</th>\n",
       "      <td>0.194160</td>\n",
       "      <td>0.143929</td>\n",
       "      <td>0.208662</td>\n",
       "      <td>0.162126</td>\n",
       "      <td>0.081633</td>\n",
       "      <td>1.000000</td>\n",
       "      <td>0.358355</td>\n",
       "      <td>0.227329</td>\n",
       "      <td>0.084096</td>\n",
       "      <td>-0.095233</td>\n",
       "      <td>-0.000674</td>\n",
       "      <td>0.026377</td>\n",
       "      <td>-0.049414</td>\n",
       "      <td>0.007647</td>\n",
       "      <td>-0.079822</td>\n",
       "    </tr>\n",
       "    <tr>\n",
       "      <th>Door_count</th>\n",
       "      <td>0.085536</td>\n",
       "      <td>0.126907</td>\n",
       "      <td>0.109841</td>\n",
       "      <td>0.105475</td>\n",
       "      <td>0.122651</td>\n",
       "      <td>0.358355</td>\n",
       "      <td>1.000000</td>\n",
       "      <td>0.224553</td>\n",
       "      <td>-0.069088</td>\n",
       "      <td>-0.094770</td>\n",
       "      <td>0.063186</td>\n",
       "      <td>0.062991</td>\n",
       "      <td>-0.014596</td>\n",
       "      <td>-0.002180</td>\n",
       "      <td>-0.142903</td>\n",
       "    </tr>\n",
       "    <tr>\n",
       "      <th>Fuel_type</th>\n",
       "      <td>0.009931</td>\n",
       "      <td>0.108705</td>\n",
       "      <td>-0.017354</td>\n",
       "      <td>-0.034535</td>\n",
       "      <td>0.335237</td>\n",
       "      <td>0.227329</td>\n",
       "      <td>0.224553</td>\n",
       "      <td>1.000000</td>\n",
       "      <td>-0.058592</td>\n",
       "      <td>-0.162988</td>\n",
       "      <td>0.102224</td>\n",
       "      <td>0.034084</td>\n",
       "      <td>0.044025</td>\n",
       "      <td>-0.133029</td>\n",
       "      <td>-0.047788</td>\n",
       "    </tr>\n",
       "    <tr>\n",
       "      <th>Is_White</th>\n",
       "      <td>0.246163</td>\n",
       "      <td>0.224530</td>\n",
       "      <td>-0.003713</td>\n",
       "      <td>0.101604</td>\n",
       "      <td>-0.133495</td>\n",
       "      <td>0.084096</td>\n",
       "      <td>-0.069088</td>\n",
       "      <td>-0.058592</td>\n",
       "      <td>1.000000</td>\n",
       "      <td>-0.046831</td>\n",
       "      <td>-0.018219</td>\n",
       "      <td>0.007040</td>\n",
       "      <td>-0.027677</td>\n",
       "      <td>0.001781</td>\n",
       "      <td>0.004490</td>\n",
       "    </tr>\n",
       "    <tr>\n",
       "      <th>Is_Red</th>\n",
       "      <td>-0.045878</td>\n",
       "      <td>-0.091612</td>\n",
       "      <td>-0.062973</td>\n",
       "      <td>-0.073301</td>\n",
       "      <td>-0.159112</td>\n",
       "      <td>-0.095233</td>\n",
       "      <td>-0.094770</td>\n",
       "      <td>-0.162988</td>\n",
       "      <td>-0.046831</td>\n",
       "      <td>1.000000</td>\n",
       "      <td>-0.083570</td>\n",
       "      <td>-0.052255</td>\n",
       "      <td>-0.043329</td>\n",
       "      <td>0.039390</td>\n",
       "      <td>0.036940</td>\n",
       "    </tr>\n",
       "    <tr>\n",
       "      <th>Is_German</th>\n",
       "      <td>0.204293</td>\n",
       "      <td>0.008558</td>\n",
       "      <td>0.257596</td>\n",
       "      <td>0.246265</td>\n",
       "      <td>0.121580</td>\n",
       "      <td>-0.000674</td>\n",
       "      <td>0.063186</td>\n",
       "      <td>0.102224</td>\n",
       "      <td>-0.018219</td>\n",
       "      <td>-0.083570</td>\n",
       "      <td>1.000000</td>\n",
       "      <td>0.402139</td>\n",
       "      <td>0.243982</td>\n",
       "      <td>-0.427601</td>\n",
       "      <td>-0.265342</td>\n",
       "    </tr>\n",
       "    <tr>\n",
       "      <th>Is_BMW</th>\n",
       "      <td>0.182751</td>\n",
       "      <td>0.013468</td>\n",
       "      <td>0.293158</td>\n",
       "      <td>0.200626</td>\n",
       "      <td>0.137143</td>\n",
       "      <td>0.026377</td>\n",
       "      <td>0.062991</td>\n",
       "      <td>0.034084</td>\n",
       "      <td>0.007040</td>\n",
       "      <td>-0.052255</td>\n",
       "      <td>0.402139</td>\n",
       "      <td>1.000000</td>\n",
       "      <td>-0.101521</td>\n",
       "      <td>-0.171955</td>\n",
       "      <td>-0.106704</td>\n",
       "    </tr>\n",
       "    <tr>\n",
       "      <th>Is_Mercedes_Benz</th>\n",
       "      <td>0.066320</td>\n",
       "      <td>-0.076761</td>\n",
       "      <td>0.261272</td>\n",
       "      <td>0.192229</td>\n",
       "      <td>0.067969</td>\n",
       "      <td>-0.049414</td>\n",
       "      <td>-0.014596</td>\n",
       "      <td>0.044025</td>\n",
       "      <td>-0.027677</td>\n",
       "      <td>-0.043329</td>\n",
       "      <td>0.243982</td>\n",
       "      <td>-0.101521</td>\n",
       "      <td>1.000000</td>\n",
       "      <td>-0.104327</td>\n",
       "      <td>-0.064739</td>\n",
       "    </tr>\n",
       "    <tr>\n",
       "      <th>Is_Japanese</th>\n",
       "      <td>-0.076615</td>\n",
       "      <td>-0.033120</td>\n",
       "      <td>-0.113403</td>\n",
       "      <td>-0.192288</td>\n",
       "      <td>-0.056997</td>\n",
       "      <td>0.007647</td>\n",
       "      <td>-0.002180</td>\n",
       "      <td>-0.133029</td>\n",
       "      <td>0.001781</td>\n",
       "      <td>0.039390</td>\n",
       "      <td>-0.427601</td>\n",
       "      <td>-0.171955</td>\n",
       "      <td>-0.104327</td>\n",
       "      <td>1.000000</td>\n",
       "      <td>-0.109653</td>\n",
       "    </tr>\n",
       "    <tr>\n",
       "      <th>Is_French</th>\n",
       "      <td>-0.128490</td>\n",
       "      <td>-0.052318</td>\n",
       "      <td>-0.157639</td>\n",
       "      <td>-0.099412</td>\n",
       "      <td>-0.037832</td>\n",
       "      <td>-0.079822</td>\n",
       "      <td>-0.142903</td>\n",
       "      <td>-0.047788</td>\n",
       "      <td>0.004490</td>\n",
       "      <td>0.036940</td>\n",
       "      <td>-0.265342</td>\n",
       "      <td>-0.106704</td>\n",
       "      <td>-0.064739</td>\n",
       "      <td>-0.109653</td>\n",
       "      <td>1.000000</td>\n",
       "    </tr>\n",
       "  </tbody>\n",
       "</table>\n",
       "</div>"
      ],
      "text/plain": [
       "                        Price  Year_of_manufacture  Engine_Size_l   Gearbox  \\\n",
       "Price                1.000000             0.687905       0.300149  0.431960   \n",
       "Year_of_manufacture  0.687905             1.000000      -0.080471  0.232433   \n",
       "Engine_Size_l        0.300149            -0.080471       1.000000  0.494406   \n",
       "Gearbox              0.431960             0.232433       0.494406  1.000000   \n",
       "Mileage_km          -0.381092            -0.448888       0.153877 -0.033845   \n",
       "Body_type            0.194160             0.143929       0.208662  0.162126   \n",
       "Door_count           0.085536             0.126907       0.109841  0.105475   \n",
       "Fuel_type            0.009931             0.108705      -0.017354 -0.034535   \n",
       "Is_White             0.246163             0.224530      -0.003713  0.101604   \n",
       "Is_Red              -0.045878            -0.091612      -0.062973 -0.073301   \n",
       "Is_German            0.204293             0.008558       0.257596  0.246265   \n",
       "Is_BMW               0.182751             0.013468       0.293158  0.200626   \n",
       "Is_Mercedes_Benz     0.066320            -0.076761       0.261272  0.192229   \n",
       "Is_Japanese         -0.076615            -0.033120      -0.113403 -0.192288   \n",
       "Is_French           -0.128490            -0.052318      -0.157639 -0.099412   \n",
       "\n",
       "                     Mileage_km  Body_type  Door_count  Fuel_type  Is_White  \\\n",
       "Price                 -0.381092   0.194160    0.085536   0.009931  0.246163   \n",
       "Year_of_manufacture   -0.448888   0.143929    0.126907   0.108705  0.224530   \n",
       "Engine_Size_l          0.153877   0.208662    0.109841  -0.017354 -0.003713   \n",
       "Gearbox               -0.033845   0.162126    0.105475  -0.034535  0.101604   \n",
       "Mileage_km             1.000000   0.081633    0.122651   0.335237 -0.133495   \n",
       "Body_type              0.081633   1.000000    0.358355   0.227329  0.084096   \n",
       "Door_count             0.122651   0.358355    1.000000   0.224553 -0.069088   \n",
       "Fuel_type              0.335237   0.227329    0.224553   1.000000 -0.058592   \n",
       "Is_White              -0.133495   0.084096   -0.069088  -0.058592  1.000000   \n",
       "Is_Red                -0.159112  -0.095233   -0.094770  -0.162988 -0.046831   \n",
       "Is_German              0.121580  -0.000674    0.063186   0.102224 -0.018219   \n",
       "Is_BMW                 0.137143   0.026377    0.062991   0.034084  0.007040   \n",
       "Is_Mercedes_Benz       0.067969  -0.049414   -0.014596   0.044025 -0.027677   \n",
       "Is_Japanese           -0.056997   0.007647   -0.002180  -0.133029  0.001781   \n",
       "Is_French             -0.037832  -0.079822   -0.142903  -0.047788  0.004490   \n",
       "\n",
       "                       Is_Red  Is_German    Is_BMW  Is_Mercedes_Benz  \\\n",
       "Price               -0.045878   0.204293  0.182751          0.066320   \n",
       "Year_of_manufacture -0.091612   0.008558  0.013468         -0.076761   \n",
       "Engine_Size_l       -0.062973   0.257596  0.293158          0.261272   \n",
       "Gearbox             -0.073301   0.246265  0.200626          0.192229   \n",
       "Mileage_km          -0.159112   0.121580  0.137143          0.067969   \n",
       "Body_type           -0.095233  -0.000674  0.026377         -0.049414   \n",
       "Door_count          -0.094770   0.063186  0.062991         -0.014596   \n",
       "Fuel_type           -0.162988   0.102224  0.034084          0.044025   \n",
       "Is_White            -0.046831  -0.018219  0.007040         -0.027677   \n",
       "Is_Red               1.000000  -0.083570 -0.052255         -0.043329   \n",
       "Is_German           -0.083570   1.000000  0.402139          0.243982   \n",
       "Is_BMW              -0.052255   0.402139  1.000000         -0.101521   \n",
       "Is_Mercedes_Benz    -0.043329   0.243982 -0.101521          1.000000   \n",
       "Is_Japanese          0.039390  -0.427601 -0.171955         -0.104327   \n",
       "Is_French            0.036940  -0.265342 -0.106704         -0.064739   \n",
       "\n",
       "                     Is_Japanese  Is_French  \n",
       "Price                  -0.076615  -0.128490  \n",
       "Year_of_manufacture    -0.033120  -0.052318  \n",
       "Engine_Size_l          -0.113403  -0.157639  \n",
       "Gearbox                -0.192288  -0.099412  \n",
       "Mileage_km             -0.056997  -0.037832  \n",
       "Body_type               0.007647  -0.079822  \n",
       "Door_count             -0.002180  -0.142903  \n",
       "Fuel_type              -0.133029  -0.047788  \n",
       "Is_White                0.001781   0.004490  \n",
       "Is_Red                  0.039390   0.036940  \n",
       "Is_German              -0.427601  -0.265342  \n",
       "Is_BMW                 -0.171955  -0.106704  \n",
       "Is_Mercedes_Benz       -0.104327  -0.064739  \n",
       "Is_Japanese             1.000000  -0.109653  \n",
       "Is_French              -0.109653   1.000000  "
      ]
     },
     "execution_count": 42,
     "metadata": {},
     "output_type": "execute_result"
    }
   ],
   "source": [
    "#Check the correlation between different variables\n",
    "clean_car_ad_dataset.corr()"
   ]
  },
  {
   "cell_type": "markdown",
   "metadata": {},
   "source": [
    "### Sklearn way"
   ]
  },
  {
   "cell_type": "markdown",
   "metadata": {},
   "source": [
    "**Training and testing**"
   ]
  },
  {
   "cell_type": "code",
   "execution_count": 43,
   "metadata": {},
   "outputs": [],
   "source": [
    "X_all, y_all = clean_car_ad_dataset[['Year_of_manufacture', 'Engine_Size_l', 'Mileage_km', 'Fuel_type', 'Gearbox', 'Is_German',\n",
    "                             'Is_BMW', 'Is_Mercedes_Benz', 'Is_French', 'Is_Japanese']], clean_car_ad_dataset['Price']"
   ]
  },
  {
   "cell_type": "code",
   "execution_count": 44,
   "metadata": {},
   "outputs": [],
   "source": [
    "#Split the data into train and test datasets\n",
    "X_all_train, X_all_test, y_all_train, y_all_test = train_test_split(X_all, y_all, test_size = 0.3, random_state = 42)"
   ]
  },
  {
   "cell_type": "markdown",
   "metadata": {},
   "source": [
    "### Explore model options"
   ]
  },
  {
   "cell_type": "markdown",
   "metadata": {},
   "source": [
    "**To understand which features are the most important (shows % of variance explained)**\n"
   ]
  },
  {
   "cell_type": "code",
   "execution_count": null,
   "metadata": {},
   "outputs": [],
   "source": []
  },
  {
   "cell_type": "markdown",
   "metadata": {},
   "source": [
    "**Transform the price to log (no regularization)**"
   ]
  },
  {
   "cell_type": "code",
   "execution_count": 45,
   "metadata": {},
   "outputs": [],
   "source": [
    "y_log = np.log(y_all_train)\n",
    "X_log, y_log = X_all_train[['Year_of_manufacture', 'Engine_Size_l', 'Mileage_km', 'Fuel_type', 'Gearbox', 'Is_German',\n",
    "                             'Is_BMW', 'Is_Mercedes_Benz', 'Is_French', 'Is_Japanese']], y_log\n",
    "\n",
    "car_ad_model_log = LinearRegression()\n",
    "car_ad_model_log_fit = car_ad_model_log.fit(X_log, y_log)"
   ]
  },
  {
   "cell_type": "code",
   "execution_count": 46,
   "metadata": {
    "scrolled": true
   },
   "outputs": [
    {
     "data": {
      "text/plain": [
       "Text(0,0.5,'Coefficient')"
      ]
     },
     "execution_count": 46,
     "metadata": {},
     "output_type": "execute_result"
    },
    {
     "data": {
      "image/png": "[encoded data removed]",
      "text/plain": [
       "<matplotlib.figure.Figure at 0x1c18c31d30>"
      ]
     },
     "metadata": {},
     "output_type": "display_data"
    }
   ],
   "source": [
    "fig = plt.figure(figsize = (15, 4))\n",
    "\n",
    "#Visualizing predictions versus actuals\n",
    "y_train_log_predicted = car_ad_model_log.predict(X_log)\n",
    "\n",
    "plt.subplot(1, 2, 1)\n",
    "plt.scatter(y_log, y_train_log_predicted)\n",
    "plt.plot([5, 10], [5, 10], color='red')\n",
    "plt.title('Predicted Logarithmic Car Prices versus Actual')\n",
    "plt.ylabel('Predicted Car Price (log)')\n",
    "plt.xlabel('Actual Car Price (log)');\n",
    "\n",
    "plt.subplot(1, 2, 2)\n",
    "plt.plot(car_ad_model_log.coef_)\n",
    "plt.title('Coefficients')\n",
    "plt.xlabel('Feature Sequence')\n",
    "plt.ylabel('Coefficient')"
   ]
  },
  {
   "cell_type": "code",
   "execution_count": 47,
   "metadata": {
    "scrolled": true
   },
   "outputs": [
    {
     "name": "stdout",
     "output_type": "stream",
     "text": [
      "The r-squared scores of cross validation: [0.81264746 0.85085087 0.8696805  0.83610673 0.82421042]\n",
      "The mean of r-squared scores is 0.839.\n",
      "\n",
      "The mean squared error scores of cross validation: [0.17939174 0.14395078 0.12706933 0.14933491 0.14478482]\n",
      "The mean of the mean squared error scores is: 0.149\n"
     ]
    }
   ],
   "source": [
    "#Let's do some cross-validation\n",
    "scores_r2_log = cross_val_score(car_ad_model_log, X_log, y_log, cv = 5, scoring='r2')\n",
    "print('The r-squared scores of cross validation:', str(scores_r2_log))\n",
    "print('The mean of r-squared scores is', str(round(scores_r2_log.mean(), 3))+ '.\\n')\n",
    "\n",
    "scores_mse_log = cross_val_score(car_ad_model_log, X_log, y_log, cv = 5, scoring='neg_mean_squared_error')\n",
    "print('The mean squared error scores of cross validation:', str(-scores_mse_log))\n",
    "print('The mean of the mean squared error scores is:', str(round(-scores_mse_log.mean(), 3)))"
   ]
  },
  {
   "cell_type": "markdown",
   "metadata": {},
   "source": [
    "> **Much much better! Am I missing something???**"
   ]
  },
  {
   "cell_type": "markdown",
   "metadata": {},
   "source": [
    "**Adjusted R-squared calculation**"
   ]
  },
  {
   "cell_type": "code",
   "execution_count": 48,
   "metadata": {},
   "outputs": [
    {
     "name": "stdout",
     "output_type": "stream",
     "text": [
      "Average adj. r-squared is: 0.8360286515789463\n"
     ]
    }
   ],
   "source": [
    "adj_r2_log_list = []\n",
    "for score in scores_r2_log:\n",
    "    adjusted_r2_log = 1 - (1 - score) * (len(y_log)-1) / (len(y_log) - X_log.shape[1] -1)\n",
    "    adj_r2_log_list.append(adjusted_r2_log)\n",
    "    \n",
    "print('Average adj. r-squared is:', str(np.array(adj_r2_log_list).mean()))"
   ]
  },
  {
   "cell_type": "markdown",
   "metadata": {},
   "source": [
    "**Let's examine the residuals, shall we?**"
   ]
  },
  {
   "cell_type": "code",
   "execution_count": 49,
   "metadata": {},
   "outputs": [
    {
     "ename": "KeyError",
     "evalue": "'Price_log'",
     "output_type": "error",
     "traceback": [
      "\u001b[0;31m---------------------------------------------------------------------------\u001b[0m",
      "\u001b[0;31mKeyError\u001b[0m                                  Traceback (most recent call last)",
      "\u001b[0;32m/anaconda3/lib/python3.6/site-packages/pandas/core/indexes/base.py\u001b[0m in \u001b[0;36mget_loc\u001b[0;34m(self, key, method, tolerance)\u001b[0m\n\u001b[1;32m   2524\u001b[0m             \u001b[0;32mtry\u001b[0m\u001b[0;34m:\u001b[0m\u001b[0;34m\u001b[0m\u001b[0m\n\u001b[0;32m-> 2525\u001b[0;31m                 \u001b[0;32mreturn\u001b[0m \u001b[0mself\u001b[0m\u001b[0;34m.\u001b[0m\u001b[0m_engine\u001b[0m\u001b[0;34m.\u001b[0m\u001b[0mget_loc\u001b[0m\u001b[0;34m(\u001b[0m\u001b[0mkey\u001b[0m\u001b[0;34m)\u001b[0m\u001b[0;34m\u001b[0m\u001b[0m\n\u001b[0m\u001b[1;32m   2526\u001b[0m             \u001b[0;32mexcept\u001b[0m \u001b[0mKeyError\u001b[0m\u001b[0;34m:\u001b[0m\u001b[0;34m\u001b[0m\u001b[0m\n",
      "\u001b[0;32mpandas/_libs/index.pyx\u001b[0m in \u001b[0;36mpandas._libs.index.IndexEngine.get_loc\u001b[0;34m()\u001b[0m\n",
      "\u001b[0;32mpandas/_libs/index.pyx\u001b[0m in \u001b[0;36mpandas._libs.index.IndexEngine.get_loc\u001b[0;34m()\u001b[0m\n",
      "\u001b[0;32mpandas/_libs/hashtable_class_helper.pxi\u001b[0m in \u001b[0;36mpandas._libs.hashtable.PyObjectHashTable.get_item\u001b[0;34m()\u001b[0m\n",
      "\u001b[0;32mpandas/_libs/hashtable_class_helper.pxi\u001b[0m in \u001b[0;36mpandas._libs.hashtable.PyObjectHashTable.get_item\u001b[0;34m()\u001b[0m\n",
      "\u001b[0;31mKeyError\u001b[0m: 'Price_log'",
      "\nDuring handling of the above exception, another exception occurred:\n",
      "\u001b[0;31mKeyError\u001b[0m                                  Traceback (most recent call last)",
      "\u001b[0;32m<ipython-input-49-aa8b4e0f4d9d>\u001b[0m in \u001b[0;36m<module>\u001b[0;34m()\u001b[0m\n\u001b[1;32m      1\u001b[0m \u001b[0;31m# Use diagnostic_plots python file to plot Year of manufacture results\u001b[0m\u001b[0;34m\u001b[0m\u001b[0;34m\u001b[0m\u001b[0m\n\u001b[0;32m----> 2\u001b[0;31m \u001b[0mdiagnostic_plots\u001b[0m\u001b[0;34m(\u001b[0m\u001b[0mclean_car_ad_dataset\u001b[0m\u001b[0;34m[\u001b[0m\u001b[0;34m[\u001b[0m\u001b[0;34m'Year_of_manufacture'\u001b[0m\u001b[0;34m,\u001b[0m \u001b[0;34m'Engine_Size_l'\u001b[0m\u001b[0;34m,\u001b[0m \u001b[0;34m'Mileage_km'\u001b[0m\u001b[0;34m,\u001b[0m \u001b[0;34m'Fuel_type'\u001b[0m\u001b[0;34m,\u001b[0m \u001b[0;34m'Gearbox'\u001b[0m\u001b[0;34m,\u001b[0m \u001b[0;34m'Is_German'\u001b[0m\u001b[0;34m,\u001b[0m\u001b[0;34m'Is_BMW'\u001b[0m\u001b[0;34m,\u001b[0m \u001b[0;34m'Is_Mercedes_Benz'\u001b[0m\u001b[0;34m,\u001b[0m \u001b[0;34m'Is_French'\u001b[0m\u001b[0;34m,\u001b[0m \u001b[0;34m'Is_Japanese'\u001b[0m\u001b[0;34m]\u001b[0m\u001b[0;34m]\u001b[0m\u001b[0;34m,\u001b[0m \u001b[0mclean_car_ad_dataset\u001b[0m\u001b[0;34m[\u001b[0m\u001b[0;34m'Price_log'\u001b[0m\u001b[0;34m]\u001b[0m\u001b[0;34m)\u001b[0m\u001b[0;34m\u001b[0m\u001b[0m\n\u001b[0m",
      "\u001b[0;32m/anaconda3/lib/python3.6/site-packages/pandas/core/frame.py\u001b[0m in \u001b[0;36m__getitem__\u001b[0;34m(self, key)\u001b[0m\n\u001b[1;32m   2137\u001b[0m             \u001b[0;32mreturn\u001b[0m \u001b[0mself\u001b[0m\u001b[0;34m.\u001b[0m\u001b[0m_getitem_multilevel\u001b[0m\u001b[0;34m(\u001b[0m\u001b[0mkey\u001b[0m\u001b[0;34m)\u001b[0m\u001b[0;34m\u001b[0m\u001b[0m\n\u001b[1;32m   2138\u001b[0m         \u001b[0;32melse\u001b[0m\u001b[0;34m:\u001b[0m\u001b[0;34m\u001b[0m\u001b[0m\n\u001b[0;32m-> 2139\u001b[0;31m             \u001b[0;32mreturn\u001b[0m \u001b[0mself\u001b[0m\u001b[0;34m.\u001b[0m\u001b[0m_getitem_column\u001b[0m\u001b[0;34m(\u001b[0m\u001b[0mkey\u001b[0m\u001b[0;34m)\u001b[0m\u001b[0;34m\u001b[0m\u001b[0m\n\u001b[0m\u001b[1;32m   2140\u001b[0m \u001b[0;34m\u001b[0m\u001b[0m\n\u001b[1;32m   2141\u001b[0m     \u001b[0;32mdef\u001b[0m \u001b[0m_getitem_column\u001b[0m\u001b[0;34m(\u001b[0m\u001b[0mself\u001b[0m\u001b[0;34m,\u001b[0m \u001b[0mkey\u001b[0m\u001b[0;34m)\u001b[0m\u001b[0;34m:\u001b[0m\u001b[0;34m\u001b[0m\u001b[0m\n",
      "\u001b[0;32m/anaconda3/lib/python3.6/site-packages/pandas/core/frame.py\u001b[0m in \u001b[0;36m_getitem_column\u001b[0;34m(self, key)\u001b[0m\n\u001b[1;32m   2144\u001b[0m         \u001b[0;31m# get column\u001b[0m\u001b[0;34m\u001b[0m\u001b[0;34m\u001b[0m\u001b[0m\n\u001b[1;32m   2145\u001b[0m         \u001b[0;32mif\u001b[0m \u001b[0mself\u001b[0m\u001b[0;34m.\u001b[0m\u001b[0mcolumns\u001b[0m\u001b[0;34m.\u001b[0m\u001b[0mis_unique\u001b[0m\u001b[0;34m:\u001b[0m\u001b[0;34m\u001b[0m\u001b[0m\n\u001b[0;32m-> 2146\u001b[0;31m             \u001b[0;32mreturn\u001b[0m \u001b[0mself\u001b[0m\u001b[0;34m.\u001b[0m\u001b[0m_get_item_cache\u001b[0m\u001b[0;34m(\u001b[0m\u001b[0mkey\u001b[0m\u001b[0;34m)\u001b[0m\u001b[0;34m\u001b[0m\u001b[0m\n\u001b[0m\u001b[1;32m   2147\u001b[0m \u001b[0;34m\u001b[0m\u001b[0m\n\u001b[1;32m   2148\u001b[0m         \u001b[0;31m# duplicate columns & possible reduce dimensionality\u001b[0m\u001b[0;34m\u001b[0m\u001b[0;34m\u001b[0m\u001b[0m\n",
      "\u001b[0;32m/anaconda3/lib/python3.6/site-packages/pandas/core/generic.py\u001b[0m in \u001b[0;36m_get_item_cache\u001b[0;34m(self, item)\u001b[0m\n\u001b[1;32m   1840\u001b[0m         \u001b[0mres\u001b[0m \u001b[0;34m=\u001b[0m \u001b[0mcache\u001b[0m\u001b[0;34m.\u001b[0m\u001b[0mget\u001b[0m\u001b[0;34m(\u001b[0m\u001b[0mitem\u001b[0m\u001b[0;34m)\u001b[0m\u001b[0;34m\u001b[0m\u001b[0m\n\u001b[1;32m   1841\u001b[0m         \u001b[0;32mif\u001b[0m \u001b[0mres\u001b[0m \u001b[0;32mis\u001b[0m \u001b[0;32mNone\u001b[0m\u001b[0;34m:\u001b[0m\u001b[0;34m\u001b[0m\u001b[0m\n\u001b[0;32m-> 1842\u001b[0;31m             \u001b[0mvalues\u001b[0m \u001b[0;34m=\u001b[0m \u001b[0mself\u001b[0m\u001b[0;34m.\u001b[0m\u001b[0m_data\u001b[0m\u001b[0;34m.\u001b[0m\u001b[0mget\u001b[0m\u001b[0;34m(\u001b[0m\u001b[0mitem\u001b[0m\u001b[0;34m)\u001b[0m\u001b[0;34m\u001b[0m\u001b[0m\n\u001b[0m\u001b[1;32m   1843\u001b[0m             \u001b[0mres\u001b[0m \u001b[0;34m=\u001b[0m \u001b[0mself\u001b[0m\u001b[0;34m.\u001b[0m\u001b[0m_box_item_values\u001b[0m\u001b[0;34m(\u001b[0m\u001b[0mitem\u001b[0m\u001b[0;34m,\u001b[0m \u001b[0mvalues\u001b[0m\u001b[0;34m)\u001b[0m\u001b[0;34m\u001b[0m\u001b[0m\n\u001b[1;32m   1844\u001b[0m             \u001b[0mcache\u001b[0m\u001b[0;34m[\u001b[0m\u001b[0mitem\u001b[0m\u001b[0;34m]\u001b[0m \u001b[0;34m=\u001b[0m \u001b[0mres\u001b[0m\u001b[0;34m\u001b[0m\u001b[0m\n",
      "\u001b[0;32m/anaconda3/lib/python3.6/site-packages/pandas/core/internals.py\u001b[0m in \u001b[0;36mget\u001b[0;34m(self, item, fastpath)\u001b[0m\n\u001b[1;32m   3841\u001b[0m \u001b[0;34m\u001b[0m\u001b[0m\n\u001b[1;32m   3842\u001b[0m             \u001b[0;32mif\u001b[0m \u001b[0;32mnot\u001b[0m \u001b[0misna\u001b[0m\u001b[0;34m(\u001b[0m\u001b[0mitem\u001b[0m\u001b[0;34m)\u001b[0m\u001b[0;34m:\u001b[0m\u001b[0;34m\u001b[0m\u001b[0m\n\u001b[0;32m-> 3843\u001b[0;31m                 \u001b[0mloc\u001b[0m \u001b[0;34m=\u001b[0m \u001b[0mself\u001b[0m\u001b[0;34m.\u001b[0m\u001b[0mitems\u001b[0m\u001b[0;34m.\u001b[0m\u001b[0mget_loc\u001b[0m\u001b[0;34m(\u001b[0m\u001b[0mitem\u001b[0m\u001b[0;34m)\u001b[0m\u001b[0;34m\u001b[0m\u001b[0m\n\u001b[0m\u001b[1;32m   3844\u001b[0m             \u001b[0;32melse\u001b[0m\u001b[0;34m:\u001b[0m\u001b[0;34m\u001b[0m\u001b[0m\n\u001b[1;32m   3845\u001b[0m                 \u001b[0mindexer\u001b[0m \u001b[0;34m=\u001b[0m \u001b[0mnp\u001b[0m\u001b[0;34m.\u001b[0m\u001b[0marange\u001b[0m\u001b[0;34m(\u001b[0m\u001b[0mlen\u001b[0m\u001b[0;34m(\u001b[0m\u001b[0mself\u001b[0m\u001b[0;34m.\u001b[0m\u001b[0mitems\u001b[0m\u001b[0;34m)\u001b[0m\u001b[0;34m)\u001b[0m\u001b[0;34m[\u001b[0m\u001b[0misna\u001b[0m\u001b[0;34m(\u001b[0m\u001b[0mself\u001b[0m\u001b[0;34m.\u001b[0m\u001b[0mitems\u001b[0m\u001b[0;34m)\u001b[0m\u001b[0;34m]\u001b[0m\u001b[0;34m\u001b[0m\u001b[0m\n",
      "\u001b[0;32m/anaconda3/lib/python3.6/site-packages/pandas/core/indexes/base.py\u001b[0m in \u001b[0;36mget_loc\u001b[0;34m(self, key, method, tolerance)\u001b[0m\n\u001b[1;32m   2525\u001b[0m                 \u001b[0;32mreturn\u001b[0m \u001b[0mself\u001b[0m\u001b[0;34m.\u001b[0m\u001b[0m_engine\u001b[0m\u001b[0;34m.\u001b[0m\u001b[0mget_loc\u001b[0m\u001b[0;34m(\u001b[0m\u001b[0mkey\u001b[0m\u001b[0;34m)\u001b[0m\u001b[0;34m\u001b[0m\u001b[0m\n\u001b[1;32m   2526\u001b[0m             \u001b[0;32mexcept\u001b[0m \u001b[0mKeyError\u001b[0m\u001b[0;34m:\u001b[0m\u001b[0;34m\u001b[0m\u001b[0m\n\u001b[0;32m-> 2527\u001b[0;31m                 \u001b[0;32mreturn\u001b[0m \u001b[0mself\u001b[0m\u001b[0;34m.\u001b[0m\u001b[0m_engine\u001b[0m\u001b[0;34m.\u001b[0m\u001b[0mget_loc\u001b[0m\u001b[0;34m(\u001b[0m\u001b[0mself\u001b[0m\u001b[0;34m.\u001b[0m\u001b[0m_maybe_cast_indexer\u001b[0m\u001b[0;34m(\u001b[0m\u001b[0mkey\u001b[0m\u001b[0;34m)\u001b[0m\u001b[0;34m)\u001b[0m\u001b[0;34m\u001b[0m\u001b[0m\n\u001b[0m\u001b[1;32m   2528\u001b[0m \u001b[0;34m\u001b[0m\u001b[0m\n\u001b[1;32m   2529\u001b[0m         \u001b[0mindexer\u001b[0m \u001b[0;34m=\u001b[0m \u001b[0mself\u001b[0m\u001b[0;34m.\u001b[0m\u001b[0mget_indexer\u001b[0m\u001b[0;34m(\u001b[0m\u001b[0;34m[\u001b[0m\u001b[0mkey\u001b[0m\u001b[0;34m]\u001b[0m\u001b[0;34m,\u001b[0m \u001b[0mmethod\u001b[0m\u001b[0;34m=\u001b[0m\u001b[0mmethod\u001b[0m\u001b[0;34m,\u001b[0m \u001b[0mtolerance\u001b[0m\u001b[0;34m=\u001b[0m\u001b[0mtolerance\u001b[0m\u001b[0;34m)\u001b[0m\u001b[0;34m\u001b[0m\u001b[0m\n",
      "\u001b[0;32mpandas/_libs/index.pyx\u001b[0m in \u001b[0;36mpandas._libs.index.IndexEngine.get_loc\u001b[0;34m()\u001b[0m\n",
      "\u001b[0;32mpandas/_libs/index.pyx\u001b[0m in \u001b[0;36mpandas._libs.index.IndexEngine.get_loc\u001b[0;34m()\u001b[0m\n",
      "\u001b[0;32mpandas/_libs/hashtable_class_helper.pxi\u001b[0m in \u001b[0;36mpandas._libs.hashtable.PyObjectHashTable.get_item\u001b[0;34m()\u001b[0m\n",
      "\u001b[0;32mpandas/_libs/hashtable_class_helper.pxi\u001b[0m in \u001b[0;36mpandas._libs.hashtable.PyObjectHashTable.get_item\u001b[0;34m()\u001b[0m\n",
      "\u001b[0;31mKeyError\u001b[0m: 'Price_log'"
     ]
    }
   ],
   "source": [
    "# Use diagnostic_plots python file to plot Year of manufacture results\n",
    "diagnostic_plots(clean_car_ad_dataset[['Year_of_manufacture', 'Engine_Size_l', 'Mileage_km', 'Fuel_type', 'Gearbox', 'Is_German','Is_BMW', 'Is_Mercedes_Benz', 'Is_French', 'Is_Japanese']], clean_car_ad_dataset['Price_log'])"
   ]
  },
  {
   "cell_type": "code",
   "execution_count": null,
   "metadata": {},
   "outputs": [],
   "source": [
    "model_cooks=car_ad_model_sms_all_fit.get_influence().cooks_distance[0]\n",
    "leverage=np.flip(np.argsort(model_cooks),0)\n",
    "max(model_cooks)"
   ]
  },
  {
   "cell_type": "markdown",
   "metadata": {},
   "source": [
    "### Let's normalize my data before I start messing around with Ridge and Lasso"
   ]
  },
  {
   "cell_type": "code",
   "execution_count": null,
   "metadata": {},
   "outputs": [],
   "source": [
    "from sklearn.preprocessing import StandardScaler\n",
    "SSC = StandardScaler()"
   ]
  },
  {
   "cell_type": "code",
   "execution_count": null,
   "metadata": {},
   "outputs": [],
   "source": [
    "car_ad_model_scaled = LinearRegression()\n",
    "\n",
    "X_all_train_scaled = SSC.fit_transform(X_all_train)\n",
    "X_all_test_scaled = SSC.fit_transform(X_all_test)"
   ]
  },
  {
   "cell_type": "code",
   "execution_count": null,
   "metadata": {},
   "outputs": [],
   "source": [
    "car_ad_model_scaled_fit = car_ad_model_scaled.fit(X_all_train_scaled, y_all_train)\n",
    "car_ad_model_scaled_fit.score(X_all_train_scaled, y_all_train)"
   ]
  },
  {
   "cell_type": "markdown",
   "metadata": {},
   "source": [
    "**Split the dataset using KFold**"
   ]
  },
  {
   "cell_type": "code",
   "execution_count": null,
   "metadata": {},
   "outputs": [],
   "source": [
    "kf_cross_val = KFold(n = len(X_all_train_scaled), n_folds = 10, shuffle = True)"
   ]
  },
  {
   "cell_type": "markdown",
   "metadata": {},
   "source": [
    "### Let's try regularization"
   ]
  },
  {
   "cell_type": "code",
   "execution_count": null,
   "metadata": {},
   "outputs": [],
   "source": [
    "alpha_list = [0.0, 1e-5, 1e-4, 1e-3, 1e-2, 1e-1, 1.0]\n",
    "final_scores = {}\n",
    "\n",
    "for alpha in alpha_list:\n",
    "    kf_score = []\n",
    "    for train, test in kf:\n",
    "        X_kf_train = X_train.iloc[train]\n",
    "        y_kf_train = y_train.iloc[train]\n",
    "        X_kf_test = X_train.iloc[test]\n",
    "        y_kf_test = y_test.iloc[test]\n",
    "        \n",
    "        "
   ]
  },
  {
   "cell_type": "markdown",
   "metadata": {},
   "source": [
    "**Ridge**"
   ]
  },
  {
   "cell_type": "code",
   "execution_count": null,
   "metadata": {},
   "outputs": [],
   "source": []
  },
  {
   "cell_type": "markdown",
   "metadata": {},
   "source": [
    "**Lasso**"
   ]
  },
  {
   "cell_type": "code",
   "execution_count": null,
   "metadata": {},
   "outputs": [],
   "source": []
  },
  {
   "cell_type": "markdown",
   "metadata": {},
   "source": [
    "**Elastic-Net**"
   ]
  },
  {
   "cell_type": "code",
   "execution_count": null,
   "metadata": {},
   "outputs": [],
   "source": [
    "model.fit(X, y).feature_importances_"
   ]
  },
  {
   "cell_type": "code",
   "execution_count": null,
   "metadata": {},
   "outputs": [],
   "source": []
  },
  {
   "cell_type": "code",
   "execution_count": null,
   "metadata": {},
   "outputs": [],
   "source": []
  },
  {
   "cell_type": "code",
   "execution_count": null,
   "metadata": {},
   "outputs": [],
   "source": []
  },
  {
   "cell_type": "code",
   "execution_count": null,
   "metadata": {},
   "outputs": [],
   "source": []
  },
  {
   "cell_type": "code",
   "execution_count": null,
   "metadata": {},
   "outputs": [],
   "source": [
    "#car_ad_model_fit = car_ad_model.fit(X_train, y_train)\n",
    "#print('The score on the training data', str(car_ad_model.score(X_train, y_train)))\n",
    "#print('The score on the testing data', str(car_ad_model_fit.score(X_test, y_test)))"
   ]
  }
 ],
 "metadata": {
  "kernelspec": {
   "display_name": "Python 3",
   "language": "python",
   "name": "python3"
  },
  "language_info": {
   "codemirror_mode": {
    "name": "ipython",
    "version": 3
   },
   "file_extension": ".py",
   "mimetype": "text/x-python",
   "name": "python",
   "nbconvert_exporter": "python",
   "pygments_lexer": "ipython3",
   "version": "3.6.5"
  }
 },
 "nbformat": 4,
 "nbformat_minor": 2
}
