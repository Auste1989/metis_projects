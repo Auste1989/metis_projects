{
 "cells": [
  {
   "cell_type": "markdown",
   "metadata": {},
   "source": [
    "## Project 2. Part 1"
   ]
  },
  {
   "cell_type": "markdown",
   "metadata": {},
   "source": [
    "**Use Selenium and BeautifulSoup**"
   ]
  },
  {
   "cell_type": "code",
   "execution_count": 234,
   "metadata": {},
   "outputs": [],
   "source": [
    "import requests\n",
    "from bs4 import BeautifulSoup\n",
    "from IPython.core.display import display, HTML"
   ]
  },
  {
   "cell_type": "markdown",
   "metadata": {},
   "source": [
    "### Get the information for a few cars (manual html input)"
   ]
  },
  {
   "cell_type": "code",
   "execution_count": 260,
   "metadata": {},
   "outputs": [],
   "source": [
    "#Code that works for a given url (for one car ad)\n",
    "def make_soup(html):\n",
    "    \"\"\"Generates and return a soup object based on a given html file\"\"\"\n",
    "    source_code = requests.get(html)\n",
    "    soup = BeautifulSoup(source_code.text, 'html5lib')\n",
    "    return soup\n"
   ]
  },
  {
   "cell_type": "code",
   "execution_count": 283,
   "metadata": {},
   "outputs": [],
   "source": [
    "#SCRAPE CAR MAKE AND MODEL AND ENGINE SIZE \n",
    "def get_make_and_engine(soup, cars_dict):\n",
    "    \"\"\"Given an input soup object retrieves the advert title (containing Make and Engine size)\n",
    "    Returns a dictionary with Make and Engine keys\"\"\"\n",
    "    dividers = soup.find_all('div', {'class', 'col-5 classifieds-info'})\n",
    "    cars = cars_dict\n",
    "    for div in dividers:\n",
    "        for title in div('h1'):\n",
    "            title_list = title.text.split(',')\n",
    "            for i in range(3):\n",
    "                if i == 0:\n",
    "                    try:\n",
    "                        cars['Make'].append(title_list[i])\n",
    "                    except:\n",
    "                        cars['Make'] = [title_list[i]]\n",
    "                elif i == 1:\n",
    "                    try:\n",
    "                        cars['Engine_Size'].append(title_list[i])\n",
    "                    except:\n",
    "                        cars['Engine_Size'] = [title_list[i]]\n",
    "        return cars    \n"
   ]
  },
  {
   "cell_type": "code",
   "execution_count": 285,
   "metadata": {},
   "outputs": [],
   "source": [
    "#SCRAPE THE REST OF THE FEATURES\n",
    "def get_other_features(soup, cars_dict):\n",
    "    \"\"\"Retrieves remaining features of a car using input soup object\n",
    "    Returns an updated cars dictionary\"\"\"\n",
    "    cars = cars_dict\n",
    "    params = soup.find_all('table', {'class', 'announcement-parameters'})\n",
    "    for param in params:\n",
    "        for tr in param('tr'):\n",
    "            for th in tr('th'):\n",
    "                col_title = th.text\n",
    "                for td in tr('td'):\n",
    "                    col_value = td.text\n",
    "                    try:\n",
    "                        cars[col_title].append(col_value)\n",
    "                    except:\n",
    "                        cars[col_title] = [col_value]\n",
    "    return cars"
   ]
  },
  {
   "cell_type": "code",
   "execution_count": 286,
   "metadata": {},
   "outputs": [],
   "source": [
    "def scrape(soups, cars):\n",
    "    \"\"\"Given the soups file this function retrieves all the feature columns about each car\"\"\"\n",
    "    #Retrieve the car make, model and engine size\n",
    "    cars = get_make_and_engine(soups, cars)\n",
    "\n",
    "    #Retrieve the rest of the features\n",
    "    cars = get_other_features(soups, cars)\n",
    "\n",
    "    return cars"
   ]
  },
  {
   "cell_type": "code",
   "execution_count": 291,
   "metadata": {},
   "outputs": [
    {
     "name": "stdout",
     "output_type": "stream",
     "text": [
      "2\n"
     ]
    }
   ],
   "source": [
    "#Manual HTML list FOR NOW\n",
    "html_list = ['https://en.autoplius.lt/ads/bmw-520-2-0-l-wagon-2018-diesel-7160889.html', 'https://en.autoplius.lt/ads/volvo-s40-1-6-l-saloon-sedan-2006-diesel-7355867.html']\n",
    "\n",
    "#Generate soup object list\n",
    "soups = make_soups(html_list)\n",
    "\n",
    "cars = {}\n",
    "for soup in soups:\n",
    "    final_dataset = scrape(soup, cars)\n",
    "\n",
    "print(len(final_dataset['Make']))\n",
    "\n",
    "#have to be careful with missing data, because with a dictionary it's hard to tell \n",
    "#which record is actually missing a value. \n",
    "#In my case though, I will be dropping any columns that aren't complete anyway"
   ]
  },
  {
   "cell_type": "markdown",
   "metadata": {},
   "source": [
    "## Testing"
   ]
  },
  {
   "cell_type": "code",
   "execution_count": 282,
   "metadata": {},
   "outputs": [
    {
     "name": "stdout",
     "output_type": "stream",
     "text": [
      "https://en.autoplius.lt/ads/bmw-520-2-0-l-wagon-2018-diesel-7160889.html\n",
      "<h1>BMW 520, 2.0 l., wagon</h1>\n",
      "['BMW 520', ' 2.0 l.', ' wagon']\n",
      "https://en.autoplius.lt/ads/volvo-s40-1-6-l-saloon-sedan-2006-diesel-7355867.html\n",
      "<h1>Volvo S40, 1.6 l., saloon / sedan</h1>\n",
      "['Volvo S40', ' 1.6 l.', ' saloon / sedan']\n"
     ]
    }
   ],
   "source": [
    "# cars = {}\n",
    "# for html in html_list:\n",
    "#     print(html)\n",
    "#     soup = make_soup(html)\n",
    "#     dividers = soup.find_all('div', {'class', 'col-5 classifieds-info'})\n",
    "#     for div in dividers:\n",
    "#         for title in div('h1'):\n",
    "#             print(title)\n",
    "#             title_list = title.text.split(',')\n",
    "#             print(title_list)\n",
    "#             for i in range(3):\n",
    "#                 if i == 0:\n",
    "#                     try:\n",
    "#                         cars['Make'].append(title_list[i])\n",
    "#                     except:\n",
    "#                         cars['Make'] = [title_list[i]]\n",
    "#                 elif i == 1:\n",
    "#                     try:\n",
    "#                         cars['Engine_Size'].append(title_list[i])\n",
    "#                     except:\n",
    "#                         cars['Engine_Size'] = [title_list[i]]"
   ]
  },
  {
   "cell_type": "markdown",
   "metadata": {},
   "source": [
    "## Use selenium to step through website"
   ]
  },
  {
   "cell_type": "code",
   "execution_count": 299,
   "metadata": {},
   "outputs": [],
   "source": [
    "autoplius_url = 'https://en.autoplius.lt/'\n",
    "\n",
    "from selenium import webdriver\n",
    "from selenium.webdriver.common.keys import Keys\n",
    "import time\n",
    "import os\n",
    "\n",
    "chromedriver = \"/Applications/chromedriver\"                     #  path to the chromedriver executable\n",
    "os.environ[\"webdriver.chrome.driver\"] = chromedriver\n",
    "\n",
    "driver = webdriver.Chrome(chromedriver)\n",
    "driver.get(autoplius_url)"
   ]
  },
  {
   "cell_type": "code",
   "execution_count": 310,
   "metadata": {},
   "outputs": [],
   "source": [
    "#Now filter on cars (not minivans, or trucks)\n",
    "car_type_form = driver.find_element_by_id(\"cats_search_1\")\n",
    "car_type_form.send_keys(\"Cars\")\n",
    "car_type_form.send_keys(Keys.RETURN)"
   ]
  },
  {
   "cell_type": "code",
   "execution_count": 363,
   "metadata": {},
   "outputs": [],
   "source": [
    "#Find search button and click it\n",
    "search_button = driver.find_element_by_link_text('Search')\n",
    "search_button.click()"
   ]
  },
  {
   "cell_type": "code",
   "execution_count": 367,
   "metadata": {},
   "outputs": [
    {
     "name": "stdout",
     "output_type": "stream",
     "text": [
      "https://en.autoplius.lt/ads/used-cars?page_nr=1\n"
     ]
    }
   ],
   "source": [
    "#Retrieve htmls from one Page\n",
    "current_url = driver.current_url\n",
    "print(current_url)\n",
    "\n"
   ]
  },
  {
   "cell_type": "code",
   "execution_count": null,
   "metadata": {},
   "outputs": [],
   "source": []
  }
 ],
 "metadata": {
  "kernelspec": {
   "display_name": "Python 3",
   "language": "python",
   "name": "python3"
  },
  "language_info": {
   "codemirror_mode": {
    "name": "ipython",
    "version": 3
   },
   "file_extension": ".py",
   "mimetype": "text/x-python",
   "name": "python",
   "nbconvert_exporter": "python",
   "pygments_lexer": "ipython3",
   "version": "3.6.5"
  }
 },
 "nbformat": 4,
 "nbformat_minor": 2
}
